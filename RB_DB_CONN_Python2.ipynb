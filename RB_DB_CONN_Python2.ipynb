{
 "cells": [
  {
   "cell_type": "code",
   "execution_count": 16,
   "metadata": {},
   "outputs": [],
   "source": [
    "from pygraylog.graylogapi import GraylogAPI\n",
    "import json\n",
    "import sys"
   ]
  },
  {
   "cell_type": "code",
   "execution_count": 3,
   "metadata": {},
   "outputs": [],
   "source": [
    "log_level = 0"
   ]
  },
  {
   "cell_type": "code",
   "execution_count": 4,
   "metadata": {},
   "outputs": [],
   "source": [
    "graylog_con={\n",
    "        \"user\":\"merger\",\n",
    "        \"password\":\"pc@pM8rger\",\n",
    "        \"url\":\"http://graylog-ui.roamability.com:9000/api\"\n",
    "    }"
   ]
  },
  {
   "cell_type": "code",
   "execution_count": 5,
   "metadata": {},
   "outputs": [],
   "source": [
    "api = GraylogAPI(\n",
    "    graylog_con[\"url\"],\n",
    "    graylog_con[\"user\"], \n",
    "    graylog_con[\"password\"])"
   ]
  },
  {
   "cell_type": "code",
   "execution_count": 6,
   "metadata": {},
   "outputs": [],
   "source": [
    "import datetime\n",
    "#format like 2017-03-06T16:28\n",
    "dateFrom = datetime.datetime.strptime('2018-01-12T05:00', '%Y-%m-%dT%H:%M')\n",
    "dateTo = datetime.datetime.strptime('2018-01-12T12:00', '%Y-%m-%dT%H:%M')\n",
    "query='protocol:ss7 AND opCode_localValue:2 AND TCAP_type:Begin AND e212_imsi:425191201068102 AND tcap_otid:\"a2:2a:0c:40\"'"
   ]
  },
  {
   "cell_type": "code",
   "execution_count": 12,
   "metadata": {},
   "outputs": [],
   "source": [
    "gres=api.search.universal.absolute.get(query=query, from_=dateFrom, to=dateTo)"
   ]
  },
  {
   "cell_type": "code",
   "execution_count": 13,
   "metadata": {},
   "outputs": [
    {
     "data": {
      "text/plain": [
       "u'{\"query\":\"protocol:ss7 AND opCode_localValue:2 AND TCAP_type:Begin AND e212_imsi:425191201068102 AND tcap_otid:\\\\\"a2:2a:0c:40\\\\\"\",\"built_query\":\"{\\\\\"from\\\\\":0,\\\\\"size\\\\\":150,\\\\\"query\\\\\":{\\\\\"bool\\\\\":{\\\\\"must\\\\\":{\\\\\"query_string\\\\\":{\\\\\"query\\\\\":\\\\\"protocol:ss7 AND opCode_localValue:2 AND TCAP_type:Begin AND e212_imsi:425191201068102 AND tcap_otid:\\\\\\\\\\\\\"a2:2a:0c:40\\\\\\\\\\\\\"\\\\\",\\\\\"allow_leading_wildcard\\\\\":false}},\\\\\"filter\\\\\":{\\\\\"bool\\\\\":{\\\\\"must\\\\\":{\\\\\"range\\\\\":{\\\\\"timestamp\\\\\":{\\\\\"from\\\\\":\\\\\"2018-01-12 04:00:00.000\\\\\",\\\\\"to\\\\\":\\\\\"2018-01-12 11:00:00.000\\\\\",\\\\\"include_lower\\\\\":true,\\\\\"include_upper\\\\\":true}}}}}}},\\\\\"sort\\\\\":[{\\\\\"timestamp\\\\\":{\\\\\"order\\\\\":\\\\\"desc\\\\\"}}]}\",\"used_indices\":[{\"index_name\":\"graylog_41\",\"begin\":\"1970-01-01T00:00:00.000Z\",\"end\":\"1970-01-01T00:00:00.000Z\",\"calculated_at\":\"2018-01-22T18:31:43.745Z\",\"took_ms\":0},{\"index_name\":\"graylog_36\",\"begin\":\"2018-01-11T20:58:35.461Z\",\"end\":\"2018-01-14T00:41:28.217Z\",\"calculated_at\":\"2018-01-14T00:43:34.379Z\",\"took_ms\":4767}],\"messages\":[{\"highlight_ranges\":null,\"message\":{\"e212_imsi\":\"425191201068102\",\"m3ua_DPC\":\"7138\",\"sccp_called_nai\":\"4\",\"sccp_called_digits\":\"972559912010681\",\"e212_mcc\":\"425\",\"collector_node_id\":\"graylog-collector-sidecar\",\"gl2_remote_ip\":\"172.19.11.192\",\"gl2_remote_port\":46264,\"source\":\"admin\",\"type\":\"pcap\",\"gl2_source_input\":\"5a12819aab324f51d795a633\",\"protocol\":\"ss7\",\"sccp_calling_ssn\":\"7\",\"file\":\"/mnt/tracing2ch/sigtran-public/sigtran-public_06090_20180112070835.pcap\",\"opCode_localValue\":\"2\",\"gl2_source_node\":\"be115c61-9b16-42d7-810c-8f0e4af6a69c\",\"sccp_calling_nai\":\"4\",\"sccp_called_ssn\":\"6\",\"m3ua_OPC\":\"701\",\"timestamp\":\"2018-01-12T06:09:19.744Z\",\"frame_time_epoch\":\"1515737359.744715747\",\"tcap_otid\":\"a2:2a:0c:40\",\"gl2_source_collector\":\"b3d2019c-476e-439e-8764-043b24bcda9d\",\"sccp_calling_ri\":\"0\",\"offset\":911662,\"e164_msisdn\":\"972559900040\",\"sccp_calling_digits\":\"972559900040\",\"sccp_message_type\":\"0x00000009\",\"tcap_application_context_name\":\"0.4.0.0.1.0.1.3\",\"streams\":[\"000000000000000000000001\"],\"input_type\":\"log\",\"e212_mnc\":\"19\",\"message\":\"12/01/2018 07:09:19.744716 \\\\tprotocol=ss7\\\\tfile=/mnt/tracing2ch/sigtran-public/sigtran-public_06090_20180112070835.pcap\\\\tframe_time_epoch=1515737359.744715747\\\\tsccp_message_type=0x00000009\\\\tgsm_map_ms_supportedCamelPhases=c0\\\\topCode_localValue=2\\\\te212_mnc=19\\\\tsccp_calling_nai=4\\\\te212_mcc=425\\\\tsccp_class=1\\\\tTCAP_type=Begin\\\\tsccp_called_digits=972559912010681\\\\te164_msisdn=972559900040\\\\tgsm_map_nature_of_number=1\\\\tm3ua_DPC=7138\\\\tsccp_called_ri=0\\\\tsccp_calling_ssn=7\\\\tsccp_calling_ri=0\\\\ttcap_otid=a2:2a:0c:40\\\\tsccp_called_ssn=6\\\\ttcap_application_context_name=0.4.0.0.1.0.1.3\\\\te212_imsi=425191201068102\\\\tsccp_calling_digits=972559900040\\\\tframe_number=3369\\\\tm3ua_OPC=701\\\\tsccp_called_nai=4\\\\tprotocol_name=map\",\"frame_number\":\"3369\",\"tags\":[\"tracer\"],\"gsm_map_ms_supportedCamelPhases\":\"c0\",\"sccp_class\":\"1\",\"sccp_called_ri\":\"0\",\"TCAP_type\":\"Begin\",\"name\":\"pcap-parser\",\"_id\":\"d39e7de2-f760-11e7-8ae9-00505698f35d\",\"facility\":\"filebeat\",\"gsm_map_nature_of_number\":\"1\",\"protocol_name\":\"map\"},\"index\":\"graylog_36\",\"decoration_stats\":null}],\"fields\":[\"e212_imsi\",\"m3ua_DPC\",\"sccp_called_nai\",\"sccp_called_digits\",\"e212_mcc\",\"collector_node_id\",\"source\",\"type\",\"protocol\",\"sccp_calling_ssn\",\"file\",\"opCode_localValue\",\"sccp_calling_nai\",\"sccp_called_ssn\",\"m3ua_OPC\",\"timestamp\",\"frame_time_epoch\",\"tcap_otid\",\"sccp_calling_ri\",\"offset\",\"e164_msisdn\",\"sccp_calling_digits\",\"sccp_message_type\",\"tcap_application_context_name\",\"input_type\",\"e212_mnc\",\"message\",\"frame_number\",\"tags\",\"gsm_map_ms_supportedCamelPhases\",\"sccp_class\",\"sccp_called_ri\",\"TCAP_type\",\"name\",\"facility\",\"gsm_map_nature_of_number\",\"protocol_name\"],\"time\":3,\"total_results\":1,\"from\":\"2018-01-12T04:00:00.000Z\",\"to\":\"2018-01-12T11:00:00.000Z\",\"decoration_stats\":null}'"
      ]
     },
     "execution_count": 13,
     "metadata": {},
     "output_type": "execute_result"
    }
   ],
   "source": [
    "gres"
   ]
  },
  {
   "cell_type": "code",
   "execution_count": 9,
   "metadata": {},
   "outputs": [],
   "source": [
    "def outLog(message, level=1):\n",
    "    if(level <= log_level):\n",
    "        print (message)\n",
    "        sys.stdout.flush()"
   ]
  },
  {
   "cell_type": "code",
   "execution_count": 10,
   "metadata": {},
   "outputs": [],
   "source": [
    "def LoadGraylogResult(exportsearch_results):\n",
    "        jsonResult = json.loads(exportsearch_results)\n",
    "        outputResult = list()\n",
    "        i=0\n",
    "        if \"total_results\" in jsonResult:\n",
    "            outLog(\"Graylog search found {} messages\".format(jsonResult[\"total_results\"]),0)\n",
    "\n",
    "        # Get the results and store them\n",
    "            for result in jsonResult[\"messages\"]:  \n",
    "                if \"message\" in  result and isinstance(result[\"message\"], dict):\n",
    "                    outputResult.append(result[\"message\"])\n",
    "                    i+=1\n",
    "                    if i%100==0: outLog(\"loaded {} records from Graylog\".format(i),0)\n",
    "            outLog(\"Graylog search load {} messages\".format(len(outputResult)),0)\n",
    "        else:\n",
    "            outLog(\"Graylog search error: {}\".format(exportsearch_results),0)\n",
    "\n",
    "        return outputResult"
   ]
  },
  {
   "cell_type": "code",
   "execution_count": 17,
   "metadata": {},
   "outputs": [
    {
     "name": "stdout",
     "output_type": "stream",
     "text": [
      "Graylog search found 1 messages\n",
      "Graylog search load 1 messages\n"
     ]
    }
   ],
   "source": [
    "pgres=LoadGraylogResult(gres)"
   ]
  },
  {
   "cell_type": "code",
   "execution_count": 18,
   "metadata": {},
   "outputs": [
    {
     "data": {
      "text/plain": [
       "u'425191201068102'"
      ]
     },
     "execution_count": 18,
     "metadata": {},
     "output_type": "execute_result"
    }
   ],
   "source": [
    "pgres[0]['e212_imsi']"
   ]
  }
 ],
 "metadata": {
  "kernelspec": {
   "display_name": "Python 2",
   "language": "python",
   "name": "python2"
  },
  "language_info": {
   "codemirror_mode": {
    "name": "ipython",
    "version": 2
   },
   "file_extension": ".py",
   "mimetype": "text/x-python",
   "name": "python",
   "nbconvert_exporter": "python",
   "pygments_lexer": "ipython2",
   "version": "2.7.14"
  }
 },
 "nbformat": 4,
 "nbformat_minor": 2
}
