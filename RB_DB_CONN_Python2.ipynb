{
 "cells": [
  {
   "cell_type": "code",
   "execution_count": 35,
   "metadata": {},
   "outputs": [],
   "source": [
    "from pygraylog.graylogapi import GraylogAPI\n",
    "import json\n",
    "import sys\n",
    "import numpy as np\n",
    "import pandas as pd"
   ]
  },
  {
   "cell_type": "code",
   "execution_count": 36,
   "metadata": {},
   "outputs": [],
   "source": [
    "log_level = 0"
   ]
  },
  {
   "cell_type": "code",
   "execution_count": 37,
   "metadata": {},
   "outputs": [],
   "source": [
    "graylog_con={\n",
    "        \"user\":\"merger\",\n",
    "        \"password\":\"pc@pM8rger\",\n",
    "        \"url\":\"http://graylog-ui.roamability.com:9000/api\"\n",
    "    }"
   ]
  },
  {
   "cell_type": "code",
   "execution_count": 38,
   "metadata": {},
   "outputs": [],
   "source": [
    "api = GraylogAPI(\n",
    "    graylog_con[\"url\"],\n",
    "    graylog_con[\"user\"], \n",
    "    graylog_con[\"password\"])"
   ]
  },
  {
   "cell_type": "code",
   "execution_count": 39,
   "metadata": {},
   "outputs": [],
   "source": [
    "import datetime\n",
    "#format like 2017-03-06T16:28\n",
    "dateFrom = datetime.datetime.strptime('2018-01-12T05:00', '%Y-%m-%dT%H:%M')\n",
    "dateTo = datetime.datetime.strptime('2018-01-12T12:00', '%Y-%m-%dT%H:%M')\n",
    "query='protocol:ss7 AND opCode_localValue:2 AND TCAP_type:Begin AND e212_imsi:425191201068102 AND tcap_otid:\"a2:2a:0c:40\"'"
   ]
  },
  {
   "cell_type": "code",
   "execution_count": 40,
   "metadata": {},
   "outputs": [],
   "source": [
    "gres=api.search.universal.absolute.get(query=query, from_=dateFrom, to=dateTo)"
   ]
  },
  {
   "cell_type": "code",
   "execution_count": 41,
   "metadata": {},
   "outputs": [
    {
     "data": {
      "text/plain": [
       "u'{\"query\":\"protocol:ss7 AND opCode_localValue:2 AND TCAP_type:Begin AND e212_imsi:425191201068102 AND tcap_otid:\\\\\"a2:2a:0c:40\\\\\"\",\"built_query\":\"{\\\\\"from\\\\\":0,\\\\\"size\\\\\":150,\\\\\"query\\\\\":{\\\\\"bool\\\\\":{\\\\\"must\\\\\":{\\\\\"query_string\\\\\":{\\\\\"query\\\\\":\\\\\"protocol:ss7 AND opCode_localValue:2 AND TCAP_type:Begin AND e212_imsi:425191201068102 AND tcap_otid:\\\\\\\\\\\\\"a2:2a:0c:40\\\\\\\\\\\\\"\\\\\",\\\\\"allow_leading_wildcard\\\\\":false}},\\\\\"filter\\\\\":{\\\\\"bool\\\\\":{\\\\\"must\\\\\":{\\\\\"range\\\\\":{\\\\\"timestamp\\\\\":{\\\\\"from\\\\\":\\\\\"2018-01-12 04:00:00.000\\\\\",\\\\\"to\\\\\":\\\\\"2018-01-12 11:00:00.000\\\\\",\\\\\"include_lower\\\\\":true,\\\\\"include_upper\\\\\":true}}}}}}},\\\\\"sort\\\\\":[{\\\\\"timestamp\\\\\":{\\\\\"order\\\\\":\\\\\"desc\\\\\"}}]}\",\"used_indices\":[{\"index_name\":\"graylog_41\",\"begin\":\"1970-01-01T00:00:00.000Z\",\"end\":\"1970-01-01T00:00:00.000Z\",\"calculated_at\":\"2018-01-22T18:31:43.745Z\",\"took_ms\":0},{\"index_name\":\"graylog_36\",\"begin\":\"2018-01-11T20:58:35.461Z\",\"end\":\"2018-01-14T00:41:28.217Z\",\"calculated_at\":\"2018-01-14T00:43:34.379Z\",\"took_ms\":4767}],\"messages\":[{\"highlight_ranges\":null,\"message\":{\"e212_imsi\":\"425191201068102\",\"m3ua_DPC\":\"7138\",\"sccp_called_nai\":\"4\",\"sccp_called_digits\":\"972559912010681\",\"e212_mcc\":\"425\",\"collector_node_id\":\"graylog-collector-sidecar\",\"gl2_remote_ip\":\"172.19.11.192\",\"gl2_remote_port\":46264,\"source\":\"admin\",\"type\":\"pcap\",\"gl2_source_input\":\"5a12819aab324f51d795a633\",\"protocol\":\"ss7\",\"sccp_calling_ssn\":\"7\",\"file\":\"/mnt/tracing2ch/sigtran-public/sigtran-public_06090_20180112070835.pcap\",\"opCode_localValue\":\"2\",\"gl2_source_node\":\"be115c61-9b16-42d7-810c-8f0e4af6a69c\",\"sccp_calling_nai\":\"4\",\"sccp_called_ssn\":\"6\",\"m3ua_OPC\":\"701\",\"timestamp\":\"2018-01-12T06:09:19.744Z\",\"frame_time_epoch\":\"1515737359.744715747\",\"tcap_otid\":\"a2:2a:0c:40\",\"gl2_source_collector\":\"b3d2019c-476e-439e-8764-043b24bcda9d\",\"sccp_calling_ri\":\"0\",\"offset\":911662,\"e164_msisdn\":\"972559900040\",\"sccp_calling_digits\":\"972559900040\",\"sccp_message_type\":\"0x00000009\",\"tcap_application_context_name\":\"0.4.0.0.1.0.1.3\",\"streams\":[\"000000000000000000000001\"],\"input_type\":\"log\",\"e212_mnc\":\"19\",\"message\":\"12/01/2018 07:09:19.744716 \\\\tprotocol=ss7\\\\tfile=/mnt/tracing2ch/sigtran-public/sigtran-public_06090_20180112070835.pcap\\\\tframe_time_epoch=1515737359.744715747\\\\tsccp_message_type=0x00000009\\\\tgsm_map_ms_supportedCamelPhases=c0\\\\topCode_localValue=2\\\\te212_mnc=19\\\\tsccp_calling_nai=4\\\\te212_mcc=425\\\\tsccp_class=1\\\\tTCAP_type=Begin\\\\tsccp_called_digits=972559912010681\\\\te164_msisdn=972559900040\\\\tgsm_map_nature_of_number=1\\\\tm3ua_DPC=7138\\\\tsccp_called_ri=0\\\\tsccp_calling_ssn=7\\\\tsccp_calling_ri=0\\\\ttcap_otid=a2:2a:0c:40\\\\tsccp_called_ssn=6\\\\ttcap_application_context_name=0.4.0.0.1.0.1.3\\\\te212_imsi=425191201068102\\\\tsccp_calling_digits=972559900040\\\\tframe_number=3369\\\\tm3ua_OPC=701\\\\tsccp_called_nai=4\\\\tprotocol_name=map\",\"frame_number\":\"3369\",\"tags\":[\"tracer\"],\"gsm_map_ms_supportedCamelPhases\":\"c0\",\"sccp_class\":\"1\",\"sccp_called_ri\":\"0\",\"TCAP_type\":\"Begin\",\"name\":\"pcap-parser\",\"_id\":\"d39e7de2-f760-11e7-8ae9-00505698f35d\",\"facility\":\"filebeat\",\"gsm_map_nature_of_number\":\"1\",\"protocol_name\":\"map\"},\"index\":\"graylog_36\",\"decoration_stats\":null}],\"fields\":[\"e212_imsi\",\"m3ua_DPC\",\"sccp_called_nai\",\"sccp_called_digits\",\"e212_mcc\",\"collector_node_id\",\"source\",\"type\",\"protocol\",\"sccp_calling_ssn\",\"file\",\"opCode_localValue\",\"sccp_calling_nai\",\"sccp_called_ssn\",\"m3ua_OPC\",\"timestamp\",\"frame_time_epoch\",\"tcap_otid\",\"sccp_calling_ri\",\"offset\",\"e164_msisdn\",\"sccp_calling_digits\",\"sccp_message_type\",\"tcap_application_context_name\",\"input_type\",\"e212_mnc\",\"message\",\"frame_number\",\"tags\",\"gsm_map_ms_supportedCamelPhases\",\"sccp_class\",\"sccp_called_ri\",\"TCAP_type\",\"name\",\"facility\",\"gsm_map_nature_of_number\",\"protocol_name\"],\"time\":385,\"total_results\":1,\"from\":\"2018-01-12T04:00:00.000Z\",\"to\":\"2018-01-12T11:00:00.000Z\",\"decoration_stats\":null}'"
      ]
     },
     "execution_count": 41,
     "metadata": {},
     "output_type": "execute_result"
    }
   ],
   "source": [
    "gres"
   ]
  },
  {
   "cell_type": "code",
   "execution_count": 42,
   "metadata": {},
   "outputs": [],
   "source": [
    "def outLog(message, level=1):\n",
    "    if(level <= log_level):\n",
    "        print (message)\n",
    "        sys.stdout.flush()"
   ]
  },
  {
   "cell_type": "code",
   "execution_count": 43,
   "metadata": {},
   "outputs": [],
   "source": [
    "def LoadGraylogResult(exportsearch_results):\n",
    "        jsonResult = json.loads(exportsearch_results)\n",
    "        outputResult = list()\n",
    "        i=0\n",
    "        if \"total_results\" in jsonResult:\n",
    "            outLog(\"Graylog search found {} messages\".format(jsonResult[\"total_results\"]),0)\n",
    "\n",
    "        # Get the results and store them\n",
    "            for result in jsonResult[\"messages\"]:  \n",
    "                if \"message\" in  result and isinstance(result[\"message\"], dict):\n",
    "                    outputResult.append(result[\"message\"])\n",
    "                    i+=1\n",
    "                    if i%100==0: outLog(\"loaded {} records from Graylog\".format(i),0)\n",
    "            outLog(\"Graylog search load {} messages\".format(len(outputResult)),0)\n",
    "        else:\n",
    "            outLog(\"Graylog search error: {}\".format(exportsearch_results),0)\n",
    "\n",
    "        return outputResult"
   ]
  },
  {
   "cell_type": "code",
   "execution_count": 44,
   "metadata": {
    "scrolled": true
   },
   "outputs": [
    {
     "name": "stdout",
     "output_type": "stream",
     "text": [
      "Graylog search found 1 messages\n",
      "Graylog search load 1 messages\n"
     ]
    }
   ],
   "source": [
    "pgres=LoadGraylogResult(gres)"
   ]
  },
  {
   "cell_type": "code",
   "execution_count": 45,
   "metadata": {},
   "outputs": [
    {
     "data": {
      "text/plain": [
       "[{u'TCAP_type': u'Begin',\n",
       "  u'_id': u'd39e7de2-f760-11e7-8ae9-00505698f35d',\n",
       "  u'collector_node_id': u'graylog-collector-sidecar',\n",
       "  u'e164_msisdn': u'972559900040',\n",
       "  u'e212_imsi': u'425191201068102',\n",
       "  u'e212_mcc': u'425',\n",
       "  u'e212_mnc': u'19',\n",
       "  u'facility': u'filebeat',\n",
       "  u'file': u'/mnt/tracing2ch/sigtran-public/sigtran-public_06090_20180112070835.pcap',\n",
       "  u'frame_number': u'3369',\n",
       "  u'frame_time_epoch': u'1515737359.744715747',\n",
       "  u'gl2_remote_ip': u'172.19.11.192',\n",
       "  u'gl2_remote_port': 46264,\n",
       "  u'gl2_source_collector': u'b3d2019c-476e-439e-8764-043b24bcda9d',\n",
       "  u'gl2_source_input': u'5a12819aab324f51d795a633',\n",
       "  u'gl2_source_node': u'be115c61-9b16-42d7-810c-8f0e4af6a69c',\n",
       "  u'gsm_map_ms_supportedCamelPhases': u'c0',\n",
       "  u'gsm_map_nature_of_number': u'1',\n",
       "  u'input_type': u'log',\n",
       "  u'm3ua_DPC': u'7138',\n",
       "  u'm3ua_OPC': u'701',\n",
       "  u'message': u'12/01/2018 07:09:19.744716 \\tprotocol=ss7\\tfile=/mnt/tracing2ch/sigtran-public/sigtran-public_06090_20180112070835.pcap\\tframe_time_epoch=1515737359.744715747\\tsccp_message_type=0x00000009\\tgsm_map_ms_supportedCamelPhases=c0\\topCode_localValue=2\\te212_mnc=19\\tsccp_calling_nai=4\\te212_mcc=425\\tsccp_class=1\\tTCAP_type=Begin\\tsccp_called_digits=972559912010681\\te164_msisdn=972559900040\\tgsm_map_nature_of_number=1\\tm3ua_DPC=7138\\tsccp_called_ri=0\\tsccp_calling_ssn=7\\tsccp_calling_ri=0\\ttcap_otid=a2:2a:0c:40\\tsccp_called_ssn=6\\ttcap_application_context_name=0.4.0.0.1.0.1.3\\te212_imsi=425191201068102\\tsccp_calling_digits=972559900040\\tframe_number=3369\\tm3ua_OPC=701\\tsccp_called_nai=4\\tprotocol_name=map',\n",
       "  u'name': u'pcap-parser',\n",
       "  u'offset': 911662,\n",
       "  u'opCode_localValue': u'2',\n",
       "  u'protocol': u'ss7',\n",
       "  u'protocol_name': u'map',\n",
       "  u'sccp_called_digits': u'972559912010681',\n",
       "  u'sccp_called_nai': u'4',\n",
       "  u'sccp_called_ri': u'0',\n",
       "  u'sccp_called_ssn': u'6',\n",
       "  u'sccp_calling_digits': u'972559900040',\n",
       "  u'sccp_calling_nai': u'4',\n",
       "  u'sccp_calling_ri': u'0',\n",
       "  u'sccp_calling_ssn': u'7',\n",
       "  u'sccp_class': u'1',\n",
       "  u'sccp_message_type': u'0x00000009',\n",
       "  u'source': u'admin',\n",
       "  u'streams': [u'000000000000000000000001'],\n",
       "  u'tags': [u'tracer'],\n",
       "  u'tcap_application_context_name': u'0.4.0.0.1.0.1.3',\n",
       "  u'tcap_otid': u'a2:2a:0c:40',\n",
       "  u'timestamp': u'2018-01-12T06:09:19.744Z',\n",
       "  u'type': u'pcap'}]"
      ]
     },
     "execution_count": 45,
     "metadata": {},
     "output_type": "execute_result"
    }
   ],
   "source": [
    "pgres"
   ]
  },
  {
   "cell_type": "code",
   "execution_count": 50,
   "metadata": {},
   "outputs": [],
   "source": [
    "data=pgres[0]"
   ]
  },
  {
   "cell_type": "code",
   "execution_count": 52,
   "metadata": {},
   "outputs": [
    {
     "data": {
      "text/plain": [
       "u'425191201068102'"
      ]
     },
     "execution_count": 52,
     "metadata": {},
     "output_type": "execute_result"
    }
   ],
   "source": [
    "data['e212_imsi']"
   ]
  },
  {
   "cell_type": "code",
   "execution_count": 53,
   "metadata": {},
   "outputs": [
    {
     "data": {
      "text/html": [
       "<div>\n",
       "<style scoped>\n",
       "    .dataframe tbody tr th:only-of-type {\n",
       "        vertical-align: middle;\n",
       "    }\n",
       "\n",
       "    .dataframe tbody tr th {\n",
       "        vertical-align: top;\n",
       "    }\n",
       "\n",
       "    .dataframe thead th {\n",
       "        text-align: right;\n",
       "    }\n",
       "</style>\n",
       "<table border=\"1\" class=\"dataframe\">\n",
       "  <thead>\n",
       "    <tr style=\"text-align: right;\">\n",
       "      <th></th>\n",
       "      <th>sccp_class</th>\n",
       "      <th>e164_msisdn</th>\n",
       "      <th>protocol</th>\n",
       "      <th>gl2_source_collector</th>\n",
       "      <th>offset</th>\n",
       "      <th>opCode_localValue</th>\n",
       "      <th>e212_mnc</th>\n",
       "      <th>sccp_message_type</th>\n",
       "      <th>m3ua_DPC</th>\n",
       "      <th>file</th>\n",
       "      <th>...</th>\n",
       "      <th>gl2_source_node</th>\n",
       "      <th>m3ua_OPC</th>\n",
       "      <th>sccp_called_digits</th>\n",
       "      <th>gsm_map_ms_supportedCamelPhases</th>\n",
       "      <th>tcap_otid</th>\n",
       "      <th>e212_mcc</th>\n",
       "      <th>streams</th>\n",
       "      <th>sccp_calling_ri</th>\n",
       "      <th>_id</th>\n",
       "      <th>frame_number</th>\n",
       "    </tr>\n",
       "  </thead>\n",
       "  <tbody>\n",
       "    <tr>\n",
       "      <th>0</th>\n",
       "      <td>1</td>\n",
       "      <td>972559900040</td>\n",
       "      <td>ss7</td>\n",
       "      <td>b3d2019c-476e-439e-8764-043b24bcda9d</td>\n",
       "      <td>911662</td>\n",
       "      <td>2</td>\n",
       "      <td>19</td>\n",
       "      <td>0x00000009</td>\n",
       "      <td>7138</td>\n",
       "      <td>/mnt/tracing2ch/sigtran-public/sigtran-public_...</td>\n",
       "      <td>...</td>\n",
       "      <td>be115c61-9b16-42d7-810c-8f0e4af6a69c</td>\n",
       "      <td>701</td>\n",
       "      <td>972559912010681</td>\n",
       "      <td>c0</td>\n",
       "      <td>a2:2a:0c:40</td>\n",
       "      <td>425</td>\n",
       "      <td>[000000000000000000000001]</td>\n",
       "      <td>0</td>\n",
       "      <td>d39e7de2-f760-11e7-8ae9-00505698f35d</td>\n",
       "      <td>3369</td>\n",
       "    </tr>\n",
       "  </tbody>\n",
       "</table>\n",
       "<p>1 rows × 44 columns</p>\n",
       "</div>"
      ],
      "text/plain": [
       "  sccp_class   e164_msisdn protocol                  gl2_source_collector  \\\n",
       "0          1  972559900040      ss7  b3d2019c-476e-439e-8764-043b24bcda9d   \n",
       "\n",
       "   offset opCode_localValue e212_mnc sccp_message_type m3ua_DPC  \\\n",
       "0  911662                 2       19        0x00000009     7138   \n",
       "\n",
       "                                                file     ...       \\\n",
       "0  /mnt/tracing2ch/sigtran-public/sigtran-public_...     ...        \n",
       "\n",
       "                        gl2_source_node m3ua_OPC sccp_called_digits  \\\n",
       "0  be115c61-9b16-42d7-810c-8f0e4af6a69c      701    972559912010681   \n",
       "\n",
       "  gsm_map_ms_supportedCamelPhases    tcap_otid e212_mcc  \\\n",
       "0                              c0  a2:2a:0c:40      425   \n",
       "\n",
       "                      streams sccp_calling_ri  \\\n",
       "0  [000000000000000000000001]               0   \n",
       "\n",
       "                                    _id frame_number  \n",
       "0  d39e7de2-f760-11e7-8ae9-00505698f35d         3369  \n",
       "\n",
       "[1 rows x 44 columns]"
      ]
     },
     "execution_count": 53,
     "metadata": {},
     "output_type": "execute_result"
    }
   ],
   "source": [
    "columns=list(data.keys())\n",
    "values = list(data.values())\n",
    "arr_len = len(values)\n",
    "pd.DataFrame(np.array(values, dtype=object).reshape(1, arr_len), columns=columns)"
   ]
  }
 ],
 "metadata": {
  "kernelspec": {
   "display_name": "Python 2",
   "language": "python",
   "name": "python2"
  },
  "language_info": {
   "codemirror_mode": {
    "name": "ipython",
    "version": 2
   },
   "file_extension": ".py",
   "mimetype": "text/x-python",
   "name": "python",
   "nbconvert_exporter": "python",
   "pygments_lexer": "ipython2",
   "version": "2.7.14"
  }
 },
 "nbformat": 4,
 "nbformat_minor": 2
}
