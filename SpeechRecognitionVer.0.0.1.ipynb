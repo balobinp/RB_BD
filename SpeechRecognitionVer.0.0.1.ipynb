{
 "cells": [
  {
   "cell_type": "code",
   "execution_count": 1,
   "metadata": {},
   "outputs": [],
   "source": [
    "import librosa\n",
    "from tqdm import tqdm\n",
    "import os\n",
    "import json\n",
    "from scipy.io import wavfile\n",
    "import numpy as np\n",
    "import tensorflow as tf\n",
    "import matplotlib.pyplot as plt\n",
    "from sklearn.model_selection import train_test_split"
   ]
  },
  {
   "cell_type": "markdown",
   "metadata": {},
   "source": [
    "### OTHER"
   ]
  },
  {
   "cell_type": "markdown",
   "metadata": {},
   "source": [
    "\n",
    "- На основе: https://www.kaggle.com/c/tensorflow-speech-recognition-challenge/notebooks\n",
    "- На основе: https://www.kaggle.com/chimichangasguy/speechrecognition\n",
    "\n",
    "Speech representation and data exploration\n",
    "https://www.kaggle.com/davids1992/speech-representation-and-data-exploration\n",
    "End-to-end baseline TF Estimator LB 0.72\n",
    "Audio Data Conversion to Images + EDA\n",
    "Light-Weight CNN LB 0.74"
   ]
  },
  {
   "cell_type": "code",
   "execution_count": null,
   "metadata": {},
   "outputs": [],
   "source": [
    "#ввод_вывод_voice_запись_аудио\n",
    "#ввод_вывод_voice_чтение_аудиофайлов\n",
    "#ввод_вывод_voice_сохранение_аудио\n",
    "#ввод_вывод_voice_преобразование_форматов_аудио\n",
    "#ввод_вывод_voice_анализ_аудио\n",
    "#ввод_вывод_voice_распознавание"
   ]
  },
  {
   "cell_type": "markdown",
   "metadata": {},
   "source": [
    "# ввод_вывод_voice_распознавание"
   ]
  },
  {
   "cell_type": "code",
   "execution_count": null,
   "metadata": {},
   "outputs": [],
   "source": [
    "# ВАРИАНТ №20\n",
    "# Использование tensorflow для построения обучения модели для распознавания слов"
   ]
  },
  {
   "cell_type": "code",
   "execution_count": 1,
   "metadata": {},
   "outputs": [
    {
     "name": "stderr",
     "output_type": "stream",
     "text": [
      "Using TensorFlow backend.\n"
     ]
    }
   ],
   "source": [
    "# Шаг 1. Импорт библиотек\n",
    "# pip install keras\n",
    "# pip install tensorflow --user\n",
    "# pip install pyyaml\n",
    "import os\n",
    "import librosa   #for audio processing\n",
    "import IPython.display as ipd\n",
    "import matplotlib.pyplot as plt\n",
    "import numpy as np\n",
    "from scipy.io import wavfile #for audio processing\n",
    "import warnings\n",
    "warnings.filterwarnings(\"ignore\")\n",
    "from sklearn.preprocessing import LabelEncoder\n",
    "from keras.layers import Dense, Dropout, Flatten, Conv1D, Input, MaxPooling1D\n",
    "# We use 1 dimensional arrays due to audio files, we use Conv1D and MaxPooling1D\n",
    "# Dense is used for connecting the entire neural network\n",
    "# Flattening is the process of converting all the resultant 1D arrays into a single long continuous linear vector\n",
    "# A dropout layer is used for regularization where you randomly set some of the dimensions of your input vector to be zero\n",
    "from keras.models import Model #Used to instantiate a Model\n",
    "from keras.callbacks import EarlyStopping, ModelCheckpoint\n",
    "from keras import backend as K\n",
    "from matplotlib import pyplot \n",
    "import random\n",
    "import soundfile as sf\n",
    "from os.path import join"
   ]
  },
  {
   "cell_type": "code",
   "execution_count": 10,
   "metadata": {},
   "outputs": [
    {
     "name": "stdout",
     "output_type": "stream",
     "text": [
      "five\n",
      "no\n",
      "yes\n"
     ]
    }
   ],
   "source": [
    "# Шаг 5. Подготовка данных\n",
    "all_wave = []\n",
    "all_label = []\n",
    "for label in labels:\n",
    "    print(label)\n",
    "    waves = [f for f in os.listdir(train_audio_path + '/'+ label) if f.endswith('.wav')]\n",
    "    for wav in waves:\n",
    "        samples, sample_rate = librosa.load(train_audio_path + '/' + label + '/' + wav, sr = 16000)\n",
    "        samples = librosa.resample(samples, sample_rate, 8000)\n",
    "        if(len(samples) == 8000): \n",
    "            all_wave.append(samples)\n",
    "            all_label.append(label)\n",
    "le = LabelEncoder()\n",
    "y = le.fit_transform(all_label)\n",
    "classes = list(le.classes_)"
   ]
  },
  {
   "cell_type": "code",
   "execution_count": 62,
   "metadata": {},
   "outputs": [
    {
     "name": "stdout",
     "output_type": "stream",
     "text": [
      "Model: \"model_1\"\n",
      "_________________________________________________________________\n",
      "Layer (type)                 Output Shape              Param #   \n",
      "=================================================================\n",
      "input_1 (InputLayer)         (None, 8000, 1)           0         \n",
      "_________________________________________________________________\n",
      "conv1d_1 (Conv1D)            (None, 7988, 8)           112       \n",
      "_________________________________________________________________\n",
      "max_pooling1d_1 (MaxPooling1 (None, 2662, 8)           0         \n",
      "_________________________________________________________________\n",
      "dropout_1 (Dropout)          (None, 2662, 8)           0         \n",
      "_________________________________________________________________\n",
      "conv1d_2 (Conv1D)            (None, 2652, 16)          1424      \n",
      "_________________________________________________________________\n",
      "max_pooling1d_2 (MaxPooling1 (None, 884, 16)           0         \n",
      "_________________________________________________________________\n",
      "dropout_2 (Dropout)          (None, 884, 16)           0         \n",
      "_________________________________________________________________\n",
      "conv1d_3 (Conv1D)            (None, 876, 32)           4640      \n",
      "_________________________________________________________________\n",
      "max_pooling1d_3 (MaxPooling1 (None, 292, 32)           0         \n",
      "_________________________________________________________________\n",
      "dropout_3 (Dropout)          (None, 292, 32)           0         \n",
      "_________________________________________________________________\n",
      "conv1d_4 (Conv1D)            (None, 286, 64)           14400     \n",
      "_________________________________________________________________\n",
      "max_pooling1d_4 (MaxPooling1 (None, 95, 64)            0         \n",
      "_________________________________________________________________\n",
      "dropout_4 (Dropout)          (None, 95, 64)            0         \n",
      "_________________________________________________________________\n",
      "flatten_1 (Flatten)          (None, 6080)              0         \n",
      "_________________________________________________________________\n",
      "dense_1 (Dense)              (None, 256)               1556736   \n",
      "_________________________________________________________________\n",
      "dropout_5 (Dropout)          (None, 256)               0         \n",
      "_________________________________________________________________\n",
      "dense_2 (Dense)              (None, 128)               32896     \n",
      "_________________________________________________________________\n",
      "dropout_6 (Dropout)          (None, 128)               0         \n",
      "_________________________________________________________________\n",
      "dense_3 (Dense)              (None, 3)                 387       \n",
      "=================================================================\n",
      "Total params: 1,610,595\n",
      "Trainable params: 1,610,595\n",
      "Non-trainable params: 0\n",
      "_________________________________________________________________\n"
     ]
    }
   ],
   "source": [
    "# Шаг 6. Подготовка модели\n",
    "from keras.utils import np_utils\n",
    "from sklearn.model_selection import train_test_split\n",
    "\n",
    "y = np_utils.to_categorical(y, num_classes=len(labels))\n",
    "all_wave = np.array(all_wave).reshape(-1, 8000, 1)\n",
    "x_tr, x_val, y_tr, y_val = train_test_split(np.array(all_wave), np.array(y), stratify=y,test_size = 0.2,\n",
    "                                            random_state=777, shuffle=True)\n",
    "K.clear_session()\n",
    "inputs = Input(shape=(8000, 1))\n",
    "#First Conv1D layer\n",
    "conv = Conv1D(8,13, padding='valid', activation='relu', strides=1)(inputs)\n",
    "conv = MaxPooling1D(3)(conv)\n",
    "conv = Dropout(0.3)(conv)\n",
    "#Second Conv1D layer\n",
    "conv = Conv1D(16, 11, padding='valid', activation='relu', strides=1)(conv)\n",
    "conv = MaxPooling1D(3)(conv)\n",
    "conv = Dropout(0.3)(conv)\n",
    "#Third Conv1D layer\n",
    "conv = Conv1D(32, 9, padding='valid', activation='relu', strides=1)(conv)\n",
    "conv = MaxPooling1D(3)(conv)\n",
    "conv = Dropout(0.3)(conv)\n",
    "#Fourth Conv1D layer\n",
    "conv = Conv1D(64, 7, padding='valid', activation='relu', strides=1)(conv)\n",
    "conv = MaxPooling1D(3)(conv)\n",
    "conv = Dropout(0.3)(conv)\n",
    "#Flatten layer\n",
    "conv = Flatten()(conv)\n",
    "#Dense Layer 1\n",
    "conv = Dense(256, activation='relu')(conv)\n",
    "conv = Dropout(0.3)(conv)\n",
    "#Dense Layer 2\n",
    "conv = Dense(128, activation='relu')(conv)\n",
    "conv = Dropout(0.3)(conv)\n",
    "\n",
    "outputs = Dense(len(labels), activation='softmax')(conv)\n",
    "\n",
    "model = Model(inputs, outputs)\n",
    "model.summary()"
   ]
  },
  {
   "cell_type": "code",
   "execution_count": 63,
   "metadata": {},
   "outputs": [
    {
     "name": "stdout",
     "output_type": "stream",
     "text": [
      "Train on 1130 samples, validate on 283 samples\n",
      "Epoch 1/100\n",
      "1130/1130 [==============================] - 5s 4ms/step - loss: 1.0973 - accuracy: 0.3867 - val_loss: 1.0690 - val_accuracy: 0.4276\n",
      "Epoch 2/100\n",
      "1130/1130 [==============================] - 4s 4ms/step - loss: 1.0231 - accuracy: 0.4779 - val_loss: 1.0091 - val_accuracy: 0.4841\n",
      "Epoch 3/100\n",
      "1130/1130 [==============================] - 4s 4ms/step - loss: 0.8860 - accuracy: 0.5823 - val_loss: 0.9591 - val_accuracy: 0.5406\n",
      "Epoch 4/100\n",
      "1130/1130 [==============================] - 4s 4ms/step - loss: 0.8372 - accuracy: 0.6159 - val_loss: 0.9958 - val_accuracy: 0.5336\n",
      "Epoch 5/100\n",
      "1130/1130 [==============================] - 4s 4ms/step - loss: 0.8089 - accuracy: 0.6257 - val_loss: 0.8565 - val_accuracy: 0.6290\n",
      "Epoch 6/100\n",
      "1130/1130 [==============================] - 4s 4ms/step - loss: 0.7507 - accuracy: 0.6673 - val_loss: 0.8171 - val_accuracy: 0.6360\n",
      "Epoch 7/100\n",
      "1130/1130 [==============================] - 4s 4ms/step - loss: 0.6935 - accuracy: 0.7133 - val_loss: 0.8350 - val_accuracy: 0.6643\n",
      "Epoch 8/100\n",
      "1130/1130 [==============================] - 4s 4ms/step - loss: 0.5996 - accuracy: 0.7540 - val_loss: 0.7362 - val_accuracy: 0.7032\n",
      "Epoch 9/100\n",
      "1130/1130 [==============================] - 5s 4ms/step - loss: 0.5472 - accuracy: 0.7699 - val_loss: 0.6716 - val_accuracy: 0.7491\n",
      "Epoch 10/100\n",
      "1130/1130 [==============================] - 5s 4ms/step - loss: 0.4599 - accuracy: 0.8133 - val_loss: 0.6105 - val_accuracy: 0.7774\n",
      "Epoch 11/100\n",
      "1130/1130 [==============================] - 4s 4ms/step - loss: 0.4258 - accuracy: 0.8248 - val_loss: 0.5816 - val_accuracy: 0.8092\n",
      "Epoch 12/100\n",
      "1130/1130 [==============================] - 4s 4ms/step - loss: 0.4160 - accuracy: 0.8407 - val_loss: 0.6279 - val_accuracy: 0.8127\n",
      "Epoch 13/100\n",
      "1130/1130 [==============================] - 4s 4ms/step - loss: 0.3792 - accuracy: 0.8478 - val_loss: 0.5654 - val_accuracy: 0.7809\n",
      "Epoch 14/100\n",
      "1130/1130 [==============================] - 4s 4ms/step - loss: 0.3600 - accuracy: 0.8504 - val_loss: 0.6568 - val_accuracy: 0.8021\n",
      "Epoch 15/100\n",
      "1130/1130 [==============================] - 4s 4ms/step - loss: 0.3252 - accuracy: 0.8717 - val_loss: 0.6752 - val_accuracy: 0.7845\n",
      "Epoch 16/100\n",
      "1130/1130 [==============================] - 4s 4ms/step - loss: 0.3507 - accuracy: 0.8522 - val_loss: 0.5032 - val_accuracy: 0.8587\n",
      "Epoch 17/100\n",
      "1130/1130 [==============================] - 7s 6ms/step - loss: 0.2943 - accuracy: 0.8832 - val_loss: 0.4357 - val_accuracy: 0.8445\n",
      "Epoch 18/100\n",
      "1130/1130 [==============================] - 7s 6ms/step - loss: 0.2303 - accuracy: 0.8991 - val_loss: 0.6434 - val_accuracy: 0.8269\n",
      "Epoch 19/100\n",
      "1130/1130 [==============================] - 6s 5ms/step - loss: 0.2395 - accuracy: 0.8929 - val_loss: 0.5925 - val_accuracy: 0.8587\n",
      "Epoch 20/100\n",
      "1130/1130 [==============================] - 5s 5ms/step - loss: 0.2482 - accuracy: 0.9027 - val_loss: 0.5355 - val_accuracy: 0.8410\n",
      "Epoch 21/100\n",
      "1130/1130 [==============================] - 5s 4ms/step - loss: 0.2157 - accuracy: 0.9071 - val_loss: 0.6095 - val_accuracy: 0.8127\n",
      "Epoch 22/100\n",
      "1130/1130 [==============================] - 5s 4ms/step - loss: 0.2401 - accuracy: 0.8956 - val_loss: 0.4513 - val_accuracy: 0.8763\n",
      "Epoch 23/100\n",
      "1130/1130 [==============================] - 5s 4ms/step - loss: 0.2044 - accuracy: 0.9115 - val_loss: 0.5590 - val_accuracy: 0.8339\n",
      "Epoch 24/100\n",
      "1130/1130 [==============================] - 4s 4ms/step - loss: 0.1958 - accuracy: 0.9142 - val_loss: 0.6160 - val_accuracy: 0.8551\n",
      "Epoch 25/100\n",
      "1130/1130 [==============================] - 4s 4ms/step - loss: 0.2144 - accuracy: 0.9088 - val_loss: 0.6835 - val_accuracy: 0.7986\n",
      "Epoch 26/100\n",
      "1130/1130 [==============================] - 4s 4ms/step - loss: 0.1948 - accuracy: 0.9106 - val_loss: 0.9162 - val_accuracy: 0.8304\n",
      "Epoch 27/100\n",
      "1130/1130 [==============================] - 4s 4ms/step - loss: 0.1767 - accuracy: 0.9283 - val_loss: 0.6713 - val_accuracy: 0.8516\n",
      "Epoch 00027: early stopping\n"
     ]
    }
   ],
   "source": [
    "# Шаг 7. Тренировка модели\n",
    "model.compile(loss='categorical_crossentropy', optimizer='adam', metrics=['accuracy'])\n",
    "es = EarlyStopping(monitor='val_loss', mode='min', verbose=1, patience=10, min_delta=0.0001) \n",
    "mc = ModelCheckpoint('best_model.hdf5', monitor='val_acc', verbose=1, save_best_only=True, mode='max')\n",
    "history=model.fit(x_tr, y_tr ,epochs=10, callbacks=[es,mc], batch_size=32, validation_data=(x_val, y_val))"
   ]
  },
  {
   "cell_type": "code",
   "execution_count": 64,
   "metadata": {},
   "outputs": [
    {
     "data": {
      "image/png": "[encoded data removed]",
      "text/plain": [
       "<Figure size 432x288 with 1 Axes>"
      ]
     },
     "metadata": {
      "needs_background": "light"
     },
     "output_type": "display_data"
    }
   ],
   "source": [
    "# Шаг 8. Визуализация процесса тренировки\n",
    "pyplot.plot(history.history['loss'], label='train') \n",
    "pyplot.plot(history.history['val_loss'], label='test') \n",
    "pyplot.legend()\n",
    "pyplot.show()"
   ]
  },
  {
   "cell_type": "code",
   "execution_count": 74,
   "metadata": {},
   "outputs": [
    {
     "name": "stdout",
     "output_type": "stream",
     "text": [
      "Audio: five\n",
      "Text: five\n",
      "Record predict: yes\n",
      "Microphone in use: <Microphone Микрофон (Realtek Audio) (2 channels)>\n",
      "Recorded shape: (8000,)\n",
      "Record predict: five\n"
     ]
    },
    {
     "data": {
      "text/html": [
       "\n",
       "                <audio  controls=\"controls\" >\n",
       "                    <source src=\"data:audio/wav;base64,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\" type=\"audio/wav\" />\n",
       "                    Your browser does not support the audio element.\n",
       "                </audio>\n",
       "              "
      ],
      "text/plain": [
       "<IPython.lib.display.Audio object>"
      ]
     },
     "execution_count": 74,
     "metadata": {},
     "output_type": "execute_result"
    }
   ],
   "source": [
    "# Шаг 9. Предсказание\n",
    "def predict(audio):\n",
    "    prob=model.predict(audio.reshape(1,8000,1))\n",
    "    index=np.argmax(prob[0])\n",
    "    return classes[index]\n",
    "# Случайный сэмпл\n",
    "index=random.randint(0,len(x_val)-1)\n",
    "samples=x_val[index].ravel()\n",
    "print(\"Audio:\",classes[np.argmax(y_val[index])])\n",
    "ipd.Audio(samples, rate=8000)\n",
    "print(\"Text:\", predict(samples))\n",
    "# или\n",
    "filepath = r'c:\\Users\\balob\\Downloads\\voice\\train\\yes'\n",
    "samples, sample_rate = librosa.load(filepath + '\\\\' + 'c2d15ea5_nohash_2.wav', sr = 16000)\n",
    "samples = librosa.resample(samples, sample_rate, 8000)\n",
    "print(f'Record predict: {predict(samples)}')\n",
    "ipd.Audio(samples,rate=8000) \n",
    "# Предсказание с микрофона\n",
    "import soundcard as sc\n",
    "samplerate = 8000 # (int) – The desired sampling rate in Hz\n",
    "sec = 1\n",
    "numframes = int(samplerate * sec) # (int) – The number of frames to record. Такой же как samplerate, чтобы записать секунду.\n",
    "default_mic = sc.default_microphone()\n",
    "print(f'Microphone in use: {default_mic}')\n",
    "samples = default_mic.record(samplerate = samplerate, numframes = numframes, channels = 1).ravel()\n",
    "print(f'Recorded shape: {samples.shape}')\n",
    "print(f'Record predict: {predict(samples)}')\n",
    "ipd.Audio(samples, rate=samplerate)"
   ]
  },
  {
   "cell_type": "code",
   "execution_count": null,
   "metadata": {},
   "outputs": [],
   "source": [
    "# Шаг 10. Сохранение модели\n",
    "import pickle\n",
    "downloads = 'C:/Users/balob/Downloads'\n",
    "file_Name = \"model_voice_test.picle\"\n",
    "# open the file for writing\n",
    "fileObject = open(join(downloads,file_Name),'wb') \n",
    "pickle.dump(model, fileObject)\n",
    "fileObject.close()"
   ]
  },
  {
   "cell_type": "code",
   "execution_count": null,
   "metadata": {},
   "outputs": [],
   "source": [
    "# Шаг 11. Импорт модели и предсказание с голоса или из файла\n",
    "import pickle\n",
    "downloads = 'C:/Users/balob/Downloads'\n",
    "file_Name = \"model_voice_test.picle\"\n",
    "fileObject = open(join(downloads,file_Name),'rb')  \n",
    "model = pickle.load(fileObject)\n",
    "classes = ['five', 'no', 'yes']\n",
    "def predict(audio):\n",
    "    prob=model.predict(audio.reshape(1,8000,1))\n",
    "    index=np.argmax(prob[0])\n",
    "    return classes[index]\n",
    "# С голоса\n",
    "import soundcard as sc\n",
    "import IPython.display as ipd\n",
    "samplerate = 8000 # (int) – The desired sampling rate in Hz\n",
    "sec = 1\n",
    "numframes = int(samplerate * sec) # (int) – The number of frames to record. Такой же как samplerate, чтобы записать секунду.\n",
    "default_mic = sc.default_microphone()\n",
    "print(f'Microphone in use: {default_mic}')\n",
    "samples = default_mic.record(samplerate = samplerate, numframes = numframes, channels = 1).ravel()\n",
    "print(f'Recorded shape: {samples.shape}')\n",
    "print(f'Record predict: {predict(samples)}')\n",
    "ipd.Audio(samples, rate=samplerate)\n",
    "# Из файла\n",
    "import librosa\n",
    "filepath = r'c:\\Users\\balob\\Downloads\\voice_testing\\no'\n",
    "samples, sample_rate = librosa.load(filepath + '\\\\' + '012c8314_nohash_0.wav', sr = 16000)\n",
    "samples = librosa.resample(samples, sample_rate, 8000)\n",
    "print(f'Record predict: {predict(samples)}')\n",
    "ipd.Audio(samples,rate=8000) \n",
    "# На основе: https://www.kaggle.com/c/tensorflow-speech-recognition-challenge/notebooks\n",
    "# На основе: https://www.kaggle.com/chimichangasguy/speechrecognition"
   ]
  },
  {
   "cell_type": "code",
   "execution_count": null,
   "metadata": {},
   "outputs": [],
   "source": []
  },
  {
   "cell_type": "code",
   "execution_count": null,
   "metadata": {},
   "outputs": [],
   "source": []
  },
  {
   "cell_type": "code",
   "execution_count": null,
   "metadata": {},
   "outputs": [],
   "source": []
  },
  {
   "cell_type": "code",
   "execution_count": 49,
   "metadata": {},
   "outputs": [],
   "source": []
  },
  {
   "cell_type": "code",
   "execution_count": null,
   "metadata": {},
   "outputs": [],
   "source": []
  },
  {
   "cell_type": "code",
   "execution_count": null,
   "metadata": {},
   "outputs": [],
   "source": []
  },
  {
   "cell_type": "code",
   "execution_count": null,
   "metadata": {},
   "outputs": [],
   "source": []
  },
  {
   "cell_type": "code",
   "execution_count": null,
   "metadata": {},
   "outputs": [],
   "source": []
  },
  {
   "cell_type": "code",
   "execution_count": null,
   "metadata": {},
   "outputs": [],
   "source": []
  },
  {
   "cell_type": "code",
   "execution_count": null,
   "metadata": {},
   "outputs": [],
   "source": []
  },
  {
   "cell_type": "code",
   "execution_count": null,
   "metadata": {},
   "outputs": [],
   "source": []
  },
  {
   "cell_type": "markdown",
   "metadata": {},
   "source": [
    "### Использовать обученную модель"
   ]
  },
  {
   "cell_type": "code",
   "execution_count": 2,
   "metadata": {},
   "outputs": [
    {
     "name": "stderr",
     "output_type": "stream",
     "text": [
      "Using TensorFlow backend.\n"
     ]
    }
   ],
   "source": [
    "import pickle\n",
    "import numpy as np\n",
    "from os.path import join\n",
    "downloads = 'C:/Users/balob/Downloads'\n",
    "file_Name = \"model_voice_test.picle\"\n",
    "fileObject = open(join(downloads,file_Name),'rb')  \n",
    "model = pickle.load(fileObject)"
   ]
  },
  {
   "cell_type": "code",
   "execution_count": 3,
   "metadata": {},
   "outputs": [],
   "source": [
    "classes = ['five', 'no', 'yes']\n",
    "def predict(audio):\n",
    "    prob=model.predict(audio.reshape(1,8000,1))\n",
    "    index=np.argmax(prob[0])\n",
    "    return classes[index]"
   ]
  },
  {
   "cell_type": "code",
   "execution_count": 16,
   "metadata": {},
   "outputs": [
    {
     "name": "stdout",
     "output_type": "stream",
     "text": [
      "Microphone in use: <Microphone Микрофон (Realtek Audio) (2 channels)>\n",
      "Recorded shape: (8000,)\n",
      "Record predict: five\n"
     ]
    },
    {
     "data": {
      "text/html": [
       "\n",
       "                <audio  controls=\"controls\" >\n",
       "                    <source src=\"data:audio/wav;base64,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\" type=\"audio/wav\" />\n",
       "                    Your browser does not support the audio element.\n",
       "                </audio>\n",
       "              "
      ],
      "text/plain": [
       "<IPython.lib.display.Audio object>"
      ]
     },
     "execution_count": 16,
     "metadata": {},
     "output_type": "execute_result"
    }
   ],
   "source": [
    "import soundcard as sc\n",
    "import IPython.display as ipd\n",
    "samplerate = 8000 # (int) – The desired sampling rate in Hz\n",
    "sec = 1\n",
    "numframes = int(samplerate * sec) # (int) – The number of frames to record. Такой же как samplerate, чтобы записать секунду.\n",
    "default_mic = sc.default_microphone()\n",
    "print(f'Microphone in use: {default_mic}')\n",
    "samples = default_mic.record(samplerate = samplerate, numframes = numframes, channels = 1).ravel()\n",
    "print(f'Recorded shape: {samples.shape}')\n",
    "print(f'Record predict: {predict(samples)}')\n",
    "ipd.Audio(samples, rate=samplerate)"
   ]
  },
  {
   "cell_type": "code",
   "execution_count": null,
   "metadata": {},
   "outputs": [],
   "source": []
  },
  {
   "cell_type": "markdown",
   "metadata": {},
   "source": [
    "### Developments"
   ]
  },
  {
   "cell_type": "code",
   "execution_count": null,
   "metadata": {},
   "outputs": [],
   "source": [
    "# Использование tensorflow для построения обучения модели для распознавания слов"
   ]
  },
  {
   "cell_type": "code",
   "execution_count": null,
   "metadata": {},
   "outputs": [],
   "source": []
  },
  {
   "cell_type": "code",
   "execution_count": 17,
   "metadata": {},
   "outputs": [
    {
     "name": "stdout",
     "output_type": "stream",
     "text": [
      "no\n"
     ]
    }
   ],
   "source": [
    "import librosa\n",
    "import tensorflow as tf\n",
    "import numpy as np\n",
    "\n",
    "SAVED_MODEL_PATH = r\"c:\\Users\\balob\\Downloads\\VOICE\\model.h5\"\n",
    "SAMPLES_TO_CONSIDER = 22050\n",
    "\n",
    "class _Keyword_Spotting_Service:\n",
    "    \"\"\"Singleton class for keyword spotting inference with trained models.\n",
    "    :param model: Trained model\n",
    "    \"\"\"\n",
    "\n",
    "    model = None\n",
    "    _mapping = [\"yes\", \"no\", \"five\"]\n",
    "    _instance = None\n",
    "\n",
    "\n",
    "    def predict(self, file_path):\n",
    "        \"\"\"\n",
    "        :param file_path (str): Path to audio file to predict\n",
    "        :return predicted_keyword (str): Keyword predicted by the model\n",
    "        \"\"\"\n",
    "\n",
    "        # extract MFCC\n",
    "        MFCCs = self.preprocess(file_path)\n",
    "\n",
    "        # we need a 4-dim array to feed to the model for prediction: (# samples, # time steps, # coefficients, 1)\n",
    "        MFCCs = MFCCs[np.newaxis, ..., np.newaxis]\n",
    "\n",
    "        # get the predicted label\n",
    "        predictions = self.model.predict(MFCCs)\n",
    "        predicted_index = np.argmax(predictions)\n",
    "        predicted_keyword = self._mapping[predicted_index]\n",
    "        return predicted_keyword\n",
    "\n",
    "\n",
    "    def preprocess(self, file_path, num_mfcc=13, n_fft=2048, hop_length=512):\n",
    "        \"\"\"Extract MFCCs from audio file.\n",
    "        :param file_path (str): Path of audio file\n",
    "        :param num_mfcc (int): # of coefficients to extract\n",
    "        :param n_fft (int): Interval we consider to apply STFT. Measured in # of samples\n",
    "        :param hop_length (int): Sliding window for STFT. Measured in # of samples\n",
    "        :return MFCCs (ndarray): 2-dim array with MFCC data of shape (# time steps, # coefficients)\n",
    "        \"\"\"\n",
    "\n",
    "        # load audio file\n",
    "        signal, sample_rate = librosa.load(file_path)\n",
    "\n",
    "        if len(signal) >= SAMPLES_TO_CONSIDER:\n",
    "            # ensure consistency of the length of the signal\n",
    "            signal = signal[:SAMPLES_TO_CONSIDER]\n",
    "\n",
    "            # extract MFCCs\n",
    "            MFCCs = librosa.feature.mfcc(signal, sample_rate, n_mfcc=num_mfcc, n_fft=n_fft,\n",
    "                                         hop_length=hop_length)\n",
    "        return MFCCs.T\n",
    "\n",
    "\n",
    "def Keyword_Spotting_Service():\n",
    "    \"\"\"Factory function for Keyword_Spotting_Service class.\n",
    "    :return _Keyword_Spotting_Service._instance (_Keyword_Spotting_Service):\n",
    "    \"\"\"\n",
    "\n",
    "    # ensure an instance is created only the first time the factory function is called\n",
    "    if _Keyword_Spotting_Service._instance is None:\n",
    "        _Keyword_Spotting_Service._instance = _Keyword_Spotting_Service()\n",
    "        _Keyword_Spotting_Service.model = tf.keras.models.load_model(SAVED_MODEL_PATH)\n",
    "    return _Keyword_Spotting_Service._instance\n",
    "\n",
    "\n",
    "\n",
    "\n",
    "# create 2 instances of the keyword spotting service\n",
    "kss = Keyword_Spotting_Service()\n",
    "kss1 = Keyword_Spotting_Service()\n",
    "\n",
    "# check that different instances of the keyword spotting service point back to the same object (singleton)\n",
    "assert kss is kss1\n",
    "\n",
    "# make a prediction\n",
    "keyword = kss.predict(r\"c:\\Users\\balob\\Downloads\\VOICE\\test\\five\\0132a06d_nohash_0.wav\")\n",
    "print(keyword)"
   ]
  },
  {
   "cell_type": "code",
   "execution_count": 20,
   "metadata": {},
   "outputs": [
    {
     "name": "stdout",
     "output_type": "stream",
     "text": [
      "yes\n"
     ]
    }
   ],
   "source": [
    "keyword = kss.predict(r\"c:\\Users\\balob\\Downloads\\VOICE\\test\\five\\063d48cf_nohash_1.wav\")\n",
    "print(keyword)"
   ]
  },
  {
   "cell_type": "code",
   "execution_count": null,
   "metadata": {},
   "outputs": [],
   "source": []
  },
  {
   "cell_type": "code",
   "execution_count": null,
   "metadata": {},
   "outputs": [],
   "source": []
  },
  {
   "cell_type": "code",
   "execution_count": null,
   "metadata": {},
   "outputs": [],
   "source": []
  }
 ],
 "metadata": {
  "kernelspec": {
   "display_name": "Python 3",
   "language": "python",
   "name": "python3"
  },
  "language_info": {
   "codemirror_mode": {
    "name": "ipython",
    "version": 3
   },
   "file_extension": ".py",
   "mimetype": "text/x-python",
   "name": "python",
   "nbconvert_exporter": "python",
   "pygments_lexer": "ipython3",
   "version": "3.6.9"
  }
 },
 "nbformat": 4,
 "nbformat_minor": 2
}
