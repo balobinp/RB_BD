{
 "cells": [
  {
   "cell_type": "code",
   "execution_count": 51,
   "metadata": {},
   "outputs": [],
   "source": [
    "%reset -f"
   ]
  },
  {
   "cell_type": "code",
   "execution_count": 12,
   "metadata": {},
   "outputs": [],
   "source": [
    "from bs4 import BeautifulSoup\n",
    "from os import path\n",
    "import os\n",
    "import pandas as pd\n",
    "from pandas import Series, DataFrame\n",
    "import re\n",
    "import xml.etree.ElementTree as et\n",
    "import zipfile\n",
    "\n",
    "directory_to_extract_to = r'C:/Users/balob/Downloads/DATA_IR21'\n",
    "ir_files = r'C:/Users/balob/Downloads/new1/'\n",
    "downloads = r'C:/Users/balob/Downloads/DATA_IR21'"
   ]
  },
  {
   "cell_type": "code",
   "execution_count": 13,
   "metadata": {
    "scrolled": true
   },
   "outputs": [
    {
     "data": {
      "text/plain": [
       "[]"
      ]
     },
     "execution_count": 13,
     "metadata": {},
     "output_type": "execute_result"
    }
   ],
   "source": [
    "# Распаковка zip архивов документов IR21 в папку downloads\n",
    "\n",
    "def unzip_file(path_to_zip_file, name):\n",
    "    zip_ref = zipfile.ZipFile(path_to_zip_file, 'r')\n",
    "    zip_ref.extractall(directory_to_extract_to)\n",
    "    zip_ref.close()\n",
    "    \n",
    "def find_txt_files_and_folders(path_name):\n",
    "    file_names_all = os.listdir(path_name)\n",
    "    files = [file for file in file_names_all if path.isfile(path.join(path_name, file)) and file.find('.zip') != -1]\n",
    "    folders = [folder for folder in file_names_all if path.isdir(path.join(path_name, folder))]\n",
    "    return files, folders\n",
    "\n",
    "all_zip_files = []\n",
    "\n",
    "for folder in find_txt_files_and_folders(ir_files)[1]:\n",
    "    files = find_txt_files_and_folders(path.join(ir_files, folder))[0]\n",
    "    for zip_file in files:\n",
    "        unzip_file(path.join(path.join(ir_files, folder), zip_file), directory_to_extract_to)\n",
    "    all_zip_files.append(files)\n",
    "\n",
    "all_zip_files"
   ]
  },
  {
   "cell_type": "code",
   "execution_count": 6,
   "metadata": {},
   "outputs": [
    {
     "data": {
      "text/plain": [
       "[]"
      ]
     },
     "execution_count": 6,
     "metadata": {},
     "output_type": "execute_result"
    }
   ],
   "source": [
    "# Подготовка списка файлов, расположенных в downloads\n",
    "\n",
    "def find_txt_files_and_folders(path_name):\n",
    "    file_names_all = os.listdir(path_name)\n",
    "    files = [file for file in file_names_all if path.isfile(path.join(path_name, file)) and file.find('.xml') != -1]\n",
    "    return files\n",
    "\n",
    "ir21_xml_files = find_txt_files_and_folders(downloads)\n",
    "ir21_xml_files"
   ]
  },
  {
   "cell_type": "code",
   "execution_count": 4,
   "metadata": {},
   "outputs": [],
   "source": [
    "# Функция для поиска связки TAGIG - MCCMNC\n",
    "\n",
    "def find_tadig_mccmnc(downloads, file_ir21):\n",
    "    tree = et.parse(path.join(downloads, file_ir21))\n",
    "    root = tree.getroot()\n",
    "    ns = re.match(r'{.*}', root.tag).group(0)\n",
    "    \n",
    "    sender_tadig = root.find(f'{ns}RAEXIR21FileHeader').find(f'{ns}SenderTADIG').text\n",
    "    organisation_name = root.find(f'{ns}OrganisationInfo').find(f'{ns}OrganisationName').text\n",
    "    \n",
    "    tadig_mccmnc_list = []\n",
    "    \n",
    "    for network in root.iter(f'{ns}Network'):\n",
    "        tadig = network.find(f'{ns}TADIGCode').text\n",
    "        for mccmnc in network.iter(f'{ns}CCITT_E212_NumberSeries'):\n",
    "            mccmnc = ''.join([mccmnc.find(f'{ns}MCC').text, mccmnc.find(f'{ns}MNC').text])\n",
    "            tadig_mccmnc_list.extend([[organisation_name, sender_tadig, tadig, mccmnc]])\n",
    "\n",
    "    return tadig_mccmnc_list"
   ]
  },
  {
   "cell_type": "code",
   "execution_count": 5,
   "metadata": {},
   "outputs": [
    {
     "data": {
      "text/html": [
       "<div>\n",
       "<style scoped>\n",
       "    .dataframe tbody tr th:only-of-type {\n",
       "        vertical-align: middle;\n",
       "    }\n",
       "\n",
       "    .dataframe tbody tr th {\n",
       "        vertical-align: top;\n",
       "    }\n",
       "\n",
       "    .dataframe thead th {\n",
       "        text-align: right;\n",
       "    }\n",
       "</style>\n",
       "<table border=\"1\" class=\"dataframe\">\n",
       "  <thead>\n",
       "    <tr style=\"text-align: right;\">\n",
       "      <th></th>\n",
       "      <th>NETWORK_NAME</th>\n",
       "      <th>SENDER_TADIG</th>\n",
       "      <th>TADIG</th>\n",
       "      <th>MCCMNC</th>\n",
       "    </tr>\n",
       "  </thead>\n",
       "  <tbody>\n",
       "  </tbody>\n",
       "</table>\n",
       "</div>"
      ],
      "text/plain": [
       "Empty DataFrame\n",
       "Columns: [NETWORK_NAME, SENDER_TADIG, TADIG, MCCMNC]\n",
       "Index: []"
      ]
     },
     "execution_count": 5,
     "metadata": {},
     "output_type": "execute_result"
    }
   ],
   "source": [
    "# Загрузка связки TAGIG - MCCMNC в DataFrame\n",
    "\n",
    "df = DataFrame(columns = ['NETWORK_NAME', 'SENDER_TADIG', 'TADIG', 'MCCMNC'])\n",
    "\n",
    "for file_ir21 in ir21_xml_files:\n",
    "    try:\n",
    "        tadig_mccmnc_list = find_tadig_mccmnc(downloads, file_ir21)\n",
    "    except:\n",
    "        pass\n",
    "    df = df.append(DataFrame(tadig_mccmnc_list, columns = ['NETWORK_NAME', 'SENDER_TADIG', 'TADIG', 'MCCMNC']))\n",
    "df.reset_index(drop=True, inplace=True)\n",
    "\n",
    "df.head(3)"
   ]
  },
  {
   "cell_type": "code",
   "execution_count": 12,
   "metadata": {},
   "outputs": [],
   "source": [
    "df.to_csv(path.join(downloads, 'tadig_mccmnc_ir21.csv'), index=False)"
   ]
  },
  {
   "cell_type": "code",
   "execution_count": 7,
   "metadata": {},
   "outputs": [
    {
     "data": {
      "text/plain": [
       "217"
      ]
     },
     "execution_count": 7,
     "metadata": {},
     "output_type": "execute_result"
    }
   ],
   "source": [
    "len(df.SENDER_TADIG.unique())"
   ]
  },
  {
   "cell_type": "code",
   "execution_count": null,
   "metadata": {},
   "outputs": [],
   "source": []
  },
  {
   "cell_type": "code",
   "execution_count": null,
   "metadata": {},
   "outputs": [],
   "source": [
    "downloads = 'C:/Users/balob/Downloads'\n",
    "file_ir21 = 'IR21_INDAT_Bharti Airtel Limited_20180307_03.xml'\n",
    "\n",
    "with open(join(downloads,file_ir21)) as inf:\n",
    "    ir21 = inf.read()\n",
    "\n",
    "xml_ir21 = BeautifulSoup(ir21,'xml')\n",
    "\n",
    "msisdn_list = []\n",
    "for MSISDN_NumberRanges in xml_ir21.findAll('MSISDN_NumberRanges'):\n",
    "    for MSISDN_RangeData in MSISDN_NumberRanges.findAll('MSISDN_RangeData'):\n",
    "        for NumberRange in  MSISDN_RangeData.findAll('NumberRange'):\n",
    "            msisdn_list.append([NumberRange.CC.text + NumberRange.NDC.text, 'msisdn'])\n",
    "\n",
    "nn_list = []\n",
    "for MSISDN_NumberRanges in xml_ir21.findAll('GT_NumberRanges'):\n",
    "    for MSISDN_RangeData in MSISDN_NumberRanges.findAll('RangeData'):\n",
    "        for NumberRange in  MSISDN_RangeData.findAll('NumberRange'):\n",
    "            nn_list.append([NumberRange.CC.text + NumberRange.NDC.text, 'nn'])\n",
    "            \n",
    "msrn_list = []\n",
    "for MSISDN_NumberRanges in xml_ir21.findAll('MSRN_NumberRanges'):\n",
    "    for NumberRange in  MSISDN_NumberRanges.findAll('NumberRange'):\n",
    "        msrn_list.append([NumberRange.CC.text + NumberRange.NDC.text, 'msrn'])\n",
    "        \n",
    "e164_list = []\n",
    "e164_list.extend(msisdn_list)\n",
    "e164_list.extend(nn_list)\n",
    "e164_list.extend(msrn_list)\n",
    "\n",
    "for tadigs in xml_ir21.findAll('SenderTADIG'):\n",
    "    tadig = tadigs.text\n",
    "    print(tadig)\n",
    "    \n",
    "df = DataFrame(e164_list, columns = ['e164', 'type'])\n",
    "df['tadig'] = tadig\n",
    "df['tadig'] = 'IRLDF'\n",
    "\n",
    "display(df)\n",
    "\n",
    "pd.merge(df_np.loc[df_np.Operator == tadig, ['Operator', 'Prefix', 'Number/Range', 'SSN']],\n",
    "         df[df.type == 'nn'], how='left', left_on=['Operator', 'Prefix'], right_on=['tadig', 'e164'])"
   ]
  }
 ],
 "metadata": {
  "kernelspec": {
   "display_name": "Python 3",
   "language": "python",
   "name": "python3"
  },
  "language_info": {
   "codemirror_mode": {
    "name": "ipython",
    "version": 3
   },
   "file_extension": ".py",
   "mimetype": "text/x-python",
   "name": "python",
   "nbconvert_exporter": "python",
   "pygments_lexer": "ipython3",
   "version": "3.6.3"
  }
 },
 "nbformat": 4,
 "nbformat_minor": 2
}
