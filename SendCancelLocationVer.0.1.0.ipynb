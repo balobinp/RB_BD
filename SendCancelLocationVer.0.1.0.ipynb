{
 "cells": [
  {
   "cell_type": "markdown",
   "metadata": {},
   "source": [
    "### Send Cancel Location"
   ]
  },
  {
   "cell_type": "markdown",
   "metadata": {},
   "source": [
    "#### Connect to SHMDBMMI and collect the subscribers\n",
    "\n",
    "On services1:\n",
    "\n",
    "linus> dbs dmi_sdp\n",
    "   1. slee/dmi_sdp\n",
    "\n",
    "Which DB to connect ?\n",
    "1. SHMDB(P)\n",
    "2. ORACLE\n",
    "Enter the Nb correponding to the DB type : 1\n",
    "\n",
    "\n",
    "SHMDBMMI> sub_state.Find(\\\\$msc>>\"4076\" && $sponsor_imsi>>\"26006\")"
   ]
  },
  {
   "cell_type": "code",
   "execution_count": 8,
   "metadata": {},
   "outputs": [],
   "source": [
    "# python3\n",
    "# Author: pavel@roamability.com\n",
    "\n",
    "import re\n",
    "from bs4 import BeautifulSoup\n",
    "from os.path import join\n",
    "from collections import namedtuple\n",
    "import time\n",
    "from datetime import datetime\n",
    "import logging\n",
    "from importlib import reload\n",
    "import roamability as rb\n",
    "reload(logging)\n",
    "\n",
    "version = '0.1.0'\n",
    "\n",
    "logger = logging.getLogger('CL')\n",
    "logger.setLevel(logging.DEBUG)\n",
    "ch = logging.StreamHandler()\n",
    "ch.setLevel(logging.DEBUG)\n",
    "formatter = logging.Formatter('%(asctime)s - %(name)s - %(levelname)s - %(message)s')\n",
    "ch.setFormatter(formatter)\n",
    "logger.addHandler(ch)\n",
    "\n",
    "sponsor_object = namedtuple('Sponsor', 'sponsor_imsi_prefix sponsor_gt')\n",
    "\n",
    "\n",
    "#######################################################################################\n",
    "# Define variables here\n",
    "#######################################################################################\n",
    "\n",
    "downloads = 'C:/Users/balob/Downloads'\n",
    "file_name = 'dmi_data.txt'\n",
    "\n",
    "# Chose the Sponsor to whom to send CL\n",
    "\n",
    "sponsor = sponsor_object('26006', '48790993070')\n",
    "# sponsor = sponsor_object('42501', '97254120624')\n",
    "\n",
    "#######################################################################################\n",
    "\n",
    "pattern  =  re.compile(f',imsi=(\\d+).+,msc=(\\d*),sgsn=(\\d*).+sponsor_imsi=({sponsor.sponsor_imsi_prefix}\\d+)')"
   ]
  },
  {
   "cell_type": "code",
   "execution_count": 9,
   "metadata": {},
   "outputs": [
    {
     "name": "stderr",
     "output_type": "stream",
     "text": [
      "2020-01-10 10:19:20,780 - CL - INFO - 0000 - RealImsi:425019613021941; Imsi:260060149021941; MSC:4540699761; SGSN:4528130098\n",
      "2020-01-10 10:19:20,781 - CL - INFO - 0001 - RealImsi:425019613022446; Imsi:260060149022446; MSC:4540699762; SGSN:4540699702\n",
      "2020-01-10 10:19:20,782 - CL - INFO - 0002 - RealImsi:425019613006700; Imsi:260060140010417; MSC:4540699761; SGSN:\n",
      "2020-01-10 10:19:20,783 - CL - INFO - 0003 - RealImsi:240400000030601; Imsi:260060140043350; MSC:4540699762; SGSN:4540699702\n",
      "2020-01-10 10:19:20,783 - CL - INFO - 0004 - RealImsi:425019613030055; Imsi:260060140122854; MSC:4540699762; SGSN:4540699701\n",
      "2020-01-10 10:19:20,784 - CL - INFO - 0005 - RealImsi:425019613030364; Imsi:260060140120168; MSC:4540699761; SGSN:4540699701\n",
      "2020-01-10 10:19:20,785 - CL - INFO - 0006 - RealImsi:724390995549369; Imsi:260060140112280; MSC:4540699762; SGSN:4528130098\n",
      "2020-01-10 10:19:20,786 - CL - INFO - 0007 - RealImsi:425019613047838; Imsi:260060149046338; MSC:4540699762; SGSN:4540699701\n",
      "2020-01-10 10:19:20,786 - CL - INFO - 0008 - RealImsi:425019613029900; Imsi:260060149029900; MSC:4540699762; SGSN:4540699701\n",
      "2020-01-10 10:19:20,787 - CL - INFO - 0009 - RealImsi:425019613051369; Imsi:260060149049869; MSC:4540699762; SGSN:4540699702\n",
      "2020-01-10 10:19:20,788 - CL - INFO - 0010 - RealImsi:425019613051541; Imsi:260060149050041; MSC:4540699762; SGSN:4540699702\n",
      "2020-01-10 10:19:20,789 - CL - INFO - 0011 - RealImsi:425019613051759; Imsi:260060149050259; MSC:4540699762; SGSN:4540699701\n",
      "2020-01-10 10:19:20,790 - CL - INFO - 0012 - RealImsi:260060149999108; Imsi:260060149999108; MSC:4540699761; SGSN:4540699702\n",
      "2020-01-10 10:19:20,790 - CL - INFO - 0013 - RealImsi:260060149999291; Imsi:260060149999291; MSC:4540699761; SGSN:4540699702\n",
      "2020-01-10 10:19:20,791 - CL - INFO - 0014 - RealImsi:260060149999350; Imsi:260060149999350; MSC:4540699762; SGSN:4540699702\n",
      "2020-01-10 10:19:20,792 - CL - INFO - 0015 - RealImsi:425019629959909; Imsi:260060148989909; MSC:4540699761; SGSN:4540699701\n",
      "2020-01-10 10:19:20,793 - CL - INFO - 0016 - RealImsi:425019629953528; Imsi:260060148983528; MSC:4540699762; SGSN:4540699701\n",
      "2020-01-10 10:19:20,794 - CL - INFO - 0017 - RealImsi:260060145950873; Imsi:260060145950873; MSC:4540699761; SGSN:4540699701\n",
      "2020-01-10 10:19:20,795 - CL - INFO - 0018 - RealImsi:425019629956426; Imsi:260060148986426; MSC:4540699761; SGSN:4540699702\n",
      "2020-01-10 10:19:20,796 - CL - INFO - 0019 - RealImsi:425019629955468; Imsi:260060148985468; MSC:4540699761; SGSN:4540699701\n",
      "2020-01-10 10:19:20,797 - CL - INFO - 0020 - RealImsi:425019629956303; Imsi:260060148986303; MSC:4540699761; SGSN:4540699701\n",
      "2020-01-10 10:19:20,797 - CL - INFO - 0021 - RealImsi:425019629956302; Imsi:260060148986302; MSC:4540699762; SGSN:4540699702\n",
      "2020-01-10 10:19:20,799 - CL - INFO - Total subscribers: 22\n"
     ]
    }
   ],
   "source": [
    "# Print subscribers\n",
    "\n",
    "with open(join(downloads, file_name)) as file:\n",
    "    line = file.read()\n",
    "    matches = pattern.findall(line)\n",
    "    \n",
    "    for i, match in enumerate(matches):\n",
    "            logger.info(f'{i:04} - RealImsi:{match[0]}; Imsi:{match[3]}; MSC:{match[1]}; SGSN:{match[2]}')\n",
    "\n",
    "logger.info(f'Total subscribers: {len(matches)}')"
   ]
  },
  {
   "cell_type": "code",
   "execution_count": 13,
   "metadata": {},
   "outputs": [
    {
     "name": "stderr",
     "output_type": "stream",
     "text": [
      "2020-01-10 10:29:49,804 - CL - INFO - 0000 - RealImsi:425019613021941; Imsi:260060149021941; MSC:4540699761; Result:0\n",
      "2020-01-10 10:29:50,485 - CL - INFO - 0000 - RealImsi:425019613021941; Imsi:260060149021941; SGSN:4528130098; Result:0\n",
      "2020-01-10 10:29:51,096 - CL - INFO - 0001 - RealImsi:425019613022446; Imsi:260060149022446; MSC:4540699762; Result:0\n",
      "2020-01-10 10:29:51,824 - CL - INFO - 0001 - RealImsi:425019613022446; Imsi:260060149022446; SGSN:4540699702; Result:0\n",
      "2020-01-10 10:29:52,485 - CL - INFO - 0002 - RealImsi:425019613006700; Imsi:260060140010417; MSC:4540699761; Result:0\n",
      "2020-01-10 10:30:02,612 - CL - INFO - 0002 - RealImsi:425019613006700; Imsi:260060140010417; SGSN:; Result:-1\n",
      "2020-01-10 10:30:03,254 - CL - INFO - 0003 - RealImsi:240400000030601; Imsi:260060140043350; MSC:4540699762; Result:0\n",
      "2020-01-10 10:30:03,997 - CL - INFO - 0003 - RealImsi:240400000030601; Imsi:260060140043350; SGSN:4540699702; Result:0\n",
      "2020-01-10 10:30:04,651 - CL - INFO - 0004 - RealImsi:425019613030055; Imsi:260060140122854; MSC:4540699762; Result:0\n",
      "2020-01-10 10:30:05,360 - CL - INFO - 0004 - RealImsi:425019613030055; Imsi:260060140122854; SGSN:4540699701; Result:0\n",
      "2020-01-10 10:30:05,997 - CL - INFO - 0005 - RealImsi:425019613030364; Imsi:260060140120168; MSC:4540699761; Result:0\n",
      "2020-01-10 10:30:06,647 - CL - INFO - 0005 - RealImsi:425019613030364; Imsi:260060140120168; SGSN:4540699701; Result:0\n",
      "2020-01-10 10:30:07,298 - CL - INFO - 0006 - RealImsi:724390995549369; Imsi:260060140112280; MSC:4540699762; Result:0\n",
      "2020-01-10 10:30:08,036 - CL - INFO - 0006 - RealImsi:724390995549369; Imsi:260060140112280; SGSN:4528130098; Result:0\n",
      "2020-01-10 10:30:08,986 - CL - INFO - 0007 - RealImsi:425019613047838; Imsi:260060149046338; MSC:4540699762; Result:0\n",
      "2020-01-10 10:30:09,835 - CL - INFO - 0007 - RealImsi:425019613047838; Imsi:260060149046338; SGSN:4540699701; Result:0\n",
      "2020-01-10 10:30:10,547 - CL - INFO - 0008 - RealImsi:425019613029900; Imsi:260060149029900; MSC:4540699762; Result:0\n",
      "2020-01-10 10:30:11,168 - CL - INFO - 0008 - RealImsi:425019613029900; Imsi:260060149029900; SGSN:4540699701; Result:0\n",
      "2020-01-10 10:30:11,869 - CL - INFO - 0009 - RealImsi:425019613051369; Imsi:260060149049869; MSC:4540699762; Result:0\n",
      "2020-01-10 10:30:12,528 - CL - INFO - 0009 - RealImsi:425019613051369; Imsi:260060149049869; SGSN:4540699702; Result:0\n",
      "2020-01-10 10:30:13,120 - CL - INFO - 0010 - RealImsi:425019613051541; Imsi:260060149050041; MSC:4540699762; Result:0\n",
      "2020-01-10 10:30:14,116 - CL - INFO - 0010 - RealImsi:425019613051541; Imsi:260060149050041; SGSN:4540699702; Result:0\n",
      "2020-01-10 10:30:14,784 - CL - INFO - 0011 - RealImsi:425019613051759; Imsi:260060149050259; MSC:4540699762; Result:0\n",
      "2020-01-10 10:30:15,527 - CL - INFO - 0011 - RealImsi:425019613051759; Imsi:260060149050259; SGSN:4540699701; Result:0\n",
      "2020-01-10 10:30:16,200 - CL - INFO - 0012 - RealImsi:260060149999108; Imsi:260060149999108; MSC:4540699761; Result:0\n",
      "2020-01-10 10:30:16,876 - CL - INFO - 0012 - RealImsi:260060149999108; Imsi:260060149999108; SGSN:4540699702; Result:0\n",
      "2020-01-10 10:30:17,487 - CL - INFO - 0013 - RealImsi:260060149999291; Imsi:260060149999291; MSC:4540699761; Result:0\n",
      "2020-01-10 10:30:18,127 - CL - INFO - 0013 - RealImsi:260060149999291; Imsi:260060149999291; SGSN:4540699702; Result:0\n",
      "2020-01-10 10:30:19,176 - CL - INFO - 0014 - RealImsi:260060149999350; Imsi:260060149999350; MSC:4540699762; Result:0\n",
      "2020-01-10 10:30:19,877 - CL - INFO - 0014 - RealImsi:260060149999350; Imsi:260060149999350; SGSN:4540699702; Result:0\n",
      "2020-01-10 10:30:23,475 - CL - INFO - 0015 - RealImsi:425019629959909; Imsi:260060148989909; MSC:4540699761; Result:0\n",
      "2020-01-10 10:30:24,165 - CL - INFO - 0015 - RealImsi:425019629959909; Imsi:260060148989909; SGSN:4540699701; Result:0\n",
      "2020-01-10 10:30:24,752 - CL - INFO - 0016 - RealImsi:425019629953528; Imsi:260060148983528; MSC:4540699762; Result:0\n",
      "2020-01-10 10:30:25,471 - CL - INFO - 0016 - RealImsi:425019629953528; Imsi:260060148983528; SGSN:4540699701; Result:0\n",
      "2020-01-10 10:30:26,158 - CL - INFO - 0017 - RealImsi:260060145950873; Imsi:260060145950873; MSC:4540699761; Result:0\n",
      "2020-01-10 10:30:26,866 - CL - INFO - 0017 - RealImsi:260060145950873; Imsi:260060145950873; SGSN:4540699701; Result:0\n",
      "2020-01-10 10:30:27,459 - CL - INFO - 0018 - RealImsi:425019629956426; Imsi:260060148986426; MSC:4540699761; Result:0\n",
      "2020-01-10 10:30:28,554 - CL - INFO - 0018 - RealImsi:425019629956426; Imsi:260060148986426; SGSN:4540699702; Result:0\n",
      "2020-01-10 10:30:29,264 - CL - INFO - 0019 - RealImsi:425019629955468; Imsi:260060148985468; MSC:4540699761; Result:0\n",
      "2020-01-10 10:30:29,965 - CL - INFO - 0019 - RealImsi:425019629955468; Imsi:260060148985468; SGSN:4540699701; Result:0\n",
      "2020-01-10 10:30:30,628 - CL - INFO - 0020 - RealImsi:425019629956303; Imsi:260060148986303; MSC:4540699761; Result:0\n",
      "2020-01-10 10:30:31,327 - CL - INFO - 0020 - RealImsi:425019629956303; Imsi:260060148986303; SGSN:4540699701; Result:0\n",
      "2020-01-10 10:30:32,002 - CL - INFO - 0021 - RealImsi:425019629956302; Imsi:260060148986302; MSC:4540699762; Result:0\n",
      "2020-01-10 10:30:32,611 - CL - INFO - 0021 - RealImsi:425019629956302; Imsi:260060148986302; SGSN:4540699702; Result:0\n",
      "2020-01-10 10:30:32,615 - CL - INFO - All done. 22 subscribers processed.\n",
      "Total elapsed time 0:00:43.521220\n"
     ]
    }
   ],
   "source": [
    "# Send Cancel Location\n",
    "\n",
    "start_time = datetime.now()\n",
    "\n",
    "with open(join(downloads, file_name)) as file:\n",
    "    line = file.read()\n",
    "    matches = pattern.findall(line)\n",
    "    for i, match in enumerate(matches):\n",
    "        if match[0][1]:\n",
    "            cl = BeautifulSoup(rb.cl(sponsor.sponsor_gt, match[1], match[3], d_ssn=7),'xml') # ogt, dgt, imsi\n",
    "            logger.info(f'{i:04} - RealImsi:{match[0]}; Imsi:{match[3]}; MSC:{match[1]}; Result:{cl.result.text}')\n",
    "        if match[0][2]:\n",
    "            cl = BeautifulSoup(rb.cl(sponsor.sponsor_gt, match[2], match[3], d_ssn=149),'xml')\n",
    "            logger.info(f'{i:04} - RealImsi:{match[0]}; Imsi:{match[3]}; SGSN:{match[2]}; Result:{cl.result.text}')\n",
    "            \n",
    "logger.info(f'All done. {len(matches)} subscribers processed.\\nTotal elapsed time {datetime.now() - start_time}')"
   ]
  },
  {
   "cell_type": "code",
   "execution_count": null,
   "metadata": {},
   "outputs": [],
   "source": []
  }
 ],
 "metadata": {
  "kernelspec": {
   "display_name": "Python 3",
   "language": "python",
   "name": "python3"
  },
  "language_info": {
   "codemirror_mode": {
    "name": "ipython",
    "version": 3
   },
   "file_extension": ".py",
   "mimetype": "text/x-python",
   "name": "python",
   "nbconvert_exporter": "python",
   "pygments_lexer": "ipython3",
   "version": "3.6.9"
  }
 },
 "nbformat": 4,
 "nbformat_minor": 2
}
