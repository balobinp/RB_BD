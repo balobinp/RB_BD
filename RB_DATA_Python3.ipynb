{
 "cells": [
  {
   "cell_type": "markdown",
   "metadata": {},
   "source": [
    "## Таблица диапазонов GT NN"
   ]
  },
  {
   "cell_type": "code",
   "execution_count": 29,
   "metadata": {
    "scrolled": true
   },
   "outputs": [
    {
     "data": {
      "text/html": [
       "<div>\n",
       "<style scoped>\n",
       "    .dataframe tbody tr th:only-of-type {\n",
       "        vertical-align: middle;\n",
       "    }\n",
       "\n",
       "    .dataframe tbody tr th {\n",
       "        vertical-align: top;\n",
       "    }\n",
       "\n",
       "    .dataframe thead th {\n",
       "        text-align: right;\n",
       "    }\n",
       "</style>\n",
       "<table border=\"1\" class=\"dataframe\">\n",
       "  <thead>\n",
       "    <tr style=\"text-align: right;\">\n",
       "      <th></th>\n",
       "      <th>COUNTRY</th>\n",
       "      <th>PLMN</th>\n",
       "      <th>TYPE</th>\n",
       "      <th>CCNDC</th>\n",
       "      <th>DEST</th>\n",
       "      <th>NP</th>\n",
       "    </tr>\n",
       "  </thead>\n",
       "  <tbody>\n",
       "    <tr>\n",
       "      <th>0</th>\n",
       "      <td>Abkhazia</td>\n",
       "      <td>ABKHAZIA_67</td>\n",
       "      <td>TITLE</td>\n",
       "      <td>79409</td>\n",
       "      <td>STP_KF</td>\n",
       "      <td>e164</td>\n",
       "    </tr>\n",
       "    <tr>\n",
       "      <th>1</th>\n",
       "      <td>Abkhazia</td>\n",
       "      <td>GEORGIA_67</td>\n",
       "      <td>TITLE</td>\n",
       "      <td>995449</td>\n",
       "      <td>STP_KF</td>\n",
       "      <td>e164</td>\n",
       "    </tr>\n",
       "    <tr>\n",
       "      <th>2</th>\n",
       "      <td>Afghanistan</td>\n",
       "      <td>AFGHANIST_01</td>\n",
       "      <td>TITLE</td>\n",
       "      <td>9370</td>\n",
       "      <td>MW</td>\n",
       "      <td>e164</td>\n",
       "    </tr>\n",
       "    <tr>\n",
       "      <th>3</th>\n",
       "      <td>Afghanistan</td>\n",
       "      <td>AFGHANIST_20</td>\n",
       "      <td>TITLE</td>\n",
       "      <td>9379</td>\n",
       "      <td>MW</td>\n",
       "      <td>e164</td>\n",
       "    </tr>\n",
       "    <tr>\n",
       "      <th>4</th>\n",
       "      <td>Afghanistan</td>\n",
       "      <td>AFGHANIST_40</td>\n",
       "      <td>TITLE</td>\n",
       "      <td>9377</td>\n",
       "      <td>BICS</td>\n",
       "      <td>e164</td>\n",
       "    </tr>\n",
       "  </tbody>\n",
       "</table>\n",
       "</div>"
      ],
      "text/plain": [
       "       COUNTRY          PLMN   TYPE   CCNDC    DEST    NP\n",
       "0     Abkhazia   ABKHAZIA_67  TITLE   79409  STP_KF  e164\n",
       "1     Abkhazia    GEORGIA_67  TITLE  995449  STP_KF  e164\n",
       "2  Afghanistan  AFGHANIST_01  TITLE    9370      MW  e164\n",
       "3  Afghanistan  AFGHANIST_20  TITLE    9379      MW  e164\n",
       "4  Afghanistan  AFGHANIST_40  TITLE    9377    BICS  e164"
      ]
     },
     "execution_count": 29,
     "metadata": {},
     "output_type": "execute_result"
    }
   ],
   "source": [
    "import pandas as pd\n",
    "xls = pd.ExcelFile('.\\DATA\\BOOK_GT_RANGE.xlsx') #Создать объект\n",
    "BOOK_GT_RANGE = xls.parse('BOOK_GT_RANGE') #Генерация DataFrame из определенного листа\n",
    "BOOK_GT_RANGE['CCNDC']=BOOK_GT_RANGE['CCNDC'].astype('object')\n",
    "BOOK_GT_RANGE.head()"
   ]
  },
  {
   "cell_type": "code",
   "execution_count": 30,
   "metadata": {},
   "outputs": [
    {
     "data": {
      "text/plain": [
       "COUNTRY    object\n",
       "PLMN       object\n",
       "TYPE       object\n",
       "CCNDC      object\n",
       "DEST       object\n",
       "NP         object\n",
       "dtype: object"
      ]
     },
     "execution_count": 30,
     "metadata": {},
     "output_type": "execute_result"
    }
   ],
   "source": [
    "BOOK_GT_RANGE.dtypes"
   ]
  },
  {
   "cell_type": "code",
   "execution_count": 32,
   "metadata": {},
   "outputs": [
    {
     "data": {
      "text/html": [
       "<div>\n",
       "<style scoped>\n",
       "    .dataframe tbody tr th:only-of-type {\n",
       "        vertical-align: middle;\n",
       "    }\n",
       "\n",
       "    .dataframe tbody tr th {\n",
       "        vertical-align: top;\n",
       "    }\n",
       "\n",
       "    .dataframe thead th {\n",
       "        text-align: right;\n",
       "    }\n",
       "</style>\n",
       "<table border=\"1\" class=\"dataframe\">\n",
       "  <thead>\n",
       "    <tr style=\"text-align: right;\">\n",
       "      <th></th>\n",
       "      <th>COUNTRY</th>\n",
       "      <th>PLMN</th>\n",
       "      <th>TYPE</th>\n",
       "      <th>CCNDC</th>\n",
       "      <th>DEST</th>\n",
       "      <th>NP</th>\n",
       "    </tr>\n",
       "  </thead>\n",
       "  <tbody>\n",
       "    <tr>\n",
       "      <th>0</th>\n",
       "      <td>Abkhazia</td>\n",
       "      <td>ABKHAZIA_67</td>\n",
       "      <td>TITLE</td>\n",
       "      <td>79409</td>\n",
       "      <td>STP_KF</td>\n",
       "      <td>e164</td>\n",
       "    </tr>\n",
       "    <tr>\n",
       "      <th>1</th>\n",
       "      <td>Abkhazia</td>\n",
       "      <td>GEORGIA_67</td>\n",
       "      <td>TITLE</td>\n",
       "      <td>995449</td>\n",
       "      <td>STP_KF</td>\n",
       "      <td>e164</td>\n",
       "    </tr>\n",
       "  </tbody>\n",
       "</table>\n",
       "</div>"
      ],
      "text/plain": [
       "    COUNTRY         PLMN   TYPE   CCNDC    DEST    NP\n",
       "0  Abkhazia  ABKHAZIA_67  TITLE   79409  STP_KF  e164\n",
       "1  Abkhazia   GEORGIA_67  TITLE  995449  STP_KF  e164"
      ]
     },
     "execution_count": 32,
     "metadata": {},
     "output_type": "execute_result"
    }
   ],
   "source": [
    "BOOK_GT_RANGE[BOOK_GT_RANGE.COUNTRY=='Abkhazia']"
   ]
  },
  {
   "cell_type": "code",
   "execution_count": null,
   "metadata": {},
   "outputs": [],
   "source": []
  }
 ],
 "metadata": {
  "kernelspec": {
   "display_name": "Python 3",
   "language": "python",
   "name": "python3"
  },
  "language_info": {
   "codemirror_mode": {
    "name": "ipython",
    "version": 3
   },
   "file_extension": ".py",
   "mimetype": "text/x-python",
   "name": "python",
   "nbconvert_exporter": "python",
   "pygments_lexer": "ipython3",
   "version": "3.6.3"
  }
 },
 "nbformat": 4,
 "nbformat_minor": 2
}
