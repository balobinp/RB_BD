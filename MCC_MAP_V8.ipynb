{
 "cells": [
  {
   "cell_type": "markdown",
   "metadata": {},
   "source": [
    "## Prepare MCC MAP batch file"
   ]
  },
  {
   "cell_type": "code",
   "execution_count": 1,
   "metadata": {},
   "outputs": [],
   "source": [
    "import pandas as pd\n",
    "from pandas import DataFrame\n",
    "from os.path import join\n",
    "import re\n",
    "downloads = r'c:\\Users\\balob\\Documents\\GITLAB\\RB_BD\\DATA'\n",
    "dmi_allowed_list = 'DMI.dmi_allowed_list_export_Wed_Jun_03_2020.csv'\n",
    "dmi_netpfx = 'DMI.dmi_netpfx_export_Wed_Jun_03_2020.csv'"
   ]
  },
  {
   "cell_type": "code",
   "execution_count": 2,
   "metadata": {},
   "outputs": [
    {
     "name": "stdout",
     "output_type": "stream",
     "text": [
      "Missing MCC:\n"
     ]
    },
    {
     "data": {
      "text/html": [
       "<div>\n",
       "<style scoped>\n",
       "    .dataframe tbody tr th:only-of-type {\n",
       "        vertical-align: middle;\n",
       "    }\n",
       "\n",
       "    .dataframe tbody tr th {\n",
       "        vertical-align: top;\n",
       "    }\n",
       "\n",
       "    .dataframe thead th {\n",
       "        text-align: right;\n",
       "    }\n",
       "</style>\n",
       "<table border=\"1\" class=\"dataframe\">\n",
       "  <thead>\n",
       "    <tr style=\"text-align: right;\">\n",
       "      <th></th>\n",
       "      <th>SPONSOR</th>\n",
       "      <th>TADIG</th>\n",
       "      <th>MCC</th>\n",
       "    </tr>\n",
       "  </thead>\n",
       "  <tbody>\n",
       "  </tbody>\n",
       "</table>\n",
       "</div>"
      ],
      "text/plain": [
       "Empty DataFrame\n",
       "Columns: [SPONSOR, TADIG, MCC]\n",
       "Index: []"
      ]
     },
     "metadata": {},
     "output_type": "display_data"
    },
    {
     "name": "stdout",
     "output_type": "stream",
     "text": [
      "\n",
      "Duplicated MCC for TADIG:\n"
     ]
    },
    {
     "data": {
      "text/html": [
       "<div>\n",
       "<style scoped>\n",
       "    .dataframe tbody tr th:only-of-type {\n",
       "        vertical-align: middle;\n",
       "    }\n",
       "\n",
       "    .dataframe tbody tr th {\n",
       "        vertical-align: top;\n",
       "    }\n",
       "\n",
       "    .dataframe thead th {\n",
       "        text-align: right;\n",
       "    }\n",
       "</style>\n",
       "<table border=\"1\" class=\"dataframe\">\n",
       "  <thead>\n",
       "    <tr style=\"text-align: right;\">\n",
       "      <th></th>\n",
       "      <th>SPONSOR</th>\n",
       "      <th>TADIG</th>\n",
       "      <th>MCC</th>\n",
       "    </tr>\n",
       "  </thead>\n",
       "  <tbody>\n",
       "  </tbody>\n",
       "</table>\n",
       "</div>"
      ],
      "text/plain": [
       "Empty DataFrame\n",
       "Columns: [SPONSOR, TADIG, MCC]\n",
       "Index: []"
      ]
     },
     "metadata": {},
     "output_type": "display_data"
    },
    {
     "name": "stdout",
     "output_type": "stream",
     "text": [
      "\n",
      "Duplicated MCC:\n"
     ]
    },
    {
     "data": {
      "text/html": [
       "<div>\n",
       "<style scoped>\n",
       "    .dataframe tbody tr th:only-of-type {\n",
       "        vertical-align: middle;\n",
       "    }\n",
       "\n",
       "    .dataframe tbody tr th {\n",
       "        vertical-align: top;\n",
       "    }\n",
       "\n",
       "    .dataframe thead th {\n",
       "        text-align: right;\n",
       "    }\n",
       "</style>\n",
       "<table border=\"1\" class=\"dataframe\">\n",
       "  <thead>\n",
       "    <tr style=\"text-align: right;\">\n",
       "      <th></th>\n",
       "      <th>SPONSOR</th>\n",
       "      <th>MCC</th>\n",
       "      <th>COUNTRY_NAME</th>\n",
       "      <th>Profile</th>\n",
       "    </tr>\n",
       "  </thead>\n",
       "  <tbody>\n",
       "  </tbody>\n",
       "</table>\n",
       "</div>"
      ],
      "text/plain": [
       "Empty DataFrame\n",
       "Columns: [SPONSOR, MCC, COUNTRY_NAME, Profile]\n",
       "Index: []"
      ]
     },
     "metadata": {},
     "output_type": "display_data"
    },
    {
     "name": "stdout",
     "output_type": "stream",
     "text": [
      "\n",
      "MCC MAP list (first raws):\n"
     ]
    },
    {
     "data": {
      "text/html": [
       "<div>\n",
       "<style scoped>\n",
       "    .dataframe tbody tr th:only-of-type {\n",
       "        vertical-align: middle;\n",
       "    }\n",
       "\n",
       "    .dataframe tbody tr th {\n",
       "        vertical-align: top;\n",
       "    }\n",
       "\n",
       "    .dataframe thead th {\n",
       "        text-align: right;\n",
       "    }\n",
       "</style>\n",
       "<table border=\"1\" class=\"dataframe\">\n",
       "  <thead>\n",
       "    <tr style=\"text-align: right;\">\n",
       "      <th></th>\n",
       "      <th>SPONSOR</th>\n",
       "      <th>MCC</th>\n",
       "      <th>COUNTRY_NAME</th>\n",
       "      <th>Profile</th>\n",
       "    </tr>\n",
       "  </thead>\n",
       "  <tbody>\n",
       "    <tr>\n",
       "      <td>0</td>\n",
       "      <td>S2_SIMT_STS</td>\n",
       "      <td>202</td>\n",
       "      <td>@</td>\n",
       "      <td>SIMTEX_MAP</td>\n",
       "    </tr>\n",
       "    <tr>\n",
       "      <td>1</td>\n",
       "      <td>S4_SIMT_STS</td>\n",
       "      <td>455</td>\n",
       "      <td>@</td>\n",
       "      <td>SIMTEX_MAP</td>\n",
       "    </tr>\n",
       "    <tr>\n",
       "      <td>2</td>\n",
       "      <td>S4_SIMT_STS</td>\n",
       "      <td>520</td>\n",
       "      <td>@</td>\n",
       "      <td>SIMTEX_MAP</td>\n",
       "    </tr>\n",
       "  </tbody>\n",
       "</table>\n",
       "</div>"
      ],
      "text/plain": [
       "       SPONSOR  MCC COUNTRY_NAME     Profile\n",
       "0  S2_SIMT_STS  202            @  SIMTEX_MAP\n",
       "1  S4_SIMT_STS  455            @  SIMTEX_MAP\n",
       "2  S4_SIMT_STS  520            @  SIMTEX_MAP"
      ]
     },
     "metadata": {},
     "output_type": "display_data"
    },
    {
     "data": {
      "text/plain": [
       "SPONSOR\n",
       "S1_SIMT_STS    85\n",
       "S2_SIMT_STS    29\n",
       "S4_SIMT_STS     4\n",
       "Name: MCC, dtype: int64"
      ]
     },
     "metadata": {},
     "output_type": "display_data"
    }
   ],
   "source": [
    "# Подготовить DataFrame на основе заданного Allowed List\n",
    "\n",
    "# Задать название MCC MAP профайла\n",
    "profile = 'SIMTEX_MAP'\n",
    "\n",
    "# Задать список Allowed Lists, которые будут использоваться для генерации MCC MAP профайла\n",
    "s1_al_name = 'Partner_SIMT_COM'\n",
    "s2_al_name = 'P4_SIMTEX_COMB'\n",
    "s4_al_name = 'MB_SIMTEX_COMB'\n",
    "s5_al_name = ''\n",
    "s6_al_name = ''\n",
    "s8_al_name = ''\n",
    "\n",
    "# Задать имена используемых [sts] Sponsor Profile\n",
    "# Правило наименования 'SX_<NAME><XX>_STS' Например'S1_DENT01_STS'\n",
    "s1_sts_profile_name = 'S1_SIMT_STS'\n",
    "s2_sts_profile_name = 'S2_SIMT_STS'\n",
    "s4_sts_profile_name = 'S4_SIMT_STS'\n",
    "s5_sts_profile_name = ''\n",
    "s6_sts_profile_name = ''\n",
    "s8_sts_profile_name = ''\n",
    "\n",
    "sponsor_list = [s1_al_name, s2_al_name, s4_al_name, s5_al_name, s6_al_name, s8_al_name]\n",
    "\n",
    "# Prepare allowed list\n",
    "\n",
    "#Like expression for Allowed List\n",
    "df_al=pd.read_csv(join(downloads, dmi_allowed_list), usecols=['Sponsor','PLMN code'])\n",
    "df_al['SPONSOR'] = df_al['Sponsor'].replace(to_replace={r'^[Pp][Aa][rtner]?[\\s\\w-]*|^S1_[\\s\\w-]*':s1_sts_profile_name,\n",
    "                                                        r'^[Pp]4[\\s\\w-]*|^S2_[\\s\\w-]*':s2_sts_profile_name,\n",
    "                                                        r'^[Mm][Bb][\\s\\w-]*|^S4_[\\s\\w-]*':s4_sts_profile_name,\n",
    "                                                        r'^SMART[\\s\\w-]*|^S5_[\\s\\w-]*':s5_sts_profile_name,\n",
    "                                                        r'^S6_[\\s\\w-]*':s6_sts_profile_name,\n",
    "                                                        r'^S8_[\\s\\w-]*':s8_sts_profile_name}, regex=True)\n",
    "\n",
    "df_al.rename({'PLMN code':'TADIG'}, axis=1, inplace=True)\n",
    "\n",
    "df_al = df_al.loc[df_al.Sponsor.isin(sponsor_list),['SPONSOR','TADIG']]\n",
    "\n",
    "# Prepare mccmnc list from netpfx\n",
    "\n",
    "df_np=pd.read_csv(join(downloads, dmi_netpfx), usecols=['Operator','MCC'], dtype={'MCC':'str'}).drop_duplicates()\n",
    "df_np.rename({'Operator':'TADIG'}, axis=1, inplace=True)\n",
    "\n",
    "df_mcc_map = pd.merge(df_al, df_np, how='left', on='TADIG')\n",
    "\n",
    "# Missing MCC\n",
    "\n",
    "print('Missing MCC:')\n",
    "display(df_mcc_map[df_mcc_map.MCC.isnull()])\n",
    "\n",
    "# Duplicated MCC for TADIG\n",
    "\n",
    "print('\\nDuplicated MCC for TADIG:')\n",
    "duplicated_mcc_list = [x[0] for x in\n",
    "                       df_mcc_map.groupby('TADIG',as_index=False)['SPONSOR'].\n",
    "                       count().values if x[1] > 1]\n",
    "display(df_mcc_map[df_mcc_map.TADIG.isin(duplicated_mcc_list)])\n",
    "\n",
    "# Prepare DataFrame with SPONSOR and MCC only\n",
    "\n",
    "df_mcc = df_mcc_map[['SPONSOR','MCC']].drop_duplicates()\n",
    "\n",
    "df_mcc['COUNTRY_NAME'] = '@'\n",
    "df_mcc['Profile'] = profile\n",
    "\n",
    "#*******************************************************************\n",
    "# Adjustments if needed\n",
    "\n",
    "# df_mcc.loc[df_mcc.MCC.isin(['455','452','520','219','297','294']),'SPONSOR'] = 'MB'\n",
    "\n",
    "#*******************************************************************\n",
    "\n",
    "# Check for Duplicated MCC\n",
    "\n",
    "print('\\nDuplicated MCC:')\n",
    "duplicated_mcc_list = [x[0] for x in\n",
    "                       df_mcc.groupby(['SPONSOR','MCC'], as_index=False)['Profile'].\n",
    "                       count().values if x[2] > 1]\n",
    "display(df_mcc[df_mcc.MCC.isin(duplicated_mcc_list)])\n",
    "\n",
    "# The result\n",
    "\n",
    "print('\\nMCC MAP list (first raws):')\n",
    "display(df_mcc.head(3))\n",
    "display(df_mcc.groupby('SPONSOR')['MCC'].count())"
   ]
  },
  {
   "cell_type": "code",
   "execution_count": 3,
   "metadata": {},
   "outputs": [],
   "source": [
    "# Create TOC file to CREATE MCC MAP list\n",
    "\n",
    "result_file_name = f'{profile.lower()}_toc_create.rcjson'\n",
    "\n",
    "ouf=open(join(downloads, result_file_name),'w')\n",
    "#ouf.write('Some text\\n')\n",
    "#ouf.write(str(25))\n",
    "\n",
    "num_val = df_mcc.count()[0]-1\n",
    "\n",
    "t1='dmi_mcc_map.mcc_map.create,COUNTRY=\"\",MCC=\"'\n",
    "t2='\",PROFILE_REF=\"'\n",
    "t3='\",SPONSOR_REF=\"'\n",
    "t4='\";\\n'\n",
    "\n",
    "for i, [sponsor, country, mcc, profile] in enumerate(df_mcc[['SPONSOR','COUNTRY_NAME','MCC','Profile']].values):\n",
    "    ouf.write(t1+str(mcc)+t2+profile+t3+sponsor+t4)\n",
    "\n",
    "ouf.close()"
   ]
  },
  {
   "cell_type": "code",
   "execution_count": 4,
   "metadata": {},
   "outputs": [],
   "source": [
    "# Create Batch file to CREATE MCC MAP list\n",
    "\n",
    "result_file_name = f'{profile.lower()}_create.rcjson'\n",
    "\n",
    "ouf=open(join(downloads, result_file_name),'w')\n",
    "#ouf.write('Some text\\n')\n",
    "#ouf.write(str(25))\n",
    "\n",
    "num_val = df_mcc.count()[0]-1\n",
    "\n",
    "t1='{\"params\":{\"country\":\"'\n",
    "t2='\",\"mcc\":\"'\n",
    "t3='\",\"profile\":\"'\n",
    "t4='\",\"sponsorReference\":\"'\n",
    "t5='\"},\"type\":\"create\",\"caption\":\"dmi_mcc_map_mcc_map\",\"objectId\":\"DMI MCC MAP.dmi_mcc_map_mcc_map\",\"serviceId\":\"DMI MCC MAP\"}'\n",
    "\n",
    "ouf.write('[')\n",
    "for i, [sponsor, country, mcc, profile] in enumerate(df_mcc[['SPONSOR','COUNTRY_NAME','MCC','Profile']].values):\n",
    "    ouf.write(t1+country+t2+str(mcc)+t3+profile+t4+sponsor+t5)\n",
    "    if i < num_val:\n",
    "        ouf.write(',')\n",
    "ouf.write(']')\n",
    "\n",
    "ouf.close()"
   ]
  },
  {
   "cell_type": "code",
   "execution_count": 5,
   "metadata": {},
   "outputs": [
    {
     "ename": "FileNotFoundError",
     "evalue": "[Errno 2] File b'c:\\\\Users\\\\balob\\\\Documents\\\\GITLAB\\\\RB_BD\\\\DATA\\\\DMI MCC MAP.dmi_mcc_map_mcc_map_export_Tue_Aug_13_2019.csv' does not exist: b'c:\\\\Users\\\\balob\\\\Documents\\\\GITLAB\\\\RB_BD\\\\DATA\\\\DMI MCC MAP.dmi_mcc_map_mcc_map_export_Tue_Aug_13_2019.csv'",
     "output_type": "error",
     "traceback": [
      "\u001b[1;31m---------------------------------------------------------------------------\u001b[0m",
      "\u001b[1;31mFileNotFoundError\u001b[0m                         Traceback (most recent call last)",
      "\u001b[1;32m<ipython-input-5-3f17db889ed3>\u001b[0m in \u001b[0;36m<module>\u001b[1;34m\u001b[0m\n\u001b[0;32m      5\u001b[0m \u001b[0mfile_mcc_map_dmi\u001b[0m \u001b[1;33m=\u001b[0m \u001b[1;34m'DMI MCC MAP.dmi_mcc_map_mcc_map_export_Tue_Aug_13_2019.csv'\u001b[0m\u001b[1;33m\u001b[0m\u001b[1;33m\u001b[0m\u001b[0m\n\u001b[0;32m      6\u001b[0m \u001b[1;33m\u001b[0m\u001b[0m\n\u001b[1;32m----> 7\u001b[1;33m \u001b[0mdf_mcc_delete\u001b[0m \u001b[1;33m=\u001b[0m \u001b[0mpd\u001b[0m\u001b[1;33m.\u001b[0m\u001b[0mread_csv\u001b[0m\u001b[1;33m(\u001b[0m\u001b[0mjoin\u001b[0m\u001b[1;33m(\u001b[0m\u001b[0mdownloads\u001b[0m\u001b[1;33m,\u001b[0m \u001b[0mfile_mcc_map_dmi\u001b[0m\u001b[1;33m)\u001b[0m\u001b[1;33m)\u001b[0m\u001b[1;33m\u001b[0m\u001b[1;33m\u001b[0m\u001b[0m\n\u001b[0m\u001b[0;32m      8\u001b[0m \u001b[0mdf_mcc_delete\u001b[0m\u001b[1;33m.\u001b[0m\u001b[0mrename\u001b[0m\u001b[1;33m(\u001b[0m\u001b[1;33m{\u001b[0m\u001b[1;34m'Sponsor reference'\u001b[0m\u001b[1;33m:\u001b[0m\u001b[1;34m'SPONSOR'\u001b[0m\u001b[1;33m,\u001b[0m\u001b[1;34m'Country'\u001b[0m\u001b[1;33m:\u001b[0m\u001b[1;34m'COUNTRY_NAME'\u001b[0m\u001b[1;33m}\u001b[0m\u001b[1;33m,\u001b[0m \u001b[0maxis\u001b[0m\u001b[1;33m=\u001b[0m\u001b[1;36m1\u001b[0m\u001b[1;33m,\u001b[0m \u001b[0minplace\u001b[0m\u001b[1;33m=\u001b[0m\u001b[1;32mTrue\u001b[0m\u001b[1;33m)\u001b[0m\u001b[1;33m\u001b[0m\u001b[1;33m\u001b[0m\u001b[0m\n\u001b[0;32m      9\u001b[0m \u001b[0mdf_mcc_delete\u001b[0m\u001b[1;33m.\u001b[0m\u001b[0mCOUNTRY_NAME\u001b[0m\u001b[1;33m.\u001b[0m\u001b[0mfillna\u001b[0m\u001b[1;33m(\u001b[0m\u001b[1;34m''\u001b[0m\u001b[1;33m,\u001b[0m \u001b[0minplace\u001b[0m\u001b[1;33m=\u001b[0m\u001b[1;32mTrue\u001b[0m\u001b[1;33m)\u001b[0m\u001b[1;33m\u001b[0m\u001b[1;33m\u001b[0m\u001b[0m\n",
      "\u001b[1;32m~\\Miniconda3\\lib\\site-packages\\pandas\\io\\parsers.py\u001b[0m in \u001b[0;36mparser_f\u001b[1;34m(filepath_or_buffer, sep, delimiter, header, names, index_col, usecols, squeeze, prefix, mangle_dupe_cols, dtype, engine, converters, true_values, false_values, skipinitialspace, skiprows, skipfooter, nrows, na_values, keep_default_na, na_filter, verbose, skip_blank_lines, parse_dates, infer_datetime_format, keep_date_col, date_parser, dayfirst, cache_dates, iterator, chunksize, compression, thousands, decimal, lineterminator, quotechar, quoting, doublequote, escapechar, comment, encoding, dialect, error_bad_lines, warn_bad_lines, delim_whitespace, low_memory, memory_map, float_precision)\u001b[0m\n\u001b[0;32m    683\u001b[0m         )\n\u001b[0;32m    684\u001b[0m \u001b[1;33m\u001b[0m\u001b[0m\n\u001b[1;32m--> 685\u001b[1;33m         \u001b[1;32mreturn\u001b[0m \u001b[0m_read\u001b[0m\u001b[1;33m(\u001b[0m\u001b[0mfilepath_or_buffer\u001b[0m\u001b[1;33m,\u001b[0m \u001b[0mkwds\u001b[0m\u001b[1;33m)\u001b[0m\u001b[1;33m\u001b[0m\u001b[1;33m\u001b[0m\u001b[0m\n\u001b[0m\u001b[0;32m    686\u001b[0m \u001b[1;33m\u001b[0m\u001b[0m\n\u001b[0;32m    687\u001b[0m     \u001b[0mparser_f\u001b[0m\u001b[1;33m.\u001b[0m\u001b[0m__name__\u001b[0m \u001b[1;33m=\u001b[0m \u001b[0mname\u001b[0m\u001b[1;33m\u001b[0m\u001b[1;33m\u001b[0m\u001b[0m\n",
      "\u001b[1;32m~\\Miniconda3\\lib\\site-packages\\pandas\\io\\parsers.py\u001b[0m in \u001b[0;36m_read\u001b[1;34m(filepath_or_buffer, kwds)\u001b[0m\n\u001b[0;32m    455\u001b[0m \u001b[1;33m\u001b[0m\u001b[0m\n\u001b[0;32m    456\u001b[0m     \u001b[1;31m# Create the parser.\u001b[0m\u001b[1;33m\u001b[0m\u001b[1;33m\u001b[0m\u001b[1;33m\u001b[0m\u001b[0m\n\u001b[1;32m--> 457\u001b[1;33m     \u001b[0mparser\u001b[0m \u001b[1;33m=\u001b[0m \u001b[0mTextFileReader\u001b[0m\u001b[1;33m(\u001b[0m\u001b[0mfp_or_buf\u001b[0m\u001b[1;33m,\u001b[0m \u001b[1;33m**\u001b[0m\u001b[0mkwds\u001b[0m\u001b[1;33m)\u001b[0m\u001b[1;33m\u001b[0m\u001b[1;33m\u001b[0m\u001b[0m\n\u001b[0m\u001b[0;32m    458\u001b[0m \u001b[1;33m\u001b[0m\u001b[0m\n\u001b[0;32m    459\u001b[0m     \u001b[1;32mif\u001b[0m \u001b[0mchunksize\u001b[0m \u001b[1;32mor\u001b[0m \u001b[0miterator\u001b[0m\u001b[1;33m:\u001b[0m\u001b[1;33m\u001b[0m\u001b[1;33m\u001b[0m\u001b[0m\n",
      "\u001b[1;32m~\\Miniconda3\\lib\\site-packages\\pandas\\io\\parsers.py\u001b[0m in \u001b[0;36m__init__\u001b[1;34m(self, f, engine, **kwds)\u001b[0m\n\u001b[0;32m    893\u001b[0m             \u001b[0mself\u001b[0m\u001b[1;33m.\u001b[0m\u001b[0moptions\u001b[0m\u001b[1;33m[\u001b[0m\u001b[1;34m\"has_index_names\"\u001b[0m\u001b[1;33m]\u001b[0m \u001b[1;33m=\u001b[0m \u001b[0mkwds\u001b[0m\u001b[1;33m[\u001b[0m\u001b[1;34m\"has_index_names\"\u001b[0m\u001b[1;33m]\u001b[0m\u001b[1;33m\u001b[0m\u001b[1;33m\u001b[0m\u001b[0m\n\u001b[0;32m    894\u001b[0m \u001b[1;33m\u001b[0m\u001b[0m\n\u001b[1;32m--> 895\u001b[1;33m         \u001b[0mself\u001b[0m\u001b[1;33m.\u001b[0m\u001b[0m_make_engine\u001b[0m\u001b[1;33m(\u001b[0m\u001b[0mself\u001b[0m\u001b[1;33m.\u001b[0m\u001b[0mengine\u001b[0m\u001b[1;33m)\u001b[0m\u001b[1;33m\u001b[0m\u001b[1;33m\u001b[0m\u001b[0m\n\u001b[0m\u001b[0;32m    896\u001b[0m \u001b[1;33m\u001b[0m\u001b[0m\n\u001b[0;32m    897\u001b[0m     \u001b[1;32mdef\u001b[0m \u001b[0mclose\u001b[0m\u001b[1;33m(\u001b[0m\u001b[0mself\u001b[0m\u001b[1;33m)\u001b[0m\u001b[1;33m:\u001b[0m\u001b[1;33m\u001b[0m\u001b[1;33m\u001b[0m\u001b[0m\n",
      "\u001b[1;32m~\\Miniconda3\\lib\\site-packages\\pandas\\io\\parsers.py\u001b[0m in \u001b[0;36m_make_engine\u001b[1;34m(self, engine)\u001b[0m\n\u001b[0;32m   1133\u001b[0m     \u001b[1;32mdef\u001b[0m \u001b[0m_make_engine\u001b[0m\u001b[1;33m(\u001b[0m\u001b[0mself\u001b[0m\u001b[1;33m,\u001b[0m \u001b[0mengine\u001b[0m\u001b[1;33m=\u001b[0m\u001b[1;34m\"c\"\u001b[0m\u001b[1;33m)\u001b[0m\u001b[1;33m:\u001b[0m\u001b[1;33m\u001b[0m\u001b[1;33m\u001b[0m\u001b[0m\n\u001b[0;32m   1134\u001b[0m         \u001b[1;32mif\u001b[0m \u001b[0mengine\u001b[0m \u001b[1;33m==\u001b[0m \u001b[1;34m\"c\"\u001b[0m\u001b[1;33m:\u001b[0m\u001b[1;33m\u001b[0m\u001b[1;33m\u001b[0m\u001b[0m\n\u001b[1;32m-> 1135\u001b[1;33m             \u001b[0mself\u001b[0m\u001b[1;33m.\u001b[0m\u001b[0m_engine\u001b[0m \u001b[1;33m=\u001b[0m \u001b[0mCParserWrapper\u001b[0m\u001b[1;33m(\u001b[0m\u001b[0mself\u001b[0m\u001b[1;33m.\u001b[0m\u001b[0mf\u001b[0m\u001b[1;33m,\u001b[0m \u001b[1;33m**\u001b[0m\u001b[0mself\u001b[0m\u001b[1;33m.\u001b[0m\u001b[0moptions\u001b[0m\u001b[1;33m)\u001b[0m\u001b[1;33m\u001b[0m\u001b[1;33m\u001b[0m\u001b[0m\n\u001b[0m\u001b[0;32m   1136\u001b[0m         \u001b[1;32melse\u001b[0m\u001b[1;33m:\u001b[0m\u001b[1;33m\u001b[0m\u001b[1;33m\u001b[0m\u001b[0m\n\u001b[0;32m   1137\u001b[0m             \u001b[1;32mif\u001b[0m \u001b[0mengine\u001b[0m \u001b[1;33m==\u001b[0m \u001b[1;34m\"python\"\u001b[0m\u001b[1;33m:\u001b[0m\u001b[1;33m\u001b[0m\u001b[1;33m\u001b[0m\u001b[0m\n",
      "\u001b[1;32m~\\Miniconda3\\lib\\site-packages\\pandas\\io\\parsers.py\u001b[0m in \u001b[0;36m__init__\u001b[1;34m(self, src, **kwds)\u001b[0m\n\u001b[0;32m   1915\u001b[0m         \u001b[0mkwds\u001b[0m\u001b[1;33m[\u001b[0m\u001b[1;34m\"usecols\"\u001b[0m\u001b[1;33m]\u001b[0m \u001b[1;33m=\u001b[0m \u001b[0mself\u001b[0m\u001b[1;33m.\u001b[0m\u001b[0musecols\u001b[0m\u001b[1;33m\u001b[0m\u001b[1;33m\u001b[0m\u001b[0m\n\u001b[0;32m   1916\u001b[0m \u001b[1;33m\u001b[0m\u001b[0m\n\u001b[1;32m-> 1917\u001b[1;33m         \u001b[0mself\u001b[0m\u001b[1;33m.\u001b[0m\u001b[0m_reader\u001b[0m \u001b[1;33m=\u001b[0m \u001b[0mparsers\u001b[0m\u001b[1;33m.\u001b[0m\u001b[0mTextReader\u001b[0m\u001b[1;33m(\u001b[0m\u001b[0msrc\u001b[0m\u001b[1;33m,\u001b[0m \u001b[1;33m**\u001b[0m\u001b[0mkwds\u001b[0m\u001b[1;33m)\u001b[0m\u001b[1;33m\u001b[0m\u001b[1;33m\u001b[0m\u001b[0m\n\u001b[0m\u001b[0;32m   1918\u001b[0m         \u001b[0mself\u001b[0m\u001b[1;33m.\u001b[0m\u001b[0munnamed_cols\u001b[0m \u001b[1;33m=\u001b[0m \u001b[0mself\u001b[0m\u001b[1;33m.\u001b[0m\u001b[0m_reader\u001b[0m\u001b[1;33m.\u001b[0m\u001b[0munnamed_cols\u001b[0m\u001b[1;33m\u001b[0m\u001b[1;33m\u001b[0m\u001b[0m\n\u001b[0;32m   1919\u001b[0m \u001b[1;33m\u001b[0m\u001b[0m\n",
      "\u001b[1;32mpandas\\_libs\\parsers.pyx\u001b[0m in \u001b[0;36mpandas._libs.parsers.TextReader.__cinit__\u001b[1;34m()\u001b[0m\n",
      "\u001b[1;32mpandas\\_libs\\parsers.pyx\u001b[0m in \u001b[0;36mpandas._libs.parsers.TextReader._setup_parser_source\u001b[1;34m()\u001b[0m\n",
      "\u001b[1;31mFileNotFoundError\u001b[0m: [Errno 2] File b'c:\\\\Users\\\\balob\\\\Documents\\\\GITLAB\\\\RB_BD\\\\DATA\\\\DMI MCC MAP.dmi_mcc_map_mcc_map_export_Tue_Aug_13_2019.csv' does not exist: b'c:\\\\Users\\\\balob\\\\Documents\\\\GITLAB\\\\RB_BD\\\\DATA\\\\DMI MCC MAP.dmi_mcc_map_mcc_map_export_Tue_Aug_13_2019.csv'"
     ]
    }
   ],
   "source": [
    "# Create Batch file to DELETE MCC MAP list\n",
    "\n",
    "result_file_name = 'mcc_map_delete.rcjson'\n",
    "\n",
    "file_mcc_map_dmi = 'DMI MCC MAP.dmi_mcc_map_mcc_map_export_Tue_Aug_13_2019.csv'\n",
    "\n",
    "df_mcc_delete = pd.read_csv(join(downloads, file_mcc_map_dmi))\n",
    "df_mcc_delete.rename({'Sponsor reference':'SPONSOR','Country':'COUNTRY_NAME'}, axis=1, inplace=True)\n",
    "df_mcc_delete.COUNTRY_NAME.fillna('', inplace=True)\n",
    "\n",
    "ouf=open(join(downloads, result_file_name), 'w')\n",
    "\n",
    "num_val = df_mcc_delete.count()[0]-1\n",
    "\n",
    "t1='{\"params\":{\"country\":\"'\n",
    "t2='\",\"mcc\":\"'\n",
    "t3='\",\"profile\":\"'\n",
    "t4='\",\"sponsorReference\":\"'\n",
    "t5='\"},\"type\":\"remove\",\"caption\":\"dmi_mcc_map_mcc_map\",\"objectId\":\"DMI MCC MAP.dmi_mcc_map_mcc_map\",\"serviceId\":\"DMI MCC MAP\"}'\n",
    "\n",
    "ouf.write('[')\n",
    "for i, [sponsor, country, mcc, profile] in enumerate(df_mcc_delete[['SPONSOR','COUNTRY_NAME','MCC','Profile']].values):\n",
    "    ouf.write(t1+str(country)+t2+str(mcc)+t3+profile+t4+sponsor+t5)\n",
    "    if i < num_val:\n",
    "        ouf.write(',')\n",
    "ouf.write(']')\n",
    "\n",
    "ouf.close()"
   ]
  }
 ],
 "metadata": {
  "kernelspec": {
   "display_name": "Python 3",
   "language": "python",
   "name": "python3"
  },
  "language_info": {
   "codemirror_mode": {
    "name": "ipython",
    "version": 3
   },
   "file_extension": ".py",
   "mimetype": "text/x-python",
   "name": "python",
   "nbconvert_exporter": "python",
   "pygments_lexer": "ipython3",
   "version": "3.6.9"
  }
 },
 "nbformat": 4,
 "nbformat_minor": 2
}
