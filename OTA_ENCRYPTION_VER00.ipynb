{
 "cells": [
  {
   "cell_type": "code",
   "execution_count": 5,
   "metadata": {},
   "outputs": [],
   "source": [
    "import roamability as rb\n",
    "\n",
    "import http\n",
    "import re\n",
    "from bs4 import BeautifulSoup\n",
    "import sys\n",
    "\n",
    "ss7_url = \"172.18.11.10\"\n",
    "ss7_path = \"/cgi-bin/ss7gw.fcgi\"\n",
    "\n",
    "def executeHTTP(request, url, path):\n",
    "    client = http.client.HTTPConnection(url)\n",
    "    client.request(\"POST\", path, request, {\"Content-Type\": \"text/xml\"})\n",
    "    resp = client.getresponse()\n",
    "    return resp.read()\n",
    "\n",
    "def sri4sm(ogt, msisdn, dgt):\n",
    "    req = \"\"\"<?xml version=\\\"1.0\\\"?>\n",
    "        <ss7gw request=\\\"SRI_SM\\\">\n",
    "        <d_ssn>6</d_ssn>\n",
    "        <o_ssn>8</o_ssn>\n",
    "        <sccp_np>7</sccp_np>\n",
    "        <o_gt>%s</o_gt>\n",
    "        <d_gt>%s</d_gt>\n",
    "        <msisdn>%s</msisdn>\n",
    "        <priority>1</priority>\n",
    "        <address>%s</address>\n",
    "        </ss7gw>\"\"\" % (ogt, dgt, msisdn, ogt)\n",
    "    resp = executeHTTP(req, ss7_url, ss7_path)\n",
    "    return resp\n",
    "\n",
    "def sendSMS(ogt, imsi, msc, payload):\n",
    "    req = \"\"\"<ss7gw request=\\\"MTSMS_OTA\\\">\n",
    "        <d_ssn>8</d_ssn>\n",
    "        <o_ssn>8</o_ssn>\n",
    "        <o_gt>%s</o_gt>\n",
    "        <d_gt>%s</d_gt>\n",
    "        <imsi>%s</imsi>\n",
    "        <password>123</password>\n",
    "        <sc_number>%s</sc_number>\n",
    "        <key_id>1</key_id>\n",
    "        <command>1</command>\n",
    "        <corr_id>1</corr_id>\n",
    "        <seed>1122</seed>\n",
    "        <msisdn>972559300036</msisdn>\n",
    "        <message>%s</message>\n",
    "        <sms_imsi>%s</sms_imsi>\n",
    "        <map>3</map>\n",
    "        </ss7gw>\"\"\" % (ogt, msc, imsi, ogt, payload, imsi)\n",
    "    resp = executeHTTP(req, ss7_url, ss7_path)\n",
    "    return resp"
   ]
  },
  {
   "cell_type": "code",
   "execution_count": 28,
   "metadata": {},
   "outputs": [
    {
     "name": "stdout",
     "output_type": "stream",
     "text": [
      "The original plaintext: 4E3F0E5A000000010018BC\n",
      "Plaintext 8 byte part 1: 4E3F0E5A00000001\n",
      "Plaintext 8 byte part 2: 0018BC0000000000\n",
      "Encrypted:        F89EFD3C839828BED542AFD9CB01AF1, len: 31\n",
      "Original example: 2028D0FC11B4CD2E540704D7775B065DA8, len: 34\n"
     ]
    }
   ],
   "source": [
    "# Encrypt plaintext to OTA payload\n",
    "\n",
    "import math\n",
    "from Crypto.Cipher import DES3\n",
    "\n",
    "# Roamability Test keys example\n",
    "\n",
    "key_hex_str = 'D0AEE50D70087C19D773696FE698C78832432DF14F2487D1'\n",
    "key = bytes.fromhex(key_hex_str)\n",
    "\n",
    "# Plaintext\n",
    "\n",
    "plaintext = '4E3F0E5A000000010018BC'\n",
    "print(f'The original plaintext: {plaintext}')\n",
    "\n",
    "# Split plaintext into 8 byte parts for DES3 CBC encryption\n",
    "\n",
    "byte_array_list = []\n",
    "for i in range(1, math.ceil(len(plaintext)/16)+1):\n",
    "    hex_str = f'{plaintext[(i-1)*16:i*16]:0<16}'\n",
    "    print(f'Plaintext 8 byte part {i}: {hex_str}')\n",
    "    byte_array = bytes.fromhex(hex_str)\n",
    "    byte_array_list.append(byte_array)\n",
    "\n",
    "# Create cipher\n",
    "\n",
    "cipher = DES3.new(key, DES3.MODE_CBC)\n",
    "\n",
    "# Encrypt 8 byte parts\n",
    "\n",
    "cipher_str = ''\n",
    "for byte_array in byte_array_list:\n",
    "    msg = cipher.encrypt(byte_array_list[0])\n",
    "    for b in msg:\n",
    "        cipher_str += f'{b:X}'\n",
    "print(f'Encrypted:        {cipher_str}, len: {len(cipher_str)}')\n",
    "example = '2028D0FC11B4CD2E540704D7775B065DA8'\n",
    "print(f'Original example: {example}, len: {len(example)}')\n",
    "\n",
    "# https://pycryptodome.readthedocs.io/en/latest/src/cipher/des3.html"
   ]
  },
  {
   "cell_type": "code",
   "execution_count": 15,
   "metadata": {},
   "outputs": [
    {
     "data": {
      "text/plain": [
       "34"
      ]
     },
     "execution_count": 15,
     "metadata": {},
     "output_type": "execute_result"
    }
   ],
   "source": [
    "len('2028D0FC11B4CD2E540704D7775B065DA8')"
   ]
  },
  {
   "cell_type": "code",
   "execution_count": 35,
   "metadata": {},
   "outputs": [
    {
     "name": "stdout",
     "output_type": "stream",
     "text": [
      "0x95\n"
     ]
    }
   ],
   "source": [
    "checksum = 0\n",
    "example = '2028D0FC11B4CD2E540704D7775B065DA8'\n",
    "packet = bytes.fromhex(example[:-2])\n",
    "# XOR checksum\n",
    "for el in packet:\n",
    "    checksum ^= el\n",
    "print(hex(checksum))"
   ]
  },
  {
   "cell_type": "code",
   "execution_count": 10,
   "metadata": {},
   "outputs": [
    {
     "name": "stdout",
     "output_type": "stream",
     "text": [
      "02700000240D00010000BFFF01000000000016FBF7FF7F1F0E0FCB4100001FE3869804070000000000\n"
     ]
    }
   ],
   "source": [
    "# Make payload for SMS\n",
    "\n",
    "ota_payload = '16FBF7FF7F1F0E0FCB4100001FE3869804070000000000'\n",
    "\n",
    "as_rp = '0D0001'\n",
    "as_mo = '0D0021'\n",
    "header = '0000BFFF010000000000'\n",
    "l = (len(ota_payload) + len(as_rp) + len(header))/2\n",
    "sms_payload = f'02700000{int(l):X}{as_rp}0000BFFF010000000000{ota_payload}'\n",
    "print(sms_payload)"
   ]
  },
  {
   "cell_type": "code",
   "execution_count": 11,
   "metadata": {},
   "outputs": [
    {
     "data": {
      "text/plain": [
       "<?xml version=\"1.0\" encoding=\"utf-8\"?>\n",
       "<response>\n",
       "<result>-1</result>\n",
       "<error>timeout</error>\n",
       "<src_gt/>\n",
       "</response>"
      ]
     },
     "execution_count": 11,
     "metadata": {},
     "output_type": "execute_result"
    }
   ],
   "source": [
    "# Send a SMS\n",
    "\n",
    "# sms_payload = rb.get_info\n",
    "sms_payload = ota_payload\n",
    "# resp = sendSMS('97254120624', '425019613000536', '79112009927', sms_payload.upper()) # My test SIM\n",
    "resp = sendSMS('550170002133', '724179999990002', '551184137200', sms_payload.upper())\n",
    "BeautifulSoup(resp,'xml')"
   ]
  },
  {
   "cell_type": "code",
   "execution_count": null,
   "metadata": {},
   "outputs": [],
   "source": [
    "# Decode response from SIM\n",
    "\n",
    "s = BeautifulSoup(resp,'xml').response.response.text\n",
    "rb.decode_payload_response(s)"
   ]
  }
 ],
 "metadata": {
  "kernelspec": {
   "display_name": "Python 3",
   "language": "python",
   "name": "python3"
  },
  "language_info": {
   "codemirror_mode": {
    "name": "ipython",
    "version": 3
   },
   "file_extension": ".py",
   "mimetype": "text/x-python",
   "name": "python",
   "nbconvert_exporter": "python",
   "pygments_lexer": "ipython3",
   "version": "3.6.9"
  }
 },
 "nbformat": 4,
 "nbformat_minor": 2
}
