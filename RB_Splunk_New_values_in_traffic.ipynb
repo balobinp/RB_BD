{
 "cells": [
  {
   "cell_type": "markdown",
   "metadata": {},
   "source": [
    "Поиск новых значений в трафике.\n",
    "Может использоваться для анализа трафика после внесения изменений.\n",
    "На вход подается:\n",
    "1. Временная отсечка,\n",
    "2. Индексы,\n",
    "3. Анализируемые параметры трафика\n",
    "\n",
    "На выходе получаем:\n",
    "1. Новые значения параметров,\n",
    "2. Значения со значительным ростом по сравнению с предыдущими периодами."
   ]
  },
  {
   "cell_type": "code",
   "execution_count": null,
   "metadata": {},
   "outputs": [],
   "source": []
  }
 ],
 "metadata": {
  "kernelspec": {
   "display_name": "Python 3",
   "language": "python",
   "name": "python3"
  },
  "language_info": {
   "codemirror_mode": {
    "name": "ipython",
    "version": 3
   },
   "file_extension": ".py",
   "mimetype": "text/x-python",
   "name": "python",
   "nbconvert_exporter": "python",
   "pygments_lexer": "ipython3",
   "version": "3.6.3"
  }
 },
 "nbformat": 4,
 "nbformat_minor": 2
}
