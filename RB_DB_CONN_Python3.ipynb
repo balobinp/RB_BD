{
 "cells": [
  {
   "cell_type": "code",
   "execution_count": 12,
   "metadata": {},
   "outputs": [],
   "source": [
    "from pandas import Series, DataFrame\n",
    "import pandas as pd\n",
    "import numpy as np"
   ]
  },
  {
   "cell_type": "markdown",
   "metadata": {},
   "source": [
    "## Fetch data from MS SQL DB"
   ]
  },
  {
   "cell_type": "code",
   "execution_count": 1,
   "metadata": {},
   "outputs": [],
   "source": [
    "import pyodbc \n",
    "cnxn = pyodbc.connect('DRIVER={SQL Server};SERVER=192.168.155.200;DATABASE=10028;UID=sa1;PWD=')\n",
    "cursor = cnxn.cursor()"
   ]
  },
  {
   "cell_type": "code",
   "execution_count": 4,
   "metadata": {},
   "outputs": [
    {
     "data": {
      "text/plain": [
       "35"
      ]
     },
     "execution_count": 4,
     "metadata": {},
     "output_type": "execute_result"
    }
   ],
   "source": [
    "#Получение единичного значения\n",
    "cursor.execute(\"select count(*) from ROAMING_PLANS\").fetchval()"
   ]
  },
  {
   "cell_type": "code",
   "execution_count": 10,
   "metadata": {},
   "outputs": [
    {
     "name": "stdout",
     "output_type": "stream",
     "text": [
      "(Decimal('1'), 'Roamability Rates DMI MVNO 2016', 10.0, 10.0, 10.0, 10.0, None, True)\n",
      "(Decimal('9'), 'Portoseguro Customers', 1.0, 1.0, 1.0, 1.0, Decimal('172718'), None)\n",
      "(Decimal('10'), 'Roamability Partner COST 2016', 10.0, 10.0, 10.0, 10.0, None, True)\n",
      "(Decimal('11'), 'Rewicom Customers ', 1.0, 1.0, 1.0, 1.0, Decimal('172720'), None)\n",
      "(Decimal('13'), 'STI Customers', 0.0, 0.0, 0.0, 0.02500000037252903, Decimal('172725'), None)\n"
     ]
    }
   ],
   "source": [
    "#Получение всех результатов выборки\n",
    "cursor.execute('select TOP(5) * from ROAMING_PLANS')\n",
    "for row in cursor:\n",
    "    #print('row = %r' % (row,))\n",
    "    print(row)"
   ]
  },
  {
   "cell_type": "code",
   "execution_count": 15,
   "metadata": {
    "scrolled": true
   },
   "outputs": [
    {
     "data": {
      "text/html": [
       "<div>\n",
       "<style scoped>\n",
       "    .dataframe tbody tr th:only-of-type {\n",
       "        vertical-align: middle;\n",
       "    }\n",
       "\n",
       "    .dataframe tbody tr th {\n",
       "        vertical-align: top;\n",
       "    }\n",
       "\n",
       "    .dataframe thead th {\n",
       "        text-align: right;\n",
       "    }\n",
       "</style>\n",
       "<table border=\"1\" class=\"dataframe\">\n",
       "  <thead>\n",
       "    <tr style=\"text-align: right;\">\n",
       "      <th></th>\n",
       "      <th>ROAMING_RULE_ID</th>\n",
       "      <th>ROAMING_PLAN_ID</th>\n",
       "      <th>CARRIER</th>\n",
       "      <th>MCC</th>\n",
       "      <th>MNC</th>\n",
       "      <th>VOICE_OUTGOING</th>\n",
       "      <th>VOICE_INCOMING</th>\n",
       "      <th>TEXT</th>\n",
       "      <th>DATA</th>\n",
       "      <th>COUNTRY</th>\n",
       "      <th>PLMN</th>\n",
       "      <th>deleted</th>\n",
       "    </tr>\n",
       "  </thead>\n",
       "  <tbody>\n",
       "    <tr>\n",
       "      <th>0</th>\n",
       "      <td>3394.0</td>\n",
       "      <td>9.0</td>\n",
       "      <td>BTC Mobile EOOD (vivatel)</td>\n",
       "      <td>284</td>\n",
       "      <td>06</td>\n",
       "      <td>0.0770</td>\n",
       "      <td>0.000</td>\n",
       "      <td>0.023000</td>\n",
       "      <td>0.012000</td>\n",
       "      <td>Bulgaria</td>\n",
       "      <td>BGRVA</td>\n",
       "      <td>None</td>\n",
       "    </tr>\n",
       "    <tr>\n",
       "      <th>1</th>\n",
       "      <td>3576.0</td>\n",
       "      <td>16.0</td>\n",
       "      <td>T-Mobile</td>\n",
       "      <td>310</td>\n",
       "      <td>260</td>\n",
       "      <td>0.0100</td>\n",
       "      <td>0.010</td>\n",
       "      <td>0.010000</td>\n",
       "      <td>0.005000</td>\n",
       "      <td>United States</td>\n",
       "      <td>None</td>\n",
       "      <td>None</td>\n",
       "    </tr>\n",
       "    <tr>\n",
       "      <th>2</th>\n",
       "      <td>3577.0</td>\n",
       "      <td>14.0</td>\n",
       "      <td>T-Mobile</td>\n",
       "      <td>310</td>\n",
       "      <td>260</td>\n",
       "      <td>0.0170</td>\n",
       "      <td>0.017</td>\n",
       "      <td>0.017000</td>\n",
       "      <td>0.009200</td>\n",
       "      <td>United States</td>\n",
       "      <td>None</td>\n",
       "      <td>None</td>\n",
       "    </tr>\n",
       "    <tr>\n",
       "      <th>3</th>\n",
       "      <td>4265.0</td>\n",
       "      <td>224.0</td>\n",
       "      <td>Partner</td>\n",
       "      <td>425</td>\n",
       "      <td>01</td>\n",
       "      <td>0.0858</td>\n",
       "      <td>0.000</td>\n",
       "      <td>0.032175</td>\n",
       "      <td>0.005362</td>\n",
       "      <td>Israel (P4)</td>\n",
       "      <td>None</td>\n",
       "      <td>None</td>\n",
       "    </tr>\n",
       "    <tr>\n",
       "      <th>4</th>\n",
       "      <td>3641.0</td>\n",
       "      <td>222.0</td>\n",
       "      <td>Orange</td>\n",
       "      <td>612</td>\n",
       "      <td>3</td>\n",
       "      <td>0.1960</td>\n",
       "      <td>0.000</td>\n",
       "      <td>0.075000</td>\n",
       "      <td>0.098000</td>\n",
       "      <td>Ivory Coast</td>\n",
       "      <td>CIV03</td>\n",
       "      <td>None</td>\n",
       "    </tr>\n",
       "  </tbody>\n",
       "</table>\n",
       "</div>"
      ],
      "text/plain": [
       "   ROAMING_RULE_ID  ROAMING_PLAN_ID                    CARRIER  MCC  MNC  \\\n",
       "0           3394.0              9.0  BTC Mobile EOOD (vivatel)  284   06   \n",
       "1           3576.0             16.0                   T-Mobile  310  260   \n",
       "2           3577.0             14.0                   T-Mobile  310  260   \n",
       "3           4265.0            224.0                    Partner  425   01   \n",
       "4           3641.0            222.0                     Orange  612    3   \n",
       "\n",
       "   VOICE_OUTGOING  VOICE_INCOMING      TEXT      DATA        COUNTRY   PLMN  \\\n",
       "0          0.0770           0.000  0.023000  0.012000       Bulgaria  BGRVA   \n",
       "1          0.0100           0.010  0.010000  0.005000  United States   None   \n",
       "2          0.0170           0.017  0.017000  0.009200  United States   None   \n",
       "3          0.0858           0.000  0.032175  0.005362    Israel (P4)   None   \n",
       "4          0.1960           0.000  0.075000  0.098000    Ivory Coast  CIV03   \n",
       "\n",
       "  deleted  \n",
       "0    None  \n",
       "1    None  \n",
       "2    None  \n",
       "3    None  \n",
       "4    None  "
      ]
     },
     "execution_count": 15,
     "metadata": {},
     "output_type": "execute_result"
    }
   ],
   "source": [
    "#Загрузить в pandas DataFrame\n",
    "df_rp = pd.read_sql_query('select * from ROAMING_PLANS', cnxn)\n",
    "df_rr = pd.read_sql_query('select * from ROAMING_RULES', cnxn)\n",
    "df_rr.head()"
   ]
  },
  {
   "cell_type": "code",
   "execution_count": 14,
   "metadata": {},
   "outputs": [
    {
     "data": {
      "text/html": [
       "<div>\n",
       "<style scoped>\n",
       "    .dataframe tbody tr th:only-of-type {\n",
       "        vertical-align: middle;\n",
       "    }\n",
       "\n",
       "    .dataframe tbody tr th {\n",
       "        vertical-align: top;\n",
       "    }\n",
       "\n",
       "    .dataframe thead th {\n",
       "        text-align: right;\n",
       "    }\n",
       "</style>\n",
       "<table border=\"1\" class=\"dataframe\">\n",
       "  <thead>\n",
       "    <tr style=\"text-align: right;\">\n",
       "      <th></th>\n",
       "      <th>ROAMING_PLAN_ID</th>\n",
       "      <th>ROAMING_PLAN_NAME</th>\n",
       "      <th>DEFAULT_OUTGOING_VOICE</th>\n",
       "      <th>DEFAULT_TERMINATED_VOICE</th>\n",
       "      <th>DEFAULT_TEXT</th>\n",
       "      <th>DEFAULT_DATA</th>\n",
       "      <th>RESELLER_ID</th>\n",
       "      <th>deleted</th>\n",
       "    </tr>\n",
       "  </thead>\n",
       "  <tbody>\n",
       "    <tr>\n",
       "      <th>12</th>\n",
       "      <td>225.0</td>\n",
       "      <td>ThinkLab rates (TAP Rates)</td>\n",
       "      <td>1.0</td>\n",
       "      <td>1.0</td>\n",
       "      <td>1.0</td>\n",
       "      <td>1.0</td>\n",
       "      <td>-1.0</td>\n",
       "      <td>None</td>\n",
       "    </tr>\n",
       "  </tbody>\n",
       "</table>\n",
       "</div>"
      ],
      "text/plain": [
       "    ROAMING_PLAN_ID           ROAMING_PLAN_NAME  DEFAULT_OUTGOING_VOICE  \\\n",
       "12            225.0  ThinkLab rates (TAP Rates)                     1.0   \n",
       "\n",
       "    DEFAULT_TERMINATED_VOICE  DEFAULT_TEXT  DEFAULT_DATA  RESELLER_ID deleted  \n",
       "12                       1.0           1.0           1.0         -1.0    None  "
      ]
     },
     "execution_count": 14,
     "metadata": {},
     "output_type": "execute_result"
    }
   ],
   "source": [
    "#Выборка конкретных занчений из DataFrame\n",
    "df_rp[df_rp.ROAMING_PLAN_ID==225]"
   ]
  }
 ],
 "metadata": {
  "kernelspec": {
   "display_name": "Python 2",
   "language": "python",
   "name": "python2"
  },
  "language_info": {
   "codemirror_mode": {
    "name": "ipython",
    "version": 2
   },
   "file_extension": ".py",
   "mimetype": "text/x-python",
   "name": "python",
   "nbconvert_exporter": "python",
   "pygments_lexer": "ipython2",
   "version": "2.7.14"
  }
 },
 "nbformat": 4,
 "nbformat_minor": 2
}
