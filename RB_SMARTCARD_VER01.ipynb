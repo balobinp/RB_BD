{
 "cells": [
  {
   "cell_type": "markdown",
   "metadata": {},
   "source": [
    "### RB SmartCard"
   ]
  },
  {
   "cell_type": "code",
   "execution_count": 1,
   "metadata": {},
   "outputs": [
    {
     "name": "stdout",
     "output_type": "stream",
     "text": [
      "Greetings from Roamability!!! \n",
      "\n"
     ]
    }
   ],
   "source": [
    "import numpy as np\n",
    "import pandas as pd\n",
    "from pandas import Series, DataFrame\n",
    "import sys\n",
    "from os.path import join\n",
    "from bs4 import BeautifulSoup\n",
    "from importlib import reload\n",
    "import codecs\n",
    "import re\n",
    "\n",
    "import roamability as rb\n",
    "\n",
    "downloads = 'C:/Users/balob/Downloads'\n",
    "\n",
    "rb.greetings_func()"
   ]
  },
  {
   "cell_type": "code",
   "execution_count": 6,
   "metadata": {},
   "outputs": [
    {
     "data": {
      "text/plain": [
       "<module 'roamability' from 'C:\\\\Users\\\\balob\\\\Documents\\\\GITLAB\\\\RB_BD\\\\roamability.py'>"
      ]
     },
     "execution_count": 6,
     "metadata": {},
     "output_type": "execute_result"
    }
   ],
   "source": [
    "reload(rb)"
   ]
  },
  {
   "cell_type": "code",
   "execution_count": 2,
   "metadata": {},
   "outputs": [],
   "source": [
    "class SmartCard:\n",
    "    \n",
    "    def __init__(self, imsi, msisdn=None, vmsc=None, sgsn=None):\n",
    "        self.imsi = imsi\n",
    "        self.msisdn = msisdn\n",
    "        self.vmsc = vmsc\n",
    "        self.sgsn = sgsn\n",
    "        self.ss7 = rb.SendMsgSs7()\n",
    "        self.ogt = self.select_ogt(imsi)\n",
    "        \n",
    "    def select_ogt(self, imsi):\n",
    "        if imsi.startswith('42501'):\n",
    "            return self.ss7.ogt['partner']\n",
    "        elif imsi.startswith('26006'):\n",
    "            return self.ss7.ogt['p4']\n",
    "        elif imsi.startswith('24040'):\n",
    "            return self.ss7.ogt['netmore']\n",
    "        elif imsi.startswith('25060'):\n",
    "            return self.ss7.ogt['volna']\n",
    "        elif imsi.startswith('334140'):\n",
    "            return self.ss7.ogt['mexal']\n",
    "        elif imsi.startswith('26003'):\n",
    "            return self.ss7.ogt['orange']\n",
    " \n",
    "    def print_imsi_prof(self, payload_type='as_resp'):\n",
    "        if self.imsi and self.vmsc:\n",
    "            self.ss7.print_imsi_prof(self.ogt, self.imsi, self.vmsc, payload_type)\n",
    "        else:\n",
    "            print('Set IMSI and MSC GT')\n",
    "            \n",
    "    def get_config(self):\n",
    "        if self.imsi and self.vmsc:\n",
    "            resp = self.ss7.sendSMS(self.ogt, self.imsi, self.vmsc, self.ss7.get_config)\n",
    "            print(resp.prettify, '\\n')\n",
    "            if resp.response.response:\n",
    "                self.ss7.get_config_decoder(resp.response.response.text.upper()[-40:])\n",
    "            else:\n",
    "                print('No info in response.')\n",
    "        else:\n",
    "            print('Set IMSI and MSC GT')"
   ]
  },
  {
   "cell_type": "code",
   "execution_count": 6,
   "metadata": {},
   "outputs": [
    {
     "data": {
      "text/plain": [
       "<?xml version=\"1.0\" encoding=\"utf-8\"?>\n",
       "<response>\n",
       "<result>-1</result>\n",
       "<error>timeout</error>\n",
       "<src_gt/>\n",
       "</response>"
      ]
     },
     "execution_count": 6,
     "metadata": {},
     "output_type": "execute_result"
    }
   ],
   "source": [
    "# Send message\n",
    "card = SmartCard(imsi='425019614022009', msisdn='', vmsc='79112009927', sgsn='')\n",
    "# card.ss7.cl(card.ogt, card.vmsc, card.imsi, d_ssn=7)\n",
    "# card.ss7.cl(card.ogt, card.sgsn, card.imsi, d_ssn=149)\n",
    "# card.ss7.sendSMS(card.ogt, card.imsi, card.vmsc, card.ss7.get_info)"
   ]
  },
  {
   "cell_type": "code",
   "execution_count": 4,
   "metadata": {},
   "outputs": [
    {
     "name": "stdout",
     "output_type": "stream",
     "text": [
      "<bound method Tag.prettify of <?xml version=\"1.0\" encoding=\"utf-8\"?>\n",
      "<response>\n",
      "<result>0</result><response>00077FF63A02710000350ABFFF0100000000000000FFFFFFF00001090152F0100000003A655414805292090008290660105430019001084952106941200290</response>\n",
      "<src_gt>79112009927</src_gt>\n",
      "</response>> \n",
      "\n",
      "This SIM card contains the following IMSIs:\n",
      "Slot 0 260060145031009\n",
      "Slot 1 425019614022009\n",
      "\n",
      "Applet ver.: 1.9.1\n",
      "MCCMNC: 25001\n"
     ]
    }
   ],
   "source": [
    "card.print_imsi_prof()"
   ]
  },
  {
   "cell_type": "code",
   "execution_count": 5,
   "metadata": {},
   "outputs": [
    {
     "name": "stdout",
     "output_type": "stream",
     "text": [
      "<bound method Tag.prettify of <?xml version=\"1.0\" encoding=\"utf-8\"?>\n",
      "<response>\n",
      "<result>0</result><response>00077FF62902710000240ABFFF01000000000000000000005B00010301001E011400000003000305010200000000</response>\n",
      "<src_gt>79112009927</src_gt>\n",
      "</response>> \n",
      "\n",
      "Applet enabling flag: Activate\n",
      "Mode: Events & Timer mode\n",
      "Default IMSI: IMSI1\n",
      "Polling period: 30 sec.\n",
      "Features activation flags: 0000000100010100\n",
      "    Start with Primary: Disable\n",
      "    Reset Loci, PS Loci: Disable\n",
      "    RB_MODE (Sponsor IMSI in HPLMN): Enable\n",
      "    Skip Primary IMSI in roaming: Disable\n",
      "Refresh Type: 00\n",
      "Default refresh Type: 00\n",
      "No Service Swap Timer: 3 sec.\n",
      "Refresh Retry: 05\n",
      "Refresh Retry Delay: 1 sec.\n",
      "Scan delay timer: 3 sec.\n"
     ]
    }
   ],
   "source": [
    "card.get_config()"
   ]
  },
  {
   "cell_type": "code",
   "execution_count": 5,
   "metadata": {},
   "outputs": [
    {
     "name": "stdout",
     "output_type": "stream",
     "text": [
      "<bound method Tag.prettify of <?xml version=\"1.0\" encoding=\"utf-8\"?>\n",
      "<response>\n",
      "<result>0</result><response>00077FF62902710000240ABFFF01000000000000000000005B00000300001E011400000003000305010200000000</response>\n",
      "<src_gt>79219600321</src_gt>\n",
      "</response>> \n",
      "\n",
      "Applet enabling flag: Deactivate\n",
      "Mode: Events & Timer mode\n",
      "Default IMSI: IMSI0\n",
      "Polling period: 30 sec.\n",
      "Features activation flags: 0000000100010100\n",
      "    Start with Primary: Disable\n",
      "    Reset Loci, PS Loci: Disable\n",
      "    RB_MODE (Sponsor IMSI in HPLMN): Enable\n",
      "    Skip Primary IMSI in roaming: Disable\n",
      "Refresh Type: 00\n",
      "Default refresh Type: 00\n",
      "No Service Swap Timer: 3 sec.\n",
      "Refresh Retry: 05\n",
      "Refresh Retry Delay: 1 sec.\n",
      "Scan delay timer: 3 sec.\n"
     ]
    }
   ],
   "source": [
    "card.get_config()"
   ]
  },
  {
   "cell_type": "code",
   "execution_count": 24,
   "metadata": {},
   "outputs": [
    {
     "data": {
      "text/plain": [
       "<?xml version=\"1.0\" encoding=\"utf-8\"?>\n",
       "<response>\n",
       "<result>0</result>\n",
       "<src_gt>79219600320</src_gt>\n",
       "</response>"
      ]
     },
     "execution_count": 24,
     "metadata": {},
     "output_type": "execute_result"
    }
   ],
   "source": [
    "card.ss7.cl(card.ogt, card.vmsc, card.imsi, d_ssn=7)"
   ]
  },
  {
   "cell_type": "code",
   "execution_count": 19,
   "metadata": {},
   "outputs": [
    {
     "name": "stdout",
     "output_type": "stream",
     "text": [
      "<bound method Tag.prettify of <?xml version=\"1.0\" encoding=\"utf-8\"?>\n",
      "<response>\n",
      "<result>-1</result>\n",
      "<error>Error: Absent Subscriber(27)</error>\n",
      "<src_gt>79112009927</src_gt>\n",
      "</response>> \n",
      "\n",
      "No info in response.\n"
     ]
    }
   ],
   "source": [
    "# Print IMSI profiles\n",
    "card = SmartCard(imsi='425019614026999', msisdn='', vmsc='79112009927', sgsn='')\n",
    "card.print_imsi_prof(payload_type='as_resp')"
   ]
  },
  {
   "cell_type": "code",
   "execution_count": 10,
   "metadata": {},
   "outputs": [
    {
     "name": "stdout",
     "output_type": "stream",
     "text": [
      "This SIM card contains the following IMSIs:\n",
      "Slot 0 260060145000156\n",
      "Slot 3 234500026455005\n",
      "\n",
      "Applet ver.: 1.7.0\n",
      "MCCMNC: 26202\n"
     ]
    }
   ],
   "source": [
    "resp = '02710000350ABFFF0100000000010000FFFFFFF000010700000000000000000000000000000000084952106941005106010829066010540051069000'\n",
    "resp = '027100003f0abfff0100000000000000fffffff00001070062f0100000003a35480668834707000849521069314095750108290660109440447502082943050062540520'\n",
    "resp = '02710000350abfff0100000000000000fffffff00001070062f2200000003a255818108915020008290660105400106503082943050062540550'\n",
    "card.ss7.decode_payload_response(resp)"
   ]
  },
  {
   "cell_type": "code",
   "execution_count": 6,
   "metadata": {},
   "outputs": [
    {
     "name": "stdout",
     "output_type": "stream",
     "text": [
      "<bound method Tag.prettify of <?xml version=\"1.0\" encoding=\"utf-8\"?>\n",
      "<response>\n",
      "<result>-1</result>\n",
      "<error>Error: System Failure(34)</error>\n",
      "<src_gt>48601000111</src_gt>\n",
      "</response>> \n",
      "\n",
      "No info in response.\n"
     ]
    }
   ],
   "source": [
    "# Get card Config\n",
    "card = SmartCard(imsi='425019613045957', msisdn='', vmsc='48601000111')\n",
    "card.get_config()"
   ]
  },
  {
   "cell_type": "code",
   "execution_count": 5,
   "metadata": {},
   "outputs": [
    {
     "name": "stdout",
     "output_type": "stream",
     "text": [
      "Applet enabling flag: Activate\n",
      "Mode: Events & Timer mode\n",
      "Default IMSI: IMSI1\n",
      "Polling period: 30 sec.\n",
      "Features activation flags: 0000000100010100\n",
      "    Start with Primary: Disable\n",
      "    Reset Loci, PS Loci: Disable\n",
      "    RB_MODE (Sponsor IMSI in HPLMN): Enable\n",
      "    Skip Primary IMSI in roaming: Disable\n",
      "Refresh Type: 00\n",
      "Default refresh Type: 00\n",
      "No Service Swap Timer: 3 sec.\n",
      "Refresh Retry: 05\n",
      "Refresh Retry Delay: 1 sec.\n",
      "Scan delay timer: 3 sec.\n"
     ]
    }
   ],
   "source": [
    "ss7 = rb.SendMsgSs7()\n",
    "conf = '010300001E011400000003000305010200000000'\n",
    "conf = '010301001E011400000003000305010200000000'\n",
    "# ss7.get_config_decoder('010300001E011400000003000305010200000000')\n",
    "ss7.get_config_decoder(conf)"
   ]
  },
  {
   "cell_type": "code",
   "execution_count": 6,
   "metadata": {},
   "outputs": [
    {
     "name": "stdout",
     "output_type": "stream",
     "text": [
      "Applet enabling flag: Activate\n",
      "Mode: Events & Timer mode\n",
      "Default IMSI: IMSI1\n",
      "Polling period: 30 sec.\n",
      "Features activation flags: 0000000000001000\n",
      "    Start with Primary: Disable\n",
      "    Reset Loci, PS Loci: Disable\n",
      "    RB_MODE (Sponsor IMSI in HPLMN): Disable\n",
      "    Skip Primary IMSI in roaming: Enable\n",
      "Refresh Type: 00\n",
      "Default refresh Type: 00\n",
      "No Service Swap Timer: 3 sec.\n",
      "Refresh Retry: 05\n",
      "Refresh Retry Delay: 1 sec.\n",
      "Scan delay timer: 3 sec.\n"
     ]
    }
   ],
   "source": [
    "conf = '010301001E000800000003000305010202000000'\n",
    "ss7.get_config_decoder(conf)"
   ]
  },
  {
   "cell_type": "code",
   "execution_count": 3,
   "metadata": {},
   "outputs": [
    {
     "data": {
      "text/plain": [
       "'2923018410000000'"
      ]
     },
     "execution_count": 3,
     "metadata": {},
     "output_type": "execute_result"
    }
   ],
   "source": [
    "# IMSI decoder\n",
    "\n",
    "imsi = '4952106941005106'\n",
    "imsi = '232104801005000'\n",
    "imsi = '4952106941005106' # 084952106941005106 / 425019614001560\n",
    "# imsi = '260060145001560'  # 082906601054005106\n",
    "imsi = '232104801000000'\n",
    "\n",
    "def imsi_conv(imsi, code='code'):\n",
    "    \"\"\"Conver deconvert IMSI for perso. code='code' / 'decode'\"\"\"\n",
    "    if code=='code':\n",
    "        imsi = '9' + imsi\n",
    "        return ''.join([imsi[i] for i in [1, 0, 3, 2, 5, 4, 7, 6, 9, 8, 11, 10, 13, 12, 15, 14]])\n",
    "    elif code=='decode':\n",
    "        return ''.join([imsi[i] for i in [0, 3, 2, 5, 4, 7, 6, 9, 8, 11, 10, 13, 12, 15, 14]])\n",
    "\n",
    "# imsi_conv(imsi, code='decode')\n",
    "imsi_conv(imsi, code='code')"
   ]
  },
  {
   "cell_type": "code",
   "execution_count": 8,
   "metadata": {},
   "outputs": [
    {
     "data": {
      "text/plain": [
       "'98791232030020070030'"
      ]
     },
     "execution_count": 8,
     "metadata": {},
     "output_type": "execute_result"
    }
   ],
   "source": [
    "# ANY decoder\n",
    "\n",
    "value = '4952106941005106'\n",
    "value = '89972123300002700003' #'98791232039009470600'\n",
    "\n",
    "def any_decoder(value):\n",
    "    value_conv = ''\n",
    "    for i in range(1, len(value), 2):\n",
    "        value_conv += value[i: i + 1]\n",
    "        value_conv += value[i - 1: i]\n",
    "    return value_conv\n",
    "\n",
    "any_decoder(value)"
   ]
  },
  {
   "cell_type": "code",
   "execution_count": 4,
   "metadata": {},
   "outputs": [
    {
     "data": {
      "text/plain": [
       "{'p4': '48790993070',\n",
       " 'partner': '97254120625',\n",
       " 'sure': '447797706411',\n",
       " 'tot': '66893773228',\n",
       " 'porto_seguro': '550549900000',\n",
       " 'rusec_rus': '79028710069',\n",
       " 'rusec_int': '417999880000024',\n",
       " 'multi_byte_sponsor': '85263347864',\n",
       " 'smart1': '639180009880',\n",
       " 'smart2': '639180009881',\n",
       " 'smart3': '639180009882',\n",
       " 'smart4': '639180009883',\n",
       " 'telzar': '972559900040',\n",
       " 'x2one': '972553316228',\n",
       " 'cellact': '972557016315',\n",
       " 'netmore': '46731726312',\n",
       " 'p4_naka_01': '48790998145',\n",
       " 'p4_naka_02': '48790998146',\n",
       " 'p4_naka_03': '48790998147',\n",
       " 'partner_naka_01': '97254120634',\n",
       " 'partner_naka_02': '97254120635',\n",
       " 'partner_naka_03': '97254120636',\n",
       " 'partner_naka_04': '97254120637',\n",
       " 'mb': '852633477591',\n",
       " 'maxcom': '525575709019',\n",
       " 'orange': '48507909001',\n",
       " 'jt': '447797707084',\n",
       " 'tcom': '359999320032',\n",
       " 'volna': '79785750017',\n",
       " 'surf_test': '550170002133',\n",
       " 'surf_prod': '550170000133',\n",
       " 'mexal': '528127341842'}"
      ]
     },
     "execution_count": 4,
     "metadata": {},
     "output_type": "execute_result"
    }
   ],
   "source": [
    "ss7 = rb.SendMsgSs7()\n",
    "ss7.ogt"
   ]
  },
  {
   "cell_type": "code",
   "execution_count": 13,
   "metadata": {},
   "outputs": [
    {
     "data": {
      "text/plain": [
       "''"
      ]
     },
     "execution_count": 13,
     "metadata": {},
     "output_type": "execute_result"
    }
   ],
   "source": [
    "# ASCII decoder\n",
    "\n",
    "value = b\"Smartel\"\n",
    "value = '524F414D4142494C49' # 'ROAMABILI'\n",
    "value = '5553494D205365727669636573' # 850D5553494D205365727669636573FFFFFF # 'USIM Services'\n",
    "value = ''\n",
    "'02700000270d00010000bfff0100000000000090dd53b30d1865a9c565c08aaa934e1e64ebb7816a808ecf42'\n",
    "'02700000370D00010000BFFF0100000000000010F1E5FE37E58C6F85A89A2CF5EB7898617C6D40D8A46AF5F57B14F9C1BF46FE5B22D5E913F5A764A9'\n",
    "\n",
    "def ascii_conv(value, code='code'):\n",
    "    if code=='code':\n",
    "        return codecs.encode(value, \"hex\").upper()\n",
    "    elif code=='decode':\n",
    "        return bytearray.fromhex(value).decode()\n",
    "\n",
    "# ascii_conv(value, code='code')\n",
    "ascii_conv(value, code='decode')"
   ]
  },
  {
   "cell_type": "code",
   "execution_count": 17,
   "metadata": {},
   "outputs": [
    {
     "name": "stdout",
     "output_type": "stream",
     "text": [
      "Dec to hex\n",
      "16 -> 0x10\n"
     ]
    }
   ],
   "source": [
    "l = len('D3CE47317196D8659DF83FAB17733C81') / 2\n",
    "print('Dec to hex')\n",
    "print(f'{int(l)} -> 0x{int(l):X}')"
   ]
  },
  {
   "cell_type": "code",
   "execution_count": 5,
   "metadata": {},
   "outputs": [
    {
     "name": "stdout",
     "output_type": "stream",
     "text": [
      "410006812143657FF624027000001F0D00000000BFFF0100000000000020603D79FB432EAE63F082E734F3B46085\n",
      "send_apdu -APDU A0C200002E410006812143657FF624027000001F0D00000000BFFF0100000000000020603D79FB432EAE63F082E734F3B46085\n"
     ]
    }
   ],
   "source": [
    "ota_env =\\\n",
    "\"\"\"\n",
    "410006812143657FF624027000001F0D00000000BFFF0100000000000020603D79FB432EAE63F082E734F3B46085\n",
    "\"\"\"\n",
    "\n",
    "def ota_cmd(ota_env):\n",
    "    ota_env = ota_env.replace(' ', '').replace('\\n', '')\n",
    "    print(f'{ota_env}')\n",
    "    print(f'send_apdu -APDU A0C20000{int(len(ota_env)/2):X}{ota_env}')\n",
    "\n",
    "ota_cmd(ota_env)"
   ]
  },
  {
   "cell_type": "code",
   "execution_count": null,
   "metadata": {},
   "outputs": [],
   "source": [
    "'810301240002028281030100100105'\n",
    "'810301240002028281030100100105'"
   ]
  },
  {
   "cell_type": "code",
   "execution_count": 15,
   "metadata": {},
   "outputs": [
    {
     "name": "stdout",
     "output_type": "stream",
     "text": [
      "This SIM card contains the following IMSIs:\n",
      "Slot 0 425019614001560\n",
      "Slot 1 260060145001560\n",
      "\n",
      "Applet ver.: 1.7.0\n",
      "MCCMNC: 00000\n"
     ]
    }
   ],
   "source": [
    "# Decode GET INFO\n",
    "\n",
    "ss7 = rb.SendMsgSs7()\n",
    "resp = '02710000350ABFFF0100000000010000FFFFFFF000010700000000000000000000000000000000084952106941005106010829066010540051069000'\n",
    "# Examples:\n",
    "'027100003f0abfff0100000000000000fffffff00001070062f0100000003a35480668834707000849521069314095750108290660109440447502082943050062540520'\n",
    "ss7.decode_payload_response(resp)"
   ]
  },
  {
   "cell_type": "code",
   "execution_count": 4,
   "metadata": {},
   "outputs": [
    {
     "name": "stdout",
     "output_type": "stream",
     "text": [
      "Applet enabling flag: Activate\n",
      "Mode: Events & Timer mode\n",
      "Default IMSI: IMSI1\n",
      "Polling period: 30 sec.\n",
      "Features activation flags: 0000000000001000\n",
      "    Start with Primary: Disable\n",
      "    Reset Loci, PS Loci: Disable\n",
      "    RB_MODE (Sponsor IMSI in HPLMN): Disable\n",
      "    Skip Primary IMSI in roaming: Enable\n",
      "Refresh Type: 00\n",
      "Default refresh Type: 00\n",
      "No Service Swap Timer: 3 sec.\n",
      "Refresh Retry: 05\n",
      "Refresh Retry Delay: 1 sec.\n",
      "Scan delay timer: 3 sec.\n"
     ]
    }
   ],
   "source": [
    "# Decode EF_CONFIG\n",
    "\n",
    "ss7 = rb.SendMsgSs7()\n",
    "ss7.get_config_decoder('010301001E000800000003000305010202000000') # Netmore RAO\n",
    "# Roamability Always On i.e. allowing sponsor profiles to be automatically selected in Sweden"
   ]
  },
  {
   "cell_type": "code",
   "execution_count": 3,
   "metadata": {},
   "outputs": [
    {
     "name": "stdout",
     "output_type": "stream",
     "text": [
      "IMSI: 334140067929604, MSC: 525584611803, RESULT: 0\n",
      "\n",
      "<bound method Tag.prettify of <?xml version=\"1.0\" encoding=\"utf-8\"?>\n",
      "<response>\n",
      "<result>0</result><response>00077FF610027100000B0ABFFF0100000000000000</response>\n",
      "<src_gt>525584611803</src_gt>\n",
      "</response>> \n",
      "\n",
      "This SIM card contains the following IMSIs:\n"
     ]
    }
   ],
   "source": [
    "# For Altan\n",
    "# Get IMSI, Get info and Add IMSI\n",
    "\n",
    "imsi = '334140001600020'\n",
    "msisdn='527294780247'\n",
    "\n",
    "add_imsi_payload = '02700000370D00010000BFFF0100000000000010F1E5FE37E58C6F85A89A2CF5EB7898617C6D40D8A46AF5F57B14F9C1BF46FE5B22D5E913F5A764A9'\n",
    "add_imsi_payload = '02700000370D00010000BFFF0100000000000010EE1A5E23AB662370C26763F7BA247CC9C5E5743982BC7EB9C91B7C3877428738E7DAC42FAB208010'\n",
    "\n",
    "card = SmartCard(imsi=imsi, msisdn=msisdn, vmsc='', sgsn='')\n",
    "resp = card.ss7.sri4sm(card.ogt, card.msisdn, card.msisdn)\n",
    "print(f'IMSI: {resp.response.imsi.text}, MSC: {resp.response.msc.text}, RESULT: {resp.response.result.text}\\n')\n",
    "if resp.response.result.text == '0':\n",
    "    card = SmartCard(imsi=resp.response.imsi.text, msisdn=msisdn, vmsc=resp.response.msc.text, sgsn='')\n",
    "    card.print_imsi_prof()\n",
    "#     card.get_config()\n",
    "#     resp = card.ss7.sendSMS(card.ogt, card.imsi, card.vmsc, add_imsi_payload)\n",
    "#     print(f'\\nRESULT: {resp.response.result.text}\\n')"
   ]
  },
  {
   "cell_type": "markdown",
   "metadata": {},
   "source": [
    "### Developments"
   ]
  },
  {
   "cell_type": "code",
   "execution_count": null,
   "metadata": {},
   "outputs": [],
   "source": [
    "'24F530FFFF24F570FFFF24F580008024F582FFFFFFFFFFFFFFFFFFFFFFFFFFFFFFFFFFFFFFFFFFFFFFFFFFFFFFFFFFFFFFFFFFFFFFFFFFFFFFFFFFFF'\n",
    "'24F530008024F570FFFF24F580008024F582FFFFFFFFFFFFFFFFFFFFFFFFFFFFFFFFFFFFFFFFFFFFFFFFFFFFFFFFFFFFFFFFFFFFFFFFFFFFFFFFFFFF' GSM\n",
    "'24F530800024F570FFFF24F580008024F582FFFFFFFFFFFFFFFFFFFFFFFFFFFFFFFFFFFFFFFFFFFFFFFFFFFFFFFFFFFFFFFFFFFFFFFFFFFFFFFFFFFF' UTRAN\n",
    "'24F530400024F570FFFF24F580008024F582FFFFFFFFFFFFFFFFFFFFFFFFFFFFFFFFFFFFFFFFFFFFFFFFFFFFFFFFFFFFFFFFFFFFFFFFFFFFFFFFFFFF' EUTRAN\n",
    "'24F530004024F570FFFF24F580008024F582FFFFFFFFFFFFFFFFFFFFFFFFFFFFFFFFFFFFFFFFFFFFFFFFFFFFFFFFFFFFFFFFFFFFFFFFFFFFFFFFFFFF'\n",
    "'24F53080C024F57080C024F58080C024F5828000FFFFFFFFFFFFFFFFFFFFFFFFFFFFFFFFFFFFFFFFFFFFFFFFFFFFFFFFFFFFFFFFFFFFFFFFFFFFFFFF'\n",
    "'24F53080C024F57080C024F58080C024F582FFFFFFFFFFFFFFFFFFFFFFFFFFFFFFFFFFFFFFFFFFFFFFFFFFFFFFFFFFFFFFFFFFFFFFFFFFFFFFFFFFFF'\n",
    "'24F53080C024F57080C024F58080C024F5828000FFFFFFFFFFFFFFFFFFFFFFFFFFFFFFFFFFFFFFFFFFFFFFFFFFFFFFFFFFFFFFFFFFFFFFFFFFFFFFFF'"
   ]
  },
  {
   "cell_type": "code",
   "execution_count": 9,
   "metadata": {},
   "outputs": [
    {
     "data": {
      "text/plain": [
       "20"
      ]
     },
     "execution_count": 9,
     "metadata": {},
     "output_type": "execute_result"
    }
   ],
   "source": [
    "'24F53024F57024F510FFFFFFFFFFFFFFFFFFFFFFFFFFFFFFFFFFFFFFFFFF'\n",
    "len('8997212330000270000x')"
   ]
  },
  {
   "cell_type": "code",
   "execution_count": 8,
   "metadata": {},
   "outputs": [
    {
     "data": {
      "text/plain": [
       "True"
      ]
     },
     "execution_count": 8,
     "metadata": {},
     "output_type": "execute_result"
    }
   ],
   "source": [
    "'972553316202' == '972553316202'"
   ]
  },
  {
   "cell_type": "code",
   "execution_count": null,
   "metadata": {},
   "outputs": [],
   "source": []
  },
  {
   "cell_type": "code",
   "execution_count": null,
   "metadata": {},
   "outputs": [],
   "source": []
  }
 ],
 "metadata": {
  "kernelspec": {
   "display_name": "Python 3",
   "language": "python",
   "name": "python3"
  },
  "language_info": {
   "codemirror_mode": {
    "name": "ipython",
    "version": 3
   },
   "file_extension": ".py",
   "mimetype": "text/x-python",
   "name": "python",
   "nbconvert_exporter": "python",
   "pygments_lexer": "ipython3",
   "version": "3.6.9"
  }
 },
 "nbformat": 4,
 "nbformat_minor": 2
}
