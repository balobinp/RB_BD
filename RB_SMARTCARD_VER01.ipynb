{
 "cells": [
  {
   "cell_type": "markdown",
   "metadata": {},
   "source": [
    "### RB SmartCard"
   ]
  },
  {
   "cell_type": "code",
   "execution_count": 18,
   "metadata": {},
   "outputs": [
    {
     "name": "stdout",
     "output_type": "stream",
     "text": [
      "Greetings from Roamability!!! \n",
      "\n"
     ]
    }
   ],
   "source": [
    "import numpy as np\n",
    "import pandas as pd\n",
    "from pandas import Series, DataFrame\n",
    "import sys\n",
    "from os.path import join\n",
    "from bs4 import BeautifulSoup\n",
    "from importlib import reload\n",
    "import codecs\n",
    "import re\n",
    "\n",
    "import roamability as rb\n",
    "\n",
    "downloads = 'C:/Users/balob/Downloads'\n",
    "\n",
    "rb.greetings_func()"
   ]
  },
  {
   "cell_type": "code",
   "execution_count": 8,
   "metadata": {},
   "outputs": [
    {
     "data": {
      "text/plain": [
       "<module 'roamability' from 'C:\\\\Users\\\\balob\\\\Documents\\\\GITLAB\\\\RB_BD\\\\roamability.py'>"
      ]
     },
     "execution_count": 8,
     "metadata": {},
     "output_type": "execute_result"
    }
   ],
   "source": [
    "reload(rb)"
   ]
  },
  {
   "cell_type": "code",
   "execution_count": null,
   "metadata": {},
   "outputs": [],
   "source": [
    "class SmartCard:\n",
    "    \n",
    "    def __init__(self):\n",
    "        pass"
   ]
  },
  {
   "cell_type": "code",
   "execution_count": 10,
   "metadata": {},
   "outputs": [],
   "source": [
    "# Send SS7 message\n",
    "\n",
    "ss7 = rb.SendMsgSs7()\n",
    "# ss7.sri4sm(ss7.ogt['partner'], '79217428080', '79217428080')\n",
    "# ss7.print_imsi_prof(ss7.ogt['partner'], '425019613000536', '79219600320', 'as_resp')\n",
    "# ss7.sendSMS(ss7.ogt['partner'], '425019613000536', '79219600320', ss7.get_config)"
   ]
  },
  {
   "cell_type": "code",
   "execution_count": 16,
   "metadata": {},
   "outputs": [
    {
     "data": {
      "text/plain": [
       "'4952106941005106'"
      ]
     },
     "execution_count": 16,
     "metadata": {},
     "output_type": "execute_result"
    }
   ],
   "source": [
    "# IMSI decoder\n",
    "\n",
    "imsi = '4952106941005106'\n",
    "imsi = '425019614001560'\n",
    "\n",
    "def imsi_conv(imsi, code='code'):\n",
    "    \"\"\"Conver deconvert IMSI for perso. code='code' / 'decode'\"\"\"\n",
    "    if code=='code':\n",
    "        imsi = '9' + imsi\n",
    "        return ''.join([imsi[i] for i in [1, 0, 3, 2, 5, 4, 7, 6, 9, 8, 11, 10, 13, 12, 15, 14]])\n",
    "    elif code=='decode':\n",
    "        return ''.join([imsi[i] for i in [0, 3, 2, 5, 4, 7, 6, 9, 8, 11, 10, 13, 12, 15, 14]])\n",
    "\n",
    "# imsi_conv(imsi, code='decode')\n",
    "imsi_conv(imsi, code='code')"
   ]
  },
  {
   "cell_type": "code",
   "execution_count": 17,
   "metadata": {},
   "outputs": [
    {
     "data": {
      "text/plain": [
       "'9425019614001560'"
      ]
     },
     "execution_count": 17,
     "metadata": {},
     "output_type": "execute_result"
    }
   ],
   "source": [
    "# ANY decoder\n",
    "\n",
    "value = '4952106941005106'\n",
    "\n",
    "def any_decoder(value):\n",
    "    value_conv = ''\n",
    "    for i in range(1, len(value), 2):\n",
    "        value_conv += value[i: i + 1]\n",
    "        value_conv += value[i - 1: i]\n",
    "    return value_conv\n",
    "\n",
    "any_decoder(value)"
   ]
  },
  {
   "cell_type": "code",
   "execution_count": 22,
   "metadata": {},
   "outputs": [
    {
     "data": {
      "text/plain": [
       "'ROAMABILI'"
      ]
     },
     "execution_count": 22,
     "metadata": {},
     "output_type": "execute_result"
    }
   ],
   "source": [
    "# ASCII decoder\n",
    "\n",
    "value = b\"Smartel\"\n",
    "value = '524F414D4142494C49' # 'ROAMABILI'\n",
    "\n",
    "def ascii_conv(value, code='code'):\n",
    "    if code=='code':\n",
    "        return codecs.encode(value, \"hex\").upper()\n",
    "    elif code=='decode':\n",
    "        return bytearray.fromhex(value).decode()\n",
    "\n",
    "# ascii_conv(value, code='code')\n",
    "ascii_conv(value, code='decode')"
   ]
  },
  {
   "cell_type": "code",
   "execution_count": null,
   "metadata": {},
   "outputs": [],
   "source": [
    "l = len('42F004C08042F020C00042F070C00042F010C00042F042C0C042F030C08042F070008042F01000C0FFFFFF0000FFFFFF0000') / 2\n",
    "print('Dec to hex')\n",
    "print(f'{int(l)} -> 0x{int(l):X}')"
   ]
  },
  {
   "cell_type": "code",
   "execution_count": null,
   "metadata": {},
   "outputs": [],
   "source": [
    "ota_env =\\\n",
    "\"\"\"\n",
    "D1 51 82 02  83 81 06 04   01 99 99 99  8B 45 40 06   \n",
    "01 88 88 88  7F F6 02 70   20 22 23 11  30 35 02 70   \n",
    "00 00 30 15  16 01 19 19   B0 00 11 55  2C 28 B7 60   \n",
    "04 80 D0 33  56 08 78 29   5A F4 7B 5C  12 A1 7A 00   \n",
    "73 9B 60 A3  CB A0 58 4F   B5 03 61 B9  6C 38 B7 47   \n",
    "F0 13 17 \n",
    "\"\"\"\n",
    "\n",
    "def ota_cmd(ota_env):\n",
    "    ota_env = ota_env.replace(' ', '').replace('\\n', '')\n",
    "    print(f'{ota_env}')\n",
    "    print(f'send_apdu -APDU A0C20000{int(len(ota_env)/2):X}{ota_env}')\n",
    "\n",
    "ota_cmd(ota_env)"
   ]
  },
  {
   "cell_type": "code",
   "execution_count": null,
   "metadata": {},
   "outputs": [],
   "source": [
    "# GET CONFIG decoder\n",
    "\n",
    "config = '010301001E001000000003000305010202000000'\n",
    "config = '010301001E001000000003000305010202000000'\n",
    "\n",
    "# config = '010301001E011400000003000305010200000000' # default profile order  01 00\n",
    "# config = '010300001E011400000003000305010201000000' # order 00 01\n",
    "\n",
    "applet_enabling_flag = config[0:2]\n",
    "applet_enabling_flag_dict = {'01':'Activate','00':'Deactivate'}\n",
    "\n",
    "mode = config[2:4]\n",
    "mode_dict = {'01':'Events only mode','02':'Timer only mode','03':'Events & Timer mode'}\n",
    "\n",
    "default_imsi = config[4:6]\n",
    "default_imsi_dict = {'00':'IMSI0','01':'IMSI1','02':'IMSI2','03':'IMSI3','04':'IMSI4','05':'IMSI5'}\n",
    "\n",
    "polling_period = config[6:10]\n",
    "\n",
    "features_activation_flags = config[10:14]\n",
    "\n",
    "scan_delay_timer = config[22:26]\n",
    "\n",
    "print(f'Applet enabling flag: {applet_enabling_flag_dict[applet_enabling_flag]}')\n",
    "print(f'Mode: {mode_dict[mode]}')\n",
    "print(f'Default IMSI: {default_imsi_dict[default_imsi]}')\n",
    "print(f'Polling period: {int(polling_period, 16)} sec.')\n",
    "print(f'Features activation flags: {int(features_activation_flags, 16):0>16b}')\n",
    "# Features activation flags 1(1 Enable, 0 Disable):\n",
    "# b1:Start with Primary (После рестарта UE будет выбран профайл 0).\n",
    "# b2:Reset Loci, PS Loci (обнуление TIMSI).\n",
    "# b3:RB_MODE (В HOME MCC будут перебираться IMSI спонсора).\n",
    "# b4 Skip Primary IMSI in roaming: (Исключение Home IMSI в роуминге).\n",
    "# b5:\n",
    "# b6-b16: RFU\n",
    "print(f'Scan delay timer: {int(scan_delay_timer, 16)} sec.')"
   ]
  },
  {
   "cell_type": "code",
   "execution_count": null,
   "metadata": {},
   "outputs": [],
   "source": []
  },
  {
   "cell_type": "code",
   "execution_count": null,
   "metadata": {},
   "outputs": [],
   "source": []
  },
  {
   "cell_type": "code",
   "execution_count": null,
   "metadata": {},
   "outputs": [],
   "source": []
  },
  {
   "cell_type": "markdown",
   "metadata": {},
   "source": [
    "### Developments"
   ]
  },
  {
   "cell_type": "code",
   "execution_count": 7,
   "metadata": {},
   "outputs": [],
   "source": [
    "class TestClass:\n",
    "    c_var01 = 'TestClassVar'\n",
    "    def __init__(self, i_var):\n",
    "        self.i_var01 = i_var\n",
    "        self.i_var02 = self.c_var01\n",
    "\n",
    "test_class = TestClass('TestInstanceVar')"
   ]
  },
  {
   "cell_type": "code",
   "execution_count": 10,
   "metadata": {},
   "outputs": [
    {
     "data": {
      "text/plain": [
       "'TestInstanceVar'"
      ]
     },
     "execution_count": 10,
     "metadata": {},
     "output_type": "execute_result"
    }
   ],
   "source": [
    "TestClass.c_var01 = 'TestClassVar01'\n",
    "test_class.i_var02\n",
    "test_class.i_var01"
   ]
  },
  {
   "cell_type": "code",
   "execution_count": null,
   "metadata": {},
   "outputs": [],
   "source": []
  }
 ],
 "metadata": {
  "kernelspec": {
   "display_name": "Python 3",
   "language": "python",
   "name": "python3"
  },
  "language_info": {
   "codemirror_mode": {
    "name": "ipython",
    "version": 3
   },
   "file_extension": ".py",
   "mimetype": "text/x-python",
   "name": "python",
   "nbconvert_exporter": "python",
   "pygments_lexer": "ipython3",
   "version": "3.6.9"
  }
 },
 "nbformat": 4,
 "nbformat_minor": 2
}
