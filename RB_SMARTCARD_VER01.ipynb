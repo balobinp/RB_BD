{
 "cells": [
  {
   "cell_type": "markdown",
   "metadata": {},
   "source": [
    "### RB SmartCard"
   ]
  },
  {
   "cell_type": "code",
   "execution_count": 7,
   "metadata": {},
   "outputs": [
    {
     "name": "stdout",
     "output_type": "stream",
     "text": [
      "Greetings from Roamability!!! \n",
      "\n"
     ]
    }
   ],
   "source": [
    "import numpy as np\n",
    "import pandas as pd\n",
    "from pandas import Series, DataFrame\n",
    "import sys\n",
    "from os.path import join\n",
    "from bs4 import BeautifulSoup\n",
    "from importlib import reload\n",
    "import codecs\n",
    "import re\n",
    "\n",
    "import roamability as rb\n",
    "\n",
    "downloads = 'C:/Users/balob/Downloads'\n",
    "\n",
    "rb.greetings_func()"
   ]
  },
  {
   "cell_type": "code",
   "execution_count": 41,
   "metadata": {},
   "outputs": [
    {
     "data": {
      "text/plain": [
       "<module 'roamability' from 'C:\\\\Users\\\\balob\\\\Documents\\\\GITLAB\\\\RB_BD\\\\roamability.py'>"
      ]
     },
     "execution_count": 41,
     "metadata": {},
     "output_type": "execute_result"
    }
   ],
   "source": [
    "reload(rb)"
   ]
  },
  {
   "cell_type": "code",
   "execution_count": 8,
   "metadata": {},
   "outputs": [],
   "source": [
    "class SmartCard:\n",
    "    \n",
    "    def __init__(self, imsi, msisdn=None, vmsc=None, sgsn=None):\n",
    "        self.imsi = imsi\n",
    "        self.msisdn = msisdn\n",
    "        self.vmsc = vmsc\n",
    "        self.sgsn = sgsn\n",
    "        self.ss7 = rb.SendMsgSs7()\n",
    "        self.ogt = self.select_ogt(imsi)\n",
    "        \n",
    "    def select_ogt(self, imsi):\n",
    "        if imsi.startswith('42501'):\n",
    "            return self.ss7.ogt['partner']\n",
    "        elif imsi.startswith('26006'):\n",
    "            return self.ss7.ogt['p4']\n",
    "        elif imsi.startswith('24040'):\n",
    "            return self.ss7.ogt['netmore']\n",
    "        elif imsi.startswith('25060'):\n",
    "            return self.ss7.ogt['volna']\n",
    "        elif imsi.startswith('25032'):\n",
    "            return self.ss7.ogt['win']\n",
    "        elif imsi.startswith('334140'):\n",
    "            return self.ss7.ogt['mexal']\n",
    "        elif imsi.startswith('26003'):\n",
    "            return self.ss7.ogt['orange']\n",
    "        elif imsi.startswith('42512'):\n",
    "            return self.ss7.ogt['x2one']\n",
    "        elif imsi.startswith('45403'):\n",
    "            return self.ss7.ogt['mb']\n",
    "        elif imsi.startswith('42518'):\n",
    "            return self.ss7.ogt['cellact']\n",
    " \n",
    "    def print_imsi_prof(self, payload_type='as_resp'):\n",
    "        if self.imsi and self.vmsc:\n",
    "            self.ss7.print_imsi_prof(self.ogt, self.imsi, self.vmsc, payload_type)\n",
    "        else:\n",
    "            print('Set IMSI and MSC GT')\n",
    "            \n",
    "    def get_config(self, payload=None):\n",
    "        if not payload:\n",
    "            payload = self.ss7.get_config\n",
    "        if self.imsi and self.vmsc:\n",
    "            resp = self.ss7.sendSMS(self.ogt, self.imsi, self.vmsc, payload)\n",
    "            print(resp.prettify, '\\n')\n",
    "            if resp.response.response:\n",
    "                self.ss7.get_config_decoder(resp.response.response.text.upper()[-40:])\n",
    "            else:\n",
    "                print('No info in response.')\n",
    "        else:\n",
    "            print('Set IMSI and MSC GT')"
   ]
  },
  {
   "cell_type": "code",
   "execution_count": 107,
   "metadata": {},
   "outputs": [],
   "source": [
    "# Send message\n",
    "card = SmartCard(imsi='260060144006020', msisdn='97254120018', vmsc='97254120022', sgsn='')\n",
    "# card.ss7.cl(card.ogt, card.vmsc, card.imsi, d_ssn=7)\n",
    "# card.ss7.cl(card.ogt, card.sgsn, card.imsi, d_ssn=149)\n",
    "# card.ss7.sendSMS(card.ogt, card.imsi, card.vmsc, card.ss7.get_info)\n",
    "# card.ss7.sai(ogt=card.select_ogt(card.imsi), dgt='48790993072', imsi=card.imsi, node=0, sccp_np=7)"
   ]
  },
  {
   "cell_type": "code",
   "execution_count": 110,
   "metadata": {},
   "outputs": [
    {
     "data": {
      "text/plain": [
       "<?xml version=\"1.0\" encoding=\"utf-8\"?>\n",
       "<response>\n",
       "<result>-1</result>\n",
       "<error>timeout</error>\n",
       "<src_gt/>\n",
       "</response>"
      ]
     },
     "execution_count": 110,
     "metadata": {},
     "output_type": "execute_result"
    }
   ],
   "source": [
    "card.ss7.sai(ogt=card.select_ogt(card.imsi), dgt='48790993072', imsi=card.imsi, node=0, sccp_np=1)"
   ]
  },
  {
   "cell_type": "code",
   "execution_count": 106,
   "metadata": {},
   "outputs": [
    {
     "name": "stdout",
     "output_type": "stream",
     "text": [
      "<bound method Tag.prettify of <?xml version=\"1.0\" encoding=\"utf-8\"?>\n",
      "<response>\n",
      "<result>0</result><response>00077FF64E02710000490ABFFF0100000000000000FFFFFFF00001090024F5100000003A7515118090570100082906601054302516010849521069412026160208290630660110270503085951301009000092</response>\n",
      "<src_gt>97254120022</src_gt>\n",
      "</response>> \n",
      "\n",
      "This SIM card contains the following IMSIs:\n",
      "Slot 0 260060145035261\n",
      "Slot 1 425019614026261\n",
      "Slot 2 260036610017250\n",
      "Slot 3 515030190000029\n",
      "\n",
      "Applet ver.: 1.9.0\n",
      "MCCMNC: 42501\n"
     ]
    }
   ],
   "source": [
    "card.print_imsi_prof(payload_type='as_resp')\n",
    "# card.print_imsi_prof(payload_type='as_mo')"
   ]
  },
  {
   "cell_type": "code",
   "execution_count": 100,
   "metadata": {},
   "outputs": [
    {
     "name": "stdout",
     "output_type": "stream",
     "text": [
      "<bound method Tag.prettify of <?xml version=\"1.0\" encoding=\"utf-8\"?>\n",
      "<response>\n",
      "<result>0</result><response>00077FF62902710000240ABFFF01000000000000000000005B00010300001E011400000003000305010201000000</response>\n",
      "<src_gt>79219600320</src_gt>\n",
      "</response>> \n",
      "\n",
      "Applet enabling flag: Activate\n",
      "Mode: Events & Timer mode\n",
      "Default IMSI: IMSI0\n",
      "Polling period: 30 sec.\n",
      "Features activation flags: 0000000100010100\n",
      "    Start with Primary: Disable\n",
      "    Reset Loci, PS Loci: Disable\n",
      "    RB_MODE (Sponsor IMSI in HPLMN): Enable\n",
      "    Skip Primary IMSI in roaming: Disable\n",
      "Refresh Type: 00\n",
      "Default refresh Type: 00\n",
      "No Service Swap Timer: 3 sec.\n",
      "Refresh Retry: 05\n",
      "Refresh Retry Delay: 1 sec.\n",
      "Scan delay timer: 3 sec.\n"
     ]
    }
   ],
   "source": [
    "card.get_config()"
   ]
  },
  {
   "cell_type": "code",
   "execution_count": 14,
   "metadata": {},
   "outputs": [],
   "source": [
    "# Cancel Location\n",
    "card.ss7.cl(card.ogt, card.vmsc, card.imsi, d_ssn=7)"
   ]
  },
  {
   "cell_type": "code",
   "execution_count": 20,
   "metadata": {},
   "outputs": [
    {
     "data": {
      "text/plain": [
       "<?xml version=\"1.0\" encoding=\"utf-8\"?>\n",
       "<response>\n",
       "<quintupletList>\n",
       "<sequence>\n",
       "<rand>aec55ff68cb4f96cc3e8dd8e654e96a3</rand>\n",
       "<xres>46f891e740715525</xres>\n",
       "<ck>32d6112d525f7c340dc2897b57a7d48c</ck>\n",
       "<ik>98784e28f0c05c5eebd4eb43784d4386</ik>\n",
       "<autn>8aff8dbe170a000078240a164389e3ed</autn>\n",
       "</sequence>\n",
       "</quintupletList>\n",
       "<result>0</result>\n",
       "<src_gt>97254120017</src_gt>\n",
       "</response>"
      ]
     },
     "execution_count": 20,
     "metadata": {},
     "output_type": "execute_result"
    }
   ],
   "source": [
    "# card.ss7.sri4sm(card.select_ogt(card.imsi), card.msisdn, card.msisdn, sccp_np=1)\n",
    "# card.ss7.sri4sm(card.select_ogt(card.imsi), card.msisdn, dgt='972540706060152', sccp_np=7)\n",
    "card.ss7.sai(ogt=card.select_ogt(card.imsi), dgt='972540706060152', imsi=card.imsi, node=0, sccp_np=7)"
   ]
  },
  {
   "cell_type": "code",
   "execution_count": 103,
   "metadata": {},
   "outputs": [
    {
     "data": {
      "text/plain": [
       "<?xml version=\"1.0\" encoding=\"utf-8\"?>\n",
       "<response>\n",
       "<result>0</result><response>00077FF610027100000B0ABFFF0100000000010000</response>\n",
       "<src_gt>79219600320</src_gt>\n",
       "</response>"
      ]
     },
     "execution_count": 103,
     "metadata": {},
     "output_type": "execute_result"
    }
   ],
   "source": [
    "# Send SMS to card\n",
    "payload = '02700000301516011919B00010EE5D95A28D9D64AD9D95440EBA17B9CE41038F125EC0124FBEB4E2EF93307D0D0453F02F742CA366'\n",
    "payload = '027000001F0D00000000BFFF010000000000002028D0FC11B4CD2E540704D7775B065DA8'\n",
    "payload = '027000001F0D00011010BFFF0100000000010020603D79FB432EAE6330115803E8A7513E'  # GET LAI/CID\n",
    "payload = '0270d00010000bfff0a00000000000080929416598b053ae473cb03785a20a9cf6d6bbf375ed3386d'  # Update MCCMAP 425:2\n",
    "payload = '027000001F0D00011010BFFF0100000000010020603D79FB432EAE637FCEA377BA2CB591'  # GET MCCMAP\n",
    "card.ss7.sendSMS(card.ogt, card.imsi, card.vmsc, payload=payload)"
   ]
  },
  {
   "cell_type": "code",
   "execution_count": 24,
   "metadata": {},
   "outputs": [
    {
     "data": {
      "text/plain": [
       "<?xml version=\"1.0\" encoding=\"utf-8\"?>\n",
       "<response>\n",
       "<result>0</result>\n",
       "<src_gt>79219600320</src_gt>\n",
       "</response>"
      ]
     },
     "execution_count": 24,
     "metadata": {},
     "output_type": "execute_result"
    }
   ],
   "source": [
    "'010301001E0114000000030003050102000000000217010208495210694110060007917952140226F4FFFFFFFF'\n",
    "'010300001E011400000003000305010200000000'"
   ]
  },
  {
   "cell_type": "code",
   "execution_count": 19,
   "metadata": {},
   "outputs": [
    {
     "name": "stdout",
     "output_type": "stream",
     "text": [
      "<bound method Tag.prettify of <?xml version=\"1.0\" encoding=\"utf-8\"?>\n",
      "<response>\n",
      "<result>-1</result>\n",
      "<error>Error: Absent Subscriber(27)</error>\n",
      "<src_gt>79112009927</src_gt>\n",
      "</response>> \n",
      "\n",
      "No info in response.\n"
     ]
    }
   ],
   "source": [
    "# Print IMSI profiles\n",
    "card = SmartCard(imsi='425019614026999', msisdn='', vmsc='79112009927', sgsn='')\n",
    "card.print_imsi_prof(payload_type='as_resp')"
   ]
  },
  {
   "cell_type": "code",
   "execution_count": 39,
   "metadata": {},
   "outputs": [
    {
     "name": "stdout",
     "output_type": "stream",
     "text": [
      "This SIM card contains the following IMSIs:\n",
      "Slot 0 334140016000031\n",
      "Slot 1 260060143192299\n",
      "Slot 2 515030191115299\n",
      "Slot 3 234500026435299\n",
      "\n",
      "Applet ver.: 1.7.0\n",
      "MCCMNC: 33414\n"
     ]
    }
   ],
   "source": [
    "resp = '02710000350ABFFF0100000000010000FFFFFFF000010700000000000000000000000000000000084952106941005106010829066010540051069000'\n",
    "resp = '027100003f0abfff0100000000000000fffffff00001070062f0100000003a35480668834707000849521069314095750108290660109440447502082943050062540520'\n",
    "resp = '00077FF64E02710000490ABFFF0100000000000000FFFFFFF0000107003304410000003A1578010810790200083943410061000013010829066010349122990208595130101911259903082943050062342599'\n",
    "card.ss7.decode_payload_response(resp)"
   ]
  },
  {
   "cell_type": "code",
   "execution_count": 6,
   "metadata": {},
   "outputs": [
    {
     "name": "stdout",
     "output_type": "stream",
     "text": [
      "<bound method Tag.prettify of <?xml version=\"1.0\" encoding=\"utf-8\"?>\n",
      "<response>\n",
      "<result>-1</result>\n",
      "<error>Error: System Failure(34)</error>\n",
      "<src_gt>48601000111</src_gt>\n",
      "</response>> \n",
      "\n",
      "No info in response.\n"
     ]
    }
   ],
   "source": [
    "# Get card Config\n",
    "card = SmartCard(imsi='425019613045957', msisdn='', vmsc='48601000111')\n",
    "card.get_config()"
   ]
  },
  {
   "cell_type": "code",
   "execution_count": 85,
   "metadata": {},
   "outputs": [
    {
     "name": "stdout",
     "output_type": "stream",
     "text": [
      "Applet enabling flag: Activate\n",
      "Mode: Events & Timer mode\n",
      "Default IMSI: IMSI0\n",
      "Polling period: 30 sec.\n",
      "Features activation flags: 0000000100010100\n",
      "    Start with Primary: Disable\n",
      "    Reset Loci, PS Loci: Disable\n",
      "    RB_MODE (Sponsor IMSI in HPLMN): Enable\n",
      "    Skip Primary IMSI in roaming: Disable\n",
      "Refresh Type: 00\n",
      "Default refresh Type: 00\n",
      "No Service Swap Timer: 3 sec.\n",
      "Refresh Retry: 05\n",
      "Refresh Retry Delay: 1 sec.\n",
      "Scan delay timer: 3 sec.\n"
     ]
    }
   ],
   "source": [
    "ss7 = rb.SendMsgSs7()\n",
    "conf = '010300001E011400000003000305010200000000'\n",
    "conf = '010301001E011400000003000305010200000000'\n",
    "conf = '010301001E011400000003000305010200000000'  #F reecell_200807_5K_eSIM\n",
    "conf = '010301001E011400000003000305010200000000'\n",
    "conf = '010300001E011400000003000305010200000000'\n",
    "conf = '010300001E011400000003000305010201000000'\n",
    "conf = '010301001E000800000003000305010202000000'  # STI_200901_5K_Cellact_Global1SIM\n",
    "conf = '010300001E011400000003000305010201000000'  # Applet 2.0\n",
    "# ss7.get_config_decoder('010300001E011400000003000305010200000000')\n",
    "ss7.get_config_decoder(conf)"
   ]
  },
  {
   "cell_type": "code",
   "execution_count": 84,
   "metadata": {},
   "outputs": [
    {
     "name": "stdout",
     "output_type": "stream",
     "text": [
      "Applet enabling flag: Activate\n",
      "Mode: Events & Timer mode\n",
      "Default IMSI: IMSI1\n",
      "Polling period: 30 sec.\n",
      "Features activation flags: 0000000000001000\n",
      "    Start with Primary: Disable\n",
      "    Reset Loci, PS Loci: Disable\n",
      "    RB_MODE (Sponsor IMSI in HPLMN): Disable\n",
      "    Skip Primary IMSI in roaming: Enable\n",
      "Refresh Type: 00\n",
      "Default refresh Type: 00\n",
      "No Service Swap Timer: 3 sec.\n",
      "Refresh Retry: 05\n",
      "Refresh Retry Delay: 1 sec.\n",
      "Scan delay timer: 3 sec.\n"
     ]
    }
   ],
   "source": [
    "#            M\n",
    "# 1Ch - 00011100\n",
    "conf = '010300001E011C00000003000305010201000000'  # Applet 2.0 Access OK\n",
    "conf = '010300001E001400000003000305010201000000'  # Applet 2.0 Access OK\n",
    "# 08h - 00001000\n",
    "# 14h - 00010100\n",
    "#        1 2 3 4 5 6 7 8 91011121314151617181920\n",
    "conf = '010301001E000800000003000305010202000000'  # STI_200901_5K_Cellact_Global1SIM\n",
    "conf = '010300001E011400000003000305010201000000'  # Applet 2.0\n",
    "conf = '010301001E000800000003000305010202000000'  # X20ne_200122_5K_Dialog\n",
    "ss7.get_config_decoder(conf)"
   ]
  },
  {
   "cell_type": "code",
   "execution_count": 14,
   "metadata": {},
   "outputs": [
    {
     "data": {
      "text/plain": [
       "'4945302072033295'"
      ]
     },
     "execution_count": 14,
     "metadata": {},
     "output_type": "execute_result"
    }
   ],
   "source": [
    "# IMSI decoder\n",
    "\n",
    "imsi = '4952106941005106'\n",
    "imsi = '232104801005000'\n",
    "imsi = '4952106941005106' # 084952106941005106 / 425019614001560\n",
    "# imsi = '260060145001560'  # 082906601054005106\n",
    "imsi = '454030227302359'  # 260060143599998 -> 2906601034959989\n",
    "\n",
    "def imsi_conv(imsi, code='code'):\n",
    "    \"\"\"Conver deconvert IMSI for perso. code='code' / 'decode'\"\"\"\n",
    "    if code=='code':\n",
    "        imsi = '9' + imsi\n",
    "        return ''.join([imsi[i] for i in [1, 0, 3, 2, 5, 4, 7, 6, 9, 8, 11, 10, 13, 12, 15, 14]])\n",
    "    elif code=='decode':\n",
    "        return ''.join([imsi[i] for i in [0, 3, 2, 5, 4, 7, 6, 9, 8, 11, 10, 13, 12, 15, 14]])\n",
    "\n",
    "# imsi_conv(imsi, code='decode')  # code\n",
    "imsi_conv(imsi, code='code')"
   ]
  },
  {
   "cell_type": "code",
   "execution_count": 167,
   "metadata": {},
   "outputs": [
    {
     "data": {
      "text/plain": [
       "'2020809260036611116001'"
      ]
     },
     "execution_count": 167,
     "metadata": {},
     "output_type": "execute_result"
    }
   ],
   "source": [
    "# ANY decoder\n",
    "\n",
    "value = '4952106941005106'\n",
    "value = '89972123300002700003' #'98791232039009470600'\n",
    "value = '98791232039009470600'\n",
    "value = '2906306601007036'\n",
    "value = '2906306601007045'\n",
    "value = '795275102670' # 01000791795275102670FFFFFFFFFFFF03001E00 972557016207\n",
    "value = '0302082906306601108632'\n",
    "value = '0302082906306601000053'\n",
    "value = '0202082906306611110610'\n",
    "\n",
    "def any_decoder(value):\n",
    "    value_conv = ''\n",
    "    for i in range(1, len(value), 2):\n",
    "        value_conv += value[i: i + 1]\n",
    "        value_conv += value[i - 1: i]\n",
    "    return value_conv\n",
    "\n",
    "any_decoder(value)"
   ]
  },
  {
   "cell_type": "code",
   "execution_count": 4,
   "metadata": {},
   "outputs": [
    {
     "data": {
      "text/plain": [
       "{'p4': '48790993070',\n",
       " 'partner': '97254120625',\n",
       " 'sure': '447797706411',\n",
       " 'tot': '66893773228',\n",
       " 'porto_seguro': '550549900000',\n",
       " 'rusec_rus': '79028710069',\n",
       " 'rusec_int': '417999880000024',\n",
       " 'multi_byte_sponsor': '85263347864',\n",
       " 'smart1': '639180009880',\n",
       " 'smart2': '639180009881',\n",
       " 'smart3': '639180009882',\n",
       " 'smart4': '639180009883',\n",
       " 'telzar': '972559900040',\n",
       " 'x2one': '972553316228',\n",
       " 'cellact': '972557016315',\n",
       " 'netmore': '46731726312',\n",
       " 'p4_naka_01': '48790998145',\n",
       " 'p4_naka_02': '48790998146',\n",
       " 'p4_naka_03': '48790998147',\n",
       " 'partner_naka_01': '97254120634',\n",
       " 'partner_naka_02': '97254120635',\n",
       " 'partner_naka_03': '97254120636',\n",
       " 'partner_naka_04': '97254120637',\n",
       " 'mb': '852633477591',\n",
       " 'maxcom': '525575709019',\n",
       " 'orange': '48507909001',\n",
       " 'jt': '447797707084',\n",
       " 'tcom': '359999320032',\n",
       " 'volna': '79785750017',\n",
       " 'win': '79789300033',\n",
       " 'surf_test': '550170002133',\n",
       " 'surf_prod': '550170000133',\n",
       " 'mexal': '528127341842'}"
      ]
     },
     "execution_count": 4,
     "metadata": {},
     "output_type": "execute_result"
    }
   ],
   "source": [
    "ss7 = rb.SendMsgSs7()\n",
    "ss7.ogt"
   ]
  },
  {
   "cell_type": "code",
   "execution_count": 88,
   "metadata": {},
   "outputs": [
    {
     "data": {
      "text/plain": [
       "'ROAMABILITY'"
      ]
     },
     "execution_count": 88,
     "metadata": {},
     "output_type": "execute_result"
    }
   ],
   "source": [
    "# ASCII decoder\n",
    "\n",
    "value = b\"Smartel\"\n",
    "value = '524F414D4142494C495459' # 'ROAMABILITY' 02524F414D4142494C495459FFFFFFFFFF\n",
    "# value = '5553494D205365727669636573' # 850D5553494D205365727669636573FFFFFF # 'USIM Services'\n",
    "# value = '02476C6F62616C3153494D' # 02476C6F62616C3153494DFFFFFFFFFFFF\n",
    "# # value = b\"Altan\" # 416C74616E\n",
    "# value = '02416C74616E'  # 02416C74616EFFFFFFFFFFFFFFFFFFFFFF\n",
    "# value = '02476C6F62616C3153494D'  # 'Global1SIM' 02476C6F62616C3153494DFFFFFFFFFFFF STI_200901_5K_Cellact_Global1SIM\n",
    "\n",
    "def ascii_conv(value, code='code'):\n",
    "    if code=='code':\n",
    "        return codecs.encode(value, \"hex\").upper()\n",
    "    elif code=='decode':\n",
    "        return bytearray.fromhex(value).decode()\n",
    "\n",
    "# ascii_conv(value, code='code')\n",
    "ascii_conv(value, code='decode')"
   ]
  },
  {
   "cell_type": "code",
   "execution_count": null,
   "metadata": {},
   "outputs": [],
   "source": [
    "'02476C6F62616C3153494DFFFFFFFFFFFF'\n",
    "'02416C74616EFFFFFFFFFFFFFFFFFFFFFF'"
   ]
  },
  {
   "cell_type": "code",
   "execution_count": 17,
   "metadata": {},
   "outputs": [
    {
     "name": "stdout",
     "output_type": "stream",
     "text": [
      "Dec to hex\n",
      "16 -> 0x10\n"
     ]
    }
   ],
   "source": [
    "l = len('D3CE47317196D8659DF83FAB17733C81') / 2\n",
    "print('Dec to hex')\n",
    "print(f'{int(l)} -> 0x{int(l):X}')"
   ]
  },
  {
   "cell_type": "code",
   "execution_count": 92,
   "metadata": {},
   "outputs": [
    {
     "name": "stdout",
     "output_type": "stream",
     "text": [
      "D140820283810604812143658B344006812143657FF69090127152002024027000001F0D00011010BFFF0100000000010020603D79FB432EAE6330115803E8A7513E\n",
      "send_apdu -APDU A0C2000042D140820283810604812143658B344006812143657FF69090127152002024027000001F0D00011010BFFF0100000000010020603D79FB432EAE6330115803E8A7513E\n"
     ]
    }
   ],
   "source": [
    "ota_env =\\\n",
    "\"\"\"\n",
    "D1 40 82 02  83 81 06 04   81 21 43 65  8B 34 40 06   \n",
    "81 21 43 65  7F F6 90 90   12 71 52 00  20 24 02 70   \n",
    "00 00 1F 0D  00 01 10 10   BF FF 01 00  00 00 00 01   \n",
    "00 20 60 3D  79 FB 43 2E   AE 63 30 11  58 03 E8 A7   \n",
    "51 3E\n",
    "\"\"\"\n",
    "\n",
    "def ota_cmd(ota_env):\n",
    "    ota_env = ota_env.replace(' ', '').replace('\\n', '')\n",
    "    print(f'{ota_env}')\n",
    "    print(f'send_apdu -APDU A0C20000{int(len(ota_env)/2):X}{ota_env}')\n",
    "\n",
    "ota_cmd(ota_env)"
   ]
  },
  {
   "cell_type": "code",
   "execution_count": null,
   "metadata": {},
   "outputs": [],
   "source": [
    "'810301240002028281030100100105'\n",
    "'810301240002028281030100100105'"
   ]
  },
  {
   "cell_type": "code",
   "execution_count": 96,
   "metadata": {},
   "outputs": [
    {
     "name": "stdout",
     "output_type": "stream",
     "text": [
      "This SIM card contains the following IMSIs:\n",
      "Slot 0 425019614001560\n",
      "Slot 1 260060145001560\n",
      "Slot 2 260060143599902\n",
      "Slot 3 260060143599903\n",
      "Slot 4 260060143599904\n",
      "Slot 5 260060143599905\n",
      "Slot 6 260060143599906\n",
      "Slot 7 260060143599907\n",
      "Slot 8 260060143599908\n",
      "\n",
      "Applet ver.: 2.0.0\n",
      "MCCMNC: 00000\n"
     ]
    }
   ],
   "source": [
    "# Decode GET INFO\n",
    "\n",
    "ss7 = rb.SendMsgSs7()\n",
    "resp = '027100002b0abfff010000000000000000000013000107003304410000003a6520064889770700083943410000208685'\n",
    "resp = '027100003f0abfff01000000000000000000003f0001070052f0230000008a36320462397700000829052389298600610108495210690210874902082906601004218921'\n",
    "resp = '02710000670ABFFF0100000000010000FFFFFFF0000200000000000000000000000000000000000849521069410051060108290660105400510602082906601034959920030829066010349599300408290660103495994005082906601034959950060829066010349599609000'\n",
    "resp = '027100007B0ABFFF0100000000010000FFFFFFF00002000000000000000000000000000000000008495210694100510601082906601054005106020829066010349599200308290660103495993004082906601034959940050829066010349599500608290660103495996007082906601034959970080829066010349599809000'\n",
    "\n",
    "ss7.decode_payload_response(resp)"
   ]
  },
  {
   "cell_type": "code",
   "execution_count": 4,
   "metadata": {},
   "outputs": [
    {
     "name": "stdout",
     "output_type": "stream",
     "text": [
      "Applet enabling flag: Activate\n",
      "Mode: Events & Timer mode\n",
      "Default IMSI: IMSI1\n",
      "Polling period: 30 sec.\n",
      "Features activation flags: 0000000000001000\n",
      "    Start with Primary: Disable\n",
      "    Reset Loci, PS Loci: Disable\n",
      "    RB_MODE (Sponsor IMSI in HPLMN): Disable\n",
      "    Skip Primary IMSI in roaming: Enable\n",
      "Refresh Type: 00\n",
      "Default refresh Type: 00\n",
      "No Service Swap Timer: 3 sec.\n",
      "Refresh Retry: 05\n",
      "Refresh Retry Delay: 1 sec.\n",
      "Scan delay timer: 3 sec.\n"
     ]
    }
   ],
   "source": [
    "# Decode EF_CONFIG\n",
    "\n",
    "ss7 = rb.SendMsgSs7()\n",
    "ss7.get_config_decoder('010301001E000800000003000305010202000000') # Netmore RAO\n",
    "# Roamability Always On i.e. allowing sponsor profiles to be automatically selected in Sweden"
   ]
  },
  {
   "cell_type": "code",
   "execution_count": 93,
   "metadata": {},
   "outputs": [
    {
     "name": "stdout",
     "output_type": "stream",
     "text": [
      "IMSI: 334140010350566, MSC: 528127341801, RESULT: 0\n",
      "\n",
      "<bound method Tag.prettify of <?xml version=\"1.0\" encoding=\"utf-8\"?>\n",
      "<response>\n",
      "<result>0</result><response>00077FF610027100000B0ABFFF0100000000000000</response>\n",
      "<src_gt>528127341801</src_gt>\n",
      "</response>> \n",
      "\n",
      "This SIM card contains the following IMSIs:\n"
     ]
    }
   ],
   "source": [
    "# For Altan\n",
    "# Get IMSI, Get info and Add IMSI\n",
    "\n",
    "imsi = '334140000028258'\n",
    "msisdn='525586338094'\n",
    "\n",
    "add_imsi_payload = '02700000370D00010000BFFF0100000000000010F1E5FE37E58C6F85A89A2CF5EB7898617C6D40D8A46AF5F57B14F9C1BF46FE5B22D5E913F5A764A9'\n",
    "add_imsi_payload = '02700000370D00010000BFFF0100000000000010EE1A5E23AB662370C26763F7BA247CC9C5E5743982BC7EB9C91B7C3877428738E7DAC42FAB208010'\n",
    "add_imsi_payload = '02700000370D00010000BFFF0100000000000010B3C3D5226F9473927D3543D094D0D09A53DCFA868981BDF3D6729CDB2C782D598DAA67EB15CA8BB1'\n",
    "\n",
    "card = SmartCard(imsi=imsi, msisdn=msisdn, vmsc='', sgsn='')\n",
    "resp = card.ss7.sri4sm(card.ogt, card.msisdn, card.msisdn)\n",
    "print(f'IMSI: {resp.response.imsi.text}, MSC: {resp.response.msc.text}, RESULT: {resp.response.result.text}\\n')\n",
    "if resp.response.result.text == '0':\n",
    "    card = SmartCard(imsi=resp.response.imsi.text, msisdn=msisdn, vmsc=resp.response.msc.text, sgsn='')\n",
    "    card.print_imsi_prof()\n",
    "#     card.get_config()\n",
    "#     resp = card.ss7.sendSMS(card.ogt, card.imsi, card.vmsc, add_imsi_payload)\n",
    "#     print(f'\\nRESULT: {resp.response.result.text}\\n')"
   ]
  },
  {
   "cell_type": "markdown",
   "metadata": {},
   "source": [
    "### Кодировки"
   ]
  },
  {
   "cell_type": "code",
   "execution_count": 14,
   "metadata": {},
   "outputs": [
    {
     "name": "stdout",
     "output_type": "stream",
     "text": [
      "Hex to dec\n",
      "0000000000000050\n",
      "Hex to bin\n",
      "0000000000110010\n",
      "Dec to hex\n",
      "FFFFFFFFFFFFFF58\n",
      "Dec to bin\n",
      "0000000001011000\n",
      "Bin to hex\n",
      "FFFFFFFFFFFFFF40\n",
      "Bin to dec\n",
      "0000000000000064\n"
     ]
    },
    {
     "data": {
      "text/plain": [
       "'01010010'"
      ]
     },
     "execution_count": 14,
     "metadata": {},
     "output_type": "execute_result"
    }
   ],
   "source": [
    "hex_int = 0x32\n",
    "dec_int = 88\n",
    "bin_int = 0b01000000\n",
    "# Hex to dec\n",
    "print('Hex to dec')\n",
    "print(f'{hex_int:0>16d}')\n",
    "# Hex to bin\n",
    "print('Hex to bin')\n",
    "print(f'{hex_int:0>16b}')\n",
    "# Dec to hex\n",
    "print('Dec to hex')\n",
    "print(f'{dec_int:F>16X}')\n",
    "# Dec to bin\n",
    "print('Dec to bin')\n",
    "print(f'{dec_int:0>16b}')\n",
    "# Bin to hex\n",
    "print('Bin to hex')\n",
    "print(f'{bin_int:F>16X}')\n",
    "# Bin to dec\n",
    "print('Bin to dec')\n",
    "print(f'{bin_int:0>16d}')\n",
    "'250'\n",
    "\n",
    "'01010010' # 52"
   ]
  },
  {
   "cell_type": "code",
   "execution_count": 28,
   "metadata": {},
   "outputs": [
    {
     "name": "stdout",
     "output_type": "stream",
     "text": [
      "original plaintext: 4E3F0E5A000000010018BC\n",
      "encrypted text: CF5496DC7EAA4A2656F5D960B554AEDD\n",
      "encrypted text: 603D79FB432EAE63FE2D065B49C52121\n",
      "encrypted text: 623E1C793DB643EFFBB22C0484654045\n",
      "encrypted text: AF42174E65F43EBEDF01B382F3C63088\n",
      "encrypted text: 9974CD4BB7BD3D122A5F706EB03C4138\n",
      "encrypted text: D2DBDE6457BA911C32AD0CB0AAB139B9\n",
      "encrypted text: 8C0FF801F874B29E33D292621C789964\n",
      "encrypted text: 0EBDF014547B22BB24E576184BFFC3E4\n",
      "encrypted text: 9C2A2789FD49951207A2FE9E3DFCF1AE\n",
      "encrypted text: 907280CA7A46CE09BEF86E5D918D9429\n",
      "decrypted plaintext: 4E3F0E5A000000010018BC\n"
     ]
    }
   ],
   "source": [
    "# Кодировка 3DES\n",
    "\n",
    "import pyDes  # pyDes if installed from pip\n",
    "plaintext = '4E3F0E5A000000010018BC'\n",
    "key_list = [\n",
    "    'D0AEE50D70087C19D773696FE698C78832432DF14F2487D1',\n",
    "    '26B60249EC3D7CCE4AADE73F0D803E470AEA1E2C0279AD5D',\n",
    "    '9B68C23B919D620B9F8627ECFC8E0BD824197152B4C9CB0E',\n",
    "    'D04C6E02F201B9E057F6DC45ADD217D7C07ABA5CED76ABF4',\n",
    "    '67A1C10D23239E190495643C3A233B76D1CE047A9D7D5602',\n",
    "    '0104BA83E6B3B64FB0207B309B6E40C3EBB7E10B0D751920',\n",
    "    'DCF410DA0BC4E552F11EFF1FA30B193A5B0FACA7061C310E',\n",
    "    'CB43F7734A0DFB4AA332E690CE0D31F31CB9A6024804DAF2',\n",
    "    'A4CDDF91ADD34649AD1956FE90333EF5C3012EBF25D7EB53',\n",
    "    'FEEA7CA8ECE6DAF856EEE86785F7DFE5AE3FF8978E4D1F5B',\n",
    "]\n",
    "# Convert plaintext to bytes\n",
    "plaintext = bytes.fromhex(plaintext)\n",
    "# Add padding\n",
    "# length = 8 - (len(plaintext) % 8)\n",
    "# plaintext += bytes([length]) * length\n",
    "print(f'original plaintext: {plaintext.hex().upper()}')\n",
    "iv = bytes.fromhex('0000000000000000')\n",
    "# Make the encryption\n",
    "for key in key_list:\n",
    "    # Convert key to bytes\n",
    "    key = bytes.fromhex(key)\n",
    "    res = pyDes.triple_des(key=key, mode=pyDes.CBC, IV=iv).encrypt(plaintext, padmode=2)\n",
    "    print(f'encrypted text: {res.hex().upper()}')\n",
    "# Make the decryption\n",
    "decrypted_plaintext = pyDes.triple_des(key, pyDes.CBC, IV=iv).decrypt(res, padmode=2).hex().upper()\n",
    "print(f'decrypted plaintext: {decrypted_plaintext}')"
   ]
  },
  {
   "cell_type": "code",
   "execution_count": 39,
   "metadata": {},
   "outputs": [
    {
     "name": "stdout",
     "output_type": "stream",
     "text": [
      "1:decrypted plaintext: 0FAD0B7878CF987FDBA4ABD242E15E5ACDCB226F24624FB3\n",
      "2:decrypted plaintext: 36CA3F143B65A0B09C120D930533781CB3055AC0DBC8C9ED\n",
      "3:decrypted plaintext: 0B7D5422BA1212FF5B1AF8DF7C74263B4BD0B71B2017DC50\n",
      "4:decrypted plaintext: 5B2DDE44D280158203344781433FB40ADE35DF80ACC1391C\n",
      "5:decrypted plaintext: AF5CF4E77E4AA62AAE0C821ECBBC241A8CB012381F87DEAE\n",
      "6:decrypted plaintext: 09B4D4A0D41FFFB014DA24D995643A7017238BBBEC416D80\n",
      "7:decrypted plaintext: 40129A891938D1E467984315BB0EA891BB0FEA07BFC4F46F\n",
      "8:decrypted plaintext: C2EBED5CE0B50FF3756CBFD8177E183B1A6E4ED50D301E03\n",
      "9:decrypted plaintext: 0D0BA0CB00004399438B0000004E03405220000000000000\n",
      "10:decrypted plaintext: 889FA2FEEABB61C6FCBE1BD1929B9C5C7CD3F14C1105103B\n"
     ]
    }
   ],
   "source": [
    "# Декодировка 3DES\n",
    "\n",
    "import pyDes  # pyDes if installed from pip\n",
    "\n",
    "# '02700000370d00010000bfff0100000000000060d20987de7b3004b4f76f64e936580fdf35ed06818e28c85def262718fc1d68a6ce3706693de736ab'\n",
    "#                                         'd20987de7b3004b4f76f64e936580fdf35ed06818e28c85def262718fc1d68a6ce3706693de736ab'\n",
    "encrypted_text = 'f23db6c29895daf6b3aa7a5e3429257a95b03ff5522e9a023e2d90c5987abf7f361b9244e59e7186'\n",
    "encrypted_text = '5c0f3ac498f1c074fde16666fd31cf96126262cc4fa3bede71328e3f2b0dd3fb2537811462b09498be88beca001bcfe6915ea9bf8eab7dada4de7a5af59c972cc48b5d2e7b9d6152e4b7d06c208bcfdf3e798eb14409d2fe'\n",
    "encrypted_text = '948523050ec1adaa5ecef320a22a1e29246cb8f0ceada0977ffbea61d047b7d2ec4a43061f7deb79'\n",
    "encrypted_text = 'd20987de7b3004b4f76f64e936580fdf35ed06818e28c85def262718fc1d68a6ce3706693de736ab'\n",
    "encrypted_text = '900E7F76F2F5F8B41859FD603D53F31723985E73EE5DE3D8B988C5FE80B4AB356D7AC154CC27EFCD'\n",
    "encrypted_text = 'dd53b30d1865a9c565c08aaa934e1e64ebb7816a808ecf42' # 02700000270d00010000bfff0100000000000090dd53b30d1865a9c565c08aaa934e1e64ebb7816a808ecf42\n",
    "\n",
    "encrypted_text = bytes.fromhex(encrypted_text)\n",
    "\n",
    "key_list = [\n",
    "    'D0AEE50D70087C19D773696FE698C78832432DF14F2487D1',\n",
    "    '26B60249EC3D7CCE4AADE73F0D803E470AEA1E2C0279AD5D',\n",
    "    '9B68C23B919D620B9F8627ECFC8E0BD824197152B4C9CB0E',\n",
    "    'D04C6E02F201B9E057F6DC45ADD217D7C07ABA5CED76ABF4',\n",
    "    '67A1C10D23239E190495643C3A233B76D1CE047A9D7D5602',\n",
    "    '0104BA83E6B3B64FB0207B309B6E40C3EBB7E10B0D751920',\n",
    "    'DCF410DA0BC4E552F11EFF1FA30B193A5B0FACA7061C310E',\n",
    "    'CB43F7734A0DFB4AA332E690CE0D31F31CB9A6024804DAF2',\n",
    "    'A4CDDF91ADD34649AD1956FE90333EF5C3012EBF25D7EB53',\n",
    "    'FEEA7CA8ECE6DAF856EEE86785F7DFE5AE3FF8978E4D1F5B',\n",
    "]\n",
    "\n",
    "for i, key in enumerate(key_list, 1):\n",
    "    # Convert key to bytes\n",
    "    iv = bytes.fromhex('0000000000000000')\n",
    "    key = bytes.fromhex(key)\n",
    "    decrypted_plaintext = pyDes.triple_des(key, pyDes.CBC, IV=iv).decrypt(encrypted_text, padmode=1).hex().upper()\n",
    "    print(f'{i}:decrypted plaintext: {decrypted_plaintext}')"
   ]
  },
  {
   "cell_type": "code",
   "execution_count": 31,
   "metadata": {},
   "outputs": [
    {
     "name": "stdout",
     "output_type": "stream",
     "text": [
      "IMSI: 260060143599912\n"
     ]
    }
   ],
   "source": [
    "# IMSI decoder\n",
    "\n",
    "# decrypted plaintext example: 6237A4B354310610B44E0000005A17020208290630661111061007918405979000F1FFFFFFFF0000\n",
    "# decrypted plaintext example: 2C51D98B28977840D2480000003D1703020829430500623425990791447779070748FFFFFFFF0000\n",
    "# decrypted plaintext example: 080CF60700000001464800000001170C0208290660103495992107918497903970F0FFFFFFFF0000\n",
    "#                                                            No    2906306611110610\n",
    "\n",
    "value = '2906306611110610'\n",
    "value = '2906601034959921'\n",
    "\n",
    "def any_decoder(value):\n",
    "    value_conv = ''\n",
    "    for i in range(1, len(value), 2):\n",
    "        value_conv += value[i: i + 1]\n",
    "        value_conv += value[i - 1: i]\n",
    "    return value_conv\n",
    "\n",
    "print(f'IMSI: {any_decoder(value)[1:]}')"
   ]
  },
  {
   "cell_type": "code",
   "execution_count": 40,
   "metadata": {},
   "outputs": [
    {
     "name": "stdout",
     "output_type": "stream",
     "text": [
      "03: 250:2\n",
      "04: 300:4\n",
      "05: 00E:4\n",
      "07: 34B:8\n",
      "08: 349:9\n",
      "10: 0AB:C\n",
      "11: D0B:0\n"
     ]
    }
   ],
   "source": [
    "# Расшифровка МССМАР\n",
    "\n",
    "mccmap = '2CC1AE4754105106F8880000005A4740023402368230323002381236723442367230423732314230133012342236073862387238123962329233323203323238423872323234923582342634423442320232223206220000'\n",
    "mccmap = 'B771B4E754302391A08E0000002265400234023682303230023812367234423672304237323142301330123422360738623872381239623292333232033232384238723232349235823426344234423202322232062205222420542524272415261562162412640054002409350025005308140300000000'\n",
    "mccmap = '35B7DF8D41200619128E0000005C694045423547744047466342064516401643164537463748734407426343023212343230323842304232423642376238923502387232263442343730723022323234723892331530033213308230243424262427642025250522452952172218221052105219'\n",
    "mccmap = '8138C2C74110614207880000000E6540023402368230323002381236723442367230423732314230133012342236073862387238123962329233323203323238423872323234923582342634423442320232223206220522242054252427241526156216241264005400240935002500530814030000'\n",
    "mccmap = 'C013BBD141105178268E000000266540023402368230323002381236723442367230423732314230133012342236073862387238123962329233323203323238423872323234923582342634423442320232223206220522242054252427241526156216241264005400240935002500530814030000'\n",
    "mccmap = '0D0BA0CB00004399438B0000004E03405220000000000000'\n",
    "\n",
    "def mcc_decode(mcc):\n",
    "    if mcc == '0000':\n",
    "        return None\n",
    "    else:\n",
    "        return f'{mcc[1]}{mcc[0]}{mcc[3]}:{mcc[2]}'\n",
    "\n",
    "for num, i in enumerate(range(0, len(mccmap), 4)):\n",
    "    if i == 0:\n",
    "        mcc = mcc_decode(mccmap[-4:])\n",
    "    else:\n",
    "        mcc = mcc_decode(mccmap[-i-4:-i])\n",
    "    if mcc:\n",
    "        print(f'{num:02}: {mcc}')"
   ]
  },
  {
   "cell_type": "markdown",
   "metadata": {},
   "source": [
    "### Developments"
   ]
  },
  {
   "cell_type": "code",
   "execution_count": 163,
   "metadata": {},
   "outputs": [],
   "source": [
    "# Card instance\n",
    "card = SmartCard(imsi='260036610016454', msisdn='97254120018', vmsc='31624000061', sgsn='')"
   ]
  },
  {
   "cell_type": "code",
   "execution_count": null,
   "metadata": {},
   "outputs": [],
   "source": [
    "# Сгенерированная тулом команда для загрузки IMSI 260060143599997 в слот 4 (сработала)\n",
    "'02700000370D00010000BFFF010000000000001072A1F7529FD40244900D8FAD825945F800A3C09619D2A11A4EDA7DA6D3773369B01CF04DAD20D47B'\n",
    "\n",
    "# Сгенерированная тулом команда для загрузки IMSI 260060143598888 в слот 4 (сработала)\n",
    "'02700000370D00010000BFFF0100000000000010CFA3DB7E9E02B83F4C3050C212620EA1E2F94FE8C1E08AF4EC5956790613156F6BC34DA76A66FD4E'\n",
    "# Декодируется CFA3DB7E9E02B83F4C3050C212620EA1E2F94FE8C1E08AF4EC5956790613156F6BC34DA76A66FD4E как:\n",
    "'875F391800000001FA480000000117040208290660103495888807918497903970F0FFFFFFFF0000'\n",
    "\n",
    "# Моя команда для загрузки IMSI 260060143597777 в слот 4 (сработала)\n",
    "'875F391800000001FA480000000117040208290660103495777707918497903970F0FFFFFFFF0000'  # Кодировалась без последних нулей\n",
    "# В закодированном виде:\n",
    "'CFA3DB7E9E02B83F4C3050C212620EA1E2F94FE8C1E08AF49D1712114841DD386E93B34878C89F9A'\n",
    "# С префиксом:\n",
    "'02700000370D00010000BFFF0100000000000010CFA3DB7E9E02B83F4C3050C212620EA1E2F94FE8C1E08AF49D1712114841DD386E93B34878C89F9A'\n",
    "\n",
    "# Моя команда для загрузки IMSI 260060143597777 в слот 5 (сработала)\n",
    "'875F391800000001FA480000000117040208290660103495777707918497903970F0FFFFFFFF0000'  # Кодировалась без последних нулей\n",
    "# В закодированном виде:\n",
    "'CFA3DB7E9E02B83FCA11AD41FFE4FD5683F37320B3689A33668173D0E82DE3AA1F470E317D46D4FC'\n",
    "# С префиксом:\n",
    "'02700000370D00010000BFFF0100000000000010CFA3DB7E9E02B83FCA11AD41FFE4FD5683F37320B3689A33668173D0E82DE3AA1F470E317D46D4FC'"
   ]
  },
  {
   "cell_type": "code",
   "execution_count": 93,
   "metadata": {},
   "outputs": [
    {
     "name": "stdout",
     "output_type": "stream",
     "text": [
      "original plaintext: 875F391800000001FA480000000117030208290660103495777707918497903970F0FFFFFFFF\n",
      "encrypted text: CFA3DB7E9E02B83FCA11AD41FFE4FD5683F37320B3689A33668173D0E82DE3AA1F470E317D46D4FC\n",
      "encrypted text: 864EDF58B4AEEA708BCAF6FBF42FDAB1D9F47A6E8E0A4280B017CD59A6E1C17B76C28AC313874BB6\n",
      "encrypted text: 408A56C159458286B40C4D251BD675415CE3B9F8050147F8ACAAA32C39E51A7274C2B3D5E73F7B5A\n",
      "encrypted text: D03D0BDFD6D6E8502C20C698BDA624ACA31C8E6A5EC6FA0E4C5D68AD8D6F16D6D4DC7DE14F23FAAF\n",
      "encrypted text: 30D53CEA2B60A75AC566D79F57024C732983D045EF15447E7E84EF9F017176DC8D51344A1CE5E5A3\n",
      "encrypted text: EAAD6FD0EE79CF509404F3070151A15B8587E45AA5CCBCBA6A43B465C482D7F947A3089CAF384424\n",
      "encrypted text: 61F59B826C93FCA3C73367DD119FEA4AF49FB8A43AD32C96409D24487EFC11E911C03363A0D69106\n",
      "encrypted text: E17B30E24F87045A76667D40E2B7EA1F0EFD913C3C8A08733C82D4A2910F8AAF128EB55EFCF7F609\n",
      "encrypted text: C5E95F900A2750E03DEA4EB56218BCBCA242621440AEAF5C864733BD228742541845A5F74A65FAC6\n",
      "encrypted text: 063FC9B052017A47AD496ADC752DA269DB81804FDA09E4E162C000FF9E1B39F1859953781F6DC5A7\n",
      "decrypted plaintext: 875F391800000001FA480000000117030208290660103495777707918497903970F0FFFFFFFF\n"
     ]
    }
   ],
   "source": [
    "# Кодировка 3DES\n",
    "\n",
    "import pyDes  # pyDes if installed from pip\n",
    "plaintext = '875F391800000001FA480000000117030208290660103495777707918497903970F0FFFFFFFF'\n",
    "key_list = [\n",
    "    'D0AEE50D70087C19D773696FE698C78832432DF14F2487D1',\n",
    "    '26B60249EC3D7CCE4AADE73F0D803E470AEA1E2C0279AD5D',\n",
    "    '9B68C23B919D620B9F8627ECFC8E0BD824197152B4C9CB0E',\n",
    "    'D04C6E02F201B9E057F6DC45ADD217D7C07ABA5CED76ABF4',\n",
    "    '67A1C10D23239E190495643C3A233B76D1CE047A9D7D5602',\n",
    "    '0104BA83E6B3B64FB0207B309B6E40C3EBB7E10B0D751920',\n",
    "    'DCF410DA0BC4E552F11EFF1FA30B193A5B0FACA7061C310E',\n",
    "    'CB43F7734A0DFB4AA332E690CE0D31F31CB9A6024804DAF2',\n",
    "    'A4CDDF91ADD34649AD1956FE90333EF5C3012EBF25D7EB53',\n",
    "    'FEEA7CA8ECE6DAF856EEE86785F7DFE5AE3FF8978E4D1F5B',\n",
    "]\n",
    "# Convert plaintext to bytes\n",
    "plaintext = bytes.fromhex(plaintext)\n",
    "# Add padding\n",
    "# length = 8 - (len(plaintext) % 8)\n",
    "# plaintext += bytes([length]) * length\n",
    "print(f'original plaintext: {plaintext.hex().upper()}')\n",
    "iv = bytes.fromhex('0000000000000000')\n",
    "# Make the encryption\n",
    "for key in key_list:\n",
    "    # Convert key to bytes\n",
    "    key = bytes.fromhex(key)\n",
    "#     res = pyDes.triple_des(key=key, mode=pyDes.CBC, IV=iv).encrypt(plaintext, padmode=2)\n",
    "    res = pyDes.triple_des(key=key, mode=pyDes.CBC, IV=iv).encrypt(plaintext, padmode=2)\n",
    "    print(f'encrypted text: {res.hex().upper()}')\n",
    "# Make the decryption\n",
    "decrypted_plaintext = pyDes.triple_des(key, pyDes.CBC, IV=iv).decrypt(res, padmode=2).hex().upper()\n",
    "print(f'decrypted plaintext: {decrypted_plaintext}')"
   ]
  },
  {
   "cell_type": "code",
   "execution_count": 154,
   "metadata": {},
   "outputs": [
    {
     "data": {
      "text/plain": [
       "<?xml version=\"1.0\" encoding=\"utf-8\"?>\n",
       "<response>\n",
       "<result>0</result><response>00077FF61502710000100ABFFF01000000000000000000000100</response>\n",
       "<src_gt>79219600320</src_gt>\n",
       "</response>"
      ]
     },
     "execution_count": 154,
     "metadata": {},
     "output_type": "execute_result"
    }
   ],
   "source": [
    "payload = '027000001F0D00010000BFFF0100000000000010733FE1C20ECA937911B9067460AA6612'  # get_config\n",
    "payload = '027000001F0D00010000BFFF0100000000000020603D79FB432EAE63F082E734F3B46085' # get_config\n",
    "payload = '02700000370D00010000BFFF0100000000000010F896010FF8376B088B1931363F11EF7331BF9950D2C80FD1320936296DF53AD0ED13BF5C0EFE9B37'\n",
    "\n",
    "card.ss7.sendSMS(card.ogt, card.imsi, card.vmsc, payload=payload)  # ogt, imsi, msc, payload)"
   ]
  },
  {
   "cell_type": "code",
   "execution_count": 164,
   "metadata": {},
   "outputs": [
    {
     "name": "stdout",
     "output_type": "stream",
     "text": [
      "<bound method Tag.prettify of <?xml version=\"1.0\" encoding=\"utf-8\"?>\n",
      "<response>\n",
      "<result>-1</result>\n",
      "<error>T_ABORT received</error>\n",
      "<src_gt/>\n",
      "</response>> \n",
      "\n",
      "No info in response.\n"
     ]
    }
   ],
   "source": [
    "card.print_imsi_prof()"
   ]
  },
  {
   "cell_type": "code",
   "execution_count": 122,
   "metadata": {},
   "outputs": [
    {
     "name": "stdout",
     "output_type": "stream",
     "text": [
      "<bound method Tag.prettify of <?xml version=\"1.0\" encoding=\"utf-8\"?>\n",
      "<response>\n",
      "<result>0</result><response>00077FF62902710000240ABFFF01000000000000000000005B00010300001E011400000003000305010201000000</response>\n",
      "<src_gt>79219600320</src_gt>\n",
      "</response>> \n",
      "\n",
      "Applet enabling flag: Activate\n",
      "Mode: Events & Timer mode\n",
      "Default IMSI: IMSI0\n",
      "Polling period: 30 sec.\n",
      "Features activation flags: 0000000100010100\n",
      "    Start with Primary: Disable\n",
      "    Reset Loci, PS Loci: Disable\n",
      "    RB_MODE (Sponsor IMSI in HPLMN): Enable\n",
      "    Skip Primary IMSI in roaming: Disable\n",
      "Refresh Type: 00\n",
      "Default refresh Type: 00\n",
      "No Service Swap Timer: 3 sec.\n",
      "Refresh Retry: 05\n",
      "Refresh Retry Delay: 1 sec.\n",
      "Scan delay timer: 3 sec.\n"
     ]
    }
   ],
   "source": [
    "card.get_config(payload='027000001F0D00010000BFFF0100000000000010733FE1C20ECA937911B9067460AA6612')"
   ]
  },
  {
   "cell_type": "code",
   "execution_count": 110,
   "metadata": {},
   "outputs": [
    {
     "name": "stdout",
     "output_type": "stream",
     "text": [
      "Applet enabling flag: Activate\n",
      "Mode: Events & Timer mode\n",
      "Default IMSI: IMSI1\n",
      "Polling period: 30 sec.\n",
      "Features activation flags: 0000000100010100\n",
      "    Start with Primary: Disable\n",
      "    Reset Loci, PS Loci: Disable\n",
      "    RB_MODE (Sponsor IMSI in HPLMN): Enable\n",
      "    Skip Primary IMSI in roaming: Disable\n",
      "Refresh Type: 00\n",
      "Default refresh Type: 00\n",
      "No Service Swap Timer: 3 sec.\n",
      "Refresh Retry: 05\n",
      "Refresh Retry Delay: 1 sec.\n",
      "Scan delay timer: 3 sec.\n"
     ]
    }
   ],
   "source": [
    "card.ss7.get_config_decoder('010301001E011400000003000305010200000000')"
   ]
  },
  {
   "cell_type": "code",
   "execution_count": null,
   "metadata": {},
   "outputs": [],
   "source": [
    "'010300001E011400000003000305010201000000'  # On the card\n",
    "'010300001E00F200000005000A050A0000000000'  # Denis\n",
    "'010300001E011400000003000305010200000000'  # Alex 01\n",
    "'010301001E011400000003000305010200000000'  # Alex 02\n",
    "\n",
    "# Denis\n",
    "# 6CA34EB9000000010028BC14010300001E00F200000005000A050A0000000000\n",
    "'40A73A3731F236785D1A1B93E9C85F93B531D11FFFB12224AE08FEDC5FCC6A5799\n",
    "# 027000002F0D00000000BFFF0100000000000040A73A3731F236785D1A1B93E9C85F93B531D11FFFB12224AE08FEDC5FCC6A5799\n",
    "'\n",
    "# 6CA34EB9000000010028BC14010300001E011400000003000305010200000000\n",
    "'40A73A3731F236785DD440D945AC60B61BA9E9229E7503A3D6C2F71B8982BD3A44'\n",
    "# 027000002F0D00000000BFFF0100000000000040A73A3731F236785DD440D945AC60B61BA9E9229E7503A3D6C2F71B8982BD3A44\n",
    "\n",
    "# 6CA34EB9000000010028BC14010301001E011400000003000305010200000000\n",
    "'40A73A3731F236785DC9B712D02A18AAF6CBCFB140EAF225C9DABDFBFD5D60849E'\n",
    "# 027000002F0D00000000BFFF0100000000000040A73A3731F236785DC9B712D02A18AAF6CBCFB140EAF225C9DABDFBFD5D60849E\n",
    "\n"
   ]
  },
  {
   "cell_type": "code",
   "execution_count": 56,
   "metadata": {},
   "outputs": [
    {
     "name": "stdout",
     "output_type": "stream",
     "text": [
      "decrypted plaintext: 1192AF3F21476788AB880000000765004232243745392430253524343434053524366430023854344430923405321422722663254324822363237420432207224328252816232624432636206322632606220726452243208222262053220724372804241520342216223328362934275425162000000000\n"
     ]
    }
   ],
   "source": [
    "# Декодировка 3DES\n",
    "\n",
    "import pyDes  # pyDes if installed from pip\n",
    "encrypted_text = '20bd30cf2e9676ce475259431081387cac'\n",
    "encrypted_text = '904a5b1bc5c5501213d184730b95590987b6b8979c69591dcb514fc5f157498c264cfa16fae965dd52'\n",
    "encrypted_text = '50645dd52c11f42aaf95f00b612a933da3bf1f2fd3078a5296b6f5c24755f84717aa783c8eb54da18d'\n",
    "encrypted_text = '80ed1e26f7d0ccee876e34bdb6cf3ac29a75853766224f26687c8abce8f0773466a452f174cb9a0ee266cb78a89558f72c2795eb4072e9e3d4a96df7149e418c76fbc8e935331634c7c44f6bbc9743f2d358a9a9f0c4c2540c5f3a72f0016fe879208f9cde231b6ff3f6741c00950caa45fd0d830adc364dc5'\n",
    "\n",
    "key_dict = {\n",
    "    '1':'D0AEE50D70087C19D773696FE698C78832432DF14F2487D1',\n",
    "    '2':'26B60249EC3D7CCE4AADE73F0D803E470AEA1E2C0279AD5D',\n",
    "    '3':'9B68C23B919D620B9F8627ECFC8E0BD824197152B4C9CB0E',\n",
    "    '4':'D04C6E02F201B9E057F6DC45ADD217D7C07ABA5CED76ABF4',\n",
    "    '5':'67A1C10D23239E190495643C3A233B76D1CE047A9D7D5602',\n",
    "    '6':'0104BA83E6B3B64FB0207B309B6E40C3EBB7E10B0D751920',\n",
    "    '7':'DCF410DA0BC4E552F11EFF1FA30B193A5B0FACA7061C310E',\n",
    "    '8':'CB43F7734A0DFB4AA332E690CE0D31F31CB9A6024804DAF2',\n",
    "    '9':'A4CDDF91ADD34649AD1956FE90333EF5C3012EBF25D7EB53',\n",
    "    'A':'FEEA7CA8ECE6DAF856EEE86785F7DFE5AE3FF8978E4D1F5B',\n",
    "}\n",
    "\n",
    "# Convert key to bytes\n",
    "iv = bytes.fromhex('0000000000000000')\n",
    "key = bytes.fromhex(key_dict[encrypted_text[0]])\n",
    "encrypted_text = bytes.fromhex(encrypted_text[2:])\n",
    "decrypted_plaintext = pyDes.triple_des(key, pyDes.CBC, IV=iv).decrypt(encrypted_text, padmode=1).hex().upper()\n",
    "print(f'decrypted plaintext: {decrypted_plaintext}')"
   ]
  },
  {
   "cell_type": "code",
   "execution_count": 49,
   "metadata": {},
   "outputs": [
    {
     "name": "stdout",
     "output_type": "stream",
     "text": [
      "IMSI: 234500026435299\n"
     ]
    }
   ],
   "source": [
    "# IMSI decoder\n",
    "\n",
    "# decrypted plaintext example: 6237A4B354310610B44E0000005A17020208290630661111061007918405979000F1FFFFFFFF0000\n",
    "# decrypted plaintext example: 2C51D98B28977840D2480000003D1703020829430500623425990791447779070748FFFFFFFF0000\n",
    "# Copy this part to 'value':\n",
    "#                                                                  2906306611110610\n",
    "\n",
    "value = '2906306611110610'\n",
    "value = '2943050062342599'\n",
    "\n",
    "def any_decoder(value):\n",
    "    value_conv = ''\n",
    "    for i in range(1, len(value), 2):\n",
    "        value_conv += value[i: i + 1]\n",
    "        value_conv += value[i - 1: i]\n",
    "    return value_conv\n",
    "\n",
    "print(f'IMSI: {any_decoder(value)[1:]}')"
   ]
  },
  {
   "cell_type": "code",
   "execution_count": 72,
   "metadata": {},
   "outputs": [
    {
     "data": {
      "text/plain": [
       "'027000001F0D00210000BFFF01000000000000102F978372C730834EF445172BD26B8C8F'"
      ]
     },
     "execution_count": 72,
     "metadata": {},
     "output_type": "execute_result"
    }
   ],
   "source": [
    "ss7.get_info_mo"
   ]
  },
  {
   "cell_type": "code",
   "execution_count": null,
   "metadata": {},
   "outputs": [],
   "source": [
    "'027000001F0D00011010BFFF0100000000010020603D79FB432EAE637FCEA377BA2CB591'\n",
    "'027000001F0D00010000BFFF01000000000000102F978372C730834EF445172BD26B8C8F'\n",
    "'027000001F0D00210000BFFF01000000000000102F978372C730834EF445172BD26B8C8F'\n",
    "'027000001F0D00011010BFFF0100000000010020603D79FB432EAE6330115803E8A7513E'"
   ]
  },
  {
   "cell_type": "code",
   "execution_count": null,
   "metadata": {},
   "outputs": [],
   "source": []
  }
 ],
 "metadata": {
  "kernelspec": {
   "display_name": "Python 3",
   "language": "python",
   "name": "python3"
  },
  "language_info": {
   "codemirror_mode": {
    "name": "ipython",
    "version": 3
   },
   "file_extension": ".py",
   "mimetype": "text/x-python",
   "name": "python",
   "nbconvert_exporter": "python",
   "pygments_lexer": "ipython3",
   "version": "3.6.9"
  }
 },
 "nbformat": 4,
 "nbformat_minor": 2
}
