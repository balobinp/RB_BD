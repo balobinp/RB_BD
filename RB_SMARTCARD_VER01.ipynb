{
 "cells": [
  {
   "cell_type": "markdown",
   "metadata": {},
   "source": [
    "### RB SmartCard"
   ]
  },
  {
   "cell_type": "code",
   "execution_count": 13,
   "metadata": {},
   "outputs": [
    {
     "name": "stdout",
     "output_type": "stream",
     "text": [
      "Greetings from Roamability!!! \n",
      "\n"
     ]
    }
   ],
   "source": [
    "import numpy as np\n",
    "import pandas as pd\n",
    "from pandas import Series, DataFrame\n",
    "import sys\n",
    "from os.path import join\n",
    "from bs4 import BeautifulSoup\n",
    "from importlib import reload\n",
    "import re\n",
    "\n",
    "import roamability as rb\n",
    "\n",
    "downloads = 'C:/Users/balob/Downloads'\n",
    "\n",
    "rb.greetings_func()"
   ]
  },
  {
   "cell_type": "code",
   "execution_count": 18,
   "metadata": {},
   "outputs": [
    {
     "data": {
      "text/plain": [
       "<module 'roamability' from 'C:\\\\Users\\\\balob\\\\Documents\\\\GITLAB\\\\RB_BD\\\\roamability.py'>"
      ]
     },
     "execution_count": 18,
     "metadata": {},
     "output_type": "execute_result"
    }
   ],
   "source": [
    "reload(rb)"
   ]
  },
  {
   "cell_type": "code",
   "execution_count": null,
   "metadata": {},
   "outputs": [],
   "source": [
    "class SmartCard:\n",
    "    \n",
    "    def __init__(self):\n",
    "        pass"
   ]
  },
  {
   "cell_type": "code",
   "execution_count": 17,
   "metadata": {},
   "outputs": [
    {
     "data": {
      "text/plain": [
       "'528127341842'"
      ]
     },
     "execution_count": 17,
     "metadata": {},
     "output_type": "execute_result"
    }
   ],
   "source": [
    "# rb.get_info\n",
    "# rb.get_info_mo\n",
    "# rb.switch_01_payload\n",
    "# rb.switch_02_payload\n",
    "# rb.get_config\n",
    "# rb.ogt\n",
    "# rb.print_imsi_prof(ogt, imsi, msc, 'as_resp') #'as_mo'\n",
    "# soup = BeautifulSoup(rb.sri4sm(ogt, msisdn),'xml') #250359000007598 79028710043\n",
    "# soup = BeautifulSoup(rb.prn(ogt, dgt, imsi),'xml')\n",
    "# soup = BeautifulSoup(rb.sai(ogt, dgt, imsi, node),'xml') # 0 - vlr; 16 - mme\n",
    "# soup = BeautifulSoup(rb.sendSMS(ogt, imsi, msc, rb.get_info),'xml')\n",
    "# soup = BeautifulSoup(rb.cl(ogt, dgt, imsi, d_ssn=7),'xml')\n",
    "# rb.print_imsi_prof('48790993070', '260060148993323', '46708000031', 'as_resp') #'as_mo' 'as_resp'\n",
    "# soup = BeautifulSoup(psi('97254120624', '425120000003499', '972571209920', add_imsi),'xml') #250359000007598 79028710043\n",
    "# s = r'00077FF65802710000530ABFFF0100000000000000FFFFFFF0000108000000000000008A567809437451000008495210693100506301082906601094005063020829430500620400100308495210697100000004082906306601000040'\n",
    "# rb.decode_payload_response(s)"
   ]
  },
  {
   "cell_type": "code",
   "execution_count": null,
   "metadata": {},
   "outputs": [],
   "source": [
    "кию"
   ]
  },
  {
   "cell_type": "code",
   "execution_count": null,
   "metadata": {},
   "outputs": [],
   "source": []
  },
  {
   "cell_type": "code",
   "execution_count": null,
   "metadata": {},
   "outputs": [],
   "source": []
  },
  {
   "cell_type": "markdown",
   "metadata": {},
   "source": [
    "### Developments"
   ]
  },
  {
   "cell_type": "code",
   "execution_count": 7,
   "metadata": {},
   "outputs": [],
   "source": [
    "class TestClass:\n",
    "    c_var01 = 'TestClassVar'\n",
    "    def __init__(self, i_var):\n",
    "        self.i_var01 = i_var\n",
    "        self.i_var02 = self.c_var01\n",
    "\n",
    "test_class = TestClass('TestInstanceVar')"
   ]
  },
  {
   "cell_type": "code",
   "execution_count": 10,
   "metadata": {},
   "outputs": [
    {
     "data": {
      "text/plain": [
       "'TestInstanceVar'"
      ]
     },
     "execution_count": 10,
     "metadata": {},
     "output_type": "execute_result"
    }
   ],
   "source": [
    "TestClass.c_var01 = 'TestClassVar01'\n",
    "test_class.i_var02\n",
    "test_class.i_var01"
   ]
  },
  {
   "cell_type": "code",
   "execution_count": null,
   "metadata": {},
   "outputs": [],
   "source": []
  }
 ],
 "metadata": {
  "kernelspec": {
   "display_name": "Python 3",
   "language": "python",
   "name": "python3"
  },
  "language_info": {
   "codemirror_mode": {
    "name": "ipython",
    "version": 3
   },
   "file_extension": ".py",
   "mimetype": "text/x-python",
   "name": "python",
   "nbconvert_exporter": "python",
   "pygments_lexer": "ipython3",
   "version": "3.6.9"
  }
 },
 "nbformat": 4,
 "nbformat_minor": 2
}
