{
 "cells": [
  {
   "cell_type": "markdown",
   "metadata": {},
   "source": [
    "### RB SmartCard"
   ]
  },
  {
   "cell_type": "code",
   "execution_count": 1,
   "metadata": {},
   "outputs": [
    {
     "name": "stdout",
     "output_type": "stream",
     "text": [
      "Greetings from Roamability!!! \n",
      "\n"
     ]
    }
   ],
   "source": [
    "import numpy as np\n",
    "import pandas as pd\n",
    "from pandas import Series, DataFrame\n",
    "import sys\n",
    "from os.path import join\n",
    "from bs4 import BeautifulSoup\n",
    "from importlib import reload\n",
    "import codecs\n",
    "import re\n",
    "\n",
    "import roamability as rb\n",
    "\n",
    "downloads = 'C:/Users/balob/Downloads'\n",
    "\n",
    "rb.greetings_func()"
   ]
  },
  {
   "cell_type": "code",
   "execution_count": 104,
   "metadata": {},
   "outputs": [
    {
     "data": {
      "text/plain": [
       "<module 'roamability' from 'C:\\\\Users\\\\balob\\\\Documents\\\\GITLAB\\\\RB_BD\\\\roamability.py'>"
      ]
     },
     "execution_count": 104,
     "metadata": {},
     "output_type": "execute_result"
    }
   ],
   "source": [
    "reload(rb)"
   ]
  },
  {
   "cell_type": "code",
   "execution_count": 25,
   "metadata": {},
   "outputs": [],
   "source": [
    "class SmartCard:\n",
    "    \n",
    "    def __init__(self, imsi, msisdn=None, vmsc=None, sgsn=None):\n",
    "        self.imsi = imsi\n",
    "        self.msisdn = msisdn\n",
    "        self.vmsc = vmsc\n",
    "        self.sgsn = sgsn\n",
    "        self.ss7 = rb.SendMsgSs7()\n",
    "        self.ogt = self.select_ogt(imsi)\n",
    "        \n",
    "    def select_ogt(self, imsi):\n",
    "        if imsi.startswith('42501'):\n",
    "            return self.ss7.ogt['partner']\n",
    "        elif imsi.startswith('26006'):\n",
    "            return self.ss7.ogt['p4']\n",
    "        elif imsi.startswith('24040'):\n",
    "            return self.ss7.ogt['netmore']\n",
    " \n",
    "    def print_imsi_prof(self, payload_type='as_resp'):\n",
    "        if self.imsi and self.vmsc:\n",
    "            self.ss7.print_imsi_prof(self.ogt, self.imsi, self.vmsc, payload_type)\n",
    "        else:\n",
    "            print('Set IMSI and MSC GT')\n",
    "            \n",
    "    def get_config(self):\n",
    "        if self.imsi and self.vmsc:\n",
    "            resp = self.ss7.sendSMS(self.ogt, self.imsi, self.vmsc, self.ss7.get_config)\n",
    "            print(resp.prettify, '\\n')\n",
    "            if resp.response.response:\n",
    "                self.ss7.get_config_decoder(resp.response.response.text.upper()[-40:])\n",
    "            else:\n",
    "                print('No info in response.')\n",
    "        else:\n",
    "            print('Set IMSI and MSC GT')"
   ]
  },
  {
   "cell_type": "code",
   "execution_count": 16,
   "metadata": {},
   "outputs": [
    {
     "data": {
      "text/plain": [
       "<?xml version=\"1.0\" encoding=\"utf-8\"?>\n",
       "<response>\n",
       "<result>0</result>\n",
       "<src_gt>79639743872</src_gt>\n",
       "</response>"
      ]
     },
     "execution_count": 16,
     "metadata": {},
     "output_type": "execute_result"
    }
   ],
   "source": [
    "# Send message\n",
    "card = SmartCard(imsi='425019613960139', msisdn='', vmsc='79639743660', sgsn='79639743872')\n",
    "# card.ss7.cl(card.ogt, card.vmsc, card.imsi, d_ssn=7)\n",
    "# card.ss7.cl(card.ogt, card.sgsn, card.imsi, d_ssn=149)\n",
    "# card.ss7.sendSMS(card.ogt, card.imsi, card.vmsc, card.ss7.get_info)"
   ]
  },
  {
   "cell_type": "code",
   "execution_count": 3,
   "metadata": {},
   "outputs": [
    {
     "name": "stdout",
     "output_type": "stream",
     "text": [
      "<bound method Tag.prettify of <?xml version=\"1.0\" encoding=\"utf-8\"?>\n",
      "<response>\n",
      "<result>0</result><response>40077FF644027100003F0ABFFF0100000000000000FFFFFFF00001080242F0100000003A25370586215905000829040400001100410108290660103461054102084952106982110541</response>\n",
      "<src_gt>46705009041</src_gt>\n",
      "</response>> \n",
      "\n",
      "This SIM card contains the following IMSIs:\n",
      "Slot 0 240400000110014\n",
      "Slot 1 260060143165014\n",
      "Slot 2 425019628115014\n",
      "\n",
      "Applet ver.: 1.8.2\n",
      "MCCMNC: 24001\n"
     ]
    }
   ],
   "source": [
    "# Print IMSI profiles\n",
    "card = SmartCard(imsi='425019628115014', msisdn='', vmsc='46705012099', sgsn='')\n",
    "card.print_imsi_prof()"
   ]
  },
  {
   "cell_type": "code",
   "execution_count": 113,
   "metadata": {},
   "outputs": [
    {
     "name": "stdout",
     "output_type": "stream",
     "text": [
      "<bound method Tag.prettify of <?xml version=\"1.0\" encoding=\"utf-8\"?>\n",
      "<response>\n",
      "<result>0</result><response>00077FF62902710000240ABFFF01000000000000000000005B00010302001E001400000003000305010201000000</response>\n",
      "<src_gt>447802000130</src_gt>\n",
      "</response>> \n",
      "\n",
      "Applet enabling flag: Activate\n",
      "Mode: Events & Timer mode\n",
      "Default IMSI: IMSI2\n",
      "Polling period: 30 sec.\n",
      "Features activation flags: 0000000000010100\n",
      "    Start with Primary: Disable\n",
      "    Reset Loci, PS Loci: Disable\n",
      "    RB_MODE (Sponsor IMSI in HPLMN): Enable\n",
      "    Skip Primary IMSI in roaming: Disable\n",
      "Refresh Type: 00\n",
      "Default refresh Type: 00\n",
      "No Service Swap Timer: 3 sec.\n",
      "Refresh Retry: 05\n",
      "Refresh Retry Delay: 1 sec.\n",
      "Scan delay timer: 3 sec.\n"
     ]
    }
   ],
   "source": [
    "# Get card Config\n",
    "card = SmartCard(imsi='260060148997960', msisdn='', vmsc='447802000130')\n",
    "card.get_config()"
   ]
  },
  {
   "cell_type": "code",
   "execution_count": 33,
   "metadata": {},
   "outputs": [
    {
     "name": "stdout",
     "output_type": "stream",
     "text": [
      "Applet enabling flag: Activate\n",
      "Mode: Events & Timer mode\n",
      "Default IMSI: IMSI1\n",
      "Polling period: 30 sec.\n",
      "Features activation flags: 0000000000010000\n",
      "    Start with Primary: Disable\n",
      "    Reset Loci, PS Loci: Disable\n",
      "    RB_MODE (Sponsor IMSI in HPLMN): Disable\n",
      "    Skip Primary IMSI in roaming: Disable\n",
      "Refresh Type: 00\n",
      "Default refresh Type: 00\n",
      "No Service Swap Timer: 3 sec.\n",
      "Refresh Retry: 05\n",
      "Refresh Retry Delay: 1 sec.\n",
      "Scan delay timer: 3 sec.\n"
     ]
    }
   ],
   "source": [
    "ss7 = rb.SendMsgSs7()\n",
    "ss7.get_config_decoder('010301001E001000000003000305010202000000') # Netmore wrong"
   ]
  },
  {
   "cell_type": "code",
   "execution_count": 34,
   "metadata": {},
   "outputs": [
    {
     "name": "stdout",
     "output_type": "stream",
     "text": [
      "Applet enabling flag: Activate\n",
      "Mode: Events & Timer mode\n",
      "Default IMSI: IMSI2\n",
      "Polling period: 30 sec.\n",
      "Features activation flags: 0000000000010100\n",
      "    Start with Primary: Disable\n",
      "    Reset Loci, PS Loci: Disable\n",
      "    RB_MODE (Sponsor IMSI in HPLMN): Enable\n",
      "    Skip Primary IMSI in roaming: Disable\n",
      "Refresh Type: 00\n",
      "Default refresh Type: 00\n",
      "No Service Swap Timer: 3 sec.\n",
      "Refresh Retry: 05\n",
      "Refresh Retry Delay: 1 sec.\n",
      "Scan delay timer: 3 sec.\n"
     ]
    }
   ],
   "source": [
    "ss7.get_config_decoder('010302001E001400000003000305010201000000') # Netmore RAO from prod SIM card"
   ]
  },
  {
   "cell_type": "code",
   "execution_count": 16,
   "metadata": {},
   "outputs": [
    {
     "data": {
      "text/plain": [
       "'4952106941005106'"
      ]
     },
     "execution_count": 16,
     "metadata": {},
     "output_type": "execute_result"
    }
   ],
   "source": [
    "# IMSI decoder\n",
    "\n",
    "imsi = '4952106941005106'\n",
    "imsi = '425019614001560'\n",
    "\n",
    "def imsi_conv(imsi, code='code'):\n",
    "    \"\"\"Conver deconvert IMSI for perso. code='code' / 'decode'\"\"\"\n",
    "    if code=='code':\n",
    "        imsi = '9' + imsi\n",
    "        return ''.join([imsi[i] for i in [1, 0, 3, 2, 5, 4, 7, 6, 9, 8, 11, 10, 13, 12, 15, 14]])\n",
    "    elif code=='decode':\n",
    "        return ''.join([imsi[i] for i in [0, 3, 2, 5, 4, 7, 6, 9, 8, 11, 10, 13, 12, 15, 14]])\n",
    "\n",
    "# imsi_conv(imsi, code='decode')\n",
    "imsi_conv(imsi, code='code')"
   ]
  },
  {
   "cell_type": "code",
   "execution_count": 17,
   "metadata": {},
   "outputs": [
    {
     "data": {
      "text/plain": [
       "'9425019614001560'"
      ]
     },
     "execution_count": 17,
     "metadata": {},
     "output_type": "execute_result"
    }
   ],
   "source": [
    "# ANY decoder\n",
    "\n",
    "value = '4952106941005106'\n",
    "\n",
    "def any_decoder(value):\n",
    "    value_conv = ''\n",
    "    for i in range(1, len(value), 2):\n",
    "        value_conv += value[i: i + 1]\n",
    "        value_conv += value[i - 1: i]\n",
    "    return value_conv\n",
    "\n",
    "any_decoder(value)"
   ]
  },
  {
   "cell_type": "code",
   "execution_count": 22,
   "metadata": {},
   "outputs": [
    {
     "data": {
      "text/plain": [
       "'ROAMABILI'"
      ]
     },
     "execution_count": 22,
     "metadata": {},
     "output_type": "execute_result"
    }
   ],
   "source": [
    "# ASCII decoder\n",
    "\n",
    "value = b\"Smartel\"\n",
    "value = '524F414D4142494C49' # 'ROAMABILI'\n",
    "\n",
    "def ascii_conv(value, code='code'):\n",
    "    if code=='code':\n",
    "        return codecs.encode(value, \"hex\").upper()\n",
    "    elif code=='decode':\n",
    "        return bytearray.fromhex(value).decode()\n",
    "\n",
    "# ascii_conv(value, code='code')\n",
    "ascii_conv(value, code='decode')"
   ]
  },
  {
   "cell_type": "code",
   "execution_count": 40,
   "metadata": {},
   "outputs": [
    {
     "name": "stdout",
     "output_type": "stream",
     "text": [
      "Dec to hex\n",
      "41 -> 0x29\n"
     ]
    }
   ],
   "source": [
    "l = len('89 97 21 91 21 00 00 46 00 00 89 97 21 91 21 00 00 55 99 9F 4E A4 72 13 A4 A9 47 5B') / 2\n",
    "print('Dec to hex')\n",
    "print(f'{int(l)} -> 0x{int(l):X}')"
   ]
  },
  {
   "cell_type": "code",
   "execution_count": null,
   "metadata": {},
   "outputs": [],
   "source": [
    "ota_env =\\\n",
    "\"\"\"\n",
    "D1 51 82 02  83 81 06 04   01 99 99 99  8B 45 40 06   \n",
    "01 88 88 88  7F F6 02 70   20 22 23 11  30 35 02 70   \n",
    "00 00 30 15  16 01 19 19   B0 00 11 55  2C 28 B7 60   \n",
    "04 80 D0 33  56 08 78 29   5A F4 7B 5C  12 A1 7A 00   \n",
    "73 9B 60 A3  CB A0 58 4F   B5 03 61 B9  6C 38 B7 47   \n",
    "F0 13 17 \n",
    "\"\"\"\n",
    "\n",
    "def ota_cmd(ota_env):\n",
    "    ota_env = ota_env.replace(' ', '').replace('\\n', '')\n",
    "    print(f'{ota_env}')\n",
    "    print(f'send_apdu -APDU A0C20000{int(len(ota_env)/2):X}{ota_env}')\n",
    "\n",
    "ota_cmd(ota_env)"
   ]
  },
  {
   "cell_type": "code",
   "execution_count": null,
   "metadata": {},
   "outputs": [],
   "source": []
  },
  {
   "cell_type": "code",
   "execution_count": null,
   "metadata": {},
   "outputs": [],
   "source": []
  },
  {
   "cell_type": "code",
   "execution_count": null,
   "metadata": {},
   "outputs": [],
   "source": []
  },
  {
   "cell_type": "markdown",
   "metadata": {},
   "source": [
    "### Developments"
   ]
  },
  {
   "cell_type": "code",
   "execution_count": 9,
   "metadata": {},
   "outputs": [],
   "source": [
    "class TestClass:\n",
    "    c_var01 = 'TestClassVar'\n",
    "    def __init__(self, i_var=None):\n",
    "        self.i_var01 = i_var\n",
    "        self.i_var02 = self.c_var01\n",
    "\n",
    "test_class = TestClass()"
   ]
  },
  {
   "cell_type": "code",
   "execution_count": 10,
   "metadata": {},
   "outputs": [
    {
     "data": {
      "text/plain": [
       "'TestInstanceVar'"
      ]
     },
     "execution_count": 10,
     "metadata": {},
     "output_type": "execute_result"
    }
   ],
   "source": [
    "TestClass.c_var01 = 'TestClassVar01'\n",
    "test_class.i_var02\n",
    "test_class.i_var01"
   ]
  },
  {
   "cell_type": "code",
   "execution_count": 24,
   "metadata": {},
   "outputs": [
    {
     "data": {
      "text/plain": [
       "<?xml version=\"1.0\" encoding=\"utf-8\"?>\n",
       "<response>\n",
       "<result>0</result><response>00077FF65802710000530ABFFF0100000000000000FFFFFFF0000108000000000000008A567809437451000008495210693100506301082906601094005063020829430500620400100308495210697100000004082906306601000040</response>\n",
       "<src_gt>79219600320</src_gt>\n",
       "</response>"
      ]
     },
     "execution_count": 24,
     "metadata": {},
     "output_type": "execute_result"
    }
   ],
   "source": [
    "# Send message\n",
    "\n",
    "payload = '027000001F0D00000000BFFF010000000000002028D0FC11B4CD2E540704D7775B065DA8'\n",
    "\n",
    "card = SmartCard(imsi='425019613000536', msisdn='', vmsc='79219600320', sgsn='79219600113')\n",
    "card.ss7.sendSMS(card.ogt, card.imsi, card.vmsc, card.ss7.get_info)"
   ]
  },
  {
   "cell_type": "code",
   "execution_count": 7,
   "metadata": {},
   "outputs": [
    {
     "name": "stdout",
     "output_type": "stream",
     "text": [
      "<bound method Tag.prettify of <?xml version=\"1.0\" encoding=\"utf-8\"?>\n",
      "<response>\n",
      "<result>0</result><response>40077FF644027100003F0ABFFF0100000000000000FFFFFFF00001080242F0100000003A25370586215905000829040400001100410108290660105400511702084952106982110541</response>\n",
      "<src_gt>46705009041</src_gt>\n",
      "</response>> \n",
      "\n",
      "This SIM card contains the following IMSIs:\n",
      "Slot 0 240400000110014\n",
      "Slot 1 260060145001571\n",
      "Slot 2 425019628115014\n",
      "\n",
      "Applet ver.: 1.8.2\n",
      "MCCMNC: 24001\n"
     ]
    }
   ],
   "source": [
    "# Netmore Test\n",
    "\n",
    "# Print IMSI profiles\n",
    "card = SmartCard(imsi='425019628115014', msisdn='', vmsc='46705012099', sgsn='')\n",
    "card.print_imsi_prof()"
   ]
  },
  {
   "cell_type": "code",
   "execution_count": 6,
   "metadata": {},
   "outputs": [
    {
     "data": {
      "text/plain": [
       "<?xml version=\"1.0\" encoding=\"utf-8\"?>\n",
       "<response>\n",
       "<result>0</result><response>40077FF61502710000100ABFFF01000000000000000000000100</response>\n",
       "<src_gt>46705009041</src_gt>\n",
       "</response>"
      ]
     },
     "execution_count": 6,
     "metadata": {},
     "output_type": "execute_result"
    }
   ],
   "source": [
    "# Change IMSI Slot1 260060143165014 -> 260060145001570\n",
    "\n",
    "payload = '02700000370D00010000BFFF0100000000000010B6065E351FC9819DB107C4CE9AC48FD216F306C2B8F268F27451F1AB0BE9D40D3165850360EBF32A'\n",
    "\n",
    "card.ss7.sendSMS(card.ogt, card.imsi, card.vmsc, payload)"
   ]
  },
  {
   "cell_type": "code",
   "execution_count": 31,
   "metadata": {},
   "outputs": [
    {
     "name": "stdout",
     "output_type": "stream",
     "text": [
      "<bound method Tag.prettify of <?xml version=\"1.0\" encoding=\"utf-8\"?>\n",
      "<response>\n",
      "<result>-1</result>\n",
      "<error>Error: SM Delivery Failure(32)</error>\n",
      "<src_gt>46705009041</src_gt>\n",
      "</response>> \n",
      "\n",
      "No info in response.\n"
     ]
    }
   ],
   "source": [
    "# Print IMSI profiles\n",
    "card = SmartCard(imsi='425019628115014', msisdn='46726900014', vmsc='46705012099', sgsn='')\n",
    "# card = SmartCard(imsi='240400000110014', msisdn='46726900014', vmsc='46731726121', sgsn='')\n",
    "card.print_imsi_prof()"
   ]
  },
  {
   "cell_type": "code",
   "execution_count": 27,
   "metadata": {},
   "outputs": [
    {
     "data": {
      "text/plain": [
       "<?xml version=\"1.0\" encoding=\"utf-8\"?>\n",
       "<response>\n",
       "<result>0</result>\n",
       "<imsi>240400000110014</imsi>\n",
       "<msc nat=\"1\" nbp=\"1\">46731726312</msc>\n",
       "<src_gt>46731726121</src_gt>\n",
       "</response>"
      ]
     },
     "execution_count": 27,
     "metadata": {},
     "output_type": "execute_result"
    }
   ],
   "source": [
    "card.ss7.sri4sm(card.ss7.ogt['netmore'], card.msisdn, card.msisdn)"
   ]
  },
  {
   "cell_type": "code",
   "execution_count": 37,
   "metadata": {},
   "outputs": [
    {
     "data": {
      "text/plain": [
       "True"
      ]
     },
     "execution_count": 37,
     "metadata": {},
     "output_type": "execute_result"
    }
   ],
   "source": [
    "s1 = '42F0044080'\n",
    "s2 = '42F0044080'\n",
    "s1 == s2"
   ]
  },
  {
   "cell_type": "code",
   "execution_count": null,
   "metadata": {},
   "outputs": [],
   "source": [
    "01110011"
   ]
  },
  {
   "cell_type": "code",
   "execution_count": 39,
   "metadata": {},
   "outputs": [
    {
     "data": {
      "text/plain": [
       "b'7376'"
      ]
     },
     "execution_count": 39,
     "metadata": {},
     "output_type": "execute_result"
    }
   ],
   "source": [
    "rb.gsm_encode(\"sv\")\n",
    "# 7376656E64616E6F666964657275667265736974706C"
   ]
  }
 ],
 "metadata": {
  "kernelspec": {
   "display_name": "Python 3",
   "language": "python",
   "name": "python3"
  },
  "language_info": {
   "codemirror_mode": {
    "name": "ipython",
    "version": 3
   },
   "file_extension": ".py",
   "mimetype": "text/x-python",
   "name": "python",
   "nbconvert_exporter": "python",
   "pygments_lexer": "ipython3",
   "version": "3.6.9"
  }
 },
 "nbformat": 4,
 "nbformat_minor": 2
}
