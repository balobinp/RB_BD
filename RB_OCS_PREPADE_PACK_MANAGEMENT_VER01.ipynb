{
 "cells": [
  {
   "cell_type": "markdown",
   "metadata": {},
   "source": [
    "### Управление Prepaid пакетами"
   ]
  },
  {
   "cell_type": "code",
   "execution_count": 3,
   "metadata": {},
   "outputs": [
    {
     "name": "stdout",
     "output_type": "stream",
     "text": [
      "Choose connection (prod or lab):lab\n",
      "You are connected to Reseller: Roamability SIMCARDS Invertory.    \n",
      "Available credit for the Reseller: 99 USD.\n",
      "\n",
      "The Reseller contains the following accounts:\n",
      " 0    Roamability Inventory (accountID: 352358)\n"
     ]
    }
   ],
   "source": [
    "# %reset -f\n",
    "from zeep import Client\n",
    "from zeep.wsse.username import UsernameToken\n",
    "import datetime as dt\n",
    "\n",
    "connect = input(\"Choose connection (prod or lab):\")\n",
    "\n",
    "if connect == 'lab':\n",
    "    user = 'lab_api@roamability.com'\n",
    "    password = '25D55AD283AA400AF464C76D713C07AD' #Lab\n",
    "    api_link = 'http://172.20.39.7:8585/ocsapi/roamability/api/roamability.wsdl' #Lab\n",
    "elif connect == 'prod':\n",
    "    user = 'prod_api@roamability.com'\n",
    "    password = '25D55AD283AA400AF464C76D713C07AD'\n",
    "    api_link = 'https://ocsapi.roamability.com:7443/ocsapi/roamability/api/roamability.wsdl'\n",
    "\n",
    "user_name_token = UsernameToken(user, password)\n",
    "user_name_token.use_digest = True\n",
    "client = Client(api_link, wsse=user_name_token)\n",
    "\n",
    "reseller = client.service.getResellerInfo()\n",
    "accounts = client.service.getAccounts()\n",
    "\n",
    "if reseller.result.code == '1':\n",
    "    print('You are connected to Reseller: {}.\\\n",
    "    \\nAvailable credit for the Reseller: {:.0f} USD.\\n'.\\\n",
    "    format(reseller.reseller.resellerName,reseller.reseller.availableCredit))\n",
    "else:\n",
    "    print('Error in getting Reseller info: {}'.format(reseller.result.description))\n",
    "\n",
    "if accounts.result.code == '1':\n",
    "    accounts_dict = {account.accountId:account.accountName for account in accounts.accounts.accounts}\n",
    "    print('The Reseller contains the following accounts:')\n",
    "    for i,[account_id,account_name] in enumerate(accounts_dict.items()):\n",
    "        print(' {:<5}{} (accountID: {})'.format(i,account_name,account_id))\n",
    "else:\n",
    "    print('Error in getting Account info: {}'.format(accounts.result.description))"
   ]
  },
  {
   "cell_type": "code",
   "execution_count": 13,
   "metadata": {},
   "outputs": [],
   "source": [
    "#######################################################################################\n",
    "# Define variables here\n",
    "#######################################################################################\n",
    "\n",
    "imsi_list = range(42501961302149, 42501961302150 + 1)\n",
    "activation_date = dt.datetime.strptime('2020-09-11','%Y-%m-%d') # activation_date + dt.timedelta(days=143)\n",
    "prepaid_template_id = 1349\n",
    "\n",
    "#######################################################################################\n",
    "\n",
    "#######################################################################################"
   ]
  },
  {
   "cell_type": "code",
   "execution_count": 14,
   "metadata": {},
   "outputs": [
    {
     "name": "stdout",
     "output_type": "stream",
     "text": [
      "42501961302149: Subscriber not found\n",
      "42501961302150: Subscriber not found\n"
     ]
    }
   ],
   "source": [
    "# Run the scripr\n",
    "\n",
    "for i, imsi in enumerate(imsi_list):\n",
    "    subs = client.service.getSubscriberByIMSI(imsi)\n",
    "    if subs.result.code == '1':\n",
    "        pp_ass = client.service.assignSubscriberPrePaidPackage(subs.subscriber.subscriberId,\n",
    "                                                               prepaid_template_id, activation_date)\n",
    "        if pp_ass.result.code == '1':\n",
    "            print(f\"\"\"{imsi}: {pp_ass.result.description}; \\\n",
    "LZ: {pp_ass.prePaidPackage.locationZone.locationZoneName}; \\\n",
    "DZ: {pp_ass.prePaidPackage.destinationZone.destinationZoneName}; \\\n",
    "{dt.datetime.strftime(pp_ass.prePaidPackage.activationDate,'%Y-%m-%d')} - \\\n",
    "{dt.datetime.strftime(pp_ass.prePaidPackage.expirationDate,'%Y-%m-%d')}\"\"\")\n",
    "        else:\n",
    "            print(f\"\"\"{imsi}: {pp_ass.result.description}\"\"\")\n",
    "            \n",
    "    else:\n",
    "        print(f\"\"\"{imsi}: {subs.result.description}\"\"\")"
   ]
  },
  {
   "cell_type": "markdown",
   "metadata": {},
   "source": [
    "### Developments"
   ]
  },
  {
   "cell_type": "code",
   "execution_count": null,
   "metadata": {},
   "outputs": [],
   "source": [
    "# Subscriber in lab in STI account\n",
    "#subscriber_id = client.service.getSubscriberById('934420')\n",
    "#subscriber_iccid = client.service.getSubscriberByICCID('8997219121000031446')\n",
    "# client.service.getSubscriberPrePaidPackages('831882', 1)\n",
    "#client.service.getSubscriberByIMSI('425019613023160')\n",
    "#client.service.getSubscriberById('209287')\n",
    "#client.service.getSubscriberByICCID('8997219121000022660')\n",
    "# client.service.assignSubscriberPrePaidPackage('831882', 1, dt.datetime.strptime('2019-07-07','%Y-%m-%d'))\n",
    "# client.service.getSubscriberPrePaidPackages('937939', 1)\n",
    "# client.service.expireSubscriberPrePaidPackage(1848972,60311)\n",
    "# client.service.getSubscriberPrePaidPackages(1848972,1)\n",
    "# prices = client.service.getMobilePrices() # prices.destinations[0]\n",
    "# client.service.getPricingPlans()\n",
    "# client.service.modifySubscriberSpeedLimit(1449606, '256kbps')\n",
    "# client.service.modifySubscriberSpeedLimit(210000, '1024kbps') # lab\n",
    "#subscriber_id"
   ]
  }
 ],
 "metadata": {
  "kernelspec": {
   "display_name": "Python 3",
   "language": "python",
   "name": "python3"
  },
  "language_info": {
   "codemirror_mode": {
    "name": "ipython",
    "version": 3
   },
   "file_extension": ".py",
   "mimetype": "text/x-python",
   "name": "python",
   "nbconvert_exporter": "python",
   "pygments_lexer": "ipython3",
   "version": "3.6.9"
  }
 },
 "nbformat": 4,
 "nbformat_minor": 2
}
