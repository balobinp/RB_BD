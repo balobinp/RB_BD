{
 "cells": [
  {
   "cell_type": "code",
   "execution_count": null,
   "metadata": {},
   "outputs": [],
   "source": [
    "from IPython.display import HTML\n",
    "HTML('''<script>\n",
    "code_show=true; \n",
    "function code_toggle() {\n",
    " if (code_show){\n",
    " $('div.input').hide();\n",
    " } else {\n",
    " $('div.input').show();\n",
    " }\n",
    " code_show = !code_show\n",
    "} \n",
    "$( document ).ready(code_toggle);\n",
    "</script>\n",
    "<form action=\"javascript:code_toggle()\"><input type=\"submit\" value=\"Click here to toggle on/off the raw code.\"></form>''')"
   ]
  },
  {
   "cell_type": "markdown",
   "metadata": {},
   "source": [
    "# Libraries and functions"
   ]
  },
  {
   "cell_type": "code",
   "execution_count": 2,
   "metadata": {},
   "outputs": [],
   "source": [
    "import numpy as np\n",
    "import pandas as pd\n",
    "import pandasql as ps\n",
    "from pandas import Series, DataFrame\n",
    "import datetime as dt\n",
    "import matplotlib.pyplot as plt\n",
    "import matplotlib as mpl\n",
    "import sys\n",
    "import time\n",
    "import math\n",
    "from tqdm import tqdm\n",
    "from importlib import reload\n",
    "from os.path import join, normpath\n",
    "from bs4 import BeautifulSoup\n",
    "import os\n",
    "import roamability as rb\n",
    "import re\n",
    "\n",
    "downloads = 'C:/Users/balob/Downloads'"
   ]
  },
  {
   "cell_type": "markdown",
   "metadata": {},
   "source": [
    "#### To get the path"
   ]
  },
  {
   "cell_type": "code",
   "execution_count": 95,
   "metadata": {},
   "outputs": [
    {
     "name": "stdout",
     "output_type": "stream",
     "text": [
      "C:\\Users\\balob\\Documents\\GITLAB\\RB_BD\n"
     ]
    },
    {
     "data": {
      "text/plain": [
       "WindowsPath('C:/Users/balob/Documents/GITLAB/RB_BD')"
      ]
     },
     "execution_count": 95,
     "metadata": {},
     "output_type": "execute_result"
    }
   ],
   "source": [
    "from pathlib import Path\n",
    "path_dir = Path.cwd()\n",
    "print(path_dir)\n",
    "path_dir"
   ]
  },
  {
   "cell_type": "code",
   "execution_count": 3,
   "metadata": {},
   "outputs": [
    {
     "data": {
      "text/plain": [
       "'c:/Users/balob/Documents/GITLAB/NOC_Roamability_com/noc/noc'"
      ]
     },
     "execution_count": 3,
     "metadata": {},
     "output_type": "execute_result"
    }
   ],
   "source": [
    "pwd=!echo %cd%\n",
    "pwd=str(pwd)\n",
    "pwd=r\"c:\\Users\\balob\\Documents\\GITLAB\\NOC_Roamability_com\\noc\\noc\"\n",
    "pwd.replace('\\\\','/',100)"
   ]
  },
  {
   "cell_type": "code",
   "execution_count": 99,
   "metadata": {},
   "outputs": [],
   "source": [
    "%reset -f"
   ]
  },
  {
   "cell_type": "markdown",
   "metadata": {},
   "source": [
    "# Examples"
   ]
  },
  {
   "cell_type": "markdown",
   "metadata": {},
   "source": [
    "### MS SQL request"
   ]
  },
  {
   "cell_type": "code",
   "execution_count": null,
   "metadata": {},
   "outputs": [],
   "source": [
    "sql_srt='SELECT TOP(5) * FROM USAGE_TYPE;'\n",
    "with MssqlConnect('172.18.11.82', '10028', 'BSS', 'iKQVm40AZAmyRaw72LeY') as cnxn:\n",
    "    df = pd.read_sql_query(sql_srt, cnxn, coerce_float=False)"
   ]
  },
  {
   "cell_type": "code",
   "execution_count": null,
   "metadata": {},
   "outputs": [],
   "source": [
    "#reload(rb)"
   ]
  },
  {
   "cell_type": "markdown",
   "metadata": {},
   "source": [
    "### Soap API OCS Portal"
   ]
  },
  {
   "cell_type": "code",
   "execution_count": 42,
   "metadata": {},
   "outputs": [
    {
     "ename": "ConnectionError",
     "evalue": "HTTPSConnectionPool(host='172.20.39.7', port=8585): Max retries exceeded with url: /ocsapi/roamability/api/roamability.wsdl (Caused by NewConnectionError('<urllib3.connection.VerifiedHTTPSConnection object at 0x000001FFEA2925C0>: Failed to establish a new connection: [WinError 10061] Подключение не установлено, т.к. конечный компьютер отверг запрос на подключение',))",
     "output_type": "error",
     "traceback": [
      "\u001b[1;31m---------------------------------------------------------------------------\u001b[0m",
      "\u001b[1;31mConnectionRefusedError\u001b[0m                    Traceback (most recent call last)",
      "\u001b[1;32m~\\Miniconda3\\lib\\site-packages\\urllib3\\connection.py\u001b[0m in \u001b[0;36m_new_conn\u001b[1;34m(self)\u001b[0m\n\u001b[0;32m    140\u001b[0m             conn = connection.create_connection(\n\u001b[1;32m--> 141\u001b[1;33m                 (self.host, self.port), self.timeout, **extra_kw)\n\u001b[0m\u001b[0;32m    142\u001b[0m \u001b[1;33m\u001b[0m\u001b[0m\n",
      "\u001b[1;32m~\\Miniconda3\\lib\\site-packages\\urllib3\\util\\connection.py\u001b[0m in \u001b[0;36mcreate_connection\u001b[1;34m(address, timeout, source_address, socket_options)\u001b[0m\n\u001b[0;32m     82\u001b[0m     \u001b[1;32mif\u001b[0m \u001b[0merr\u001b[0m \u001b[1;32mis\u001b[0m \u001b[1;32mnot\u001b[0m \u001b[1;32mNone\u001b[0m\u001b[1;33m:\u001b[0m\u001b[1;33m\u001b[0m\u001b[0m\n\u001b[1;32m---> 83\u001b[1;33m         \u001b[1;32mraise\u001b[0m \u001b[0merr\u001b[0m\u001b[1;33m\u001b[0m\u001b[0m\n\u001b[0m\u001b[0;32m     84\u001b[0m \u001b[1;33m\u001b[0m\u001b[0m\n",
      "\u001b[1;32m~\\Miniconda3\\lib\\site-packages\\urllib3\\util\\connection.py\u001b[0m in \u001b[0;36mcreate_connection\u001b[1;34m(address, timeout, source_address, socket_options)\u001b[0m\n\u001b[0;32m     72\u001b[0m                 \u001b[0msock\u001b[0m\u001b[1;33m.\u001b[0m\u001b[0mbind\u001b[0m\u001b[1;33m(\u001b[0m\u001b[0msource_address\u001b[0m\u001b[1;33m)\u001b[0m\u001b[1;33m\u001b[0m\u001b[0m\n\u001b[1;32m---> 73\u001b[1;33m             \u001b[0msock\u001b[0m\u001b[1;33m.\u001b[0m\u001b[0mconnect\u001b[0m\u001b[1;33m(\u001b[0m\u001b[0msa\u001b[0m\u001b[1;33m)\u001b[0m\u001b[1;33m\u001b[0m\u001b[0m\n\u001b[0m\u001b[0;32m     74\u001b[0m             \u001b[1;32mreturn\u001b[0m \u001b[0msock\u001b[0m\u001b[1;33m\u001b[0m\u001b[0m\n",
      "\u001b[1;31mConnectionRefusedError\u001b[0m: [WinError 10061] Подключение не установлено, т.к. конечный компьютер отверг запрос на подключение",
      "\nDuring handling of the above exception, another exception occurred:\n",
      "\u001b[1;31mNewConnectionError\u001b[0m                        Traceback (most recent call last)",
      "\u001b[1;32m~\\Miniconda3\\lib\\site-packages\\urllib3\\connectionpool.py\u001b[0m in \u001b[0;36murlopen\u001b[1;34m(self, method, url, body, headers, retries, redirect, assert_same_host, timeout, pool_timeout, release_conn, chunked, body_pos, **response_kw)\u001b[0m\n\u001b[0;32m    600\u001b[0m                                                   \u001b[0mbody\u001b[0m\u001b[1;33m=\u001b[0m\u001b[0mbody\u001b[0m\u001b[1;33m,\u001b[0m \u001b[0mheaders\u001b[0m\u001b[1;33m=\u001b[0m\u001b[0mheaders\u001b[0m\u001b[1;33m,\u001b[0m\u001b[1;33m\u001b[0m\u001b[0m\n\u001b[1;32m--> 601\u001b[1;33m                                                   chunked=chunked)\n\u001b[0m\u001b[0;32m    602\u001b[0m \u001b[1;33m\u001b[0m\u001b[0m\n",
      "\u001b[1;32m~\\Miniconda3\\lib\\site-packages\\urllib3\\connectionpool.py\u001b[0m in \u001b[0;36m_make_request\u001b[1;34m(self, conn, method, url, timeout, chunked, **httplib_request_kw)\u001b[0m\n\u001b[0;32m    345\u001b[0m         \u001b[1;32mtry\u001b[0m\u001b[1;33m:\u001b[0m\u001b[1;33m\u001b[0m\u001b[0m\n\u001b[1;32m--> 346\u001b[1;33m             \u001b[0mself\u001b[0m\u001b[1;33m.\u001b[0m\u001b[0m_validate_conn\u001b[0m\u001b[1;33m(\u001b[0m\u001b[0mconn\u001b[0m\u001b[1;33m)\u001b[0m\u001b[1;33m\u001b[0m\u001b[0m\n\u001b[0m\u001b[0;32m    347\u001b[0m         \u001b[1;32mexcept\u001b[0m \u001b[1;33m(\u001b[0m\u001b[0mSocketTimeout\u001b[0m\u001b[1;33m,\u001b[0m \u001b[0mBaseSSLError\u001b[0m\u001b[1;33m)\u001b[0m \u001b[1;32mas\u001b[0m \u001b[0me\u001b[0m\u001b[1;33m:\u001b[0m\u001b[1;33m\u001b[0m\u001b[0m\n",
      "\u001b[1;32m~\\Miniconda3\\lib\\site-packages\\urllib3\\connectionpool.py\u001b[0m in \u001b[0;36m_validate_conn\u001b[1;34m(self, conn)\u001b[0m\n\u001b[0;32m    849\u001b[0m         \u001b[1;32mif\u001b[0m \u001b[1;32mnot\u001b[0m \u001b[0mgetattr\u001b[0m\u001b[1;33m(\u001b[0m\u001b[0mconn\u001b[0m\u001b[1;33m,\u001b[0m \u001b[1;34m'sock'\u001b[0m\u001b[1;33m,\u001b[0m \u001b[1;32mNone\u001b[0m\u001b[1;33m)\u001b[0m\u001b[1;33m:\u001b[0m  \u001b[1;31m# AppEngine might not have  `.sock`\u001b[0m\u001b[1;33m\u001b[0m\u001b[0m\n\u001b[1;32m--> 850\u001b[1;33m             \u001b[0mconn\u001b[0m\u001b[1;33m.\u001b[0m\u001b[0mconnect\u001b[0m\u001b[1;33m(\u001b[0m\u001b[1;33m)\u001b[0m\u001b[1;33m\u001b[0m\u001b[0m\n\u001b[0m\u001b[0;32m    851\u001b[0m \u001b[1;33m\u001b[0m\u001b[0m\n",
      "\u001b[1;32m~\\Miniconda3\\lib\\site-packages\\urllib3\\connection.py\u001b[0m in \u001b[0;36mconnect\u001b[1;34m(self)\u001b[0m\n\u001b[0;32m    283\u001b[0m         \u001b[1;31m# Add certificate verification\u001b[0m\u001b[1;33m\u001b[0m\u001b[1;33m\u001b[0m\u001b[0m\n\u001b[1;32m--> 284\u001b[1;33m         \u001b[0mconn\u001b[0m \u001b[1;33m=\u001b[0m \u001b[0mself\u001b[0m\u001b[1;33m.\u001b[0m\u001b[0m_new_conn\u001b[0m\u001b[1;33m(\u001b[0m\u001b[1;33m)\u001b[0m\u001b[1;33m\u001b[0m\u001b[0m\n\u001b[0m\u001b[0;32m    285\u001b[0m \u001b[1;33m\u001b[0m\u001b[0m\n",
      "\u001b[1;32m~\\Miniconda3\\lib\\site-packages\\urllib3\\connection.py\u001b[0m in \u001b[0;36m_new_conn\u001b[1;34m(self)\u001b[0m\n\u001b[0;32m    149\u001b[0m             raise NewConnectionError(\n\u001b[1;32m--> 150\u001b[1;33m                 self, \"Failed to establish a new connection: %s\" % e)\n\u001b[0m\u001b[0;32m    151\u001b[0m \u001b[1;33m\u001b[0m\u001b[0m\n",
      "\u001b[1;31mNewConnectionError\u001b[0m: <urllib3.connection.VerifiedHTTPSConnection object at 0x000001FFEA2925C0>: Failed to establish a new connection: [WinError 10061] Подключение не установлено, т.к. конечный компьютер отверг запрос на подключение",
      "\nDuring handling of the above exception, another exception occurred:\n",
      "\u001b[1;31mMaxRetryError\u001b[0m                             Traceback (most recent call last)",
      "\u001b[1;32m~\\Miniconda3\\lib\\site-packages\\requests\\adapters.py\u001b[0m in \u001b[0;36msend\u001b[1;34m(self, request, stream, timeout, verify, cert, proxies)\u001b[0m\n\u001b[0;32m    439\u001b[0m                     \u001b[0mretries\u001b[0m\u001b[1;33m=\u001b[0m\u001b[0mself\u001b[0m\u001b[1;33m.\u001b[0m\u001b[0mmax_retries\u001b[0m\u001b[1;33m,\u001b[0m\u001b[1;33m\u001b[0m\u001b[0m\n\u001b[1;32m--> 440\u001b[1;33m                     \u001b[0mtimeout\u001b[0m\u001b[1;33m=\u001b[0m\u001b[0mtimeout\u001b[0m\u001b[1;33m\u001b[0m\u001b[0m\n\u001b[0m\u001b[0;32m    441\u001b[0m                 )\n",
      "\u001b[1;32m~\\Miniconda3\\lib\\site-packages\\urllib3\\connectionpool.py\u001b[0m in \u001b[0;36murlopen\u001b[1;34m(self, method, url, body, headers, retries, redirect, assert_same_host, timeout, pool_timeout, release_conn, chunked, body_pos, **response_kw)\u001b[0m\n\u001b[0;32m    638\u001b[0m             retries = retries.increment(method, url, error=e, _pool=self,\n\u001b[1;32m--> 639\u001b[1;33m                                         _stacktrace=sys.exc_info()[2])\n\u001b[0m\u001b[0;32m    640\u001b[0m             \u001b[0mretries\u001b[0m\u001b[1;33m.\u001b[0m\u001b[0msleep\u001b[0m\u001b[1;33m(\u001b[0m\u001b[1;33m)\u001b[0m\u001b[1;33m\u001b[0m\u001b[0m\n",
      "\u001b[1;32m~\\Miniconda3\\lib\\site-packages\\urllib3\\util\\retry.py\u001b[0m in \u001b[0;36mincrement\u001b[1;34m(self, method, url, response, error, _pool, _stacktrace)\u001b[0m\n\u001b[0;32m    387\u001b[0m         \u001b[1;32mif\u001b[0m \u001b[0mnew_retry\u001b[0m\u001b[1;33m.\u001b[0m\u001b[0mis_exhausted\u001b[0m\u001b[1;33m(\u001b[0m\u001b[1;33m)\u001b[0m\u001b[1;33m:\u001b[0m\u001b[1;33m\u001b[0m\u001b[0m\n\u001b[1;32m--> 388\u001b[1;33m             \u001b[1;32mraise\u001b[0m \u001b[0mMaxRetryError\u001b[0m\u001b[1;33m(\u001b[0m\u001b[0m_pool\u001b[0m\u001b[1;33m,\u001b[0m \u001b[0murl\u001b[0m\u001b[1;33m,\u001b[0m \u001b[0merror\u001b[0m \u001b[1;32mor\u001b[0m \u001b[0mResponseError\u001b[0m\u001b[1;33m(\u001b[0m\u001b[0mcause\u001b[0m\u001b[1;33m)\u001b[0m\u001b[1;33m)\u001b[0m\u001b[1;33m\u001b[0m\u001b[0m\n\u001b[0m\u001b[0;32m    389\u001b[0m \u001b[1;33m\u001b[0m\u001b[0m\n",
      "\u001b[1;31mMaxRetryError\u001b[0m: HTTPSConnectionPool(host='172.20.39.7', port=8585): Max retries exceeded with url: /ocsapi/roamability/api/roamability.wsdl (Caused by NewConnectionError('<urllib3.connection.VerifiedHTTPSConnection object at 0x000001FFEA2925C0>: Failed to establish a new connection: [WinError 10061] Подключение не установлено, т.к. конечный компьютер отверг запрос на подключение',))",
      "\nDuring handling of the above exception, another exception occurred:\n",
      "\u001b[1;31mConnectionError\u001b[0m                           Traceback (most recent call last)",
      "\u001b[1;32m<ipython-input-42-fbd463be1986>\u001b[0m in \u001b[0;36m<module>\u001b[1;34m()\u001b[0m\n\u001b[0;32m      9\u001b[0m \u001b[0muser_name_token\u001b[0m \u001b[1;33m=\u001b[0m \u001b[0mUsernameToken\u001b[0m\u001b[1;33m(\u001b[0m\u001b[0muser\u001b[0m\u001b[1;33m,\u001b[0m \u001b[0mpassword\u001b[0m\u001b[1;33m)\u001b[0m\u001b[1;33m\u001b[0m\u001b[0m\n\u001b[0;32m     10\u001b[0m \u001b[0muser_name_token\u001b[0m\u001b[1;33m.\u001b[0m\u001b[0muse_digest\u001b[0m \u001b[1;33m=\u001b[0m \u001b[1;32mTrue\u001b[0m\u001b[1;33m\u001b[0m\u001b[0m\n\u001b[1;32m---> 11\u001b[1;33m \u001b[0mclient\u001b[0m \u001b[1;33m=\u001b[0m \u001b[0mClient\u001b[0m\u001b[1;33m(\u001b[0m\u001b[0mapi_link\u001b[0m\u001b[1;33m,\u001b[0m \u001b[0mwsse\u001b[0m\u001b[1;33m=\u001b[0m\u001b[0muser_name_token\u001b[0m\u001b[1;33m)\u001b[0m\u001b[1;33m\u001b[0m\u001b[0m\n\u001b[0m\u001b[0;32m     12\u001b[0m \u001b[1;33m\u001b[0m\u001b[0m\n\u001b[0;32m     13\u001b[0m \u001b[0mreseller\u001b[0m \u001b[1;33m=\u001b[0m \u001b[0mclient\u001b[0m\u001b[1;33m.\u001b[0m\u001b[0mservice\u001b[0m\u001b[1;33m.\u001b[0m\u001b[0mgetResellerInfo\u001b[0m\u001b[1;33m(\u001b[0m\u001b[1;33m)\u001b[0m\u001b[1;33m\u001b[0m\u001b[0m\n",
      "\u001b[1;32m~\\Miniconda3\\lib\\site-packages\\zeep\\client.py\u001b[0m in \u001b[0;36m__init__\u001b[1;34m(self, wsdl, wsse, transport, service_name, port_name, plugins, settings)\u001b[0m\n\u001b[0;32m     60\u001b[0m         \u001b[0mself\u001b[0m\u001b[1;33m.\u001b[0m\u001b[0mtransport\u001b[0m \u001b[1;33m=\u001b[0m \u001b[0mtransport\u001b[0m \u001b[1;32mif\u001b[0m \u001b[0mtransport\u001b[0m \u001b[1;32mis\u001b[0m \u001b[1;32mnot\u001b[0m \u001b[1;32mNone\u001b[0m \u001b[1;32melse\u001b[0m \u001b[0mTransport\u001b[0m\u001b[1;33m(\u001b[0m\u001b[1;33m)\u001b[0m\u001b[1;33m\u001b[0m\u001b[0m\n\u001b[0;32m     61\u001b[0m         self.wsdl = Document(\n\u001b[1;32m---> 62\u001b[1;33m             wsdl, self.transport, settings=self.settings)\n\u001b[0m\u001b[0;32m     63\u001b[0m         \u001b[0mself\u001b[0m\u001b[1;33m.\u001b[0m\u001b[0mwsse\u001b[0m \u001b[1;33m=\u001b[0m \u001b[0mwsse\u001b[0m\u001b[1;33m\u001b[0m\u001b[0m\n\u001b[0;32m     64\u001b[0m         \u001b[0mself\u001b[0m\u001b[1;33m.\u001b[0m\u001b[0mplugins\u001b[0m \u001b[1;33m=\u001b[0m \u001b[0mplugins\u001b[0m \u001b[1;32mif\u001b[0m \u001b[0mplugins\u001b[0m \u001b[1;32mis\u001b[0m \u001b[1;32mnot\u001b[0m \u001b[1;32mNone\u001b[0m \u001b[1;32melse\u001b[0m \u001b[1;33m[\u001b[0m\u001b[1;33m]\u001b[0m\u001b[1;33m\u001b[0m\u001b[0m\n",
      "\u001b[1;32m~\\Miniconda3\\lib\\site-packages\\zeep\\wsdl\\wsdl.py\u001b[0m in \u001b[0;36m__init__\u001b[1;34m(self, location, transport, base, settings)\u001b[0m\n\u001b[0;32m     80\u001b[0m             settings=self.settings)\n\u001b[0;32m     81\u001b[0m \u001b[1;33m\u001b[0m\u001b[0m\n\u001b[1;32m---> 82\u001b[1;33m         \u001b[0mdocument\u001b[0m \u001b[1;33m=\u001b[0m \u001b[0mself\u001b[0m\u001b[1;33m.\u001b[0m\u001b[0m_get_xml_document\u001b[0m\u001b[1;33m(\u001b[0m\u001b[0mlocation\u001b[0m\u001b[1;33m)\u001b[0m\u001b[1;33m\u001b[0m\u001b[0m\n\u001b[0m\u001b[0;32m     83\u001b[0m \u001b[1;33m\u001b[0m\u001b[0m\n\u001b[0;32m     84\u001b[0m         \u001b[0mroot_definitions\u001b[0m \u001b[1;33m=\u001b[0m \u001b[0mDefinition\u001b[0m\u001b[1;33m(\u001b[0m\u001b[0mself\u001b[0m\u001b[1;33m,\u001b[0m \u001b[0mdocument\u001b[0m\u001b[1;33m,\u001b[0m \u001b[0mself\u001b[0m\u001b[1;33m.\u001b[0m\u001b[0mlocation\u001b[0m\u001b[1;33m)\u001b[0m\u001b[1;33m\u001b[0m\u001b[0m\n",
      "\u001b[1;32m~\\Miniconda3\\lib\\site-packages\\zeep\\wsdl\\wsdl.py\u001b[0m in \u001b[0;36m_get_xml_document\u001b[1;34m(self, location)\u001b[0m\n\u001b[0;32m    141\u001b[0m         \"\"\"\n\u001b[0;32m    142\u001b[0m         return load_external(\n\u001b[1;32m--> 143\u001b[1;33m             location, self.transport, self.location, settings=self.settings)\n\u001b[0m\u001b[0;32m    144\u001b[0m \u001b[1;33m\u001b[0m\u001b[0m\n\u001b[0;32m    145\u001b[0m     \u001b[1;32mdef\u001b[0m \u001b[0m_add_definition\u001b[0m\u001b[1;33m(\u001b[0m\u001b[0mself\u001b[0m\u001b[1;33m,\u001b[0m \u001b[0mdefinition\u001b[0m\u001b[1;33m)\u001b[0m\u001b[1;33m:\u001b[0m\u001b[1;33m\u001b[0m\u001b[0m\n",
      "\u001b[1;32m~\\Miniconda3\\lib\\site-packages\\zeep\\loader.py\u001b[0m in \u001b[0;36mload_external\u001b[1;34m(url, transport, base_url, settings)\u001b[0m\n\u001b[0;32m     72\u001b[0m         \u001b[1;32mif\u001b[0m \u001b[0mbase_url\u001b[0m\u001b[1;33m:\u001b[0m\u001b[1;33m\u001b[0m\u001b[0m\n\u001b[0;32m     73\u001b[0m             \u001b[0murl\u001b[0m \u001b[1;33m=\u001b[0m \u001b[0mabsolute_location\u001b[0m\u001b[1;33m(\u001b[0m\u001b[0murl\u001b[0m\u001b[1;33m,\u001b[0m \u001b[0mbase_url\u001b[0m\u001b[1;33m)\u001b[0m\u001b[1;33m\u001b[0m\u001b[0m\n\u001b[1;32m---> 74\u001b[1;33m         \u001b[0mcontent\u001b[0m \u001b[1;33m=\u001b[0m \u001b[0mtransport\u001b[0m\u001b[1;33m.\u001b[0m\u001b[0mload\u001b[0m\u001b[1;33m(\u001b[0m\u001b[0murl\u001b[0m\u001b[1;33m)\u001b[0m\u001b[1;33m\u001b[0m\u001b[0m\n\u001b[0m\u001b[0;32m     75\u001b[0m     return parse_xml(\n\u001b[0;32m     76\u001b[0m         content, transport, base_url, settings=settings)\n",
      "\u001b[1;32m~\\Miniconda3\\lib\\site-packages\\zeep\\transports.py\u001b[0m in \u001b[0;36mload\u001b[1;34m(self, url)\u001b[0m\n\u001b[0;32m    108\u001b[0m                     \u001b[1;32mreturn\u001b[0m \u001b[0mbytes\u001b[0m\u001b[1;33m(\u001b[0m\u001b[0mresponse\u001b[0m\u001b[1;33m)\u001b[0m\u001b[1;33m\u001b[0m\u001b[0m\n\u001b[0;32m    109\u001b[0m \u001b[1;33m\u001b[0m\u001b[0m\n\u001b[1;32m--> 110\u001b[1;33m             \u001b[0mcontent\u001b[0m \u001b[1;33m=\u001b[0m \u001b[0mself\u001b[0m\u001b[1;33m.\u001b[0m\u001b[0m_load_remote_data\u001b[0m\u001b[1;33m(\u001b[0m\u001b[0murl\u001b[0m\u001b[1;33m)\u001b[0m\u001b[1;33m\u001b[0m\u001b[0m\n\u001b[0m\u001b[0;32m    111\u001b[0m \u001b[1;33m\u001b[0m\u001b[0m\n\u001b[0;32m    112\u001b[0m             \u001b[1;32mif\u001b[0m \u001b[0mself\u001b[0m\u001b[1;33m.\u001b[0m\u001b[0mcache\u001b[0m\u001b[1;33m:\u001b[0m\u001b[1;33m\u001b[0m\u001b[0m\n",
      "\u001b[1;32m~\\Miniconda3\\lib\\site-packages\\zeep\\transports.py\u001b[0m in \u001b[0;36m_load_remote_data\u001b[1;34m(self, url)\u001b[0m\n\u001b[0;32m    124\u001b[0m     \u001b[1;32mdef\u001b[0m \u001b[0m_load_remote_data\u001b[0m\u001b[1;33m(\u001b[0m\u001b[0mself\u001b[0m\u001b[1;33m,\u001b[0m \u001b[0murl\u001b[0m\u001b[1;33m)\u001b[0m\u001b[1;33m:\u001b[0m\u001b[1;33m\u001b[0m\u001b[0m\n\u001b[0;32m    125\u001b[0m         \u001b[0mself\u001b[0m\u001b[1;33m.\u001b[0m\u001b[0mlogger\u001b[0m\u001b[1;33m.\u001b[0m\u001b[0mdebug\u001b[0m\u001b[1;33m(\u001b[0m\u001b[1;34m\"Loading remote data from: %s\"\u001b[0m\u001b[1;33m,\u001b[0m \u001b[0murl\u001b[0m\u001b[1;33m)\u001b[0m\u001b[1;33m\u001b[0m\u001b[0m\n\u001b[1;32m--> 126\u001b[1;33m         \u001b[0mresponse\u001b[0m \u001b[1;33m=\u001b[0m \u001b[0mself\u001b[0m\u001b[1;33m.\u001b[0m\u001b[0msession\u001b[0m\u001b[1;33m.\u001b[0m\u001b[0mget\u001b[0m\u001b[1;33m(\u001b[0m\u001b[0murl\u001b[0m\u001b[1;33m,\u001b[0m \u001b[0mtimeout\u001b[0m\u001b[1;33m=\u001b[0m\u001b[0mself\u001b[0m\u001b[1;33m.\u001b[0m\u001b[0mload_timeout\u001b[0m\u001b[1;33m)\u001b[0m\u001b[1;33m\u001b[0m\u001b[0m\n\u001b[0m\u001b[0;32m    127\u001b[0m         \u001b[0mresponse\u001b[0m\u001b[1;33m.\u001b[0m\u001b[0mraise_for_status\u001b[0m\u001b[1;33m(\u001b[0m\u001b[1;33m)\u001b[0m\u001b[1;33m\u001b[0m\u001b[0m\n\u001b[0;32m    128\u001b[0m         \u001b[1;32mreturn\u001b[0m \u001b[0mresponse\u001b[0m\u001b[1;33m.\u001b[0m\u001b[0mcontent\u001b[0m\u001b[1;33m\u001b[0m\u001b[0m\n",
      "\u001b[1;32m~\\Miniconda3\\lib\\site-packages\\requests\\sessions.py\u001b[0m in \u001b[0;36mget\u001b[1;34m(self, url, **kwargs)\u001b[0m\n\u001b[0;32m    519\u001b[0m \u001b[1;33m\u001b[0m\u001b[0m\n\u001b[0;32m    520\u001b[0m         \u001b[0mkwargs\u001b[0m\u001b[1;33m.\u001b[0m\u001b[0msetdefault\u001b[0m\u001b[1;33m(\u001b[0m\u001b[1;34m'allow_redirects'\u001b[0m\u001b[1;33m,\u001b[0m \u001b[1;32mTrue\u001b[0m\u001b[1;33m)\u001b[0m\u001b[1;33m\u001b[0m\u001b[0m\n\u001b[1;32m--> 521\u001b[1;33m         \u001b[1;32mreturn\u001b[0m \u001b[0mself\u001b[0m\u001b[1;33m.\u001b[0m\u001b[0mrequest\u001b[0m\u001b[1;33m(\u001b[0m\u001b[1;34m'GET'\u001b[0m\u001b[1;33m,\u001b[0m \u001b[0murl\u001b[0m\u001b[1;33m,\u001b[0m \u001b[1;33m**\u001b[0m\u001b[0mkwargs\u001b[0m\u001b[1;33m)\u001b[0m\u001b[1;33m\u001b[0m\u001b[0m\n\u001b[0m\u001b[0;32m    522\u001b[0m \u001b[1;33m\u001b[0m\u001b[0m\n\u001b[0;32m    523\u001b[0m     \u001b[1;32mdef\u001b[0m \u001b[0moptions\u001b[0m\u001b[1;33m(\u001b[0m\u001b[0mself\u001b[0m\u001b[1;33m,\u001b[0m \u001b[0murl\u001b[0m\u001b[1;33m,\u001b[0m \u001b[1;33m**\u001b[0m\u001b[0mkwargs\u001b[0m\u001b[1;33m)\u001b[0m\u001b[1;33m:\u001b[0m\u001b[1;33m\u001b[0m\u001b[0m\n",
      "\u001b[1;32m~\\Miniconda3\\lib\\site-packages\\requests\\sessions.py\u001b[0m in \u001b[0;36mrequest\u001b[1;34m(self, method, url, params, data, headers, cookies, files, auth, timeout, allow_redirects, proxies, hooks, stream, verify, cert, json)\u001b[0m\n\u001b[0;32m    506\u001b[0m         }\n\u001b[0;32m    507\u001b[0m         \u001b[0msend_kwargs\u001b[0m\u001b[1;33m.\u001b[0m\u001b[0mupdate\u001b[0m\u001b[1;33m(\u001b[0m\u001b[0msettings\u001b[0m\u001b[1;33m)\u001b[0m\u001b[1;33m\u001b[0m\u001b[0m\n\u001b[1;32m--> 508\u001b[1;33m         \u001b[0mresp\u001b[0m \u001b[1;33m=\u001b[0m \u001b[0mself\u001b[0m\u001b[1;33m.\u001b[0m\u001b[0msend\u001b[0m\u001b[1;33m(\u001b[0m\u001b[0mprep\u001b[0m\u001b[1;33m,\u001b[0m \u001b[1;33m**\u001b[0m\u001b[0msend_kwargs\u001b[0m\u001b[1;33m)\u001b[0m\u001b[1;33m\u001b[0m\u001b[0m\n\u001b[0m\u001b[0;32m    509\u001b[0m \u001b[1;33m\u001b[0m\u001b[0m\n\u001b[0;32m    510\u001b[0m         \u001b[1;32mreturn\u001b[0m \u001b[0mresp\u001b[0m\u001b[1;33m\u001b[0m\u001b[0m\n",
      "\u001b[1;32m~\\Miniconda3\\lib\\site-packages\\requests\\sessions.py\u001b[0m in \u001b[0;36msend\u001b[1;34m(self, request, **kwargs)\u001b[0m\n\u001b[0;32m    616\u001b[0m \u001b[1;33m\u001b[0m\u001b[0m\n\u001b[0;32m    617\u001b[0m         \u001b[1;31m# Send the request\u001b[0m\u001b[1;33m\u001b[0m\u001b[1;33m\u001b[0m\u001b[0m\n\u001b[1;32m--> 618\u001b[1;33m         \u001b[0mr\u001b[0m \u001b[1;33m=\u001b[0m \u001b[0madapter\u001b[0m\u001b[1;33m.\u001b[0m\u001b[0msend\u001b[0m\u001b[1;33m(\u001b[0m\u001b[0mrequest\u001b[0m\u001b[1;33m,\u001b[0m \u001b[1;33m**\u001b[0m\u001b[0mkwargs\u001b[0m\u001b[1;33m)\u001b[0m\u001b[1;33m\u001b[0m\u001b[0m\n\u001b[0m\u001b[0;32m    619\u001b[0m \u001b[1;33m\u001b[0m\u001b[0m\n\u001b[0;32m    620\u001b[0m         \u001b[1;31m# Total elapsed time of the request (approximately)\u001b[0m\u001b[1;33m\u001b[0m\u001b[1;33m\u001b[0m\u001b[0m\n",
      "\u001b[1;32m~\\Miniconda3\\lib\\site-packages\\requests\\adapters.py\u001b[0m in \u001b[0;36msend\u001b[1;34m(self, request, stream, timeout, verify, cert, proxies)\u001b[0m\n\u001b[0;32m    506\u001b[0m                 \u001b[1;32mraise\u001b[0m \u001b[0mSSLError\u001b[0m\u001b[1;33m(\u001b[0m\u001b[0me\u001b[0m\u001b[1;33m,\u001b[0m \u001b[0mrequest\u001b[0m\u001b[1;33m=\u001b[0m\u001b[0mrequest\u001b[0m\u001b[1;33m)\u001b[0m\u001b[1;33m\u001b[0m\u001b[0m\n\u001b[0;32m    507\u001b[0m \u001b[1;33m\u001b[0m\u001b[0m\n\u001b[1;32m--> 508\u001b[1;33m             \u001b[1;32mraise\u001b[0m \u001b[0mConnectionError\u001b[0m\u001b[1;33m(\u001b[0m\u001b[0me\u001b[0m\u001b[1;33m,\u001b[0m \u001b[0mrequest\u001b[0m\u001b[1;33m=\u001b[0m\u001b[0mrequest\u001b[0m\u001b[1;33m)\u001b[0m\u001b[1;33m\u001b[0m\u001b[0m\n\u001b[0m\u001b[0;32m    509\u001b[0m \u001b[1;33m\u001b[0m\u001b[0m\n\u001b[0;32m    510\u001b[0m         \u001b[1;32mexcept\u001b[0m \u001b[0mClosedPoolError\u001b[0m \u001b[1;32mas\u001b[0m \u001b[0me\u001b[0m\u001b[1;33m:\u001b[0m\u001b[1;33m\u001b[0m\u001b[0m\n",
      "\u001b[1;31mConnectionError\u001b[0m: HTTPSConnectionPool(host='172.20.39.7', port=8585): Max retries exceeded with url: /ocsapi/roamability/api/roamability.wsdl (Caused by NewConnectionError('<urllib3.connection.VerifiedHTTPSConnection object at 0x000001FFEA2925C0>: Failed to establish a new connection: [WinError 10061] Подключение не установлено, т.к. конечный компьютер отверг запрос на подключение',))"
     ]
    }
   ],
   "source": [
    "from zeep import Client\n",
    "from zeep.wsse.username import UsernameToken\n",
    "\n",
    "user = 'lab_api@roamability.com'\n",
    "password = ''\n",
    "api_link = 'https://labocsapi.roamability.com:6443/ocsapi/roamability/api/roamability.wsdl'\n",
    "# api_link = 'http://172.20.35.12:8585/ocsapi/roamability/api/roamability.wsdl' # prod\n",
    "\n",
    "user_name_token = UsernameToken(user, password)\n",
    "user_name_token.use_digest = True\n",
    "client = Client(api_link, wsse=user_name_token)\n",
    "\n",
    "reseller = client.service.getResellerInfo()\n",
    "accounts = client.service.getAccounts()\n",
    "\n",
    "if reseller.result.code == '1':\n",
    "    print('You are connected to Reseller: {}.\\\n",
    "    \\nAvailable credit for the Reseller: {:.0f} USD.\\n'.\\\n",
    "    format(reseller.reseller.resellerName,reseller.reseller.availableCredit))\n",
    "else:\n",
    "    print('Error in getting Reseller info: {}'.format(reseller.result.description))\n",
    "\n",
    "if accounts.result.code == '1':\n",
    "    accounts_dict = {account.accountId:account.accountName for account in accounts.accounts.accounts}\n",
    "    print('The Reseller contains the following accounts:')\n",
    "    for i,[account_id,account_name] in enumerate(accounts_dict.items()):\n",
    "        print(' {:<5}{} (accountID: {})'.format(i,account_name,account_id))\n",
    "else:\n",
    "    print('Error in getting Account info: {}'.format(accounts.result.description))"
   ]
  },
  {
   "cell_type": "code",
   "execution_count": 44,
   "metadata": {},
   "outputs": [
    {
     "name": "stdout",
     "output_type": "stream",
     "text": [
      "Choose connection (prod or lab):prod\n",
      "You are connected to Reseller: Roamability Test RT.    \n",
      "Available credit for the Reseller: 5999 USD.\n",
      "\n",
      "The Reseller contains the following accounts:\n",
      " 0    Roamability-Porto Test (accountID: 352332)\n",
      " 1    Telzar Relay test (accountID: 352341)\n",
      " 2    Roamability - SMPP TEST  (accountID: 352343)\n",
      " 3    Telzar Relay (accountID: 352344)\n",
      " 4    Roamability Test Sim-cards (accountID: 352349)\n",
      " 5    Roamability MIFI Test (Denis) (accountID: 352415)\n",
      " 6    RB Test hosted GGSN KR (accountID: 352424)\n",
      " 7    DID's  (accountID: 352441)\n",
      " 8    RB MiFi test account (accountID: 352446)\n",
      " 9    soapApiTest (accountID: 352447)\n",
      " 10   uCloudLink RB Test (accountID: 352448)\n",
      " 11   Verint  (Roy's test) (accountID: 352471)\n",
      " 12   Antoloy ( Roy's test) (accountID: 352472)\n",
      " 13   Sure sample cards (accountID: 352479)\n",
      " 14   Old Partner RT (accountID: 352527)\n",
      " 15   Old Partner RT (accountID: 352528)\n",
      " 16   aaa (accountID: 352529)\n",
      " 17   Michael D test delete (accountID: 352531)\n",
      " 18   Sigos Test Sim cards (accountID: 352546)\n",
      " 19   Eyal MiFi Test (accountID: 352553)\n",
      " 20   MOP test (accountID: 352558)\n",
      " 21   Vihlancev test (accountID: 352585)\n",
      " 22   Test Account (accountID: 352619)\n",
      " 23   Another Test Account (accountID: 352620)\n",
      " 24   NOC test SIMs (accountID: 352639)\n",
      " 25   CITICTEL TEST (accountID: 352651)\n",
      " 26   OnePiece (accountID: 352728)\n",
      " 27   P4 test SIM cards (accountID: 352761)\n",
      " 28   Mario Test SIMs (accountID: 352774)\n"
     ]
    }
   ],
   "source": [
    "%reset -f\n",
    "from zeep import Client\n",
    "from zeep.wsse.username import UsernameToken\n",
    "\n",
    "connect = input(\"Choose connection (prod or lab):\")\n",
    "\n",
    "if connect == 'lab':\n",
    "    user = 'lab_api@roamability.com'\n",
    "    password = '25D55AD283AA400AF464C76D713C07AD' #Lab\n",
    "    #api_link = 'https://172.20.39.7:8585/ocsapi/roamability/api/roamability.wsdl' #Lab\n",
    "    api_link = 'https://labocsapi.roamability.com:6443/ocsapi/roamability/api/roamability.wsdl'\n",
    "elif connect == 'prod':\n",
    "    user = 'prod_api@roamability.com'\n",
    "    password = '25D55AD283AA400AF464C76D713C07AD'\n",
    "    api_link = 'http://172.20.35.12:8585/ocsapi/roamability/api/roamability.wsdl'\n",
    "\n",
    "user_name_token = UsernameToken(user, password)\n",
    "user_name_token.use_digest = True\n",
    "client = Client(api_link, wsse=user_name_token)\n",
    "\n",
    "reseller = client.service.getResellerInfo()\n",
    "accounts = client.service.getAccounts()\n",
    "\n",
    "if reseller.result.code == '1':\n",
    "    print('You are connected to Reseller: {}.\\\n",
    "    \\nAvailable credit for the Reseller: {:.0f} USD.\\n'.\\\n",
    "    format(reseller.reseller.resellerName,reseller.reseller.availableCredit))\n",
    "else:\n",
    "    print('Error in getting Reseller info: {}'.format(reseller.result.description))\n",
    "\n",
    "if accounts.result.code == '1':\n",
    "    accounts_dict = {account.accountId:account.accountName for account in accounts.accounts.accounts}\n",
    "    print('The Reseller contains the following accounts:')\n",
    "    for i,[account_id,account_name] in enumerate(accounts_dict.items()):\n",
    "        print(' {:<5}{} (accountID: {})'.format(i,account_name,account_id))\n",
    "else:\n",
    "    print('Error in getting Account info: {}'.format(accounts.result.description))\n",
    "    \n",
    "# Subscriber in lab in STI account\n",
    "#subscriber_id = client.service.getSubscriberById('934311')\n",
    "#subscriber_iccid = client.service.getSubscriberByICCID('8997219121000031446')\n",
    "#subscriber_id"
   ]
  },
  {
   "cell_type": "code",
   "execution_count": 643,
   "metadata": {},
   "outputs": [
    {
     "data": {
      "text/plain": [
       "{\n",
       "    'result': {\n",
       "        'code': '1',\n",
       "        'description': 'Success',\n",
       "        'errorUUID': None\n",
       "    },\n",
       "    'prePaidPackages': {\n",
       "        'prePaidPackages': [\n",
       "            {\n",
       "                'prePaidPackageId': 8418,\n",
       "                'subscriberId': 0,\n",
       "                'locationZone': {\n",
       "                    'locationZoneId': 17,\n",
       "                    'locationZoneName': 'JoyTel Turkey',\n",
       "                    'timeZoneName': 'Israel Standard Time',\n",
       "                    'timeZoneUtcOffset': 2\n",
       "                },\n",
       "                'destinationZone': {\n",
       "                    'destinationZoneId': 13,\n",
       "                    'destinationZoneName': 'JoyTel Turkey'\n",
       "                },\n",
       "                'priority': 1,\n",
       "                'assignedDate': datetime.datetime(2019, 3, 31, 16, 24, 46, 247000, tzinfo=<FixedOffset '+02:00'>),\n",
       "                'activationDate': datetime.datetime(2019, 3, 31, 17, 24, 46, tzinfo=<FixedOffset '+03:00'>),\n",
       "                'expirationDate': datetime.datetime(2019, 5, 1, 17, 24, 46, tzinfo=<FixedOffset '+03:00'>),\n",
       "                'mocMinutes': '0',\n",
       "                'usedMocMinutes': 0,\n",
       "                'usedMocPercent': 100,\n",
       "                'mtcMinutes': '0',\n",
       "                'usedMtcMinutes': 0,\n",
       "                'usedMtcPercent': 100,\n",
       "                'mosmsNumber': '0',\n",
       "                'usedMosmsNumber': 0,\n",
       "                'usedMosmsPercent': 100,\n",
       "                'mtsmsNumber': '0',\n",
       "                'usedMtsmsNumber': 0,\n",
       "                'usedMtsmsPercent': 100,\n",
       "                'dataMb': '126976',\n",
       "                'usedDataMb': 126976,\n",
       "                'usedDataPercent': 100\n",
       "            },\n",
       "            {\n",
       "                'prePaidPackageId': 39896,\n",
       "                'subscriberId': 0,\n",
       "                'locationZone': {\n",
       "                    'locationZoneId': 17,\n",
       "                    'locationZoneName': 'JoyTel Turkey',\n",
       "                    'timeZoneName': 'Israel Standard Time',\n",
       "                    'timeZoneUtcOffset': 2\n",
       "                },\n",
       "                'destinationZone': {\n",
       "                    'destinationZoneId': 13,\n",
       "                    'destinationZoneName': 'JoyTel Turkey'\n",
       "                },\n",
       "                'priority': 1,\n",
       "                'assignedDate': datetime.datetime(2019, 5, 7, 18, 16, 14, 577000, tzinfo=<FixedOffset '+02:00'>),\n",
       "                'activationDate': datetime.datetime(2019, 5, 1, 0, 0, tzinfo=<FixedOffset '+03:00'>),\n",
       "                'expirationDate': datetime.datetime(2019, 6, 1, 0, 0, tzinfo=<FixedOffset '+03:00'>),\n",
       "                'mocMinutes': '0',\n",
       "                'usedMocMinutes': 0,\n",
       "                'usedMocPercent': 100,\n",
       "                'mtcMinutes': '0',\n",
       "                'usedMtcMinutes': 0,\n",
       "                'usedMtcPercent': 100,\n",
       "                'mosmsNumber': '0',\n",
       "                'usedMosmsNumber': 0,\n",
       "                'usedMosmsPercent': 100,\n",
       "                'mtsmsNumber': '0',\n",
       "                'usedMtsmsNumber': 0,\n",
       "                'usedMtsmsPercent': 100,\n",
       "                'dataMb': '126976',\n",
       "                'usedDataMb': 126976,\n",
       "                'usedDataPercent': 100\n",
       "            },\n",
       "            {\n",
       "                'prePaidPackageId': 39897,\n",
       "                'subscriberId': 0,\n",
       "                'locationZone': {\n",
       "                    'locationZoneId': 17,\n",
       "                    'locationZoneName': 'JoyTel Turkey',\n",
       "                    'timeZoneName': 'Israel Standard Time',\n",
       "                    'timeZoneUtcOffset': 2\n",
       "                },\n",
       "                'destinationZone': {\n",
       "                    'destinationZoneId': 13,\n",
       "                    'destinationZoneName': 'JoyTel Turkey'\n",
       "                },\n",
       "                'priority': 1,\n",
       "                'assignedDate': datetime.datetime(2019, 5, 7, 18, 16, 14, 720000, tzinfo=<FixedOffset '+02:00'>),\n",
       "                'activationDate': datetime.datetime(2019, 6, 1, 0, 0, tzinfo=<FixedOffset '+03:00'>),\n",
       "                'expirationDate': datetime.datetime(2019, 7, 2, 0, 0, tzinfo=<FixedOffset '+03:00'>),\n",
       "                'mocMinutes': '0',\n",
       "                'usedMocMinutes': 0,\n",
       "                'usedMocPercent': 100,\n",
       "                'mtcMinutes': '0',\n",
       "                'usedMtcMinutes': 0,\n",
       "                'usedMtcPercent': 100,\n",
       "                'mosmsNumber': '0',\n",
       "                'usedMosmsNumber': 0,\n",
       "                'usedMosmsPercent': 100,\n",
       "                'mtsmsNumber': '0',\n",
       "                'usedMtsmsNumber': 0,\n",
       "                'usedMtsmsPercent': 100,\n",
       "                'dataMb': '126976',\n",
       "                'usedDataMb': 126976,\n",
       "                'usedDataPercent': 100\n",
       "            },\n",
       "            {\n",
       "                'prePaidPackageId': 39898,\n",
       "                'subscriberId': 0,\n",
       "                'locationZone': {\n",
       "                    'locationZoneId': 17,\n",
       "                    'locationZoneName': 'JoyTel Turkey',\n",
       "                    'timeZoneName': 'Israel Standard Time',\n",
       "                    'timeZoneUtcOffset': 2\n",
       "                },\n",
       "                'destinationZone': {\n",
       "                    'destinationZoneId': 13,\n",
       "                    'destinationZoneName': 'JoyTel Turkey'\n",
       "                },\n",
       "                'priority': 1,\n",
       "                'assignedDate': datetime.datetime(2019, 5, 7, 18, 16, 14, 817000, tzinfo=<FixedOffset '+02:00'>),\n",
       "                'activationDate': datetime.datetime(2019, 7, 1, 0, 0, tzinfo=<FixedOffset '+03:00'>),\n",
       "                'expirationDate': datetime.datetime(2019, 8, 1, 0, 0, tzinfo=<FixedOffset '+03:00'>),\n",
       "                'mocMinutes': '0',\n",
       "                'usedMocMinutes': 0,\n",
       "                'usedMocPercent': 100,\n",
       "                'mtcMinutes': '0',\n",
       "                'usedMtcMinutes': 0,\n",
       "                'usedMtcPercent': 100,\n",
       "                'mosmsNumber': '0',\n",
       "                'usedMosmsNumber': 0,\n",
       "                'usedMosmsPercent': 100,\n",
       "                'mtsmsNumber': '0',\n",
       "                'usedMtsmsNumber': 0,\n",
       "                'usedMtsmsPercent': 100,\n",
       "                'dataMb': '126976',\n",
       "                'usedDataMb': 126976,\n",
       "                'usedDataPercent': 100\n",
       "            },\n",
       "            {\n",
       "                'prePaidPackageId': 39899,\n",
       "                'subscriberId': 0,\n",
       "                'locationZone': {\n",
       "                    'locationZoneId': 17,\n",
       "                    'locationZoneName': 'JoyTel Turkey',\n",
       "                    'timeZoneName': 'Israel Standard Time',\n",
       "                    'timeZoneUtcOffset': 2\n",
       "                },\n",
       "                'destinationZone': {\n",
       "                    'destinationZoneId': 13,\n",
       "                    'destinationZoneName': 'JoyTel Turkey'\n",
       "                },\n",
       "                'priority': 1,\n",
       "                'assignedDate': datetime.datetime(2019, 5, 7, 18, 16, 15, 23000, tzinfo=<FixedOffset '+02:00'>),\n",
       "                'activationDate': datetime.datetime(2019, 8, 1, 0, 0, tzinfo=<FixedOffset '+03:00'>),\n",
       "                'expirationDate': datetime.datetime(2019, 9, 1, 0, 0, tzinfo=<FixedOffset '+03:00'>),\n",
       "                'mocMinutes': '0',\n",
       "                'usedMocMinutes': 0,\n",
       "                'usedMocPercent': 100,\n",
       "                'mtcMinutes': '0',\n",
       "                'usedMtcMinutes': 0,\n",
       "                'usedMtcPercent': 100,\n",
       "                'mosmsNumber': '0',\n",
       "                'usedMosmsNumber': 0,\n",
       "                'usedMosmsPercent': 100,\n",
       "                'mtsmsNumber': '0',\n",
       "                'usedMtsmsNumber': 0,\n",
       "                'usedMtsmsPercent': 100,\n",
       "                'dataMb': '126976',\n",
       "                'usedDataMb': 126976,\n",
       "                'usedDataPercent': 100\n",
       "            },\n",
       "            {\n",
       "                'prePaidPackageId': 39900,\n",
       "                'subscriberId': 0,\n",
       "                'locationZone': {\n",
       "                    'locationZoneId': 17,\n",
       "                    'locationZoneName': 'JoyTel Turkey',\n",
       "                    'timeZoneName': 'Israel Standard Time',\n",
       "                    'timeZoneUtcOffset': 2\n",
       "                },\n",
       "                'destinationZone': {\n",
       "                    'destinationZoneId': 13,\n",
       "                    'destinationZoneName': 'JoyTel Turkey'\n",
       "                },\n",
       "                'priority': 1,\n",
       "                'assignedDate': datetime.datetime(2019, 5, 7, 18, 16, 15, 97000, tzinfo=<FixedOffset '+02:00'>),\n",
       "                'activationDate': datetime.datetime(2019, 9, 1, 0, 0, tzinfo=<FixedOffset '+03:00'>),\n",
       "                'expirationDate': datetime.datetime(2019, 10, 2, 0, 0, tzinfo=<FixedOffset '+03:00'>),\n",
       "                'mocMinutes': '0',\n",
       "                'usedMocMinutes': 0,\n",
       "                'usedMocPercent': 100,\n",
       "                'mtcMinutes': '0',\n",
       "                'usedMtcMinutes': 0,\n",
       "                'usedMtcPercent': 100,\n",
       "                'mosmsNumber': '0',\n",
       "                'usedMosmsNumber': 0,\n",
       "                'usedMosmsPercent': 100,\n",
       "                'mtsmsNumber': '0',\n",
       "                'usedMtsmsNumber': 0,\n",
       "                'usedMtsmsPercent': 100,\n",
       "                'dataMb': '126976',\n",
       "                'usedDataMb': 126976,\n",
       "                'usedDataPercent': 100\n",
       "            },\n",
       "            {\n",
       "                'prePaidPackageId': 39901,\n",
       "                'subscriberId': 0,\n",
       "                'locationZone': {\n",
       "                    'locationZoneId': 17,\n",
       "                    'locationZoneName': 'JoyTel Turkey',\n",
       "                    'timeZoneName': 'Israel Standard Time',\n",
       "                    'timeZoneUtcOffset': 2\n",
       "                },\n",
       "                'destinationZone': {\n",
       "                    'destinationZoneId': 13,\n",
       "                    'destinationZoneName': 'JoyTel Turkey'\n",
       "                },\n",
       "                'priority': 1,\n",
       "                'assignedDate': datetime.datetime(2019, 5, 7, 18, 16, 15, 227000, tzinfo=<FixedOffset '+02:00'>),\n",
       "                'activationDate': datetime.datetime(2019, 10, 1, 0, 0, tzinfo=<FixedOffset '+03:00'>),\n",
       "                'expirationDate': datetime.datetime(2019, 10, 31, 23, 0, tzinfo=<FixedOffset '+02:00'>),\n",
       "                'mocMinutes': '0',\n",
       "                'usedMocMinutes': 0,\n",
       "                'usedMocPercent': 100,\n",
       "                'mtcMinutes': '0',\n",
       "                'usedMtcMinutes': 0,\n",
       "                'usedMtcPercent': 100,\n",
       "                'mosmsNumber': '0',\n",
       "                'usedMosmsNumber': 0,\n",
       "                'usedMosmsPercent': 100,\n",
       "                'mtsmsNumber': '0',\n",
       "                'usedMtsmsNumber': 0,\n",
       "                'usedMtsmsPercent': 100,\n",
       "                'dataMb': '126976',\n",
       "                'usedDataMb': 126976,\n",
       "                'usedDataPercent': 100\n",
       "            },\n",
       "            {\n",
       "                'prePaidPackageId': 39902,\n",
       "                'subscriberId': 0,\n",
       "                'locationZone': {\n",
       "                    'locationZoneId': 17,\n",
       "                    'locationZoneName': 'JoyTel Turkey',\n",
       "                    'timeZoneName': 'Israel Standard Time',\n",
       "                    'timeZoneUtcOffset': 2\n",
       "                },\n",
       "                'destinationZone': {\n",
       "                    'destinationZoneId': 13,\n",
       "                    'destinationZoneName': 'JoyTel Turkey'\n",
       "                },\n",
       "                'priority': 1,\n",
       "                'assignedDate': datetime.datetime(2019, 5, 7, 18, 16, 15, 330000, tzinfo=<FixedOffset '+02:00'>),\n",
       "                'activationDate': datetime.datetime(2019, 11, 1, 0, 0, tzinfo=<FixedOffset '+02:00'>),\n",
       "                'expirationDate': datetime.datetime(2019, 12, 2, 0, 0, tzinfo=<FixedOffset '+02:00'>),\n",
       "                'mocMinutes': '0',\n",
       "                'usedMocMinutes': 0,\n",
       "                'usedMocPercent': 100,\n",
       "                'mtcMinutes': '0',\n",
       "                'usedMtcMinutes': 0,\n",
       "                'usedMtcPercent': 100,\n",
       "                'mosmsNumber': '0',\n",
       "                'usedMosmsNumber': 0,\n",
       "                'usedMosmsPercent': 100,\n",
       "                'mtsmsNumber': '0',\n",
       "                'usedMtsmsNumber': 0,\n",
       "                'usedMtsmsPercent': 100,\n",
       "                'dataMb': '126976',\n",
       "                'usedDataMb': 126976,\n",
       "                'usedDataPercent': 100\n",
       "            },\n",
       "            {\n",
       "                'prePaidPackageId': 39903,\n",
       "                'subscriberId': 0,\n",
       "                'locationZone': {\n",
       "                    'locationZoneId': 17,\n",
       "                    'locationZoneName': 'JoyTel Turkey',\n",
       "                    'timeZoneName': 'Israel Standard Time',\n",
       "                    'timeZoneUtcOffset': 2\n",
       "                },\n",
       "                'destinationZone': {\n",
       "                    'destinationZoneId': 13,\n",
       "                    'destinationZoneName': 'JoyTel Turkey'\n",
       "                },\n",
       "                'priority': 1,\n",
       "                'assignedDate': datetime.datetime(2019, 5, 7, 18, 16, 15, 463000, tzinfo=<FixedOffset '+02:00'>),\n",
       "                'activationDate': datetime.datetime(2019, 12, 1, 0, 0, tzinfo=<FixedOffset '+02:00'>),\n",
       "                'expirationDate': datetime.datetime(2020, 1, 1, 0, 0, tzinfo=<FixedOffset '+02:00'>),\n",
       "                'mocMinutes': '0',\n",
       "                'usedMocMinutes': 0,\n",
       "                'usedMocPercent': 100,\n",
       "                'mtcMinutes': '0',\n",
       "                'usedMtcMinutes': 0,\n",
       "                'usedMtcPercent': 100,\n",
       "                'mosmsNumber': '0',\n",
       "                'usedMosmsNumber': 0,\n",
       "                'usedMosmsPercent': 100,\n",
       "                'mtsmsNumber': '0',\n",
       "                'usedMtsmsNumber': 0,\n",
       "                'usedMtsmsPercent': 100,\n",
       "                'dataMb': '126976',\n",
       "                'usedDataMb': 126976,\n",
       "                'usedDataPercent': 100\n",
       "            },\n",
       "            {\n",
       "                'prePaidPackageId': 39904,\n",
       "                'subscriberId': 0,\n",
       "                'locationZone': {\n",
       "                    'locationZoneId': 17,\n",
       "                    'locationZoneName': 'JoyTel Turkey',\n",
       "                    'timeZoneName': 'Israel Standard Time',\n",
       "                    'timeZoneUtcOffset': 2\n",
       "                },\n",
       "                'destinationZone': {\n",
       "                    'destinationZoneId': 13,\n",
       "                    'destinationZoneName': 'JoyTel Turkey'\n",
       "                },\n",
       "                'priority': 1,\n",
       "                'assignedDate': datetime.datetime(2019, 5, 7, 18, 16, 15, 543000, tzinfo=<FixedOffset '+02:00'>),\n",
       "                'activationDate': datetime.datetime(2020, 1, 1, 0, 0, tzinfo=<FixedOffset '+02:00'>),\n",
       "                'expirationDate': datetime.datetime(2020, 2, 1, 0, 0, tzinfo=<FixedOffset '+02:00'>),\n",
       "                'mocMinutes': '0',\n",
       "                'usedMocMinutes': 0,\n",
       "                'usedMocPercent': 100,\n",
       "                'mtcMinutes': '0',\n",
       "                'usedMtcMinutes': 0,\n",
       "                'usedMtcPercent': 100,\n",
       "                'mosmsNumber': '0',\n",
       "                'usedMosmsNumber': 0,\n",
       "                'usedMosmsPercent': 100,\n",
       "                'mtsmsNumber': '0',\n",
       "                'usedMtsmsNumber': 0,\n",
       "                'usedMtsmsPercent': 100,\n",
       "                'dataMb': '126976',\n",
       "                'usedDataMb': 126976,\n",
       "                'usedDataPercent': 100\n",
       "            },\n",
       "            {\n",
       "                'prePaidPackageId': 39905,\n",
       "                'subscriberId': 0,\n",
       "                'locationZone': {\n",
       "                    'locationZoneId': 17,\n",
       "                    'locationZoneName': 'JoyTel Turkey',\n",
       "                    'timeZoneName': 'Israel Standard Time',\n",
       "                    'timeZoneUtcOffset': 2\n",
       "                },\n",
       "                'destinationZone': {\n",
       "                    'destinationZoneId': 13,\n",
       "                    'destinationZoneName': 'JoyTel Turkey'\n",
       "                },\n",
       "                'priority': 1,\n",
       "                'assignedDate': datetime.datetime(2019, 5, 7, 18, 16, 15, 683000, tzinfo=<FixedOffset '+02:00'>),\n",
       "                'activationDate': datetime.datetime(2020, 2, 1, 0, 0, tzinfo=<FixedOffset '+02:00'>),\n",
       "                'expirationDate': datetime.datetime(2020, 3, 3, 0, 0, tzinfo=<FixedOffset '+02:00'>),\n",
       "                'mocMinutes': '0',\n",
       "                'usedMocMinutes': 0,\n",
       "                'usedMocPercent': 100,\n",
       "                'mtcMinutes': '0',\n",
       "                'usedMtcMinutes': 0,\n",
       "                'usedMtcPercent': 100,\n",
       "                'mosmsNumber': '0',\n",
       "                'usedMosmsNumber': 0,\n",
       "                'usedMosmsPercent': 100,\n",
       "                'mtsmsNumber': '0',\n",
       "                'usedMtsmsNumber': 0,\n",
       "                'usedMtsmsPercent': 100,\n",
       "                'dataMb': '126976',\n",
       "                'usedDataMb': 126976,\n",
       "                'usedDataPercent': 100\n",
       "            },\n",
       "            {\n",
       "                'prePaidPackageId': 39906,\n",
       "                'subscriberId': 0,\n",
       "                'locationZone': {\n",
       "                    'locationZoneId': 17,\n",
       "                    'locationZoneName': 'JoyTel Turkey',\n",
       "                    'timeZoneName': 'Israel Standard Time',\n",
       "                    'timeZoneUtcOffset': 2\n",
       "                },\n",
       "                'destinationZone': {\n",
       "                    'destinationZoneId': 13,\n",
       "                    'destinationZoneName': 'JoyTel Turkey'\n",
       "                },\n",
       "                'priority': 1,\n",
       "                'assignedDate': datetime.datetime(2019, 5, 7, 18, 16, 15, 747000, tzinfo=<FixedOffset '+02:00'>),\n",
       "                'activationDate': datetime.datetime(2020, 3, 1, 0, 0, tzinfo=<FixedOffset '+02:00'>),\n",
       "                'expirationDate': datetime.datetime(2020, 4, 1, 1, 0, tzinfo=<FixedOffset '+03:00'>),\n",
       "                'mocMinutes': '0',\n",
       "                'usedMocMinutes': 0,\n",
       "                'usedMocPercent': 100,\n",
       "                'mtcMinutes': '0',\n",
       "                'usedMtcMinutes': 0,\n",
       "                'usedMtcPercent': 100,\n",
       "                'mosmsNumber': '0',\n",
       "                'usedMosmsNumber': 0,\n",
       "                'usedMosmsPercent': 100,\n",
       "                'mtsmsNumber': '0',\n",
       "                'usedMtsmsNumber': 0,\n",
       "                'usedMtsmsPercent': 100,\n",
       "                'dataMb': '126976',\n",
       "                'usedDataMb': 126976,\n",
       "                'usedDataPercent': 100\n",
       "            }\n",
       "        ]\n",
       "    }\n",
       "}"
      ]
     },
     "execution_count": 643,
     "metadata": {},
     "output_type": "execute_result"
    }
   ],
   "source": [
    "#client.service.getSubscriberByIMSI('425019613023160')\n",
    "#client.service.getSubscriberById('209287')\n",
    "#client.service.getSubscriberByICCID('8997219121000022660')\n",
    "client.service.assignSubscriberPrePaidPackage('209287', pp_pack_new, datetime.strptime(activation_date,'%Y-%m-%d'))\n",
    "client.service.getSubscriberPrePaidPackages('1316409', 1)"
   ]
  },
  {
   "cell_type": "markdown",
   "metadata": {},
   "source": [
    "### Send MSU"
   ]
  },
  {
   "cell_type": "code",
   "execution_count": 508,
   "metadata": {},
   "outputs": [
    {
     "name": "stdout",
     "output_type": "stream",
     "text": [
      "Greetings from Roamability!!! \n",
      "\n"
     ]
    }
   ],
   "source": [
    "from bs4 import BeautifulSoup\n",
    "import roamability as rb\n",
    "#reload(rb)\n",
    "\n",
    "switch_01_payload = '24027000001f0d00010000bfff0100000000000010554f212dbbad49a1caf2573e1a626139'\n",
    "switch_02_payload = '24027000001F0D00010000BFFF0100000000000040a740AD174703383798A7A6545BB36491'\n",
    "\n",
    "#515030190000000\n",
    "#1d46acf860780\n",
    "add_imsi_03 = '3C02700000370d00210000bfff0100000000000040939360c23f417f147557b6940c91ba8b7e54be1c8c950a6ed1235ea8e3d70e9c2d7c34876abd68ec'\n",
    "\n",
    "\n",
    "ogt = {'p4':'48790993070',\n",
    "       'partner':'97254120624',\n",
    "       'sure':'447797706411',\n",
    "       'tot':'66893773228',\n",
    "       'porto_seguro':'550549900000',\n",
    "       'rusec_rus':'79028710069',\n",
    "       'rusec_int':'417999880000024',\n",
    "       'multi_byte_sponsor':'85263347864',\n",
    "       'smart1':'639180009880',\n",
    "       'smart2':'639180009881',\n",
    "       'smart3':'639180009882',\n",
    "       'smart4':'639180009883',\n",
    "       'telzar':'972559900040',\n",
    "       'x2one':'972553316228',\n",
    "       'cellact':'972557016315',\n",
    "       'netmore':'46731726312',\n",
    "       'p4_naka_01':'48790998145',\n",
    "       'p4_naka_02':'48790998146',\n",
    "       'p4_naka_03':'48790998147',\n",
    "       'partner_naka_01':'97254120634',\n",
    "       'partner_naka_02':'97254120635',\n",
    "       'partner_naka_03':'97254120636',\n",
    "       'partner_naka_04':'97254120637',}\n",
    "\n",
    "rb.greetings_func()\n",
    "#rb.print_imsi_prof(ogt, imsi, msc, 'as_resp') #'as_mo'\n",
    "#soup = BeautifulSoup(rb.sri4sm(ogt, msisdn),'xml') #250359000007598 79028710043\n",
    "#soup = BeautifulSoup(rb.prn(ogt, dgt, imsi),'xml')\n",
    "#soup = BeautifulSoup(rb.sai(ogt, dgt, imsi, node),'xml') # 0 - vlr; 16 - mme\n",
    "#soup = BeautifulSoup(rb.sendSMS(ogt, imsi, msc, rb.get_info),'xml')\n",
    "#soup = BeautifulSoup(rb.cl(ogt, dgt, imsi, d_ssn=7),'xml')\n",
    "#soup"
   ]
  },
  {
   "cell_type": "code",
   "execution_count": 103,
   "metadata": {},
   "outputs": [],
   "source": [
    "get_info    = \"24027000001F0D00010000BFFF01000000000000102F978372C730834EF445172BD26B8C8F\"\n",
    "get_info_mo = \"24027000001F0D00210000BFFF01000000000000102F978372C730834EF445172BD26B8C8F\""
   ]
  },
  {
   "cell_type": "code",
   "execution_count": 68,
   "metadata": {},
   "outputs": [
    {
     "name": "stdout",
     "output_type": "stream",
     "text": [
      "Greetings from Roamability!!! \n",
      "\n",
      "<bound method Tag.prettify of <?xml version=\"1.0\" encoding=\"utf-8\"?>\n",
      "<response>\n",
      "<result>-1</result>\n",
      "<error>T_ABORT received</error>\n",
      "<src_gt/>\n",
      "</response>> \n",
      "\n",
      "No info in response.\n"
     ]
    }
   ],
   "source": [
    "rb.greetings_func()\n",
    "rb.print_imsi_prof('66893773228', '520151101262057', '66893770000', 'as_mo') #'as_mo' 'as_resp'"
   ]
  },
  {
   "cell_type": "code",
   "execution_count": 263,
   "metadata": {},
   "outputs": [
    {
     "name": "stdout",
     "output_type": "stream",
     "text": [
      "[('0008', '4952810002000060'), ('0108', '4952106902101397'), ('0208', '2906601004901438')]\n",
      "This SIM card contains the following IMSIs:\n",
      "Slot 0 425180020000006\n",
      "Slot 1 425019620013179\n",
      "Slot 2 260060140094183\n",
      "\n",
      "Applet ver.: 1.7.2\n",
      "MCCMNC: 00000\n"
     ]
    }
   ],
   "source": [
    "def decode_payload_response(resp):\n",
    "    s = resp.upper()\n",
    "    #imsi_list = re.findall('(0\\d08)(\\d{16})', s)\n",
    "    #imsi_list = re.findall('(0\\d08\\d9\\d{14})', s)\n",
    "    imsi_list = re.findall('(0\\d08)(\\d9\\d{14})', s)\n",
    "    print(imsi_list)\n",
    "    print('This SIM card contains the following IMSIs:')\n",
    "    for slot, imsi in imsi_list:\n",
    "        print(f\"Slot {slot[1]} {''.join([imsi[i] for i in [0, 3, 2, 5, 4, 7, 6, 9, 8, 11, 10, 13, 12, 15, 14]])}\")\n",
    "    app_ver = re.findall('FFFFFFF000(\\d{6})', s)\n",
    "    if app_ver:\n",
    "        print(f'\\nApplet ver.: {int(app_ver[0][:2])}.{int(app_ver[0][2:4])}.{int(app_ver[0][4:6])}')\n",
    "    mccmnc_extract = re.findall('FFFFFFF000\\d{6}(.{6})', s)\n",
    "    if mccmnc_extract:\n",
    "        mccmnc = ''.join([mccmnc_extract[0][i] for i in [1, 0, 3, 5, 4]])\n",
    "        print(f'MCCMNC: {mccmnc}')\n",
    "\n",
    "s = r'00077FF644027100003F0ABFFF0100000000000000FFFFFFF0000107020000000100033A75350738900608000849528100020000600108495210690210139702082906601004901438'\n",
    "decode_payload_response(s)"
   ]
  },
  {
   "cell_type": "code",
   "execution_count": 69,
   "metadata": {},
   "outputs": [
    {
     "name": "stdout",
     "output_type": "stream",
     "text": [
      "This SIM card contains the following IMSIs:\n",
      "Slot 0 520151101262055\n",
      "Slot 1 425019620014789\n",
      "Slot 2 260060140113403\n",
      "\n",
      "Applet ver.: 1.7.0\n",
      "MCCMNC: 52015\n"
     ]
    }
   ],
   "source": [
    "reload(rb)\n",
    "s = '00350abfff0100000000000000fffffff00001070052f0200000003a155608057823070008495210693100112901082906601094001129'\n",
    "s = r'00077FF644027100003F0ABFFF0100000000000000FFFFFFF00001070232F4010000003A95940448388403000849528100020000500108495210690210620102082906601004803854'\n",
    "s = r'00077FF644027100003F0ABFFF0100000000000000FFFFFFF0000107020000000100033A75350738900608000849528100020000600108495210690210139702082906601004901438'\n",
    "s = r'00077FF644027100003F0ABFFF0100000000000000FFFFFFF00001070025F0510000003A55130828920808000859025111106202550108495210690210749802082906601004114330'\n",
    "rb.decode_payload_response(s)"
   ]
  },
  {
   "cell_type": "code",
   "execution_count": 895,
   "metadata": {},
   "outputs": [
    {
     "data": {
      "text/plain": [
       "<?xml version=\"1.0\" encoding=\"utf-8\"?>\n",
       "<response>\n",
       "<result>-1</result>\n",
       "<error>timeout</error>\n",
       "<src_gt/>\n",
       "</response>"
      ]
     },
     "execution_count": 895,
     "metadata": {},
     "output_type": "execute_result"
    }
   ],
   "source": [
    "import http\n",
    "import re\n",
    "from bs4 import BeautifulSoup\n",
    "import sys\n",
    "\n",
    "ss7_url = \"172.18.11.10\"\n",
    "ss7_path = \"/cgi-bin/ss7gw.fcgi\"\n",
    "\n",
    "def executeHTTP(request, url, path):\n",
    "    client = http.client.HTTPConnection(url)\n",
    "    client.request(\"POST\", path, request, {\"Content-Type\": \"text/xml\"})\n",
    "    resp = client.getresponse()\n",
    "    return resp.read()\n",
    "\n",
    "def sri4sm(ogt, msisdn, dgt):\n",
    "    req = \"\"\"<?xml version=\\\"1.0\\\"?>\n",
    "        <ss7gw request=\\\"SRI_SM\\\">\n",
    "        <d_ssn>6</d_ssn>\n",
    "        <o_ssn>8</o_ssn>\n",
    "        <sccp_np>7</sccp_np>\n",
    "        <o_gt>%s</o_gt>\n",
    "        <d_gt>%s</d_gt>\n",
    "        <msisdn>%s</msisdn>\n",
    "        <priority>1</priority>\n",
    "        <address>%s</address>\n",
    "        </ss7gw>\"\"\" % (ogt, dgt, msisdn, ogt)\n",
    "\n",
    "    resp = executeHTTP(req, ss7_url, ss7_path)\n",
    "    return resp\n",
    "soup = BeautifulSoup(sri4sm('97254120634', '972541014729', '972549612513794'),'xml') #250359000007598 79028710043\n",
    "soup"
   ]
  },
  {
   "cell_type": "markdown",
   "metadata": {},
   "source": [
    " ### Format output"
   ]
  },
  {
   "cell_type": "code",
   "execution_count": null,
   "metadata": {},
   "outputs": [],
   "source": [
    "import datetime as dt\n",
    "print( 'start: {} {} :end'.format('one', 'two') ) #start: one two :end\n",
    "print( 'start: {1} {0} :end'.format('one', 'two') ) #start: two one :end\n",
    "print( 'start: test {:10} :end'.format('test') ) #start: test test       :end\n",
    "print( 'start: test {:10} :end'.format(10) ) #start: test         10 :end\n",
    "print( 'start: test {:>10} :end'.format('test') ) #start: test       test :end\n",
    "print( 'start: test {:<10} :end'.format('test') ) #start: test test       :end\n",
    "print( 'start: test {:_<10} :end'.format('test') ) #start: test test______ :end\n",
    "print( 'start: test {:^10} :end'.format('test') ) #start: test    test    :end\n",
    "print( 'start: test {:.10} :end'.format('test1test2test3') ) #start: test test1test2 :end\n",
    "print( 'start: test {:_^10.5} :end'.format('test1test2test3') ) #start: test __test1___ :end\n",
    "print( 'start: test {:d} :end'.format(42) ) #start: test 42 :end\n",
    "print( 'start: test {:f} :end'.format(42) ) #start: test 42.000000 :end\n",
    "print( 'start: test {:06.2f} :end'.format(3.141592) ) #start: test 003.14 :end\n",
    "print( 'start: test {p[first]} {p[last]} :end'.format(p={'first': 'Jean-Luc', 'last': 'Picard'}) ) #start: test Jean-Luc Picard :end\n",
    "print( 'start: test {p[4]} {p[5]} :end'.format(p=[4, 8, 15, 16, 23, 42]) ) #start: test 23 42 :end\n",
    "print( 'start: test {:%Y-%m-%d %H:%M} :end'.format(dt.datetime(2001, 2, 3, 4, 5)) ) #start: test 2001-02-03 04:05 :end"
   ]
  },
  {
   "cell_type": "markdown",
   "metadata": {},
   "source": [
    "### Search in files by Tags"
   ]
  },
  {
   "cell_type": "code",
   "execution_count": 288,
   "metadata": {
    "scrolled": false
   },
   "outputs": [
    {
     "name": "stdout",
     "output_type": "stream",
     "text": [
      "****************************************************************************************************\n",
      "c:\\W_DATA_ROAM\\ДОКУМЕНТАЦИЯ\\NOC_HOW_IT_WORKS\\UsageSponsorReport.txt\n",
      "----------------------------------------------------------------------------------------------------\n",
      "#reports_bss_usage_mop\n",
      "#reports_tariffs_mop\n",
      "------------------------------\n",
      "Отчеты по Cost по Споносрам\n",
      "\n",
      "****************************************************************************************************\n",
      "c:\\W_DATA_ROAM\\ДОКУМЕНТАЦИЯ\\NOC_HOW_IT_WORKS\\BSS_SQL\\Report_BSS_Usage_per_Customer.txt\n",
      "----------------------------------------------------------------------------------------------------\n",
      "#reports_bss_usage_mop\n",
      "------------------------------\n",
      "Отчет по кастомеру, usage_type, month\n",
      "\n",
      "****************************************************************************************************\n",
      "c:\\W_DATA_ROAM\\ДОКУМЕНТАЦИЯ\\NOC_HOW_IT_WORKS\\BSS_SQL\\Report_BSS_Usage_per_PLMN.txt\n",
      "----------------------------------------------------------------------------------------------------\n",
      "#reports_bss_usage_mop\n",
      "------------------------------\n",
      "Отчет sum(TotalChardedUnits) group by  netowrk, usage_type, sponsor, month\n",
      "\n",
      "****************************************************************************************************\n",
      "c:\\W_DATA_ROAM\\ДОКУМЕНТАЦИЯ\\NOC_HOW_IT_WORKS\\BSS_SQL\\Report_BSS_Usage_per_Subscriber.txt\n",
      "----------------------------------------------------------------------------------------------------\n",
      "#reports_bss_usage_mop\n",
      "------------------------------\n",
      "Запрос по абоненту из BSS GPRS\n",
      "\n",
      "****************************************************************************************************\n",
      "c:\\W_DATA_ROAM\\МЕТОДИКИ\\M_REPORT_AUTO_INVOICE_REPORT_CHECK\\readme.txt\n",
      "----------------------------------------------------------------------------------------------------\n",
      "#reports_bss_usage_mop\n",
      "------------------------------\n",
      "Методика сравнения данных автоинвойса Splunk (Monthly auto invoice report) с данными BSS.\n",
      "Запросы для гененации Cost, Revenue по Mobile и Voice.\n",
      "\n",
      "****************************************************************************************************\n",
      "c:\\W_DATA_ROAM\\МЕТОДИКИ\\M_REPORT_MONTHLY_USAGE_P4_CHECKUP\\TEMPLATE.txt\n",
      "----------------------------------------------------------------------------------------------------\n",
      "#reports_bss_usage_mop\n",
      "------------------------------\n",
      "Отчет для проверки инвойсов P4.\n",
      "\n",
      "****************************************************************************************************\n",
      "c:\\W_DATA_ROAM\\МЕТОДИКИ\\M_REPORT_Partnet_Q_Usage\\readme.txt\n",
      "----------------------------------------------------------------------------------------------------\n",
      "#reports_bss_usage_mop\n",
      "#reports_tariffs_mop\n",
      "#reports_traffic_mop\n",
      "------------------------------\n",
      "Методика сравнения тарифов и потребленных сервисов с данными от Партнет с детализацией до месяца и TADIG.\n",
      "\n",
      "****************************************************************************************************\n",
      "c:\\W_DATA_ROAM\\МЕТОДИКИ\\_NOC_M_NEW_CONNECTION\\041_BSS_VoipReportBss\\_TEMPLATE.txt\n",
      "----------------------------------------------------------------------------------------------------\n",
      "#bss_mop\n",
      "#billing_principle_of_operation\n",
      "#reports_bss_usage_mop\n",
      "------------------------------\n",
      "Генерация VoIP отчета через GUI интерфейс для TL.\n",
      "Временное решение до автоматизации.\n",
      "\"till we will automate it into BSS , we will need to do it manually twice a month\n",
      "once at the 1st of each month (so cusotmers will be able to download the voip report and see full info)\n",
      "and once in the middle of the month.\"\n",
      "(Пт 04.01.2019 12:20, Roy Padina <roy@roamability.com>, Load VoIP Calls Data into BSS)\n",
      "\n"
     ]
    }
   ],
   "source": [
    "import roamability as rb\n",
    "reload(rb)\n",
    "\n",
    "# Где искать файлы .txt с тегами\n",
    "paths = ['c:/W_DATA_ROAM/ДОКУМЕНТАЦИЯ/NOC_HOW_IT_WORKS/',\n",
    "        'c:/W_DATA_ROAM/МЕТОДИКИ/',\n",
    "        'c:/W_DATA_ROAM/ПРОЕКТЫ/',\n",
    "        'c:/W_DATA_ROAM/ДОКУМЕНТАЦИЯ/NOC_KNOWN_ISSUES/',\n",
    "        'c:/W_DATA_ROAM/МЕТОДИКИ/_NOC_M_NEW_CONNECTION/',\n",
    "        'c:/W_DATA_ROAM/ALARMS/',\n",
    "        'c:/W_DATA_ROAM/ДОКУМЕНТАЦИЯ/PRICES',\n",
    "        ]\n",
    "\n",
    "# Если хотя бы один из тэгов присутствует. Нужно указать минимум один.\n",
    "any_tags  = ['#reports_bss_usage_mop']\n",
    "\n",
    "# Если все теги присутствуют. Нужно оставить лист пустым [] если нет обязательных тэгов.\n",
    "all_tags = []\n",
    "\n",
    "rb.find_files_by_tags(paths, all_tags, any_tags)"
   ]
  },
  {
   "cell_type": "markdown",
   "metadata": {},
   "source": [
    "### Search in ALARMS by folder names"
   ]
  },
  {
   "cell_type": "code",
   "execution_count": 584,
   "metadata": {},
   "outputs": [
    {
     "name": "stdout",
     "output_type": "stream",
     "text": [
      "c:\\W_DATA_ROAM\\ALARMS\\PS_Netherlands_NLDPT_180508_#1565799\n"
     ]
    }
   ],
   "source": [
    "import os\n",
    "\n",
    "paths = [\n",
    "         r'c:/W_DATA_ROAM/ALARMS/',\n",
    "#          r'c:/W_DATA_ROAM/ДОКУМЕНТАЦИЯ/PRICES/',\n",
    "        ]\n",
    "\n",
    "for path in paths:\n",
    "    names = os.listdir(path)\n",
    "    [print(normpath(path + name)) for name in names if name.upper().find('NLDPT')!=-1]"
   ]
  },
  {
   "cell_type": "markdown",
   "metadata": {},
   "source": [
    "### Search in Allowed Lists and others"
   ]
  },
  {
   "cell_type": "code",
   "execution_count": 425,
   "metadata": {},
   "outputs": [],
   "source": [
    "downloads = 'C:/Users/balob/Downloads'\n",
    "dmi_allowed_list = 'DMI.dmi_allowed_list_export_Sat_Jun_29_2019.csv'\n",
    "dmi_netpfx = 'DMI.dmi_netpfx_export_Wed_Mar_20_2019.csv'\n",
    "bss_usage = 'bss_usage_2019_06.csv'\n",
    "\n",
    "#Like expression for Allowed List\n",
    "df_al=pd.read_csv(join(downloads, dmi_allowed_list))\n",
    "df_al['SPONSOR'] = df_al['Sponsor'].replace(to_replace={r'[Pp][Aa][rtner]?[\\s\\w-]*':'S1', r'[Pp]4[\\s\\w-]*':'S2'}, regex=True)\n",
    "df_al.rename({'PLMN code':'TADIG'}, axis=1, inplace=True)\n",
    "#df_al_lab=pd.read_csv('LAB_DMI.dmi_allowed_list_export_Wed_Oct_03_2018.csv')\n",
    "\n",
    "df_usage = pd.read_csv(join(downloads, bss_usage), sep=';')\n",
    "cols = ['REP_DATE','VPLMN','SPONSOR','MOC','MOC_SMS','DATA']\n",
    "df_usage = df_usage.pivot_table(values='COST', index=['REP_DATE', 'VPLMN', 'SPONSOR'], columns='USAGE_TYPE').reset_index()[cols]\n",
    "df_usage.rename({'VPLMN':'TADIG'}, axis=1, inplace=True)\n",
    "df_usage.columns.name=''\n",
    "\n",
    "df_al = pd.merge(df_al, df_usage, how='left', on=['SPONSOR','TADIG'])\n",
    "\n",
    "#df_dmi_diam_oper=pd.read_csv(join(download,''))\n",
    "df_np=pd.read_csv(join(downloads, dmi_netpfx))\n",
    "#df_did=pd.read_csv('HRR.hrr_did_export_Wed_Aug_08_2018.csv')\n",
    "#f_tap_ocs=pd.read_csv('tap_ocs_analysis_180817.csv')"
   ]
  },
  {
   "cell_type": "code",
   "execution_count": 426,
   "metadata": {},
   "outputs": [
    {
     "data": {
      "text/html": [
       "<div>\n",
       "<style scoped>\n",
       "    .dataframe tbody tr th:only-of-type {\n",
       "        vertical-align: middle;\n",
       "    }\n",
       "\n",
       "    .dataframe tbody tr th {\n",
       "        vertical-align: top;\n",
       "    }\n",
       "\n",
       "    .dataframe thead th {\n",
       "        text-align: right;\n",
       "    }\n",
       "</style>\n",
       "<table border=\"1\" class=\"dataframe\">\n",
       "  <thead>\n",
       "    <tr style=\"text-align: right;\">\n",
       "      <th></th>\n",
       "      <th>Sponsor</th>\n",
       "      <th>TADIG</th>\n",
       "      <th>REP_DATE</th>\n",
       "      <th>MOC</th>\n",
       "      <th>MOC_SMS</th>\n",
       "      <th>DATA</th>\n",
       "    </tr>\n",
       "  </thead>\n",
       "  <tbody>\n",
       "    <tr>\n",
       "      <th>2552</th>\n",
       "      <td>P4_All</td>\n",
       "      <td>SLVTS</td>\n",
       "      <td>NaN</td>\n",
       "      <td>NaN</td>\n",
       "      <td>NaN</td>\n",
       "      <td>NaN</td>\n",
       "    </tr>\n",
       "    <tr>\n",
       "      <th>912</th>\n",
       "      <td>P4_All Rated</td>\n",
       "      <td>SLVTS</td>\n",
       "      <td>NaN</td>\n",
       "      <td>NaN</td>\n",
       "      <td>NaN</td>\n",
       "      <td>NaN</td>\n",
       "    </tr>\n",
       "    <tr>\n",
       "      <th>3753</th>\n",
       "      <td>P4_Dialoq_ALL</td>\n",
       "      <td>SLVTS</td>\n",
       "      <td>NaN</td>\n",
       "      <td>NaN</td>\n",
       "      <td>NaN</td>\n",
       "      <td>NaN</td>\n",
       "    </tr>\n",
       "  </tbody>\n",
       "</table>\n",
       "</div>"
      ],
      "text/plain": [
       "            Sponsor  TADIG REP_DATE  MOC  MOC_SMS  DATA\n",
       "2552         P4_All  SLVTS      NaN  NaN      NaN   NaN\n",
       "912    P4_All Rated  SLVTS      NaN  NaN      NaN   NaN\n",
       "3753  P4_Dialoq_ALL  SLVTS      NaN  NaN      NaN   NaN"
      ]
     },
     "execution_count": 426,
     "metadata": {},
     "output_type": "execute_result"
    }
   ],
   "source": [
    "sponsor = 'p4' # Use regular expressions if it's needed\n",
    "tadig = 'SLV'\n",
    "\n",
    "df_al.loc[(df_al['TADIG'].str.startswith(tadig, na=False)) &\n",
    "          (df_al['Sponsor'].str.contains(sponsor, na=False, regex=True, flags=re.I)),\n",
    "          ['Sponsor','TADIG','REP_DATE','MOC','MOC_SMS','DATA']].sort_values(by=['Sponsor','TADIG'])"
   ]
  },
  {
   "cell_type": "code",
   "execution_count": 27,
   "metadata": {},
   "outputs": [
    {
     "data": {
      "text/html": [
       "<div>\n",
       "<style scoped>\n",
       "    .dataframe tbody tr th:only-of-type {\n",
       "        vertical-align: middle;\n",
       "    }\n",
       "\n",
       "    .dataframe tbody tr th {\n",
       "        vertical-align: top;\n",
       "    }\n",
       "\n",
       "    .dataframe thead th {\n",
       "        text-align: right;\n",
       "    }\n",
       "</style>\n",
       "<table border=\"1\" class=\"dataframe\">\n",
       "  <thead>\n",
       "    <tr style=\"text-align: right;\">\n",
       "      <th></th>\n",
       "      <th>Operator</th>\n",
       "      <th>Prefix</th>\n",
       "      <th>Number/Range</th>\n",
       "      <th>SSN</th>\n",
       "      <th>MCC</th>\n",
       "      <th>MNC</th>\n",
       "    </tr>\n",
       "  </thead>\n",
       "  <tbody>\n",
       "  </tbody>\n",
       "</table>\n",
       "</div>"
      ],
      "text/plain": [
       "Empty DataFrame\n",
       "Columns: [Operator, Prefix, Number/Range, SSN, MCC, MNC]\n",
       "Index: []"
      ]
     },
     "execution_count": 27,
     "metadata": {},
     "output_type": "execute_result"
    }
   ],
   "source": [
    "df_np[(df_np.Operator.str.startswith('INDAT',na=False))] #.to_csv(join(downloads,'Prefix.csv')) # & (df_np.SSN==7)"
   ]
  },
  {
   "cell_type": "code",
   "execution_count": 12,
   "metadata": {},
   "outputs": [
    {
     "data": {
      "text/html": [
       "<div>\n",
       "<style scoped>\n",
       "    .dataframe tbody tr th:only-of-type {\n",
       "        vertical-align: middle;\n",
       "    }\n",
       "\n",
       "    .dataframe tbody tr th {\n",
       "        vertical-align: top;\n",
       "    }\n",
       "\n",
       "    .dataframe thead th {\n",
       "        text-align: right;\n",
       "    }\n",
       "</style>\n",
       "<table border=\"1\" class=\"dataframe\">\n",
       "  <thead>\n",
       "    <tr style=\"text-align: right;\">\n",
       "      <th></th>\n",
       "      <th>Sponsor</th>\n",
       "      <th>TADIG</th>\n",
       "    </tr>\n",
       "  </thead>\n",
       "  <tbody>\n",
       "    <tr>\n",
       "      <th>129</th>\n",
       "      <td>P4_All</td>\n",
       "      <td>CYPSC</td>\n",
       "    </tr>\n",
       "    <tr>\n",
       "      <th>3423</th>\n",
       "      <td>P4_Combined</td>\n",
       "      <td>CYPSC</td>\n",
       "    </tr>\n",
       "    <tr>\n",
       "      <th>3658</th>\n",
       "      <td>P4_Dialoq_ALL</td>\n",
       "      <td>CYPSC</td>\n",
       "    </tr>\n",
       "    <tr>\n",
       "      <th>3863</th>\n",
       "      <td>P4_RUSEC_Com</td>\n",
       "      <td>CYPSC</td>\n",
       "    </tr>\n",
       "    <tr>\n",
       "      <th>3261</th>\n",
       "      <td>P4_STI_Comb</td>\n",
       "      <td>CYPSC</td>\n",
       "    </tr>\n",
       "    <tr>\n",
       "      <th>231</th>\n",
       "      <td>P4_WeStream</td>\n",
       "      <td>CYPSC</td>\n",
       "    </tr>\n",
       "  </tbody>\n",
       "</table>\n",
       "</div>"
      ],
      "text/plain": [
       "            Sponsor  TADIG\n",
       "129          P4_All  CYPSC\n",
       "3423    P4_Combined  CYPSC\n",
       "3658  P4_Dialoq_ALL  CYPSC\n",
       "3863   P4_RUSEC_Com  CYPSC\n",
       "3261    P4_STI_Comb  CYPSC\n",
       "231     P4_WeStream  CYPSC"
      ]
     },
     "metadata": {},
     "output_type": "display_data"
    },
    {
     "data": {
      "text/html": [
       "<div>\n",
       "<style scoped>\n",
       "    .dataframe tbody tr th:only-of-type {\n",
       "        vertical-align: middle;\n",
       "    }\n",
       "\n",
       "    .dataframe tbody tr th {\n",
       "        vertical-align: top;\n",
       "    }\n",
       "\n",
       "    .dataframe thead th {\n",
       "        text-align: right;\n",
       "    }\n",
       "</style>\n",
       "<table border=\"1\" class=\"dataframe\">\n",
       "  <thead>\n",
       "    <tr style=\"text-align: right;\">\n",
       "      <th></th>\n",
       "      <th>Operator</th>\n",
       "      <th>Prefix</th>\n",
       "      <th>Number/Range</th>\n",
       "      <th>SSN</th>\n",
       "      <th>MCC</th>\n",
       "      <th>MNC</th>\n",
       "    </tr>\n",
       "  </thead>\n",
       "  <tbody>\n",
       "    <tr>\n",
       "      <th>1329</th>\n",
       "      <td>CYPSC</td>\n",
       "      <td>35796</td>\n",
       "      <td>1</td>\n",
       "      <td>149</td>\n",
       "      <td>280</td>\n",
       "      <td>10</td>\n",
       "    </tr>\n",
       "    <tr>\n",
       "      <th>3642</th>\n",
       "      <td>CYPSC</td>\n",
       "      <td>3579696700</td>\n",
       "      <td>0</td>\n",
       "      <td>7</td>\n",
       "      <td>280</td>\n",
       "      <td>10</td>\n",
       "    </tr>\n",
       "    <tr>\n",
       "      <th>4983</th>\n",
       "      <td>CYPSC</td>\n",
       "      <td>35796</td>\n",
       "      <td>1</td>\n",
       "      <td>7</td>\n",
       "      <td>280</td>\n",
       "      <td>10</td>\n",
       "    </tr>\n",
       "    <tr>\n",
       "      <th>8877</th>\n",
       "      <td>CYPSC</td>\n",
       "      <td>3579696700</td>\n",
       "      <td>0</td>\n",
       "      <td>149</td>\n",
       "      <td>280</td>\n",
       "      <td>10</td>\n",
       "    </tr>\n",
       "    <tr>\n",
       "      <th>10135</th>\n",
       "      <td>CYPSC</td>\n",
       "      <td>35796967000</td>\n",
       "      <td>0</td>\n",
       "      <td>1</td>\n",
       "      <td>280</td>\n",
       "      <td>10</td>\n",
       "    </tr>\n",
       "  </tbody>\n",
       "</table>\n",
       "</div>"
      ],
      "text/plain": [
       "      Operator       Prefix  Number/Range  SSN  MCC  MNC\n",
       "1329     CYPSC        35796             1  149  280   10\n",
       "3642     CYPSC   3579696700             0    7  280   10\n",
       "4983     CYPSC        35796             1    7  280   10\n",
       "8877     CYPSC   3579696700             0  149  280   10\n",
       "10135    CYPSC  35796967000             0    1  280   10"
      ]
     },
     "metadata": {},
     "output_type": "display_data"
    }
   ],
   "source": [
    "plmn = 'CYPSC'\n",
    "df1 = df_al.loc[(df_al['TADIG'].str.startswith(plmn, na=False)) &\n",
    "          (df_al['Sponsor'].str.contains('', na=False)), ['Sponsor','TADIG']].sort_values(by=['Sponsor','TADIG'])\n",
    "df2 = df_np[(df_np.Operator.str.startswith(plmn,na=False))] #.to_csv(join(downloads,'Prefix.csv')) # & (df_np.SSN==7)\n",
    "display(df1)\n",
    "display(df2)"
   ]
  },
  {
   "cell_type": "code",
   "execution_count": 379,
   "metadata": {},
   "outputs": [
    {
     "data": {
      "text/html": [
       "<div>\n",
       "<style scoped>\n",
       "    .dataframe tbody tr th:only-of-type {\n",
       "        vertical-align: middle;\n",
       "    }\n",
       "\n",
       "    .dataframe tbody tr th {\n",
       "        vertical-align: top;\n",
       "    }\n",
       "\n",
       "    .dataframe thead th {\n",
       "        text-align: right;\n",
       "    }\n",
       "</style>\n",
       "<table border=\"1\" class=\"dataframe\">\n",
       "  <thead>\n",
       "    <tr style=\"text-align: right;\">\n",
       "      <th></th>\n",
       "      <th>Operator</th>\n",
       "      <th>Prefix</th>\n",
       "      <th>Number/Range</th>\n",
       "      <th>SSN</th>\n",
       "      <th>MCC</th>\n",
       "      <th>MNC</th>\n",
       "    </tr>\n",
       "  </thead>\n",
       "  <tbody>\n",
       "  </tbody>\n",
       "</table>\n",
       "</div>"
      ],
      "text/plain": [
       "Empty DataFrame\n",
       "Columns: [Operator, Prefix, Number/Range, SSN, MCC, MNC]\n",
       "Index: []"
      ]
     },
     "execution_count": 379,
     "metadata": {},
     "output_type": "execute_result"
    }
   ],
   "source": [
    "str(df_np[(df_np.Prefix.str.startswith('6683',na=False))].Prefix.unique().tolist())\n",
    "df_np[(df_np.Prefix.str.startswith('6688888',na=False))]"
   ]
  },
  {
   "cell_type": "markdown",
   "metadata": {},
   "source": [
    "### Hex to Dec conversion"
   ]
  },
  {
   "cell_type": "code",
   "execution_count": null,
   "metadata": {},
   "outputs": [],
   "source": []
  },
  {
   "cell_type": "code",
   "execution_count": 130,
   "metadata": {},
   "outputs": [
    {
     "name": "stdout",
     "output_type": "stream",
     "text": [
      "Hex to dec\n",
      "4466\n",
      "Dec to hex\n",
      "0X7AA\n",
      "7AA\n",
      "Dec to bin\n",
      "11110101010\n",
      "Bin to dec\n",
      "10\n",
      "Hex to bin\n",
      "1000101110010\n",
      "0b1010101111000001001000111110111111111111\n"
     ]
    },
    {
     "data": {
      "text/plain": [
       "'0000000010101011'"
      ]
     },
     "execution_count": 130,
     "metadata": {},
     "output_type": "execute_result"
    }
   ],
   "source": [
    "hex_str = '1172'\n",
    "dec_str = '2505'\n",
    "dec_int = 1962\n",
    "bin_str = '1010'\n",
    "\n",
    "# Hex to dec\n",
    "print('Hex to dec')\n",
    "print(int(hex_str,16))\n",
    "\n",
    "# Dec to hex\n",
    "print('Dec to hex')\n",
    "print(hex(dec_int).upper())\n",
    "print('%x'.upper() % dec_int)\n",
    "\n",
    "# Dec to bin\n",
    "print('Dec to bin')\n",
    "print(bin(dec_int)[2:].zfill(8))\n",
    "\n",
    "# Bin to dec\n",
    "print('Bin to dec')\n",
    "print(int(bin_str,2))\n",
    "\n",
    "# Hex to bin\n",
    "print('Hex to bin')\n",
    "print(bin(int(hex_str, 16))[2:].zfill(8))\n",
    "print(bin(0xABC123EFFF))\n",
    "f'{0xAB:0>16b}'"
   ]
  },
  {
   "cell_type": "code",
   "execution_count": 188,
   "metadata": {},
   "outputs": [
    {
     "data": {
      "text/plain": [
       "'0b10 - 0b111101 - 0b110'"
      ]
     },
     "execution_count": 188,
     "metadata": {},
     "output_type": "execute_result"
    }
   ],
   "source": [
    "f'{bin(2)} - {bin(61)} - {bin(6)}'\n",
    "#2.61.6"
   ]
  },
  {
   "cell_type": "code",
   "execution_count": 186,
   "metadata": {},
   "outputs": [
    {
     "name": "stdout",
     "output_type": "stream",
     "text": [
      "0b10101010100011\n",
      "5 - 84 - 3\n"
     ]
    }
   ],
   "source": [
    "print(bin(10915))\n",
    "a = '10101010100011'\n",
    "# = '00000011001101'\n",
    "print(int(a[-14:-11],2),'-',int(a[-11:-3],2),'-',int(a[-3:],2) )"
   ]
  },
  {
   "cell_type": "markdown",
   "metadata": {},
   "source": [
    "### Rename files"
   ]
  },
  {
   "cell_type": "code",
   "execution_count": null,
   "metadata": {},
   "outputs": [],
   "source": [
    "import os\n",
    "import re\n",
    "path = 'c:/Users/balob/Downloads/new1/'\n",
    "prefix = 'PYCON'\n",
    "topic = ''\n",
    "os.chdir(path)\n",
    "names = sorted(filter(os.path.isfile, os.listdir('.')), key=os.path.getmtime)\n",
    "for i,name in enumerate(names):\n",
    "    short_name = re.sub('[!#?«»,() \\+\\-؟]','',name[:-4:][:50])\n",
    "    if i < 10:\n",
    "        number = '0'+str(i)\n",
    "    else:\n",
    "        number = str(i)\n",
    "    new_name = '{}_{}_{}.mp4'.format(prefix,number,short_name)\n",
    "    print('{} -> {}'.format(name,new_name))\n",
    "    os.rename(name,new_name)"
   ]
  },
  {
   "cell_type": "markdown",
   "metadata": {},
   "source": [
    "### Чтение логов с удаленного сервера SFTP (stat_GrayLog.log)"
   ]
  },
  {
   "cell_type": "code",
   "execution_count": 86,
   "metadata": {},
   "outputs": [
    {
     "name": "stdout",
     "output_type": "stream",
     "text": [
      "0 2019-01-24 05:00:45,431 - ss7_stat - INFO - rep_ss7_sqlite_db_py2. End. Total elapsed time 0:00:43.978321\n",
      "8 2019-01-23 05:00:47,552 - ss7_stat - INFO - rep_ss7_sqlite_db_py2. End. Total elapsed time 0:00:45.941926\n",
      "16 2019-01-22 05:00:49,749 - ss7_stat - INFO - rep_ss7_sqlite_db_py2. End. Total elapsed time 0:00:45.060281\n",
      "24 2019-01-21 05:00:49,224 - ss7_stat - INFO - rep_ss7_sqlite_db_py2. End. Total elapsed time 0:00:44.623832\n",
      "32 2019-01-20 05:00:47,066 - ss7_stat - INFO - rep_ss7_sqlite_db_py2. End. Total elapsed time 0:00:45.239989\n",
      "40 2019-01-19 05:00:45,864 - ss7_stat - INFO - rep_ss7_sqlite_db_py2. End. Total elapsed time 0:00:43.761820\n",
      "48 2019-01-18 05:00:46,195 - ss7_stat - INFO - rep_ss7_sqlite_db_py2. End. Total elapsed time 0:00:43.864928\n"
     ]
    }
   ],
   "source": [
    "import paramiko\n",
    "print_lines = 50\n",
    "host = '172.19.11.191'\n",
    "user = 'pavel'\n",
    "secret = 'RzAZPjMjvujCPjU88bpevQp'\n",
    "file_path_name = '/home/tracer/LOG/stat_GrayLog.log'\n",
    "port = 22\n",
    "client = paramiko.SSHClient()\n",
    "client.set_missing_host_key_policy(paramiko.AutoAddPolicy())\n",
    "client.connect(hostname=host, username=user, password=secret, port=port)\n",
    "sftp_client = client.open_sftp()\n",
    "remote_file = sftp_client.open(file_path_name)\n",
    "try:\n",
    "    #for line in remote_file:\n",
    "    for i,line in enumerate(reversed(list(remote_file))):\n",
    "        if i < print_lines:\n",
    "            if 'Total' in line:\n",
    "                print(i,line,end='')\n",
    "            #print(i,line,end='')\n",
    "        else:\n",
    "            break\n",
    "finally:\n",
    "    remote_file.close()\n",
    "client.close()\n",
    "# (https://stackoverflow.com/questions/1596963/read-a-file-from-server-with-ssh-using-python)"
   ]
  },
  {
   "cell_type": "markdown",
   "metadata": {},
   "source": [
    "### Pricing counting"
   ]
  },
  {
   "cell_type": "code",
   "execution_count": 192,
   "metadata": {},
   "outputs": [
    {
     "name": "stdout",
     "output_type": "stream",
     "text": [
      "Price P4\n",
      "Price 1.2            : [1.8, 0.0, 0.3, 8.844]\n",
      "Price 1.2*1.5        : [2.7, 0.0, 0.45, 13.266]\n",
      "Price 1.2*1.5*1.15   : [3.105, 0.0, 0.5175, 15.2559]\n",
      "Price 1.2*1.5*1.30   : [3.51, 0.0, 0.585, 17.2458]\n",
      "Price 2              : [3.6, 0.0, 0.6, 17.688]\n",
      "\n",
      "Price Partner\n",
      "Price 1.5            : [2.25, 0.0, 0.375, 11.055]\n",
      "Price 1.5*1.15       : [2.5875, 0.0, 0.43125, 12.71325]\n",
      "Price 1.5*1.30       : [2.925, 0.0, 0.4875, 14.3715]\n",
      "Price 2              : [3.0, 0, 0.5, 14.74]\n"
     ]
    }
   ],
   "source": [
    "moc=1.5\n",
    "mtc=0\n",
    "text=0.25\n",
    "data=7.37\n",
    "\n",
    "tariff=[moc,mtc,text,data]\n",
    "\n",
    "print(\"Price P4\")\n",
    "for k,v in {'1.2':1.2,'1.2*1.5':1.2*1.5,'1.2*1.5*1.15':1.2*1.5*1.15,'1.2*1.5*1.30':1.2*1.5*1.30,'2':1.2*2}.items():\n",
    "    print(\"Price {:<15}:\".format(k),[round(i*v,6) for i in tariff])\n",
    "print(\"\\nPrice Partner\")\n",
    "for k,v in {'1.5':1.5,'1.5*1.15':1.5*1.15,'1.5*1.30':1.5*1.30,'2':2}.items():\n",
    "    print(\"Price {:<15}:\".format(k),[round(i*v,6) for i in tariff])"
   ]
  },
  {
   "cell_type": "markdown",
   "metadata": {},
   "source": [
    "## Testing"
   ]
  },
  {
   "cell_type": "code",
   "execution_count": null,
   "metadata": {},
   "outputs": [],
   "source": [
    "import requests\n",
    "#payload = {'key1':'value1','key2':'value2'}\n",
    "#r = requests.get('http://192.168.1.44:80/climate;sensor=1&readattempt=10&temperature=nan&humidity=nan')\n",
    "r = requests.get('http://192.168.1.44:80/climate;sensor=1&readattempt=10&temperature=10.0&humidity=10.0')\n",
    "#r = requests.get('http://192.168.1.53:80/connected;IpAddr=192.168.1.63')\n",
    "print('Status: ',r.status_code,'\\n',r.text)\n",
    "r.close()"
   ]
  },
  {
   "cell_type": "code",
   "execution_count": 160,
   "metadata": {},
   "outputs": [
    {
     "name": "stdout",
     "output_type": "stream",
     "text": [
      "PDU SQN: 2\n"
     ]
    }
   ],
   "source": [
    "import smpplib\n",
    "import smpplib.gsm\n",
    "client = None\n",
    "#parts, encoding_flag, msg_type_flag = smpplib.gsm.make_parts(u'Hello world!')\n",
    "parts, encoding_flag, msg_type_flag = smpplib.gsm.make_parts(u'''\n",
    "Test!\n",
    "''')\n",
    "\n",
    "client = smpplib.client.Client('176.10.126.173', 2770)\n",
    "client.connect()\n",
    "client.bind_transceiver(system_id='test', password='test')\n",
    "for part in parts:\n",
    "    pdu = client.send_message(\n",
    "        source_addr_ton=smpplib.consts.SMPP_TON_INTL,\n",
    "        #source_addr_npi=smpplib.consts.SMPP_NPI_ISDN,\n",
    "        # Make sure it is a byte string, not unicode:\n",
    "        source_addr='97254120000',\n",
    "        dest_addr_ton=smpplib.consts.SMPP_TON_INTL,\n",
    "        #dest_addr_npi=smpplib.consts.SMPP_NPI_ISDN,\n",
    "        # Make sure thease two params are byte strings, not unicode:\n",
    "        destination_addr='447781505034',\n",
    "        short_message=part,\n",
    "        data_coding=encoding_flag,\n",
    "        esm_class=msg_type_flag,\n",
    "        registered_delivery=True,)\n",
    "    print(f'PDU SQN: {pdu.sequence}')\n",
    "client.unbind()\n",
    "client.unbind()\n",
    "client.disconnect()"
   ]
  },
  {
   "cell_type": "code",
   "execution_count": 39,
   "metadata": {},
   "outputs": [
    {
     "name": "stdout",
     "output_type": "stream",
     "text": [
      "200\n",
      "\"OK\"\n",
      "200\n",
      "\"OK\"\n",
      "200\n",
      "\"OK\"\n",
      "200\n",
      "\"OK\"\n"
     ]
    }
   ],
   "source": [
    "import requests\n",
    "ip_addr = '192.168.1.52'\n",
    "port = 80\n",
    "url_01 = f'http://{ip_addr}:{port}/climate;sensor=1&readattempt=10&temperature=25.0&humidity=35.0'\n",
    "url_02 = f'http://{ip_addr}:{port}/climate;sensor=4&readattempt=10&temperature=25.0&humidity=35.0'\n",
    "url_03 = f'http://{ip_addr}:{port}/gas;sensor=2&sensorValue=666'\n",
    "url_04 = f'http://{ip_addr}:{port}/motion;sensor=3'\n",
    "for url in [url_01, url_02, url_03, url_04]:\n",
    "    r = requests.get(url)\n",
    "    print(r.status_code)\n",
    "    print(r.text.strip())"
   ]
  },
  {
   "cell_type": "code",
   "execution_count": 8,
   "metadata": {},
   "outputs": [
    {
     "name": "stdout",
     "output_type": "stream",
     "text": [
      "(293,)\n"
     ]
    }
   ],
   "source": [
    "import cx_Oracle\n",
    "con = cx_Oracle.connect('DMI/dd607605ce341@DMI_TEST')\n",
    "print(con.version)\n",
    "cur = con.cursor()\n",
    "cur.execute('SELECT COUNT(*) FROM S_IMSI')\n",
    "for result in cur:\n",
    "    print(result)\n",
    "cur.close()\n",
    "con.close()"
   ]
  },
  {
   "cell_type": "code",
   "execution_count": 586,
   "metadata": {},
   "outputs": [
    {
     "data": {
      "text/plain": [
       "1000000"
      ]
     },
     "execution_count": 586,
     "metadata": {},
     "output_type": "execute_result"
    }
   ],
   "source": [
    "260060169999999 - 260060169000000 + 1"
   ]
  },
  {
   "cell_type": "code",
   "execution_count": null,
   "metadata": {},
   "outputs": [],
   "source": []
  },
  {
   "cell_type": "code",
   "execution_count": null,
   "metadata": {},
   "outputs": [],
   "source": []
  },
  {
   "cell_type": "code",
   "execution_count": null,
   "metadata": {},
   "outputs": [],
   "source": []
  },
  {
   "cell_type": "code",
   "execution_count": null,
   "metadata": {},
   "outputs": [],
   "source": []
  },
  {
   "cell_type": "code",
   "execution_count": null,
   "metadata": {},
   "outputs": [],
   "source": []
  },
  {
   "cell_type": "code",
   "execution_count": 320,
   "metadata": {},
   "outputs": [],
   "source": []
  },
  {
   "cell_type": "code",
   "execution_count": 28,
   "metadata": {},
   "outputs": [],
   "source": [
    "%reset -f"
   ]
  }
 ],
 "metadata": {
  "kernelspec": {
   "display_name": "Python 3",
   "language": "python",
   "name": "python3"
  },
  "language_info": {
   "codemirror_mode": {
    "name": "ipython",
    "version": 3
   },
   "file_extension": ".py",
   "mimetype": "text/x-python",
   "name": "python",
   "nbconvert_exporter": "python",
   "pygments_lexer": "ipython3",
   "version": "3.6.3"
  }
 },
 "nbformat": 4,
 "nbformat_minor": 2
}
