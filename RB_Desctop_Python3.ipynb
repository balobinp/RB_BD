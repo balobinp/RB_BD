{
 "cells": [
  {
   "cell_type": "code",
   "execution_count": null,
   "metadata": {},
   "outputs": [],
   "source": [
    "from IPython.display import HTML\n",
    "HTML('''<script>\n",
    "code_show=true; \n",
    "function code_toggle() {\n",
    " if (code_show){\n",
    " $('div.input').hide();\n",
    " } else {\n",
    " $('div.input').show();\n",
    " }\n",
    " code_show = !code_show\n",
    "} \n",
    "$( document ).ready(code_toggle);\n",
    "</script>\n",
    "<form action=\"javascript:code_toggle()\"><input type=\"submit\" value=\"Click here to toggle on/off the raw code.\"></form>''')"
   ]
  },
  {
   "cell_type": "markdown",
   "metadata": {},
   "source": [
    "# Libraries and functions"
   ]
  },
  {
   "cell_type": "code",
   "execution_count": 1,
   "metadata": {},
   "outputs": [],
   "source": [
    "import numpy as np\n",
    "import pandas as pd\n",
    "import pandasql as ps\n",
    "from pandas import Series, DataFrame\n",
    "import datetime as dt\n",
    "import matplotlib.pyplot as plt\n",
    "# import matplotlib as mpl\n",
    "import sys\n",
    "import time\n",
    "import math\n",
    "from tqdm import tqdm\n",
    "from importlib import reload\n",
    "from os.path import join, normpath\n",
    "from bs4 import BeautifulSoup\n",
    "import os\n",
    "from os import path\n",
    "import roamability as rb\n",
    "import re\n",
    "\n",
    "downloads = 'C:/Users/balob/Downloads'"
   ]
  },
  {
   "cell_type": "code",
   "execution_count": 99,
   "metadata": {},
   "outputs": [],
   "source": [
    "%reset -f"
   ]
  },
  {
   "cell_type": "markdown",
   "metadata": {},
   "source": [
    "# Examples"
   ]
  },
  {
   "cell_type": "markdown",
   "metadata": {},
   "source": [
    "### MS SQL request"
   ]
  },
  {
   "cell_type": "code",
   "execution_count": 208,
   "metadata": {},
   "outputs": [],
   "source": [
    "sql_srt='SELECT COUNT(*) FROM ACCOUNTS;'\n",
    "with rb.MssqlConnect('172.18.11.82', '10028', 'BSS', 'iKQVm40AZAmyRaw72LeY') as cnxn:\n",
    "    df = pd.read_sql_query(sql_srt, cnxn, coerce_float=False)"
   ]
  },
  {
   "cell_type": "markdown",
   "metadata": {},
   "source": [
    "### DMI Oracle request"
   ]
  },
  {
   "cell_type": "code",
   "execution_count": 211,
   "metadata": {},
   "outputs": [],
   "source": [
    "sql_srt = 'SELECT * FROM SPONSOR'\n",
    "# with rb.OracleConnect('DMI', 'dd607605ce341', 'DMI_TEST') as cnxn:\n",
    "with rb.OracleConnect('DMI', 'dd607605ce341', 'DMI') as cnxn:\n",
    "    df = pd.read_sql_query(sql_srt, cnxn, coerce_float=False)"
   ]
  },
  {
   "cell_type": "markdown",
   "metadata": {},
   "source": [
    "### BSS MySql request"
   ]
  },
  {
   "cell_type": "code",
   "execution_count": 1096,
   "metadata": {},
   "outputs": [
    {
     "data": {
      "text/html": [
       "<div>\n",
       "<style scoped>\n",
       "    .dataframe tbody tr th:only-of-type {\n",
       "        vertical-align: middle;\n",
       "    }\n",
       "\n",
       "    .dataframe tbody tr th {\n",
       "        vertical-align: top;\n",
       "    }\n",
       "\n",
       "    .dataframe thead th {\n",
       "        text-align: right;\n",
       "    }\n",
       "</style>\n",
       "<table border=\"1\" class=\"dataframe\">\n",
       "  <thead>\n",
       "    <tr style=\"text-align: right;\">\n",
       "      <th></th>\n",
       "      <th>MSISDN</th>\n",
       "      <th>VisitedNetworkTadig</th>\n",
       "    </tr>\n",
       "  </thead>\n",
       "  <tbody>\n",
       "    <tr>\n",
       "      <td>0</td>\n",
       "      <td>447700095423</td>\n",
       "      <td>BRAV1</td>\n",
       "    </tr>\n",
       "    <tr>\n",
       "      <td>1</td>\n",
       "      <td>972541033641</td>\n",
       "      <td>BRAV1</td>\n",
       "    </tr>\n",
       "    <tr>\n",
       "      <td>2</td>\n",
       "      <td>972541039874</td>\n",
       "      <td>BRAV1</td>\n",
       "    </tr>\n",
       "    <tr>\n",
       "      <td>3</td>\n",
       "      <td>972541033641</td>\n",
       "      <td>BRAV1</td>\n",
       "    </tr>\n",
       "    <tr>\n",
       "      <td>4</td>\n",
       "      <td>447700095423</td>\n",
       "      <td>BRAV1</td>\n",
       "    </tr>\n",
       "  </tbody>\n",
       "</table>\n",
       "</div>"
      ],
      "text/plain": [
       "         MSISDN VisitedNetworkTadig\n",
       "0  447700095423               BRAV1\n",
       "1  972541033641               BRAV1\n",
       "2  972541039874               BRAV1\n",
       "3  972541033641               BRAV1\n",
       "4  447700095423               BRAV1"
      ]
     },
     "execution_count": 1096,
     "metadata": {},
     "output_type": "execute_result"
    }
   ],
   "source": [
    "sql_srt='SELECT MSISDN, VisitedNetworkTadig FROM TAP.GPRS_CALL LIMIT 5'\n",
    "with rb.MySqlConnect('172.18.11.40', 'BSS', 'noc', 'WcQUzkXiXwoxnFfGnRxb') as cnxn:\n",
    "    df = pd.read_sql_query(sql_srt, cnxn)\n",
    "df"
   ]
  },
  {
   "cell_type": "markdown",
   "metadata": {},
   "source": [
    "### Soap API OCS Portal"
   ]
  },
  {
   "cell_type": "code",
   "execution_count": 457,
   "metadata": {},
   "outputs": [
    {
     "name": "stdout",
     "output_type": "stream",
     "text": [
      "Choose connection (prod or lab):lab\n",
      "You are connected to Reseller: Genesisclub RT.    \n",
      "Available credit for the Reseller: 2 USD.\n",
      "\n",
      "The Reseller contains the following accounts:\n",
      " 0    Genesisclub Test sim cards (accountID: 352475)\n"
     ]
    }
   ],
   "source": [
    "# %reset -f\n",
    "from zeep import Client\n",
    "from zeep.wsse.username import UsernameToken\n",
    "\n",
    "connect = input(\"Choose connection (prod or lab):\")\n",
    "\n",
    "if connect == 'lab':\n",
    "    user = 'lab_api@roamability.com'\n",
    "    user = 'api_lab@dialoq.com'\n",
    "    password = '25D55AD283AA400AF464C76D713C07AD' #Lab\n",
    "    password = 'FAC4EC08B5FC0CCF8145BB79E8F24F47' #Lab\n",
    "    api_link = 'https://172.20.39.7:8585/ocsapi/roamability/api/roamability.wsdl' #Lab\n",
    "    api_link = 'https://labocsapi.roamability.com:6443/ocsapi/roamability/api/roamability.wsdl'\n",
    "    api_link = 'http://172.20.39.7:8585/ocsapi/roamability/api/roamability.wsdl' #Lab\n",
    "elif connect == 'prod':\n",
    "    user = 'prod_api@roamability.com'\n",
    "    password = '25D55AD283AA400AF464C76D713C07AD'\n",
    "    api_link = 'https://ocsapi.roamability.com:7443/ocsapi/roamability/api/roamability.wsdl'\n",
    "#     api_link = 'https://ocsapi.roamability.com/ocsapi/roamability/api/roamability.wsdl'\n",
    "#     api_link = 'https://ocsapi.roamability.com:7443/ocsapi/roamability/api/'\n",
    "#     api_link = 'https://ocsapi2.roamability.com:7443/ocsapi/roamability/api/roamability.wsdl'\n",
    "#     api_link = 'http://172.20.35.10:8585/ocsapi/roamability/api/roamability.wsdl'\n",
    "#     api_link = 'http://172.20.35.12:8585/ocsapi/roamability/api/roamability.wsdl'\n",
    "\n",
    "user_name_token = UsernameToken(user, password)\n",
    "user_name_token.use_digest = True\n",
    "client = Client(api_link, wsse=user_name_token)\n",
    "\n",
    "reseller = client.service.getResellerInfo()\n",
    "accounts = client.service.getAccounts()\n",
    "\n",
    "if reseller.result.code == '1':\n",
    "    print('You are connected to Reseller: {}.\\\n",
    "    \\nAvailable credit for the Reseller: {:.0f} USD.\\n'.\\\n",
    "    format(reseller.reseller.resellerName,reseller.reseller.availableCredit))\n",
    "else:\n",
    "    print('Error in getting Reseller info: {}'.format(reseller.result.description))\n",
    "\n",
    "if accounts.result.code == '1':\n",
    "    accounts_dict = {account.accountId:account.accountName for account in accounts.accounts.accounts}\n",
    "    print('The Reseller contains the following accounts:')\n",
    "    for i,[account_id,account_name] in enumerate(accounts_dict.items()):\n",
    "        print(' {:<5}{} (accountID: {})'.format(i,account_name,account_id))\n",
    "else:\n",
    "    print('Error in getting Account info: {}'.format(accounts.result.description))\n",
    "\n",
    "# Subscriber in lab in STI account\n",
    "#subscriber_id = client.service.getSubscriberById('934420')\n",
    "#subscriber_iccid = client.service.getSubscriberByICCID('8997219121000031446')\n",
    "# client.service.getSubscriberPrePaidPackages('831882', 1)\n",
    "#client.service.getSubscriberByIMSI('425019613023160')\n",
    "#client.service.getSubscriberById('209287')\n",
    "#client.service.getSubscriberByICCID('8997219121000022660')\n",
    "# client.service.assignSubscriberPrePaidPackage('831882', 1, dt.datetime.strptime('2019-07-07','%Y-%m-%d'))\n",
    "# client.service.getSubscriberPrePaidPackages('937939', 1)\n",
    "# client.service.expireSubscriberPrePaidPackage(1848972,60311)\n",
    "# client.service.getSubscriberPrePaidPackages(1848972,1)\n",
    "# prices = client.service.getMobilePrices() # prices.destinations[0]\n",
    "# client.service.getPricingPlans()\n",
    "# client.service.modifySubscriberSpeedLimit(1449606, '256kbps')\n",
    "# client.service.modifySubscriberSpeedLimit(210000, '1024kbps') # lab\n",
    "#subscriber_id"
   ]
  },
  {
   "cell_type": "code",
   "execution_count": 301,
   "metadata": {},
   "outputs": [],
   "source": [
    "# client.service.getSubscriberById(934420)\n",
    "# client.service.modifySubscriberSpeedLimit(934420, '1024kbps') # lab"
   ]
  },
  {
   "cell_type": "markdown",
   "metadata": {},
   "source": [
    "### Send MSU"
   ]
  },
  {
   "cell_type": "code",
   "execution_count": 230,
   "metadata": {},
   "outputs": [
    {
     "name": "stdout",
     "output_type": "stream",
     "text": [
      "Greetings from Roamability!!! \n",
      "\n"
     ]
    }
   ],
   "source": [
    "from bs4 import BeautifulSoup\n",
    "import roamability as rb\n",
    "#reload(rb)\n",
    "\n",
    "# add_imsi = '02700000370d00210000bfff010000000000007056d7a52e5fcef694ab2c069c00df34b084853aa0a2bf02195723f978ba96ba8b3a4a28b4df531cfe'\n",
    "# get_info    = \"24027000001F0D00010000BFFF01000000000000102F978372C730834EF445172BD26B8C8F\"\n",
    "# get_info    = \"027000001F0D00010000BFFF01000000000000102F978372C730834EF445172BD26B8C8F\"\n",
    "# get_info_mo = \"027000001F0D00210000BFFF01000000000000102F978372C730834EF445172BD26B8C8F\"\n",
    "# switch_01_payload = '027000001f0d00010000bfff0100000000000010554f212dbbad49a1caf2573e1a626139'\n",
    "# switch_02_payload = '027000001F0D00010000BFFF0100000000000040a740AD174703383798A7A6545BB36491'\n",
    "\n",
    "switch_01_payload = '24027000001f0d00010000bfff0100000000000010554f212dbbad49a1caf2573e1a626139'\n",
    "switch_02_payload = '24027000001F0D00010000BFFF0100000000000040a740AD174703383798A7A6545BB36491'\n",
    "\n",
    "#515030190000000\n",
    "#1d46acf860780\n",
    "add_imsi_03 = '3C02700000370d00210000bfff0100000000000040939360c23f417f147557b6940c91ba8b7e54be1c8c950a6ed1235ea8e3d70e9c2d7c34876abd68ec'\n",
    "\n",
    "\n",
    "ogt = {'p4':'48790993070',\n",
    "       'partner':'97254120624',\n",
    "       'sure':'447797706411',\n",
    "       'tot':'66893773228',\n",
    "       'porto_seguro':'550549900000',\n",
    "       'rusec_rus':'79028710069',\n",
    "       'rusec_int':'417999880000024',\n",
    "       'multi_byte_sponsor':'85263347864',\n",
    "       'smart1':'639180009880',\n",
    "       'smart2':'639180009881',\n",
    "       'smart3':'639180009882',\n",
    "       'smart4':'639180009883',\n",
    "       'telzar':'972559900040',\n",
    "       'x2one':'972553316228', #972553316240 -972553316245\n",
    "       'cellact':'972557016315',\n",
    "       'netmore':'46731726312',\n",
    "       'p4_naka_01':'48790998145',\n",
    "       'p4_naka_02':'48790998146',\n",
    "       'p4_naka_03':'48790998147',\n",
    "       'partner_naka_01':'97254120634',\n",
    "       'partner_naka_02':'97254120635',\n",
    "       'partner_naka_03':'97254120636',\n",
    "       'partner_naka_04':'97254120637',\n",
    "       'mb':'852633477591',\n",
    "       'maxcom':'525575709019',\n",
    "       'orange':'48507909001',\n",
    "       'jt':'447797707084',\n",
    "       'tcom':'359999320032',\n",
    "       'volna':'79785569998',\n",
    "       'surf_test':'550170002133',\n",
    "       'surf_prod':'550170000133',\n",
    "       'Volna':'79785750017'}\n",
    "\n",
    "rb.greetings_func()\n",
    "#rb.print_imsi_prof(ogt, imsi, msc, 'as_resp') #'as_mo'\n",
    "#soup = BeautifulSoup(rb.sri4sm(ogt, msisdn),'xml') #250359000007598 79028710043\n",
    "#soup = BeautifulSoup(rb.prn(ogt, dgt, imsi),'xml')\n",
    "#soup = BeautifulSoup(rb.sai(ogt, dgt, imsi, node),'xml') # 0 - vlr; 16 - mme\n",
    "# soup = BeautifulSoup(rb.sendSMS(ogt, imsi, msc, rb.get_info),'xml')\n",
    "#soup = BeautifulSoup(rb.cl(ogt, dgt, imsi, d_ssn=7),'xml')\n",
    "# rb.print_imsi_prof('48790993070', '260060148993323', '46708000031', 'as_resp') #'as_mo' 'as_resp'\n",
    "# soup = BeautifulSoup(sendSMS(ogt['orange'], '260036610000004', '79639743781', rb.get_info),'xml')\n",
    "# rb.decode_payload_response(soup.response.text)\n",
    "# soup = BeautifulSoup(psi('97254120624', '425120000003499', '972571209920', add_imsi),'xml') #250359000007598 79028710043\n",
    "#soup"
   ]
  },
  {
   "cell_type": "code",
   "execution_count": 575,
   "metadata": {},
   "outputs": [
    {
     "data": {
      "text/plain": [
       "<?xml version=\"1.0\" encoding=\"utf-8\"?>\n",
       "<response>\n",
       "<result>0</result>\n",
       "<src_gt>447785012630</src_gt>\n",
       "</response>"
      ]
     },
     "execution_count": 575,
     "metadata": {},
     "output_type": "execute_result"
    }
   ],
   "source": [
    "# soup = BeautifulSoup(rb.cl('48790993070', '46708000031', '260060148993323', d_ssn=7),'xml')\n",
    "soup = BeautifulSoup(rb.cl('97254120624', '447785012630', '425019610499426', d_ssn=149),'xml')\n",
    "soup"
   ]
  },
  {
   "cell_type": "code",
   "execution_count": 33,
   "metadata": {},
   "outputs": [
    {
     "name": "stdout",
     "output_type": "stream",
     "text": [
      "This SIM card contains the following IMSIs:\n",
      "Slot 0 334110120000013\n"
     ]
    }
   ],
   "source": [
    "# reload(rb)\n",
    "s = '00350abfff0100000000000000fffffff00001070052f0200000003a155608057823070008495210693100112901082906601094001129'\n",
    "s = r'00077FF644027100003F0ABFFF0100000000000000FFFFFFF00001070232F4010000003A95940448388403000849528100020000500108495210690210620102082906601004803854'\n",
    "s = r'00077FF644027100003F0ABFFF0100000000000000FFFFFFF0000107020000000100033A75350738900608000849528100020000600108495210690210139702082906601004901438'\n",
    "s = r'00077FF644027100003F0ABFFF0100000000000000FFFFFFF00001070025F0510000003A55130828920808000859025111106202550108495210690210749802082906601004114330'\n",
    "s = r'00077FF644027100003F0ABFFF0100000000000000FFFFFFF00001070052F0200000008A56780943745100000849521069310050630108290660109400506303085951301009000000'\n",
    "s = r'00077FF644027100003F0ABFFF0100000000000000FFFFFFF00001070252F0100000008A56780943745100000849521069310050630108290660109400506302084945302072039929'\n",
    "s = r'00530abfff0100000000000000fffffff00001070115f5200000003a353009591638050008495291211011038501084952106992583165020829066010041024220308494530207203001104085951301009000020'\n",
    "s = r'003f0abfff0100000000000000fffffff0000107011300140000003a45920509893807000849521069314098990108290660109440479902085951301009000090'\n",
    "s = r'002b0abfff01000000000000000000001e000107003304200000008a6658079451250200083943111002000098'\n",
    "s = r'002b0abfff01000000000000000000001d000107003304200000003a7525166054250700083943111002000031'\n",
    "s = r'002b0abfff010000000000000000000049000107003304200000003a7525166054250700083943111002000031'\n",
    "rb.decode_payload_response(s)"
   ]
  },
  {
   "cell_type": "code",
   "execution_count": 1082,
   "metadata": {},
   "outputs": [],
   "source": [
    "import http\n",
    "import re\n",
    "from bs4 import BeautifulSoup\n",
    "import sys\n",
    "\n",
    "ss7_url = \"172.18.11.10\"\n",
    "ss7_path = \"/cgi-bin/ss7gw.fcgi\"\n",
    "\n",
    "S6A_URL = '172.18.11.90'\n",
    "S6A_PATH = '/cgi-bin/http.fcgi'\n",
    "\n",
    "def executeHTTP(request, url, path):\n",
    "    client = http.client.HTTPConnection(url)\n",
    "    client.request(\"POST\", path, request, {\"Content-Type\": \"text/xml\"})\n",
    "    resp = client.getresponse()\n",
    "    return resp.read()\n",
    "\n",
    "def sri4sm(ogt, msisdn, dgt):\n",
    "    req = \"\"\"<?xml version=\\\"1.0\\\"?>\n",
    "        <ss7gw request=\\\"SRI_SM\\\">\n",
    "        <d_ssn>6</d_ssn>\n",
    "        <o_ssn>8</o_ssn>\n",
    "        <sccp_np>7</sccp_np>\n",
    "        <o_gt>%s</o_gt>\n",
    "        <d_gt>%s</d_gt>\n",
    "        <msisdn>%s</msisdn>\n",
    "        <priority>1</priority>\n",
    "        <address>%s</address>\n",
    "        </ss7gw>\"\"\" % (ogt, dgt, msisdn, ogt)\n",
    "    resp = executeHTTP(req, ss7_url, ss7_path)\n",
    "    return resp\n",
    "\n",
    "def sendSMS(ogt, imsi, msc, payload):\n",
    "    req = \"\"\"<ss7gw request=\\\"MTSMS_OTA\\\">\n",
    "        <d_ssn>8</d_ssn>\n",
    "        <o_ssn>8</o_ssn>\n",
    "        <o_gt>%s</o_gt>\n",
    "        <d_gt>%s</d_gt>\n",
    "        <imsi>%s</imsi>\n",
    "        <password>123</password>\n",
    "        <sc_number>%s</sc_number>\n",
    "        <key_id>1</key_id>\n",
    "        <command>1</command>\n",
    "        <corr_id>1</corr_id>\n",
    "        <seed>1122</seed>\n",
    "        <msisdn>972559300036</msisdn>\n",
    "        <message>%s</message>\n",
    "        <sms_imsi>%s</sms_imsi>\n",
    "        <map>3</map>\n",
    "        </ss7gw>\"\"\" % (ogt, msc, imsi, ogt, payload, imsi)\n",
    "    resp = executeHTTP(req, ss7_url, ss7_path)\n",
    "    return resp\n",
    "\n",
    "def sai(ogt, dgt, imsi, node):\n",
    "    req = \"\"\"<?xml version=\\\"1.0\\\"?>\n",
    "          <ss7gw request=\\\"SAIN\\\">\n",
    "          <d_ssn>6</d_ssn>\n",
    "          <o_gt>%s</o_gt>\n",
    "          <d_gt>%s</d_gt>\n",
    "          <o_ssn>7</o_ssn>\n",
    "          <imsi>%s</imsi>\n",
    "          <num_req_vec>1</num_req_vec>\n",
    "          <sccp_np>7</sccp_np>\n",
    "          <node_type>%s</node_type>\n",
    "          </ss7gw>\"\"\" % (ogt, dgt, imsi, node)\n",
    "    resp = executeHTTP(req, ss7_url, ss7_path)\n",
    "    return resp\n",
    "\n",
    "def psi(ogt, dgt, imsi):\n",
    "    req = \"\"\"<?xml version=\\\"1.0\\\"?>\n",
    "    <ss7gw request=\\\"PSI\\\">\n",
    "    <o_ssn>6</o_ssn>\n",
    "    <d_ssn>7</d_ssn>\n",
    "    <o_gt>{0}</o_gt>\n",
    "    <d_gt>{1}</d_gt>\n",
    "    <imsi>{2}</imsi>\n",
    "    </ss7gw>\"\"\".format(ogt, dgt, imsi)\n",
    "    resp = executeHTTP(req, ss7_url, ss7_path)\n",
    "    return resp\n",
    "\n",
    "def psl(ogt, dgt, imsi):\n",
    "    req = \"\"\"<?xml version=\\\"1.0\\\"?>\n",
    "    <ss7gw request=\\\"PSL\\\">\n",
    "    <o_ssn>6</o_ssn>\n",
    "    <d_ssn>7</d_ssn>\n",
    "    <o_gt>{0}</o_gt>\n",
    "    <d_gt>{1}</d_gt>\n",
    "    <imsi>{2}</imsi>\n",
    "    <location_type>1</location_type>\n",
    "    </ss7gw>\"\"\".format(ogt, dgt, imsi)\n",
    "    resp = executeHTTP(req, ss7_url, ss7_path)\n",
    "    return resp\n",
    "\n",
    "def air(imsi, ohost, orealm, drealm, mcc, mnc):\n",
    "    req = \"\"\"<?xml version=\\\"1.0\\\"?>\n",
    "         <roam:air xmlns:roam=\"roamability:gtw:s6a\">\n",
    "         <roam:o-realm>%s</roam:o-realm>\n",
    "         <roam:o-host>%s</roam:o-host>\n",
    "         <roam:d-realm>%s</roam:d-realm>\n",
    "         <roam:imsi>%s</roam:imsi>\n",
    "         <roam:vplmn  mcc=\"%s\" mnc=\"%s\"/>\n",
    "         <roam:eutran  numVec=\"1\" immediate=\"1\"/>\n",
    "         </roam:air>\"\"\" % (orealm, ohost, drealm, imsi, mcc, mnc)\n",
    "    resp = executeHTTP(req, S6A_URL, S6A_PATH)\n",
    "    return resp\n",
    "\n",
    "def clr(imsi, ohost, orealm, dhost, drealm):\n",
    "    req = \"\"\"<roam:clr proxy=\"true\" xmlns:roam=\"roamability:gtw:s6a\">\n",
    "          <roam:o-realm>%s</roam:o-realm>\n",
    "          <roam:o-host>%s</roam:o-host>\n",
    "          <roam:d-realm>%s</roam:d-realm>\n",
    "          <roam:d-host>%s</roam:d-host>\n",
    "          <roam:imsi>%s</roam:imsi>\n",
    "          <!--Optional:\n",
    "          <roam:supp-feat vendor=\"3\" list_id=\"2\" list=\"7\"/>-->\n",
    "          <!--Optional:\n",
    "          <roam:vendor-specific-app-id vendor-id=\"7\" auth-app-id=\"7\" acct-app-id=\"7\"/>-->\n",
    "          <!-- MME_UPDATE_PROCEDURE (0)-->\n",
    "          <!-- SGSN_UPDATE_PROCEDURE (1)-->\n",
    "          <!-- SUBSCRIPTION_WITHDRAWAL (2)-->\n",
    "          <!-- UPDATE_PROCEDURE_IWF (3)-->\n",
    "          <!-- INITIAL_ATTACH_PROCEDURE (4)-->\n",
    "          <roam:cancel-type>2</roam:cancel-type>\n",
    "        </roam:clr>\"\"\" % (orealm, ohost, drealm, dhost, imsi)\n",
    "    resp = executeHTTP(req, S6A_URL, S6A_PATH)\n",
    "    return resp\n",
    "\n",
    "# imsi = 724540540423172\n",
    "# ogt = 97254120624\n",
    "# dgt = 550040540423172\n",
    "node = 0\n",
    "# soup = BeautifulSoup(\n",
    "# #     psl('48507909001', '79639743780', '260036610000004')\n",
    "# #     psi('97254120624', '447785014055', '425019610777082')\n",
    "# #     sendSMS(ogt, imsi, msc, payload)\n",
    "#     ,'xml')\n",
    "# soup"
   ]
  },
  {
   "cell_type": "code",
   "execution_count": 1095,
   "metadata": {},
   "outputs": [
    {
     "data": {
      "text/plain": [
       "<?xml version=\"1.0\" encoding=\"utf-8\"?>\n",
       "<response>\n",
       "<result>-1</result>\n",
       "<error>timeout</error>\n",
       "<src_gt/>\n",
       "</response>"
      ]
     },
     "execution_count": 1095,
     "metadata": {},
     "output_type": "execute_result"
    }
   ],
   "source": [
    " BeautifulSoup(rb.sri4sm('48790993073', '447786205094'), 'xml')"
   ]
  },
  {
   "cell_type": "code",
   "execution_count": 494,
   "metadata": {},
   "outputs": [
    {
     "data": {
      "text/plain": [
       "<?xml version=\"1.0\" encoding=\"utf-8\"?>\n",
       "<cla>\n",
       "<session-id>44533bc64643b7ac88448d9e6369a05d18a0ad92ac950f630d207f95318ee3f2;1580214580;8978515</session-id>\n",
       "<orig-host>deakat01.mnc003.mcc260.3gppnetwork.org</orig-host>\n",
       "<orig-realm>epc.mnc020.mcc234.3gppnetwork.org</orig-realm>\n",
       "<res-code>3002</res-code>\n",
       "<error-msg>DRL-ERR-3002-312:.</error-msg>\n",
       "</cla>"
      ]
     },
     "execution_count": 494,
     "metadata": {},
     "output_type": "execute_result"
    }
   ],
   "source": [
    "reload(rb)\n",
    "imsi = 260036610000000\n",
    "# imsi = 260060169326039\n",
    "orealm = 'nakamobile.mnc003.mcc260.3gppnetwork.org'\n",
    "ohost = 'nakahss.nakamobile.mnc003.mcc260.3gppnetwork.org'\n",
    "\n",
    "drealm = 'epc.mnc020.mcc234.3gppnetwork.org'\n",
    "dhost = 'node245.epc.mnc020.mcc234.3gppnetwork.org'\n",
    "\n",
    "mcc = '228'\n",
    "mnc = '03'\n",
    "soup = BeautifulSoup(\n",
    "#     rb.air(imsi, ohost, orealm, drealm, mcc, mnc)\n",
    "    rb.clr(imsi, ohost, orealm, dhost, drealm)\n",
    "    ,'xml')\n",
    "soup"
   ]
  },
  {
   "cell_type": "markdown",
   "metadata": {},
   "source": [
    " ### Format output"
   ]
  },
  {
   "cell_type": "code",
   "execution_count": null,
   "metadata": {},
   "outputs": [],
   "source": [
    "import datetime as dt\n",
    "print( 'start: {} {} :end'.format('one', 'two') ) #start: one two :end\n",
    "print( 'start: {1} {0} :end'.format('one', 'two') ) #start: two one :end\n",
    "print( 'start: test {:10} :end'.format('test') ) #start: test test       :end\n",
    "print( 'start: test {:10} :end'.format(10) ) #start: test         10 :end\n",
    "print( 'start: test {:>10} :end'.format('test') ) #start: test       test :end\n",
    "print( 'start: test {:<10} :end'.format('test') ) #start: test test       :end\n",
    "print( 'start: test {:_<10} :end'.format('test') ) #start: test test______ :end\n",
    "print( 'start: test {:^10} :end'.format('test') ) #start: test    test    :end\n",
    "print( 'start: test {:.10} :end'.format('test1test2test3') ) #start: test test1test2 :end\n",
    "print( 'start: test {:_^10.5} :end'.format('test1test2test3') ) #start: test __test1___ :end\n",
    "print( 'start: test {:d} :end'.format(42) ) #start: test 42 :end\n",
    "print( 'start: test {:f} :end'.format(42) ) #start: test 42.000000 :end\n",
    "print( 'start: test {:06.2f} :end'.format(3.141592) ) #start: test 003.14 :end\n",
    "print( 'start: test {p[first]} {p[last]} :end'.format(p={'first': 'Jean-Luc', 'last': 'Picard'}) ) #start: test Jean-Luc Picard :end\n",
    "print( 'start: test {p[4]} {p[5]} :end'.format(p=[4, 8, 15, 16, 23, 42]) ) #start: test 23 42 :end\n",
    "print( 'start: test {:%Y-%m-%d %H:%M} :end'.format(dt.datetime(2001, 2, 3, 4, 5)) ) #start: test 2001-02-03 04:05 :end"
   ]
  },
  {
   "cell_type": "markdown",
   "metadata": {},
   "source": [
    "### Search in files by Tags"
   ]
  },
  {
   "cell_type": "code",
   "execution_count": 8,
   "metadata": {
    "scrolled": true
   },
   "outputs": [
    {
     "name": "stdout",
     "output_type": "stream",
     "text": [
      "****************************************************************************************************\n",
      "c:\\W_DATA_ROAM\\ДОКУМЕНТАЦИЯ\\NOC_HOW_IT_WORKS\\SimApplet.txt\n",
      "----------------------------------------------------------------------------------------------------\n",
      "#sim_card_principle_of_operation\n",
      "------------------------------\n",
      "После апгрейда аплета до ver.7 нужно снова загружать IMSI\n",
      "\"when u upgrade the applet version , u remove all the provisioned (it will always happen with applet upgrading ) so there were no sponsor IMSI's in the applet and therefore the sim could not register.\n",
      "this is why we need to use the late activation code to provision sponsor imsi and basic connectivity and after that everything went back to normal.\n",
      "so from your side, u need to make sure that after upgrading any sim applet, if the sim exists and activated in Roamability OCS , then u MUST disconnect it , wait 10 minutues and re-activate it\n",
      "if the sim does not exists yet on OCS portal , then u just need to activate it (normal way)\n",
      "so i guess u just need to make sure , whenever u upgrade sim applet , to disconnect it from our OCS ( if its exists)\"\n",
      "(Пн 25.02.2019 17:34, Roy Padina <roy@roamability.com>, Roambility Flows)\n",
      "\n",
      "****************************************************************************************************\n",
      "c:\\W_DATA_ROAM\\ДОКУМЕНТАЦИЯ\\NOC_HOW_IT_WORKS\\SIM_Applet\\_TEMPLATE.txt\n",
      "----------------------------------------------------------------------------------------------------\n",
      "#sim_card_principle_of_operation\n",
      "#sim_card_mop\n",
      "------------------------------\n",
      "Аплеты, загружаемые на карты.\n",
      "\n",
      "****************************************************************************************************\n",
      "c:\\W_DATA_ROAM\\ДОКУМЕНТАЦИЯ\\NOC_HOW_IT_WORKS\\SIM_Reader\\_TEMPLATE.txt\n",
      "----------------------------------------------------------------------------------------------------\n",
      "#activation_principle_of_operation\n",
      "#sim_card_principle_of_operation\n",
      "#sim_card_mop\n",
      "------------------------------\n",
      "\"Any PCSC reader can be used. I have good experience with ACS (https://www.acs.com.hk/) and OMNIKEY (https://www.hidglobal.com/products/readers/omnikey) readers.\"\n",
      "(https://roamability.teamwork.com/#/tasks/12118095)\n",
      "\n",
      "****************************************************************************************************\n",
      "c:\\W_DATA_ROAM\\МЕТОДИКИ\\_NOC_M_NEW_CONNECTION\\014_SIM_CLONE\\_TEMPLATE.txt\n",
      "----------------------------------------------------------------------------------------------------\n",
      "#sim_card_principle_of_operation\n",
      "#sim_card_mop\n",
      "#activation_principle_of_operation\n",
      "------------------------------\n",
      "Инструмент и методика клонирования SIM карты с помощью Profile_Editor_Version_18.30\n",
      "c:\\W_DATA_ROAM_DOC\\SOFT\\\n",
      "(https://roamability.teamwork.com/#projects/330577/files)\n",
      "\n"
     ]
    },
    {
     "ename": "UnicodeDecodeError",
     "evalue": "'charmap' codec can't decode byte 0x98 in position 638: character maps to <undefined>",
     "output_type": "error",
     "traceback": [
      "\u001b[1;31m---------------------------------------------------------------------------\u001b[0m",
      "\u001b[1;31mUnicodeDecodeError\u001b[0m                        Traceback (most recent call last)",
      "\u001b[1;32m<ipython-input-8-516a1e0e1ebd>\u001b[0m in \u001b[0;36m<module>\u001b[1;34m\u001b[0m\n\u001b[0;32m     24\u001b[0m \u001b[0mall_tags\u001b[0m \u001b[1;33m=\u001b[0m \u001b[1;33m[\u001b[0m\u001b[1;33m]\u001b[0m\u001b[1;33m\u001b[0m\u001b[1;33m\u001b[0m\u001b[0m\n\u001b[0;32m     25\u001b[0m \u001b[1;33m\u001b[0m\u001b[0m\n\u001b[1;32m---> 26\u001b[1;33m \u001b[0mrb\u001b[0m\u001b[1;33m.\u001b[0m\u001b[0mfind_files_by_tags\u001b[0m\u001b[1;33m(\u001b[0m\u001b[0mpaths\u001b[0m\u001b[1;33m,\u001b[0m \u001b[0mall_tags\u001b[0m\u001b[1;33m,\u001b[0m \u001b[0many_tags\u001b[0m\u001b[1;33m)\u001b[0m\u001b[1;33m\u001b[0m\u001b[1;33m\u001b[0m\u001b[0m\n\u001b[0m",
      "\u001b[1;32m~\\Documents\\GITLAB\\RB_BD\\roamability.py\u001b[0m in \u001b[0;36mfind_files_by_tags\u001b[1;34m(paths, all_tags, any_tags)\u001b[0m\n\u001b[0;32m    214\u001b[0m             \u001b[0mfolder_path\u001b[0m \u001b[1;33m=\u001b[0m \u001b[0mjoin\u001b[0m\u001b[1;33m(\u001b[0m\u001b[0mpath\u001b[0m\u001b[1;33m,\u001b[0m \u001b[0mfolder\u001b[0m\u001b[1;33m)\u001b[0m\u001b[1;33m\u001b[0m\u001b[1;33m\u001b[0m\u001b[0m\n\u001b[0;32m    215\u001b[0m             \u001b[0mfiles\u001b[0m\u001b[1;33m,\u001b[0m \u001b[0m_\u001b[0m \u001b[1;33m=\u001b[0m \u001b[0mfind_txt_files_and_folders\u001b[0m\u001b[1;33m(\u001b[0m\u001b[0mfolder_path\u001b[0m\u001b[1;33m)\u001b[0m\u001b[1;33m\u001b[0m\u001b[1;33m\u001b[0m\u001b[0m\n\u001b[1;32m--> 216\u001b[1;33m             \u001b[0msearch_tags_in_file\u001b[0m\u001b[1;33m(\u001b[0m\u001b[0mfolder_path\u001b[0m\u001b[1;33m,\u001b[0m \u001b[0mfiles\u001b[0m\u001b[1;33m,\u001b[0m \u001b[0mall_tags\u001b[0m\u001b[1;33m,\u001b[0m \u001b[0many_tags\u001b[0m\u001b[1;33m)\u001b[0m\u001b[1;33m\u001b[0m\u001b[1;33m\u001b[0m\u001b[0m\n\u001b[0m\u001b[0;32m    217\u001b[0m \u001b[1;33m\u001b[0m\u001b[0m\n\u001b[0;32m    218\u001b[0m \u001b[1;32mdef\u001b[0m \u001b[0mfind_txt_files_and_folders\u001b[0m\u001b[1;33m(\u001b[0m\u001b[0mpath_name\u001b[0m\u001b[1;33m)\u001b[0m\u001b[1;33m:\u001b[0m\u001b[1;33m\u001b[0m\u001b[1;33m\u001b[0m\u001b[0m\n",
      "\u001b[1;32m~\\Documents\\GITLAB\\RB_BD\\roamability.py\u001b[0m in \u001b[0;36msearch_tags_in_file\u001b[1;34m(path_name, files_list, all_tags, any_tags)\u001b[0m\n\u001b[0;32m    228\u001b[0m         \u001b[1;32mwith\u001b[0m \u001b[0mopen\u001b[0m\u001b[1;33m(\u001b[0m\u001b[0mjoin\u001b[0m\u001b[1;33m(\u001b[0m\u001b[0mpath_name\u001b[0m\u001b[1;33m,\u001b[0m \u001b[0mfile\u001b[0m\u001b[1;33m)\u001b[0m\u001b[1;33m)\u001b[0m \u001b[1;32mas\u001b[0m \u001b[0minf\u001b[0m\u001b[1;33m:\u001b[0m\u001b[1;33m\u001b[0m\u001b[1;33m\u001b[0m\u001b[0m\n\u001b[0;32m    229\u001b[0m             \u001b[1;31m# Преобразовать файл в список. В качествер разделителя пробел. read читает весь файл.\u001b[0m\u001b[1;33m\u001b[0m\u001b[1;33m\u001b[0m\u001b[1;33m\u001b[0m\u001b[0m\n\u001b[1;32m--> 230\u001b[1;33m             \u001b[0mwords_in_file\u001b[0m \u001b[1;33m=\u001b[0m \u001b[0minf\u001b[0m\u001b[1;33m.\u001b[0m\u001b[0mread\u001b[0m\u001b[1;33m(\u001b[0m\u001b[1;33m)\u001b[0m\u001b[1;33m.\u001b[0m\u001b[0mlower\u001b[0m\u001b[1;33m(\u001b[0m\u001b[1;33m)\u001b[0m\u001b[1;33m.\u001b[0m\u001b[0msplit\u001b[0m\u001b[1;33m(\u001b[0m\u001b[1;33m)\u001b[0m\u001b[1;33m\u001b[0m\u001b[1;33m\u001b[0m\u001b[0m\n\u001b[0m\u001b[0;32m    231\u001b[0m         \u001b[1;32mif\u001b[0m \u001b[0many\u001b[0m\u001b[1;33m(\u001b[0m\u001b[0mitem\u001b[0m \u001b[1;32min\u001b[0m \u001b[0mwords_in_file\u001b[0m \u001b[1;32mfor\u001b[0m \u001b[0mitem\u001b[0m \u001b[1;32min\u001b[0m \u001b[0many_tags\u001b[0m\u001b[1;33m)\u001b[0m\u001b[1;33m:\u001b[0m\u001b[1;33m\u001b[0m\u001b[1;33m\u001b[0m\u001b[0m\n\u001b[0;32m    232\u001b[0m             \u001b[1;32mif\u001b[0m \u001b[0mlen\u001b[0m\u001b[1;33m(\u001b[0m\u001b[0mall_tags\u001b[0m\u001b[1;33m)\u001b[0m \u001b[1;33m>\u001b[0m \u001b[1;36m0\u001b[0m \u001b[1;32mand\u001b[0m \u001b[0mall\u001b[0m\u001b[1;33m(\u001b[0m\u001b[0mitem\u001b[0m \u001b[1;32min\u001b[0m \u001b[0mwords_in_file\u001b[0m \u001b[1;32mfor\u001b[0m \u001b[0mitem\u001b[0m \u001b[1;32min\u001b[0m \u001b[0mall_tags\u001b[0m\u001b[1;33m)\u001b[0m\u001b[1;33m:\u001b[0m\u001b[1;33m\u001b[0m\u001b[1;33m\u001b[0m\u001b[0m\n",
      "\u001b[1;32m~\\Miniconda3\\lib\\encodings\\cp1251.py\u001b[0m in \u001b[0;36mdecode\u001b[1;34m(self, input, final)\u001b[0m\n\u001b[0;32m     21\u001b[0m \u001b[1;32mclass\u001b[0m \u001b[0mIncrementalDecoder\u001b[0m\u001b[1;33m(\u001b[0m\u001b[0mcodecs\u001b[0m\u001b[1;33m.\u001b[0m\u001b[0mIncrementalDecoder\u001b[0m\u001b[1;33m)\u001b[0m\u001b[1;33m:\u001b[0m\u001b[1;33m\u001b[0m\u001b[1;33m\u001b[0m\u001b[0m\n\u001b[0;32m     22\u001b[0m     \u001b[1;32mdef\u001b[0m \u001b[0mdecode\u001b[0m\u001b[1;33m(\u001b[0m\u001b[0mself\u001b[0m\u001b[1;33m,\u001b[0m \u001b[0minput\u001b[0m\u001b[1;33m,\u001b[0m \u001b[0mfinal\u001b[0m\u001b[1;33m=\u001b[0m\u001b[1;32mFalse\u001b[0m\u001b[1;33m)\u001b[0m\u001b[1;33m:\u001b[0m\u001b[1;33m\u001b[0m\u001b[1;33m\u001b[0m\u001b[0m\n\u001b[1;32m---> 23\u001b[1;33m         \u001b[1;32mreturn\u001b[0m \u001b[0mcodecs\u001b[0m\u001b[1;33m.\u001b[0m\u001b[0mcharmap_decode\u001b[0m\u001b[1;33m(\u001b[0m\u001b[0minput\u001b[0m\u001b[1;33m,\u001b[0m\u001b[0mself\u001b[0m\u001b[1;33m.\u001b[0m\u001b[0merrors\u001b[0m\u001b[1;33m,\u001b[0m\u001b[0mdecoding_table\u001b[0m\u001b[1;33m)\u001b[0m\u001b[1;33m[\u001b[0m\u001b[1;36m0\u001b[0m\u001b[1;33m]\u001b[0m\u001b[1;33m\u001b[0m\u001b[1;33m\u001b[0m\u001b[0m\n\u001b[0m\u001b[0;32m     24\u001b[0m \u001b[1;33m\u001b[0m\u001b[0m\n\u001b[0;32m     25\u001b[0m \u001b[1;32mclass\u001b[0m \u001b[0mStreamWriter\u001b[0m\u001b[1;33m(\u001b[0m\u001b[0mCodec\u001b[0m\u001b[1;33m,\u001b[0m\u001b[0mcodecs\u001b[0m\u001b[1;33m.\u001b[0m\u001b[0mStreamWriter\u001b[0m\u001b[1;33m)\u001b[0m\u001b[1;33m:\u001b[0m\u001b[1;33m\u001b[0m\u001b[1;33m\u001b[0m\u001b[0m\n",
      "\u001b[1;31mUnicodeDecodeError\u001b[0m: 'charmap' codec can't decode byte 0x98 in position 638: character maps to <undefined>"
     ]
    }
   ],
   "source": [
    "import roamability as rb\n",
    "reload(rb)\n",
    "\n",
    "# Где искать файлы .txt с тегами\n",
    "paths = ['c:/W_DATA_ROAM/ДОКУМЕНТАЦИЯ/NOC_HOW_IT_WORKS/',\n",
    "        'c:/W_DATA_ROAM/МЕТОДИКИ/',\n",
    "        'c:/W_DATA_ROAM/ПРОЕКТЫ/',\n",
    "        'c:/W_DATA_ROAM/ДОКУМЕНТАЦИЯ/NOC_KNOWN_ISSUES/',\n",
    "        'c:/W_DATA_ROAM/МЕТОДИКИ/_NOC_M_NEW_CONNECTION/',\n",
    "        'c:/W_DATA_ROAM/ALARMS/',\n",
    "        'c:/W_DATA_ROAM/ДОКУМЕНТАЦИЯ/PRICES',\n",
    "        ]\n",
    "\n",
    "# Если хотя бы один из тэгов присутствует. Нужно указать минимум один.\n",
    "# any_tags  = ['#reports_bss_usage_mop']\n",
    "# any_tags  = ['#gy_principle_of_operation']\n",
    "# any_tags  = ['#ocs_principle_of_operation']\n",
    "# any_tags  = ['#reports_ocs_usage_mop']\n",
    "# any_tags  = ['#reports_ocs_subscribers']\n",
    "# any_tags = ['#epg_principle_of_operation']\n",
    "any_tags  = ['#sim_card_principle_of_operation']\n",
    "\n",
    "# Если все теги присутствуют. Нужно оставить лист пустым [] если нет обязательных тэгов.\n",
    "all_tags = []\n",
    "\n",
    "rb.find_files_by_tags(paths, all_tags, any_tags)"
   ]
  },
  {
   "cell_type": "markdown",
   "metadata": {},
   "source": [
    "### Search in ALARMS by folder names"
   ]
  },
  {
   "cell_type": "code",
   "execution_count": 94,
   "metadata": {},
   "outputs": [
    {
     "name": "stdout",
     "output_type": "stream",
     "text": [
      "c:\\W_DATA_ROAM\\ALARMS\\MOC_Partner_GBRVF_191010\n",
      "c:\\W_DATA_ROAM\\ALARMS\\MTC_Partner_GBRVF_191212\n",
      "c:\\W_DATA_ROAM\\ALARMS\\PS_P4_GBRVF_190328\n",
      "c:\\W_DATA_ROAM\\ALARMS\\PS_Partner_4G_issue_GBRVF_CHEOR_and_other_Vodafone_Group_191230\n",
      "c:\\W_DATA_ROAM\\ДОКУМЕНТАЦИЯ\\PRICES\\BREXIT_GBRME_GBRVF_GIBGT_200123.msg\n",
      "c:\\W_DATA_ROAM\\ДОКУМЕНТАЦИЯ\\PRICES\\P4_GBRVF_MOC_wrong_charge.msg\n",
      "c:\\W_DATA_ROAM\\ПРОЕКТЫ\\PP_TOTTILI_GBRVF_BLOCK\n"
     ]
    }
   ],
   "source": [
    "import os\n",
    "\n",
    "paths = [\n",
    "         r'c:/W_DATA_ROAM/ALARMS/',\n",
    "         r'c:/W_DATA_ROAM/ДОКУМЕНТАЦИЯ/PRICES/',\n",
    "         r'c:/W_DATA_ROAM/ПРОЕКТЫ/',\n",
    "         r'c:/W_DATA_ROAM/ПРОЕКТЫ_NEW_CONNECTION/',\n",
    "    r'c:/W_DATA_ROAM/ДОКУМЕНТАЦИЯ',\n",
    "    r'c:\\W_DATA_ROAM_DOC\\ПРОЕКТЫ',\n",
    "        ]\n",
    "\n",
    "for path in paths:\n",
    "    names = os.listdir(path)\n",
    "    [print(normpath(path + name)) for name in names if name.upper().find('GBRVF')!=-1]"
   ]
  },
  {
   "cell_type": "markdown",
   "metadata": {},
   "source": [
    "### Search in Allowed Lists and others"
   ]
  },
  {
   "cell_type": "code",
   "execution_count": 89,
   "metadata": {},
   "outputs": [],
   "source": [
    "downloads = 'C:/Users/balob/Downloads'\n",
    "dmi_allowed_list = 'DMI.dmi_allowed_list_export_Thu_May_21_2020.csv'\n",
    "dmi_netpfx = 'DMI.dmi_netpfx_export_Tue_Apr_28_2020.csv'\n",
    "bss_usage = 'bss_usage_2019_08.csv' # c:\\W_DATA_ROAM\\ДОКУМЕНТАЦИЯ\\NOC_HOW_IT_WORKS\\BSS_SQL\\Report_BSS_Usage_per_PLMN.txt\n",
    "\n",
    "#Like expression for Allowed List\n",
    "df_al=pd.read_csv(join(downloads, dmi_allowed_list))\n",
    "df_al['SPONSOR'] = df_al['Sponsor'].replace(to_replace={r'[Pp][Aa][rtner]?[\\s\\w-]*|^S1_[\\s\\w-]*':'S1',\n",
    "                                                        r'[Pp]4[\\s\\w-]*|^S2_[\\s\\w-]*':'S2',\n",
    "                                                        r'[Mm][Bb][\\s\\w-]*|^S4_[\\s\\w-]*':'S4',\n",
    "                                                        r'SMART[\\s\\w-]*|^S5_[\\s\\w-]*':'S5',\n",
    "                                                        r'^S8_[\\s\\w-]*':'S8'}, regex=True)\n",
    "df_al.rename({'PLMN code':'TADIG'}, axis=1, inplace=True)\n",
    "\n",
    "df_usage = pd.read_csv(join(downloads, bss_usage), sep=';')\n",
    "cols = ['REP_DATE','VPLMN','SPONSOR','MOC','MOC_SMS','DATA']\n",
    "df_usage = df_usage.pivot_table(values='COST', index=['REP_DATE', 'VPLMN', 'SPONSOR'], columns='USAGE_TYPE').reset_index()[cols]\n",
    "df_usage.rename({'VPLMN':'TADIG'}, axis=1, inplace=True)\n",
    "df_usage.columns.name=''\n",
    "\n",
    "df_al = pd.merge(df_al, df_usage, how='left', on=['SPONSOR','TADIG'])\n",
    "\n",
    "df_np=pd.read_csv(join(downloads, dmi_netpfx))"
   ]
  },
  {
   "cell_type": "code",
   "execution_count": 17,
   "metadata": {},
   "outputs": [
    {
     "data": {
      "text/plain": [
       "array(['S2', 'S1'], dtype=object)"
      ]
     },
     "execution_count": 17,
     "metadata": {},
     "output_type": "execute_result"
    }
   ],
   "source": [
    "df_al.loc[(df_al['TADIG'].str.startswith(tadig, na=False)) &\n",
    "          (df_al['Sponsor'].str.contains(sponsor, na=False, regex=True, flags=re.I)),\n",
    "          ['Sponsor','TADIG','REP_DATE','MOC','MOC_SMS','DATA','SPONSOR']].sort_values(by=['Sponsor','TADIG']).SPONSOR.unique()"
   ]
  },
  {
   "cell_type": "code",
   "execution_count": 103,
   "metadata": {},
   "outputs": [
    {
     "data": {
      "text/html": [
       "<div>\n",
       "<style scoped>\n",
       "    .dataframe tbody tr th:only-of-type {\n",
       "        vertical-align: middle;\n",
       "    }\n",
       "\n",
       "    .dataframe tbody tr th {\n",
       "        vertical-align: top;\n",
       "    }\n",
       "\n",
       "    .dataframe thead th {\n",
       "        text-align: right;\n",
       "    }\n",
       "</style>\n",
       "<table border=\"1\" class=\"dataframe\">\n",
       "  <thead>\n",
       "    <tr style=\"text-align: right;\">\n",
       "      <th></th>\n",
       "      <th>Sponsor</th>\n",
       "      <th>TADIG</th>\n",
       "      <th>REP_DATE</th>\n",
       "      <th>MOC</th>\n",
       "      <th>MOC_SMS</th>\n",
       "      <th>DATA</th>\n",
       "      <th>SPONSOR</th>\n",
       "    </tr>\n",
       "  </thead>\n",
       "  <tbody>\n",
       "    <tr>\n",
       "      <td>6915</td>\n",
       "      <td>P4_Netmore_Comb</td>\n",
       "      <td>GBRVF</td>\n",
       "      <td>2019-08</td>\n",
       "      <td>94.590104</td>\n",
       "      <td>2.40361</td>\n",
       "      <td>242.598782</td>\n",
       "      <td>S2</td>\n",
       "    </tr>\n",
       "  </tbody>\n",
       "</table>\n",
       "</div>"
      ],
      "text/plain": [
       "              Sponsor  TADIG REP_DATE        MOC  MOC_SMS        DATA SPONSOR\n",
       "6915  P4_Netmore_Comb  GBRVF  2019-08  94.590104  2.40361  242.598782      S2"
      ]
     },
     "execution_count": 103,
     "metadata": {},
     "output_type": "execute_result"
    }
   ],
   "source": [
    "sponsor = 'P4' # Use regular expressions if it's needed\n",
    "tadig = 'GBRVF'\n",
    "\n",
    "df_al.loc[(df_al['TADIG'].str.startswith(tadig, na=False)) &\n",
    "          (df_al['Sponsor'].str.contains(sponsor, na=False, regex=True, flags=re.I)),\n",
    "          ['Sponsor','TADIG','REP_DATE','MOC','MOC_SMS','DATA','SPONSOR']].sort_values(by=['Sponsor','TADIG'])"
   ]
  },
  {
   "cell_type": "code",
   "execution_count": 147,
   "metadata": {},
   "outputs": [
    {
     "data": {
      "text/plain": [
       "array(['MB_DRIM01_ALL', 'P4_DRIM01_ALL', 'Partner_DRIM01_A',\n",
       "       'S5_DRIM01_ALL'], dtype=object)"
      ]
     },
     "execution_count": 147,
     "metadata": {},
     "output_type": "execute_result"
    }
   ],
   "source": [
    "df_al.loc[(df_al['TADIG'].str.startswith(tadig, na=False)) &\n",
    "          (df_al['Sponsor'].str.contains(sponsor, na=False, regex=True, flags=re.I)),\n",
    "          ['Sponsor','TADIG','SPONSOR']].sort_values(by=['Sponsor','TADIG']).Sponsor.unique()"
   ]
  },
  {
   "cell_type": "code",
   "execution_count": 101,
   "metadata": {},
   "outputs": [
    {
     "data": {
      "text/html": [
       "<div>\n",
       "<style scoped>\n",
       "    .dataframe tbody tr th:only-of-type {\n",
       "        vertical-align: middle;\n",
       "    }\n",
       "\n",
       "    .dataframe tbody tr th {\n",
       "        vertical-align: top;\n",
       "    }\n",
       "\n",
       "    .dataframe thead th {\n",
       "        text-align: right;\n",
       "    }\n",
       "</style>\n",
       "<table border=\"1\" class=\"dataframe\">\n",
       "  <thead>\n",
       "    <tr style=\"text-align: right;\">\n",
       "      <th></th>\n",
       "      <th>Sponsor</th>\n",
       "      <th>TADIG</th>\n",
       "    </tr>\n",
       "  </thead>\n",
       "  <tbody>\n",
       "    <tr>\n",
       "      <td>6916</td>\n",
       "      <td>P4_Netmore_Comb</td>\n",
       "      <td>GBRME</td>\n",
       "    </tr>\n",
       "    <tr>\n",
       "      <td>2165</td>\n",
       "      <td>PA_Telzar_Soft</td>\n",
       "      <td>GBRME</td>\n",
       "    </tr>\n",
       "    <tr>\n",
       "      <td>136</td>\n",
       "      <td>Partner</td>\n",
       "      <td>GBRME</td>\n",
       "    </tr>\n",
       "    <tr>\n",
       "      <td>2680</td>\n",
       "      <td>Partner_All</td>\n",
       "      <td>GBRME</td>\n",
       "    </tr>\n",
       "    <tr>\n",
       "      <td>693</td>\n",
       "      <td>Partner_Combined</td>\n",
       "      <td>GBRME</td>\n",
       "    </tr>\n",
       "    <tr>\n",
       "      <td>5753</td>\n",
       "      <td>Partner_DENT01_C</td>\n",
       "      <td>GBRME</td>\n",
       "    </tr>\n",
       "    <tr>\n",
       "      <td>2432</td>\n",
       "      <td>Partner_Dialoq_A</td>\n",
       "      <td>GBRME</td>\n",
       "    </tr>\n",
       "    <tr>\n",
       "      <td>6453</td>\n",
       "      <td>Partner_FlexiCom</td>\n",
       "      <td>GBRME</td>\n",
       "    </tr>\n",
       "    <tr>\n",
       "      <td>3102</td>\n",
       "      <td>Partner_RedT_Sof</td>\n",
       "      <td>GBRME</td>\n",
       "    </tr>\n",
       "    <tr>\n",
       "      <td>5043</td>\n",
       "      <td>Partner_Tottolli</td>\n",
       "      <td>GBRME</td>\n",
       "    </tr>\n",
       "    <tr>\n",
       "      <td>5494</td>\n",
       "      <td>Partner_Vectone</td>\n",
       "      <td>GBRME</td>\n",
       "    </tr>\n",
       "    <tr>\n",
       "      <td>1988</td>\n",
       "      <td>Partner_WeStream</td>\n",
       "      <td>GBRME</td>\n",
       "    </tr>\n",
       "    <tr>\n",
       "      <td>506</td>\n",
       "      <td>Partner_mondic</td>\n",
       "      <td>GBRME</td>\n",
       "    </tr>\n",
       "    <tr>\n",
       "      <td>6268</td>\n",
       "      <td>S6_ALL</td>\n",
       "      <td>GBRME</td>\n",
       "    </tr>\n",
       "    <tr>\n",
       "      <td>2593</td>\n",
       "      <td>S8_ALL</td>\n",
       "      <td>GBRME</td>\n",
       "    </tr>\n",
       "    <tr>\n",
       "      <td>4908</td>\n",
       "      <td>SMART</td>\n",
       "      <td>GBRME</td>\n",
       "    </tr>\n",
       "  </tbody>\n",
       "</table>\n",
       "</div>"
      ],
      "text/plain": [
       "               Sponsor  TADIG\n",
       "6916   P4_Netmore_Comb  GBRME\n",
       "2165    PA_Telzar_Soft  GBRME\n",
       "136            Partner  GBRME\n",
       "2680       Partner_All  GBRME\n",
       "693   Partner_Combined  GBRME\n",
       "5753  Partner_DENT01_C  GBRME\n",
       "2432  Partner_Dialoq_A  GBRME\n",
       "6453  Partner_FlexiCom  GBRME\n",
       "3102  Partner_RedT_Sof  GBRME\n",
       "5043  Partner_Tottolli  GBRME\n",
       "5494   Partner_Vectone  GBRME\n",
       "1988  Partner_WeStream  GBRME\n",
       "506     Partner_mondic  GBRME\n",
       "6268            S6_ALL  GBRME\n",
       "2593            S8_ALL  GBRME\n",
       "4908             SMART  GBRME"
      ]
     },
     "metadata": {},
     "output_type": "display_data"
    },
    {
     "data": {
      "text/html": [
       "<div>\n",
       "<style scoped>\n",
       "    .dataframe tbody tr th:only-of-type {\n",
       "        vertical-align: middle;\n",
       "    }\n",
       "\n",
       "    .dataframe tbody tr th {\n",
       "        vertical-align: top;\n",
       "    }\n",
       "\n",
       "    .dataframe thead th {\n",
       "        text-align: right;\n",
       "    }\n",
       "</style>\n",
       "<table border=\"1\" class=\"dataframe\">\n",
       "  <thead>\n",
       "    <tr style=\"text-align: right;\">\n",
       "      <th></th>\n",
       "      <th>Operator</th>\n",
       "      <th>Prefix</th>\n",
       "      <th>Number/Range</th>\n",
       "      <th>SSN</th>\n",
       "      <th>MCC</th>\n",
       "      <th>MNC</th>\n",
       "    </tr>\n",
       "  </thead>\n",
       "  <tbody>\n",
       "    <tr>\n",
       "      <td>1642</td>\n",
       "      <td>GBRME</td>\n",
       "      <td>447953</td>\n",
       "      <td>1</td>\n",
       "      <td>7</td>\n",
       "      <td>234</td>\n",
       "      <td>30</td>\n",
       "    </tr>\n",
       "    <tr>\n",
       "      <td>1643</td>\n",
       "      <td>GBRME</td>\n",
       "      <td>447953</td>\n",
       "      <td>1</td>\n",
       "      <td>149</td>\n",
       "      <td>234</td>\n",
       "      <td>30</td>\n",
       "    </tr>\n",
       "    <tr>\n",
       "      <td>1644</td>\n",
       "      <td>GBRME</td>\n",
       "      <td>447958</td>\n",
       "      <td>1</td>\n",
       "      <td>7</td>\n",
       "      <td>234</td>\n",
       "      <td>30</td>\n",
       "    </tr>\n",
       "    <tr>\n",
       "      <td>1645</td>\n",
       "      <td>GBRME</td>\n",
       "      <td>447958</td>\n",
       "      <td>1</td>\n",
       "      <td>149</td>\n",
       "      <td>234</td>\n",
       "      <td>30</td>\n",
       "    </tr>\n",
       "    <tr>\n",
       "      <td>1646</td>\n",
       "      <td>GBRME</td>\n",
       "      <td>4478921</td>\n",
       "      <td>1</td>\n",
       "      <td>7</td>\n",
       "      <td>234</td>\n",
       "      <td>30</td>\n",
       "    </tr>\n",
       "    <tr>\n",
       "      <td>1647</td>\n",
       "      <td>GBRME</td>\n",
       "      <td>4478921</td>\n",
       "      <td>1</td>\n",
       "      <td>149</td>\n",
       "      <td>234</td>\n",
       "      <td>30</td>\n",
       "    </tr>\n",
       "    <tr>\n",
       "      <td>1648</td>\n",
       "      <td>GBRME</td>\n",
       "      <td>4475896</td>\n",
       "      <td>1</td>\n",
       "      <td>7</td>\n",
       "      <td>234</td>\n",
       "      <td>30</td>\n",
       "    </tr>\n",
       "    <tr>\n",
       "      <td>1649</td>\n",
       "      <td>GBRME</td>\n",
       "      <td>4475896</td>\n",
       "      <td>1</td>\n",
       "      <td>149</td>\n",
       "      <td>234</td>\n",
       "      <td>30</td>\n",
       "    </tr>\n",
       "    <tr>\n",
       "      <td>1650</td>\n",
       "      <td>GBRME</td>\n",
       "      <td>447973</td>\n",
       "      <td>1</td>\n",
       "      <td>7</td>\n",
       "      <td>234</td>\n",
       "      <td>30</td>\n",
       "    </tr>\n",
       "    <tr>\n",
       "      <td>1651</td>\n",
       "      <td>GBRME</td>\n",
       "      <td>447973</td>\n",
       "      <td>1</td>\n",
       "      <td>149</td>\n",
       "      <td>234</td>\n",
       "      <td>30</td>\n",
       "    </tr>\n",
       "    <tr>\n",
       "      <td>10230</td>\n",
       "      <td>GBRME</td>\n",
       "      <td>447953710412</td>\n",
       "      <td>1</td>\n",
       "      <td>149</td>\n",
       "      <td>234</td>\n",
       "      <td>30</td>\n",
       "    </tr>\n",
       "    <tr>\n",
       "      <td>10517</td>\n",
       "      <td>GBRME</td>\n",
       "      <td>4479530000</td>\n",
       "      <td>0</td>\n",
       "      <td>1</td>\n",
       "      <td>234</td>\n",
       "      <td>30</td>\n",
       "    </tr>\n",
       "  </tbody>\n",
       "</table>\n",
       "</div>"
      ],
      "text/plain": [
       "      Operator        Prefix  Number/Range  SSN  MCC  MNC\n",
       "1642     GBRME        447953             1    7  234   30\n",
       "1643     GBRME        447953             1  149  234   30\n",
       "1644     GBRME        447958             1    7  234   30\n",
       "1645     GBRME        447958             1  149  234   30\n",
       "1646     GBRME       4478921             1    7  234   30\n",
       "1647     GBRME       4478921             1  149  234   30\n",
       "1648     GBRME       4475896             1    7  234   30\n",
       "1649     GBRME       4475896             1  149  234   30\n",
       "1650     GBRME        447973             1    7  234   30\n",
       "1651     GBRME        447973             1  149  234   30\n",
       "10230    GBRME  447953710412             1  149  234   30\n",
       "10517    GBRME    4479530000             0    1  234   30"
      ]
     },
     "metadata": {},
     "output_type": "display_data"
    }
   ],
   "source": [
    "plmn = 'GBRME'\n",
    "df1 = df_al.loc[(df_al['TADIG'].str.startswith(plmn, na=False)) &\n",
    "          (df_al['Sponsor'].str.contains('', na=False)), ['Sponsor','TADIG']].sort_values(by=['Sponsor','TADIG'])\n",
    "df2 = df_np[(df_np.Operator.str.startswith(plmn,na=False))] #.to_csv(join(downloads,'Prefix.csv')) # & (df_np.SSN==7)\n",
    "display(df1)\n",
    "display(df2)"
   ]
  },
  {
   "cell_type": "code",
   "execution_count": 277,
   "metadata": {},
   "outputs": [
    {
     "data": {
      "text/html": [
       "<div>\n",
       "<style scoped>\n",
       "    .dataframe tbody tr th:only-of-type {\n",
       "        vertical-align: middle;\n",
       "    }\n",
       "\n",
       "    .dataframe tbody tr th {\n",
       "        vertical-align: top;\n",
       "    }\n",
       "\n",
       "    .dataframe thead th {\n",
       "        text-align: right;\n",
       "    }\n",
       "</style>\n",
       "<table border=\"1\" class=\"dataframe\">\n",
       "  <thead>\n",
       "    <tr style=\"text-align: right;\">\n",
       "      <th></th>\n",
       "      <th>Operator</th>\n",
       "      <th>Prefix</th>\n",
       "      <th>Number/Range</th>\n",
       "      <th>SSN</th>\n",
       "      <th>MCC</th>\n",
       "      <th>MNC</th>\n",
       "    </tr>\n",
       "  </thead>\n",
       "  <tbody>\n",
       "    <tr>\n",
       "      <td>732</td>\n",
       "      <td>BGRMT</td>\n",
       "      <td>359999320011</td>\n",
       "      <td>0</td>\n",
       "      <td>7</td>\n",
       "      <td>284</td>\n",
       "      <td>13</td>\n",
       "    </tr>\n",
       "    <tr>\n",
       "      <td>733</td>\n",
       "      <td>BGRMT</td>\n",
       "      <td>359999320031</td>\n",
       "      <td>0</td>\n",
       "      <td>6</td>\n",
       "      <td>284</td>\n",
       "      <td>13</td>\n",
       "    </tr>\n",
       "    <tr>\n",
       "      <td>734</td>\n",
       "      <td>BGRMT</td>\n",
       "      <td>359999329999</td>\n",
       "      <td>0</td>\n",
       "      <td>1</td>\n",
       "      <td>284</td>\n",
       "      <td>13</td>\n",
       "    </tr>\n",
       "  </tbody>\n",
       "</table>\n",
       "</div>"
      ],
      "text/plain": [
       "    Operator        Prefix  Number/Range  SSN  MCC  MNC\n",
       "732    BGRMT  359999320011             0    7  284   13\n",
       "733    BGRMT  359999320031             0    6  284   13\n",
       "734    BGRMT  359999329999             0    1  284   13"
      ]
     },
     "execution_count": 277,
     "metadata": {},
     "output_type": "execute_result"
    }
   ],
   "source": [
    "str(df_np[(df_np.Prefix.str.startswith('6683',na=False))].Prefix.unique().tolist())\n",
    "df_np[(df_np.Prefix.str.startswith('35999',na=False))]"
   ]
  },
  {
   "cell_type": "markdown",
   "metadata": {},
   "source": [
    "### Hex Bin Dec conversion"
   ]
  },
  {
   "cell_type": "code",
   "execution_count": 9,
   "metadata": {},
   "outputs": [
    {
     "name": "stdout",
     "output_type": "stream",
     "text": [
      "Hex to dec\n",
      "0000000000000043\n",
      "Hex to bin\n",
      "0000000000101011\n",
      "Dec to hex\n",
      "FFFFFFFFFFFFFFFA\n",
      "Dec to bin\n",
      "0000000000001010\n",
      "Bin to hex\n",
      "FFFFFFFFFFFFFFFA\n",
      "Bin to dec\n",
      "0000000000000010\n"
     ]
    }
   ],
   "source": [
    "hex_int = 0x2b\n",
    "dec_int = 10\n",
    "bin_int = 0b1010\n",
    "# Hex to dec\n",
    "print('Hex to dec')\n",
    "print(f'{hex_int:0>16d}')\n",
    "# Hex to bin\n",
    "print('Hex to bin')\n",
    "print(f'{hex_int:0>16b}')\n",
    "# Dec to hex\n",
    "print('Dec to hex')\n",
    "print(f'{dec_int:F>16X}')\n",
    "# Dec to bin\n",
    "print('Dec to bin')\n",
    "print(f'{dec_int:0>16b}')\n",
    "# Bin to hex\n",
    "print('Bin to hex')\n",
    "print(f'{bin_int:F>16X}')\n",
    "# Bin to dec\n",
    "print('Bin to dec')\n",
    "print(f'{bin_int:0>16d}')"
   ]
  },
  {
   "cell_type": "code",
   "execution_count": 222,
   "metadata": {},
   "outputs": [
    {
     "data": {
      "text/plain": [
       "'0b111 - 0b11110011 - 0b1'"
      ]
     },
     "execution_count": 222,
     "metadata": {},
     "output_type": "execute_result"
    }
   ],
   "source": [
    "7-243-1\n",
    "4-4-2\n",
    "\n",
    "f'{bin(7)} - {bin(243)} - {bin(1)}'\n",
    "#2.61.6"
   ]
  },
  {
   "cell_type": "code",
   "execution_count": 223,
   "metadata": {},
   "outputs": [
    {
     "name": "stdout",
     "output_type": "stream",
     "text": [
      "0b10101010100011\n",
      "7 - 243 - 1\n"
     ]
    }
   ],
   "source": [
    "print(bin(10915))\n",
    "a = '11111110011001'\n",
    "# = '00000011001101'\n",
    "print(int(a[-14:-11],2),'-',int(a[-11:-3],2),'-',int(a[-3:],2) )"
   ]
  },
  {
   "cell_type": "markdown",
   "metadata": {},
   "source": [
    "### SIM Decoders"
   ]
  },
  {
   "cell_type": "code",
   "execution_count": 20,
   "metadata": {},
   "outputs": [
    {
     "data": {
      "text/plain": [
       "'\\x00nor.net'"
      ]
     },
     "execution_count": 20,
     "metadata": {},
     "output_type": "execute_result"
    }
   ],
   "source": [
    "import codecs\n",
    "codecs.encode(b\"Smartel\", \"hex\").upper()\n",
    "spn = '547269706C6554656C' # 00547269706C6554656C9000 'TripleTel'\n",
    "spn = '476C6F62616C3153494D' # 02476C6F62616C3153499000 'Global1SIM'\n",
    "spn = '5469636F6D' # 005469636F6DFFFFFFFF9000 'Ticom'\n",
    "spn = '006E6F722E6E6574'\n",
    "bytearray.fromhex(spn).decode()"
   ]
  },
  {
   "cell_type": "code",
   "execution_count": 308,
   "metadata": {},
   "outputs": [
    {
     "data": {
      "text/plain": [
       "'240400000110000'"
      ]
     },
     "execution_count": 308,
     "metadata": {},
     "output_type": "execute_result"
    }
   ],
   "source": [
    "# IMSI coding\n",
    "imsi = '2948310000209045'\n",
    "imsi = '29040400001100009000' # IMSI Ticom 0829483100002090459000 284130000020954\n",
    "def imsi_conv(imsi, code='code'):\n",
    "    \"\"\"Conver deconvert IMSI for perso. code='code' / 'decode'\"\"\"\n",
    "    if code=='code':\n",
    "        imsi = '9' + imsi\n",
    "        return ''.join([imsi[i] for i in [1, 0, 3, 2, 5, 4, 7, 6, 9, 8, 11, 10, 13, 12, 15, 14]])\n",
    "    elif code=='decode':\n",
    "        return ''.join([imsi[i] for i in [0, 3, 2, 5, 4, 7, 6, 9, 8, 11, 10, 13, 12, 15, 14]])\n",
    "\n",
    "imsi_conv(imsi, code='decode')"
   ]
  },
  {
   "cell_type": "code",
   "execution_count": 1108,
   "metadata": {},
   "outputs": [
    {
     "data": {
      "text/plain": [
       "'89297281102272186511'"
      ]
     },
     "execution_count": 1108,
     "metadata": {},
     "output_type": "execute_result"
    }
   ],
   "source": [
    "# ANY decoder\n",
    "value = '98791232039009010707' # ICCID Ticom 987912320390090107079000\n",
    "value = '07916437716243F0' # SPN Ticom 359999320001 FFFFFFFFFFFFFFFFFFFFFFFFFFFFFFFFFFFFFFFFFFFFFFFFE1FFFFFFFFFFFFFFFFFFFFFFFF0791539999230010FFFFFFFF0000A89000\n",
    "value = '98922718012227815611'\n",
    "def any_decoder(value):\n",
    "    value_conv = ''\n",
    "    for i in range(1, len(value), 2):\n",
    "        value_conv += value[i: i + 1]\n",
    "        value_conv += value[i - 1: i]\n",
    "    return value_conv\n",
    "any_decoder(value)"
   ]
  },
  {
   "cell_type": "markdown",
   "metadata": {},
   "source": [
    "## Testing"
   ]
  },
  {
   "cell_type": "code",
   "execution_count": 99,
   "metadata": {},
   "outputs": [
    {
     "name": "stdout",
     "output_type": "stream",
     "text": [
      "PDU SQN: 2\n"
     ]
    }
   ],
   "source": [
    "import smpplib\n",
    "import smpplib.gsm\n",
    "client = None\n",
    "#parts, encoding_flag, msg_type_flag = smpplib.gsm.make_parts(u'Hello world!')\n",
    "parts, encoding_flag, msg_type_flag = smpplib.gsm.make_parts(\"\"\"Test message\"\"\")\n",
    "\n",
    "client = smpplib.client.Client('172.18.11.20', 2770)\n",
    "# client = smpplib.client.Client('172.18.11.90', 2770) # Test\n",
    "client.connect()\n",
    "client.bind_transceiver(system_id='test', password='test') # ChangeMe for test\n",
    "for part in parts:\n",
    "    pdu = client.send_message(\n",
    "        source_addr_ton=smpplib.consts.SMPP_TON_INTL,\n",
    "#         source_addr_npi=smpplib.consts.SMPP_NPI_ISDN,\n",
    "        # Make sure it is a byte string, not unicode:\n",
    "        source_addr='17783003587',\n",
    "#         source_addr='Israel Post',\n",
    "        dest_addr_ton=smpplib.consts.SMPP_TON_INTL,\n",
    "        #dest_addr_npi=smpplib.consts.SMPP_NPI_ISDN,\n",
    "        # Make sure thease two params are byte strings, not unicode:\n",
    "#         destination_addr='16282710997',\n",
    "        destination_addr='15145911524',\n",
    "        short_message=part,\n",
    "        data_coding=encoding_flag,\n",
    "        esm_class=msg_type_flag,\n",
    "        registered_delivery=True,)\n",
    "    print(f'PDU SQN: {pdu.sequence}')\n",
    "client.unbind()\n",
    "client.unbind()\n",
    "client.disconnect()"
   ]
  },
  {
   "cell_type": "code",
   "execution_count": 747,
   "metadata": {},
   "outputs": [
    {
     "name": "stdout",
     "output_type": "stream",
     "text": [
      "200\n",
      "\"OK\"\n",
      "200\n",
      "\"OK\"\n",
      "200\n",
      "\"OK\"\n",
      "200\n",
      "\"OK\"\n"
     ]
    }
   ],
   "source": [
    "import requests\n",
    "ip_addr = '192.168.1.44'\n",
    "port = 80\n",
    "url_01 = f'http://{ip_addr}:{port}/climate;sensor=1&readattempt=10&temperature=25.0&humidity=35.0'\n",
    "url_02 = f'http://{ip_addr}:{port}/climate;sensor=4&readattempt=10&temperature=25.0&humidity=35.0'\n",
    "url_03 = f'http://{ip_addr}:{port}/gas;sensor=2&sensorValue=666'\n",
    "url_04 = f'http://{ip_addr}:{port}/motion;sensor=3'\n",
    "for url in [url_01, url_02, url_03, url_04]:\n",
    "    r = requests.get(url)\n",
    "    print(r.status_code)\n",
    "    print(r.text.strip())"
   ]
  },
  {
   "cell_type": "code",
   "execution_count": 15,
   "metadata": {},
   "outputs": [
    {
     "data": {
      "text/plain": [
       "0.0620707714240545"
      ]
     },
     "execution_count": 15,
     "metadata": {},
     "output_type": "execute_result"
    }
   ],
   "source": [
    "# Data\n",
    "sdrRate = 1.34588\n",
    "charge = 0.295\n",
    "chargedUnits = 6641698\n",
    "unit = 1024 * 1014\n",
    "(charge * sdrRate / chargedUnits) * unit"
   ]
  },
  {
   "cell_type": "code",
   "execution_count": 109,
   "metadata": {},
   "outputs": [
    {
     "data": {
      "text/plain": [
       "0.22728260940000003"
      ]
     },
     "execution_count": 109,
     "metadata": {},
     "output_type": "execute_result"
    }
   ],
   "source": [
    "# Sms\n",
    "sdrRate = 1.37522\n",
    "charge = 0.16527\n",
    "chargedUnits = 1\n",
    "unit = 1\n",
    "(charge * sdrRate / chargedUnits) * unit"
   ]
  },
  {
   "cell_type": "code",
   "execution_count": 981,
   "metadata": {},
   "outputs": [
    {
     "data": {
      "text/plain": [
       "0.0"
      ]
     },
     "execution_count": 981,
     "metadata": {},
     "output_type": "execute_result"
    }
   ],
   "source": [
    "# Voice\n",
    "sdrRate = 1.37522\n",
    "charge = 0\n",
    "chargedUnits = 14\n",
    "unit = 60\n",
    "(charge * sdrRate / chargedUnits) * unit"
   ]
  },
  {
   "cell_type": "code",
   "execution_count": null,
   "metadata": {},
   "outputs": [],
   "source": []
  },
  {
   "cell_type": "code",
   "execution_count": null,
   "metadata": {},
   "outputs": [],
   "source": []
  },
  {
   "cell_type": "code",
   "execution_count": null,
   "metadata": {},
   "outputs": [],
   "source": []
  },
  {
   "cell_type": "code",
   "execution_count": 1027,
   "metadata": {},
   "outputs": [
    {
     "data": {
      "text/html": [
       "<div>\n",
       "<style scoped>\n",
       "    .dataframe tbody tr th:only-of-type {\n",
       "        vertical-align: middle;\n",
       "    }\n",
       "\n",
       "    .dataframe tbody tr th {\n",
       "        vertical-align: top;\n",
       "    }\n",
       "\n",
       "    .dataframe thead th {\n",
       "        text-align: right;\n",
       "    }\n",
       "</style>\n",
       "<table border=\"1\" class=\"dataframe\">\n",
       "  <thead>\n",
       "    <tr style=\"text-align: right;\">\n",
       "      <th></th>\n",
       "      <th>Name</th>\n",
       "      <th>Description</th>\n",
       "      <th>RangeStart</th>\n",
       "      <th>RangeEnd</th>\n",
       "      <th>Count</th>\n",
       "      <th>Country</th>\n",
       "      <th>Type</th>\n",
       "      <th>Customer</th>\n",
       "    </tr>\n",
       "  </thead>\n",
       "  <tbody>\n",
       "    <tr>\n",
       "      <td>0</td>\n",
       "      <td>X2one</td>\n",
       "      <td>X2One USA 200303 DrimSim</td>\n",
       "      <td>16282710001</td>\n",
       "      <td>16282710001</td>\n",
       "      <td>1</td>\n",
       "      <td>USA</td>\n",
       "      <td>NEW</td>\n",
       "      <td>DrimSim</td>\n",
       "    </tr>\n",
       "    <tr>\n",
       "      <td>1</td>\n",
       "      <td>X2one</td>\n",
       "      <td>X2One USA 200303 DrimSim</td>\n",
       "      <td>16282710002</td>\n",
       "      <td>16282710002</td>\n",
       "      <td>1</td>\n",
       "      <td>USA</td>\n",
       "      <td>NEW</td>\n",
       "      <td>DrimSim</td>\n",
       "    </tr>\n",
       "    <tr>\n",
       "      <td>2</td>\n",
       "      <td>X2one</td>\n",
       "      <td>X2One USA 200303 DrimSim</td>\n",
       "      <td>16282710003</td>\n",
       "      <td>16282710003</td>\n",
       "      <td>1</td>\n",
       "      <td>USA</td>\n",
       "      <td>NEW</td>\n",
       "      <td>DrimSim</td>\n",
       "    </tr>\n",
       "  </tbody>\n",
       "</table>\n",
       "</div>"
      ],
      "text/plain": [
       "    Name               Description   RangeStart     RangeEnd Count Country  \\\n",
       "0  X2one  X2One USA 200303 DrimSim  16282710001  16282710001     1     USA   \n",
       "1  X2one  X2One USA 200303 DrimSim  16282710002  16282710002     1     USA   \n",
       "2  X2one  X2One USA 200303 DrimSim  16282710003  16282710003     1     USA   \n",
       "\n",
       "  Type Customer  \n",
       "0  NEW  DrimSim  \n",
       "1  NEW  DrimSim  \n",
       "2  NEW  DrimSim  "
      ]
     },
     "execution_count": 1027,
     "metadata": {},
     "output_type": "execute_result"
    }
   ],
   "source": [
    "sql_srt=\"\"\"\n",
    "SELECT \n",
    "DISTINCT o.Name,did.Description,did.RangeStart, did.RangeEnd, did.Count\n",
    "FROM [dbo].[DIDRanges] did\n",
    "LEFT JOIN [dbo].[SponsorDIDRanges] sdid ON did.ID = sdid.DIDRangeID\n",
    "LEFT JOIN [dbo].[Sponsors] s ON sdid.SponsorID = s.ID\n",
    "LEFT JOIN [dbo].[Operators] o ON o.ID = s.OperatorID\n",
    "WHERE o.Name LIKE 'X2%';\"\"\"\n",
    "with rb.MssqlConnect('172.19.11.59', 'RoamDb', 'roamdb', 'roamdbpasswd') as cnxn:\n",
    "    df_did_rdb = pd.read_sql_query(sql_srt, cnxn, coerce_float=False)\n",
    "df_did_rdb[['RangeStart','RangeEnd']] = df_did_rdb[['RangeStart','RangeEnd']].astype('str')\n",
    "df_did_rdb.drop_duplicates(inplace=True)\n",
    "\n",
    "def f(x):\n",
    "    l = []\n",
    "    if 'UK' in x.Description:\n",
    "        l.append('UK')\n",
    "    elif 'USA' in x.Description:\n",
    "        l.append('USA')\n",
    "    else:\n",
    "        l.append('Unk')\n",
    "#     if '200311' in x.Description:\n",
    "#         l.append('NEW_200311')\n",
    "#     elif '200303' in x.Description:\n",
    "#         l.append('NEW_200303')\n",
    "#     else:\n",
    "#         l.append('OLD')\n",
    "    if '200311' in x.Description:\n",
    "        l.append('NEW')\n",
    "    elif '200303' in x.Description:\n",
    "        l.append('NEW')\n",
    "    else:\n",
    "        l.append('OLD')\n",
    "    if 'drimsim' in x.Description.lower():\n",
    "        l.append('DrimSim')\n",
    "    else:\n",
    "        l.append(x.Description.split(' ')[-1])\n",
    "    return l\n",
    "\n",
    "df_did_rdb[['Country', 'Type', 'Customer']] = DataFrame(df_did_rdb.apply(f, axis=1).tolist())\n",
    "df_did_rdb.head(3)"
   ]
  },
  {
   "cell_type": "code",
   "execution_count": 1028,
   "metadata": {},
   "outputs": [
    {
     "data": {
      "text/html": [
       "<div>\n",
       "<style scoped>\n",
       "    .dataframe tbody tr th:only-of-type {\n",
       "        vertical-align: middle;\n",
       "    }\n",
       "\n",
       "    .dataframe tbody tr th {\n",
       "        vertical-align: top;\n",
       "    }\n",
       "\n",
       "    .dataframe thead th {\n",
       "        text-align: right;\n",
       "    }\n",
       "</style>\n",
       "<table border=\"1\" class=\"dataframe\">\n",
       "  <thead>\n",
       "    <tr style=\"text-align: right;\">\n",
       "      <th></th>\n",
       "      <th>Name</th>\n",
       "      <th>Country</th>\n",
       "      <th>Customer</th>\n",
       "      <th>Type</th>\n",
       "      <th>Count</th>\n",
       "    </tr>\n",
       "  </thead>\n",
       "  <tbody>\n",
       "    <tr>\n",
       "      <td>0</td>\n",
       "      <td>X2one</td>\n",
       "      <td>USA</td>\n",
       "      <td>DrimSim</td>\n",
       "      <td>NEW</td>\n",
       "      <td>6000</td>\n",
       "    </tr>\n",
       "    <tr>\n",
       "      <td>1</td>\n",
       "      <td>X2one</td>\n",
       "      <td>USA</td>\n",
       "      <td>FREE</td>\n",
       "      <td>NEW</td>\n",
       "      <td>997</td>\n",
       "    </tr>\n",
       "    <tr>\n",
       "      <td>2</td>\n",
       "      <td>X2one</td>\n",
       "      <td>USA</td>\n",
       "      <td>OrangeTest</td>\n",
       "      <td>NEW</td>\n",
       "      <td>1</td>\n",
       "    </tr>\n",
       "    <tr>\n",
       "      <td>3</td>\n",
       "      <td>X2one</td>\n",
       "      <td>USA</td>\n",
       "      <td>Pavel</td>\n",
       "      <td>NEW</td>\n",
       "      <td>1</td>\n",
       "    </tr>\n",
       "    <tr>\n",
       "      <td>4</td>\n",
       "      <td>X2one</td>\n",
       "      <td>USA</td>\n",
       "      <td>test</td>\n",
       "      <td>NEW</td>\n",
       "      <td>1</td>\n",
       "    </tr>\n",
       "  </tbody>\n",
       "</table>\n",
       "</div>"
      ],
      "text/plain": [
       "    Name Country    Customer Type Count\n",
       "0  X2one     USA     DrimSim  NEW  6000\n",
       "1  X2one     USA        FREE  NEW   997\n",
       "2  X2one     USA  OrangeTest  NEW     1\n",
       "3  X2one     USA       Pavel  NEW     1\n",
       "4  X2one     USA        test  NEW     1"
      ]
     },
     "execution_count": 1028,
     "metadata": {},
     "output_type": "execute_result"
    }
   ],
   "source": [
    "df_did_rdb.groupby(['Name','Country','Customer','Type'], as_index=False)['Count'].sum().sort_values(by='Type')"
   ]
  },
  {
   "cell_type": "code",
   "execution_count": 1026,
   "metadata": {},
   "outputs": [
    {
     "data": {
      "text/html": [
       "<div>\n",
       "<style scoped>\n",
       "    .dataframe tbody tr th:only-of-type {\n",
       "        vertical-align: middle;\n",
       "    }\n",
       "\n",
       "    .dataframe tbody tr th {\n",
       "        vertical-align: top;\n",
       "    }\n",
       "\n",
       "    .dataframe thead th {\n",
       "        text-align: right;\n",
       "    }\n",
       "</style>\n",
       "<table border=\"1\" class=\"dataframe\">\n",
       "  <thead>\n",
       "    <tr style=\"text-align: right;\">\n",
       "      <th></th>\n",
       "      <th>Name</th>\n",
       "      <th>Description</th>\n",
       "      <th>RangeStart</th>\n",
       "      <th>RangeEnd</th>\n",
       "      <th>Count</th>\n",
       "      <th>Country</th>\n",
       "      <th>Type</th>\n",
       "      <th>Customer</th>\n",
       "    </tr>\n",
       "  </thead>\n",
       "  <tbody>\n",
       "    <tr>\n",
       "      <td>0</td>\n",
       "      <td>X2one</td>\n",
       "      <td>X2One USA 200303 1OT</td>\n",
       "      <td>16672506138</td>\n",
       "      <td>16672506138</td>\n",
       "      <td>1</td>\n",
       "      <td>USA</td>\n",
       "      <td>NEW</td>\n",
       "      <td>1OT</td>\n",
       "    </tr>\n",
       "  </tbody>\n",
       "</table>\n",
       "</div>"
      ],
      "text/plain": [
       "    Name           Description   RangeStart     RangeEnd Count Country Type  \\\n",
       "0  X2one  X2One USA 200303 1OT  16672506138  16672506138     1     USA  NEW   \n",
       "\n",
       "  Customer  \n",
       "0      1OT  "
      ]
     },
     "execution_count": 1026,
     "metadata": {},
     "output_type": "execute_result"
    }
   ],
   "source": [
    "df_did_rdb.loc[df_did_rdb.RangeStart == '16672506138']\n",
    "# df_did_rdb.loc[df_did_rdb.Customer == 'test']"
   ]
  },
  {
   "cell_type": "code",
   "execution_count": 987,
   "metadata": {},
   "outputs": [],
   "source": [
    "df_did_rdb.loc[df_did_rdb.Type == 'OLD',\n",
    "               ['Description','RangeStart','RangeEnd','Count']].to_csv(join(downloads, 'X2oneOldDid.csv'), index=False)"
   ]
  },
  {
   "cell_type": "code",
   "execution_count": 1022,
   "metadata": {},
   "outputs": [
    {
     "data": {
      "text/html": [
       "<div>\n",
       "<style scoped>\n",
       "    .dataframe tbody tr th:only-of-type {\n",
       "        vertical-align: middle;\n",
       "    }\n",
       "\n",
       "    .dataframe tbody tr th {\n",
       "        vertical-align: top;\n",
       "    }\n",
       "\n",
       "    .dataframe thead th {\n",
       "        text-align: right;\n",
       "    }\n",
       "</style>\n",
       "<table border=\"1\" class=\"dataframe\">\n",
       "  <thead>\n",
       "    <tr style=\"text-align: right;\">\n",
       "      <th></th>\n",
       "      <th>RangeStart</th>\n",
       "      <th>DS</th>\n",
       "    </tr>\n",
       "  </thead>\n",
       "  <tbody>\n",
       "    <tr>\n",
       "      <td>0</td>\n",
       "      <td>16282710001</td>\n",
       "      <td>YES</td>\n",
       "    </tr>\n",
       "    <tr>\n",
       "      <td>1</td>\n",
       "      <td>16282710002</td>\n",
       "      <td>YES</td>\n",
       "    </tr>\n",
       "    <tr>\n",
       "      <td>2</td>\n",
       "      <td>16282710003</td>\n",
       "      <td>YES</td>\n",
       "    </tr>\n",
       "    <tr>\n",
       "      <td>3</td>\n",
       "      <td>16282710004</td>\n",
       "      <td>YES</td>\n",
       "    </tr>\n",
       "    <tr>\n",
       "      <td>4</td>\n",
       "      <td>16282710005</td>\n",
       "      <td>YES</td>\n",
       "    </tr>\n",
       "  </tbody>\n",
       "</table>\n",
       "</div>"
      ],
      "text/plain": [
       "    RangeStart   DS\n",
       "0  16282710001  YES\n",
       "1  16282710002  YES\n",
       "2  16282710003  YES\n",
       "3  16282710004  YES\n",
       "4  16282710005  YES"
      ]
     },
     "execution_count": 1022,
     "metadata": {},
     "output_type": "execute_result"
    }
   ],
   "source": [
    "# df = pd.read_csv(join(downloads, 'Roamability_Drimsim_5K_replacement_200311.csv'),\n",
    "df = pd.read_csv(join(downloads, 'US_Order_1_1k.csv'),\n",
    "                 header=None, names=['RangeStart'], dtype='str')\n",
    "df['DS'] = 'YES'\n",
    "df.head()"
   ]
  },
  {
   "cell_type": "code",
   "execution_count": 1025,
   "metadata": {},
   "outputs": [
    {
     "data": {
      "text/html": [
       "<div>\n",
       "<style scoped>\n",
       "    .dataframe tbody tr th:only-of-type {\n",
       "        vertical-align: middle;\n",
       "    }\n",
       "\n",
       "    .dataframe tbody tr th {\n",
       "        vertical-align: top;\n",
       "    }\n",
       "\n",
       "    .dataframe thead th {\n",
       "        text-align: right;\n",
       "    }\n",
       "</style>\n",
       "<table border=\"1\" class=\"dataframe\">\n",
       "  <thead>\n",
       "    <tr style=\"text-align: right;\">\n",
       "      <th></th>\n",
       "      <th>Name</th>\n",
       "      <th>Description</th>\n",
       "      <th>RangeStart</th>\n",
       "      <th>RangeEnd</th>\n",
       "      <th>Count</th>\n",
       "      <th>Country</th>\n",
       "      <th>Type</th>\n",
       "      <th>Customer</th>\n",
       "      <th>DS</th>\n",
       "    </tr>\n",
       "  </thead>\n",
       "  <tbody>\n",
       "    <tr>\n",
       "      <td>999</td>\n",
       "      <td>NaN</td>\n",
       "      <td>NaN</td>\n",
       "      <td>16672506138</td>\n",
       "      <td>NaN</td>\n",
       "      <td>NaN</td>\n",
       "      <td>NaN</td>\n",
       "      <td>NaN</td>\n",
       "      <td>NaN</td>\n",
       "      <td>YES</td>\n",
       "    </tr>\n",
       "  </tbody>\n",
       "</table>\n",
       "</div>"
      ],
      "text/plain": [
       "    Name Description   RangeStart RangeEnd Count Country Type Customer   DS\n",
       "999  NaN         NaN  16672506138      NaN   NaN     NaN  NaN      NaN  YES"
      ]
     },
     "execution_count": 1025,
     "metadata": {},
     "output_type": "execute_result"
    }
   ],
   "source": [
    "df1 = pd.merge(df_did_rdb.loc[df_did_rdb.Customer == 'DrimSim'], df, how='right', on='RangeStart')\n",
    "df1.count()\n",
    "df1.loc[df1.Customer.isna()]"
   ]
  },
  {
   "cell_type": "code",
   "execution_count": 434,
   "metadata": {},
   "outputs": [
    {
     "name": "stdout",
     "output_type": "stream",
     "text": [
      "02700000160D0001000020603D79FB432EAE63F082E734F3B46085\n"
     ]
    }
   ],
   "source": [
    "ota_payload = '20603D79FB432EAE63F082E734F3B46085'\n",
    "l = len(ota_payload)/2\n",
    "as_rp = '0D0001'\n",
    "as_mo = '0D0021'\n",
    "sms_payload = f'02700000{int(l+5):X}{as_rp}0000{ota_payload}'\n",
    "print(sms_payload)"
   ]
  },
  {
   "cell_type": "code",
   "execution_count": 487,
   "metadata": {},
   "outputs": [
    {
     "data": {
      "text/plain": [
       "'4155A1741F3A507AC4CFC395C16D9795'"
      ]
     },
     "execution_count": 487,
     "metadata": {},
     "output_type": "execute_result"
    }
   ],
   "source": [
    "from Crypto.Cipher import DES3\n",
    "from Crypto.Random import get_random_bytes\n",
    "# Avoid Option 3\n",
    "while True:\n",
    "    try:\n",
    "        key = DES3.adjust_key_parity(get_random_bytes(24))\n",
    "        break\n",
    "    except ValueError:\n",
    "        pass\n",
    "\n",
    "hex_str = 'D0AEE50D70087C19D773696FE698C78832432DF14F2487D1'\n",
    "key = bytes.fromhex(hex_str)    \n",
    "\n",
    "cipher = DES3.new(key, DES3.MODE_CBC)\n",
    "# plaintext = b'We are no longer the knights who say ni!'\n",
    "plaintext = bytes.fromhex('4E3F0E5A000000010018BC') \n",
    "plaintext = bytes.fromhex('4E3F0E5A00000001') \n",
    "msg = cipher.iv + cipher.encrypt(plaintext)\n",
    "s=''\n",
    "for b in msg:\n",
    "    s+=f'{b:X}'\n",
    "s\n",
    "# 20603D79FB432EAE63F082E734F3B46085"
   ]
  },
  {
   "cell_type": "code",
   "execution_count": null,
   "metadata": {},
   "outputs": [],
   "source": []
  },
  {
   "cell_type": "markdown",
   "metadata": {},
   "source": [
    "### OTA messages"
   ]
  },
  {
   "cell_type": "code",
   "execution_count": null,
   "metadata": {},
   "outputs": [],
   "source": [
    "# Hex string to bytes\n",
    "hex_str = 'D0AEE50D70087C19D773696FE698C78832432DF14F2487D1'\n",
    "byte_str = bytes.fromhex(hex_str)"
   ]
  },
  {
   "cell_type": "code",
   "execution_count": 571,
   "metadata": {},
   "outputs": [
    {
     "data": {
      "text/plain": [
       "'027000001F0D00010000BFFF01000000000000102F978372C730834EF445172BD26B8C8F'"
      ]
     },
     "execution_count": 571,
     "metadata": {},
     "output_type": "execute_result"
    }
   ],
   "source": [
    "# RB GetInfo example\n",
    "rb.get_info"
   ]
  },
  {
   "cell_type": "code",
   "execution_count": 689,
   "metadata": {},
   "outputs": [
    {
     "data": {
      "text/plain": [
       "<?xml version=\"1.0\" encoding=\"utf-8\"?>\n",
       "<response>\n",
       "<result>-1</result>\n",
       "<error>timeout</error>\n",
       "<src_gt/>\n",
       "</response>"
      ]
     },
     "execution_count": 689,
     "metadata": {},
     "output_type": "execute_result"
    }
   ],
   "source": [
    "# Send a SMS\n",
    "sms_payload = rb.get_info\n",
    "sms_payload = 'A0C200004ED14C820283818B46400881556677887FF600112912000004350270000030150E192525000000010E0A8A0E1BD80CABB2C3F3903D80EF579BAEECBE6941A6DC0D437D553FE120026765CF497DEE5D'\n",
    "# resp = sendSMS('97254120624', '425019613000536', '79112009927', sms_payload.upper()) # My test SIM\n",
    "resp = sendSMS('550170002133', '724179999990002', '551184137200', sms_payload.upper())\n",
    "BeautifulSoup(resp,'xml')"
   ]
  },
  {
   "cell_type": "code",
   "execution_count": 586,
   "metadata": {},
   "outputs": [
    {
     "name": "stdout",
     "output_type": "stream",
     "text": [
      "This SIM card contains the following IMSIs:\n",
      "Slot 0 425019613000536\n",
      "Slot 1 260060149000536\n",
      "Slot 2 234500026400001\n",
      "Slot 3 425019617000000\n",
      "Slot 4 260036610000004\n",
      "\n",
      "Applet ver.: 1.8.0\n",
      "MCCMNC: 25001\n"
     ]
    }
   ],
   "source": [
    "# Decode response from SIM\n",
    "s = BeautifulSoup(resp,'xml').response.response.text\n",
    "rb.decode_payload_response(s)"
   ]
  },
  {
   "cell_type": "code",
   "execution_count": 664,
   "metadata": {},
   "outputs": [
    {
     "name": "stdout",
     "output_type": "stream",
     "text": [
      "The original plaintext: 4E3F0E5A000000010018BC\n",
      "Plaintext 8 byte part 1: 4E3F0E5A00000001\n",
      "Plaintext 8 byte part 2: 0018BC0000000000\n",
      "Encrypted:        3A2AEF7E5E182F38FCFFA3AF205C1A94\n",
      "Original example: 2028D0FC11B4CD2E540704D7775B065DA8\n"
     ]
    }
   ],
   "source": [
    "# Encrypt plaintext to OTA payload\n",
    "\n",
    "import math\n",
    "from Crypto.Cipher import DES3\n",
    "\n",
    "# Roamability Test keys example\n",
    "\n",
    "key_hex_str = 'D0AEE50D70087C19D773696FE698C78832432DF14F2487D1'\n",
    "key = bytes.fromhex(key_hex_str)\n",
    "\n",
    "# Plaintext\n",
    "\n",
    "plaintext = '4E3F0E5A000000010018BC'\n",
    "print(f'The original plaintext: {plaintext}')\n",
    "\n",
    "# Split plaintext into 8 byte parts for DES3 CBC encryption\n",
    "\n",
    "byte_array_list = []\n",
    "for i in range(1, math.ceil(len(plaintext)/16)+1):\n",
    "    hex_str = f'{plaintext[(i-1)*16:i*16]:0<16}'\n",
    "    print(f'Plaintext 8 byte part {i}: {hex_str}')\n",
    "    byte_array = bytes.fromhex(hex_str)\n",
    "    byte_array_list.append(byte_array)\n",
    "\n",
    "# Create cipher\n",
    "\n",
    "cipher = DES3.new(key, DES3.MODE_CBC)\n",
    "\n",
    "# Encrypt 8 byte parts\n",
    "\n",
    "cipher_str = ''\n",
    "for byte_array in byte_array_list:\n",
    "    msg = cipher.encrypt(byte_array_list[0])\n",
    "    for b in msg:\n",
    "        cipher_str += f'{b:X}'\n",
    "print(f'Encrypted:        {cipher_str}')\n",
    "print('Original example: 2028D0FC11B4CD2E540704D7775B065DA8')"
   ]
  },
  {
   "cell_type": "code",
   "execution_count": 675,
   "metadata": {},
   "outputs": [
    {
     "name": "stdout",
     "output_type": "stream",
     "text": [
      "0x95\n"
     ]
    }
   ],
   "source": [
    "checksum = 0\n",
    "packet = bytes.fromhex('2028D0FC11B4CD2E540704D7775B065D')\n",
    "for el in packet:\n",
    "    checksum ^= el\n",
    "\n",
    "print(hex(checksum))"
   ]
  },
  {
   "cell_type": "code",
   "execution_count": 685,
   "metadata": {},
   "outputs": [
    {
     "name": "stdout",
     "output_type": "stream",
     "text": [
      "02700000280D00010000BFFF0100000000008010000016FBF7FF7F1F0E0FCB4100001FE3869804070000000000\n"
     ]
    }
   ],
   "source": [
    "# Make payload for SMS\n",
    "ota_payload = '8010000016FBF7FF7F1F0E0FCB4100001FE3869804070000000000'\n",
    "\n",
    "as_rp = '0D0001'\n",
    "as_mo = '0D0021'\n",
    "header = '0000BFFF010000000000'\n",
    "l = (len(ota_payload) + len(as_rp) + len(header))/2\n",
    "sms_payload = f'02700000{int(l):X}{as_rp}0000BFFF010000000000{ota_payload}'\n",
    "print(sms_payload)"
   ]
  },
  {
   "cell_type": "code",
   "execution_count": 1100,
   "metadata": {},
   "outputs": [
    {
     "data": {
      "text/plain": [
       "1100.0"
      ]
     },
     "execution_count": 1100,
     "metadata": {},
     "output_type": "execute_result"
    }
   ],
   "source": [
    "5000 * 0.22"
   ]
  },
  {
   "cell_type": "markdown",
   "metadata": {},
   "source": [
    "### Developments"
   ]
  },
  {
   "cell_type": "code",
   "execution_count": 161,
   "metadata": {},
   "outputs": [
    {
     "data": {
      "text/html": [
       "<div>\n",
       "<style scoped>\n",
       "    .dataframe tbody tr th:only-of-type {\n",
       "        vertical-align: middle;\n",
       "    }\n",
       "\n",
       "    .dataframe tbody tr th {\n",
       "        vertical-align: top;\n",
       "    }\n",
       "\n",
       "    .dataframe thead th {\n",
       "        text-align: right;\n",
       "    }\n",
       "</style>\n",
       "<table border=\"1\" class=\"dataframe\">\n",
       "  <thead>\n",
       "    <tr style=\"text-align: right;\">\n",
       "      <th></th>\n",
       "      <th>name</th>\n",
       "      <th>desc</th>\n",
       "      <th>num1</th>\n",
       "      <th>num2</th>\n",
       "    </tr>\n",
       "  </thead>\n",
       "  <tbody>\n",
       "    <tr>\n",
       "      <td>0</td>\n",
       "      <td>one</td>\n",
       "      <td>Hello</td>\n",
       "      <td>70</td>\n",
       "      <td>44</td>\n",
       "    </tr>\n",
       "    <tr>\n",
       "      <td>1</td>\n",
       "      <td>two</td>\n",
       "      <td>world</td>\n",
       "      <td>6</td>\n",
       "      <td>22</td>\n",
       "    </tr>\n",
       "    <tr>\n",
       "      <td>2</td>\n",
       "      <td>three</td>\n",
       "      <td>Hello</td>\n",
       "      <td>81</td>\n",
       "      <td>32</td>\n",
       "    </tr>\n",
       "    <tr>\n",
       "      <td>3</td>\n",
       "      <td>one</td>\n",
       "      <td>world</td>\n",
       "      <td>90</td>\n",
       "      <td>24</td>\n",
       "    </tr>\n",
       "    <tr>\n",
       "      <td>4</td>\n",
       "      <td>two</td>\n",
       "      <td>Hello</td>\n",
       "      <td>28</td>\n",
       "      <td>77</td>\n",
       "    </tr>\n",
       "    <tr>\n",
       "      <td>5</td>\n",
       "      <td>three</td>\n",
       "      <td>world</td>\n",
       "      <td>36</td>\n",
       "      <td>7</td>\n",
       "    </tr>\n",
       "    <tr>\n",
       "      <td>6</td>\n",
       "      <td>one</td>\n",
       "      <td>Hello</td>\n",
       "      <td>4</td>\n",
       "      <td>69</td>\n",
       "    </tr>\n",
       "    <tr>\n",
       "      <td>7</td>\n",
       "      <td>two</td>\n",
       "      <td>world</td>\n",
       "      <td>57</td>\n",
       "      <td>91</td>\n",
       "    </tr>\n",
       "    <tr>\n",
       "      <td>8</td>\n",
       "      <td>three</td>\n",
       "      <td>Hello</td>\n",
       "      <td>26</td>\n",
       "      <td>41</td>\n",
       "    </tr>\n",
       "    <tr>\n",
       "      <td>9</td>\n",
       "      <td>one</td>\n",
       "      <td>world</td>\n",
       "      <td>98</td>\n",
       "      <td>29</td>\n",
       "    </tr>\n",
       "    <tr>\n",
       "      <td>10</td>\n",
       "      <td>two</td>\n",
       "      <td>Hello</td>\n",
       "      <td>66</td>\n",
       "      <td>60</td>\n",
       "    </tr>\n",
       "    <tr>\n",
       "      <td>11</td>\n",
       "      <td>three</td>\n",
       "      <td>world</td>\n",
       "      <td>51</td>\n",
       "      <td>86</td>\n",
       "    </tr>\n",
       "  </tbody>\n",
       "</table>\n",
       "</div>"
      ],
      "text/plain": [
       "     name   desc  num1  num2\n",
       "0     one  Hello    70    44\n",
       "1     two  world     6    22\n",
       "2   three  Hello    81    32\n",
       "3     one  world    90    24\n",
       "4     two  Hello    28    77\n",
       "5   three  world    36     7\n",
       "6     one  Hello     4    69\n",
       "7     two  world    57    91\n",
       "8   three  Hello    26    41\n",
       "9     one  world    98    29\n",
       "10    two  Hello    66    60\n",
       "11  three  world    51    86"
      ]
     },
     "metadata": {},
     "output_type": "display_data"
    },
    {
     "data": {
      "text/plain": [
       "name\n",
       "one      2\n",
       "three    2\n",
       "two      2\n",
       "Name: desc, dtype: int64"
      ]
     },
     "metadata": {},
     "output_type": "display_data"
    },
    {
     "data": {
      "text/plain": [
       "name\n",
       "one      428\n",
       "three    360\n",
       "two      407\n",
       "dtype: int64"
      ]
     },
     "metadata": {},
     "output_type": "display_data"
    }
   ],
   "source": [
    "import numpy as np\n",
    "import pandas as pd\n",
    "from pandas import DataFrame\n",
    "df = DataFrame({'name':['one', 'two', 'three']*4, 'desc':['Hello', 'world']*6,\n",
    "                'num1':np.random.randint(0, 100, size=12), 'num2':np.random.randint(0, 100, size=12)})\n",
    "display(df)\n",
    "display(df.groupby('name')['desc'].apply(lambda x: x.str.contains('ell').sum()))\n",
    "display(df.groupby('name').apply(lambda df: sum(df['num1']+df['num2'])))"
   ]
  },
  {
   "cell_type": "code",
   "execution_count": 173,
   "metadata": {},
   "outputs": [
    {
     "data": {
      "text/html": [
       "<div>\n",
       "<style scoped>\n",
       "    .dataframe tbody tr th:only-of-type {\n",
       "        vertical-align: middle;\n",
       "    }\n",
       "\n",
       "    .dataframe tbody tr th {\n",
       "        vertical-align: top;\n",
       "    }\n",
       "\n",
       "    .dataframe thead th {\n",
       "        text-align: right;\n",
       "    }\n",
       "</style>\n",
       "<table border=\"1\" class=\"dataframe\">\n",
       "  <thead>\n",
       "    <tr style=\"text-align: right;\">\n",
       "      <th></th>\n",
       "      <th>date</th>\n",
       "      <th>desc</th>\n",
       "    </tr>\n",
       "  </thead>\n",
       "  <tbody>\n",
       "    <tr>\n",
       "      <td>0</td>\n",
       "      <td>2012-03-09 09:30:00</td>\n",
       "      <td>54</td>\n",
       "    </tr>\n",
       "    <tr>\n",
       "      <td>1</td>\n",
       "      <td>2012-03-10 09:30:00</td>\n",
       "      <td>24</td>\n",
       "    </tr>\n",
       "    <tr>\n",
       "      <td>2</td>\n",
       "      <td>2012-03-11 09:30:00</td>\n",
       "      <td>5</td>\n",
       "    </tr>\n",
       "    <tr>\n",
       "      <td>3</td>\n",
       "      <td>2012-03-12 09:30:00</td>\n",
       "      <td>21</td>\n",
       "    </tr>\n",
       "    <tr>\n",
       "      <td>4</td>\n",
       "      <td>2012-03-13 09:30:00</td>\n",
       "      <td>37</td>\n",
       "    </tr>\n",
       "  </tbody>\n",
       "</table>\n",
       "</div>"
      ],
      "text/plain": [
       "                 date  desc\n",
       "0 2012-03-09 09:30:00    54\n",
       "1 2012-03-10 09:30:00    24\n",
       "2 2012-03-11 09:30:00     5\n",
       "3 2012-03-12 09:30:00    21\n",
       "4 2012-03-13 09:30:00    37"
      ]
     },
     "metadata": {},
     "output_type": "display_data"
    },
    {
     "data": {
      "text/plain": [
       "0      Friday\n",
       "1    Saturday\n",
       "2      Sunday\n",
       "3      Monday\n",
       "4     Tuesday\n",
       "Name: date, dtype: object"
      ]
     },
     "execution_count": 173,
     "metadata": {},
     "output_type": "execute_result"
    }
   ],
   "source": [
    "import pandas as pd\n",
    "import datetime as dt\n",
    "df = pd.DataFrame({'date':pd.date_range('3/9/2012 9:30', periods=5, freq='D'), 'desc':np.random.randint(0, 100, size=5)})\n",
    "display(df)\n",
    "df['date'].dt.day_name()"
   ]
  },
  {
   "cell_type": "code",
   "execution_count": 188,
   "metadata": {},
   "outputs": [
    {
     "data": {
      "text/html": [
       "<div>\n",
       "<style scoped>\n",
       "    .dataframe tbody tr th:only-of-type {\n",
       "        vertical-align: middle;\n",
       "    }\n",
       "\n",
       "    .dataframe tbody tr th {\n",
       "        vertical-align: top;\n",
       "    }\n",
       "\n",
       "    .dataframe thead th {\n",
       "        text-align: right;\n",
       "    }\n",
       "</style>\n",
       "<table border=\"1\" class=\"dataframe\">\n",
       "  <thead>\n",
       "    <tr style=\"text-align: right;\">\n",
       "      <th></th>\n",
       "      <th>apple</th>\n",
       "      <th>orange</th>\n",
       "      <th>pear</th>\n",
       "      <th>plum</th>\n",
       "      <th>banana</th>\n",
       "    </tr>\n",
       "    <tr>\n",
       "      <th>Date</th>\n",
       "      <th></th>\n",
       "      <th></th>\n",
       "      <th></th>\n",
       "      <th></th>\n",
       "      <th></th>\n",
       "    </tr>\n",
       "  </thead>\n",
       "  <tbody>\n",
       "    <tr>\n",
       "      <td>2000-01-01</td>\n",
       "      <td>200</td>\n",
       "      <td>201</td>\n",
       "      <td>202</td>\n",
       "      <td>203</td>\n",
       "      <td>204</td>\n",
       "    </tr>\n",
       "    <tr>\n",
       "      <td>2000-01-02</td>\n",
       "      <td>205</td>\n",
       "      <td>206</td>\n",
       "      <td>207</td>\n",
       "      <td>208</td>\n",
       "      <td>209</td>\n",
       "    </tr>\n",
       "    <tr>\n",
       "      <td>2000-01-03</td>\n",
       "      <td>210</td>\n",
       "      <td>211</td>\n",
       "      <td>212</td>\n",
       "      <td>213</td>\n",
       "      <td>214</td>\n",
       "    </tr>\n",
       "    <tr>\n",
       "      <td>2000-01-04</td>\n",
       "      <td>215</td>\n",
       "      <td>216</td>\n",
       "      <td>217</td>\n",
       "      <td>218</td>\n",
       "      <td>219</td>\n",
       "    </tr>\n",
       "    <tr>\n",
       "      <td>2000-01-05</td>\n",
       "      <td>220</td>\n",
       "      <td>221</td>\n",
       "      <td>222</td>\n",
       "      <td>223</td>\n",
       "      <td>224</td>\n",
       "    </tr>\n",
       "    <tr>\n",
       "      <td>2000-01-06</td>\n",
       "      <td>225</td>\n",
       "      <td>226</td>\n",
       "      <td>227</td>\n",
       "      <td>228</td>\n",
       "      <td>229</td>\n",
       "    </tr>\n",
       "    <tr>\n",
       "      <td>2000-01-07</td>\n",
       "      <td>230</td>\n",
       "      <td>231</td>\n",
       "      <td>232</td>\n",
       "      <td>233</td>\n",
       "      <td>234</td>\n",
       "    </tr>\n",
       "    <tr>\n",
       "      <td>2000-01-08</td>\n",
       "      <td>235</td>\n",
       "      <td>236</td>\n",
       "      <td>237</td>\n",
       "      <td>238</td>\n",
       "      <td>239</td>\n",
       "    </tr>\n",
       "    <tr>\n",
       "      <td>2000-01-09</td>\n",
       "      <td>240</td>\n",
       "      <td>241</td>\n",
       "      <td>242</td>\n",
       "      <td>243</td>\n",
       "      <td>244</td>\n",
       "    </tr>\n",
       "    <tr>\n",
       "      <td>2000-01-10</td>\n",
       "      <td>245</td>\n",
       "      <td>246</td>\n",
       "      <td>247</td>\n",
       "      <td>248</td>\n",
       "      <td>249</td>\n",
       "    </tr>\n",
       "  </tbody>\n",
       "</table>\n",
       "</div>"
      ],
      "text/plain": [
       "            apple  orange  pear  plum  banana\n",
       "Date                                         \n",
       "2000-01-01    200     201   202   203     204\n",
       "2000-01-02    205     206   207   208     209\n",
       "2000-01-03    210     211   212   213     214\n",
       "2000-01-04    215     216   217   218     219\n",
       "2000-01-05    220     221   222   223     224\n",
       "2000-01-06    225     226   227   228     229\n",
       "2000-01-07    230     231   232   233     234\n",
       "2000-01-08    235     236   237   238     239\n",
       "2000-01-09    240     241   242   243     244\n",
       "2000-01-10    245     246   247   248     249"
      ]
     },
     "metadata": {},
     "output_type": "display_data"
    },
    {
     "data": {
      "text/html": [
       "<div>\n",
       "<style scoped>\n",
       "    .dataframe tbody tr th:only-of-type {\n",
       "        vertical-align: middle;\n",
       "    }\n",
       "\n",
       "    .dataframe tbody tr th {\n",
       "        vertical-align: top;\n",
       "    }\n",
       "\n",
       "    .dataframe thead th {\n",
       "        text-align: right;\n",
       "    }\n",
       "</style>\n",
       "<table border=\"1\" class=\"dataframe\">\n",
       "  <thead>\n",
       "    <tr style=\"text-align: right;\">\n",
       "      <th></th>\n",
       "      <th>Date</th>\n",
       "      <th>apple</th>\n",
       "      <th>orange</th>\n",
       "      <th>pear</th>\n",
       "      <th>plum</th>\n",
       "      <th>banana</th>\n",
       "    </tr>\n",
       "  </thead>\n",
       "  <tbody>\n",
       "    <tr>\n",
       "      <td>0</td>\n",
       "      <td>2000-01-01</td>\n",
       "      <td>NaN</td>\n",
       "      <td>201</td>\n",
       "      <td>202</td>\n",
       "      <td>203</td>\n",
       "      <td>204</td>\n",
       "    </tr>\n",
       "    <tr>\n",
       "      <td>1</td>\n",
       "      <td>2000-01-02</td>\n",
       "      <td>205.0</td>\n",
       "      <td>206</td>\n",
       "      <td>207</td>\n",
       "      <td>208</td>\n",
       "      <td>209</td>\n",
       "    </tr>\n",
       "    <tr>\n",
       "      <td>2</td>\n",
       "      <td>2000-01-03</td>\n",
       "      <td>NaN</td>\n",
       "      <td>211</td>\n",
       "      <td>212</td>\n",
       "      <td>213</td>\n",
       "      <td>214</td>\n",
       "    </tr>\n",
       "    <tr>\n",
       "      <td>3</td>\n",
       "      <td>2000-01-04</td>\n",
       "      <td>215.0</td>\n",
       "      <td>216</td>\n",
       "      <td>217</td>\n",
       "      <td>218</td>\n",
       "      <td>219</td>\n",
       "    </tr>\n",
       "    <tr>\n",
       "      <td>4</td>\n",
       "      <td>2000-01-05</td>\n",
       "      <td>220.0</td>\n",
       "      <td>221</td>\n",
       "      <td>222</td>\n",
       "      <td>223</td>\n",
       "      <td>224</td>\n",
       "    </tr>\n",
       "  </tbody>\n",
       "</table>\n",
       "</div>"
      ],
      "text/plain": [
       "        Date  apple  orange pear  plum  banana\n",
       "0 2000-01-01    NaN     201  202   203     204\n",
       "1 2000-01-02  205.0     206  207   208     209\n",
       "2 2000-01-03    NaN     211  212   213     214\n",
       "3 2000-01-04  215.0     216  217   218     219\n",
       "4 2000-01-05  220.0     221  222   223     224"
      ]
     },
     "execution_count": 188,
     "metadata": {},
     "output_type": "execute_result"
    }
   ],
   "source": [
    "import pandas as pd\n",
    "from pandas import Series, DataFrame\n",
    "df=DataFrame(np.arange(200,250).reshape((10,5)),\n",
    "             columns=['apple','orange','pear','plum','banana'],\n",
    "             index=pd.Index(pd.date_range(start='1/1/2000 00:00:00', periods=10,freq='1D'), name='Date'))\n",
    "df.to_csv('Test.csv')\n",
    "display(df)\n",
    "df = pd.read_csv('Test.csv',\n",
    "#                  index_col=0, #index_col=\"Date\"\n",
    "                 dtype={'apple':'float','orange':'int','pear':'object'},\n",
    "                 #header=0, #header=None если нет заголовков и они присваиваются автоматически\n",
    "#                  names=['name','sex','births','plum','banana'], #задаются заголовки вручную\n",
    "#                  skiprows=1, #сколько пропустить строк или можно указать конкретные строки skiprows=[0,3,5]. Если в файле есть заколовки, чтобы они не были прочитаны как данные указать skiprows=1.\n",
    "                 na_values=[200, 210], #какие символы рассматривать как NaN\n",
    "                 #comment='#', #один имвол, начинающий строку комментария\n",
    "                 nrows=5,\n",
    "                 parse_dates=['Date'], date_parser=lambda x: pd.datetime) #Количество читаемых строк от начала файла.\n",
    "df"
   ]
  },
  {
   "cell_type": "code",
   "execution_count": 157,
   "metadata": {},
   "outputs": [
    {
     "data": {
      "text/html": [
       "<div>\n",
       "<style scoped>\n",
       "    .dataframe tbody tr th:only-of-type {\n",
       "        vertical-align: middle;\n",
       "    }\n",
       "\n",
       "    .dataframe tbody tr th {\n",
       "        vertical-align: top;\n",
       "    }\n",
       "\n",
       "    .dataframe thead th {\n",
       "        text-align: right;\n",
       "    }\n",
       "</style>\n",
       "<table border=\"1\" class=\"dataframe\">\n",
       "  <thead>\n",
       "    <tr style=\"text-align: right;\">\n",
       "      <th></th>\n",
       "      <th>a</th>\n",
       "      <th>b</th>\n",
       "      <th>c</th>\n",
       "      <th>d</th>\n",
       "    </tr>\n",
       "  </thead>\n",
       "  <tbody>\n",
       "    <tr>\n",
       "      <td>Utah</td>\n",
       "      <td>200</td>\n",
       "      <td>201</td>\n",
       "      <td>202</td>\n",
       "      <td>203</td>\n",
       "    </tr>\n",
       "    <tr>\n",
       "      <td>Ohio</td>\n",
       "      <td>204</td>\n",
       "      <td>205</td>\n",
       "      <td>206</td>\n",
       "      <td>207</td>\n",
       "    </tr>\n",
       "    <tr>\n",
       "      <td>Texas</td>\n",
       "      <td>208</td>\n",
       "      <td>209</td>\n",
       "      <td>210</td>\n",
       "      <td>211</td>\n",
       "    </tr>\n",
       "    <tr>\n",
       "      <td>Utah</td>\n",
       "      <td>212</td>\n",
       "      <td>213</td>\n",
       "      <td>214</td>\n",
       "      <td>215</td>\n",
       "    </tr>\n",
       "    <tr>\n",
       "      <td>Ohio</td>\n",
       "      <td>216</td>\n",
       "      <td>217</td>\n",
       "      <td>218</td>\n",
       "      <td>219</td>\n",
       "    </tr>\n",
       "    <tr>\n",
       "      <td>Texas</td>\n",
       "      <td>220</td>\n",
       "      <td>221</td>\n",
       "      <td>222</td>\n",
       "      <td>223</td>\n",
       "    </tr>\n",
       "  </tbody>\n",
       "</table>\n",
       "</div>"
      ],
      "text/plain": [
       "         a    b    c    d\n",
       "Utah   200  201  202  203\n",
       "Ohio   204  205  206  207\n",
       "Texas  208  209  210  211\n",
       "Utah   212  213  214  215\n",
       "Ohio   216  217  218  219\n",
       "Texas  220  221  222  223"
      ]
     },
     "metadata": {},
     "output_type": "display_data"
    },
    {
     "data": {
      "text/plain": [
       "Ohio     842\n",
       "Texas    858\n",
       "Utah     826\n",
       "dtype: int64"
      ]
     },
     "execution_count": 157,
     "metadata": {},
     "output_type": "execute_result"
    }
   ],
   "source": [
    "import numpy as np\n",
    "import pandas as pd\n",
    "from pandas import Series, DataFrame\n",
    "df=DataFrame(np.arange(200,224).reshape((6,4)), columns=list('abcd'), index=['Utah','Ohio','Texas']*2)\n",
    "display(df)\n",
    "df.groupby(level=0).apply(lambda df, x, y: sum(df[x]+df[y]), 'a', 'b')\n",
    "# df.groupby(level=0).apply(lambda df: sum(df['a']+df['b']))"
   ]
  },
  {
   "cell_type": "code",
   "execution_count": null,
   "metadata": {},
   "outputs": [],
   "source": []
  },
  {
   "cell_type": "code",
   "execution_count": null,
   "metadata": {},
   "outputs": [],
   "source": []
  },
  {
   "cell_type": "code",
   "execution_count": null,
   "metadata": {},
   "outputs": [],
   "source": []
  },
  {
   "cell_type": "code",
   "execution_count": null,
   "metadata": {},
   "outputs": [],
   "source": [
    "%reset -f"
   ]
  }
 ],
 "metadata": {
  "kernelspec": {
   "display_name": "Python 3",
   "language": "python",
   "name": "python3"
  },
  "language_info": {
   "codemirror_mode": {
    "name": "ipython",
    "version": 3
   },
   "file_extension": ".py",
   "mimetype": "text/x-python",
   "name": "python",
   "nbconvert_exporter": "python",
   "pygments_lexer": "ipython3",
   "version": "3.6.9"
  }
 },
 "nbformat": 4,
 "nbformat_minor": 2
}
