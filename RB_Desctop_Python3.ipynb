{
 "cells": [
  {
   "cell_type": "code",
   "execution_count": null,
   "metadata": {},
   "outputs": [],
   "source": [
    "from IPython.display import HTML\n",
    "HTML('''<script>\n",
    "code_show=true; \n",
    "function code_toggle() {\n",
    " if (code_show){\n",
    " $('div.input').hide();\n",
    " } else {\n",
    " $('div.input').show();\n",
    " }\n",
    " code_show = !code_show\n",
    "} \n",
    "$( document ).ready(code_toggle);\n",
    "</script>\n",
    "<form action=\"javascript:code_toggle()\"><input type=\"submit\" value=\"Click here to toggle on/off the raw code.\"></form>''')"
   ]
  },
  {
   "cell_type": "markdown",
   "metadata": {},
   "source": [
    "# Libraries and functions"
   ]
  },
  {
   "cell_type": "code",
   "execution_count": 16,
   "metadata": {},
   "outputs": [],
   "source": [
    "import numpy as np\n",
    "import pandas as pd\n",
    "import pandasql as ps\n",
    "from pandas import Series, DataFrame\n",
    "import datetime as dt\n",
    "# import matplotlib.pyplot as plt\n",
    "# import matplotlib as mpl\n",
    "import sys\n",
    "import time\n",
    "import math\n",
    "from tqdm import tqdm\n",
    "from importlib import reload\n",
    "from os.path import join, normpath\n",
    "from bs4 import BeautifulSoup\n",
    "import os\n",
    "from os import path\n",
    "import roamability as rb\n",
    "import re\n",
    "\n",
    "downloads = 'C:/Users/balob/Downloads'"
   ]
  },
  {
   "cell_type": "markdown",
   "metadata": {},
   "source": [
    "#### To get the path"
   ]
  },
  {
   "cell_type": "code",
   "execution_count": 95,
   "metadata": {},
   "outputs": [
    {
     "name": "stdout",
     "output_type": "stream",
     "text": [
      "C:\\Users\\balob\\Documents\\GITLAB\\RB_BD\n"
     ]
    },
    {
     "data": {
      "text/plain": [
       "WindowsPath('C:/Users/balob/Documents/GITLAB/RB_BD')"
      ]
     },
     "execution_count": 95,
     "metadata": {},
     "output_type": "execute_result"
    }
   ],
   "source": [
    "from pathlib import Path\n",
    "path_dir = Path.cwd()\n",
    "print(path_dir)\n",
    "path_dir"
   ]
  },
  {
   "cell_type": "code",
   "execution_count": 3,
   "metadata": {},
   "outputs": [
    {
     "data": {
      "text/plain": [
       "'c:/Users/balob/Documents/GITLAB/NOC_Roamability_com/noc/noc'"
      ]
     },
     "execution_count": 3,
     "metadata": {},
     "output_type": "execute_result"
    }
   ],
   "source": [
    "pwd=!echo %cd%\n",
    "pwd=str(pwd)\n",
    "pwd=r\"c:\\Users\\balob\\Documents\\GITLAB\\NOC_Roamability_com\\noc\\noc\"\n",
    "pwd.replace('\\\\','/',100)"
   ]
  },
  {
   "cell_type": "code",
   "execution_count": 99,
   "metadata": {},
   "outputs": [],
   "source": [
    "%reset -f"
   ]
  },
  {
   "cell_type": "markdown",
   "metadata": {},
   "source": [
    "# Examples"
   ]
  },
  {
   "cell_type": "markdown",
   "metadata": {},
   "source": [
    "### MS SQL request"
   ]
  },
  {
   "cell_type": "code",
   "execution_count": 206,
   "metadata": {},
   "outputs": [],
   "source": [
    "sql_srt='SELECT TOP(5) * FROM USAGE_TYPE;'\n",
    "with rb.MssqlConnect('172.18.11.82', '10028', 'BSS', 'iKQVm40AZAmyRaw72LeY') as cnxn:\n",
    "    df = pd.read_sql_query(sql_srt, cnxn, coerce_float=False)"
   ]
  },
  {
   "cell_type": "markdown",
   "metadata": {},
   "source": [
    "### DMI Oracle request"
   ]
  },
  {
   "cell_type": "code",
   "execution_count": null,
   "metadata": {},
   "outputs": [],
   "source": [
    "import cx_Oracle\n",
    "con = cx_Oracle.connect('DMI/dd607605ce341@DMI_TEST')\n",
    "# con = cx_Oracle.connect('DMI/dd607605ce341@DMI')\n",
    "print(con.version)\n",
    "cur = con.cursor()\n",
    "cur.execute('SELECT COUNT(*) FROM S_IMSI')\n",
    "for result in cur:\n",
    "    print(result)\n",
    "cur.close()\n",
    "con.close()"
   ]
  },
  {
   "cell_type": "markdown",
   "metadata": {},
   "source": [
    "### Soap API OCS Portal"
   ]
  },
  {
   "cell_type": "code",
   "execution_count": 278,
   "metadata": {},
   "outputs": [
    {
     "name": "stdout",
     "output_type": "stream",
     "text": [
      "Choose connection (prod or lab):prod\n",
      "You are connected to Reseller: Roamability Test RT.    \n",
      "Available credit for the Reseller: 3572 USD.\n",
      "\n",
      "The Reseller contains the following accounts:\n",
      " 0    Roamability-Porto Test (accountID: 352332)\n",
      " 1    Telzar Relay test (accountID: 352341)\n",
      " 2    Roamability - SMPP TEST  (accountID: 352343)\n",
      " 3    Telzar Relay (accountID: 352344)\n",
      " 4    Roamability Test Sim-cards (accountID: 352349)\n",
      " 5    Roamability MIFI Test (Denis) (accountID: 352415)\n",
      " 6    RB Test hosted GGSN KR (accountID: 352424)\n",
      " 7    DID's  (accountID: 352441)\n",
      " 8    RB MiFi test account (accountID: 352446)\n",
      " 9    soapApiTest (accountID: 352447)\n",
      " 10   uCloudLink RB Test (accountID: 352448)\n",
      " 11   Verint  (Roy's test) (accountID: 352471)\n",
      " 12   Antoloy ( Roy's test) (accountID: 352472)\n",
      " 13   Sure sample cards (accountID: 352479)\n",
      " 14   Old Partner RT (accountID: 352527)\n",
      " 15   Old Partner RT (accountID: 352528)\n",
      " 16   aaa (accountID: 352529)\n",
      " 17   Michael D test delete (accountID: 352531)\n",
      " 18   Sigos Test Sim cards (accountID: 352546)\n",
      " 19   Eyal MiFi Test (accountID: 352553)\n",
      " 20   MOP test (accountID: 352558)\n",
      " 21   Vihlancev test (accountID: 352585)\n",
      " 22   Test Account (accountID: 352619)\n",
      " 23   Another Test Account (accountID: 352620)\n",
      " 24   NOC test SIMs (accountID: 352639)\n",
      " 25   CITICTEL TEST (accountID: 352651)\n",
      " 26   OnePiece (accountID: 352728)\n",
      " 27   P4 test SIM cards (accountID: 352761)\n",
      " 28   Mario Test SIMs (accountID: 352774)\n",
      " 29   Eitan Keren (accountID: 352808)\n",
      " 30   eSim Test (accountID: 352818)\n",
      " 31   dialoq profiles (accountID: 352847)\n",
      " 32   vih_test (accountID: 352863)\n",
      " 33   RedTea S5 Test SIM cards (accountID: 352880)\n",
      " 34   P4 Test Sim cards (accountID: 352900)\n"
     ]
    }
   ],
   "source": [
    "# %reset -f\n",
    "from zeep import Client\n",
    "from zeep.wsse.username import UsernameToken\n",
    "\n",
    "connect = input(\"Choose connection (prod or lab):\")\n",
    "\n",
    "if connect == 'lab':\n",
    "    user = 'lab_api@roamability.com'\n",
    "    user = 'api@cellact.com'\n",
    "    password = '25D55AD283AA400AF464C76D713C07AD' #Lab\n",
    "#     password = 'FAC4EC08B5FC0CCF8145BB79E8F24F47' #Lab\n",
    "    api_link = 'https://172.20.39.7:8585/ocsapi/roamability/api/roamability.wsdl' #Lab\n",
    "    api_link = 'https://labocsapi.roamability.com:6443/ocsapi/roamability/api/roamability.wsdl'\n",
    "elif connect == 'prod':\n",
    "    user = 'prod_api@roamability.com'\n",
    "    password = '25D55AD283AA400AF464C76D713C07AD'\n",
    "#     api_link = 'https://ocsapi.roamability.com:7443/ocsapi/roamability/api/roamability.wsdl'\n",
    "#     api_link = 'https://ocsapi.roamability.com:7443/ocsapi/roamability/api/'\n",
    "    api_link = 'https://ocsapi2.roamability.com:7443/ocsapi/roamability/api/roamability.wsdl'\n",
    "#     api_link = 'http://172.20.35.10:8585/ocsapi/roamability/api/roamability.wsdl'\n",
    "#     api_link = 'http://172.20.35.12:8585/ocsapi/roamability/api/roamability.wsdl'\n",
    "\n",
    "user_name_token = UsernameToken(user, password)\n",
    "user_name_token.use_digest = True\n",
    "client = Client(api_link, wsse=user_name_token)\n",
    "\n",
    "reseller = client.service.getResellerInfo()\n",
    "accounts = client.service.getAccounts()\n",
    "\n",
    "if reseller.result.code == '1':\n",
    "    print('You are connected to Reseller: {}.\\\n",
    "    \\nAvailable credit for the Reseller: {:.0f} USD.\\n'.\\\n",
    "    format(reseller.reseller.resellerName,reseller.reseller.availableCredit))\n",
    "else:\n",
    "    print('Error in getting Reseller info: {}'.format(reseller.result.description))\n",
    "\n",
    "if accounts.result.code == '1':\n",
    "    accounts_dict = {account.accountId:account.accountName for account in accounts.accounts.accounts}\n",
    "    print('The Reseller contains the following accounts:')\n",
    "    for i,[account_id,account_name] in enumerate(accounts_dict.items()):\n",
    "        print(' {:<5}{} (accountID: {})'.format(i,account_name,account_id))\n",
    "else:\n",
    "    print('Error in getting Account info: {}'.format(accounts.result.description))\n",
    "\n",
    "# Subscriber in lab in STI account\n",
    "#subscriber_id = client.service.getSubscriberById('934420')\n",
    "#subscriber_iccid = client.service.getSubscriberByICCID('8997219121000031446')\n",
    "# client.service.getSubscriberPrePaidPackages('831882', 1)\n",
    "#client.service.getSubscriberByIMSI('425019613023160')\n",
    "#client.service.getSubscriberById('209287')\n",
    "#client.service.getSubscriberByICCID('8997219121000022660')\n",
    "# client.service.assignSubscriberPrePaidPackage('831882', 1, dt.datetime.strptime('2019-07-07','%Y-%m-%d'))\n",
    "# client.service.getSubscriberPrePaidPackages('937939', 1)\n",
    "#subscriber_id"
   ]
  },
  {
   "cell_type": "markdown",
   "metadata": {},
   "source": [
    "### Send MSU"
   ]
  },
  {
   "cell_type": "code",
   "execution_count": 10,
   "metadata": {},
   "outputs": [
    {
     "name": "stdout",
     "output_type": "stream",
     "text": [
      "Greetings from Roamability!!! \n",
      "\n"
     ]
    }
   ],
   "source": [
    "from bs4 import BeautifulSoup\n",
    "import roamability as rb\n",
    "#reload(rb)\n",
    "\n",
    "switch_01_payload = '24027000001f0d00010000bfff0100000000000010554f212dbbad49a1caf2573e1a626139'\n",
    "switch_02_payload = '24027000001F0D00010000BFFF0100000000000040a740AD174703383798A7A6545BB36491'\n",
    "\n",
    "#515030190000000\n",
    "#1d46acf860780\n",
    "add_imsi_03 = '3C02700000370d00210000bfff0100000000000040939360c23f417f147557b6940c91ba8b7e54be1c8c950a6ed1235ea8e3d70e9c2d7c34876abd68ec'\n",
    "\n",
    "\n",
    "ogt = {'p4':'48790993070',\n",
    "       'partner':'97254120624',\n",
    "       'sure':'447797706411',\n",
    "       'tot':'66893773228',\n",
    "       'porto_seguro':'550549900000',\n",
    "       'rusec_rus':'79028710069',\n",
    "       'rusec_int':'417999880000024',\n",
    "       'multi_byte_sponsor':'85263347864',\n",
    "       'smart1':'639180009880',\n",
    "       'smart2':'639180009881',\n",
    "       'smart3':'639180009882',\n",
    "       'smart4':'639180009883',\n",
    "       'telzar':'972559900040',\n",
    "       'x2one':'972553316228', #972553316240 -972553316245\n",
    "       'cellact':'972557016315',\n",
    "       'netmore':'46731726312',\n",
    "       'p4_naka_01':'48790998145',\n",
    "       'p4_naka_02':'48790998146',\n",
    "       'p4_naka_03':'48790998147',\n",
    "       'partner_naka_01':'97254120634',\n",
    "       'partner_naka_02':'97254120635',\n",
    "       'partner_naka_03':'97254120636',\n",
    "       'partner_naka_04':'97254120637',\n",
    "       'mb':'852633477591',\n",
    "       'maxcom':'525575709019',\n",
    "       'orange':'48507909001',\n",
    "       'jt':'447797707084'}\n",
    "\n",
    "rb.greetings_func()\n",
    "#rb.print_imsi_prof(ogt, imsi, msc, 'as_resp') #'as_mo'\n",
    "#soup = BeautifulSoup(rb.sri4sm(ogt, msisdn),'xml') #250359000007598 79028710043\n",
    "#soup = BeautifulSoup(rb.prn(ogt, dgt, imsi),'xml')\n",
    "#soup = BeautifulSoup(rb.sai(ogt, dgt, imsi, node),'xml') # 0 - vlr; 16 - mme\n",
    "# soup = BeautifulSoup(rb.sendSMS(ogt, imsi, msc, rb.get_info),'xml')\n",
    "#soup = BeautifulSoup(rb.cl(ogt, dgt, imsi, d_ssn=7),'xml')\n",
    "#soup"
   ]
  },
  {
   "cell_type": "code",
   "execution_count": 227,
   "metadata": {},
   "outputs": [
    {
     "data": {
      "text/plain": [
       "<?xml version=\"1.0\" encoding=\"utf-8\"?>\n",
       "<response>\n",
       "<result>0</result>\n",
       "<src_gt>79037019999</src_gt>\n",
       "</response>"
      ]
     },
     "execution_count": 227,
     "metadata": {},
     "output_type": "execute_result"
    }
   ],
   "source": [
    "# soup = BeautifulSoup(rb.cl('48790993070', '46708000031', '260060148993323', d_ssn=7),'xml')\n",
    "soup = BeautifulSoup(rb.cl('48790993070', '79037019999', '260060142036105', d_ssn=7),'xml')\n",
    "soup"
   ]
  },
  {
   "cell_type": "code",
   "execution_count": 19,
   "metadata": {},
   "outputs": [],
   "source": [
    "get_info    = \"24027000001F0D00010000BFFF01000000000000102F978372C730834EF445172BD26B8C8F\"\n",
    "get_info    = \"027000001F0D00010000BFFF01000000000000102F978372C730834EF445172BD26B8C8F\"\n",
    "get_info_mo = \"027000001F0D00210000BFFF01000000000000102F978372C730834EF445172BD26B8C8F\"\n",
    "switch_01_payload = '027000001f0d00010000bfff0100000000000010554f212dbbad49a1caf2573e1a626139'\n",
    "switch_02_payload = '027000001F0D00010000BFFF0100000000000040a740AD174703383798A7A6545BB36491'"
   ]
  },
  {
   "cell_type": "code",
   "execution_count": 24,
   "metadata": {},
   "outputs": [
    {
     "name": "stdout",
     "output_type": "stream",
     "text": [
      "Greetings from Roamability!!! \n",
      "\n",
      "<bound method Tag.prettify of <?xml version=\"1.0\" encoding=\"utf-8\"?>\n",
      "<response>\n",
      "<result>0</result><response/>\n",
      "<src_gt>46708000031</src_gt>\n",
      "</response>> \n",
      "\n",
      "This SIM card contains the following IMSIs:\n"
     ]
    }
   ],
   "source": [
    "# reload(rb)\n",
    "rb.greetings_func()\n",
    "rb.print_imsi_prof('48790993070', '260060148993323', '46708000031', 'as_resp') #'as_mo' 'as_resp'"
   ]
  },
  {
   "cell_type": "code",
   "execution_count": 14,
   "metadata": {},
   "outputs": [
    {
     "data": {
      "text/plain": [
       "'027000001F0D00010000BFFF0100000000000010F5375954EF29FB9A7F41ADE8444236A3'"
      ]
     },
     "execution_count": 14,
     "metadata": {},
     "output_type": "execute_result"
    }
   ],
   "source": [
    "rb.switch_02_payload"
   ]
  },
  {
   "cell_type": "code",
   "execution_count": 389,
   "metadata": {},
   "outputs": [
    {
     "name": "stdout",
     "output_type": "stream",
     "text": [
      "This SIM card contains the following IMSIs:\n",
      "Slot 0 425019613048999\n",
      "Slot 1 260060149047499\n",
      "Slot 2 515030190000009\n",
      "\n",
      "Applet ver.: 1.7.1\n",
      "MCCMNC: 31041\n"
     ]
    }
   ],
   "source": [
    "reload(rb)\n",
    "s = '00350abfff0100000000000000fffffff00001070052f0200000003a155608057823070008495210693100112901082906601094001129'\n",
    "s = r'00077FF644027100003F0ABFFF0100000000000000FFFFFFF00001070232F4010000003A95940448388403000849528100020000500108495210690210620102082906601004803854'\n",
    "s = r'00077FF644027100003F0ABFFF0100000000000000FFFFFFF0000107020000000100033A75350738900608000849528100020000600108495210690210139702082906601004901438'\n",
    "s = r'00077FF644027100003F0ABFFF0100000000000000FFFFFFF00001070025F0510000003A55130828920808000859025111106202550108495210690210749802082906601004114330'\n",
    "s = r'00077FF644027100003F0ABFFF0100000000000000FFFFFFF00001070052F0200000008A56780943745100000849521069310050630108290660109400506303085951301009000000'\n",
    "s = r'00077FF644027100003F0ABFFF0100000000000000FFFFFFF00001070252F0100000008A56780943745100000849521069310050630108290660109400506302084945302072039929'\n",
    "s = r'00530abfff0100000000000000fffffff00001070115f5200000003a353009591638050008495291211011038501084952106992583165020829066010041024220308494530207203001104085951301009000020'\n",
    "\n",
    "s = r'003f0abfff0100000000000000fffffff0000107011300140000003a45920509893807000849521069314098990108290660109440479902085951301009000090'\n",
    "\n",
    "rb.decode_payload_response(s)"
   ]
  },
  {
   "cell_type": "code",
   "execution_count": 17,
   "metadata": {},
   "outputs": [
    {
     "data": {
      "text/plain": [
       "<?xml version=\"1.0\" encoding=\"utf-8\"?>\n",
       "<response>\n",
       "<result>-1</result>\n",
       "<error>Error: Unknown Subscriber(1)</error>\n",
       "<src_gt>556181136100</src_gt>\n",
       "</response>"
      ]
     },
     "execution_count": 17,
     "metadata": {},
     "output_type": "execute_result"
    }
   ],
   "source": [
    "import http\n",
    "import re\n",
    "from bs4 import BeautifulSoup\n",
    "import sys\n",
    "\n",
    "ss7_url = \"172.18.11.10\"\n",
    "ss7_path = \"/cgi-bin/ss7gw.fcgi\"\n",
    "\n",
    "def executeHTTP(request, url, path):\n",
    "    client = http.client.HTTPConnection(url)\n",
    "    client.request(\"POST\", path, request, {\"Content-Type\": \"text/xml\"})\n",
    "    resp = client.getresponse()\n",
    "    return resp.read()\n",
    "\n",
    "def sri4sm(ogt, msisdn, dgt):\n",
    "    req = \"\"\"<?xml version=\\\"1.0\\\"?>\n",
    "        <ss7gw request=\\\"SRI_SM\\\">\n",
    "        <d_ssn>6</d_ssn>\n",
    "        <o_ssn>8</o_ssn>\n",
    "        <sccp_np>7</sccp_np>\n",
    "        <o_gt>%s</o_gt>\n",
    "        <d_gt>%s</d_gt>\n",
    "        <msisdn>%s</msisdn>\n",
    "        <priority>1</priority>\n",
    "        <address>%s</address>\n",
    "        </ss7gw>\"\"\" % (ogt, dgt, msisdn, ogt)\n",
    "    resp = executeHTTP(req, ss7_url, ss7_path)\n",
    "    return resp\n",
    "\n",
    "def sendSMS(ogt, imsi, msc, payload):\n",
    "    req = \"\"\"<ss7gw request=\\\"MTSMS_OTA\\\">\n",
    "        <d_ssn>8</d_ssn>\n",
    "        <o_ssn>8</o_ssn>\n",
    "        <o_gt>%s</o_gt>\n",
    "        <d_gt>%s</d_gt>\n",
    "        <imsi>%s</imsi>\n",
    "        <password>123</password>\n",
    "        <sc_number>%s</sc_number>\n",
    "        <key_id>1</key_id>\n",
    "        <command>1</command>\n",
    "        <corr_id>1</corr_id>\n",
    "        <seed>1122</seed>\n",
    "        <msisdn>972559300036</msisdn>\n",
    "        <message>%s</message>\n",
    "        <sms_imsi>%s</sms_imsi>\n",
    "        <map>3</map>\n",
    "        </ss7gw>\"\"\" % (ogt, msc, imsi, ogt, payload, imsi)\n",
    "    resp = executeHTTP(req, ss7_url, ss7_path)\n",
    "    return resp\n",
    "\n",
    "def sai(ogt, dgt, imsi, node):\n",
    "    req = \"\"\"<?xml version=\\\"1.0\\\"?>\n",
    "          <ss7gw request=\\\"SAIN\\\">\n",
    "          <d_ssn>6</d_ssn>\n",
    "          <o_gt>%s</o_gt>\n",
    "          <d_gt>%s</d_gt>\n",
    "          <o_ssn>7</o_ssn>\n",
    "          <imsi>%s</imsi>\n",
    "          <num_req_vec>1</num_req_vec>\n",
    "          <sccp_np>7</sccp_np>\n",
    "          <node_type>%s</node_type>\n",
    "          </ss7gw>\"\"\" % (ogt, dgt, imsi, node)\n",
    "    resp = executeHTTP(req, ss7_url, ss7_path)\n",
    "    return resp\n",
    "\n",
    "imsi = 724540540423172\n",
    "ogt = 97254120624\n",
    "dgt = 550040540423172\n",
    "node = 0\n",
    "soup = BeautifulSoup(\n",
    "    sai(ogt, dgt, imsi, node)\n",
    "    ,'xml')\n",
    "soup"
   ]
  },
  {
   "cell_type": "code",
   "execution_count": 143,
   "metadata": {},
   "outputs": [
    {
     "data": {
      "text/plain": [
       "<?xml version=\"1.0\" encoding=\"utf-8\"?>\n",
       "<response>\n",
       "<result>-1</result>\n",
       "<error>timeout</error>\n",
       "<src_gt/>\n",
       "</response>"
      ]
     },
     "execution_count": 143,
     "metadata": {},
     "output_type": "execute_result"
    }
   ],
   "source": [
    "add_imsi = '02700000370d00210000bfff010000000000007056d7a52e5fcef694ab2c069c00df34b084853aa0a2bf02195723f978ba96ba8b3a4a28b4df531cfe'\n",
    "soup = BeautifulSoup(sendSMS('972553316228', '425120000003499', '972571209920', add_imsi),'xml') #250359000007598 79028710043\n",
    "soup"
   ]
  },
  {
   "cell_type": "code",
   "execution_count": 291,
   "metadata": {},
   "outputs": [
    {
     "data": {
      "text/plain": [
       "<?xml version=\"1.0\" encoding=\"utf-8\"?>\n",
       "<response>\n",
       "<result>0</result><response>00077FF61502710000100ABFFF01000000000000000000004E00</response>\n",
       "<src_gt>972500000601</src_gt>\n",
       "</response>"
      ]
     },
     "execution_count": 291,
     "metadata": {},
     "output_type": "execute_result"
    }
   ],
   "source": [
    "mccmap_payload = '02700000270d00010000bfff0100000000000090dd53b30d1865a9c565c08aaa934e1e64ebb7816a808ecf42'\n",
    "\n",
    "soup = BeautifulSoup(sendSMS('972557016315', '425180020000008', '972500000601', mccmap_payload),'xml')\n",
    "soup"
   ]
  },
  {
   "cell_type": "code",
   "execution_count": 202,
   "metadata": {},
   "outputs": [
    {
     "data": {
      "text/plain": [
       "<?xml version=\"1.0\" encoding=\"utf-8\"?>\n",
       "<cla>\n",
       "<session-id>44533bc64643b7ac88448d9e6369a05d18a0ad92ac950f630d207f95318ee3f2;1572362891;8978437</session-id>\n",
       "<orig-host>deawar01.mnc003.mcc260.3gppnetwork.org</orig-host>\n",
       "<orig-realm>epc.mnc020.mcc234.3gppnetwork.org</orig-realm>\n",
       "<res-code>3002</res-code>\n",
       "<error-msg>DRL-ERR-3002-312:.</error-msg>\n",
       "</cla>"
      ]
     },
     "execution_count": 202,
     "metadata": {},
     "output_type": "execute_result"
    }
   ],
   "source": [
    "reload(rb)\n",
    "imsi = 260036610000000\n",
    "# imsi = 260060169326039\n",
    "orealm = 'nakamobile.mnc003.mcc260.3gppnetwork.org'\n",
    "ohost = 'nakahss.nakamobile.mnc003.mcc260.3gppnetwork.org'\n",
    "\n",
    "drealm = 'epc.mnc020.mcc234.3gppnetwork.org'\n",
    "dhost = 'node245.epc.mnc020.mcc234.3gppnetwork.org'\n",
    "\n",
    "mcc = '228'\n",
    "mnc = '03'\n",
    "soup = BeautifulSoup(\n",
    "#     rb.air(imsi, ohost, orealm, drealm, mcc, mnc)\n",
    "    rb.clr(imsi, ohost, orealm, dhost, drealm)\n",
    "    ,'xml')\n",
    "soup"
   ]
  },
  {
   "cell_type": "code",
   "execution_count": 14,
   "metadata": {},
   "outputs": [
    {
     "ename": "NameError",
     "evalue": "name 'ss7_url' is not defined",
     "output_type": "error",
     "traceback": [
      "\u001b[1;31m---------------------------------------------------------------------------\u001b[0m",
      "\u001b[1;31mNameError\u001b[0m                                 Traceback (most recent call last)",
      "\u001b[1;32m<ipython-input-14-fb4a5269dc50>\u001b[0m in \u001b[0;36m<module>\u001b[1;34m()\u001b[0m\n\u001b[0;32m     75\u001b[0m \u001b[1;31m#     air(imsi, ohost, orealm, drealm, mcc, mnc)\u001b[0m\u001b[1;33m\u001b[0m\u001b[1;33m\u001b[0m\u001b[0m\n\u001b[0;32m     76\u001b[0m \u001b[1;31m#     clr(imsi, ohost, orealm, dhost, drealm)\u001b[0m\u001b[1;33m\u001b[0m\u001b[1;33m\u001b[0m\u001b[0m\n\u001b[1;32m---> 77\u001b[1;33m     \u001b[0msai\u001b[0m\u001b[1;33m(\u001b[0m\u001b[0mogt\u001b[0m\u001b[1;33m,\u001b[0m \u001b[0mdgt\u001b[0m\u001b[1;33m,\u001b[0m \u001b[0mimsi\u001b[0m\u001b[1;33m,\u001b[0m \u001b[0mnode\u001b[0m\u001b[1;33m)\u001b[0m\u001b[1;33m\u001b[0m\u001b[0m\n\u001b[0m\u001b[0;32m     78\u001b[0m     ,'xml')\n\u001b[0;32m     79\u001b[0m \u001b[0msoup\u001b[0m\u001b[1;33m\u001b[0m\u001b[0m\n",
      "\u001b[1;32m<ipython-input-14-fb4a5269dc50>\u001b[0m in \u001b[0;36msai\u001b[1;34m(ogt, dgt, imsi, node)\u001b[0m\n\u001b[0;32m     56\u001b[0m           \u001b[1;33m<\u001b[0m\u001b[0mnode_type\u001b[0m\u001b[1;33m>\u001b[0m\u001b[1;33m%\u001b[0m\u001b[0ms\u001b[0m\u001b[1;33m<\u001b[0m\u001b[1;33m/\u001b[0m\u001b[0mnode_type\u001b[0m\u001b[1;33m>\u001b[0m\u001b[1;33m\u001b[0m\u001b[0m\n\u001b[0;32m     57\u001b[0m           </ss7gw>\"\"\" % (ogt, dgt, imsi, node)\n\u001b[1;32m---> 58\u001b[1;33m     \u001b[0mresp\u001b[0m \u001b[1;33m=\u001b[0m \u001b[0mexecuteHTTP\u001b[0m\u001b[1;33m(\u001b[0m\u001b[0mreq\u001b[0m\u001b[1;33m,\u001b[0m \u001b[0mss7_url\u001b[0m\u001b[1;33m,\u001b[0m \u001b[0mss7_path\u001b[0m\u001b[1;33m)\u001b[0m\u001b[1;33m\u001b[0m\u001b[0m\n\u001b[0m\u001b[0;32m     59\u001b[0m     \u001b[1;32mreturn\u001b[0m \u001b[0mresp\u001b[0m\u001b[1;33m\u001b[0m\u001b[0m\n\u001b[0;32m     60\u001b[0m \u001b[1;33m\u001b[0m\u001b[0m\n",
      "\u001b[1;31mNameError\u001b[0m: name 'ss7_url' is not defined"
     ]
    }
   ],
   "source": [
    "import http\n",
    "\n",
    "S6A_URL = '172.18.11.90'\n",
    "S6A_PATH = '/cgi-bin/http.fcgi'\n",
    "\n",
    "def executeHTTP(request, url, path):\n",
    "    client = http.client.HTTPConnection(url)\n",
    "    client.request(\"POST\", path, request, {\"Content-Type\": \"text/xml\"})\n",
    "    resp = client.getresponse()\n",
    "    return resp.read()\n",
    "\n",
    "def air(imsi, ohost, orealm, drealm, mcc, mnc):\n",
    "    req = \"\"\"<?xml version=\\\"1.0\\\"?>\n",
    "         <roam:air xmlns:roam=\"roamability:gtw:s6a\">\n",
    "         <roam:o-realm>%s</roam:o-realm>\n",
    "         <roam:o-host>%s</roam:o-host>\n",
    "         <roam:d-realm>%s</roam:d-realm>\n",
    "         <roam:imsi>%s</roam:imsi>\n",
    "         <roam:vplmn  mcc=\"%s\" mnc=\"%s\"/>\n",
    "         <roam:eutran  numVec=\"1\" immediate=\"1\"/>\n",
    "         </roam:air>\"\"\" % (orealm, ohost, drealm, imsi, mcc, mnc)\n",
    "    resp = executeHTTP(req, S6A_URL, S6A_PATH)\n",
    "    return resp\n",
    "\n",
    "def clr(imsi, ohost, orealm, dhost, drealm):\n",
    "    req = \"\"\"<roam:clr proxy=\"true\" xmlns:roam=\"roamability:gtw:s6a\">\n",
    "          <roam:o-realm>%s</roam:o-realm>\n",
    "          <roam:o-host>%s</roam:o-host>\n",
    "          <roam:d-realm>%s</roam:d-realm>\n",
    "          <roam:d-host>%s</roam:d-host>\n",
    "          <roam:imsi>%s</roam:imsi>\n",
    "          <!--Optional:\n",
    "          <roam:supp-feat vendor=\"3\" list_id=\"2\" list=\"7\"/>-->\n",
    "          <!--Optional:\n",
    "          <roam:vendor-specific-app-id vendor-id=\"7\" auth-app-id=\"7\" acct-app-id=\"7\"/>-->\n",
    "          <!-- MME_UPDATE_PROCEDURE (0)-->\n",
    "          <!-- SGSN_UPDATE_PROCEDURE (1)-->\n",
    "          <!-- SUBSCRIPTION_WITHDRAWAL (2)-->\n",
    "          <!-- UPDATE_PROCEDURE_IWF (3)-->\n",
    "          <!-- INITIAL_ATTACH_PROCEDURE (4)-->\n",
    "          <roam:cancel-type>2</roam:cancel-type>\n",
    "        </roam:clr>\"\"\" % (orealm, ohost, drealm, dhost, imsi)\n",
    "    resp = executeHTTP(req, S6A_URL, S6A_PATH)\n",
    "    return resp\n",
    "\n",
    "imsi = 260036610000004\n",
    "orealm = 'rb.mnc003.mcc260.3gppnetwork.org'\n",
    "ohost = 'hss.rb.mnc003.mcc260.3gppnetwork.org'\n",
    "\n",
    "drealm = 'epc.mnc001.mcc250.3gppnetwork.org'\n",
    "dhost = 'mme.spb.2987.epc.mnc001.mcc250.3gppnetwork.org'\n",
    "mcc = '234'\n",
    "mnc = '20'\n",
    "\n",
    "soup = BeautifulSoup(\n",
    "#     air(imsi, ohost, orealm, drealm, mcc, mnc)\n",
    "    clr(imsi, ohost, orealm, dhost, drealm)\n",
    "    ,'xml')\n",
    "soup"
   ]
  },
  {
   "cell_type": "code",
   "execution_count": 246,
   "metadata": {},
   "outputs": [
    {
     "data": {
      "text/plain": [
       "<?xml version=\"1.0\" encoding=\"utf-8\"?>\n",
       "<aia>\n",
       "<session-id>5971f1d01bbaaa187db2bc1cc54fd2cee8619578a04ae6bdd6d1f2082780eeda;1572435580;8978525</session-id>\n",
       "<orig-host>deawar01.mnc003.mcc260.3gppnetwork.org</orig-host>\n",
       "<orig-realm>epc.mnc003.mcc260.3gppnetwork.org</orig-realm>\n",
       "<res-code>3002</res-code>\n",
       "<error-msg>DRL-ERR-3002-205: No routes found. Egress Loop Detected. Route List:DSR_ROAMABILITY.</error-msg>\n",
       "</aia>"
      ]
     },
     "execution_count": 246,
     "metadata": {},
     "output_type": "execute_result"
    }
   ],
   "source": [
    "imsi = 260038800148194\n",
    "imsi = 260036610000004\n",
    "orealm = 'rb.mnc003.mcc260.3gppnetwork.org'\n",
    "ohost = 'hss.rb.mnc003.mcc260.3gppnetwork.org'\n",
    "\n",
    "orealm = 'epc.mnc001.mcc250.3gppnetwork.org'\n",
    "ohost = 'mme.spb.2987.epc.mnc001.mcc250.3gppnetwork.org'\n",
    "\n",
    "drealm = 'epc.mnc003.mcc260.3gppnetwork.org'\n",
    "mcc = '250'\n",
    "mnc = '01'\n",
    "soup = BeautifulSoup(\n",
    "    air(imsi, ohost, orealm, drealm, mcc, mnc)\n",
    "    ,'xml')\n",
    "soup"
   ]
  },
  {
   "cell_type": "markdown",
   "metadata": {},
   "source": [
    " ### Format output"
   ]
  },
  {
   "cell_type": "code",
   "execution_count": null,
   "metadata": {},
   "outputs": [],
   "source": [
    "import datetime as dt\n",
    "print( 'start: {} {} :end'.format('one', 'two') ) #start: one two :end\n",
    "print( 'start: {1} {0} :end'.format('one', 'two') ) #start: two one :end\n",
    "print( 'start: test {:10} :end'.format('test') ) #start: test test       :end\n",
    "print( 'start: test {:10} :end'.format(10) ) #start: test         10 :end\n",
    "print( 'start: test {:>10} :end'.format('test') ) #start: test       test :end\n",
    "print( 'start: test {:<10} :end'.format('test') ) #start: test test       :end\n",
    "print( 'start: test {:_<10} :end'.format('test') ) #start: test test______ :end\n",
    "print( 'start: test {:^10} :end'.format('test') ) #start: test    test    :end\n",
    "print( 'start: test {:.10} :end'.format('test1test2test3') ) #start: test test1test2 :end\n",
    "print( 'start: test {:_^10.5} :end'.format('test1test2test3') ) #start: test __test1___ :end\n",
    "print( 'start: test {:d} :end'.format(42) ) #start: test 42 :end\n",
    "print( 'start: test {:f} :end'.format(42) ) #start: test 42.000000 :end\n",
    "print( 'start: test {:06.2f} :end'.format(3.141592) ) #start: test 003.14 :end\n",
    "print( 'start: test {p[first]} {p[last]} :end'.format(p={'first': 'Jean-Luc', 'last': 'Picard'}) ) #start: test Jean-Luc Picard :end\n",
    "print( 'start: test {p[4]} {p[5]} :end'.format(p=[4, 8, 15, 16, 23, 42]) ) #start: test 23 42 :end\n",
    "print( 'start: test {:%Y-%m-%d %H:%M} :end'.format(dt.datetime(2001, 2, 3, 4, 5)) ) #start: test 2001-02-03 04:05 :end"
   ]
  },
  {
   "cell_type": "markdown",
   "metadata": {},
   "source": [
    "### Search in files by Tags"
   ]
  },
  {
   "cell_type": "code",
   "execution_count": 84,
   "metadata": {
    "scrolled": true
   },
   "outputs": [
    {
     "name": "stdout",
     "output_type": "stream",
     "text": [
      "****************************************************************************************************\n",
      "c:\\W_DATA_ROAM\\ДОКУМЕНТАЦИЯ\\NOC_HOW_IT_WORKS\\REPORT_OCS_Subscribers.txt\n",
      "----------------------------------------------------------------------------------------------------\n",
      "#reports_ocs_subscribers\n",
      "------------------------------\n",
      "Отчет выводит абонентов с привязкой к аккаунту и реселлеру\n",
      "\n",
      "****************************************************************************************************\n",
      "c:\\W_DATA_ROAM\\ДОКУМЕНТАЦИЯ\\NOC_HOW_IT_WORKS\\REPORT_Resellers_Accounts_Subscribers_A.txt\n",
      "----------------------------------------------------------------------------------------------------\n",
      "#reports_ocs_subscribers\n",
      "------------------------------\n",
      "Отчет Реселлер\\Аккаунт\\PP\\Кол-во абонентов\n",
      "Отчет Реселлер\\Аккаунт\\Абонент (IMSI, MSUSDN)\\Prepaid package\n",
      "\n"
     ]
    }
   ],
   "source": [
    "import roamability as rb\n",
    "reload(rb)\n",
    "\n",
    "# Где искать файлы .txt с тегами\n",
    "paths = ['c:/W_DATA_ROAM/ДОКУМЕНТАЦИЯ/NOC_HOW_IT_WORKS/',\n",
    "        'c:/W_DATA_ROAM/МЕТОДИКИ/',\n",
    "        'c:/W_DATA_ROAM/ПРОЕКТЫ/',\n",
    "        'c:/W_DATA_ROAM/ДОКУМЕНТАЦИЯ/NOC_KNOWN_ISSUES/',\n",
    "        'c:/W_DATA_ROAM/МЕТОДИКИ/_NOC_M_NEW_CONNECTION/',\n",
    "        'c:/W_DATA_ROAM/ALARMS/',\n",
    "        'c:/W_DATA_ROAM/ДОКУМЕНТАЦИЯ/PRICES',\n",
    "        ]\n",
    "\n",
    "# Если хотя бы один из тэгов присутствует. Нужно указать минимум один.\n",
    "# any_tags  = ['#reports_bss_usage_mop']\n",
    "# any_tags  = ['#gy_principle_of_operation']\n",
    "# any_tags  = ['#ocs_principle_of_operation']\n",
    "# any_tags  = ['#reports_ocs_usage_mop']\n",
    "any_tags  = ['#reports_ocs_subscribers']\n",
    "# any_tags = ['#epg_principle_of_operation']\n",
    "# any_tags  = ['#steering_principle_of_operation','#ticket_steering_issue']\n",
    "\n",
    "# Если все теги присутствуют. Нужно оставить лист пустым [] если нет обязательных тэгов.\n",
    "all_tags = []\n",
    "\n",
    "rb.find_files_by_tags(paths, all_tags, any_tags)"
   ]
  },
  {
   "cell_type": "markdown",
   "metadata": {},
   "source": [
    "### Search in ALARMS by folder names"
   ]
  },
  {
   "cell_type": "code",
   "execution_count": 300,
   "metadata": {},
   "outputs": [
    {
     "name": "stdout",
     "output_type": "stream",
     "text": [
      "c:\\W_DATA_ROAM\\ALARMS\\MOC_Partner_GBRVF_191010\n",
      "c:\\W_DATA_ROAM\\ALARMS\\MTC_Partner_GBRVF_191212\n",
      "c:\\W_DATA_ROAM\\ALARMS\\PS_P4_GBRVF_190328\n",
      "c:\\W_DATA_ROAM\\ALARMS\\PS_Partner_4G_issue_GBRVF_CHEOR_and_other_Vodafone_Group_191230\n",
      "c:\\W_DATA_ROAM\\ДОКУМЕНТАЦИЯ\\PRICES\\BREXIT_GBRME_GBRVF_GIBGT_200123.msg\n",
      "c:\\W_DATA_ROAM\\ДОКУМЕНТАЦИЯ\\PRICES\\P4_GBRVF_MOC_wrong_charge.msg\n",
      "c:\\W_DATA_ROAM\\ПРОЕКТЫ\\PP_TOTTILI_GBRVF_BLOCK\n"
     ]
    }
   ],
   "source": [
    "import os\n",
    "\n",
    "paths = [\n",
    "         r'c:/W_DATA_ROAM/ALARMS/',\n",
    "         r'c:/W_DATA_ROAM/ДОКУМЕНТАЦИЯ/PRICES/',\n",
    "         r'c:/W_DATA_ROAM/ПРОЕКТЫ/',\n",
    "         r'c:/W_DATA_ROAM/ПРОЕКТЫ_NEW_CONNECTION/',\n",
    "        ]\n",
    "\n",
    "for path in paths:\n",
    "    names = os.listdir(path)\n",
    "    [print(normpath(path + name)) for name in names if name.upper().find('GBRVF')!=-1]"
   ]
  },
  {
   "cell_type": "markdown",
   "metadata": {},
   "source": [
    "### Search in Allowed Lists and others"
   ]
  },
  {
   "cell_type": "code",
   "execution_count": 212,
   "metadata": {},
   "outputs": [],
   "source": [
    "downloads = 'C:/Users/balob/Downloads'\n",
    "dmi_allowed_list = 'DMI.dmi_allowed_list_export_Fri_Jan_24_2020.csv'\n",
    "dmi_netpfx = 'DMI.dmi_netpfx_export_Thu_Jan_09_2020.csv'\n",
    "bss_usage = 'bss_usage_2019_08.csv' # c:\\W_DATA_ROAM\\ДОКУМЕНТАЦИЯ\\NOC_HOW_IT_WORKS\\BSS_SQL\\Report_BSS_Usage_per_PLMN.txt\n",
    "\n",
    "#Like expression for Allowed List\n",
    "df_al=pd.read_csv(join(downloads, dmi_allowed_list))\n",
    "df_al['SPONSOR'] = df_al['Sponsor'].replace(to_replace={r'[Pp][Aa][rtner]?[\\s\\w-]*|^S1_[\\s\\w-]*':'S1',\n",
    "                                                        r'[Pp]4[\\s\\w-]*|^S2_[\\s\\w-]*':'S2',\n",
    "                                                        r'[Mm][Bb][\\s\\w-]*|^S4_[\\s\\w-]*':'S4',\n",
    "                                                        r'SMART[\\s\\w-]*|^S5_[\\s\\w-]*':'S5'}, regex=True)\n",
    "df_al.rename({'PLMN code':'TADIG'}, axis=1, inplace=True)\n",
    "\n",
    "df_usage = pd.read_csv(join(downloads, bss_usage), sep=';')\n",
    "cols = ['REP_DATE','VPLMN','SPONSOR','MOC','MOC_SMS','DATA']\n",
    "df_usage = df_usage.pivot_table(values='COST', index=['REP_DATE', 'VPLMN', 'SPONSOR'], columns='USAGE_TYPE').reset_index()[cols]\n",
    "df_usage.rename({'VPLMN':'TADIG'}, axis=1, inplace=True)\n",
    "df_usage.columns.name=''\n",
    "\n",
    "df_al = pd.merge(df_al, df_usage, how='left', on=['SPONSOR','TADIG'])\n",
    "\n",
    "df_np=pd.read_csv(join(downloads, dmi_netpfx))"
   ]
  },
  {
   "cell_type": "code",
   "execution_count": 17,
   "metadata": {},
   "outputs": [
    {
     "data": {
      "text/plain": [
       "array(['S2', 'S1'], dtype=object)"
      ]
     },
     "execution_count": 17,
     "metadata": {},
     "output_type": "execute_result"
    }
   ],
   "source": [
    "df_al.loc[(df_al['TADIG'].str.startswith(tadig, na=False)) &\n",
    "          (df_al['Sponsor'].str.contains(sponsor, na=False, regex=True, flags=re.I)),\n",
    "          ['Sponsor','TADIG','REP_DATE','MOC','MOC_SMS','DATA','SPONSOR']].sort_values(by=['Sponsor','TADIG']).SPONSOR.unique()"
   ]
  },
  {
   "cell_type": "code",
   "execution_count": 303,
   "metadata": {},
   "outputs": [
    {
     "data": {
      "text/html": [
       "<div>\n",
       "<style scoped>\n",
       "    .dataframe tbody tr th:only-of-type {\n",
       "        vertical-align: middle;\n",
       "    }\n",
       "\n",
       "    .dataframe tbody tr th {\n",
       "        vertical-align: top;\n",
       "    }\n",
       "\n",
       "    .dataframe thead th {\n",
       "        text-align: right;\n",
       "    }\n",
       "</style>\n",
       "<table border=\"1\" class=\"dataframe\">\n",
       "  <thead>\n",
       "    <tr style=\"text-align: right;\">\n",
       "      <th></th>\n",
       "      <th>Sponsor</th>\n",
       "      <th>TADIG</th>\n",
       "      <th>REP_DATE</th>\n",
       "      <th>MOC</th>\n",
       "      <th>MOC_SMS</th>\n",
       "      <th>DATA</th>\n",
       "      <th>SPONSOR</th>\n",
       "    </tr>\n",
       "  </thead>\n",
       "  <tbody>\n",
       "    <tr>\n",
       "      <td>2534</td>\n",
       "      <td>P4_All</td>\n",
       "      <td>MLTGO</td>\n",
       "      <td>NaN</td>\n",
       "      <td>NaN</td>\n",
       "      <td>NaN</td>\n",
       "      <td>NaN</td>\n",
       "      <td>S2</td>\n",
       "    </tr>\n",
       "    <tr>\n",
       "      <td>2535</td>\n",
       "      <td>P4_All</td>\n",
       "      <td>MLTMM</td>\n",
       "      <td>2019-08</td>\n",
       "      <td>5.394929</td>\n",
       "      <td>0.248804</td>\n",
       "      <td>11.969762</td>\n",
       "      <td>S2</td>\n",
       "    </tr>\n",
       "    <tr>\n",
       "      <td>5527</td>\n",
       "      <td>P4_All</td>\n",
       "      <td>MLTTL</td>\n",
       "      <td>NaN</td>\n",
       "      <td>NaN</td>\n",
       "      <td>NaN</td>\n",
       "      <td>NaN</td>\n",
       "      <td>S2</td>\n",
       "    </tr>\n",
       "    <tr>\n",
       "      <td>958</td>\n",
       "      <td>P4_All Rated</td>\n",
       "      <td>MLTGO</td>\n",
       "      <td>NaN</td>\n",
       "      <td>NaN</td>\n",
       "      <td>NaN</td>\n",
       "      <td>NaN</td>\n",
       "      <td>S2</td>\n",
       "    </tr>\n",
       "    <tr>\n",
       "      <td>959</td>\n",
       "      <td>P4_All Rated</td>\n",
       "      <td>MLTMM</td>\n",
       "      <td>2019-08</td>\n",
       "      <td>5.394929</td>\n",
       "      <td>0.248804</td>\n",
       "      <td>11.969762</td>\n",
       "      <td>S2</td>\n",
       "    </tr>\n",
       "  </tbody>\n",
       "</table>\n",
       "</div>"
      ],
      "text/plain": [
       "           Sponsor  TADIG REP_DATE       MOC   MOC_SMS       DATA SPONSOR\n",
       "2534        P4_All  MLTGO      NaN       NaN       NaN        NaN      S2\n",
       "2535        P4_All  MLTMM  2019-08  5.394929  0.248804  11.969762      S2\n",
       "5527        P4_All  MLTTL      NaN       NaN       NaN        NaN      S2\n",
       "958   P4_All Rated  MLTGO      NaN       NaN       NaN        NaN      S2\n",
       "959   P4_All Rated  MLTMM  2019-08  5.394929  0.248804  11.969762      S2"
      ]
     },
     "execution_count": 303,
     "metadata": {},
     "output_type": "execute_result"
    }
   ],
   "source": [
    "sponsor = 'P4_All' # Use regular expressions if it's needed\n",
    "tadig = 'MLT'\n",
    "\n",
    "df_al.loc[(df_al['TADIG'].str.startswith(tadig, na=False)) &\n",
    "          (df_al['Sponsor'].str.contains(sponsor, na=False, regex=True, flags=re.I)),\n",
    "          ['Sponsor','TADIG','REP_DATE','MOC','MOC_SMS','DATA','SPONSOR']].sort_values(by=['Sponsor','TADIG'])"
   ]
  },
  {
   "cell_type": "code",
   "execution_count": 147,
   "metadata": {},
   "outputs": [
    {
     "data": {
      "text/plain": [
       "array(['MB_DRIM01_ALL', 'P4_DRIM01_ALL', 'Partner_DRIM01_A',\n",
       "       'S5_DRIM01_ALL'], dtype=object)"
      ]
     },
     "execution_count": 147,
     "metadata": {},
     "output_type": "execute_result"
    }
   ],
   "source": [
    "df_al.loc[(df_al['TADIG'].str.startswith(tadig, na=False)) &\n",
    "          (df_al['Sponsor'].str.contains(sponsor, na=False, regex=True, flags=re.I)),\n",
    "          ['Sponsor','TADIG','SPONSOR']].sort_values(by=['Sponsor','TADIG']).Sponsor.unique()"
   ]
  },
  {
   "cell_type": "code",
   "execution_count": 120,
   "metadata": {},
   "outputs": [
    {
     "data": {
      "text/html": [
       "<div>\n",
       "<style scoped>\n",
       "    .dataframe tbody tr th:only-of-type {\n",
       "        vertical-align: middle;\n",
       "    }\n",
       "\n",
       "    .dataframe tbody tr th {\n",
       "        vertical-align: top;\n",
       "    }\n",
       "\n",
       "    .dataframe thead th {\n",
       "        text-align: right;\n",
       "    }\n",
       "</style>\n",
       "<table border=\"1\" class=\"dataframe\">\n",
       "  <thead>\n",
       "    <tr style=\"text-align: right;\">\n",
       "      <th></th>\n",
       "      <th>Sponsor</th>\n",
       "      <th>TADIG</th>\n",
       "    </tr>\n",
       "  </thead>\n",
       "  <tbody>\n",
       "  </tbody>\n",
       "</table>\n",
       "</div>"
      ],
      "text/plain": [
       "Empty DataFrame\n",
       "Columns: [Sponsor, TADIG]\n",
       "Index: []"
      ]
     },
     "metadata": {},
     "output_type": "display_data"
    },
    {
     "data": {
      "text/html": [
       "<div>\n",
       "<style scoped>\n",
       "    .dataframe tbody tr th:only-of-type {\n",
       "        vertical-align: middle;\n",
       "    }\n",
       "\n",
       "    .dataframe tbody tr th {\n",
       "        vertical-align: top;\n",
       "    }\n",
       "\n",
       "    .dataframe thead th {\n",
       "        text-align: right;\n",
       "    }\n",
       "</style>\n",
       "<table border=\"1\" class=\"dataframe\">\n",
       "  <thead>\n",
       "    <tr style=\"text-align: right;\">\n",
       "      <th></th>\n",
       "      <th>Operator</th>\n",
       "      <th>Prefix</th>\n",
       "      <th>Number/Range</th>\n",
       "      <th>SSN</th>\n",
       "      <th>MCC</th>\n",
       "      <th>MNC</th>\n",
       "    </tr>\n",
       "  </thead>\n",
       "  <tbody>\n",
       "    <tr>\n",
       "      <td>906</td>\n",
       "      <td>GTMTG</td>\n",
       "      <td>502609</td>\n",
       "      <td>1</td>\n",
       "      <td>7</td>\n",
       "      <td>704</td>\n",
       "      <td>3</td>\n",
       "    </tr>\n",
       "    <tr>\n",
       "      <td>907</td>\n",
       "      <td>GTMTG</td>\n",
       "      <td>502609</td>\n",
       "      <td>1</td>\n",
       "      <td>149</td>\n",
       "      <td>704</td>\n",
       "      <td>3</td>\n",
       "    </tr>\n",
       "    <tr>\n",
       "      <td>4212</td>\n",
       "      <td>GTMTG</td>\n",
       "      <td>5026099915</td>\n",
       "      <td>0</td>\n",
       "      <td>7</td>\n",
       "      <td>704</td>\n",
       "      <td>3</td>\n",
       "    </tr>\n",
       "    <tr>\n",
       "      <td>4213</td>\n",
       "      <td>GTMTG</td>\n",
       "      <td>5026099916</td>\n",
       "      <td>0</td>\n",
       "      <td>7</td>\n",
       "      <td>704</td>\n",
       "      <td>3</td>\n",
       "    </tr>\n",
       "    <tr>\n",
       "      <td>4214</td>\n",
       "      <td>GTMTG</td>\n",
       "      <td>5026099917</td>\n",
       "      <td>0</td>\n",
       "      <td>7</td>\n",
       "      <td>704</td>\n",
       "      <td>3</td>\n",
       "    </tr>\n",
       "    <tr>\n",
       "      <td>4215</td>\n",
       "      <td>GTMTG</td>\n",
       "      <td>5026099950</td>\n",
       "      <td>0</td>\n",
       "      <td>7</td>\n",
       "      <td>704</td>\n",
       "      <td>3</td>\n",
       "    </tr>\n",
       "    <tr>\n",
       "      <td>7894</td>\n",
       "      <td>GTMTG</td>\n",
       "      <td>5026099975</td>\n",
       "      <td>0</td>\n",
       "      <td>149</td>\n",
       "      <td>704</td>\n",
       "      <td>3</td>\n",
       "    </tr>\n",
       "    <tr>\n",
       "      <td>7895</td>\n",
       "      <td>GTMTG</td>\n",
       "      <td>5026099985</td>\n",
       "      <td>0</td>\n",
       "      <td>149</td>\n",
       "      <td>704</td>\n",
       "      <td>3</td>\n",
       "    </tr>\n",
       "    <tr>\n",
       "      <td>8019</td>\n",
       "      <td>GTMTG</td>\n",
       "      <td>5026099970</td>\n",
       "      <td>0</td>\n",
       "      <td>149</td>\n",
       "      <td>704</td>\n",
       "      <td>3</td>\n",
       "    </tr>\n",
       "    <tr>\n",
       "      <td>10434</td>\n",
       "      <td>GTMTG</td>\n",
       "      <td>50260999750</td>\n",
       "      <td>0</td>\n",
       "      <td>1</td>\n",
       "      <td>704</td>\n",
       "      <td>3</td>\n",
       "    </tr>\n",
       "  </tbody>\n",
       "</table>\n",
       "</div>"
      ],
      "text/plain": [
       "      Operator       Prefix  Number/Range  SSN  MCC  MNC\n",
       "906      GTMTG       502609             1    7  704    3\n",
       "907      GTMTG       502609             1  149  704    3\n",
       "4212     GTMTG   5026099915             0    7  704    3\n",
       "4213     GTMTG   5026099916             0    7  704    3\n",
       "4214     GTMTG   5026099917             0    7  704    3\n",
       "4215     GTMTG   5026099950             0    7  704    3\n",
       "7894     GTMTG   5026099975             0  149  704    3\n",
       "7895     GTMTG   5026099985             0  149  704    3\n",
       "8019     GTMTG   5026099970             0  149  704    3\n",
       "10434    GTMTG  50260999750             0    1  704    3"
      ]
     },
     "metadata": {},
     "output_type": "display_data"
    }
   ],
   "source": [
    "plmn = 'GTMTG'\n",
    "df1 = df_al.loc[(df_al['TADIG'].str.startswith(plmn, na=False)) &\n",
    "          (df_al['Sponsor'].str.contains('', na=False)), ['Sponsor','TADIG']].sort_values(by=['Sponsor','TADIG'])\n",
    "df2 = df_np[(df_np.Operator.str.startswith(plmn,na=False))] #.to_csv(join(downloads,'Prefix.csv')) # & (df_np.SSN==7)\n",
    "display(df1)\n",
    "display(df2)"
   ]
  },
  {
   "cell_type": "code",
   "execution_count": 299,
   "metadata": {},
   "outputs": [
    {
     "data": {
      "text/html": [
       "<div>\n",
       "<style scoped>\n",
       "    .dataframe tbody tr th:only-of-type {\n",
       "        vertical-align: middle;\n",
       "    }\n",
       "\n",
       "    .dataframe tbody tr th {\n",
       "        vertical-align: top;\n",
       "    }\n",
       "\n",
       "    .dataframe thead th {\n",
       "        text-align: right;\n",
       "    }\n",
       "</style>\n",
       "<table border=\"1\" class=\"dataframe\">\n",
       "  <thead>\n",
       "    <tr style=\"text-align: right;\">\n",
       "      <th></th>\n",
       "      <th>Operator</th>\n",
       "      <th>Prefix</th>\n",
       "      <th>Number/Range</th>\n",
       "      <th>SSN</th>\n",
       "      <th>MCC</th>\n",
       "      <th>MNC</th>\n",
       "    </tr>\n",
       "  </thead>\n",
       "  <tbody>\n",
       "    <tr>\n",
       "      <td>2642</td>\n",
       "      <td>INDBO</td>\n",
       "      <td>919822</td>\n",
       "      <td>1</td>\n",
       "      <td>7</td>\n",
       "      <td>404</td>\n",
       "      <td>22</td>\n",
       "    </tr>\n",
       "    <tr>\n",
       "      <td>2643</td>\n",
       "      <td>INDBO</td>\n",
       "      <td>919822</td>\n",
       "      <td>1</td>\n",
       "      <td>149</td>\n",
       "      <td>404</td>\n",
       "      <td>22</td>\n",
       "    </tr>\n",
       "  </tbody>\n",
       "</table>\n",
       "</div>"
      ],
      "text/plain": [
       "     Operator  Prefix  Number/Range  SSN  MCC  MNC\n",
       "2642    INDBO  919822             1    7  404   22\n",
       "2643    INDBO  919822             1  149  404   22"
      ]
     },
     "execution_count": 299,
     "metadata": {},
     "output_type": "execute_result"
    }
   ],
   "source": [
    "str(df_np[(df_np.Prefix.str.startswith('6683',na=False))].Prefix.unique().tolist())\n",
    "df_np[(df_np.Prefix.str.startswith('919822',na=False))]"
   ]
  },
  {
   "cell_type": "markdown",
   "metadata": {},
   "source": [
    "### Hex to Dec conversion"
   ]
  },
  {
   "cell_type": "code",
   "execution_count": 164,
   "metadata": {},
   "outputs": [
    {
     "data": {
      "text/plain": [
       "'0xaa'"
      ]
     },
     "execution_count": 164,
     "metadata": {},
     "output_type": "execute_result"
    }
   ],
   "source": [
    "hex_int = '0xaa'\n",
    "hex_int"
   ]
  },
  {
   "cell_type": "code",
   "execution_count": 189,
   "metadata": {},
   "outputs": [
    {
     "name": "stdout",
     "output_type": "stream",
     "text": [
      "Hex to dec\n",
      "170\n",
      "170\n",
      "\n",
      "Dec to hex\n",
      "0xaa\n",
      "aa\n",
      "aa\n",
      "\n",
      "Dec to bin\n",
      "10101010\n",
      "10101010\n",
      "\n",
      "Bin to dec\n",
      "10\n",
      "\n",
      "Hex to bin\n",
      "10101010\n",
      "0000000010101010\n",
      "10101010\n",
      "0000000010101010\n"
     ]
    }
   ],
   "source": [
    "dec_str = '170'\n",
    "bin_str = '1010'\n",
    "hex_str = 'aa' # '0xaa'\n",
    "dec_int = 170\n",
    "bin_int = 0b1010\n",
    "hex_int = 0xaa\n",
    "# b: binary (base 2)\n",
    "# o: octal (base 8)\n",
    "# d: decimal (base 10)\n",
    "# x: hexadecimal (base 16)\n",
    "# Hex to dec\n",
    "print('Hex to dec')\n",
    "print(int(hex_str, base=16))\n",
    "print(f'{hex_int:d}')\n",
    "# Dec to hex\n",
    "print('\\nDec to hex')\n",
    "print(hex(dec_int))\n",
    "print('%x' % dec_int)\n",
    "print(f'{dec_int:x}')\n",
    "# Dec to bin\n",
    "print('\\nDec to bin')\n",
    "print(bin(dec_int)[2:].zfill(8))\n",
    "print(f'{dec_int:b}')\n",
    "# Bin to dec\n",
    "print('\\nBin to dec')\n",
    "print(int(bin_str, base=2))\n",
    "# Hex to bin\n",
    "print('\\nHex to bin')\n",
    "print(bin(int(hex_str, base=16))[2:].zfill(8))\n",
    "print(bin(hex_int)[2:].zfill(16))\n",
    "print(f'{hex_int:b}')\n",
    "print(f'{hex_int:0>16b}')\n",
    "# На базе: \"How to Convert a Python String to int\" https://realpython.com/convert-python-string-to-int/"
   ]
  },
  {
   "cell_type": "code",
   "execution_count": 224,
   "metadata": {},
   "outputs": [
    {
     "name": "stdout",
     "output_type": "stream",
     "text": [
      "Hex to dec\n",
      "201\n",
      "Dec to hex\n",
      "0X7AA\n",
      "7AA\n",
      "Dec to bin\n",
      "11110101010\n",
      "Bin to dec\n",
      "16281\n",
      "Hex to bin\n",
      "11001001\n",
      "0b11001001\n"
     ]
    },
    {
     "data": {
      "text/plain": [
       "'0000000010101011'"
      ]
     },
     "execution_count": 224,
     "metadata": {},
     "output_type": "execute_result"
    }
   ],
   "source": [
    "hex_str = 'C9'\n",
    "dec_str = '2505'\n",
    "dec_int = 1962\n",
    "bin_str = '11111110011001'\n",
    "\n",
    "# Hex to dec\n",
    "print('Hex to dec')\n",
    "print(int(hex_str,16))\n",
    "\n",
    "# Dec to hex\n",
    "print('Dec to hex')\n",
    "print(hex(dec_int).upper())\n",
    "print('%x'.upper() % dec_int)\n",
    "\n",
    "# Dec to bin\n",
    "print('Dec to bin')\n",
    "print(bin(dec_int)[2:].zfill(8))\n",
    "\n",
    "# Bin to dec\n",
    "print('Bin to dec')\n",
    "print(int(bin_str,2))\n",
    "\n",
    "# Hex to bin\n",
    "print('Hex to bin')\n",
    "print(bin(int(hex_str, 16))[2:].zfill(8))\n",
    "print(bin(0xC9))\n",
    "f'{0xAB:0>16b}'"
   ]
  },
  {
   "cell_type": "code",
   "execution_count": 222,
   "metadata": {},
   "outputs": [
    {
     "data": {
      "text/plain": [
       "'0b111 - 0b11110011 - 0b1'"
      ]
     },
     "execution_count": 222,
     "metadata": {},
     "output_type": "execute_result"
    }
   ],
   "source": [
    "7-243-1\n",
    "4-4-2\n",
    "\n",
    "f'{bin(7)} - {bin(243)} - {bin(1)}'\n",
    "#2.61.6"
   ]
  },
  {
   "cell_type": "code",
   "execution_count": 223,
   "metadata": {},
   "outputs": [
    {
     "name": "stdout",
     "output_type": "stream",
     "text": [
      "0b10101010100011\n",
      "7 - 243 - 1\n"
     ]
    }
   ],
   "source": [
    "print(bin(10915))\n",
    "a = '11111110011001'\n",
    "# = '00000011001101'\n",
    "print(int(a[-14:-11],2),'-',int(a[-11:-3],2),'-',int(a[-3:],2) )"
   ]
  },
  {
   "cell_type": "markdown",
   "metadata": {},
   "source": [
    "### Rename files"
   ]
  },
  {
   "cell_type": "code",
   "execution_count": null,
   "metadata": {},
   "outputs": [],
   "source": [
    "import os\n",
    "import re\n",
    "path = 'c:/Users/balob/Downloads/new1/'\n",
    "prefix = 'PYCON'\n",
    "topic = ''\n",
    "os.chdir(path)\n",
    "names = sorted(filter(os.path.isfile, os.listdir('.')), key=os.path.getmtime)\n",
    "for i,name in enumerate(names):\n",
    "    short_name = re.sub('[!#?«»,() \\+\\-؟]','',name[:-4:][:50])\n",
    "    if i < 10:\n",
    "        number = '0'+str(i)\n",
    "    else:\n",
    "        number = str(i)\n",
    "    new_name = '{}_{}_{}.mp4'.format(prefix,number,short_name)\n",
    "    print('{} -> {}'.format(name,new_name))\n",
    "    os.rename(name,new_name)"
   ]
  },
  {
   "cell_type": "markdown",
   "metadata": {},
   "source": [
    "### Чтение логов с удаленного сервера SFTP (stat_GrayLog.log)"
   ]
  },
  {
   "cell_type": "code",
   "execution_count": 86,
   "metadata": {},
   "outputs": [
    {
     "name": "stdout",
     "output_type": "stream",
     "text": [
      "0 2019-01-24 05:00:45,431 - ss7_stat - INFO - rep_ss7_sqlite_db_py2. End. Total elapsed time 0:00:43.978321\n",
      "8 2019-01-23 05:00:47,552 - ss7_stat - INFO - rep_ss7_sqlite_db_py2. End. Total elapsed time 0:00:45.941926\n",
      "16 2019-01-22 05:00:49,749 - ss7_stat - INFO - rep_ss7_sqlite_db_py2. End. Total elapsed time 0:00:45.060281\n",
      "24 2019-01-21 05:00:49,224 - ss7_stat - INFO - rep_ss7_sqlite_db_py2. End. Total elapsed time 0:00:44.623832\n",
      "32 2019-01-20 05:00:47,066 - ss7_stat - INFO - rep_ss7_sqlite_db_py2. End. Total elapsed time 0:00:45.239989\n",
      "40 2019-01-19 05:00:45,864 - ss7_stat - INFO - rep_ss7_sqlite_db_py2. End. Total elapsed time 0:00:43.761820\n",
      "48 2019-01-18 05:00:46,195 - ss7_stat - INFO - rep_ss7_sqlite_db_py2. End. Total elapsed time 0:00:43.864928\n"
     ]
    }
   ],
   "source": [
    "import paramiko\n",
    "print_lines = 50\n",
    "host = '172.19.11.191'\n",
    "user = 'pavel'\n",
    "secret = 'RzAZPjMjvujCPjU88bpevQp'\n",
    "file_path_name = '/home/tracer/LOG/stat_GrayLog.log'\n",
    "port = 22\n",
    "client = paramiko.SSHClient()\n",
    "client.set_missing_host_key_policy(paramiko.AutoAddPolicy())\n",
    "client.connect(hostname=host, username=user, password=secret, port=port)\n",
    "sftp_client = client.open_sftp()\n",
    "remote_file = sftp_client.open(file_path_name)\n",
    "try:\n",
    "    #for line in remote_file:\n",
    "    for i,line in enumerate(reversed(list(remote_file))):\n",
    "        if i < print_lines:\n",
    "            if 'Total' in line:\n",
    "                print(i,line,end='')\n",
    "            #print(i,line,end='')\n",
    "        else:\n",
    "            break\n",
    "finally:\n",
    "    remote_file.close()\n",
    "client.close()\n",
    "# (https://stackoverflow.com/questions/1596963/read-a-file-from-server-with-ssh-using-python)"
   ]
  },
  {
   "cell_type": "markdown",
   "metadata": {},
   "source": [
    "### Pricing counting"
   ]
  },
  {
   "cell_type": "code",
   "execution_count": 192,
   "metadata": {},
   "outputs": [
    {
     "name": "stdout",
     "output_type": "stream",
     "text": [
      "Price P4\n",
      "Price 1.2            : [1.8, 0.0, 0.3, 8.844]\n",
      "Price 1.2*1.5        : [2.7, 0.0, 0.45, 13.266]\n",
      "Price 1.2*1.5*1.15   : [3.105, 0.0, 0.5175, 15.2559]\n",
      "Price 1.2*1.5*1.30   : [3.51, 0.0, 0.585, 17.2458]\n",
      "Price 2              : [3.6, 0.0, 0.6, 17.688]\n",
      "\n",
      "Price Partner\n",
      "Price 1.5            : [2.25, 0.0, 0.375, 11.055]\n",
      "Price 1.5*1.15       : [2.5875, 0.0, 0.43125, 12.71325]\n",
      "Price 1.5*1.30       : [2.925, 0.0, 0.4875, 14.3715]\n",
      "Price 2              : [3.0, 0, 0.5, 14.74]\n"
     ]
    }
   ],
   "source": [
    "moc=1.5\n",
    "mtc=0\n",
    "text=0.25\n",
    "data=7.37\n",
    "\n",
    "tariff=[moc,mtc,text,data]\n",
    "\n",
    "print(\"Price P4\")\n",
    "for k,v in {'1.2':1.2,'1.2*1.5':1.2*1.5,'1.2*1.5*1.15':1.2*1.5*1.15,'1.2*1.5*1.30':1.2*1.5*1.30,'2':1.2*2}.items():\n",
    "    print(\"Price {:<15}:\".format(k),[round(i*v,6) for i in tariff])\n",
    "print(\"\\nPrice Partner\")\n",
    "for k,v in {'1.5':1.5,'1.5*1.15':1.5*1.15,'1.5*1.30':1.5*1.30,'2':2}.items():\n",
    "    print(\"Price {:<15}:\".format(k),[round(i*v,6) for i in tariff])"
   ]
  },
  {
   "cell_type": "markdown",
   "metadata": {},
   "source": [
    "## Testing"
   ]
  },
  {
   "cell_type": "code",
   "execution_count": null,
   "metadata": {},
   "outputs": [],
   "source": [
    "import requests\n",
    "#payload = {'key1':'value1','key2':'value2'}\n",
    "#r = requests.get('http://192.168.1.44:80/climate;sensor=1&readattempt=10&temperature=nan&humidity=nan')\n",
    "r = requests.get('http://192.168.1.44:80/climate;sensor=1&readattempt=10&temperature=10.0&humidity=10.0')\n",
    "#r = requests.get('http://192.168.1.53:80/connected;IpAddr=192.168.1.63')\n",
    "print('Status: ',r.status_code,'\\n',r.text)\n",
    "r.close()"
   ]
  },
  {
   "cell_type": "code",
   "execution_count": 91,
   "metadata": {},
   "outputs": [
    {
     "data": {
      "text/plain": [
       "b'\\x00\\n\\x02\\x03\\xff'"
      ]
     },
     "execution_count": 91,
     "metadata": {},
     "output_type": "execute_result"
    }
   ],
   "source": [
    "arr = []\n",
    "arr"
   ]
  },
  {
   "cell_type": "code",
   "execution_count": 118,
   "metadata": {},
   "outputs": [
    {
     "name": "stdout",
     "output_type": "stream",
     "text": [
      "[b'\\x00']\n"
     ]
    },
    {
     "data": {
      "text/plain": [
       "[b'\\x00']"
      ]
     },
     "execution_count": 118,
     "metadata": {},
     "output_type": "execute_result"
    }
   ],
   "source": [
    "a = b'\\x40'\n",
    "a = b'\\x1b\\x7c'\n",
    "a = b'\\x00'\n",
    "# \"Test, #, @, *, %, & end\"\n",
    "parts, encoding_flag, msg_type_flag = smpplib.gsm.make_parts(\"@\")\n",
    "print(parts)\n",
    "parts = [a]\n",
    "parts"
   ]
  },
  {
   "cell_type": "code",
   "execution_count": 141,
   "metadata": {},
   "outputs": [
    {
     "name": "stdout",
     "output_type": "stream",
     "text": [
      "PDU SQN: 2\n"
     ]
    }
   ],
   "source": [
    "import smpplib\n",
    "import smpplib.gsm\n",
    "client = None\n",
    "#parts, encoding_flag, msg_type_flag = smpplib.gsm.make_parts(u'Hello world!')\n",
    "parts, encoding_flag, msg_type_flag = smpplib.gsm.make_parts(\"Test, #, @, *, %, & end\")\n",
    "parts = [b'\\x1b\\x7c']\n",
    "\n",
    "client = smpplib.client.Client('176.10.126.173', 2770)\n",
    "# client = smpplib.client.Client('172.18.11.90', 2770)\n",
    "client.connect()\n",
    "client.bind_transceiver(system_id='test', password='test')\n",
    "for part in parts:\n",
    "    pdu = client.send_message(\n",
    "        source_addr_ton=smpplib.consts.SMPP_TON_INTL,\n",
    "        #source_addr_npi=smpplib.consts.SMPP_NPI_ISDN,\n",
    "        # Make sure it is a byte string, not unicode:\n",
    "        source_addr='972540001044',\n",
    "        dest_addr_ton=smpplib.consts.SMPP_TON_INTL,\n",
    "        #dest_addr_npi=smpplib.consts.SMPP_NPI_ISDN,\n",
    "        # Make sure thease two params are byte strings, not unicode:\n",
    "        destination_addr='79219832572',\n",
    "#         destination_addr='79218893972',\n",
    "        short_message=part,\n",
    "        data_coding=encoding_flag,\n",
    "        esm_class=msg_type_flag,\n",
    "        registered_delivery=True,)\n",
    "    print(f'PDU SQN: {pdu.sequence}')\n",
    "client.unbind()\n",
    "client.unbind()\n",
    "client.disconnect()"
   ]
  },
  {
   "cell_type": "code",
   "execution_count": 10,
   "metadata": {},
   "outputs": [
    {
     "name": "stdout",
     "output_type": "stream",
     "text": [
      "PDU SQN: 2\n"
     ]
    }
   ],
   "source": [
    "import smpplib\n",
    "import smpplib.gsm\n",
    "client = None\n",
    "#parts, encoding_flag, msg_type_flag = smpplib.gsm.make_parts(u'Hello world!')\n",
    "parts, encoding_flag, msg_type_flag = smpplib.gsm.make_parts(\"Test\")\n",
    "\n",
    "client = smpplib.client.Client('176.10.126.173', 2770)\n",
    "# client = smpplib.client.Client('172.18.11.90', 2770)\n",
    "client.connect()\n",
    "client.bind_transceiver(system_id='test', password='test')\n",
    "for part in parts:\n",
    "    pdu = client.send_message(\n",
    "        source_addr_ton=smpplib.consts.SMPP_TON_INTL,\n",
    "#         source_addr_npi=smpplib.consts.SMPP_NPI_ISDN,\n",
    "        # Make sure it is a byte string, not unicode:\n",
    "        source_addr='972549000437',\n",
    "#         source_addr='Israel Post',\n",
    "        dest_addr_ton=smpplib.consts.SMPP_TON_INTL,\n",
    "        #dest_addr_npi=smpplib.consts.SMPP_NPI_ISDN,\n",
    "        # Make sure thease two params are byte strings, not unicode:\n",
    "#         destination_addr='19293801010',\n",
    "        destination_addr='972559300036',\n",
    "        short_message=part,\n",
    "        data_coding=encoding_flag,\n",
    "        esm_class=msg_type_flag,\n",
    "        registered_delivery=True,)\n",
    "    print(f'PDU SQN: {pdu.sequence}')\n",
    "client.unbind()\n",
    "client.unbind()\n",
    "client.disconnect()"
   ]
  },
  {
   "cell_type": "code",
   "execution_count": 995,
   "metadata": {},
   "outputs": [
    {
     "name": "stdout",
     "output_type": "stream",
     "text": [
      "200\n",
      "\"OK\"\n",
      "200\n",
      "\"OK\"\n",
      "200\n",
      "\"OK\"\n"
     ]
    }
   ],
   "source": [
    "import requests\n",
    "ip_addr = '192.168.1.52'\n",
    "port = 80\n",
    "url_01 = f'http://{ip_addr}:{port}/climate;sensor=1&readattempt=10&temperature=25.0&humidity=35.0'\n",
    "url_02 = f'http://{ip_addr}:{port}/climate;sensor=4&readattempt=10&temperature=25.0&humidity=35.0'\n",
    "url_03 = f'http://{ip_addr}:{port}/gas;sensor=2&sensorValue=666'\n",
    "url_04 = f'http://{ip_addr}:{port}/motion;sensor=3'\n",
    "for url in [url_01, url_02, url_03, url_04]:\n",
    "    r = requests.get(url)\n",
    "    print(r.status_code)\n",
    "    print(r.text.strip())"
   ]
  },
  {
   "cell_type": "code",
   "execution_count": 200,
   "metadata": {},
   "outputs": [
    {
     "name": "stdout",
     "output_type": "stream",
     "text": [
      "('4250196300', 1)\n"
     ]
    }
   ],
   "source": [
    "import cx_Oracle\n",
    "# con = cx_Oracle.connect('DMI/dd607605ce341@DMI_TEST')\n",
    "con = cx_Oracle.connect('DMI/dd607605ce341@DMI')\n",
    "cur = con.cursor()\n",
    "cur.execute(\n",
    "'''\n",
    "SELECT SUBSTR(SI.IMSI_NUMBER,1,10) AS IMSI_RANGE, count(SI.IMSI_NUMBER) AS NUM\n",
    "FROM s_imsi si\n",
    "WHERE SI.IMSI_NUMBER like '42501963%'\n",
    "GROUP BY SUBSTR(SI.IMSI_NUMBER,1,10)\n",
    "ORDER BY SUBSTR(SI.IMSI_NUMBER,1,10) desc\n",
    "'''\n",
    ")\n",
    "for result in cur:\n",
    "    print(result)\n",
    "cur.close()\n",
    "con.close()"
   ]
  },
  {
   "cell_type": "code",
   "execution_count": 52,
   "metadata": {},
   "outputs": [
    {
     "name": "stdout",
     "output_type": "stream",
     "text": [
      "48791258000 - 48791267999\n",
      "BETWEEN '48791258000' AND '48791267999'\n"
     ]
    }
   ],
   "source": [
    "the_last = 48791257999\n",
    "num = 10000\n",
    "print(f'{the_last + 1} - {the_last + num}')\n",
    "print(f\"BETWEEN '{the_last + 1}' AND '{the_last + num}'\")"
   ]
  },
  {
   "cell_type": "code",
   "execution_count": 286,
   "metadata": {},
   "outputs": [
    {
     "data": {
      "text/plain": [
       "-999999"
      ]
     },
     "execution_count": 286,
     "metadata": {},
     "output_type": "execute_result"
    }
   ],
   "source": [
    "8997219121000000000 - 8997219121000999999"
   ]
  },
  {
   "cell_type": "code",
   "execution_count": 477,
   "metadata": {},
   "outputs": [
    {
     "data": {
      "text/plain": [
       "8.912734714094102"
      ]
     },
     "execution_count": 477,
     "metadata": {},
     "output_type": "execute_result"
    }
   ],
   "source": [
    "sdrRate = 1.37658\n",
    "charge = 65.845502\n",
    "chargedUnits = 10559771\n",
    "unit = 1024 * 1014\n",
    "(charge * sdrRate / chargedUnits) * unit"
   ]
  },
  {
   "cell_type": "code",
   "execution_count": 263,
   "metadata": {},
   "outputs": [
    {
     "data": {
      "text/plain": [
       "0.799209855308534"
      ]
     },
     "execution_count": 263,
     "metadata": {},
     "output_type": "execute_result"
    }
   ],
   "source": [
    "sdrRate = 1.37522\n",
    "charge = 0.2906\n",
    "chargedUnits = 914\n",
    "unit = 60\n",
    "(charge * sdrRate / chargedUnits) * unit"
   ]
  },
  {
   "cell_type": "code",
   "execution_count": 265,
   "metadata": {},
   "outputs": [
    {
     "data": {
      "text/plain": [
       "0.39963893200000006"
      ]
     },
     "execution_count": 265,
     "metadata": {},
     "output_type": "execute_result"
    }
   ],
   "source": [
    "sdrRate = 1.37522\n",
    "charge = 0.351159\n",
    "chargedUnits = 1\n",
    "unit = 1\n",
    "(charge * sdrRate / chargedUnits) * unit"
   ]
  },
  {
   "cell_type": "code",
   "execution_count": null,
   "metadata": {},
   "outputs": [],
   "source": []
  },
  {
   "cell_type": "code",
   "execution_count": null,
   "metadata": {},
   "outputs": [],
   "source": []
  },
  {
   "cell_type": "code",
   "execution_count": null,
   "metadata": {},
   "outputs": [],
   "source": []
  },
  {
   "cell_type": "code",
   "execution_count": 209,
   "metadata": {},
   "outputs": [
    {
     "data": {
      "text/html": [
       "<div>\n",
       "<style scoped>\n",
       "    .dataframe tbody tr th:only-of-type {\n",
       "        vertical-align: middle;\n",
       "    }\n",
       "\n",
       "    .dataframe tbody tr th {\n",
       "        vertical-align: top;\n",
       "    }\n",
       "\n",
       "    .dataframe thead th {\n",
       "        text-align: right;\n",
       "    }\n",
       "</style>\n",
       "<table border=\"1\" class=\"dataframe\">\n",
       "  <thead>\n",
       "    <tr style=\"text-align: right;\">\n",
       "      <th></th>\n",
       "      <th>Name</th>\n",
       "      <th>RangeStart</th>\n",
       "      <th>RangeEnd</th>\n",
       "      <th>Allocation</th>\n",
       "    </tr>\n",
       "  </thead>\n",
       "  <tbody>\n",
       "    <tr>\n",
       "      <td>0</td>\n",
       "      <td>S2</td>\n",
       "      <td>260060145000000</td>\n",
       "      <td>260060145999999</td>\n",
       "      <td>eSim</td>\n",
       "    </tr>\n",
       "    <tr>\n",
       "      <td>1</td>\n",
       "      <td>S2</td>\n",
       "      <td>260060145000000</td>\n",
       "      <td>260060145000049</td>\n",
       "      <td>eSIM Workz 190709</td>\n",
       "    </tr>\n",
       "    <tr>\n",
       "      <td>2</td>\n",
       "      <td>S2</td>\n",
       "      <td>260060145000050</td>\n",
       "      <td>260060145000149</td>\n",
       "      <td>eSIM Workz 191013</td>\n",
       "    </tr>\n",
       "    <tr>\n",
       "      <td>3</td>\n",
       "      <td>S2</td>\n",
       "      <td>260060145000000</td>\n",
       "      <td>260060145009999</td>\n",
       "      <td>eSim range for small batches</td>\n",
       "    </tr>\n",
       "    <tr>\n",
       "      <td>4</td>\n",
       "      <td>S2</td>\n",
       "      <td>260060145010000</td>\n",
       "      <td>260060145014999</td>\n",
       "      <td>eSIM Workz 191018</td>\n",
       "    </tr>\n",
       "  </tbody>\n",
       "</table>\n",
       "</div>"
      ],
      "text/plain": [
       "  Name       RangeStart         RangeEnd                    Allocation\n",
       "0   S2  260060145000000  260060145999999                          eSim\n",
       "1   S2  260060145000000  260060145000049             eSIM Workz 190709\n",
       "2   S2  260060145000050  260060145000149             eSIM Workz 191013\n",
       "3   S2  260060145000000  260060145009999  eSim range for small batches\n",
       "4   S2  260060145010000  260060145014999             eSIM Workz 191018"
      ]
     },
     "execution_count": 209,
     "metadata": {},
     "output_type": "execute_result"
    }
   ],
   "source": [
    "sql_srt=\"\"\"\n",
    "SELECT\n",
    "o.Name,i.RangeStart,i.RangeEnd,i.Allocation\n",
    "FROM ImsiRange i\n",
    "LEFT JOIN [dbo].[Sponsors] s ON i.SponsorID = s.ID\n",
    "LEFT JOIN [dbo].[Operators] o ON o.ID = s.OperatorID\n",
    "WHERE o.Name LIKE 'P4%'\n",
    "AND i.RangeStart LIKE '260060145%';\"\"\"\n",
    "with rb.MssqlConnect('172.19.11.59', 'RoamDb', 'roamdb', 'roamdbpasswd') as cnxn:\n",
    "    df_rdb_imsi_range = pd.read_sql_query(sql_srt, cnxn, coerce_float=False)\n",
    "df_rdb_imsi_range.Name.replace({'P4 Sp z o o':'S2'}, inplace=True)\n",
    "df_rdb_imsi_range.head()"
   ]
  },
  {
   "cell_type": "code",
   "execution_count": 210,
   "metadata": {},
   "outputs": [
    {
     "data": {
      "text/html": [
       "<div>\n",
       "<style scoped>\n",
       "    .dataframe tbody tr th:only-of-type {\n",
       "        vertical-align: middle;\n",
       "    }\n",
       "\n",
       "    .dataframe tbody tr th {\n",
       "        vertical-align: top;\n",
       "    }\n",
       "\n",
       "    .dataframe thead th {\n",
       "        text-align: right;\n",
       "    }\n",
       "</style>\n",
       "<table border=\"1\" class=\"dataframe\">\n",
       "  <thead>\n",
       "    <tr style=\"text-align: right;\">\n",
       "      <th></th>\n",
       "      <th>SPONSOR</th>\n",
       "      <th>IMSI</th>\n",
       "      <th>COMMENT</th>\n",
       "    </tr>\n",
       "  </thead>\n",
       "  <tbody>\n",
       "    <tr>\n",
       "      <td>0</td>\n",
       "      <td>S2</td>\n",
       "      <td>260060145000000</td>\n",
       "      <td>eSim</td>\n",
       "    </tr>\n",
       "    <tr>\n",
       "      <td>1</td>\n",
       "      <td>S2</td>\n",
       "      <td>260060145000001</td>\n",
       "      <td>eSim</td>\n",
       "    </tr>\n",
       "    <tr>\n",
       "      <td>2</td>\n",
       "      <td>S2</td>\n",
       "      <td>260060145000002</td>\n",
       "      <td>eSim</td>\n",
       "    </tr>\n",
       "    <tr>\n",
       "      <td>3</td>\n",
       "      <td>S2</td>\n",
       "      <td>260060145000003</td>\n",
       "      <td>eSim</td>\n",
       "    </tr>\n",
       "    <tr>\n",
       "      <td>4</td>\n",
       "      <td>S2</td>\n",
       "      <td>260060145000004</td>\n",
       "      <td>eSim</td>\n",
       "    </tr>\n",
       "  </tbody>\n",
       "</table>\n",
       "</div>"
      ],
      "text/plain": [
       "  SPONSOR             IMSI COMMENT\n",
       "0      S2  260060145000000    eSim\n",
       "1      S2  260060145000001    eSim\n",
       "2      S2  260060145000002    eSim\n",
       "3      S2  260060145000003    eSim\n",
       "4      S2  260060145000004    eSim"
      ]
     },
     "execution_count": 210,
     "metadata": {},
     "output_type": "execute_result"
    }
   ],
   "source": [
    "df_rdb_imsi = DataFrame()\n",
    "for Name, RangeStart, RangeEnd, Allocation in df_rdb_imsi_range.values:\n",
    "    df_rdb_imsi = df_rdb_imsi.append(DataFrame({'SPONSOR':Name,\n",
    "                                  'IMSI':range(RangeStart, RangeEnd),\n",
    "                                  'COMMENT':Allocation}))\n",
    "df_rdb_imsi.head()"
   ]
  },
  {
   "cell_type": "code",
   "execution_count": 206,
   "metadata": {},
   "outputs": [
    {
     "data": {
      "text/html": [
       "<div>\n",
       "<style scoped>\n",
       "    .dataframe tbody tr th:only-of-type {\n",
       "        vertical-align: middle;\n",
       "    }\n",
       "\n",
       "    .dataframe tbody tr th {\n",
       "        vertical-align: top;\n",
       "    }\n",
       "\n",
       "    .dataframe thead th {\n",
       "        text-align: right;\n",
       "    }\n",
       "</style>\n",
       "<table border=\"1\" class=\"dataframe\">\n",
       "  <thead>\n",
       "    <tr style=\"text-align: right;\">\n",
       "      <th></th>\n",
       "      <th>SPONSOR</th>\n",
       "      <th>IMSI</th>\n",
       "      <th>IMSI_NUM</th>\n",
       "      <th>0</th>\n",
       "      <th>1</th>\n",
       "      <th>2</th>\n",
       "      <th>3</th>\n",
       "    </tr>\n",
       "  </thead>\n",
       "  <tbody>\n",
       "    <tr>\n",
       "      <td>0</td>\n",
       "      <td>S2</td>\n",
       "      <td>260060145000</td>\n",
       "      <td>1000</td>\n",
       "      <td>eSim</td>\n",
       "      <td>eSIM Workz 190709</td>\n",
       "      <td>eSIM Workz 191013</td>\n",
       "      <td>eSim range for small batches</td>\n",
       "    </tr>\n",
       "    <tr>\n",
       "      <td>1</td>\n",
       "      <td>S2</td>\n",
       "      <td>260060145001</td>\n",
       "      <td>1000</td>\n",
       "      <td>eSim</td>\n",
       "      <td>eSim range for small batches</td>\n",
       "      <td>DENT 200114</td>\n",
       "      <td>None</td>\n",
       "    </tr>\n",
       "    <tr>\n",
       "      <td>2</td>\n",
       "      <td>S2</td>\n",
       "      <td>260060145002</td>\n",
       "      <td>1000</td>\n",
       "      <td>eSim</td>\n",
       "      <td>eSim range for small batches</td>\n",
       "      <td>None</td>\n",
       "      <td>None</td>\n",
       "    </tr>\n",
       "    <tr>\n",
       "      <td>3</td>\n",
       "      <td>S2</td>\n",
       "      <td>260060145003</td>\n",
       "      <td>1000</td>\n",
       "      <td>eSim</td>\n",
       "      <td>eSim range for small batches</td>\n",
       "      <td>None</td>\n",
       "      <td>None</td>\n",
       "    </tr>\n",
       "    <tr>\n",
       "      <td>4</td>\n",
       "      <td>S2</td>\n",
       "      <td>260060145004</td>\n",
       "      <td>1000</td>\n",
       "      <td>eSim</td>\n",
       "      <td>eSim range for small batches</td>\n",
       "      <td>None</td>\n",
       "      <td>None</td>\n",
       "    </tr>\n",
       "  </tbody>\n",
       "</table>\n",
       "</div>"
      ],
      "text/plain": [
       "  SPONSOR          IMSI  IMSI_NUM     0                             1  \\\n",
       "0      S2  260060145000      1000  eSim             eSIM Workz 190709   \n",
       "1      S2  260060145001      1000  eSim  eSim range for small batches   \n",
       "2      S2  260060145002      1000  eSim  eSim range for small batches   \n",
       "3      S2  260060145003      1000  eSim  eSim range for small batches   \n",
       "4      S2  260060145004      1000  eSim  eSim range for small batches   \n",
       "\n",
       "                   2                             3  \n",
       "0  eSIM Workz 191013  eSim range for small batches  \n",
       "1        DENT 200114                          None  \n",
       "2               None                          None  \n",
       "3               None                          None  \n",
       "4               None                          None  "
      ]
     },
     "execution_count": 206,
     "metadata": {},
     "output_type": "execute_result"
    }
   ],
   "source": [
    "agg_precision = 12\n",
    "list_agg_imsi = [('_MIN','min'),('_MAX','max'),('_NUM','nunique')]\n",
    "list_agg_comment = [('','unique')]\n",
    "list_col = ['SPONSOR', df_rdb_imsi.IMSI.astype('str').str.slice(0, agg_precision)]\n",
    "df_rdb_imsi_group = df_rdb_imsi.groupby(list_col)['IMSI','COMMENT'].agg({'IMSI': list_agg_imsi,\n",
    "                                                                         'COMMENT':list_agg_comment}).reset_index()\n",
    "df_rdb_imsi_group.columns = [''.join(col) for col in df_rdb_imsi_group.columns]\n",
    "df_rdb_imsi_group = pd.concat([df_rdb_imsi_group, DataFrame(df_rdb_imsi_group.COMMENT.tolist())], axis=1)\n",
    "df_rdb_imsi_group.drop('COMMENT', axis=1, inplace=True)\n",
    "cols_group = ['SPONSOR','IMSI','IMSI_NUM',0,1,2,3]\n",
    "df_rdb_imsi_group[cols_group].head()"
   ]
  },
  {
   "cell_type": "code",
   "execution_count": 207,
   "metadata": {},
   "outputs": [
    {
     "data": {
      "text/html": [
       "<div>\n",
       "<style scoped>\n",
       "    .dataframe tbody tr th:only-of-type {\n",
       "        vertical-align: middle;\n",
       "    }\n",
       "\n",
       "    .dataframe tbody tr th {\n",
       "        vertical-align: top;\n",
       "    }\n",
       "\n",
       "    .dataframe thead th {\n",
       "        text-align: right;\n",
       "    }\n",
       "</style>\n",
       "<table border=\"1\" class=\"dataframe\">\n",
       "  <thead>\n",
       "    <tr style=\"text-align: right;\">\n",
       "      <th></th>\n",
       "      <th>SPONSOR</th>\n",
       "      <th>IMSI</th>\n",
       "      <th>IMSI_NUM</th>\n",
       "      <th>0</th>\n",
       "      <th>1</th>\n",
       "      <th>2</th>\n",
       "      <th>3</th>\n",
       "    </tr>\n",
       "  </thead>\n",
       "  <tbody>\n",
       "    <tr>\n",
       "      <td>960</td>\n",
       "      <td>S2</td>\n",
       "      <td>260060145960</td>\n",
       "      <td>1000</td>\n",
       "      <td>eSim</td>\n",
       "      <td>eSIM DIALOQ 191109 15899115</td>\n",
       "      <td>None</td>\n",
       "      <td>None</td>\n",
       "    </tr>\n",
       "    <tr>\n",
       "      <td>961</td>\n",
       "      <td>S2</td>\n",
       "      <td>260060145961</td>\n",
       "      <td>1000</td>\n",
       "      <td>eSim</td>\n",
       "      <td>eSIM STI 191224</td>\n",
       "      <td>None</td>\n",
       "      <td>None</td>\n",
       "    </tr>\n",
       "    <tr>\n",
       "      <td>962</td>\n",
       "      <td>S2</td>\n",
       "      <td>260060145962</td>\n",
       "      <td>1000</td>\n",
       "      <td>eSim</td>\n",
       "      <td>eSIM STI 191224</td>\n",
       "      <td>None</td>\n",
       "      <td>None</td>\n",
       "    </tr>\n",
       "    <tr>\n",
       "      <td>963</td>\n",
       "      <td>S2</td>\n",
       "      <td>260060145963</td>\n",
       "      <td>1000</td>\n",
       "      <td>eSim</td>\n",
       "      <td>eSIM STI 191224</td>\n",
       "      <td>None</td>\n",
       "      <td>None</td>\n",
       "    </tr>\n",
       "    <tr>\n",
       "      <td>964</td>\n",
       "      <td>S2</td>\n",
       "      <td>260060145964</td>\n",
       "      <td>1000</td>\n",
       "      <td>eSim</td>\n",
       "      <td>eSIM STI 191224</td>\n",
       "      <td>None</td>\n",
       "      <td>None</td>\n",
       "    </tr>\n",
       "    <tr>\n",
       "      <td>965</td>\n",
       "      <td>S2</td>\n",
       "      <td>260060145965</td>\n",
       "      <td>1000</td>\n",
       "      <td>eSim</td>\n",
       "      <td>eSIM STI 191224</td>\n",
       "      <td>None</td>\n",
       "      <td>None</td>\n",
       "    </tr>\n",
       "    <tr>\n",
       "      <td>966</td>\n",
       "      <td>S2</td>\n",
       "      <td>260060145966</td>\n",
       "      <td>1000</td>\n",
       "      <td>eSim</td>\n",
       "      <td>None</td>\n",
       "      <td>None</td>\n",
       "      <td>None</td>\n",
       "    </tr>\n",
       "    <tr>\n",
       "      <td>967</td>\n",
       "      <td>S2</td>\n",
       "      <td>260060145967</td>\n",
       "      <td>1000</td>\n",
       "      <td>eSim</td>\n",
       "      <td>None</td>\n",
       "      <td>None</td>\n",
       "      <td>None</td>\n",
       "    </tr>\n",
       "    <tr>\n",
       "      <td>968</td>\n",
       "      <td>S2</td>\n",
       "      <td>260060145968</td>\n",
       "      <td>1000</td>\n",
       "      <td>eSim</td>\n",
       "      <td>None</td>\n",
       "      <td>None</td>\n",
       "      <td>None</td>\n",
       "    </tr>\n",
       "    <tr>\n",
       "      <td>969</td>\n",
       "      <td>S2</td>\n",
       "      <td>260060145969</td>\n",
       "      <td>1000</td>\n",
       "      <td>eSim</td>\n",
       "      <td>None</td>\n",
       "      <td>None</td>\n",
       "      <td>None</td>\n",
       "    </tr>\n",
       "  </tbody>\n",
       "</table>\n",
       "</div>"
      ],
      "text/plain": [
       "    SPONSOR          IMSI  IMSI_NUM     0                            1     2  \\\n",
       "960      S2  260060145960      1000  eSim  eSIM DIALOQ 191109 15899115  None   \n",
       "961      S2  260060145961      1000  eSim              eSIM STI 191224  None   \n",
       "962      S2  260060145962      1000  eSim              eSIM STI 191224  None   \n",
       "963      S2  260060145963      1000  eSim              eSIM STI 191224  None   \n",
       "964      S2  260060145964      1000  eSim              eSIM STI 191224  None   \n",
       "965      S2  260060145965      1000  eSim              eSIM STI 191224  None   \n",
       "966      S2  260060145966      1000  eSim                         None  None   \n",
       "967      S2  260060145967      1000  eSim                         None  None   \n",
       "968      S2  260060145968      1000  eSim                         None  None   \n",
       "969      S2  260060145969      1000  eSim                         None  None   \n",
       "\n",
       "        3  \n",
       "960  None  \n",
       "961  None  \n",
       "962  None  \n",
       "963  None  \n",
       "964  None  \n",
       "965  None  \n",
       "966  None  \n",
       "967  None  \n",
       "968  None  \n",
       "969  None  "
      ]
     },
     "execution_count": 207,
     "metadata": {},
     "output_type": "execute_result"
    }
   ],
   "source": [
    "imsi_range = '26006014596'\n",
    "df_rdb_imsi_group.loc[df_rdb_imsi_group.IMSI.str.startswith(imsi_range, na=False)][cols_group].tail(50)"
   ]
  },
  {
   "cell_type": "code",
   "execution_count": 211,
   "metadata": {},
   "outputs": [
    {
     "data": {
      "text/plain": [
       "0.27599999999999997"
      ]
     },
     "execution_count": 211,
     "metadata": {},
     "output_type": "execute_result"
    }
   ],
   "source": [
    "0.12 * 1.15 * 2"
   ]
  },
  {
   "cell_type": "code",
   "execution_count": null,
   "metadata": {},
   "outputs": [],
   "source": []
  },
  {
   "cell_type": "code",
   "execution_count": 254,
   "metadata": {},
   "outputs": [
    {
     "data": {
      "text/plain": [
       "'C:/Users/balob/Downloads'"
      ]
     },
     "execution_count": 254,
     "metadata": {},
     "output_type": "execute_result"
    }
   ],
   "source": [
    "# downloads = 'C:/Users/balob/Downloads'\n",
    "downloads"
   ]
  },
  {
   "cell_type": "code",
   "execution_count": 267,
   "metadata": {},
   "outputs": [
    {
     "data": {
      "text/plain": [
       "['A',\n",
       " 'B',\n",
       " 'C',\n",
       " 'A',\n",
       " 'B',\n",
       " 'C',\n",
       " 'A',\n",
       " 'B',\n",
       " 'C',\n",
       " 'A',\n",
       " 'B',\n",
       " 'C',\n",
       " 'A',\n",
       " 'B',\n",
       " 'C',\n",
       " 'A',\n",
       " 'B',\n",
       " 'C',\n",
       " 'A',\n",
       " 'B',\n",
       " 'C',\n",
       " 'A',\n",
       " 'B',\n",
       " 'C',\n",
       " 'A',\n",
       " 'B',\n",
       " 'C',\n",
       " 'A',\n",
       " 'B',\n",
       " 'C']"
      ]
     },
     "execution_count": 267,
     "metadata": {},
     "output_type": "execute_result"
    }
   ],
   "source": [
    "list('ABC' * 10)"
   ]
  },
  {
   "cell_type": "code",
   "execution_count": 284,
   "metadata": {},
   "outputs": [],
   "source": [
    "my_list = list('ABC' * 10)"
   ]
  },
  {
   "cell_type": "code",
   "execution_count": 290,
   "metadata": {},
   "outputs": [
    {
     "name": "stdout",
     "output_type": "stream",
     "text": [
      "324 ns ± 7.86 ns per loop (mean ± std. dev. of 7 runs, 1000000 loops each)\n"
     ]
    }
   ],
   "source": [
    "%%timeit\n",
    "while 'A' in my_list:\n",
    "    my_list.remove('A')"
   ]
  },
  {
   "cell_type": "code",
   "execution_count": 297,
   "metadata": {},
   "outputs": [
    {
     "name": "stdout",
     "output_type": "stream",
     "text": [
      "605 ns ± 3.57 ns per loop (mean ± std. dev. of 7 runs, 1000000 loops each)\n"
     ]
    }
   ],
   "source": [
    "%%timeit\n",
    "while True:\n",
    "    try:\n",
    "        my_list.remove('A')\n",
    "    except:\n",
    "        break"
   ]
  },
  {
   "cell_type": "code",
   "execution_count": 304,
   "metadata": {},
   "outputs": [
    {
     "data": {
      "text/plain": [
       "0.035879999999999995"
      ]
     },
     "execution_count": 304,
     "metadata": {},
     "output_type": "execute_result"
    }
   ],
   "source": [
    "0.0312 * 1.15"
   ]
  },
  {
   "cell_type": "code",
   "execution_count": null,
   "metadata": {},
   "outputs": [],
   "source": [
    "%reset -f"
   ]
  },
  {
   "cell_type": "code",
   "execution_count": null,
   "metadata": {},
   "outputs": [],
   "source": []
  }
 ],
 "metadata": {
  "kernelspec": {
   "display_name": "Python 3",
   "language": "python",
   "name": "python3"
  },
  "language_info": {
   "codemirror_mode": {
    "name": "ipython",
    "version": 3
   },
   "file_extension": ".py",
   "mimetype": "text/x-python",
   "name": "python",
   "nbconvert_exporter": "python",
   "pygments_lexer": "ipython3",
   "version": "3.6.9"
  }
 },
 "nbformat": 4,
 "nbformat_minor": 2
}
