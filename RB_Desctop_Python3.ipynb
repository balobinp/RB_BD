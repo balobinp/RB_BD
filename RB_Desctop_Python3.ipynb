{
 "cells": [
  {
   "cell_type": "code",
   "execution_count": null,
   "metadata": {},
   "outputs": [],
   "source": [
    "from IPython.display import HTML\n",
    "HTML('''<script>\n",
    "code_show=true; \n",
    "function code_toggle() {\n",
    " if (code_show){\n",
    " $('div.input').hide();\n",
    " } else {\n",
    " $('div.input').show();\n",
    " }\n",
    " code_show = !code_show\n",
    "} \n",
    "$( document ).ready(code_toggle);\n",
    "</script>\n",
    "<form action=\"javascript:code_toggle()\"><input type=\"submit\" value=\"Click here to toggle on/off the raw code.\"></form>''')"
   ]
  },
  {
   "cell_type": "markdown",
   "metadata": {},
   "source": [
    "# Libraries and functions"
   ]
  },
  {
   "cell_type": "code",
   "execution_count": 4,
   "metadata": {},
   "outputs": [],
   "source": [
    "import numpy as np\n",
    "import pandas as pd\n",
    "import pandasql as ps\n",
    "from pandas import Series, DataFrame\n",
    "import datetime as dt\n",
    "import matplotlib.pyplot as plt\n",
    "import matplotlib as mpl\n",
    "import sys\n",
    "import time\n",
    "import math\n",
    "from tqdm import tqdm\n",
    "from importlib import reload\n",
    "from os.path import join, normpath\n",
    "from bs4 import BeautifulSoup\n",
    "import os\n",
    "import roamability as rb\n",
    "import re\n",
    "\n",
    "downloads = 'C:/Users/balob/Downloads'"
   ]
  },
  {
   "cell_type": "markdown",
   "metadata": {},
   "source": [
    "#### To get the path"
   ]
  },
  {
   "cell_type": "code",
   "execution_count": 95,
   "metadata": {},
   "outputs": [
    {
     "name": "stdout",
     "output_type": "stream",
     "text": [
      "C:\\Users\\balob\\Documents\\GITLAB\\RB_BD\n"
     ]
    },
    {
     "data": {
      "text/plain": [
       "WindowsPath('C:/Users/balob/Documents/GITLAB/RB_BD')"
      ]
     },
     "execution_count": 95,
     "metadata": {},
     "output_type": "execute_result"
    }
   ],
   "source": [
    "from pathlib import Path\n",
    "path_dir = Path.cwd()\n",
    "print(path_dir)\n",
    "path_dir"
   ]
  },
  {
   "cell_type": "code",
   "execution_count": 3,
   "metadata": {},
   "outputs": [
    {
     "data": {
      "text/plain": [
       "'c:/Users/balob/Documents/GITLAB/NOC_Roamability_com/noc/noc'"
      ]
     },
     "execution_count": 3,
     "metadata": {},
     "output_type": "execute_result"
    }
   ],
   "source": [
    "pwd=!echo %cd%\n",
    "pwd=str(pwd)\n",
    "pwd=r\"c:\\Users\\balob\\Documents\\GITLAB\\NOC_Roamability_com\\noc\\noc\"\n",
    "pwd.replace('\\\\','/',100)"
   ]
  },
  {
   "cell_type": "code",
   "execution_count": 99,
   "metadata": {},
   "outputs": [],
   "source": [
    "%reset -f"
   ]
  },
  {
   "cell_type": "markdown",
   "metadata": {},
   "source": [
    "# Examples"
   ]
  },
  {
   "cell_type": "markdown",
   "metadata": {},
   "source": [
    "### Soap API OCS Portal"
   ]
  },
  {
   "cell_type": "code",
   "execution_count": 1,
   "metadata": {},
   "outputs": [
    {
     "name": "stdout",
     "output_type": "stream",
     "text": [
      "Choose connection (prod or lab):lab\n",
      "You are connected to Reseller: Justworks Mobile.    \n",
      "Available credit for the Reseller: 50 USD.\n",
      "\n",
      "The Reseller contains the following accounts:\n",
      " 0    Justworks Mobile test SIMs (accountID: 352598)\n"
     ]
    }
   ],
   "source": [
    "%reset -f\n",
    "from zeep import Client\n",
    "from zeep.wsse.username import UsernameToken\n",
    "\n",
    "connect = input(\"Choose connection (prod or lab):\")\n",
    "\n",
    "if connect == 'lab':\n",
    "    user = 'lab_api@roamability.com'\n",
    "    user = 'lab_ocs@justworksmobile.com'\n",
    "    password = '25D55AD283AA400AF464C76D713C07AD' #Lab\n",
    "    #api_link = 'https://172.20.39.7:8585/ocsapi/roamability/api/roamability.wsdl' #Lab\n",
    "    api_link = 'https://labocsapi.roamability.com:6443/ocsapi/roamability/api/roamability.wsdl'\n",
    "elif connect == 'prod':\n",
    "    user = 'prod_api@roamability.com'\n",
    "    password = '25D55AD283AA400AF464C76D713C07AD'\n",
    "    api_link = 'http://172.20.35.12:8585/ocsapi/roamability/api/roamability.wsdl'\n",
    "\n",
    "user_name_token = UsernameToken(user, password)\n",
    "user_name_token.use_digest = True\n",
    "client = Client(api_link, wsse=user_name_token)\n",
    "\n",
    "reseller = client.service.getResellerInfo()\n",
    "accounts = client.service.getAccounts()\n",
    "\n",
    "if reseller.result.code == '1':\n",
    "    print('You are connected to Reseller: {}.\\\n",
    "    \\nAvailable credit for the Reseller: {:.0f} USD.\\n'.\\\n",
    "    format(reseller.reseller.resellerName,reseller.reseller.availableCredit))\n",
    "else:\n",
    "    print('Error in getting Reseller info: {}'.format(reseller.result.description))\n",
    "\n",
    "if accounts.result.code == '1':\n",
    "    accounts_dict = {account.accountId:account.accountName for account in accounts.accounts.accounts}\n",
    "    print('The Reseller contains the following accounts:')\n",
    "    for i,[account_id,account_name] in enumerate(accounts_dict.items()):\n",
    "        print(' {:<5}{} (accountID: {})'.format(i,account_name,account_id))\n",
    "else:\n",
    "    print('Error in getting Account info: {}'.format(accounts.result.description))\n",
    "    \n",
    "# Subscriber in lab in STI account\n",
    "#subscriber_id = client.service.getSubscriberById('934311')\n",
    "#subscriber_iccid = client.service.getSubscriberByICCID('8997219121000031446')\n",
    "#subscriber_id"
   ]
  },
  {
   "cell_type": "markdown",
   "metadata": {},
   "source": [
    "### Send MSU"
   ]
  },
  {
   "cell_type": "code",
   "execution_count": 508,
   "metadata": {},
   "outputs": [
    {
     "name": "stdout",
     "output_type": "stream",
     "text": [
      "Greetings from Roamability!!! \n",
      "\n"
     ]
    }
   ],
   "source": [
    "from bs4 import BeautifulSoup\n",
    "import roamability as rb\n",
    "#reload(rb)\n",
    "\n",
    "switch_01_payload = '24027000001f0d00010000bfff0100000000000010554f212dbbad49a1caf2573e1a626139'\n",
    "switch_02_payload = '24027000001F0D00010000BFFF0100000000000040a740AD174703383798A7A6545BB36491'\n",
    "\n",
    "#515030190000000\n",
    "#1d46acf860780\n",
    "add_imsi_03 = '3C02700000370d00210000bfff0100000000000040939360c23f417f147557b6940c91ba8b7e54be1c8c950a6ed1235ea8e3d70e9c2d7c34876abd68ec'\n",
    "\n",
    "\n",
    "ogt = {'p4':'48790993070',\n",
    "       'partner':'97254120624',\n",
    "       'sure':'447797706411',\n",
    "       'tot':'66893773228',\n",
    "       'porto_seguro':'550549900000',\n",
    "       'rusec_rus':'79028710069',\n",
    "       'rusec_int':'417999880000024',\n",
    "       'multi_byte_sponsor':'85263347864',\n",
    "       'smart1':'639180009880',\n",
    "       'smart2':'639180009881',\n",
    "       'smart3':'639180009882',\n",
    "       'smart4':'639180009883',\n",
    "       'telzar':'972559900040',}\n",
    "\n",
    "rb.greetings_func()\n",
    "#rb.print_imsi_prof(ogt, imsi, msc, 'as_resp') #'as_mo'\n",
    "#soup = BeautifulSoup(rb.sri4sm(ogt, msisdn),'xml') #250359000007598 79028710043\n",
    "#soup = BeautifulSoup(rb.prn(ogt, dgt, imsi),'xml')\n",
    "#soup = BeautifulSoup(rb.sai(ogt, dgt, imsi, node),'xml') # 0 - vlr; 16 - mme\n",
    "#soup = BeautifulSoup(rb.sendSMS(ogt, imsi, msc, rb.get_info),'xml')\n",
    "#soup = BeautifulSoup(rb.cl(ogt, dgt, imsi, d_ssn=7),'xml')\n",
    "#soup"
   ]
  },
  {
   "cell_type": "code",
   "execution_count": 510,
   "metadata": {},
   "outputs": [
    {
     "name": "stdout",
     "output_type": "stream",
     "text": [
      "Greetings from Roamability!!! \n",
      "\n"
     ]
    },
    {
     "data": {
      "text/plain": [
       "<?xml version=\"1.0\" encoding=\"utf-8\"?>\n",
       "<response>\n",
       "<quintupletList>\n",
       "<sequence>\n",
       "<rand>b4dae2566b85fe29274470e9c1117e47</rand>\n",
       "<xres>9936f0d66274b189</xres>\n",
       "<ck>7d68a66310afa79a0581625e37b149c9</ck>\n",
       "<ik>2d90485ab98ec2fb95d0de90e0abbe0e</ik>\n",
       "<autn>50e9b31c28a910005977025a71c1a20c</autn>\n",
       "</sequence>\n",
       "</quintupletList>\n",
       "<result>0</result>\n",
       "<src_gt>97254120624</src_gt>\n",
       "</response>"
      ]
     },
     "execution_count": 510,
     "metadata": {},
     "output_type": "execute_result"
    }
   ],
   "source": [
    "rb.greetings_func()\n",
    "soup = BeautifulSoup(rb.sai(ogt['partner'], '972549620012610', '425019620012610', 0),'xml') # 0 - vlr; 16 - mme\n",
    "soup"
   ]
  },
  {
   "cell_type": "code",
   "execution_count": 70,
   "metadata": {},
   "outputs": [
    {
     "data": {
      "text/plain": [
       "<?xml version=\"1.0\" encoding=\"utf-8\"?>\n",
       "<response>\n",
       "<result>-1</result>\n",
       "<error>Error: Unknown Subscriber(1)</error>\n",
       "<src_gt>972559900071</src_gt>\n",
       "</response>"
      ]
     },
     "execution_count": 70,
     "metadata": {},
     "output_type": "execute_result"
    }
   ],
   "source": [
    "import http\n",
    "import re\n",
    "from bs4 import BeautifulSoup\n",
    "import sys\n",
    "\n",
    "ss7_url = \"172.18.11.10\"\n",
    "ss7_path = \"/cgi-bin/ss7gw.fcgi\"\n",
    "\n",
    "def executeHTTP(request, url, path):\n",
    "    client = http.client.HTTPConnection(url)\n",
    "    client.request(\"POST\", path, request, {\"Content-Type\": \"text/xml\"})\n",
    "    resp = client.getresponse()\n",
    "    return resp.read()\n",
    "\n",
    "def sri4sm(ogt, msisdn, dgt):\n",
    "    req = \"\"\"<?xml version=\\\"1.0\\\"?>\n",
    "        <ss7gw request=\\\"SRI_SM\\\">\n",
    "        <d_ssn>6</d_ssn>\n",
    "        <o_ssn>8</o_ssn>\n",
    "        <sccp_np>7</sccp_np>\n",
    "        <o_gt>%s</o_gt>\n",
    "        <d_gt>%s</d_gt>\n",
    "        <msisdn>%s</msisdn>\n",
    "        <priority>1</priority>\n",
    "        <address>%s</address>\n",
    "        </ss7gw>\"\"\" % (ogt, dgt, msisdn, ogt)\n",
    "\n",
    "    resp = executeHTTP(req, ss7_url, ss7_path)\n",
    "    return resp\n",
    "soup = BeautifulSoup(sri4sm('972559900040', '972559642417', '972559912014336'),'xml') #250359000007598 79028710043\n",
    "soup"
   ]
  },
  {
   "cell_type": "code",
   "execution_count": 24,
   "metadata": {},
   "outputs": [
    {
     "name": "stdout",
     "output_type": "stream",
     "text": [
      "[]\n",
      "[]\n",
      "This SIM card contains the following IMSIs:\n"
     ]
    }
   ],
   "source": [
    "s = '44077FF610027100000B0ABFFF0100000000000000 '\n",
    "#s = '00077FF63A02710000350ABFFF0100000000000000FFFFFFF00001070152F0100000008A567809437451000008495210693100505801082906601094005058'\n",
    "#s = '00077FF63A02710000350ABFFF0100000000000000FFFFFFF00001070152F0100000008A567809437451000008495210693100505801082906601094005058'\n",
    "s = s.upper()\n",
    "imsi_list = re.findall('(0\\d08)(\\d{16})', s)\n",
    "print(imsi_list)\n",
    "\n",
    "print(app_ver)\n",
    "mccmnc_extract = re.findall('FFFFFFF000\\d{6}(.{6})', s)\n",
    "\n",
    "print('This SIM card contains the following IMSIs:')\n",
    "for slot, imsi in imsi_list:\n",
    "    print(f\"Slot {slot[1]} {''.join([imsi[i] for i in [0, 3, 2, 5, 4, 7, 6, 9, 8, 11, 10, 13, 12, 15, 14]])}\")\n",
    "app_ver = re.findall('FFFFFFF000(\\d{6})', s)\n",
    "if app_ver:\n",
    "    print(f'Applet ver.: {int(app_ver[0][:2])}.{int(app_ver[0][2:4])}.{int(app_ver[0][4:6])}')\n",
    "if mccmnc_extract:\n",
    "    mccmnc = ''.join([mccmnc_extract[0][i] for i in [1, 0, 3, 5, 4]])\n",
    "    print(f'MCCMNC: {mccmnc}')"
   ]
  },
  {
   "cell_type": "markdown",
   "metadata": {},
   "source": [
    " ### Format output"
   ]
  },
  {
   "cell_type": "code",
   "execution_count": null,
   "metadata": {},
   "outputs": [],
   "source": [
    "import datetime as dt\n",
    "print( 'start: {} {} :end'.format('one', 'two') ) #start: one two :end\n",
    "print( 'start: {1} {0} :end'.format('one', 'two') ) #start: two one :end\n",
    "print( 'start: test {:10} :end'.format('test') ) #start: test test       :end\n",
    "print( 'start: test {:10} :end'.format(10) ) #start: test         10 :end\n",
    "print( 'start: test {:>10} :end'.format('test') ) #start: test       test :end\n",
    "print( 'start: test {:<10} :end'.format('test') ) #start: test test       :end\n",
    "print( 'start: test {:_<10} :end'.format('test') ) #start: test test______ :end\n",
    "print( 'start: test {:^10} :end'.format('test') ) #start: test    test    :end\n",
    "print( 'start: test {:.10} :end'.format('test1test2test3') ) #start: test test1test2 :end\n",
    "print( 'start: test {:_^10.5} :end'.format('test1test2test3') ) #start: test __test1___ :end\n",
    "print( 'start: test {:d} :end'.format(42) ) #start: test 42 :end\n",
    "print( 'start: test {:f} :end'.format(42) ) #start: test 42.000000 :end\n",
    "print( 'start: test {:06.2f} :end'.format(3.141592) ) #start: test 003.14 :end\n",
    "print( 'start: test {p[first]} {p[last]} :end'.format(p={'first': 'Jean-Luc', 'last': 'Picard'}) ) #start: test Jean-Luc Picard :end\n",
    "print( 'start: test {p[4]} {p[5]} :end'.format(p=[4, 8, 15, 16, 23, 42]) ) #start: test 23 42 :end\n",
    "print( 'start: test {:%Y-%m-%d %H:%M} :end'.format(dt.datetime(2001, 2, 3, 4, 5)) ) #start: test 2001-02-03 04:05 :end"
   ]
  },
  {
   "cell_type": "markdown",
   "metadata": {},
   "source": [
    "### Search in files by Tags"
   ]
  },
  {
   "cell_type": "code",
   "execution_count": 59,
   "metadata": {
    "scrolled": false
   },
   "outputs": [
    {
     "name": "stdout",
     "output_type": "stream",
     "text": [
      "****************************************************************************************************\n",
      "c:\\W_DATA_ROAM\\ДОКУМЕНТАЦИЯ\\NOC_HOW_IT_WORKS\\EPG\\EPG_readme.txt\n",
      "----------------------------------------------------------------------------------------------------\n",
      "#epg_principle_of_operation\n",
      "#proc_epg_troubleshooting\n",
      "------------------------------\n",
      "Модель конфигуарции EPG.\n",
      "Документация по EPG: EPG 1.2 Virtual\n",
      "(Dudi, WA, 07.02.2019)\n",
      "Пример блокировки трафика на EPG во время проблемы с IP.\n",
      "\n",
      "****************************************************************************************************\n",
      "c:\\W_DATA_ROAM\\ДОКУМЕНТАЦИЯ\\NOC_HOW_IT_WORKS\\EPG_troubleshooting\\EPG_troubleshooting.txt\n",
      "----------------------------------------------------------------------------------------------------\n",
      "#proc_epg_troubleshooting\n",
      "#epg_principle_of_operation\n",
      "------------------------------\n",
      "Использовать виртуальные машины EPG (10.101.167.5 & 10.100.167.5)\n",
      "Проверка резолва APN\n",
      "dig @192.118.11.184 ultradata.apn.epc.mnc001.mcc425.3gppnetwork.org NAPTR\n",
      "dig @192.118.11.184 ultradata.apn.epc.mnc001.mcc425.3gppnetwork.org\n",
      "192.118.11.184 - DNS Partner\n",
      "89.108.192.17 - DNS P4\n",
      "121.54.36.158 - Smart\n",
      "В ANSWER SECTION будет указано, на какие GGSN ссылается DNS\n",
      "Пример:\n",
      ";; ANSWER SECTION:\n",
      "m2mroam.mnc001.mcc425.gprs. 86400 IN    CNAME   RB-ALL.mnc001.mcc425.gprs.\n",
      "RB-ALL.mnc001.mcc425.gprs. 86400 IN     A       104.225.210.9\n",
      "RB-ALL.mnc001.mcc425.gprs. 86400 IN     A       104.225.210.1\n",
      "\n",
      "****************************************************************************************************\n",
      "c:\\W_DATA_ROAM\\МЕТОДИКИ\\M_STATIC_IP\\_TEMPLATE.txt\n",
      "----------------------------------------------------------------------------------------------------\n",
      "#epg_principle_of_operation\n",
      "#data_principle_of_operation\n",
      "------------------------------\n",
      "Настройка Static IP (APN roamiot) для абоненрта.\n",
      "\n"
     ]
    }
   ],
   "source": [
    "import roamability as rb\n",
    "reload(rb)\n",
    "\n",
    "# Где искать файлы .txt с тегами\n",
    "paths = ['c:/W_DATA_ROAM/ДОКУМЕНТАЦИЯ/NOC_HOW_IT_WORKS/',\n",
    "        'c:/W_DATA_ROAM/МЕТОДИКИ/',\n",
    "        'c:/W_DATA_ROAM/ПРОЕКТЫ/',\n",
    "        'c:/W_DATA_ROAM/ДОКУМЕНТАЦИЯ/NOC_KNOWN_ISSUES/',\n",
    "        'c:/W_DATA_ROAM/МЕТОДИКИ/_NOC_M_NEW_CONNECTION/',\n",
    "        'c:/W_DATA_ROAM/ALARMS/',\n",
    "        'c:/W_DATA_ROAM/ДОКУМЕНТАЦИЯ/PRICES',\n",
    "        ]\n",
    "\n",
    "# Если хотя бы один из тэгов присутствует. Нужно указать минимум один.\n",
    "any_tags  = ['#epg_principle_of_operation']\n",
    "\n",
    "# Если все теги присутствуют. Нужно оставить лист пустым [] если нет обязательных тэгов.\n",
    "all_tags = []\n",
    "\n",
    "rb.find_files_by_tags(paths, all_tags, any_tags)"
   ]
  },
  {
   "cell_type": "markdown",
   "metadata": {},
   "source": [
    "### Search in ALARMS by folder names"
   ]
  },
  {
   "cell_type": "code",
   "execution_count": 60,
   "metadata": {},
   "outputs": [
    {
     "name": "stdout",
     "output_type": "stream",
     "text": [
      "c:\\W_DATA_ROAM\\ПРОЕКТЫ\\190205_AL_Mon_Germ_add_DEUD2\n",
      "c:\\W_DATA_ROAM\\ПРОЕКТЫ\\190319_AL_Mondicon_DEUD2\n",
      "c:\\W_DATA_ROAM\\ALARMS\\MOC_Partner_DEUD2_#2031463_181114\n",
      "c:\\W_DATA_ROAM\\ALARMS\\PC_DEUD2_Partner_1092860_171218\n",
      "c:\\W_DATA_ROAM\\ALARMS\\PS_DEUD2_P4\n",
      "c:\\W_DATA_ROAM\\ALARMS\\PS_DEUD2_Partner_180508\n",
      "c:\\W_DATA_ROAM\\ALARMS\\TAP_DEUD2_Missing_for_Weconnect_RT\n"
     ]
    }
   ],
   "source": [
    "import os\n",
    "\n",
    "paths = ['c:/W_DATA_ROAM/ДОКУМЕНТАЦИЯ/NOC_HOW_IT_WORKS/',\n",
    "        'c:/W_DATA_ROAM/МЕТОДИКИ/',\n",
    "        'c:/W_DATA_ROAM/ПРОЕКТЫ/',\n",
    "        'c:/W_DATA_ROAM/ДОКУМЕНТАЦИЯ/NOC_KNOWN_ISSUES/',\n",
    "        'c:/W_DATA_ROAM/МЕТОДИКИ/_NOC_M_NEW_CONNECTION/',\n",
    "        'c:/W_DATA_ROAM/ALARMS/',\n",
    "        'c:/W_DATA_ROAM/ДОКУМЕНТАЦИЯ/PRICES',\n",
    "        ]\n",
    "\n",
    "for path in paths:\n",
    "    names = os.listdir(path)\n",
    "    [print(normpath(path + name)) for name in names if name.upper().find('DEUD2')!=-1]"
   ]
  },
  {
   "cell_type": "markdown",
   "metadata": {},
   "source": [
    "### Search in Allowed Lists and others"
   ]
  },
  {
   "cell_type": "code",
   "execution_count": 20,
   "metadata": {},
   "outputs": [],
   "source": [
    "downloads = 'C:/Users/balob/Downloads'\n",
    "dmi_allowed_list = 'DMI.dmi_allowed_list_export_Mon_Apr_01_2019.csv'\n",
    "dmi_netpfx = 'DMI.dmi_netpfx_export_Wed_Mar_20_2019.csv'\n",
    "bss_usage = 'bss_usage_2019_03.csv'\n",
    "\n",
    "#Like expression for Allowed List\n",
    "df_al=pd.read_csv(join(downloads, dmi_allowed_list))\n",
    "df_al['SPONSOR'] = df_al['Sponsor'].replace(to_replace={r'[Pp][Aa][rtner]?[\\s\\w-]*':'S1', r'[Pp]4[\\s\\w-]*':'S2'}, regex=True)\n",
    "df_al.rename({'PLMN code':'TADIG'}, axis=1, inplace=True)\n",
    "#df_al_lab=pd.read_csv('LAB_DMI.dmi_allowed_list_export_Wed_Oct_03_2018.csv')\n",
    "\n",
    "df_usage = pd.read_csv(join(downloads, bss_usage), sep=';')\n",
    "cols = ['REP_DATE','VPLMN','SPONSOR','MOC','MOC_SMS','DATA']\n",
    "df_usage = df_usage.pivot_table(values='COST', index=['REP_DATE', 'VPLMN', 'SPONSOR'], columns='USAGE_TYPE').reset_index()[cols]\n",
    "df_usage.rename({'VPLMN':'TADIG'}, axis=1, inplace=True)\n",
    "df_usage.columns.name=''\n",
    "\n",
    "df_al = pd.merge(df_al, df_usage, how='left', on=['SPONSOR','TADIG'])\n",
    "\n",
    "#df_dmi_diam_oper=pd.read_csv(join(download,''))\n",
    "df_np=pd.read_csv(join(downloads, dmi_netpfx))\n",
    "#df_did=pd.read_csv('HRR.hrr_did_export_Wed_Aug_08_2018.csv')\n",
    "#f_tap_ocs=pd.read_csv('tap_ocs_analysis_180817.csv')"
   ]
  },
  {
   "cell_type": "code",
   "execution_count": 37,
   "metadata": {},
   "outputs": [
    {
     "data": {
      "text/html": [
       "<div>\n",
       "<style scoped>\n",
       "    .dataframe tbody tr th:only-of-type {\n",
       "        vertical-align: middle;\n",
       "    }\n",
       "\n",
       "    .dataframe tbody tr th {\n",
       "        vertical-align: top;\n",
       "    }\n",
       "\n",
       "    .dataframe thead th {\n",
       "        text-align: right;\n",
       "    }\n",
       "</style>\n",
       "<table border=\"1\" class=\"dataframe\">\n",
       "  <thead>\n",
       "    <tr style=\"text-align: right;\">\n",
       "      <th></th>\n",
       "      <th>Sponsor</th>\n",
       "      <th>TADIG</th>\n",
       "      <th>REP_DATE</th>\n",
       "      <th>MOC</th>\n",
       "      <th>MOC_SMS</th>\n",
       "      <th>DATA</th>\n",
       "    </tr>\n",
       "  </thead>\n",
       "  <tbody>\n",
       "    <tr>\n",
       "      <th>20</th>\n",
       "      <td>P4</td>\n",
       "      <td>ISR01</td>\n",
       "      <td>2019-03</td>\n",
       "      <td>30.863655</td>\n",
       "      <td>10.025884</td>\n",
       "      <td>NaN</td>\n",
       "    </tr>\n",
       "    <tr>\n",
       "      <th>1065</th>\n",
       "      <td>P4_2018</td>\n",
       "      <td>ISR01</td>\n",
       "      <td>2019-03</td>\n",
       "      <td>30.863655</td>\n",
       "      <td>10.025884</td>\n",
       "      <td>NaN</td>\n",
       "    </tr>\n",
       "    <tr>\n",
       "      <th>1066</th>\n",
       "      <td>P4_2018</td>\n",
       "      <td>ISRPL</td>\n",
       "      <td>2019-03</td>\n",
       "      <td>NaN</td>\n",
       "      <td>NaN</td>\n",
       "      <td>1.050838</td>\n",
       "    </tr>\n",
       "    <tr>\n",
       "      <th>2515</th>\n",
       "      <td>P4_All</td>\n",
       "      <td>ISR01</td>\n",
       "      <td>2019-03</td>\n",
       "      <td>30.863655</td>\n",
       "      <td>10.025884</td>\n",
       "      <td>NaN</td>\n",
       "    </tr>\n",
       "    <tr>\n",
       "      <th>2516</th>\n",
       "      <td>P4_All</td>\n",
       "      <td>ISRPL</td>\n",
       "      <td>2019-03</td>\n",
       "      <td>NaN</td>\n",
       "      <td>NaN</td>\n",
       "      <td>1.050838</td>\n",
       "    </tr>\n",
       "    <tr>\n",
       "      <th>939</th>\n",
       "      <td>P4_All Rated</td>\n",
       "      <td>ISR01</td>\n",
       "      <td>2019-03</td>\n",
       "      <td>30.863655</td>\n",
       "      <td>10.025884</td>\n",
       "      <td>NaN</td>\n",
       "    </tr>\n",
       "    <tr>\n",
       "      <th>940</th>\n",
       "      <td>P4_All Rated</td>\n",
       "      <td>ISRPL</td>\n",
       "      <td>2019-03</td>\n",
       "      <td>NaN</td>\n",
       "      <td>NaN</td>\n",
       "      <td>1.050838</td>\n",
       "    </tr>\n",
       "    <tr>\n",
       "      <th>2794</th>\n",
       "      <td>P4_Clay_Combined</td>\n",
       "      <td>ISR01</td>\n",
       "      <td>2019-03</td>\n",
       "      <td>30.863655</td>\n",
       "      <td>10.025884</td>\n",
       "      <td>NaN</td>\n",
       "    </tr>\n",
       "    <tr>\n",
       "      <th>2225</th>\n",
       "      <td>P4_Combined</td>\n",
       "      <td>ISR01</td>\n",
       "      <td>2019-03</td>\n",
       "      <td>30.863655</td>\n",
       "      <td>10.025884</td>\n",
       "      <td>NaN</td>\n",
       "    </tr>\n",
       "    <tr>\n",
       "      <th>1782</th>\n",
       "      <td>P4_ISRPL</td>\n",
       "      <td>ISRPL</td>\n",
       "      <td>2019-03</td>\n",
       "      <td>NaN</td>\n",
       "      <td>NaN</td>\n",
       "      <td>1.050838</td>\n",
       "    </tr>\n",
       "    <tr>\n",
       "      <th>1302</th>\n",
       "      <td>P4_KeepGo_Test</td>\n",
       "      <td>ISR01</td>\n",
       "      <td>2019-03</td>\n",
       "      <td>30.863655</td>\n",
       "      <td>10.025884</td>\n",
       "      <td>NaN</td>\n",
       "    </tr>\n",
       "    <tr>\n",
       "      <th>1303</th>\n",
       "      <td>P4_KeepGo_Test</td>\n",
       "      <td>ISRPL</td>\n",
       "      <td>2019-03</td>\n",
       "      <td>NaN</td>\n",
       "      <td>NaN</td>\n",
       "      <td>1.050838</td>\n",
       "    </tr>\n",
       "    <tr>\n",
       "      <th>2034</th>\n",
       "      <td>P4_Maxcom</td>\n",
       "      <td>ISR01</td>\n",
       "      <td>2019-03</td>\n",
       "      <td>30.863655</td>\n",
       "      <td>10.025884</td>\n",
       "      <td>NaN</td>\n",
       "    </tr>\n",
       "    <tr>\n",
       "      <th>2035</th>\n",
       "      <td>P4_Maxcom</td>\n",
       "      <td>ISRPL</td>\n",
       "      <td>2019-03</td>\n",
       "      <td>NaN</td>\n",
       "      <td>NaN</td>\n",
       "      <td>1.050838</td>\n",
       "    </tr>\n",
       "    <tr>\n",
       "      <th>1505</th>\n",
       "      <td>P4_PS</td>\n",
       "      <td>ISR01</td>\n",
       "      <td>2019-03</td>\n",
       "      <td>30.863655</td>\n",
       "      <td>10.025884</td>\n",
       "      <td>NaN</td>\n",
       "    </tr>\n",
       "    <tr>\n",
       "      <th>569</th>\n",
       "      <td>P4_RB_test</td>\n",
       "      <td>ISR01</td>\n",
       "      <td>2019-03</td>\n",
       "      <td>30.863655</td>\n",
       "      <td>10.025884</td>\n",
       "      <td>NaN</td>\n",
       "    </tr>\n",
       "    <tr>\n",
       "      <th>708</th>\n",
       "      <td>P4_RB_test</td>\n",
       "      <td>ISRPL</td>\n",
       "      <td>2019-03</td>\n",
       "      <td>NaN</td>\n",
       "      <td>NaN</td>\n",
       "      <td>1.050838</td>\n",
       "    </tr>\n",
       "    <tr>\n",
       "      <th>1746</th>\n",
       "      <td>P4_STI_Comb</td>\n",
       "      <td>ISR01</td>\n",
       "      <td>2019-03</td>\n",
       "      <td>30.863655</td>\n",
       "      <td>10.025884</td>\n",
       "      <td>NaN</td>\n",
       "    </tr>\n",
       "    <tr>\n",
       "      <th>2823</th>\n",
       "      <td>P4_WMB_Combined</td>\n",
       "      <td>ISR01</td>\n",
       "      <td>2019-03</td>\n",
       "      <td>30.863655</td>\n",
       "      <td>10.025884</td>\n",
       "      <td>NaN</td>\n",
       "    </tr>\n",
       "    <tr>\n",
       "      <th>810</th>\n",
       "      <td>P4_WeStream</td>\n",
       "      <td>ISR01</td>\n",
       "      <td>2019-03</td>\n",
       "      <td>30.863655</td>\n",
       "      <td>10.025884</td>\n",
       "      <td>NaN</td>\n",
       "    </tr>\n",
       "    <tr>\n",
       "      <th>811</th>\n",
       "      <td>P4_WeStream</td>\n",
       "      <td>ISRPL</td>\n",
       "      <td>2019-03</td>\n",
       "      <td>NaN</td>\n",
       "      <td>NaN</td>\n",
       "      <td>1.050838</td>\n",
       "    </tr>\n",
       "    <tr>\n",
       "      <th>249</th>\n",
       "      <td>P4_lot</td>\n",
       "      <td>ISR01</td>\n",
       "      <td>2019-03</td>\n",
       "      <td>30.863655</td>\n",
       "      <td>10.025884</td>\n",
       "      <td>NaN</td>\n",
       "    </tr>\n",
       "    <tr>\n",
       "      <th>1485</th>\n",
       "      <td>P4_mon-sky</td>\n",
       "      <td>ISR01</td>\n",
       "      <td>2019-03</td>\n",
       "      <td>30.863655</td>\n",
       "      <td>10.025884</td>\n",
       "      <td>NaN</td>\n",
       "    </tr>\n",
       "    <tr>\n",
       "      <th>1486</th>\n",
       "      <td>P4_mon-sky</td>\n",
       "      <td>ISRPL</td>\n",
       "      <td>2019-03</td>\n",
       "      <td>NaN</td>\n",
       "      <td>NaN</td>\n",
       "      <td>1.050838</td>\n",
       "    </tr>\n",
       "    <tr>\n",
       "      <th>3382</th>\n",
       "      <td>P4_mon_world</td>\n",
       "      <td>ISR01</td>\n",
       "      <td>2019-03</td>\n",
       "      <td>30.863655</td>\n",
       "      <td>10.025884</td>\n",
       "      <td>NaN</td>\n",
       "    </tr>\n",
       "    <tr>\n",
       "      <th>3383</th>\n",
       "      <td>P4_mon_world</td>\n",
       "      <td>ISRPL</td>\n",
       "      <td>2019-03</td>\n",
       "      <td>NaN</td>\n",
       "      <td>NaN</td>\n",
       "      <td>1.050838</td>\n",
       "    </tr>\n",
       "    <tr>\n",
       "      <th>1721</th>\n",
       "      <td>P4_mondic</td>\n",
       "      <td>ISR01</td>\n",
       "      <td>2019-03</td>\n",
       "      <td>30.863655</td>\n",
       "      <td>10.025884</td>\n",
       "      <td>NaN</td>\n",
       "    </tr>\n",
       "    <tr>\n",
       "      <th>602</th>\n",
       "      <td>P4_tinklabs</td>\n",
       "      <td>ISR01</td>\n",
       "      <td>2019-03</td>\n",
       "      <td>30.863655</td>\n",
       "      <td>10.025884</td>\n",
       "      <td>NaN</td>\n",
       "    </tr>\n",
       "  </tbody>\n",
       "</table>\n",
       "</div>"
      ],
      "text/plain": [
       "               Sponsor  TADIG REP_DATE        MOC    MOC_SMS      DATA\n",
       "20                  P4  ISR01  2019-03  30.863655  10.025884       NaN\n",
       "1065           P4_2018  ISR01  2019-03  30.863655  10.025884       NaN\n",
       "1066           P4_2018  ISRPL  2019-03        NaN        NaN  1.050838\n",
       "2515            P4_All  ISR01  2019-03  30.863655  10.025884       NaN\n",
       "2516            P4_All  ISRPL  2019-03        NaN        NaN  1.050838\n",
       "939       P4_All Rated  ISR01  2019-03  30.863655  10.025884       NaN\n",
       "940       P4_All Rated  ISRPL  2019-03        NaN        NaN  1.050838\n",
       "2794  P4_Clay_Combined  ISR01  2019-03  30.863655  10.025884       NaN\n",
       "2225       P4_Combined  ISR01  2019-03  30.863655  10.025884       NaN\n",
       "1782          P4_ISRPL  ISRPL  2019-03        NaN        NaN  1.050838\n",
       "1302    P4_KeepGo_Test  ISR01  2019-03  30.863655  10.025884       NaN\n",
       "1303    P4_KeepGo_Test  ISRPL  2019-03        NaN        NaN  1.050838\n",
       "2034         P4_Maxcom  ISR01  2019-03  30.863655  10.025884       NaN\n",
       "2035         P4_Maxcom  ISRPL  2019-03        NaN        NaN  1.050838\n",
       "1505             P4_PS  ISR01  2019-03  30.863655  10.025884       NaN\n",
       "569         P4_RB_test  ISR01  2019-03  30.863655  10.025884       NaN\n",
       "708         P4_RB_test  ISRPL  2019-03        NaN        NaN  1.050838\n",
       "1746       P4_STI_Comb  ISR01  2019-03  30.863655  10.025884       NaN\n",
       "2823   P4_WMB_Combined  ISR01  2019-03  30.863655  10.025884       NaN\n",
       "810        P4_WeStream  ISR01  2019-03  30.863655  10.025884       NaN\n",
       "811        P4_WeStream  ISRPL  2019-03        NaN        NaN  1.050838\n",
       "249             P4_lot  ISR01  2019-03  30.863655  10.025884       NaN\n",
       "1485        P4_mon-sky  ISR01  2019-03  30.863655  10.025884       NaN\n",
       "1486        P4_mon-sky  ISRPL  2019-03        NaN        NaN  1.050838\n",
       "3382      P4_mon_world  ISR01  2019-03  30.863655  10.025884       NaN\n",
       "3383      P4_mon_world  ISRPL  2019-03        NaN        NaN  1.050838\n",
       "1721         P4_mondic  ISR01  2019-03  30.863655  10.025884       NaN\n",
       "602        P4_tinklabs  ISR01  2019-03  30.863655  10.025884       NaN"
      ]
     },
     "execution_count": 37,
     "metadata": {},
     "output_type": "execute_result"
    }
   ],
   "source": [
    "sponsor = 'P4' # Use regular expressions if it's needed\n",
    "tadig = 'ISR'\n",
    "\n",
    "df_al.loc[(df_al['TADIG'].str.startswith(tadig, na=False)) &\n",
    "          (df_al['Sponsor'].str.contains(sponsor, na=False, regex=True, flags=re.I)),\n",
    "          ['Sponsor','TADIG','REP_DATE','MOC','MOC_SMS','DATA']].sort_values(by=['Sponsor','TADIG'])"
   ]
  },
  {
   "cell_type": "code",
   "execution_count": 24,
   "metadata": {},
   "outputs": [
    {
     "data": {
      "text/html": [
       "<div>\n",
       "<style scoped>\n",
       "    .dataframe tbody tr th:only-of-type {\n",
       "        vertical-align: middle;\n",
       "    }\n",
       "\n",
       "    .dataframe tbody tr th {\n",
       "        vertical-align: top;\n",
       "    }\n",
       "\n",
       "    .dataframe thead th {\n",
       "        text-align: right;\n",
       "    }\n",
       "</style>\n",
       "<table border=\"1\" class=\"dataframe\">\n",
       "  <thead>\n",
       "    <tr style=\"text-align: right;\">\n",
       "      <th></th>\n",
       "      <th>Operator</th>\n",
       "      <th>Prefix</th>\n",
       "      <th>Number/Range</th>\n",
       "      <th>SSN</th>\n",
       "      <th>MCC</th>\n",
       "      <th>MNC</th>\n",
       "    </tr>\n",
       "  </thead>\n",
       "  <tbody>\n",
       "    <tr>\n",
       "      <th>3168</th>\n",
       "      <td>CODCT</td>\n",
       "      <td>2439961</td>\n",
       "      <td>1</td>\n",
       "      <td>7</td>\n",
       "      <td>630</td>\n",
       "      <td>2</td>\n",
       "    </tr>\n",
       "    <tr>\n",
       "      <th>3169</th>\n",
       "      <td>CODCT</td>\n",
       "      <td>2439961</td>\n",
       "      <td>1</td>\n",
       "      <td>149</td>\n",
       "      <td>630</td>\n",
       "      <td>2</td>\n",
       "    </tr>\n",
       "    <tr>\n",
       "      <th>8443</th>\n",
       "      <td>CODCT</td>\n",
       "      <td>2439961004</td>\n",
       "      <td>0</td>\n",
       "      <td>149</td>\n",
       "      <td>630</td>\n",
       "      <td>2</td>\n",
       "    </tr>\n",
       "    <tr>\n",
       "      <th>8444</th>\n",
       "      <td>CODCT</td>\n",
       "      <td>2439961008</td>\n",
       "      <td>0</td>\n",
       "      <td>149</td>\n",
       "      <td>630</td>\n",
       "      <td>2</td>\n",
       "    </tr>\n",
       "    <tr>\n",
       "      <th>9744</th>\n",
       "      <td>CODCT</td>\n",
       "      <td>24399610040</td>\n",
       "      <td>0</td>\n",
       "      <td>1</td>\n",
       "      <td>630</td>\n",
       "      <td>2</td>\n",
       "    </tr>\n",
       "  </tbody>\n",
       "</table>\n",
       "</div>"
      ],
      "text/plain": [
       "     Operator       Prefix  Number/Range  SSN  MCC  MNC\n",
       "3168    CODCT      2439961             1    7  630    2\n",
       "3169    CODCT      2439961             1  149  630    2\n",
       "8443    CODCT   2439961004             0  149  630    2\n",
       "8444    CODCT   2439961008             0  149  630    2\n",
       "9744    CODCT  24399610040             0    1  630    2"
      ]
     },
     "execution_count": 24,
     "metadata": {},
     "output_type": "execute_result"
    }
   ],
   "source": [
    "df_np[(df_np.Operator.str.startswith('CODCT',na=False))] #.to_csv(join(downloads,'Prefix.csv')) # & (df_np.SSN==7)"
   ]
  },
  {
   "cell_type": "code",
   "execution_count": 32,
   "metadata": {},
   "outputs": [
    {
     "data": {
      "text/html": [
       "<div>\n",
       "<style scoped>\n",
       "    .dataframe tbody tr th:only-of-type {\n",
       "        vertical-align: middle;\n",
       "    }\n",
       "\n",
       "    .dataframe tbody tr th {\n",
       "        vertical-align: top;\n",
       "    }\n",
       "\n",
       "    .dataframe thead th {\n",
       "        text-align: right;\n",
       "    }\n",
       "</style>\n",
       "<table border=\"1\" class=\"dataframe\">\n",
       "  <thead>\n",
       "    <tr style=\"text-align: right;\">\n",
       "      <th></th>\n",
       "      <th>Sponsor</th>\n",
       "      <th>TADIG</th>\n",
       "    </tr>\n",
       "  </thead>\n",
       "  <tbody>\n",
       "    <tr>\n",
       "      <th>1815</th>\n",
       "      <td>Partner_Clay_Com</td>\n",
       "      <td>CODVC</td>\n",
       "    </tr>\n",
       "    <tr>\n",
       "      <th>3323</th>\n",
       "      <td>Partner_Combined</td>\n",
       "      <td>CODVC</td>\n",
       "    </tr>\n",
       "    <tr>\n",
       "      <th>679</th>\n",
       "      <td>Partner_STI_Comb</td>\n",
       "      <td>CODVC</td>\n",
       "    </tr>\n",
       "  </tbody>\n",
       "</table>\n",
       "</div>"
      ],
      "text/plain": [
       "               Sponsor  TADIG\n",
       "1815  Partner_Clay_Com  CODVC\n",
       "3323  Partner_Combined  CODVC\n",
       "679   Partner_STI_Comb  CODVC"
      ]
     },
     "metadata": {},
     "output_type": "display_data"
    },
    {
     "data": {
      "text/html": [
       "<div>\n",
       "<style scoped>\n",
       "    .dataframe tbody tr th:only-of-type {\n",
       "        vertical-align: middle;\n",
       "    }\n",
       "\n",
       "    .dataframe tbody tr th {\n",
       "        vertical-align: top;\n",
       "    }\n",
       "\n",
       "    .dataframe thead th {\n",
       "        text-align: right;\n",
       "    }\n",
       "</style>\n",
       "<table border=\"1\" class=\"dataframe\">\n",
       "  <thead>\n",
       "    <tr style=\"text-align: right;\">\n",
       "      <th></th>\n",
       "      <th>Operator</th>\n",
       "      <th>Prefix</th>\n",
       "      <th>Number/Range</th>\n",
       "      <th>SSN</th>\n",
       "      <th>MCC</th>\n",
       "      <th>MNC</th>\n",
       "    </tr>\n",
       "  </thead>\n",
       "  <tbody>\n",
       "    <tr>\n",
       "      <th>840</th>\n",
       "      <td>CODVC</td>\n",
       "      <td>24381</td>\n",
       "      <td>1</td>\n",
       "      <td>7</td>\n",
       "      <td>630</td>\n",
       "      <td>1</td>\n",
       "    </tr>\n",
       "    <tr>\n",
       "      <th>841</th>\n",
       "      <td>CODVC</td>\n",
       "      <td>24381</td>\n",
       "      <td>1</td>\n",
       "      <td>149</td>\n",
       "      <td>630</td>\n",
       "      <td>1</td>\n",
       "    </tr>\n",
       "    <tr>\n",
       "      <th>5140</th>\n",
       "      <td>CODVC</td>\n",
       "      <td>2438181959</td>\n",
       "      <td>0</td>\n",
       "      <td>7</td>\n",
       "      <td>630</td>\n",
       "      <td>1</td>\n",
       "    </tr>\n",
       "    <tr>\n",
       "      <th>8866</th>\n",
       "      <td>CODVC</td>\n",
       "      <td>2438181999</td>\n",
       "      <td>0</td>\n",
       "      <td>149</td>\n",
       "      <td>630</td>\n",
       "      <td>1</td>\n",
       "    </tr>\n",
       "    <tr>\n",
       "      <th>9740</th>\n",
       "      <td>CODVC</td>\n",
       "      <td>24381819990</td>\n",
       "      <td>0</td>\n",
       "      <td>1</td>\n",
       "      <td>630</td>\n",
       "      <td>1</td>\n",
       "    </tr>\n",
       "  </tbody>\n",
       "</table>\n",
       "</div>"
      ],
      "text/plain": [
       "     Operator       Prefix  Number/Range  SSN  MCC  MNC\n",
       "840     CODVC        24381             1    7  630    1\n",
       "841     CODVC        24381             1  149  630    1\n",
       "5140    CODVC   2438181959             0    7  630    1\n",
       "8866    CODVC   2438181999             0  149  630    1\n",
       "9740    CODVC  24381819990             0    1  630    1"
      ]
     },
     "metadata": {},
     "output_type": "display_data"
    }
   ],
   "source": [
    "plmn = 'CODVC'\n",
    "df1 = df_al.loc[(df_al['TADIG'].str.startswith(plmn, na=False)) &\n",
    "          (df_al['Sponsor'].str.contains('', na=False)), ['Sponsor','TADIG']].sort_values(by=['Sponsor','TADIG'])\n",
    "df2 = df_np[(df_np.Operator.str.startswith(plmn,na=False))] #.to_csv(join(downloads,'Prefix.csv')) # & (df_np.SSN==7)\n",
    "display(df1)\n",
    "display(df2)"
   ]
  },
  {
   "cell_type": "code",
   "execution_count": 442,
   "metadata": {},
   "outputs": [
    {
     "data": {
      "text/html": [
       "<div>\n",
       "<style scoped>\n",
       "    .dataframe tbody tr th:only-of-type {\n",
       "        vertical-align: middle;\n",
       "    }\n",
       "\n",
       "    .dataframe tbody tr th {\n",
       "        vertical-align: top;\n",
       "    }\n",
       "\n",
       "    .dataframe thead th {\n",
       "        text-align: right;\n",
       "    }\n",
       "</style>\n",
       "<table border=\"1\" class=\"dataframe\">\n",
       "  <thead>\n",
       "    <tr style=\"text-align: right;\">\n",
       "      <th></th>\n",
       "      <th>Operator</th>\n",
       "      <th>Prefix</th>\n",
       "      <th>Number/Range</th>\n",
       "      <th>SSN</th>\n",
       "      <th>MCC</th>\n",
       "      <th>MNC</th>\n",
       "    </tr>\n",
       "  </thead>\n",
       "  <tbody>\n",
       "    <tr>\n",
       "      <th>2642</th>\n",
       "      <td>INDBO</td>\n",
       "      <td>919822</td>\n",
       "      <td>1</td>\n",
       "      <td>7</td>\n",
       "      <td>404</td>\n",
       "      <td>22</td>\n",
       "    </tr>\n",
       "    <tr>\n",
       "      <th>2643</th>\n",
       "      <td>INDBO</td>\n",
       "      <td>919822</td>\n",
       "      <td>1</td>\n",
       "      <td>149</td>\n",
       "      <td>404</td>\n",
       "      <td>22</td>\n",
       "    </tr>\n",
       "  </tbody>\n",
       "</table>\n",
       "</div>"
      ],
      "text/plain": [
       "     Operator  Prefix  Number/Range  SSN  MCC  MNC\n",
       "2642    INDBO  919822             1    7  404   22\n",
       "2643    INDBO  919822             1  149  404   22"
      ]
     },
     "execution_count": 442,
     "metadata": {},
     "output_type": "execute_result"
    }
   ],
   "source": [
    "str(df_np[(df_np.Prefix.str.startswith('6683',na=False))].Prefix.unique().tolist())\n",
    "df_np[(df_np.Prefix.str.startswith('919822',na=False))]"
   ]
  },
  {
   "cell_type": "markdown",
   "metadata": {},
   "source": [
    "### Hex to Dec conversion"
   ]
  },
  {
   "cell_type": "code",
   "execution_count": null,
   "metadata": {},
   "outputs": [],
   "source": []
  },
  {
   "cell_type": "code",
   "execution_count": 130,
   "metadata": {},
   "outputs": [
    {
     "name": "stdout",
     "output_type": "stream",
     "text": [
      "Hex to dec\n",
      "4466\n",
      "Dec to hex\n",
      "0X7AA\n",
      "7AA\n",
      "Dec to bin\n",
      "11110101010\n",
      "Bin to dec\n",
      "10\n",
      "Hex to bin\n",
      "1000101110010\n",
      "0b1010101111000001001000111110111111111111\n"
     ]
    },
    {
     "data": {
      "text/plain": [
       "'0000000010101011'"
      ]
     },
     "execution_count": 130,
     "metadata": {},
     "output_type": "execute_result"
    }
   ],
   "source": [
    "hex_str = '1172'\n",
    "dec_str = '2505'\n",
    "dec_int = 1962\n",
    "bin_str = '1010'\n",
    "\n",
    "# Hex to dec\n",
    "print('Hex to dec')\n",
    "print(int(hex_str,16))\n",
    "\n",
    "# Dec to hex\n",
    "print('Dec to hex')\n",
    "print(hex(dec_int).upper())\n",
    "print('%x'.upper() % dec_int)\n",
    "\n",
    "# Dec to bin\n",
    "print('Dec to bin')\n",
    "print(bin(dec_int)[2:].zfill(8))\n",
    "\n",
    "# Bin to dec\n",
    "print('Bin to dec')\n",
    "print(int(bin_str,2))\n",
    "\n",
    "# Hex to bin\n",
    "print('Hex to bin')\n",
    "print(bin(int(hex_str, 16))[2:].zfill(8))\n",
    "print(bin(0xABC123EFFF))\n",
    "f'{0xAB:0>16b}'"
   ]
  },
  {
   "cell_type": "code",
   "execution_count": 188,
   "metadata": {},
   "outputs": [
    {
     "data": {
      "text/plain": [
       "'0b10 - 0b111101 - 0b110'"
      ]
     },
     "execution_count": 188,
     "metadata": {},
     "output_type": "execute_result"
    }
   ],
   "source": [
    "f'{bin(2)} - {bin(61)} - {bin(6)}'\n",
    "#2.61.6"
   ]
  },
  {
   "cell_type": "code",
   "execution_count": 186,
   "metadata": {},
   "outputs": [
    {
     "name": "stdout",
     "output_type": "stream",
     "text": [
      "0b10101010100011\n",
      "5 - 84 - 3\n"
     ]
    }
   ],
   "source": [
    "print(bin(10915))\n",
    "a = '10101010100011'\n",
    "# = '00000011001101'\n",
    "print(int(a[-14:-11],2),'-',int(a[-11:-3],2),'-',int(a[-3:],2) )"
   ]
  },
  {
   "cell_type": "markdown",
   "metadata": {},
   "source": [
    "### Rename files"
   ]
  },
  {
   "cell_type": "code",
   "execution_count": null,
   "metadata": {},
   "outputs": [],
   "source": [
    "import os\n",
    "import re\n",
    "path = 'c:/Users/balob/Downloads/new1/'\n",
    "prefix = 'PYCON'\n",
    "topic = ''\n",
    "os.chdir(path)\n",
    "names = sorted(filter(os.path.isfile, os.listdir('.')), key=os.path.getmtime)\n",
    "for i,name in enumerate(names):\n",
    "    short_name = re.sub('[!#?«»,() \\+\\-؟]','',name[:-4:][:50])\n",
    "    if i < 10:\n",
    "        number = '0'+str(i)\n",
    "    else:\n",
    "        number = str(i)\n",
    "    new_name = '{}_{}_{}.mp4'.format(prefix,number,short_name)\n",
    "    print('{} -> {}'.format(name,new_name))\n",
    "    os.rename(name,new_name)"
   ]
  },
  {
   "cell_type": "markdown",
   "metadata": {},
   "source": [
    "### Чтение логов с удаленного сервера SFTP (stat_GrayLog.log)"
   ]
  },
  {
   "cell_type": "code",
   "execution_count": 86,
   "metadata": {},
   "outputs": [
    {
     "name": "stdout",
     "output_type": "stream",
     "text": [
      "0 2019-01-24 05:00:45,431 - ss7_stat - INFO - rep_ss7_sqlite_db_py2. End. Total elapsed time 0:00:43.978321\n",
      "8 2019-01-23 05:00:47,552 - ss7_stat - INFO - rep_ss7_sqlite_db_py2. End. Total elapsed time 0:00:45.941926\n",
      "16 2019-01-22 05:00:49,749 - ss7_stat - INFO - rep_ss7_sqlite_db_py2. End. Total elapsed time 0:00:45.060281\n",
      "24 2019-01-21 05:00:49,224 - ss7_stat - INFO - rep_ss7_sqlite_db_py2. End. Total elapsed time 0:00:44.623832\n",
      "32 2019-01-20 05:00:47,066 - ss7_stat - INFO - rep_ss7_sqlite_db_py2. End. Total elapsed time 0:00:45.239989\n",
      "40 2019-01-19 05:00:45,864 - ss7_stat - INFO - rep_ss7_sqlite_db_py2. End. Total elapsed time 0:00:43.761820\n",
      "48 2019-01-18 05:00:46,195 - ss7_stat - INFO - rep_ss7_sqlite_db_py2. End. Total elapsed time 0:00:43.864928\n"
     ]
    }
   ],
   "source": [
    "import paramiko\n",
    "print_lines = 50\n",
    "host = '172.19.11.191'\n",
    "user = 'pavel'\n",
    "secret = 'RzAZPjMjvujCPjU88bpevQp'\n",
    "file_path_name = '/home/tracer/LOG/stat_GrayLog.log'\n",
    "port = 22\n",
    "client = paramiko.SSHClient()\n",
    "client.set_missing_host_key_policy(paramiko.AutoAddPolicy())\n",
    "client.connect(hostname=host, username=user, password=secret, port=port)\n",
    "sftp_client = client.open_sftp()\n",
    "remote_file = sftp_client.open(file_path_name)\n",
    "try:\n",
    "    #for line in remote_file:\n",
    "    for i,line in enumerate(reversed(list(remote_file))):\n",
    "        if i < print_lines:\n",
    "            if 'Total' in line:\n",
    "                print(i,line,end='')\n",
    "            #print(i,line,end='')\n",
    "        else:\n",
    "            break\n",
    "finally:\n",
    "    remote_file.close()\n",
    "client.close()\n",
    "# (https://stackoverflow.com/questions/1596963/read-a-file-from-server-with-ssh-using-python)"
   ]
  },
  {
   "cell_type": "markdown",
   "metadata": {},
   "source": [
    "### Pricing counting"
   ]
  },
  {
   "cell_type": "code",
   "execution_count": 192,
   "metadata": {},
   "outputs": [
    {
     "name": "stdout",
     "output_type": "stream",
     "text": [
      "Price P4\n",
      "Price 1.2            : [1.8, 0.0, 0.3, 8.844]\n",
      "Price 1.2*1.5        : [2.7, 0.0, 0.45, 13.266]\n",
      "Price 1.2*1.5*1.15   : [3.105, 0.0, 0.5175, 15.2559]\n",
      "Price 1.2*1.5*1.30   : [3.51, 0.0, 0.585, 17.2458]\n",
      "Price 2              : [3.6, 0.0, 0.6, 17.688]\n",
      "\n",
      "Price Partner\n",
      "Price 1.5            : [2.25, 0.0, 0.375, 11.055]\n",
      "Price 1.5*1.15       : [2.5875, 0.0, 0.43125, 12.71325]\n",
      "Price 1.5*1.30       : [2.925, 0.0, 0.4875, 14.3715]\n",
      "Price 2              : [3.0, 0, 0.5, 14.74]\n"
     ]
    }
   ],
   "source": [
    "moc=1.5\n",
    "mtc=0\n",
    "text=0.25\n",
    "data=7.37\n",
    "\n",
    "tariff=[moc,mtc,text,data]\n",
    "\n",
    "print(\"Price P4\")\n",
    "for k,v in {'1.2':1.2,'1.2*1.5':1.2*1.5,'1.2*1.5*1.15':1.2*1.5*1.15,'1.2*1.5*1.30':1.2*1.5*1.30,'2':1.2*2}.items():\n",
    "    print(\"Price {:<15}:\".format(k),[round(i*v,6) for i in tariff])\n",
    "print(\"\\nPrice Partner\")\n",
    "for k,v in {'1.5':1.5,'1.5*1.15':1.5*1.15,'1.5*1.30':1.5*1.30,'2':2}.items():\n",
    "    print(\"Price {:<15}:\".format(k),[round(i*v,6) for i in tariff])"
   ]
  },
  {
   "cell_type": "markdown",
   "metadata": {},
   "source": [
    "## Testing"
   ]
  },
  {
   "cell_type": "code",
   "execution_count": null,
   "metadata": {},
   "outputs": [],
   "source": [
    "import requests\n",
    "#payload = {'key1':'value1','key2':'value2'}\n",
    "#r = requests.get('http://192.168.1.44:80/climate;sensor=1&readattempt=10&temperature=nan&humidity=nan')\n",
    "r = requests.get('http://192.168.1.44:80/climate;sensor=1&readattempt=10&temperature=10.0&humidity=10.0')\n",
    "#r = requests.get('http://192.168.1.53:80/connected;IpAddr=192.168.1.63')\n",
    "print('Status: ',r.status_code,'\\n',r.text)\n",
    "r.close()"
   ]
  },
  {
   "cell_type": "code",
   "execution_count": null,
   "metadata": {},
   "outputs": [],
   "source": []
  },
  {
   "cell_type": "code",
   "execution_count": 513,
   "metadata": {},
   "outputs": [
    {
     "data": {
      "text/plain": [
       "0.0386302608"
      ]
     },
     "execution_count": 513,
     "metadata": {},
     "output_type": "execute_result"
    }
   ],
   "source": [
    "charge = 0.02776\n",
    "exchangeRate = 1.22876\n",
    "sdrRate = 1.39158\n",
    "(charge * sdrRate)\n",
    "# 0.0386302608"
   ]
  },
  {
   "cell_type": "code",
   "execution_count": 514,
   "metadata": {},
   "outputs": [
    {
     "data": {
      "text/plain": [
       "0.1517378832"
      ]
     },
     "execution_count": 514,
     "metadata": {},
     "output_type": "execute_result"
    }
   ],
   "source": [
    "charge = 0.10904\n",
    "exchangeRate = 1.22876\n",
    "sdrRate = 1.39158\n",
    "charge * sdrRate"
   ]
  },
  {
   "cell_type": "code",
   "execution_count": 677,
   "metadata": {},
   "outputs": [
    {
     "data": {
      "text/plain": [
       "0.0012599999999999998"
      ]
     },
     "execution_count": 677,
     "metadata": {},
     "output_type": "execute_result"
    }
   ],
   "source": [
    "charge = 0.19257\n",
    "costTariff = 0.00105\n",
    "sdrRate = 1.2\n",
    "costTariff * sdrRate"
   ]
  },
  {
   "cell_type": "code",
   "execution_count": 1,
   "metadata": {},
   "outputs": [
    {
     "data": {
      "text/plain": [
       "0.010066192229038855"
      ]
     },
     "execution_count": 1,
     "metadata": {},
     "output_type": "execute_result"
    }
   ],
   "source": [
    "charge = 0.04807\n",
    "chargeableUnits = 5007360\n",
    "exchangeRate = 1.22876\n",
    "dataRateCombinedCharge2019 = 0.0028 # EUR\n",
    "(chargeableUnits * dataRateCombinedCharge2019) / 1024 / 1024 #0.26797155 EUR\n",
    "(charge / chargeableUnits) * 1024 * 1024"
   ]
  },
  {
   "cell_type": "code",
   "execution_count": 10,
   "metadata": {},
   "outputs": [
    {
     "data": {
      "text/plain": [
       "19569.9721"
      ]
     },
     "execution_count": 10,
     "metadata": {},
     "output_type": "execute_result"
    }
   ],
   "source": [
    "14938.91 * 1.31"
   ]
  },
  {
   "cell_type": "code",
   "execution_count": 12,
   "metadata": {},
   "outputs": [
    {
     "data": {
      "text/plain": [
       "16880.968299999997"
      ]
     },
     "execution_count": 12,
     "metadata": {},
     "output_type": "execute_result"
    }
   ],
   "source": [
    "14938.91 * 1.13 = 16880.96"
   ]
  },
  {
   "cell_type": "code",
   "execution_count": 153,
   "metadata": {},
   "outputs": [
    {
     "data": {
      "text/plain": [
       "25"
      ]
     },
     "execution_count": 153,
     "metadata": {},
     "output_type": "execute_result"
    }
   ],
   "source": [
    "5 * 5"
   ]
  },
  {
   "cell_type": "code",
   "execution_count": null,
   "metadata": {},
   "outputs": [],
   "source": [
    "#simple_server.py\n",
    "import socket\n",
    "host = \"\"\n",
    "port = 9999\n",
    "s = socket.socket()\n",
    "s.bind((host, port))\n",
    "s.listen(5) # where 5 is number of incoming connections\n",
    "conn, address = s.accept()\n",
    "print(\"Connection has been established! |\" + \" IP \" + address[0] + \" | Port\" + str(address[1]))\n",
    "conn.send(str.encode('Hello world from Server!'))\n",
    "client_response = str(conn.recv(1024),\"ISO-8859-1\")\n",
    "print(client_response, end=\"\")\n",
    "conn.close()"
   ]
  },
  {
   "cell_type": "code",
   "execution_count": 136,
   "metadata": {},
   "outputs": [
    {
     "name": "stdout",
     "output_type": "stream",
     "text": [
      "Say:\n",
      "You said: hello\n"
     ]
    }
   ],
   "source": [
    "#server.py\n",
    "\n",
    "import socket\n",
    "import sys\n",
    "\n",
    "host = \"\"\n",
    "port = 9999\n",
    "\n",
    "# Create a Socket ( connect two computers)\n",
    "def create_socket():\n",
    "    try:\n",
    "        s = socket.socket()\n",
    "        return s\n",
    "    except socket.error as msg:\n",
    "        print(\"Socket creation error: \" + str(msg))\n",
    "\n",
    "\n",
    "# Binding the socket and listening for connections\n",
    "def bind_socket(socket):\n",
    "    try:\n",
    "        print(\"Binding the Port: \" + str(port))\n",
    "        socket.bind((host, port))\n",
    "        socket.listen(5)\n",
    "    except socket.error as msg:\n",
    "        print(\"Socket Binding error\" + str(msg) + \"\\n\" + \"Retrying...\")\n",
    "\n",
    "# Establish connection with a client (socket must be listening)\n",
    "\n",
    "def socket_accept(socket):\n",
    "    conn, address = socket.accept()\n",
    "    print(\"Connection has been established! |\" + \" IP \" + address[0] + \" | Port\" + str(address[1]))\n",
    "    send_commands(conn)\n",
    "    conn.close()\n",
    "\n",
    "# Send commands to client/victim or a friend\n",
    "def send_commands(conn):\n",
    "    while True:\n",
    "        cmd = input()\n",
    "        if cmd == 'quit':\n",
    "            conn.close()\n",
    "            s.close()\n",
    "            sys.exit()\n",
    "        if len(str.encode(cmd)) > 0:\n",
    "            conn.send(str.encode(cmd))\n",
    "            client_response = str(conn.recv(1024),\"ISO-8859-1\")\n",
    "            print(client_response, end=\"\")\n",
    "\n",
    "def main():\n",
    "    s = create_socket()\n",
    "    bind_socket(s)\n",
    "    socket_accept(s)\n",
    "\n",
    "\n",
    "main()"
   ]
  },
  {
   "cell_type": "code",
   "execution_count": 79,
   "metadata": {},
   "outputs": [
    {
     "data": {
      "text/plain": [
       "'c:\\\\Users\\\\balob\\\\Downloads\\\\DAVID\\\\david_db.sqlite_190412'"
      ]
     },
     "execution_count": 79,
     "metadata": {},
     "output_type": "execute_result"
    }
   ],
   "source": [
    "import shutil\n",
    "shutil.copy(join(dir_david, file_sqlite_db), join(dir_david, 'david_db.sqlite_190412'))"
   ]
  },
  {
   "cell_type": "code",
   "execution_count": 76,
   "metadata": {},
   "outputs": [
    {
     "data": {
      "text/plain": [
       "'david_db_20190412.sqlite'"
      ]
     },
     "execution_count": 76,
     "metadata": {},
     "output_type": "execute_result"
    }
   ],
   "source": [
    "import datetime as dt\n",
    "\n",
    "f'david_db_{dt.datetime.now().strftime(\"%Y%m%d\")}.sqlite'"
   ]
  },
  {
   "cell_type": "code",
   "execution_count": 85,
   "metadata": {},
   "outputs": [
    {
     "name": "stderr",
     "output_type": "stream",
     "text": [
      "test_check_file (__main__.TestFiles) ... FAIL\n",
      "\n",
      "======================================================================\n",
      "FAIL: test_check_file (__main__.TestFiles)\n",
      "----------------------------------------------------------------------\n",
      "Traceback (most recent call last):\n",
      "  File \"<ipython-input-85-56cc4e7100b5>\", line 22, in test_check_file\n",
      "    self.assertEqual(isdir(dir_david), True)\n",
      "AssertionError: False != True\n",
      "\n",
      "----------------------------------------------------------------------\n",
      "Ran 1 test in 0.004s\n",
      "\n",
      "FAILED (failures=1)\n",
      "ERROR\n",
      "\n",
      "======================================================================\n",
      "ERROR: setUpClass (__main__.TestWebServer)\n",
      "----------------------------------------------------------------------\n",
      "Traceback (most recent call last):\n",
      "  File \"<ipython-input-85-56cc4e7100b5>\", line 33, in setUpClass\n",
      "    shutil.copy(join(dir_david, file_sqlite_db), join(dir_david, file_sqlite_db_backup))\n",
      "  File \"C:\\Users\\balob\\Miniconda3\\lib\\shutil.py\", line 241, in copy\n",
      "    copyfile(src, dst, follow_symlinks=follow_symlinks)\n",
      "  File \"C:\\Users\\balob\\Miniconda3\\lib\\shutil.py\", line 120, in copyfile\n",
      "    with open(src, 'rb') as fsrc:\n",
      "FileNotFoundError: [Errno 2] No such file or directory: '/home/david\\\\david_db.sqlite'\n",
      "\n",
      "----------------------------------------------------------------------\n",
      "Ran 0 tests in 0.012s\n",
      "\n",
      "FAILED (errors=1)\n"
     ]
    },
    {
     "data": {
      "text/plain": [
       "<unittest.runner.TextTestResult run=0 errors=1 failures=0>"
      ]
     },
     "execution_count": 85,
     "metadata": {},
     "output_type": "execute_result"
    }
   ],
   "source": [
    "import unittest\n",
    "import requests\n",
    "from os.path import isfile, isdir, join\n",
    "import datetime as dt\n",
    "import shutil\n",
    "\n",
    "import david_lib\n",
    "reload(david_lib)\n",
    "\n",
    "server_ip_addr = david_lib.ip_addr\n",
    "server_port = david_lib.port\n",
    "dir_david = david_lib.dir_david\n",
    "file_climate_hot_bedroom = david_lib.file_climate_hot_bedroom\n",
    "file_sqlite_db = david_lib.file_sqlite_db\n",
    "file_log_web_server = david_lib.file_log_web_server\n",
    "file_log_climate_check = david_lib.file_log_climate_check\n",
    "\n",
    "file_sqlite_db_backup = f'david_db_{dt.datetime.now().strftime(\"%Y%m%d\")}.sqlite'\n",
    "\n",
    "class TestFiles(unittest.TestCase):\n",
    "    def test_check_file(self):\n",
    "        self.assertEqual(isdir(dir_david), True)\n",
    "        self.assertEqual(isfile(join(dir_david, file_climate_hot_bedroom)), True)\n",
    "        self.assertEqual(isfile(join(dir_david, file_sqlite_db)), True)\n",
    "        self.assertEqual(isfile(join(dir_david, file_log_web_server)), True)\n",
    "        self.assertEqual(isfile(join(dir_david, file_log_climate_check)), True)\n",
    "\n",
    "\n",
    "class TestWebServer(unittest.TestCase):\n",
    "    \n",
    "    @classmethod\n",
    "    def setUpClass(cls):\n",
    "        shutil.copy(join(dir_david, file_sqlite_db), join(dir_david, file_sqlite_db_backup))\n",
    "        \n",
    "    @classmethod\n",
    "    def tearDownClass(cls):\n",
    "        shutil.copy(join(dir_david, file_sqlite_db_backup), join(dir_david, file_sqlite_db))\n",
    "    \n",
    "    def test_get_connect(self):\n",
    "        url_01 = f'http://{server_ip_addr}:{server_port}/connected;sensor=1&ip=192.168.1.63'\n",
    "        url_02 = f'http://{server_ip_addr}:{server_port}/connected;sensor=3&ip=192.168.1.64'\n",
    "        urls = [url_01, url_02]\n",
    "        for url in urls:\n",
    "            r = requests.get(url)\n",
    "            self.assertEqual(r.status_code, 200)\n",
    "            self.assertEqual(r.text, 'OK')\n",
    "        \n",
    "    def test_get_climate(self):\n",
    "        url_01 = f'http://{server_ip_addr}:{server_port}/climate;sensor=1&readattempt=10&temperature=24.0&humidity=35.0'\n",
    "        url_02 = f'http://{server_ip_addr}:{server_port}/climate;sensor=1&readattempt=10&temperature=nan&humidity=35.0'\n",
    "        url_03 = f'http://{server_ip_addr}:{server_port}/motion;sensor=3'\n",
    "        urls = [url_01, url_02, url_03]\n",
    "        for url in urls:\n",
    "            r = requests.get(url)\n",
    "            self.assertEqual(r.status_code, 200)\n",
    "            self.assertEqual(r.text, 'OK')\n",
    "\n",
    "            \n",
    "if __name__ == '__main__':\n",
    "    unittest.main()\n",
    "\n",
    "\n",
    "#suite = unittest.TestLoader().loadTestsFromTestCase(TestFiles)\n",
    "#runner = unittest.TextTestRunner(verbosity=2)\n",
    "#runner.run(suite)\n",
    "\n",
    "#suite = unittest.TestLoader().loadTestsFromTestCase(TestWebServer)\n",
    "#runner = unittest.TextTestRunner(verbosity=2)\n",
    "#runner.run(suite)"
   ]
  },
  {
   "cell_type": "code",
   "execution_count": null,
   "metadata": {},
   "outputs": [],
   "source": []
  },
  {
   "cell_type": "code",
   "execution_count": null,
   "metadata": {},
   "outputs": [],
   "source": []
  },
  {
   "cell_type": "code",
   "execution_count": 208,
   "metadata": {},
   "outputs": [],
   "source": [
    "%reset -f"
   ]
  }
 ],
 "metadata": {
  "kernelspec": {
   "display_name": "Python 3",
   "language": "python",
   "name": "python3"
  },
  "language_info": {
   "codemirror_mode": {
    "name": "ipython",
    "version": 3
   },
   "file_extension": ".py",
   "mimetype": "text/x-python",
   "name": "python",
   "nbconvert_exporter": "python",
   "pygments_lexer": "ipython3",
   "version": "3.6.3"
  }
 },
 "nbformat": 4,
 "nbformat_minor": 2
}
