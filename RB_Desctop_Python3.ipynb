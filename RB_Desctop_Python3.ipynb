{
 "cells": [
  {
   "cell_type": "code",
   "execution_count": null,
   "metadata": {},
   "outputs": [],
   "source": [
    "from IPython.display import HTML\n",
    "HTML('''<script>\n",
    "code_show=true; \n",
    "function code_toggle() {\n",
    " if (code_show){\n",
    " $('div.input').hide();\n",
    " } else {\n",
    " $('div.input').show();\n",
    " }\n",
    " code_show = !code_show\n",
    "} \n",
    "$( document ).ready(code_toggle);\n",
    "</script>\n",
    "<form action=\"javascript:code_toggle()\"><input type=\"submit\" value=\"Click here to toggle on/off the raw code.\"></form>''')"
   ]
  },
  {
   "cell_type": "markdown",
   "metadata": {},
   "source": [
    "# Libraries and functions"
   ]
  },
  {
   "cell_type": "code",
   "execution_count": 1,
   "metadata": {},
   "outputs": [],
   "source": [
    "import numpy as np\n",
    "import pandas as pd\n",
    "import pandasql as ps\n",
    "from pandas import Series, DataFrame\n",
    "import datetime as dt\n",
    "import matplotlib.pyplot as plt\n",
    "# import matplotlib as mpl\n",
    "import sys\n",
    "import time\n",
    "import math\n",
    "from tqdm import tqdm\n",
    "from importlib import reload\n",
    "from os.path import join, normpath\n",
    "from bs4 import BeautifulSoup\n",
    "import os\n",
    "from os import path\n",
    "import roamability as rb\n",
    "import re\n",
    "\n",
    "downloads = 'C:/Users/balob/Downloads'"
   ]
  },
  {
   "cell_type": "code",
   "execution_count": 99,
   "metadata": {},
   "outputs": [],
   "source": [
    "%reset -f"
   ]
  },
  {
   "cell_type": "markdown",
   "metadata": {},
   "source": [
    "# Examples"
   ]
  },
  {
   "cell_type": "markdown",
   "metadata": {},
   "source": [
    "### MS SQL request"
   ]
  },
  {
   "cell_type": "code",
   "execution_count": 208,
   "metadata": {},
   "outputs": [],
   "source": [
    "sql_srt='SELECT COUNT(*) FROM ACCOUNTS;'\n",
    "with rb.MssqlConnect('172.18.11.82', '10028', 'BSS', 'iKQVm40AZAmyRaw72LeY') as cnxn:\n",
    "    df = pd.read_sql_query(sql_srt, cnxn, coerce_float=False)"
   ]
  },
  {
   "cell_type": "markdown",
   "metadata": {},
   "source": [
    "### DMI Oracle request"
   ]
  },
  {
   "cell_type": "code",
   "execution_count": 211,
   "metadata": {},
   "outputs": [],
   "source": [
    "sql_srt = 'SELECT * FROM SPONSOR'\n",
    "# with rb.OracleConnect('DMI', 'dd607605ce341', 'DMI_TEST') as cnxn:\n",
    "with rb.OracleConnect('DMI', 'dd607605ce341', 'DMI') as cnxn:\n",
    "    df = pd.read_sql_query(sql_srt, cnxn, coerce_float=False)"
   ]
  },
  {
   "cell_type": "markdown",
   "metadata": {},
   "source": [
    "### BSS MySql request"
   ]
  },
  {
   "cell_type": "code",
   "execution_count": 1096,
   "metadata": {},
   "outputs": [
    {
     "data": {
      "text/html": [
       "<div>\n",
       "<style scoped>\n",
       "    .dataframe tbody tr th:only-of-type {\n",
       "        vertical-align: middle;\n",
       "    }\n",
       "\n",
       "    .dataframe tbody tr th {\n",
       "        vertical-align: top;\n",
       "    }\n",
       "\n",
       "    .dataframe thead th {\n",
       "        text-align: right;\n",
       "    }\n",
       "</style>\n",
       "<table border=\"1\" class=\"dataframe\">\n",
       "  <thead>\n",
       "    <tr style=\"text-align: right;\">\n",
       "      <th></th>\n",
       "      <th>MSISDN</th>\n",
       "      <th>VisitedNetworkTadig</th>\n",
       "    </tr>\n",
       "  </thead>\n",
       "  <tbody>\n",
       "    <tr>\n",
       "      <td>0</td>\n",
       "      <td>447700095423</td>\n",
       "      <td>BRAV1</td>\n",
       "    </tr>\n",
       "    <tr>\n",
       "      <td>1</td>\n",
       "      <td>972541033641</td>\n",
       "      <td>BRAV1</td>\n",
       "    </tr>\n",
       "    <tr>\n",
       "      <td>2</td>\n",
       "      <td>972541039874</td>\n",
       "      <td>BRAV1</td>\n",
       "    </tr>\n",
       "    <tr>\n",
       "      <td>3</td>\n",
       "      <td>972541033641</td>\n",
       "      <td>BRAV1</td>\n",
       "    </tr>\n",
       "    <tr>\n",
       "      <td>4</td>\n",
       "      <td>447700095423</td>\n",
       "      <td>BRAV1</td>\n",
       "    </tr>\n",
       "  </tbody>\n",
       "</table>\n",
       "</div>"
      ],
      "text/plain": [
       "         MSISDN VisitedNetworkTadig\n",
       "0  447700095423               BRAV1\n",
       "1  972541033641               BRAV1\n",
       "2  972541039874               BRAV1\n",
       "3  972541033641               BRAV1\n",
       "4  447700095423               BRAV1"
      ]
     },
     "execution_count": 1096,
     "metadata": {},
     "output_type": "execute_result"
    }
   ],
   "source": [
    "sql_srt='SELECT MSISDN, VisitedNetworkTadig FROM TAP.GPRS_CALL LIMIT 5'\n",
    "with rb.MySqlConnect('172.18.11.40', 'BSS', 'noc', 'WcQUzkXiXwoxnFfGnRxb') as cnxn:\n",
    "    df = pd.read_sql_query(sql_srt, cnxn)\n",
    "df"
   ]
  },
  {
   "cell_type": "markdown",
   "metadata": {},
   "source": [
    "### Soap API OCS Portal"
   ]
  },
  {
   "cell_type": "code",
   "execution_count": 163,
   "metadata": {
    "scrolled": true
   },
   "outputs": [
    {
     "name": "stdout",
     "output_type": "stream",
     "text": [
      "Choose connection (prod or lab):prod\n",
      "You are connected to Reseller: Dialoq - Genesisclub RT.    \n",
      "Available credit for the Reseller: 8085 USD.\n",
      "\n",
      "The Reseller contains the following accounts:\n",
      " 0    Genesisclub Test sim cards (accountID: 352475)\n",
      " 1    Genesisclub Partner Soft test (accountID: 352642)\n",
      " 2    Genesisclub P4 Soft test (accountID: 352643)\n",
      " 3    Truphone S1 Soft (accountID: 352770)\n",
      " 4    Truphone S2 Soft (accountID: 352771)\n",
      " 5    Truphone QR DATA S2+S1+S4 (accountID: 352820)\n",
      " 6    Dailoq S2+S1+S4 (accountID: 352827)\n",
      " 7    New Profiles (accountID: 352857)\n",
      " 8    new applet profile test (accountID: 352858)\n",
      " 9    Truphone QR DATA_CALLS S2+S1+S4 (accountID: 352859)\n",
      " 10   dialoq_10K_191119 (accountID: 352891)\n",
      " 11   Truphone S5 Soft (accountID: 352954)\n",
      " 12   Truphone S8 Soft (accountID: 352955)\n",
      " 13   Dailoq_200522_5K_S2_S1 (accountID: 352979)\n"
     ]
    }
   ],
   "source": [
    "# %reset -f\n",
    "from zeep import Client\n",
    "from zeep.wsse.username import UsernameToken\n",
    "\n",
    "connect = input(\"Choose connection (prod or lab):\")\n",
    "\n",
    "if connect == 'lab':\n",
    "    user = 'lab_api@roamability.com'\n",
    "    user = 'api_lab@dialoq.com'\n",
    "    password = '25D55AD283AA400AF464C76D713C07AD' #Lab\n",
    "    password = 'FAC4EC08B5FC0CCF8145BB79E8F24F47' #Lab\n",
    "    api_link = 'https://172.20.39.7:8585/ocsapi/roamability/api/roamability.wsdl' #Lab\n",
    "    api_link = 'https://labocsapi.roamability.com:6443/ocsapi/roamability/api/roamability.wsdl'\n",
    "    api_link = 'http://172.20.39.7:8585/ocsapi/roamability/api/roamability.wsdl' #Lab\n",
    "elif connect == 'prod':\n",
    "    user = 'prod_api@roamability.com'\n",
    "    password = '25D55AD283AA400AF464C76D713C07AD'\n",
    "    api_link = 'https://ocsapi.roamability.com:7443/ocsapi/roamability/api/roamability.wsdl'\n",
    "#     api_link = 'https://ocsapi.roamability.com/ocsapi/roamability/api/roamability.wsdl'\n",
    "#     api_link = 'https://ocsapi.roamability.com:7443/ocsapi/roamability/api/'\n",
    "#     api_link = 'https://ocsapi2.roamability.com:7443/ocsapi/roamability/api/roamability.wsdl'\n",
    "#     api_link = 'http://172.20.35.10:8585/ocsapi/roamability/api/roamability.wsdl'\n",
    "#     api_link = 'http://172.20.35.12:8585/ocsapi/roamability/api/roamability.wsdl'\n",
    "\n",
    "user_name_token = UsernameToken(user, password)\n",
    "user_name_token.use_digest = True\n",
    "client = Client(api_link, wsse=user_name_token)\n",
    "\n",
    "reseller = client.service.getResellerInfo()\n",
    "accounts = client.service.getAccounts()\n",
    "\n",
    "if reseller.result.code == '1':\n",
    "    print('You are connected to Reseller: {}.\\\n",
    "    \\nAvailable credit for the Reseller: {:.0f} USD.\\n'.\\\n",
    "    format(reseller.reseller.resellerName,reseller.reseller.availableCredit))\n",
    "else:\n",
    "    print('Error in getting Reseller info: {}'.format(reseller.result.description))\n",
    "\n",
    "if accounts.result.code == '1':\n",
    "    accounts_dict = {account.accountId:account.accountName for account in accounts.accounts.accounts}\n",
    "    print('The Reseller contains the following accounts:')\n",
    "    for i,[account_id,account_name] in enumerate(accounts_dict.items()):\n",
    "        print(' {:<5}{} (accountID: {})'.format(i,account_name,account_id))\n",
    "else:\n",
    "    print('Error in getting Account info: {}'.format(accounts.result.description))\n",
    "\n",
    "# Subscriber in lab in STI account\n",
    "#subscriber_id = client.service.getSubscriberById('934420')\n",
    "#subscriber_iccid = client.service.getSubscriberByICCID('8997219121000031446')\n",
    "# client.service.getSubscriberPrePaidPackages('831882', 1)\n",
    "#client.service.getSubscriberByIMSI('425019613023160')\n",
    "#client.service.getSubscriberById('209287')\n",
    "#client.service.getSubscriberByICCID('8997219121000022660')\n",
    "# client.service.assignSubscriberPrePaidPackage('831882', 1, dt.datetime.strptime('2019-07-07','%Y-%m-%d'))\n",
    "# client.service.getSubscriberPrePaidPackages('937939', 1)\n",
    "# client.service.expireSubscriberPrePaidPackage(1848972,60311)\n",
    "# client.service.getSubscriberPrePaidPackages(1848972,1)\n",
    "# prices = client.service.getMobilePrices() # prices.destinations[0]\n",
    "# client.service.getPricingPlans()\n",
    "# client.service.modifySubscriberSpeedLimit(1449606, '256kbps')\n",
    "# client.service.modifySubscriberSpeedLimit(210000, '1024kbps') # lab\n",
    "#subscriber_id"
   ]
  },
  {
   "cell_type": "markdown",
   "metadata": {},
   "source": [
    "### Send MSU"
   ]
  },
  {
   "cell_type": "code",
   "execution_count": 679,
   "metadata": {},
   "outputs": [
    {
     "data": {
      "text/plain": [
       "<?xml version=\"1.0\" encoding=\"utf-8\"?>\n",
       "<cla>\n",
       "<session-id>cb0c8d67c1580b433a17231c7d137698ba0945de6baa9ed072b24b1239be2559;1591183832;8978434</session-id>\n",
       "<orig-realm>epc.mnc001.mcc231.3gppnetwork.org</orig-realm>\n",
       "<orig-host>draus01.comfone.com</orig-host>\n",
       "<res-code>3002</res-code>\n",
       "</cla>"
      ]
     },
     "execution_count": 679,
     "metadata": {},
     "output_type": "execute_result"
    }
   ],
   "source": [
    "reload(rb)\n",
    "imsi = 260036610100002\n",
    "# imsi = 260060169326039\n",
    "orealm = 'epc.mnc003.mcc260.3gppnetwork.org'\n",
    "ohost = 'nakahss.epc.mnc003.mcc260.3gppnetwork.org'\n",
    "\n",
    "drealm = 'epc.mnc001.mcc231.3gppnetwork.org'\n",
    "dhost = 'mme-01-ba3.epc.mnc001.mcc231.3gppnetwork.org'\n",
    "\n",
    "mcc = '231'\n",
    "mnc = '01'\n",
    "soup = BeautifulSoup(\n",
    "#     rb.air(imsi, ohost, orealm, drealm, mcc, mnc)\n",
    "    rb.clr(imsi, ohost, orealm, dhost, drealm)\n",
    "    ,'xml')\n",
    "soup"
   ]
  },
  {
   "cell_type": "markdown",
   "metadata": {},
   "source": [
    " ### Format output"
   ]
  },
  {
   "cell_type": "code",
   "execution_count": null,
   "metadata": {},
   "outputs": [],
   "source": [
    "import datetime as dt\n",
    "print( 'start: {} {} :end'.format('one', 'two') ) #start: one two :end\n",
    "print( 'start: {1} {0} :end'.format('one', 'two') ) #start: two one :end\n",
    "print( 'start: test {:10} :end'.format('test') ) #start: test test       :end\n",
    "print( 'start: test {:10} :end'.format(10) ) #start: test         10 :end\n",
    "print( 'start: test {:>10} :end'.format('test') ) #start: test       test :end\n",
    "print( 'start: test {:<10} :end'.format('test') ) #start: test test       :end\n",
    "print( 'start: test {:_<10} :end'.format('test') ) #start: test test______ :end\n",
    "print( 'start: test {:^10} :end'.format('test') ) #start: test    test    :end\n",
    "print( 'start: test {:.10} :end'.format('test1test2test3') ) #start: test test1test2 :end\n",
    "print( 'start: test {:_^10.5} :end'.format('test1test2test3') ) #start: test __test1___ :end\n",
    "print( 'start: test {:d} :end'.format(42) ) #start: test 42 :end\n",
    "print( 'start: test {:f} :end'.format(42) ) #start: test 42.000000 :end\n",
    "print( 'start: test {:06.2f} :end'.format(3.141592) ) #start: test 003.14 :end\n",
    "print( 'start: test {p[first]} {p[last]} :end'.format(p={'first': 'Jean-Luc', 'last': 'Picard'}) ) #start: test Jean-Luc Picard :end\n",
    "print( 'start: test {p[4]} {p[5]} :end'.format(p=[4, 8, 15, 16, 23, 42]) ) #start: test 23 42 :end\n",
    "print( 'start: test {:%Y-%m-%d %H:%M} :end'.format(dt.datetime(2001, 2, 3, 4, 5)) ) #start: test 2001-02-03 04:05 :end"
   ]
  },
  {
   "cell_type": "markdown",
   "metadata": {},
   "source": [
    "### Search in files by Tags"
   ]
  },
  {
   "cell_type": "code",
   "execution_count": 233,
   "metadata": {
    "scrolled": true
   },
   "outputs": [
    {
     "name": "stdout",
     "output_type": "stream",
     "text": [
      "****************************************************************************************************\n",
      "c:\\W_DATA_ROAM\\ДОКУМЕНТАЦИЯ\\NOC_HOW_IT_WORKS\\REPORT_OCS_Subscribers.txt\n",
      "----------------------------------------------------------------------------------------------------\n",
      "#reports_ocs_subscribers\n",
      "------------------------------\n",
      "Отчет выводит абонентов с привязкой к аккаунту и реселлеру\n",
      "\n",
      "****************************************************************************************************\n",
      "c:\\W_DATA_ROAM\\ДОКУМЕНТАЦИЯ\\NOC_HOW_IT_WORKS\\REPORT_Resellers_Accounts_Subscribers_A.txt\n",
      "----------------------------------------------------------------------------------------------------\n",
      "#reports_ocs_subscribers\n",
      "------------------------------\n",
      "Отчет Реселлер\\Аккаунт\\PP\\Кол-во абонентов\n",
      "Отчет Реселлер\\Аккаунт\\Абонент (IMSI, MSUSDN)\\Prepaid package\n",
      "\n"
     ]
    }
   ],
   "source": [
    "import roamability as rb\n",
    "reload(rb)\n",
    "\n",
    "# Где искать файлы .txt с тегами\n",
    "paths = ['c:/W_DATA_ROAM/ДОКУМЕНТАЦИЯ/NOC_HOW_IT_WORKS/',\n",
    "        'c:/W_DATA_ROAM/МЕТОДИКИ/',\n",
    "        'c:/W_DATA_ROAM/ПРОЕКТЫ/',\n",
    "        'c:/W_DATA_ROAM/ДОКУМЕНТАЦИЯ/NOC_KNOWN_ISSUES/',\n",
    "        'c:/W_DATA_ROAM/МЕТОДИКИ/_NOC_M_NEW_CONNECTION/',\n",
    "        'c:/W_DATA_ROAM/ALARMS/',\n",
    "        'c:/W_DATA_ROAM/ДОКУМЕНТАЦИЯ/PRICES',\n",
    "        ]\n",
    "\n",
    "# Если хотя бы один из тэгов присутствует. Нужно указать минимум один.\n",
    "# any_tags  = ['#reports_bss_usage_mop']\n",
    "# any_tags  = ['#gy_principle_of_operation']\n",
    "# any_tags  = ['#ocs_principle_of_operation']\n",
    "# any_tags  = ['#reports_ocs_usage_mop']\n",
    "# any_tags  = ['#reports_ocs_subscribers']\n",
    "# any_tags = ['#epg_principle_of_operation']\n",
    "any_tags  = ['#reports_ocs_subscribers']\n",
    "# any_tags  = ['#pbx_principle_of_operation']\n",
    "\n",
    "# Если все теги присутствуют. Нужно оставить лист пустым [] если нет обязательных тэгов.\n",
    "all_tags = []\n",
    "\n",
    "rb.find_files_by_tags(paths, all_tags, any_tags)"
   ]
  },
  {
   "cell_type": "markdown",
   "metadata": {},
   "source": [
    "### Search in ALARMS by folder names"
   ]
  },
  {
   "cell_type": "code",
   "execution_count": 577,
   "metadata": {},
   "outputs": [
    {
     "name": "stdout",
     "output_type": "stream",
     "text": [
      "c:\\W_DATA_ROAM\\ALARMS\\MOC_P4_UKRUM_190607_#3050591\n",
      "c:\\W_DATA_ROAM\\ALARMS\\PS_P4_UKRUM_190218\n",
      "c:\\W_DATA_ROAM\\ДОКУМЕНТАЦИЯ\\PRICES\\P4_UKRUM.msg\n"
     ]
    }
   ],
   "source": [
    "import os\n",
    "\n",
    "paths = [\n",
    "         r'c:/W_DATA_ROAM/ALARMS/',\n",
    "         r'c:/W_DATA_ROAM/ДОКУМЕНТАЦИЯ/PRICES/',\n",
    "         r'c:/W_DATA_ROAM/ПРОЕКТЫ/',\n",
    "         r'c:/W_DATA_ROAM/ПРОЕКТЫ_NEW_CONNECTION/',\n",
    "    r'c:/W_DATA_ROAM/ДОКУМЕНТАЦИЯ',\n",
    "    r'c:\\W_DATA_ROAM_DOC\\ПРОЕКТЫ',\n",
    "        ]\n",
    "\n",
    "for path in paths:\n",
    "    names = os.listdir(path)\n",
    "    [print(normpath(path + name)) for name in names if name.upper().find('UKRUM')!=-1]"
   ]
  },
  {
   "cell_type": "markdown",
   "metadata": {},
   "source": [
    "### Search in Allowed Lists and others"
   ]
  },
  {
   "cell_type": "code",
   "execution_count": 534,
   "metadata": {},
   "outputs": [],
   "source": [
    "downloads = 'C:/Users/balob/Downloads'\n",
    "dmi_allowed_list = 'DMI.dmi_allowed_list_export_Thu_Jul_30_2020.csv'\n",
    "dmi_netpfx = 'DMI.dmi_netpfx_export_Wed_Jun_03_2020.csv'\n",
    "bss_usage = 'bss_usage_2019_08.csv' # c:\\W_DATA_ROAM\\ДОКУМЕНТАЦИЯ\\NOC_HOW_IT_WORKS\\BSS_SQL\\Report_BSS_Usage_per_PLMN.txt\n",
    "\n",
    "#Like expression for Allowed List\n",
    "df_al=pd.read_csv(join(downloads, dmi_allowed_list))\n",
    "df_al['SPONSOR'] = df_al['Sponsor'].replace(to_replace={r'[Pp][Aa][rtner]?[\\s\\w-]*|^S1_[\\s\\w-]*':'S1',\n",
    "                                                        r'[Pp]4[\\s\\w-]*|^S2_[\\s\\w-]*':'S2',\n",
    "                                                        r'[Mm][Bb][\\s\\w-]*|^S4_[\\s\\w-]*':'S4',\n",
    "                                                        r'SMART[\\s\\w-]*|^S5_[\\s\\w-]*':'S5',\n",
    "                                                        r'^S8_[\\s\\w-]*':'S8'}, regex=True)\n",
    "df_al.rename({'PLMN code':'TADIG'}, axis=1, inplace=True)\n",
    "\n",
    "df_usage = pd.read_csv(join(downloads, bss_usage), sep=';')\n",
    "cols = ['REP_DATE','VPLMN','SPONSOR','MOC','MOC_SMS','DATA']\n",
    "df_usage = df_usage.pivot_table(values='COST', index=['REP_DATE', 'VPLMN', 'SPONSOR'], columns='USAGE_TYPE').reset_index()[cols]\n",
    "df_usage.rename({'VPLMN':'TADIG'}, axis=1, inplace=True)\n",
    "df_usage.columns.name=''\n",
    "\n",
    "df_al = pd.merge(df_al, df_usage, how='left', on=['SPONSOR','TADIG'])\n",
    "\n",
    "df_np=pd.read_csv(join(downloads, dmi_netpfx))"
   ]
  },
  {
   "cell_type": "code",
   "execution_count": 17,
   "metadata": {},
   "outputs": [
    {
     "data": {
      "text/plain": [
       "array(['S2', 'S1'], dtype=object)"
      ]
     },
     "execution_count": 17,
     "metadata": {},
     "output_type": "execute_result"
    }
   ],
   "source": [
    "df_al.loc[(df_al['TADIG'].str.startswith(tadig, na=False)) &\n",
    "          (df_al['Sponsor'].str.contains(sponsor, na=False, regex=True, flags=re.I)),\n",
    "          ['Sponsor','TADIG','REP_DATE','MOC','MOC_SMS','DATA','SPONSOR']].sort_values(by=['Sponsor','TADIG']).SPONSOR.unique()"
   ]
  },
  {
   "cell_type": "code",
   "execution_count": 580,
   "metadata": {},
   "outputs": [
    {
     "data": {
      "text/html": [
       "<div>\n",
       "<style scoped>\n",
       "    .dataframe tbody tr th:only-of-type {\n",
       "        vertical-align: middle;\n",
       "    }\n",
       "\n",
       "    .dataframe tbody tr th {\n",
       "        vertical-align: top;\n",
       "    }\n",
       "\n",
       "    .dataframe thead th {\n",
       "        text-align: right;\n",
       "    }\n",
       "</style>\n",
       "<table border=\"1\" class=\"dataframe\">\n",
       "  <thead>\n",
       "    <tr style=\"text-align: right;\">\n",
       "      <th></th>\n",
       "      <th>Sponsor</th>\n",
       "      <th>TADIG</th>\n",
       "      <th>REP_DATE</th>\n",
       "      <th>MOC</th>\n",
       "      <th>MOC_SMS</th>\n",
       "      <th>DATA</th>\n",
       "      <th>SPONSOR</th>\n",
       "    </tr>\n",
       "  </thead>\n",
       "  <tbody>\n",
       "    <tr>\n",
       "      <td>4859</td>\n",
       "      <td>MB_Tottolli</td>\n",
       "      <td>TURTK</td>\n",
       "      <td>NaN</td>\n",
       "      <td>NaN</td>\n",
       "      <td>NaN</td>\n",
       "      <td>NaN</td>\n",
       "      <td>S4</td>\n",
       "    </tr>\n",
       "    <tr>\n",
       "      <td>5100</td>\n",
       "      <td>Partner_Tottolli</td>\n",
       "      <td>TURAC</td>\n",
       "      <td>NaN</td>\n",
       "      <td>NaN</td>\n",
       "      <td>NaN</td>\n",
       "      <td>NaN</td>\n",
       "      <td>S1</td>\n",
       "    </tr>\n",
       "    <tr>\n",
       "      <td>5030</td>\n",
       "      <td>Partner_Tottolli</td>\n",
       "      <td>TURTS</td>\n",
       "      <td>2019-08</td>\n",
       "      <td>138.629571</td>\n",
       "      <td>20.060967</td>\n",
       "      <td>4983.532942</td>\n",
       "      <td>S1</td>\n",
       "    </tr>\n",
       "    <tr>\n",
       "      <td>7049</td>\n",
       "      <td>S8_Tottolli</td>\n",
       "      <td>TURAC</td>\n",
       "      <td>NaN</td>\n",
       "      <td>NaN</td>\n",
       "      <td>NaN</td>\n",
       "      <td>NaN</td>\n",
       "      <td>S8</td>\n",
       "    </tr>\n",
       "    <tr>\n",
       "      <td>7050</td>\n",
       "      <td>S8_Tottolli</td>\n",
       "      <td>TURTK</td>\n",
       "      <td>NaN</td>\n",
       "      <td>NaN</td>\n",
       "      <td>NaN</td>\n",
       "      <td>NaN</td>\n",
       "      <td>S8</td>\n",
       "    </tr>\n",
       "    <tr>\n",
       "      <td>7051</td>\n",
       "      <td>S8_Tottolli</td>\n",
       "      <td>TURTS</td>\n",
       "      <td>NaN</td>\n",
       "      <td>NaN</td>\n",
       "      <td>NaN</td>\n",
       "      <td>NaN</td>\n",
       "      <td>S8</td>\n",
       "    </tr>\n",
       "  </tbody>\n",
       "</table>\n",
       "</div>"
      ],
      "text/plain": [
       "               Sponsor  TADIG REP_DATE         MOC    MOC_SMS         DATA  \\\n",
       "4859       MB_Tottolli  TURTK      NaN         NaN        NaN          NaN   \n",
       "5100  Partner_Tottolli  TURAC      NaN         NaN        NaN          NaN   \n",
       "5030  Partner_Tottolli  TURTS  2019-08  138.629571  20.060967  4983.532942   \n",
       "7049       S8_Tottolli  TURAC      NaN         NaN        NaN          NaN   \n",
       "7050       S8_Tottolli  TURTK      NaN         NaN        NaN          NaN   \n",
       "7051       S8_Tottolli  TURTS      NaN         NaN        NaN          NaN   \n",
       "\n",
       "     SPONSOR  \n",
       "4859      S4  \n",
       "5100      S1  \n",
       "5030      S1  \n",
       "7049      S8  \n",
       "7050      S8  \n",
       "7051      S8  "
      ]
     },
     "execution_count": 580,
     "metadata": {},
     "output_type": "execute_result"
    }
   ],
   "source": [
    "sponsor = 'Tottolli' # Use regular expressions if it's needed\n",
    "tadig = 'TUR'\n",
    "\n",
    "df_al.loc[(df_al['TADIG'].str.startswith(tadig, na=False)) &\n",
    "          (df_al['Sponsor'].str.contains(sponsor, na=False, regex=True, flags=re.I)),\n",
    "          ['Sponsor','TADIG','REP_DATE','MOC','MOC_SMS','DATA','SPONSOR']].sort_values(by=['Sponsor','TADIG'])"
   ]
  },
  {
   "cell_type": "code",
   "execution_count": 147,
   "metadata": {},
   "outputs": [
    {
     "data": {
      "text/plain": [
       "array(['MB_DRIM01_ALL', 'P4_DRIM01_ALL', 'Partner_DRIM01_A',\n",
       "       'S5_DRIM01_ALL'], dtype=object)"
      ]
     },
     "execution_count": 147,
     "metadata": {},
     "output_type": "execute_result"
    }
   ],
   "source": [
    "df_al.loc[(df_al['TADIG'].str.startswith(tadig, na=False)) &\n",
    "          (df_al['Sponsor'].str.contains(sponsor, na=False, regex=True, flags=re.I)),\n",
    "          ['Sponsor','TADIG','SPONSOR']].sort_values(by=['Sponsor','TADIG']).Sponsor.unique()"
   ]
  },
  {
   "cell_type": "code",
   "execution_count": 518,
   "metadata": {},
   "outputs": [
    {
     "data": {
      "text/html": [
       "<div>\n",
       "<style scoped>\n",
       "    .dataframe tbody tr th:only-of-type {\n",
       "        vertical-align: middle;\n",
       "    }\n",
       "\n",
       "    .dataframe tbody tr th {\n",
       "        vertical-align: top;\n",
       "    }\n",
       "\n",
       "    .dataframe thead th {\n",
       "        text-align: right;\n",
       "    }\n",
       "</style>\n",
       "<table border=\"1\" class=\"dataframe\">\n",
       "  <thead>\n",
       "    <tr style=\"text-align: right;\">\n",
       "      <th></th>\n",
       "      <th>Sponsor</th>\n",
       "      <th>TADIG</th>\n",
       "    </tr>\n",
       "  </thead>\n",
       "  <tbody>\n",
       "    <tr>\n",
       "      <td>2049</td>\n",
       "      <td>PA_Telzar_Soft</td>\n",
       "      <td>BLRMD</td>\n",
       "    </tr>\n",
       "    <tr>\n",
       "      <td>10</td>\n",
       "      <td>Partner</td>\n",
       "      <td>BLRMD</td>\n",
       "    </tr>\n",
       "    <tr>\n",
       "      <td>1116</td>\n",
       "      <td>Partner_2018</td>\n",
       "      <td>BLRMD</td>\n",
       "    </tr>\n",
       "    <tr>\n",
       "      <td>2570</td>\n",
       "      <td>Partner_All</td>\n",
       "      <td>BLRMD</td>\n",
       "    </tr>\n",
       "    <tr>\n",
       "      <td>1792</td>\n",
       "      <td>Partner_Clay_Com</td>\n",
       "      <td>BLRMD</td>\n",
       "    </tr>\n",
       "    <tr>\n",
       "      <td>5636</td>\n",
       "      <td>Partner_Clementv</td>\n",
       "      <td>BLRMD</td>\n",
       "    </tr>\n",
       "    <tr>\n",
       "      <td>4020</td>\n",
       "      <td>Partner_Com_JWM</td>\n",
       "      <td>BLRMD</td>\n",
       "    </tr>\n",
       "    <tr>\n",
       "      <td>2265</td>\n",
       "      <td>Partner_Combined</td>\n",
       "      <td>BLRMD</td>\n",
       "    </tr>\n",
       "    <tr>\n",
       "      <td>4319</td>\n",
       "      <td>Partner_DIAL_COM</td>\n",
       "      <td>BLRMD</td>\n",
       "    </tr>\n",
       "    <tr>\n",
       "      <td>5388</td>\n",
       "      <td>Partner_DRIM01_A</td>\n",
       "      <td>BLRMD</td>\n",
       "    </tr>\n",
       "    <tr>\n",
       "      <td>1587</td>\n",
       "      <td>Partner_Dialoq_A</td>\n",
       "      <td>BLRMD</td>\n",
       "    </tr>\n",
       "    <tr>\n",
       "      <td>374</td>\n",
       "      <td>Partner_FJComb</td>\n",
       "      <td>BLRMD</td>\n",
       "    </tr>\n",
       "    <tr>\n",
       "      <td>6380</td>\n",
       "      <td>Partner_FlexiCom</td>\n",
       "      <td>BLRMD</td>\n",
       "    </tr>\n",
       "    <tr>\n",
       "      <td>767</td>\n",
       "      <td>Partner_Maxcom</td>\n",
       "      <td>BLRMD</td>\n",
       "    </tr>\n",
       "    <tr>\n",
       "      <td>2396</td>\n",
       "      <td>Partner_Netmor_C</td>\n",
       "      <td>BLRMD</td>\n",
       "    </tr>\n",
       "    <tr>\n",
       "      <td>1520</td>\n",
       "      <td>Partner_PS</td>\n",
       "      <td>BLRMD</td>\n",
       "    </tr>\n",
       "    <tr>\n",
       "      <td>3883</td>\n",
       "      <td>Partner_RUSEC_Co</td>\n",
       "      <td>BLRMD</td>\n",
       "    </tr>\n",
       "    <tr>\n",
       "      <td>2159</td>\n",
       "      <td>Partner_RedT_Sof</td>\n",
       "      <td>BLRMD</td>\n",
       "    </tr>\n",
       "    <tr>\n",
       "      <td>1001</td>\n",
       "      <td>Partner_RedTea</td>\n",
       "      <td>BLRMD</td>\n",
       "    </tr>\n",
       "    <tr>\n",
       "      <td>4461</td>\n",
       "      <td>Partner_SIMT_COM</td>\n",
       "      <td>BLRMD</td>\n",
       "    </tr>\n",
       "    <tr>\n",
       "      <td>548</td>\n",
       "      <td>Partner_STI_Comb</td>\n",
       "      <td>BLRMD</td>\n",
       "    </tr>\n",
       "    <tr>\n",
       "      <td>4663</td>\n",
       "      <td>Partner_TOT_COMB</td>\n",
       "      <td>BLRMD</td>\n",
       "    </tr>\n",
       "    <tr>\n",
       "      <td>6617</td>\n",
       "      <td>Partner_TottCom</td>\n",
       "      <td>BLRMD</td>\n",
       "    </tr>\n",
       "    <tr>\n",
       "      <td>1047</td>\n",
       "      <td>Partner_Tottolli</td>\n",
       "      <td>BLRMD</td>\n",
       "    </tr>\n",
       "    <tr>\n",
       "      <td>2206</td>\n",
       "      <td>Partner_Vectone</td>\n",
       "      <td>BLRMD</td>\n",
       "    </tr>\n",
       "    <tr>\n",
       "      <td>2219</td>\n",
       "      <td>Partner_WMB_Comb</td>\n",
       "      <td>BLRMD</td>\n",
       "    </tr>\n",
       "    <tr>\n",
       "      <td>1902</td>\n",
       "      <td>Partner_WeStream</td>\n",
       "      <td>BLRMD</td>\n",
       "    </tr>\n",
       "    <tr>\n",
       "      <td>1324</td>\n",
       "      <td>Partner_mon_euro</td>\n",
       "      <td>BLRMD</td>\n",
       "    </tr>\n",
       "    <tr>\n",
       "      <td>421</td>\n",
       "      <td>Partner_mon_worl</td>\n",
       "      <td>BLRMD</td>\n",
       "    </tr>\n",
       "    <tr>\n",
       "      <td>403</td>\n",
       "      <td>Partner_mondic</td>\n",
       "      <td>BLRMD</td>\n",
       "    </tr>\n",
       "    <tr>\n",
       "      <td>104</td>\n",
       "      <td>Partner_telzar</td>\n",
       "      <td>BLRMD</td>\n",
       "    </tr>\n",
       "    <tr>\n",
       "      <td>719</td>\n",
       "      <td>Partner_uCloud</td>\n",
       "      <td>BLRMD</td>\n",
       "    </tr>\n",
       "    <tr>\n",
       "      <td>6197</td>\n",
       "      <td>S6_ALL</td>\n",
       "      <td>BLRMD</td>\n",
       "    </tr>\n",
       "    <tr>\n",
       "      <td>1955</td>\n",
       "      <td>S8_ALL</td>\n",
       "      <td>BLRMD</td>\n",
       "    </tr>\n",
       "    <tr>\n",
       "      <td>6896</td>\n",
       "      <td>S8_Tottolli</td>\n",
       "      <td>BLRMD</td>\n",
       "    </tr>\n",
       "    <tr>\n",
       "      <td>808</td>\n",
       "      <td>SMART</td>\n",
       "      <td>BLRMD</td>\n",
       "    </tr>\n",
       "    <tr>\n",
       "      <td>5784</td>\n",
       "      <td>SMART_Tottol</td>\n",
       "      <td>BLRMD</td>\n",
       "    </tr>\n",
       "  </tbody>\n",
       "</table>\n",
       "</div>"
      ],
      "text/plain": [
       "               Sponsor  TADIG\n",
       "2049    PA_Telzar_Soft  BLRMD\n",
       "10             Partner  BLRMD\n",
       "1116      Partner_2018  BLRMD\n",
       "2570       Partner_All  BLRMD\n",
       "1792  Partner_Clay_Com  BLRMD\n",
       "5636  Partner_Clementv  BLRMD\n",
       "4020   Partner_Com_JWM  BLRMD\n",
       "2265  Partner_Combined  BLRMD\n",
       "4319  Partner_DIAL_COM  BLRMD\n",
       "5388  Partner_DRIM01_A  BLRMD\n",
       "1587  Partner_Dialoq_A  BLRMD\n",
       "374     Partner_FJComb  BLRMD\n",
       "6380  Partner_FlexiCom  BLRMD\n",
       "767     Partner_Maxcom  BLRMD\n",
       "2396  Partner_Netmor_C  BLRMD\n",
       "1520        Partner_PS  BLRMD\n",
       "3883  Partner_RUSEC_Co  BLRMD\n",
       "2159  Partner_RedT_Sof  BLRMD\n",
       "1001    Partner_RedTea  BLRMD\n",
       "4461  Partner_SIMT_COM  BLRMD\n",
       "548   Partner_STI_Comb  BLRMD\n",
       "4663  Partner_TOT_COMB  BLRMD\n",
       "6617   Partner_TottCom  BLRMD\n",
       "1047  Partner_Tottolli  BLRMD\n",
       "2206   Partner_Vectone  BLRMD\n",
       "2219  Partner_WMB_Comb  BLRMD\n",
       "1902  Partner_WeStream  BLRMD\n",
       "1324  Partner_mon_euro  BLRMD\n",
       "421   Partner_mon_worl  BLRMD\n",
       "403     Partner_mondic  BLRMD\n",
       "104     Partner_telzar  BLRMD\n",
       "719     Partner_uCloud  BLRMD\n",
       "6197            S6_ALL  BLRMD\n",
       "1955            S8_ALL  BLRMD\n",
       "6896       S8_Tottolli  BLRMD\n",
       "808              SMART  BLRMD\n",
       "5784      SMART_Tottol  BLRMD"
      ]
     },
     "metadata": {},
     "output_type": "display_data"
    },
    {
     "data": {
      "text/html": [
       "<div>\n",
       "<style scoped>\n",
       "    .dataframe tbody tr th:only-of-type {\n",
       "        vertical-align: middle;\n",
       "    }\n",
       "\n",
       "    .dataframe tbody tr th {\n",
       "        vertical-align: top;\n",
       "    }\n",
       "\n",
       "    .dataframe thead th {\n",
       "        text-align: right;\n",
       "    }\n",
       "</style>\n",
       "<table border=\"1\" class=\"dataframe\">\n",
       "  <thead>\n",
       "    <tr style=\"text-align: right;\">\n",
       "      <th></th>\n",
       "      <th>Operator</th>\n",
       "      <th>Prefix</th>\n",
       "      <th>Number/Range</th>\n",
       "      <th>SSN</th>\n",
       "      <th>MCC</th>\n",
       "      <th>MNC</th>\n",
       "    </tr>\n",
       "  </thead>\n",
       "  <tbody>\n",
       "    <tr>\n",
       "      <td>238</td>\n",
       "      <td>BLRMD</td>\n",
       "      <td>375296</td>\n",
       "      <td>1</td>\n",
       "      <td>7</td>\n",
       "      <td>257</td>\n",
       "      <td>1</td>\n",
       "    </tr>\n",
       "    <tr>\n",
       "      <td>239</td>\n",
       "      <td>BLRMD</td>\n",
       "      <td>375296</td>\n",
       "      <td>1</td>\n",
       "      <td>149</td>\n",
       "      <td>257</td>\n",
       "      <td>1</td>\n",
       "    </tr>\n",
       "    <tr>\n",
       "      <td>240</td>\n",
       "      <td>BLRMD</td>\n",
       "      <td>375446</td>\n",
       "      <td>1</td>\n",
       "      <td>7</td>\n",
       "      <td>257</td>\n",
       "      <td>1</td>\n",
       "    </tr>\n",
       "    <tr>\n",
       "      <td>241</td>\n",
       "      <td>BLRMD</td>\n",
       "      <td>375446</td>\n",
       "      <td>1</td>\n",
       "      <td>149</td>\n",
       "      <td>257</td>\n",
       "      <td>1</td>\n",
       "    </tr>\n",
       "    <tr>\n",
       "      <td>1244</td>\n",
       "      <td>BLRMD</td>\n",
       "      <td>375293</td>\n",
       "      <td>1</td>\n",
       "      <td>7</td>\n",
       "      <td>257</td>\n",
       "      <td>1</td>\n",
       "    </tr>\n",
       "    <tr>\n",
       "      <td>1245</td>\n",
       "      <td>BLRMD</td>\n",
       "      <td>375293</td>\n",
       "      <td>1</td>\n",
       "      <td>149</td>\n",
       "      <td>257</td>\n",
       "      <td>1</td>\n",
       "    </tr>\n",
       "    <tr>\n",
       "      <td>4150</td>\n",
       "      <td>BLRMD</td>\n",
       "      <td>3752960000</td>\n",
       "      <td>0</td>\n",
       "      <td>7</td>\n",
       "      <td>257</td>\n",
       "      <td>1</td>\n",
       "    </tr>\n",
       "    <tr>\n",
       "      <td>4151</td>\n",
       "      <td>BLRMD</td>\n",
       "      <td>3752969999</td>\n",
       "      <td>0</td>\n",
       "      <td>7</td>\n",
       "      <td>257</td>\n",
       "      <td>1</td>\n",
       "    </tr>\n",
       "    <tr>\n",
       "      <td>4152</td>\n",
       "      <td>BLRMD</td>\n",
       "      <td>3754460000</td>\n",
       "      <td>0</td>\n",
       "      <td>7</td>\n",
       "      <td>257</td>\n",
       "      <td>1</td>\n",
       "    </tr>\n",
       "    <tr>\n",
       "      <td>4153</td>\n",
       "      <td>BLRMD</td>\n",
       "      <td>3754469999</td>\n",
       "      <td>0</td>\n",
       "      <td>7</td>\n",
       "      <td>257</td>\n",
       "      <td>1</td>\n",
       "    </tr>\n",
       "    <tr>\n",
       "      <td>7893</td>\n",
       "      <td>BLRMD</td>\n",
       "      <td>3752960000</td>\n",
       "      <td>0</td>\n",
       "      <td>149</td>\n",
       "      <td>257</td>\n",
       "      <td>1</td>\n",
       "    </tr>\n",
       "    <tr>\n",
       "      <td>7894</td>\n",
       "      <td>BLRMD</td>\n",
       "      <td>3752969999</td>\n",
       "      <td>0</td>\n",
       "      <td>149</td>\n",
       "      <td>257</td>\n",
       "      <td>1</td>\n",
       "    </tr>\n",
       "    <tr>\n",
       "      <td>9341</td>\n",
       "      <td>BLRMD</td>\n",
       "      <td>37529600000</td>\n",
       "      <td>0</td>\n",
       "      <td>1</td>\n",
       "      <td>257</td>\n",
       "      <td>1</td>\n",
       "    </tr>\n",
       "  </tbody>\n",
       "</table>\n",
       "</div>"
      ],
      "text/plain": [
       "     Operator       Prefix  Number/Range  SSN  MCC  MNC\n",
       "238     BLRMD       375296             1    7  257    1\n",
       "239     BLRMD       375296             1  149  257    1\n",
       "240     BLRMD       375446             1    7  257    1\n",
       "241     BLRMD       375446             1  149  257    1\n",
       "1244    BLRMD       375293             1    7  257    1\n",
       "1245    BLRMD       375293             1  149  257    1\n",
       "4150    BLRMD   3752960000             0    7  257    1\n",
       "4151    BLRMD   3752969999             0    7  257    1\n",
       "4152    BLRMD   3754460000             0    7  257    1\n",
       "4153    BLRMD   3754469999             0    7  257    1\n",
       "7893    BLRMD   3752960000             0  149  257    1\n",
       "7894    BLRMD   3752969999             0  149  257    1\n",
       "9341    BLRMD  37529600000             0    1  257    1"
      ]
     },
     "metadata": {},
     "output_type": "display_data"
    }
   ],
   "source": [
    "plmn = 'BLRMD'\n",
    "df1 = df_al.loc[(df_al['TADIG'].str.startswith(plmn, na=False)) &\n",
    "          (df_al['Sponsor'].str.contains('', na=False)), ['Sponsor','TADIG']].sort_values(by=['Sponsor','TADIG'])\n",
    "df2 = df_np[(df_np.Operator.str.startswith(plmn,na=False))] #.to_csv(join(downloads,'Prefix.csv')) # & (df_np.SSN==7)\n",
    "display(df1)\n",
    "display(df2)"
   ]
  },
  {
   "cell_type": "code",
   "execution_count": 816,
   "metadata": {},
   "outputs": [
    {
     "data": {
      "text/html": [
       "<div>\n",
       "<style scoped>\n",
       "    .dataframe tbody tr th:only-of-type {\n",
       "        vertical-align: middle;\n",
       "    }\n",
       "\n",
       "    .dataframe tbody tr th {\n",
       "        vertical-align: top;\n",
       "    }\n",
       "\n",
       "    .dataframe thead th {\n",
       "        text-align: right;\n",
       "    }\n",
       "</style>\n",
       "<table border=\"1\" class=\"dataframe\">\n",
       "  <thead>\n",
       "    <tr style=\"text-align: right;\">\n",
       "      <th></th>\n",
       "      <th>Operator</th>\n",
       "      <th>Prefix</th>\n",
       "      <th>Number/Range</th>\n",
       "      <th>SSN</th>\n",
       "      <th>MCC</th>\n",
       "      <th>MNC</th>\n",
       "    </tr>\n",
       "  </thead>\n",
       "  <tbody>\n",
       "    <tr>\n",
       "      <td>81</td>\n",
       "      <td>MCOM1</td>\n",
       "      <td>37744</td>\n",
       "      <td>1</td>\n",
       "      <td>7</td>\n",
       "      <td>212</td>\n",
       "      <td>1</td>\n",
       "    </tr>\n",
       "    <tr>\n",
       "      <td>82</td>\n",
       "      <td>MCOM1</td>\n",
       "      <td>37744</td>\n",
       "      <td>1</td>\n",
       "      <td>149</td>\n",
       "      <td>212</td>\n",
       "      <td>1</td>\n",
       "    </tr>\n",
       "    <tr>\n",
       "      <td>83</td>\n",
       "      <td>MCOM1</td>\n",
       "      <td>37745</td>\n",
       "      <td>1</td>\n",
       "      <td>149</td>\n",
       "      <td>212</td>\n",
       "      <td>1</td>\n",
       "    </tr>\n",
       "    <tr>\n",
       "      <td>1164</td>\n",
       "      <td>MCOM1</td>\n",
       "      <td>37745</td>\n",
       "      <td>1</td>\n",
       "      <td>7</td>\n",
       "      <td>212</td>\n",
       "      <td>1</td>\n",
       "    </tr>\n",
       "    <tr>\n",
       "      <td>1165</td>\n",
       "      <td>MCOM1</td>\n",
       "      <td>37744010405</td>\n",
       "      <td>0</td>\n",
       "      <td>1</td>\n",
       "      <td>212</td>\n",
       "      <td>1</td>\n",
       "    </tr>\n",
       "    <tr>\n",
       "      <td>5382</td>\n",
       "      <td>MCOM2</td>\n",
       "      <td>3774000</td>\n",
       "      <td>1</td>\n",
       "      <td>7</td>\n",
       "      <td>212</td>\n",
       "      <td>10</td>\n",
       "    </tr>\n",
       "    <tr>\n",
       "      <td>5383</td>\n",
       "      <td>MCOM2</td>\n",
       "      <td>3774000</td>\n",
       "      <td>1</td>\n",
       "      <td>149</td>\n",
       "      <td>212</td>\n",
       "      <td>10</td>\n",
       "    </tr>\n",
       "    <tr>\n",
       "      <td>5384</td>\n",
       "      <td>MCOM2</td>\n",
       "      <td>3774098</td>\n",
       "      <td>1</td>\n",
       "      <td>149</td>\n",
       "      <td>212</td>\n",
       "      <td>10</td>\n",
       "    </tr>\n",
       "    <tr>\n",
       "      <td>5385</td>\n",
       "      <td>MCOM2</td>\n",
       "      <td>3774098</td>\n",
       "      <td>1</td>\n",
       "      <td>7</td>\n",
       "      <td>212</td>\n",
       "      <td>10</td>\n",
       "    </tr>\n",
       "    <tr>\n",
       "      <td>5386</td>\n",
       "      <td>MCOM2</td>\n",
       "      <td>3774000400</td>\n",
       "      <td>1</td>\n",
       "      <td>1</td>\n",
       "      <td>212</td>\n",
       "      <td>10</td>\n",
       "    </tr>\n",
       "    <tr>\n",
       "      <td>10793</td>\n",
       "      <td>HRR-MONACO</td>\n",
       "      <td>3774</td>\n",
       "      <td>1</td>\n",
       "      <td>2</td>\n",
       "      <td>0</td>\n",
       "      <td>0</td>\n",
       "    </tr>\n",
       "  </tbody>\n",
       "</table>\n",
       "</div>"
      ],
      "text/plain": [
       "         Operator       Prefix  Number/Range  SSN  MCC  MNC\n",
       "81          MCOM1        37744             1    7  212    1\n",
       "82          MCOM1        37744             1  149  212    1\n",
       "83          MCOM1        37745             1  149  212    1\n",
       "1164        MCOM1        37745             1    7  212    1\n",
       "1165        MCOM1  37744010405             0    1  212    1\n",
       "5382        MCOM2      3774000             1    7  212   10\n",
       "5383        MCOM2      3774000             1  149  212   10\n",
       "5384        MCOM2      3774098             1  149  212   10\n",
       "5385        MCOM2      3774098             1    7  212   10\n",
       "5386        MCOM2   3774000400             1    1  212   10\n",
       "10793  HRR-MONACO         3774             1    2    0    0"
      ]
     },
     "execution_count": 816,
     "metadata": {},
     "output_type": "execute_result"
    }
   ],
   "source": [
    "str(df_np[(df_np.Prefix.str.startswith('393519999',na=False))].Prefix.unique().tolist())\n",
    "df_np[(df_np.Prefix.str.startswith('3774',na=False))]"
   ]
  },
  {
   "cell_type": "markdown",
   "metadata": {},
   "source": [
    "### Hex Bin Dec conversion"
   ]
  },
  {
   "cell_type": "code",
   "execution_count": 593,
   "metadata": {},
   "outputs": [
    {
     "data": {
      "text/plain": [
       "47.0"
      ]
     },
     "execution_count": 593,
     "metadata": {},
     "output_type": "execute_result"
    }
   ],
   "source": [
    "len('0114010301001E01140000000300030501020000000000000000000000000000000000000000000000000000000000'.replace(' ', '')) / 2"
   ]
  },
  {
   "cell_type": "code",
   "execution_count": 3,
   "metadata": {},
   "outputs": [
    {
     "name": "stdout",
     "output_type": "stream",
     "text": [
      "Hex to dec\n",
      "0000000000000012\n",
      "Hex to bin\n",
      "0000000000001100\n",
      "Dec to hex\n",
      "FFFFFFFFFFFFFF2F\n",
      "Dec to bin\n",
      "0000000000101111\n",
      "Bin to hex\n",
      "FFFFFFFFFFFFFFF4\n",
      "Bin to dec\n",
      "0000000000000004\n"
     ]
    }
   ],
   "source": [
    "hex_int = 0x0C\n",
    "dec_int = 47\n",
    "bin_int = 0b100\n",
    "# Hex to dec\n",
    "print('Hex to dec')\n",
    "print(f'{hex_int:0>16d}')\n",
    "# Hex to bin\n",
    "print('Hex to bin')\n",
    "print(f'{hex_int:0>16b}')\n",
    "# Dec to hex\n",
    "print('Dec to hex')\n",
    "print(f'{dec_int:F>16X}')\n",
    "# Dec to bin\n",
    "print('Dec to bin')\n",
    "print(f'{dec_int:0>16b}')\n",
    "# Bin to hex\n",
    "print('Bin to hex')\n",
    "print(f'{bin_int:F>16X}')\n",
    "# Bin to dec\n",
    "print('Bin to dec')\n",
    "print(f'{bin_int:0>16d}')"
   ]
  },
  {
   "cell_type": "code",
   "execution_count": 222,
   "metadata": {},
   "outputs": [
    {
     "data": {
      "text/plain": [
       "'0b111 - 0b11110011 - 0b1'"
      ]
     },
     "execution_count": 222,
     "metadata": {},
     "output_type": "execute_result"
    }
   ],
   "source": [
    "7-243-1\n",
    "4-4-2\n",
    "\n",
    "f'{bin(7)} - {bin(243)} - {bin(1)}'\n",
    "#2.61.6"
   ]
  },
  {
   "cell_type": "code",
   "execution_count": 223,
   "metadata": {},
   "outputs": [
    {
     "name": "stdout",
     "output_type": "stream",
     "text": [
      "0b10101010100011\n",
      "7 - 243 - 1\n"
     ]
    }
   ],
   "source": [
    "print(bin(10915))\n",
    "a = '11111110011001'\n",
    "# = '00000011001101'\n",
    "print(int(a[-14:-11],2),'-',int(a[-11:-3],2),'-',int(a[-3:],2) )"
   ]
  },
  {
   "cell_type": "markdown",
   "metadata": {},
   "source": [
    "### SIM Decoders"
   ]
  },
  {
   "cell_type": "code",
   "execution_count": 492,
   "metadata": {},
   "outputs": [
    {
     "data": {
      "text/plain": [
       "'nor.net'"
      ]
     },
     "execution_count": 492,
     "metadata": {},
     "output_type": "execute_result"
    }
   ],
   "source": [
    "import codecs\n",
    "codecs.encode(b\"Smartel\", \"hex\").upper()\n",
    "spn = '547269706C6554656C' # 00547269706C6554656C9000 'TripleTel'\n",
    "spn = '476C6F62616C3153494D' # 02476C6F62616C3153499000 'Global1SIM'\n",
    "spn = '5469636F6D' # 005469636F6DFFFFFFFF9000 'Ticom'\n",
    "spn = '006E6F722E6E6574'\n",
    "spn = '524F414D4142494C49' # 2524F414D4142494C49\n",
    "spn = '6E6F722E6E6574'\n",
    "bytearray.fromhex(spn).decode()"
   ]
  },
  {
   "cell_type": "code",
   "execution_count": 66,
   "metadata": {},
   "outputs": [
    {
     "data": {
      "text/plain": [
       "'250021111111111'"
      ]
     },
     "execution_count": 66,
     "metadata": {},
     "output_type": "execute_result"
    }
   ],
   "source": [
    "# IMSI coding\n",
    "imsi = '2948310000209045'\n",
    "imsi = '4952106941005106'\n",
    "# imsi = '425010000000000'\n",
    "# imsi = '4952100000000000'\n",
    "# imsi = '234500000000000'\n",
    "imsi = '2905201111111111'\n",
    "def imsi_conv(imsi, code='code'):\n",
    "    \"\"\"Conver deconvert IMSI for perso. code='code' / 'decode'\"\"\"\n",
    "    if code=='code':\n",
    "        imsi = '9' + imsi\n",
    "        return ''.join([imsi[i] for i in [1, 0, 3, 2, 5, 4, 7, 6, 9, 8, 11, 10, 13, 12, 15, 14]])\n",
    "    elif code=='decode':\n",
    "        return ''.join([imsi[i] for i in [0, 3, 2, 5, 4, 7, 6, 9, 8, 11, 10, 13, 12, 15, 14]])\n",
    "\n",
    "imsi_conv(imsi, code='decode')"
   ]
  },
  {
   "cell_type": "code",
   "execution_count": null,
   "metadata": {},
   "outputs": [],
   "source": [
    "2943050000000000"
   ]
  },
  {
   "cell_type": "code",
   "execution_count": 489,
   "metadata": {},
   "outputs": [
    {
     "data": {
      "text/plain": [
       "'40090000E6F627E2E65647'"
      ]
     },
     "execution_count": 489,
     "metadata": {},
     "output_type": "execute_result"
    }
   ],
   "source": [
    "# ANY decoder\n",
    "value = '98791232039009010707' # ICCID Ticom 987912320390090107079000\n",
    "value = '07916437716243F0' # SPN Ticom 359999320001 FFFFFFFFFFFFFFFFFFFFFFFFFFFFFFFFFFFFFFFFFFFFFFFFE1FFFFFFFFFFFFFFFFFFFFFFFF0791539999230010FFFFFFFF0000A89000\n",
    "value = '049000006E6F722E6E6574'\n",
    "def any_decoder(value):\n",
    "    value_conv = ''\n",
    "    for i in range(1, len(value), 2):\n",
    "        value_conv += value[i: i + 1]\n",
    "        value_conv += value[i - 1: i]\n",
    "    return value_conv\n",
    "any_decoder(value)\n",
    "# 8997219121000046000\n",
    "# 89972123300990746000\n",
    "# 899721233009907460008997212330099074609F356239661D90F3D7"
   ]
  },
  {
   "cell_type": "markdown",
   "metadata": {},
   "source": [
    "## Testing"
   ]
  },
  {
   "cell_type": "code",
   "execution_count": 581,
   "metadata": {},
   "outputs": [
    {
     "name": "stdout",
     "output_type": "stream",
     "text": [
      "PDU SQN: 2\n"
     ]
    }
   ],
   "source": [
    "import smpplib\n",
    "import smpplib.gsm\n",
    "client = None\n",
    "#parts, encoding_flag, msg_type_flag = smpplib.gsm.make_parts(u'Hello world!')\n",
    "parts, encoding_flag, msg_type_flag = smpplib.gsm.make_parts(\"\"\"\n",
    "Test message.\n",
    "\"\"\")\n",
    "\n",
    "# client = smpplib.client.Client('172.18.11.20', 2770) # Prod\n",
    "client = smpplib.client.Client('172.18.11.90', 2770) # Lab\n",
    "\n",
    "client.connect()\n",
    "# client.bind_transceiver(system_id='test', password='test') # Prod\n",
    "client.bind_transceiver(system_id='test', password='ChangeMe') # Lab\n",
    "\n",
    "for part in parts:\n",
    "    pdu = client.send_message(\n",
    "        source_addr_ton=smpplib.consts.SMPP_TON_INTL,\n",
    "#         source_addr_npi=smpplib.consts.SMPP_NPI_ISDN,\n",
    "        # Make sure it is a byte string, not unicode:\n",
    "        source_addr='79217428080',\n",
    "#         source_addr='IsraelPostIsraelPost',\n",
    "        dest_addr_ton=smpplib.consts.SMPP_TON_INTL,\n",
    "        #dest_addr_npi=smpplib.consts.SMPP_NPI_ISDN,\n",
    "        # Make sure thease two params are byte strings, not unicode:\n",
    "#         destination_addr='972559300036',\n",
    "        destination_addr='79217428080',\n",
    "        short_message=part,\n",
    "        data_coding=encoding_flag,\n",
    "        esm_class=msg_type_flag,\n",
    "        registered_delivery=True,)\n",
    "    print(f'PDU SQN: {pdu.sequence}')\n",
    "client.unbind()\n",
    "client.unbind()\n",
    "client.disconnect()"
   ]
  },
  {
   "cell_type": "code",
   "execution_count": 547,
   "metadata": {},
   "outputs": [
    {
     "data": {
      "text/plain": [
       "20"
      ]
     },
     "execution_count": 547,
     "metadata": {},
     "output_type": "execute_result"
    }
   ],
   "source": [
    "len('IsraelPostIsraelPost')"
   ]
  },
  {
   "cell_type": "code",
   "execution_count": 747,
   "metadata": {},
   "outputs": [
    {
     "name": "stdout",
     "output_type": "stream",
     "text": [
      "200\n",
      "\"OK\"\n",
      "200\n",
      "\"OK\"\n",
      "200\n",
      "\"OK\"\n",
      "200\n",
      "\"OK\"\n"
     ]
    }
   ],
   "source": [
    "import requests\n",
    "ip_addr = '192.168.1.44'\n",
    "port = 80\n",
    "url_01 = f'http://{ip_addr}:{port}/climate;sensor=1&readattempt=10&temperature=25.0&humidity=35.0'\n",
    "url_02 = f'http://{ip_addr}:{port}/climate;sensor=4&readattempt=10&temperature=25.0&humidity=35.0'\n",
    "url_03 = f'http://{ip_addr}:{port}/gas;sensor=2&sensorValue=666'\n",
    "url_04 = f'http://{ip_addr}:{port}/motion;sensor=3'\n",
    "for url in [url_01, url_02, url_03, url_04]:\n",
    "    r = requests.get(url)\n",
    "    print(r.status_code)\n",
    "    print(r.text.strip())"
   ]
  },
  {
   "cell_type": "code",
   "execution_count": 578,
   "metadata": {},
   "outputs": [
    {
     "data": {
      "text/plain": [
       "0.01482529177284548"
      ]
     },
     "execution_count": 578,
     "metadata": {},
     "output_type": "execute_result"
    }
   ],
   "source": [
    "# Data\n",
    "sdrRate = 1.405533\n",
    "charge = 0.03440\n",
    "chargedUnits = 3386368\n",
    "unit = 1024 * 1014\n",
    "(charge * sdrRate / chargedUnits) * unit"
   ]
  },
  {
   "cell_type": "code",
   "execution_count": 458,
   "metadata": {},
   "outputs": [
    {
     "data": {
      "text/plain": [
       "0.23303069999999998"
      ]
     },
     "execution_count": 458,
     "metadata": {},
     "output_type": "execute_result"
    }
   ],
   "source": [
    "# Sms\n",
    "sdrRate = 1.37522\n",
    "charge = 0.16527\n",
    "chargedUnits = 1\n",
    "unit = 1\n",
    "(charge * sdrRate / chargedUnits) * unit"
   ]
  },
  {
   "cell_type": "code",
   "execution_count": 460,
   "metadata": {},
   "outputs": [
    {
     "data": {
      "text/plain": [
       "0.02243548901886792"
      ]
     },
     "execution_count": 460,
     "metadata": {},
     "output_type": "execute_result"
    }
   ],
   "source": [
    "# Voice\n",
    "sdrRate = 1.405533\n",
    "charge = 0.0282\n",
    "chargedUnits = 106\n",
    "unit = 60\n",
    "(charge * sdrRate / chargedUnits) * unit"
   ]
  },
  {
   "cell_type": "code",
   "execution_count": null,
   "metadata": {},
   "outputs": [],
   "source": []
  },
  {
   "cell_type": "code",
   "execution_count": null,
   "metadata": {},
   "outputs": [],
   "source": []
  },
  {
   "cell_type": "code",
   "execution_count": null,
   "metadata": {},
   "outputs": [],
   "source": []
  },
  {
   "cell_type": "code",
   "execution_count": 1027,
   "metadata": {},
   "outputs": [
    {
     "data": {
      "text/html": [
       "<div>\n",
       "<style scoped>\n",
       "    .dataframe tbody tr th:only-of-type {\n",
       "        vertical-align: middle;\n",
       "    }\n",
       "\n",
       "    .dataframe tbody tr th {\n",
       "        vertical-align: top;\n",
       "    }\n",
       "\n",
       "    .dataframe thead th {\n",
       "        text-align: right;\n",
       "    }\n",
       "</style>\n",
       "<table border=\"1\" class=\"dataframe\">\n",
       "  <thead>\n",
       "    <tr style=\"text-align: right;\">\n",
       "      <th></th>\n",
       "      <th>Name</th>\n",
       "      <th>Description</th>\n",
       "      <th>RangeStart</th>\n",
       "      <th>RangeEnd</th>\n",
       "      <th>Count</th>\n",
       "      <th>Country</th>\n",
       "      <th>Type</th>\n",
       "      <th>Customer</th>\n",
       "    </tr>\n",
       "  </thead>\n",
       "  <tbody>\n",
       "    <tr>\n",
       "      <td>0</td>\n",
       "      <td>X2one</td>\n",
       "      <td>X2One USA 200303 DrimSim</td>\n",
       "      <td>16282710001</td>\n",
       "      <td>16282710001</td>\n",
       "      <td>1</td>\n",
       "      <td>USA</td>\n",
       "      <td>NEW</td>\n",
       "      <td>DrimSim</td>\n",
       "    </tr>\n",
       "    <tr>\n",
       "      <td>1</td>\n",
       "      <td>X2one</td>\n",
       "      <td>X2One USA 200303 DrimSim</td>\n",
       "      <td>16282710002</td>\n",
       "      <td>16282710002</td>\n",
       "      <td>1</td>\n",
       "      <td>USA</td>\n",
       "      <td>NEW</td>\n",
       "      <td>DrimSim</td>\n",
       "    </tr>\n",
       "    <tr>\n",
       "      <td>2</td>\n",
       "      <td>X2one</td>\n",
       "      <td>X2One USA 200303 DrimSim</td>\n",
       "      <td>16282710003</td>\n",
       "      <td>16282710003</td>\n",
       "      <td>1</td>\n",
       "      <td>USA</td>\n",
       "      <td>NEW</td>\n",
       "      <td>DrimSim</td>\n",
       "    </tr>\n",
       "  </tbody>\n",
       "</table>\n",
       "</div>"
      ],
      "text/plain": [
       "    Name               Description   RangeStart     RangeEnd Count Country  \\\n",
       "0  X2one  X2One USA 200303 DrimSim  16282710001  16282710001     1     USA   \n",
       "1  X2one  X2One USA 200303 DrimSim  16282710002  16282710002     1     USA   \n",
       "2  X2one  X2One USA 200303 DrimSim  16282710003  16282710003     1     USA   \n",
       "\n",
       "  Type Customer  \n",
       "0  NEW  DrimSim  \n",
       "1  NEW  DrimSim  \n",
       "2  NEW  DrimSim  "
      ]
     },
     "execution_count": 1027,
     "metadata": {},
     "output_type": "execute_result"
    }
   ],
   "source": [
    "sql_srt=\"\"\"\n",
    "SELECT \n",
    "DISTINCT o.Name,did.Description,did.RangeStart, did.RangeEnd, did.Count\n",
    "FROM [dbo].[DIDRanges] did\n",
    "LEFT JOIN [dbo].[SponsorDIDRanges] sdid ON did.ID = sdid.DIDRangeID\n",
    "LEFT JOIN [dbo].[Sponsors] s ON sdid.SponsorID = s.ID\n",
    "LEFT JOIN [dbo].[Operators] o ON o.ID = s.OperatorID\n",
    "WHERE o.Name LIKE 'X2%';\"\"\"\n",
    "with rb.MssqlConnect('172.19.11.59', 'RoamDb', 'roamdb', 'roamdbpasswd') as cnxn:\n",
    "    df_did_rdb = pd.read_sql_query(sql_srt, cnxn, coerce_float=False)\n",
    "df_did_rdb[['RangeStart','RangeEnd']] = df_did_rdb[['RangeStart','RangeEnd']].astype('str')\n",
    "df_did_rdb.drop_duplicates(inplace=True)\n",
    "\n",
    "def f(x):\n",
    "    l = []\n",
    "    if 'UK' in x.Description:\n",
    "        l.append('UK')\n",
    "    elif 'USA' in x.Description:\n",
    "        l.append('USA')\n",
    "    else:\n",
    "        l.append('Unk')\n",
    "#     if '200311' in x.Description:\n",
    "#         l.append('NEW_200311')\n",
    "#     elif '200303' in x.Description:\n",
    "#         l.append('NEW_200303')\n",
    "#     else:\n",
    "#         l.append('OLD')\n",
    "    if '200311' in x.Description:\n",
    "        l.append('NEW')\n",
    "    elif '200303' in x.Description:\n",
    "        l.append('NEW')\n",
    "    else:\n",
    "        l.append('OLD')\n",
    "    if 'drimsim' in x.Description.lower():\n",
    "        l.append('DrimSim')\n",
    "    else:\n",
    "        l.append(x.Description.split(' ')[-1])\n",
    "    return l\n",
    "\n",
    "df_did_rdb[['Country', 'Type', 'Customer']] = DataFrame(df_did_rdb.apply(f, axis=1).tolist())\n",
    "df_did_rdb.head(3)"
   ]
  },
  {
   "cell_type": "code",
   "execution_count": 1028,
   "metadata": {},
   "outputs": [
    {
     "data": {
      "text/html": [
       "<div>\n",
       "<style scoped>\n",
       "    .dataframe tbody tr th:only-of-type {\n",
       "        vertical-align: middle;\n",
       "    }\n",
       "\n",
       "    .dataframe tbody tr th {\n",
       "        vertical-align: top;\n",
       "    }\n",
       "\n",
       "    .dataframe thead th {\n",
       "        text-align: right;\n",
       "    }\n",
       "</style>\n",
       "<table border=\"1\" class=\"dataframe\">\n",
       "  <thead>\n",
       "    <tr style=\"text-align: right;\">\n",
       "      <th></th>\n",
       "      <th>Name</th>\n",
       "      <th>Country</th>\n",
       "      <th>Customer</th>\n",
       "      <th>Type</th>\n",
       "      <th>Count</th>\n",
       "    </tr>\n",
       "  </thead>\n",
       "  <tbody>\n",
       "    <tr>\n",
       "      <td>0</td>\n",
       "      <td>X2one</td>\n",
       "      <td>USA</td>\n",
       "      <td>DrimSim</td>\n",
       "      <td>NEW</td>\n",
       "      <td>6000</td>\n",
       "    </tr>\n",
       "    <tr>\n",
       "      <td>1</td>\n",
       "      <td>X2one</td>\n",
       "      <td>USA</td>\n",
       "      <td>FREE</td>\n",
       "      <td>NEW</td>\n",
       "      <td>997</td>\n",
       "    </tr>\n",
       "    <tr>\n",
       "      <td>2</td>\n",
       "      <td>X2one</td>\n",
       "      <td>USA</td>\n",
       "      <td>OrangeTest</td>\n",
       "      <td>NEW</td>\n",
       "      <td>1</td>\n",
       "    </tr>\n",
       "    <tr>\n",
       "      <td>3</td>\n",
       "      <td>X2one</td>\n",
       "      <td>USA</td>\n",
       "      <td>Pavel</td>\n",
       "      <td>NEW</td>\n",
       "      <td>1</td>\n",
       "    </tr>\n",
       "    <tr>\n",
       "      <td>4</td>\n",
       "      <td>X2one</td>\n",
       "      <td>USA</td>\n",
       "      <td>test</td>\n",
       "      <td>NEW</td>\n",
       "      <td>1</td>\n",
       "    </tr>\n",
       "  </tbody>\n",
       "</table>\n",
       "</div>"
      ],
      "text/plain": [
       "    Name Country    Customer Type Count\n",
       "0  X2one     USA     DrimSim  NEW  6000\n",
       "1  X2one     USA        FREE  NEW   997\n",
       "2  X2one     USA  OrangeTest  NEW     1\n",
       "3  X2one     USA       Pavel  NEW     1\n",
       "4  X2one     USA        test  NEW     1"
      ]
     },
     "execution_count": 1028,
     "metadata": {},
     "output_type": "execute_result"
    }
   ],
   "source": [
    "df_did_rdb.groupby(['Name','Country','Customer','Type'], as_index=False)['Count'].sum().sort_values(by='Type')"
   ]
  },
  {
   "cell_type": "code",
   "execution_count": 1026,
   "metadata": {},
   "outputs": [
    {
     "data": {
      "text/html": [
       "<div>\n",
       "<style scoped>\n",
       "    .dataframe tbody tr th:only-of-type {\n",
       "        vertical-align: middle;\n",
       "    }\n",
       "\n",
       "    .dataframe tbody tr th {\n",
       "        vertical-align: top;\n",
       "    }\n",
       "\n",
       "    .dataframe thead th {\n",
       "        text-align: right;\n",
       "    }\n",
       "</style>\n",
       "<table border=\"1\" class=\"dataframe\">\n",
       "  <thead>\n",
       "    <tr style=\"text-align: right;\">\n",
       "      <th></th>\n",
       "      <th>Name</th>\n",
       "      <th>Description</th>\n",
       "      <th>RangeStart</th>\n",
       "      <th>RangeEnd</th>\n",
       "      <th>Count</th>\n",
       "      <th>Country</th>\n",
       "      <th>Type</th>\n",
       "      <th>Customer</th>\n",
       "    </tr>\n",
       "  </thead>\n",
       "  <tbody>\n",
       "    <tr>\n",
       "      <td>0</td>\n",
       "      <td>X2one</td>\n",
       "      <td>X2One USA 200303 1OT</td>\n",
       "      <td>16672506138</td>\n",
       "      <td>16672506138</td>\n",
       "      <td>1</td>\n",
       "      <td>USA</td>\n",
       "      <td>NEW</td>\n",
       "      <td>1OT</td>\n",
       "    </tr>\n",
       "  </tbody>\n",
       "</table>\n",
       "</div>"
      ],
      "text/plain": [
       "    Name           Description   RangeStart     RangeEnd Count Country Type  \\\n",
       "0  X2one  X2One USA 200303 1OT  16672506138  16672506138     1     USA  NEW   \n",
       "\n",
       "  Customer  \n",
       "0      1OT  "
      ]
     },
     "execution_count": 1026,
     "metadata": {},
     "output_type": "execute_result"
    }
   ],
   "source": [
    "df_did_rdb.loc[df_did_rdb.RangeStart == '16672506138']\n",
    "# df_did_rdb.loc[df_did_rdb.Customer == 'test']"
   ]
  },
  {
   "cell_type": "code",
   "execution_count": 987,
   "metadata": {},
   "outputs": [],
   "source": [
    "df_did_rdb.loc[df_did_rdb.Type == 'OLD',\n",
    "               ['Description','RangeStart','RangeEnd','Count']].to_csv(join(downloads, 'X2oneOldDid.csv'), index=False)"
   ]
  },
  {
   "cell_type": "code",
   "execution_count": 1022,
   "metadata": {},
   "outputs": [
    {
     "data": {
      "text/html": [
       "<div>\n",
       "<style scoped>\n",
       "    .dataframe tbody tr th:only-of-type {\n",
       "        vertical-align: middle;\n",
       "    }\n",
       "\n",
       "    .dataframe tbody tr th {\n",
       "        vertical-align: top;\n",
       "    }\n",
       "\n",
       "    .dataframe thead th {\n",
       "        text-align: right;\n",
       "    }\n",
       "</style>\n",
       "<table border=\"1\" class=\"dataframe\">\n",
       "  <thead>\n",
       "    <tr style=\"text-align: right;\">\n",
       "      <th></th>\n",
       "      <th>RangeStart</th>\n",
       "      <th>DS</th>\n",
       "    </tr>\n",
       "  </thead>\n",
       "  <tbody>\n",
       "    <tr>\n",
       "      <td>0</td>\n",
       "      <td>16282710001</td>\n",
       "      <td>YES</td>\n",
       "    </tr>\n",
       "    <tr>\n",
       "      <td>1</td>\n",
       "      <td>16282710002</td>\n",
       "      <td>YES</td>\n",
       "    </tr>\n",
       "    <tr>\n",
       "      <td>2</td>\n",
       "      <td>16282710003</td>\n",
       "      <td>YES</td>\n",
       "    </tr>\n",
       "    <tr>\n",
       "      <td>3</td>\n",
       "      <td>16282710004</td>\n",
       "      <td>YES</td>\n",
       "    </tr>\n",
       "    <tr>\n",
       "      <td>4</td>\n",
       "      <td>16282710005</td>\n",
       "      <td>YES</td>\n",
       "    </tr>\n",
       "  </tbody>\n",
       "</table>\n",
       "</div>"
      ],
      "text/plain": [
       "    RangeStart   DS\n",
       "0  16282710001  YES\n",
       "1  16282710002  YES\n",
       "2  16282710003  YES\n",
       "3  16282710004  YES\n",
       "4  16282710005  YES"
      ]
     },
     "execution_count": 1022,
     "metadata": {},
     "output_type": "execute_result"
    }
   ],
   "source": [
    "# df = pd.read_csv(join(downloads, 'Roamability_Drimsim_5K_replacement_200311.csv'),\n",
    "df = pd.read_csv(join(downloads, 'US_Order_1_1k.csv'),\n",
    "                 header=None, names=['RangeStart'], dtype='str')\n",
    "df['DS'] = 'YES'\n",
    "df.head()"
   ]
  },
  {
   "cell_type": "code",
   "execution_count": 1025,
   "metadata": {},
   "outputs": [
    {
     "data": {
      "text/html": [
       "<div>\n",
       "<style scoped>\n",
       "    .dataframe tbody tr th:only-of-type {\n",
       "        vertical-align: middle;\n",
       "    }\n",
       "\n",
       "    .dataframe tbody tr th {\n",
       "        vertical-align: top;\n",
       "    }\n",
       "\n",
       "    .dataframe thead th {\n",
       "        text-align: right;\n",
       "    }\n",
       "</style>\n",
       "<table border=\"1\" class=\"dataframe\">\n",
       "  <thead>\n",
       "    <tr style=\"text-align: right;\">\n",
       "      <th></th>\n",
       "      <th>Name</th>\n",
       "      <th>Description</th>\n",
       "      <th>RangeStart</th>\n",
       "      <th>RangeEnd</th>\n",
       "      <th>Count</th>\n",
       "      <th>Country</th>\n",
       "      <th>Type</th>\n",
       "      <th>Customer</th>\n",
       "      <th>DS</th>\n",
       "    </tr>\n",
       "  </thead>\n",
       "  <tbody>\n",
       "    <tr>\n",
       "      <td>999</td>\n",
       "      <td>NaN</td>\n",
       "      <td>NaN</td>\n",
       "      <td>16672506138</td>\n",
       "      <td>NaN</td>\n",
       "      <td>NaN</td>\n",
       "      <td>NaN</td>\n",
       "      <td>NaN</td>\n",
       "      <td>NaN</td>\n",
       "      <td>YES</td>\n",
       "    </tr>\n",
       "  </tbody>\n",
       "</table>\n",
       "</div>"
      ],
      "text/plain": [
       "    Name Description   RangeStart RangeEnd Count Country Type Customer   DS\n",
       "999  NaN         NaN  16672506138      NaN   NaN     NaN  NaN      NaN  YES"
      ]
     },
     "execution_count": 1025,
     "metadata": {},
     "output_type": "execute_result"
    }
   ],
   "source": [
    "df1 = pd.merge(df_did_rdb.loc[df_did_rdb.Customer == 'DrimSim'], df, how='right', on='RangeStart')\n",
    "df1.count()\n",
    "df1.loc[df1.Customer.isna()]"
   ]
  },
  {
   "cell_type": "code",
   "execution_count": 434,
   "metadata": {},
   "outputs": [
    {
     "name": "stdout",
     "output_type": "stream",
     "text": [
      "02700000160D0001000020603D79FB432EAE63F082E734F3B46085\n"
     ]
    }
   ],
   "source": [
    "ota_payload = '20603D79FB432EAE63F082E734F3B46085'\n",
    "l = len(ota_payload)/2\n",
    "as_rp = '0D0001'\n",
    "as_mo = '0D0021'\n",
    "sms_payload = f'02700000{int(l+5):X}{as_rp}0000{ota_payload}'\n",
    "print(sms_payload)"
   ]
  },
  {
   "cell_type": "code",
   "execution_count": 487,
   "metadata": {},
   "outputs": [
    {
     "data": {
      "text/plain": [
       "'4155A1741F3A507AC4CFC395C16D9795'"
      ]
     },
     "execution_count": 487,
     "metadata": {},
     "output_type": "execute_result"
    }
   ],
   "source": [
    "from Crypto.Cipher import DES3\n",
    "from Crypto.Random import get_random_bytes\n",
    "# Avoid Option 3\n",
    "while True:\n",
    "    try:\n",
    "        key = DES3.adjust_key_parity(get_random_bytes(24))\n",
    "        break\n",
    "    except ValueError:\n",
    "        pass\n",
    "\n",
    "hex_str = 'D0AEE50D70087C19D773696FE698C78832432DF14F2487D1'\n",
    "key = bytes.fromhex(hex_str)    \n",
    "\n",
    "cipher = DES3.new(key, DES3.MODE_CBC)\n",
    "# plaintext = b'We are no longer the knights who say ni!'\n",
    "plaintext = bytes.fromhex('4E3F0E5A000000010018BC') \n",
    "plaintext = bytes.fromhex('4E3F0E5A00000001') \n",
    "msg = cipher.iv + cipher.encrypt(plaintext)\n",
    "s=''\n",
    "for b in msg:\n",
    "    s+=f'{b:X}'\n",
    "s\n",
    "# 20603D79FB432EAE63F082E734F3B46085"
   ]
  },
  {
   "cell_type": "code",
   "execution_count": null,
   "metadata": {},
   "outputs": [],
   "source": []
  },
  {
   "cell_type": "markdown",
   "metadata": {},
   "source": [
    "### OTA messages"
   ]
  },
  {
   "cell_type": "code",
   "execution_count": 183,
   "metadata": {},
   "outputs": [
    {
     "name": "stdout",
     "output_type": "stream",
     "text": [
      "The original plaintext: 00A4000C023F0000A4000C027F2000A4000C026F4600B0000011\n",
      "Plaintext 8 byte part 1: 00A4000C023F0000\n",
      "Plaintext 8 byte part 2: A4000C027F2000A4\n",
      "Plaintext 8 byte part 3: 000C026F4600B000\n",
      "Plaintext 8 byte part 4: 0011000000000000\n",
      "Encrypted:        DE3D6717AC48A02B2C4BCF92B8FCFE28F97879F2E11970CCABED9F711D4A94\n",
      "Original example: 2028D0FC11B4CD2E540704D7775B065DA8\n"
     ]
    }
   ],
   "source": [
    "# Encrypt plaintext to OTA payload\n",
    "\n",
    "import math\n",
    "from Crypto.Cipher import DES3\n",
    "\n",
    "# Roamability Test keys example\n",
    "\n",
    "key_hex_str = 'D0AEE50D70087C19D773696FE698C78832432DF14F2487D1'\n",
    "key = bytes.fromhex(key_hex_str)\n",
    "\n",
    "# Plaintext\n",
    "\n",
    "plaintext = '00A4000C023F0000A4000C027F2000A4000C026F4600B0000011'\n",
    "print(f'The original plaintext: {plaintext}')\n",
    "\n",
    "# Split plaintext into 8 byte parts for DES3 CBC encryption\n",
    "\n",
    "byte_array_list = []\n",
    "for i in range(1, math.ceil(len(plaintext)/16)+1):\n",
    "    hex_str = f'{plaintext[(i-1)*16:i*16]:0<16}'\n",
    "    print(f'Plaintext 8 byte part {i}: {hex_str}')\n",
    "    byte_array = bytes.fromhex(hex_str)\n",
    "    byte_array_list.append(byte_array)\n",
    "\n",
    "# Create cipher\n",
    "\n",
    "cipher = DES3.new(key, DES3.MODE_CBC)\n",
    "\n",
    "# Encrypt 8 byte parts\n",
    "\n",
    "cipher_str = ''\n",
    "for byte_array in byte_array_list:\n",
    "    msg = cipher.encrypt(byte_array_list[0])\n",
    "    for b in msg:\n",
    "        cipher_str += f'{b:X}'\n",
    "print(f'Encrypted:        {cipher_str}')\n",
    "print('Original example: 2028D0FC11B4CD2E540704D7775B065DA8')"
   ]
  },
  {
   "cell_type": "code",
   "execution_count": 675,
   "metadata": {},
   "outputs": [
    {
     "name": "stdout",
     "output_type": "stream",
     "text": [
      "0x95\n"
     ]
    }
   ],
   "source": [
    "checksum = 0\n",
    "packet = bytes.fromhex('2028D0FC11B4CD2E540704D7775B065D')\n",
    "for el in packet:\n",
    "    checksum ^= el\n",
    "\n",
    "print(hex(checksum))"
   ]
  },
  {
   "cell_type": "code",
   "execution_count": 685,
   "metadata": {},
   "outputs": [
    {
     "name": "stdout",
     "output_type": "stream",
     "text": [
      "02700000280D00010000BFFF0100000000008010000016FBF7FF7F1F0E0FCB4100001FE3869804070000000000\n"
     ]
    }
   ],
   "source": [
    "# Make payload for SMS\n",
    "ota_payload = '8010000016FBF7FF7F1F0E0FCB4100001FE3869804070000000000'\n",
    "\n",
    "as_rp = '0D0001'\n",
    "as_mo = '0D0021'\n",
    "header = '0000BFFF010000000000'\n",
    "l = (len(ota_payload) + len(as_rp) + len(header))/2\n",
    "sms_payload = f'02700000{int(l):X}{as_rp}0000BFFF010000000000{ota_payload}'\n",
    "print(sms_payload)"
   ]
  },
  {
   "cell_type": "code",
   "execution_count": 185,
   "metadata": {},
   "outputs": [
    {
     "data": {
      "text/plain": [
       "b\"X{BK\\xc3n\\xf1P\\x92\\xe8\\xa7\\x02\\x7f\\xacM\\x80\\x85\\x9b'\\x84\\xcc\\x88\\x10-\\xbfM\\xd8\\xd9:J\\xb1\\x86\\xa2?V\\x99\\x94\\xebb2\\x90c\\x0b\\xe6\\x8e@\\xde\\xe1\""
      ]
     },
     "execution_count": 185,
     "metadata": {},
     "output_type": "execute_result"
    }
   ],
   "source": [
    "from Crypto.Cipher import DES3\n",
    "from Crypto.Random import get_random_bytes\n",
    "# Avoid Option 3\n",
    "while True:\n",
    "    try:\n",
    "        key = DES3.adjust_key_parity(get_random_bytes(24))\n",
    "        break\n",
    "    except ValueError:\n",
    "        pass\n",
    "\n",
    "cipher = DES3.new(key, DES3.MODE_CFB)\n",
    "plaintext = b'We are no longer the knights who say ni!'\n",
    "msg = cipher.iv + cipher.encrypt(plaintext)\n",
    "msg"
   ]
  },
  {
   "cell_type": "code",
   "execution_count": 195,
   "metadata": {},
   "outputs": [
    {
     "data": {
      "text/plain": [
       "b'\\x95v\\x14-[\\x89\\xb2uW\\x8b\\xc6\\xf1\\xe9-\\xdbB\\nB\\x8bu\\xbe\\x1b5\\x17\\xac0\\xd0\\xfd+\\x7f\\xae\\x1eF\\x8f\\xc6\\xc3\\x89}\\xcdd'"
      ]
     },
     "execution_count": 195,
     "metadata": {},
     "output_type": "execute_result"
    }
   ],
   "source": [
    "cipher = DES3.new(key, DES3.MODE_CBC)\n",
    "cipher.encrypt(plaintext)"
   ]
  },
  {
   "cell_type": "markdown",
   "metadata": {},
   "source": [
    "### Developments"
   ]
  },
  {
   "cell_type": "code",
   "execution_count": 444,
   "metadata": {},
   "outputs": [
    {
     "name": "stdout",
     "output_type": "stream",
     "text": [
      "Hex to dec\n",
      "0000000000000250\n",
      "Hex to bin\n",
      "0000000011111010\n",
      "Dec to hex\n",
      "FFFFFFFFFFFFFF82\n",
      "Dec to bin\n",
      "0000000010000010\n",
      "Bin to hex\n",
      "FFFFFFFFFFFFFFF4\n",
      "Bin to dec\n",
      "0000000000000004\n"
     ]
    }
   ],
   "source": [
    "hex_int = 0xFA\n",
    "dec_int = 130\n",
    "bin_int = 0b100\n",
    "# Hex to dec\n",
    "print('Hex to dec')\n",
    "print(f'{hex_int:0>16d}')\n",
    "# Hex to bin\n",
    "print('Hex to bin')\n",
    "print(f'{hex_int:0>16b}')\n",
    "# Dec to hex\n",
    "print('Dec to hex')\n",
    "print(f'{dec_int:F>16X}')\n",
    "# Dec to bin\n",
    "print('Dec to bin')\n",
    "print(f'{dec_int:0>16b}')\n",
    "# Bin to hex\n",
    "print('Bin to hex')\n",
    "print(f'{bin_int:F>16X}')\n",
    "# Bin to dec\n",
    "print('Bin to dec')\n",
    "print(f'{bin_int:0>16d}')"
   ]
  },
  {
   "cell_type": "code",
   "execution_count": 318,
   "metadata": {},
   "outputs": [
    {
     "data": {
      "text/plain": [
       "96"
      ]
     },
     "execution_count": 318,
     "metadata": {},
     "output_type": "execute_result"
    }
   ],
   "source": [
    "32 * 3"
   ]
  },
  {
   "cell_type": "code",
   "execution_count": 503,
   "metadata": {},
   "outputs": [
    {
     "name": "stdout",
     "output_type": "stream",
     "text": [
      "Dec to hex\n",
      "50 -> 0x32\n"
     ]
    }
   ],
   "source": [
    "l = len('42F004C08042F020C00042F070C00042F010C00042F042C0C042F030C08042F070008042F01000C0FFFFFF0000FFFFFF0000') / 2\n",
    "print('Dec to hex')\n",
    "print(f'{int(l)} -> 0x{int(l):X}')"
   ]
  },
  {
   "cell_type": "code",
   "execution_count": 507,
   "metadata": {},
   "outputs": [
    {
     "name": "stdout",
     "output_type": "stream",
     "text": [
      "D151820283810604019999998B454006018888887FF6027020222311303502700000301516011919B00011552C28B7600480D033560878295AF47B5C12A17A00739B60A3CBA0584FB50361B96C38B747F01317\n",
      "send_apdu -APDU A0C2000053D151820283810604019999998B454006018888887FF6027020222311303502700000301516011919B00011552C28B7600480D033560878295AF47B5C12A17A00739B60A3CBA0584FB50361B96C38B747F01317\n"
     ]
    }
   ],
   "source": [
    "ota_env =\\\n",
    "\"\"\"\n",
    "D1 51 82 02  83 81 06 04   01 99 99 99  8B 45 40 06   \n",
    "01 88 88 88  7F F6 02 70   20 22 23 11  30 35 02 70   \n",
    "00 00 30 15  16 01 19 19   B0 00 11 55  2C 28 B7 60   \n",
    "04 80 D0 33  56 08 78 29   5A F4 7B 5C  12 A1 7A 00   \n",
    "73 9B 60 A3  CB A0 58 4F   B5 03 61 B9  6C 38 B7 47   \n",
    "F0 13 17 \n",
    "\"\"\"\n",
    "\n",
    "def ota_cmd(ota_env):\n",
    "    ota_env = ota_env.replace(' ', '').replace('\\n', '')\n",
    "    print(f'{ota_env}')\n",
    "    print(f'send_apdu -APDU A0C20000{int(len(ota_env)/2):X}{ota_env}')\n",
    "\n",
    "ota_cmd(ota_env)"
   ]
  },
  {
   "cell_type": "code",
   "execution_count": 511,
   "metadata": {},
   "outputs": [
    {
     "data": {
      "text/plain": [
       "False"
      ]
     },
     "execution_count": 511,
     "metadata": {},
     "output_type": "execute_result"
    }
   ],
   "source": [
    "s1 = 'D151820283810604918888888B454006919999997FF6027020222311303502700000301516011919B000114C98D1706B7EAF49335514A6463B8939518A4CB6689E09C0A90861AF60EB0060AE93927804C6E810'\n",
    "s2 = 'D151820283818604918888888B454006919999997FF6000000000000003502700000301516011919B000114C98D1706B7EAF49335514A6463B8939518A4CB6689E09C0A90861AF60EB0060AE93927804C6E810'\n",
    "s1 == s2"
   ]
  },
  {
   "cell_type": "code",
   "execution_count": 392,
   "metadata": {},
   "outputs": [
    {
     "data": {
      "text/plain": [
       "8.000940322875977"
      ]
     },
     "execution_count": 392,
     "metadata": {},
     "output_type": "execute_result"
    }
   ],
   "source": [
    "data_size = 8389594\n",
    "time = 1\n",
    "(data_size / time) / (1024 * 1024)"
   ]
  },
  {
   "cell_type": "code",
   "execution_count": null,
   "metadata": {},
   "outputs": [],
   "source": []
  },
  {
   "cell_type": "code",
   "execution_count": null,
   "metadata": {},
   "outputs": [],
   "source": []
  },
  {
   "cell_type": "code",
   "execution_count": null,
   "metadata": {},
   "outputs": [],
   "source": []
  },
  {
   "cell_type": "code",
   "execution_count": 478,
   "metadata": {},
   "outputs": [
    {
     "name": "stdout",
     "output_type": "stream",
     "text": [
      "Applet enabling flag: Activate\n",
      "Mode: Events & Timer mode\n",
      "Default IMSI: IMSI1\n",
      "Polling period: 30 sec.\n",
      "Features activation flags: 0000000000010000\n",
      "Scan delay timer: 3 sec.\n"
     ]
    }
   ],
   "source": [
    "config = '010301001E001000000003000305010202000000'\n",
    "config = '010301001E001000000003000305010202000000'\n",
    "# 00077FF62902710000240ABFFF01000000000000000000005B00000300001E001400000003000305010201000000\n",
    "# config = '010301001E011400000003000305010200000000' # default profile order  01 00\n",
    "# config = '010300001E011400000003000305010201000000' # order 00 01\n",
    "\n",
    "applet_enabling_flag = config[0:2]\n",
    "applet_enabling_flag_dict = {'01':'Activate','00':'Deactivate'}\n",
    "\n",
    "mode = config[2:4]\n",
    "mode_dict = {'01':'Events only mode','02':'Timer only mode','03':'Events & Timer mode'}\n",
    "\n",
    "default_imsi = config[4:6]\n",
    "default_imsi_dict = {'00':'IMSI0','01':'IMSI1','02':'IMSI2','03':'IMSI3','04':'IMSI4','05':'IMSI5'}\n",
    "\n",
    "polling_period = config[6:10]\n",
    "\n",
    "features_activation_flags = config[10:14]\n",
    "\n",
    "scan_delay_timer = config[22:26]\n",
    "\n",
    "print(f'Applet enabling flag: {applet_enabling_flag_dict[applet_enabling_flag]}')\n",
    "print(f'Mode: {mode_dict[mode]}')\n",
    "print(f'Default IMSI: {default_imsi_dict[default_imsi]}')\n",
    "print(f'Polling period: {int(polling_period, 16)} sec.')\n",
    "print(f'Features activation flags: {int(features_activation_flags, 16):0>16b}')\n",
    "# Features activation flags 1(1 Enable, 0 Disable):\n",
    "# b1:Start with Primary (После рестарта UE будет выбран профайл 0).\n",
    "# b2:Reset Loci, PS Loci (обнуление TIMSI).\n",
    "# b3:RB_MODE (В HOME MCC будут перебираться IMSI спонсора).\n",
    "# b4 Skip Primary IMSI in roaming: (Исключение Home IMSI в роуминге).\n",
    "# b5:\n",
    "# b6-b16: RFU\n",
    "print(f'Scan delay timer: {int(scan_delay_timer, 16)} sec.')\n"
   ]
  },
  {
   "cell_type": "code",
   "execution_count": 509,
   "metadata": {},
   "outputs": [
    {
     "data": {
      "text/plain": [
       "<?xml version=\"1.0\" encoding=\"utf-8\"?>\n",
       "<response>\n",
       "<result>0</result><response>40077FF64502710000400AB000110000000009000004900042F004C08042F020C00042F070C00042F010C00042F042C0C042F030C08042F070008042F01000C0FFFFFF0000FFFFFF0000</response>\n",
       "<src_gt>46705009041</src_gt>\n",
       "</response>"
      ]
     },
     "execution_count": 509,
     "metadata": {},
     "output_type": "execute_result"
    }
   ],
   "source": [
    "'027000001F0D00010000BFFF01000000000000102F978372C730834EF445172BD26B8C8F' # get_info\n",
    "'027000001F0D00210000BFFF01000000000000102F978372C730834EF445172BD26B8C8F' # get_info_mo\n",
    "'027000001F0D00010000BFFF0100000000000010733FE1C20ECA937911B9067460AA6612' # get_config\n",
    "'027000001F0D00210000BFFF0100000000000010733FE1C20ECA937911B9067460AA6612' # get_config_mo\n",
    "get_config = '027000001F0D00010000BFFF0100000000000010733FE1C20ECA937911B9067460AA6612'\n",
    "\n",
    "get_EFHPPLMN = '02700000301516011919B00011552C28B7600480D033560878295AF47B5C12A17A00739B60A3CBA0584FB50361B96C38B747F01317'\n",
    "\n",
    "# soup = BeautifulSoup(rb.sendSMS('97254120624', '425019628115014', '46705012099', get_EFHPPLMN),'xml')\n",
    "soup = BeautifulSoup(rb.sendSMS('97254120624', '425019613000536', '79219600300', get_EFHPPLMN),'xml')\n",
    "soup"
   ]
  },
  {
   "cell_type": "code",
   "execution_count": null,
   "metadata": {},
   "outputs": [],
   "source": []
  },
  {
   "cell_type": "code",
   "execution_count": null,
   "metadata": {},
   "outputs": [],
   "source": []
  },
  {
   "cell_type": "code",
   "execution_count": null,
   "metadata": {},
   "outputs": [],
   "source": []
  },
  {
   "cell_type": "code",
   "execution_count": null,
   "metadata": {},
   "outputs": [],
   "source": []
  },
  {
   "cell_type": "code",
   "execution_count": null,
   "metadata": {},
   "outputs": [],
   "source": [
    "%reset -f"
   ]
  }
 ],
 "metadata": {
  "kernelspec": {
   "display_name": "Python 3",
   "language": "python",
   "name": "python3"
  },
  "language_info": {
   "codemirror_mode": {
    "name": "ipython",
    "version": 3
   },
   "file_extension": ".py",
   "mimetype": "text/x-python",
   "name": "python",
   "nbconvert_exporter": "python",
   "pygments_lexer": "ipython3",
   "version": "3.6.9"
  }
 },
 "nbformat": 4,
 "nbformat_minor": 2
}
