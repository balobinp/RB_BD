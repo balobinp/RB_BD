{
 "cells": [
  {
   "cell_type": "code",
   "execution_count": null,
   "metadata": {},
   "outputs": [],
   "source": [
    "from IPython.display import HTML\n",
    "HTML('''<script>\n",
    "code_show=true; \n",
    "function code_toggle() {\n",
    " if (code_show){\n",
    " $('div.input').hide();\n",
    " } else {\n",
    " $('div.input').show();\n",
    " }\n",
    " code_show = !code_show\n",
    "} \n",
    "$( document ).ready(code_toggle);\n",
    "</script>\n",
    "<form action=\"javascript:code_toggle()\"><input type=\"submit\" value=\"Click here to toggle on/off the raw code.\"></form>''')"
   ]
  },
  {
   "cell_type": "markdown",
   "metadata": {},
   "source": [
    "# Libraries and functions"
   ]
  },
  {
   "cell_type": "code",
   "execution_count": 1,
   "metadata": {},
   "outputs": [],
   "source": [
    "import numpy as np\n",
    "import pandas as pd\n",
    "import pandasql as ps\n",
    "from pandas import Series, DataFrame\n",
    "import datetime as dt\n",
    "import matplotlib.pyplot as plt\n",
    "import matplotlib as mpl\n",
    "import sys\n",
    "import time\n",
    "import math\n",
    "from tqdm import tqdm\n",
    "from importlib import reload\n",
    "from os.path import join, normpath\n",
    "from bs4 import BeautifulSoup\n",
    "import os\n",
    "\n",
    "downloads = 'C:/Users/balob/Downloads'"
   ]
  },
  {
   "cell_type": "markdown",
   "metadata": {},
   "source": [
    "#### To get the path"
   ]
  },
  {
   "cell_type": "code",
   "execution_count": 3,
   "metadata": {},
   "outputs": [
    {
     "name": "stdout",
     "output_type": "stream",
     "text": [
      "C:\\Users\\balob\\Documents\\GITLAB\\RB_BD\n"
     ]
    },
    {
     "data": {
      "text/plain": [
       "WindowsPath('C:/Users/balob/Documents/GITLAB/RB_BD')"
      ]
     },
     "execution_count": 3,
     "metadata": {},
     "output_type": "execute_result"
    }
   ],
   "source": [
    "from pathlib import Path\n",
    "path_dir = Path.cwd()\n",
    "print(path_dir)\n",
    "path_dir"
   ]
  },
  {
   "cell_type": "code",
   "execution_count": 2,
   "metadata": {},
   "outputs": [
    {
     "data": {
      "text/plain": [
       "'c:/Users/balob/Documents/GITLAB/NOC_Roamability_com'"
      ]
     },
     "execution_count": 2,
     "metadata": {},
     "output_type": "execute_result"
    }
   ],
   "source": [
    "pwd=!echo %cd%\n",
    "pwd=str(pwd)\n",
    "pwd=r\"c:\\Users\\balob\\Documents\\GITLAB\\NOC_Roamability_com\"\n",
    "pwd.replace('\\\\','/',100)"
   ]
  },
  {
   "cell_type": "code",
   "execution_count": null,
   "metadata": {},
   "outputs": [],
   "source": [
    "%reset -f"
   ]
  },
  {
   "cell_type": "markdown",
   "metadata": {},
   "source": [
    "# Examples"
   ]
  },
  {
   "cell_type": "markdown",
   "metadata": {},
   "source": [
    "### Fetch data from MS SQL DB"
   ]
  },
  {
   "cell_type": "code",
   "execution_count": null,
   "metadata": {},
   "outputs": [],
   "source": [
    "#Из базы данных OCS выгружаем TADIG\n",
    "\n",
    "import pandas as pd\n",
    "import pyodbc \n",
    "#Connect to OCSDBREP1 (BSS)\n",
    "cnxn = pyodbc.connect('DRIVER={SQL Server};SERVER=172.18.11.82;DATABASE=10028;UID=BSS;PWD=iKQVm40AZAmyRaw72LeY')\n",
    "\n",
    "sql_srt=\\\n",
    "'''\n",
    "SELECT DISTINCT mcc.mcc,c.country_name FROM RDB_NETWORK_IMSI_PREFIXES mcc\n",
    "LEFT JOIN RDB_NETWORKS net\n",
    "ON mcc.NETWORK_ID=net.NETWORK_ID\n",
    "LEFT JOIN RDB_COUNTRIES c\n",
    "ON c.country_id=net.country_id\n",
    "'''\n",
    "\n",
    "df_tadig = pd.read_sql_query(sql_srt, cnxn, coerce_float=False)\n",
    "#df_tadig['TADIG_CODE_ID']=df_tadig['TADIG_CODE_ID'].astype('int')\n",
    "#df_tadig['NETWORK_ID']=df_tadig['NETWORK_ID'].astype('int')\n",
    "cnxn.close()"
   ]
  },
  {
   "cell_type": "markdown",
   "metadata": {},
   "source": [
    "### Fetch data from Maria DB"
   ]
  },
  {
   "cell_type": "code",
   "execution_count": null,
   "metadata": {},
   "outputs": [],
   "source": [
    "import mysql.connector #pip install mysql-connector-python-rf\n",
    "import pandas as pd\n",
    "\n",
    "cnxn = mysql.connector.connect(user='noc', password='WcQUzkXiXwoxnFfGnRxb',host='172.18.11.40',database='BSS')\n",
    "\n",
    "sql_srt=\\\n",
    "'''\n",
    "SELECT\n",
    "VisitedNetworkTadig\n",
    ",CostTariffId\n",
    ",MIN((Cost*1024*1024)/TotalChargedUnits) AS Price_min\n",
    ",AVG((Cost*1024*1024)/TotalChargedUnits) AS Price_avg\n",
    ",STDDEV_SAMP((Cost*1024*1024)/TotalChargedUnits) AS Price_std\n",
    ",MAX((Cost*1024*1024)/TotalChargedUnits) AS Price_max\n",
    "FROM TAP.GPRS_CALL\n",
    "WHERE\n",
    "TreatedTimestampUtc > 20180810000000\n",
    "AND VisitedNetworkTadig = 'BHSBH'\n",
    "GROUP BY VisitedNetworkTadig,CostTariffId\n",
    "'''\n",
    "\n",
    "df_mariadb = pd.read_sql_query(sql_srt, cnxn)\n",
    "\n",
    "cnxn.close()\n",
    "df_mariadb.head()"
   ]
  },
  {
   "cell_type": "markdown",
   "metadata": {},
   "source": [
    "### Soap API OCS Portal"
   ]
  },
  {
   "cell_type": "code",
   "execution_count": 184,
   "metadata": {},
   "outputs": [
    {
     "name": "stdout",
     "output_type": "stream",
     "text": [
      "You are connected to Reseller: WMB Limited RT.    \n",
      "Available credit for the Reseller: 291 USD.\n",
      "\n",
      "The Reseller contains the following accounts:\n",
      " 0    WM&B Limited Test SIM (accountID: 352496)\n",
      " 1    WMB 5K Simcards order (accountID: 352537)\n",
      " 2    Hoang Tran (accountID: 352541)\n",
      " 3    Test1 (accountID: 352542)\n",
      " 4    Test2 (accountID: 352543)\n"
     ]
    }
   ],
   "source": [
    "#%reset -f\n",
    "from zeep import Client\n",
    "from zeep.wsse.username import UsernameToken\n",
    "\n",
    "connect = 'prod' #'prod' or 'lab'\n",
    "\n",
    "if connect == 'lab':\n",
    "    user = 'lab_api@roamability.com'\n",
    "    password = '25D55AD283AA400AF464C76D713C07AD' #Lab\n",
    "    #api_link = 'https://172.20.39.7:8585/ocsapi/roamability/api/roamability.wsdl' #Lab\n",
    "    api_link = 'https://labocsapi.roamability.com:6443/ocsapi/roamability/api/roamability.wsdl'\n",
    "elif connect == 'prod':\n",
    "    user = 'prod_api@roamability.com'\n",
    "    password = '25D55AD283AA400AF464C76D713C07AD'\n",
    "    api_link = 'http://172.20.35.12:8585/ocsapi/roamability/api/roamability.wsdl'\n",
    "\n",
    "user_name_token = UsernameToken(user, password)\n",
    "user_name_token.use_digest = True\n",
    "client = Client(api_link, wsse=user_name_token)\n",
    "\n",
    "reseller = client.service.getResellerInfo()\n",
    "accounts = client.service.getAccounts()\n",
    "\n",
    "if reseller.result.code == '1':\n",
    "    print('You are connected to Reseller: {}.\\\n",
    "    \\nAvailable credit for the Reseller: {:.0f} USD.\\n'.\\\n",
    "    format(reseller.reseller.resellerName,reseller.reseller.availableCredit))\n",
    "else:\n",
    "    print('Error in getting Reseller info: {}'.format(reseller.result.description))\n",
    "\n",
    "if accounts.result.code == '1':\n",
    "    accounts_dict = {account.accountId:account.accountName for account in accounts.accounts.accounts}\n",
    "    print('The Reseller contains the following accounts:')\n",
    "    for i,[account_id,account_name] in enumerate(accounts_dict.items()):\n",
    "        print(' {:<5}{} (accountID: {})'.format(i,account_name,account_id))\n",
    "else:\n",
    "    print('Error in getting Account info: {}'.format(accounts.result.description))\n",
    "    \n",
    "# Subscriber in lab in STI account\n",
    "#subscriber_id = client.service.getSubscriberById('934311')\n",
    "#subscriber_iccid = client.service.getSubscriberByICCID('8997219121000031446')\n",
    "#subscriber_id"
   ]
  },
  {
   "cell_type": "code",
   "execution_count": 155,
   "metadata": {},
   "outputs": [
    {
     "data": {
      "text/plain": [
       "{\n",
       "    'result': {\n",
       "        'code': '6',\n",
       "        'description': 'Internal error',\n",
       "        'errorUUID': 'cb1fa827-c1b7-4456-8388-888b6174f946'\n",
       "    },\n",
       "    'subscriber': None\n",
       "}"
      ]
     },
     "execution_count": 155,
     "metadata": {},
     "output_type": "execute_result"
    }
   ],
   "source": [
    "subscriber_imsi = client.service.getSubscriberByIMSI('425019613026594')\n",
    "subscriber_imsi"
   ]
  },
  {
   "cell_type": "markdown",
   "metadata": {},
   "source": [
    "### Testing DMI Steering API"
   ]
  },
  {
   "cell_type": "code",
   "execution_count": null,
   "metadata": {},
   "outputs": [],
   "source": [
    "import requests\n",
    "from pandas import DataFrame\n",
    "from bs4 import BeautifulSoup\n",
    "url = 'http://roamdb.roamability.com/SteeringAPI/Test'\n",
    "payload = {'SponsorIMSI':'425019613990511',\n",
    "           'RealIMSI':'425019613990511',\n",
    "           'Mcc':'262',\n",
    "           'SessionID':'1234567'}\n",
    "response = requests.post(url,payload)\n",
    "soup = BeautifulSoup(response.text, 'xml')\n",
    "net_list = []\n",
    "for net in soup.find_all('Network'):\n",
    "    net_list.append([net.Rank.text,net.Mcc.text,net.Mnc.text,net.Name.text,net.Support4G.text,net.Discounted.text,net.Cost.text])\n",
    "DataFrame(net_list,columns=['Rank','MCC','MNC','Operator_name','4G_Support','Discounted','Cost'])"
   ]
  },
  {
   "cell_type": "markdown",
   "metadata": {},
   "source": [
    "### Send MSU"
   ]
  },
  {
   "cell_type": "code",
   "execution_count": 179,
   "metadata": {},
   "outputs": [
    {
     "name": "stdout",
     "output_type": "stream",
     "text": [
      "Greetings from Roamability!\n",
      "<?xml version=\"1.0\" encoding=\"utf-8\"?>\n",
      "<response>\n",
      "<result>-1</result>\n",
      "<error>timeout</error>\n",
      "<src_gt/>\n",
      "</response> \n",
      "\n",
      "No info in response.\n"
     ]
    }
   ],
   "source": [
    "from bs4 import BeautifulSoup\n",
    "import roamability as rb\n",
    "reload(rb)\n",
    "\n",
    "ogt = {'p4':'48790993070',\n",
    "       'partner':'97254120624',\n",
    "       'sure':'447797706411',\n",
    "       'tot':'66893773228'}\n",
    "\n",
    "rb.test_func()\n",
    "rb.print_imsi_prof('48790993070', '260060149000585', '79112009610', 'as_resp')\n",
    "\n",
    "#soup = BeautifulSoup(rb.sri4sm(ogt, msisdn),'xml')\n",
    "#soup = BeautifulSoup(rb.prn(ogt, dgt, imsi),'xml')\n",
    "#soup = BeautifulSoup(rb.sai(ogt, dgt, imsi),'xml')\n",
    "#soup = BeautifulSoup(rb.sendSMS(ogt, imsi, msc, payload),'xml')\n",
    "#soup"
   ]
  },
  {
   "cell_type": "markdown",
   "metadata": {},
   "source": [
    " ### Format output"
   ]
  },
  {
   "cell_type": "code",
   "execution_count": null,
   "metadata": {},
   "outputs": [],
   "source": [
    "import datetime as dt\n",
    "print( 'start: {} {} :end'.format('one', 'two') ) #start: one two :end\n",
    "print( 'start: {1} {0} :end'.format('one', 'two') ) #start: two one :end\n",
    "print( 'start: test {:10} :end'.format('test') ) #start: test test       :end\n",
    "print( 'start: test {:10} :end'.format(10) ) #start: test         10 :end\n",
    "print( 'start: test {:>10} :end'.format('test') ) #start: test       test :end\n",
    "print( 'start: test {:<10} :end'.format('test') ) #start: test test       :end\n",
    "print( 'start: test {:_<10} :end'.format('test') ) #start: test test______ :end\n",
    "print( 'start: test {:^10} :end'.format('test') ) #start: test    test    :end\n",
    "print( 'start: test {:.10} :end'.format('test1test2test3') ) #start: test test1test2 :end\n",
    "print( 'start: test {:_^10.5} :end'.format('test1test2test3') ) #start: test __test1___ :end\n",
    "print( 'start: test {:d} :end'.format(42) ) #start: test 42 :end\n",
    "print( 'start: test {:f} :end'.format(42) ) #start: test 42.000000 :end\n",
    "print( 'start: test {:06.2f} :end'.format(3.141592) ) #start: test 003.14 :end\n",
    "print( 'start: test {p[first]} {p[last]} :end'.format(p={'first': 'Jean-Luc', 'last': 'Picard'}) ) #start: test Jean-Luc Picard :end\n",
    "print( 'start: test {p[4]} {p[5]} :end'.format(p=[4, 8, 15, 16, 23, 42]) ) #start: test 23 42 :end\n",
    "print( 'start: test {:%Y-%m-%d %H:%M} :end'.format(dt.datetime(2001, 2, 3, 4, 5)) ) #start: test 2001-02-03 04:05 :end"
   ]
  },
  {
   "cell_type": "markdown",
   "metadata": {},
   "source": [
    "### Search in files by Tags"
   ]
  },
  {
   "cell_type": "code",
   "execution_count": 80,
   "metadata": {},
   "outputs": [
    {
     "name": "stdout",
     "output_type": "stream",
     "text": [
      "****************************************************************************************************\n",
      "c:\\W_DATA_ROAM\\ДОКУМЕНТАЦИЯ\\NOC_HOW_IT_WORKS\\SIM_Applet\\_TEMPLATE.txt\n",
      "----------------------------------------------------------------------------------------------------\n",
      "#sim_card_principle_of_operation\n",
      "#sim_card_mop\n",
      "------------------------------\n",
      "Аплеты, загружаемые на карты.\n",
      "\n",
      "****************************************************************************************************\n",
      "c:\\W_DATA_ROAM\\ДОКУМЕНТАЦИЯ\\NOC_HOW_IT_WORKS\\SIM_Reader\\_TEMPLATE.txt\n",
      "----------------------------------------------------------------------------------------------------\n",
      "#activation_principle_of_operation\n",
      "#sim_card_principle_of_operation\n",
      "#sim_card_mop\n",
      "------------------------------\n",
      "\"Any PCSC reader can be used. I have good experience with ACS (https://www.acs.com.hk/) and OMNIKEY (https://www.hidglobal.com/products/readers/omnikey) readers.\"\n",
      "(https://roamability.teamwork.com/#/tasks/12118095)\n",
      "\n"
     ]
    }
   ],
   "source": [
    "import roamability as rb\n",
    "reload(rb)\n",
    "\n",
    "# Где искать файлы .txt с тегами\n",
    "paths = ['c:/W_DATA_ROAM/ДОКУМЕНТАЦИЯ/NOC_HOW_IT_WORKS/',\n",
    "        'c:/W_DATA_ROAM/МЕТОДИКИ/',\n",
    "        'c:/W_DATA_ROAM/ПРОЕКТЫ/',\n",
    "        'c:/W_DATA_ROAM/ДОКУМЕНТАЦИЯ/NOC_KNOWN_ISSUES/',\n",
    "        'c:/W_DATA_ROAM/МЕТОДИКИ/NOC_M_NEW_CONNECTION/',\n",
    "        'c:/W_DATA_ROAM/ALARMS/',\n",
    "        'c:/W_DATA_ROAM/ДОКУМЕНТАЦИЯ/PRICES',\n",
    "        ]\n",
    "\n",
    "# Если хотя бы один из тэгов присутствует. Нужно указать минимум один.\n",
    "any_tags  = ['#sim_card_principle_of_operation']\n",
    "\n",
    "# Если все теги присутствуют. Нужно оставить лист пустым [] если нет обязательных тэгов.\n",
    "all_tags = []\n",
    "\n",
    "rb.find_files_by_tags(paths, all_tags, any_tags)"
   ]
  },
  {
   "cell_type": "markdown",
   "metadata": {},
   "source": [
    "### Search in ALARMS by folder names"
   ]
  },
  {
   "cell_type": "code",
   "execution_count": 75,
   "metadata": {},
   "outputs": [
    {
     "name": "stdout",
     "output_type": "stream",
     "text": [
      "c:/W_DATA_ROAM/ALARMS/PS_Partner_TWNLD_4G_issue_#2399570_190117\n"
     ]
    }
   ],
   "source": [
    "import os\n",
    "\n",
    "for path in paths:\n",
    "    names = os.listdir(path)\n",
    "    [print(path + name) for name in names if name.upper().find('TWNLD')!=-1]"
   ]
  },
  {
   "cell_type": "markdown",
   "metadata": {},
   "source": [
    "### Read csv example"
   ]
  },
  {
   "cell_type": "code",
   "execution_count": null,
   "metadata": {},
   "outputs": [],
   "source": [
    "#Read CSV\n",
    "df_tadig = pd.read_csv('TADIG.csv',sep=';',header=None,dtype={'MCC':object,'MNC':object},\n",
    "                   names=['TADIG','MCC','MNC'],skiprows=0)"
   ]
  },
  {
   "cell_type": "markdown",
   "metadata": {},
   "source": [
    "### Groupby examples"
   ]
  },
  {
   "cell_type": "code",
   "execution_count": null,
   "metadata": {},
   "outputs": [],
   "source": [
    "#Вариант №1\n",
    "#Группировка с применением различных типов агрегации к колонкам groupby().agg\n",
    "from pandas import Series, DataFrame\n",
    "import numpy as np\n",
    "import pandas as pd\n",
    "df=DataFrame({'data1':np.random.randint(0,10,size=20),'data2':np.random.randint(0,10,size=20),\n",
    "              'key1':list('abcd'*5),'key2':list('fghi'*5)},index=([list('klmno'*4),list('pq'*10)]))\n",
    "df.index.names=['ind1','ind2']\n",
    "df.columns.names=['col_info']\n",
    "df.groupby(['key1']).agg({'data1': np.mean, 'data2': np.size}) #Агрегация по одной колонке (вариант 1 задания группировки)\n",
    "df.groupby(df['key1']).agg({'data1': np.mean, 'data2': np.size}) #Агрегация по одной колонке (вариант 2 задания группировки)\n",
    "df.groupby(df['key1']).agg({'data1': [np.min,np.mean,np.max,np.size], 'data2': [np.min,np.mean,np.max,np.size]}) #Агрегация для каждого поля несколько функций\n",
    "df.groupby(df['key1']).agg({'data1': [('f_min',np.min),('f_max',np.max)],'data2': [('f_min',np.min),('f_max',np.max)]}) #Агрегация для каждого поля несколько функций с переименованием\n",
    "df.groupby(['key1','key2']).agg({'data1': np.mean, 'data2': np.size}) #Агрегация по нескольким колонкам\n",
    "df.groupby(level=0).agg({'data1': np.mean, 'data2': np.size}) #Агрегация по одному индексу (вариант 1 указания индекса)\n",
    "df.groupby(level='ind1').agg({'data1': np.mean, 'data2': np.size}) #Агрегация по одному индексу (вариант 2 указания индекса)\n",
    "df.groupby(level=[0,1]).agg({'data1': np.mean, 'data2': np.size}) #Агрегация по нескольким индексам\n",
    "df[['data1','data2']].groupby(level=[0,1]).agg(['min','max']) #Агрегация для каждого поля несколько функций\n",
    "df[['data1','data2']].groupby(level=[0,1]).agg([('fmin','min'),('fmax','max')]) #Агрегация для каждого поля несколько функций с переименованием\n",
    "()"
   ]
  },
  {
   "cell_type": "code",
   "execution_count": null,
   "metadata": {},
   "outputs": [],
   "source": [
    "#Вариант №3\n",
    "#Группировка .groupby + агрегирующая функция\n",
    "from pandas import Series, DataFrame\n",
    "import numpy as np\n",
    "import pandas as pd\n",
    "df=DataFrame({'data1':np.random.randint(0,10,size=20),'data2':np.random.randint(0,10,size=20),\n",
    "              'key1':list('abcd'*5),'key2':list('fghi'*5)},index=([list('klmno'*4),list('pq'*10)]))\n",
    "df.index.names=['ind1','ind2']\n",
    "df.columns.names=['col_info']\n",
    "\n",
    "# The Best Practice\n",
    "df.groupby(['key1'],as_index=False)['data1'].max()\n",
    "df.groupby(level=0)['data1'].max().reset_index()\n",
    "\n",
    "df['data1'].groupby(df['key1']).mean() #Агрегация одного поля по одному ключу\n",
    "df.groupby(df['key1']).mean() #Агрегация всех полей по одному ключу\n",
    "df[['data1','data2']].groupby(df['key1']).mean() #Агрегация нескольких полей по одному ключу\n",
    "df[['data1','data2']].groupby([df['key1'],df['key2']]).mean() #Агрегация нескольких полей по нескольким ключам\n",
    "df[['data1','data2']].groupby(level=0).mean() #Агрегация по одному индексу (вариант 1 указания индекса)\n",
    "df[['data1','data2']].groupby(level='ind1').mean() #Агрегация по одному индексу (вариант 2 указания индекса)\n",
    "df[['data1','data2']].groupby(level=[0,1]).mean() #Агрегация по нескольким индексам\n",
    "df[['data1','data2']].groupby(level=0,axis=1).mean() #Агрегация с группировкой по столбцам\n",
    "#или\n",
    "grouped=df['data1'].groupby(df['key1'])\n",
    "grouped.mean()\n",
    "#или\n",
    "df.groupby(df['key1'])['data1'].mean()\n",
    "#Чтобы добавить префикс к названию строки/столбца\n",
    "#df['data1'].groupby(df['key1']).mean().add_prefix('mean_')\n",
    "#df[['data1','data2']].groupby(level=0,axis=1).mean()\n",
    "df['data1_mean']=df.groupby('key1')['data1'].transform(np.max)\n",
    "()"
   ]
  },
  {
   "cell_type": "markdown",
   "metadata": {},
   "source": [
    "### Search in Allowed Lists and others"
   ]
  },
  {
   "cell_type": "code",
   "execution_count": 186,
   "metadata": {},
   "outputs": [],
   "source": [
    "downloads = 'C:/Users/balob/Downloads'\n",
    "\n",
    "#Like expression for Allowed List\n",
    "df_al=pd.read_csv(join(downloads,'DMI.dmi_allowed_list_export_Mon_Jan_21_2019.csv'))\n",
    "#df_al_lab=pd.read_csv('LAB_DMI.dmi_allowed_list_export_Wed_Oct_03_2018.csv')\n",
    "\n",
    "#df_dmi_diam_oper=pd.read_csv(join(download,''))\n",
    "df_np=pd.read_csv(join(downloads,'DMI.dmi_netpfx_export_Sat_Dec_29_2018.csv'))\n",
    "#df_did=pd.read_csv('HRR.hrr_did_export_Wed_Aug_08_2018.csv')\n",
    "#f_tap_ocs=pd.read_csv('tap_ocs_analysis_180817.csv')"
   ]
  },
  {
   "cell_type": "code",
   "execution_count": 226,
   "metadata": {},
   "outputs": [
    {
     "data": {
      "text/html": [
       "<div>\n",
       "<style scoped>\n",
       "    .dataframe tbody tr th:only-of-type {\n",
       "        vertical-align: middle;\n",
       "    }\n",
       "\n",
       "    .dataframe tbody tr th {\n",
       "        vertical-align: top;\n",
       "    }\n",
       "\n",
       "    .dataframe thead th {\n",
       "        text-align: right;\n",
       "    }\n",
       "</style>\n",
       "<table border=\"1\" class=\"dataframe\">\n",
       "  <thead>\n",
       "    <tr style=\"text-align: right;\">\n",
       "      <th></th>\n",
       "      <th>Sponsor</th>\n",
       "      <th>PLMN code</th>\n",
       "    </tr>\n",
       "  </thead>\n",
       "  <tbody>\n",
       "    <tr>\n",
       "      <th>1318</th>\n",
       "      <td>P4_KeepGo_Test</td>\n",
       "      <td>GBRVF</td>\n",
       "    </tr>\n",
       "    <tr>\n",
       "      <th>2170</th>\n",
       "      <td>PA_Telzar_Soft</td>\n",
       "      <td>GBRVF</td>\n",
       "    </tr>\n",
       "    <tr>\n",
       "      <th>140</th>\n",
       "      <td>Partner</td>\n",
       "      <td>GBRVF</td>\n",
       "    </tr>\n",
       "    <tr>\n",
       "      <th>2684</th>\n",
       "      <td>Partner_All</td>\n",
       "      <td>GBRVF</td>\n",
       "    </tr>\n",
       "    <tr>\n",
       "      <th>2473</th>\n",
       "      <td>Partner_Dialoq_A</td>\n",
       "      <td>GBRVF</td>\n",
       "    </tr>\n",
       "    <tr>\n",
       "      <th>3106</th>\n",
       "      <td>Partner_RedT_Sof</td>\n",
       "      <td>GBRVF</td>\n",
       "    </tr>\n",
       "    <tr>\n",
       "      <th>1440</th>\n",
       "      <td>Partner_RedTea</td>\n",
       "      <td>GBRVF</td>\n",
       "    </tr>\n",
       "    <tr>\n",
       "      <th>17</th>\n",
       "      <td>Partner_WeConnec</td>\n",
       "      <td>GBRVF</td>\n",
       "    </tr>\n",
       "    <tr>\n",
       "      <th>1990</th>\n",
       "      <td>Partner_WeStream</td>\n",
       "      <td>GBRVF</td>\n",
       "    </tr>\n",
       "    <tr>\n",
       "      <th>510</th>\n",
       "      <td>Partner_mondic</td>\n",
       "      <td>GBRVF</td>\n",
       "    </tr>\n",
       "  </tbody>\n",
       "</table>\n",
       "</div>"
      ],
      "text/plain": [
       "               Sponsor PLMN code\n",
       "1318    P4_KeepGo_Test     GBRVF\n",
       "2170    PA_Telzar_Soft     GBRVF\n",
       "140            Partner     GBRVF\n",
       "2684       Partner_All     GBRVF\n",
       "2473  Partner_Dialoq_A     GBRVF\n",
       "3106  Partner_RedT_Sof     GBRVF\n",
       "1440    Partner_RedTea     GBRVF\n",
       "17    Partner_WeConnec     GBRVF\n",
       "1990  Partner_WeStream     GBRVF\n",
       "510     Partner_mondic     GBRVF"
      ]
     },
     "execution_count": 226,
     "metadata": {},
     "output_type": "execute_result"
    }
   ],
   "source": [
    "#df_al[(df_al['PLMN code'].str.startswith('MKDCC', na=False)) & (df_al['Sponsor']=='')]\n",
    "df_al.loc[(df_al['PLMN code'].str.startswith('GBRVF', na=False)) &\n",
    "          (df_al['Sponsor'].str.contains('', na=False)), ['Sponsor','PLMN code']].sort_values(by=['Sponsor','PLMN code'])"
   ]
  },
  {
   "cell_type": "code",
   "execution_count": 232,
   "metadata": {},
   "outputs": [],
   "source": [
    "df_al_new=pd.read_csv(join(downloads,'DMI.dmi_allowed_list_export_Mon_Jan_21_2019_new.csv'))\n",
    "df_al_new.loc[(df_al_new['PLMN code'].str.startswith('', na=False)) &\n",
    "          (df_al_new['Sponsor'].str.contains('STI', na=False)), ['Sponsor','PLMN code']].sort_values(by=['Sponsor','PLMN code']).\\\n",
    "to_csv(join(downloads,'result.csv'), index=False)"
   ]
  },
  {
   "cell_type": "code",
   "execution_count": 225,
   "metadata": {},
   "outputs": [
    {
     "data": {
      "text/html": [
       "<div>\n",
       "<style scoped>\n",
       "    .dataframe tbody tr th:only-of-type {\n",
       "        vertical-align: middle;\n",
       "    }\n",
       "\n",
       "    .dataframe tbody tr th {\n",
       "        vertical-align: top;\n",
       "    }\n",
       "\n",
       "    .dataframe thead th {\n",
       "        text-align: right;\n",
       "    }\n",
       "</style>\n",
       "<table border=\"1\" class=\"dataframe\">\n",
       "  <thead>\n",
       "    <tr style=\"text-align: right;\">\n",
       "      <th></th>\n",
       "      <th>Operator</th>\n",
       "      <th>Prefix</th>\n",
       "      <th>Number/Range</th>\n",
       "      <th>SSN</th>\n",
       "      <th>MCC</th>\n",
       "      <th>MNC</th>\n",
       "    </tr>\n",
       "  </thead>\n",
       "  <tbody>\n",
       "    <tr>\n",
       "      <th>1658</th>\n",
       "      <td>GBRVF</td>\n",
       "      <td>44385</td>\n",
       "      <td>1</td>\n",
       "      <td>7</td>\n",
       "      <td>234</td>\n",
       "      <td>15</td>\n",
       "    </tr>\n",
       "    <tr>\n",
       "      <th>1659</th>\n",
       "      <td>GBRVF</td>\n",
       "      <td>44385</td>\n",
       "      <td>1</td>\n",
       "      <td>149</td>\n",
       "      <td>234</td>\n",
       "      <td>15</td>\n",
       "    </tr>\n",
       "    <tr>\n",
       "      <th>1660</th>\n",
       "      <td>GBRVF</td>\n",
       "      <td>447785</td>\n",
       "      <td>1</td>\n",
       "      <td>7</td>\n",
       "      <td>234</td>\n",
       "      <td>15</td>\n",
       "    </tr>\n",
       "    <tr>\n",
       "      <th>1661</th>\n",
       "      <td>GBRVF</td>\n",
       "      <td>447785</td>\n",
       "      <td>1</td>\n",
       "      <td>149</td>\n",
       "      <td>234</td>\n",
       "      <td>15</td>\n",
       "    </tr>\n",
       "    <tr>\n",
       "      <th>3430</th>\n",
       "      <td>GBRVF</td>\n",
       "      <td>447785019999</td>\n",
       "      <td>0</td>\n",
       "      <td>7</td>\n",
       "      <td>234</td>\n",
       "      <td>15</td>\n",
       "    </tr>\n",
       "    <tr>\n",
       "      <th>4115</th>\n",
       "      <td>GBRVF</td>\n",
       "      <td>4477850100</td>\n",
       "      <td>0</td>\n",
       "      <td>7</td>\n",
       "      <td>234</td>\n",
       "      <td>15</td>\n",
       "    </tr>\n",
       "    <tr>\n",
       "      <th>4116</th>\n",
       "      <td>GBRVF</td>\n",
       "      <td>447785019999</td>\n",
       "      <td>0</td>\n",
       "      <td>149</td>\n",
       "      <td>234</td>\n",
       "      <td>15</td>\n",
       "    </tr>\n",
       "    <tr>\n",
       "      <th>4117</th>\n",
       "      <td>GBRVF</td>\n",
       "      <td>4477850132</td>\n",
       "      <td>0</td>\n",
       "      <td>7</td>\n",
       "      <td>234</td>\n",
       "      <td>15</td>\n",
       "    </tr>\n",
       "    <tr>\n",
       "      <th>8268</th>\n",
       "      <td>GBRVF</td>\n",
       "      <td>4477850120</td>\n",
       "      <td>0</td>\n",
       "      <td>7</td>\n",
       "      <td>234</td>\n",
       "      <td>15</td>\n",
       "    </tr>\n",
       "    <tr>\n",
       "      <th>8269</th>\n",
       "      <td>GBRVF</td>\n",
       "      <td>4477850121</td>\n",
       "      <td>0</td>\n",
       "      <td>7</td>\n",
       "      <td>234</td>\n",
       "      <td>15</td>\n",
       "    </tr>\n",
       "    <tr>\n",
       "      <th>8270</th>\n",
       "      <td>GBRVF</td>\n",
       "      <td>4477850122</td>\n",
       "      <td>0</td>\n",
       "      <td>7</td>\n",
       "      <td>234</td>\n",
       "      <td>15</td>\n",
       "    </tr>\n",
       "    <tr>\n",
       "      <th>8271</th>\n",
       "      <td>GBRVF</td>\n",
       "      <td>4477850123</td>\n",
       "      <td>0</td>\n",
       "      <td>7</td>\n",
       "      <td>234</td>\n",
       "      <td>15</td>\n",
       "    </tr>\n",
       "    <tr>\n",
       "      <th>8272</th>\n",
       "      <td>GBRVF</td>\n",
       "      <td>4477850124</td>\n",
       "      <td>0</td>\n",
       "      <td>7</td>\n",
       "      <td>234</td>\n",
       "      <td>15</td>\n",
       "    </tr>\n",
       "    <tr>\n",
       "      <th>8273</th>\n",
       "      <td>GBRVF</td>\n",
       "      <td>4477850125</td>\n",
       "      <td>0</td>\n",
       "      <td>7</td>\n",
       "      <td>234</td>\n",
       "      <td>15</td>\n",
       "    </tr>\n",
       "    <tr>\n",
       "      <th>8274</th>\n",
       "      <td>GBRVF</td>\n",
       "      <td>4477850126</td>\n",
       "      <td>0</td>\n",
       "      <td>7</td>\n",
       "      <td>234</td>\n",
       "      <td>15</td>\n",
       "    </tr>\n",
       "    <tr>\n",
       "      <th>8275</th>\n",
       "      <td>GBRVF</td>\n",
       "      <td>4477850127</td>\n",
       "      <td>0</td>\n",
       "      <td>7</td>\n",
       "      <td>234</td>\n",
       "      <td>15</td>\n",
       "    </tr>\n",
       "    <tr>\n",
       "      <th>8276</th>\n",
       "      <td>GBRVF</td>\n",
       "      <td>4477850128</td>\n",
       "      <td>0</td>\n",
       "      <td>7</td>\n",
       "      <td>234</td>\n",
       "      <td>15</td>\n",
       "    </tr>\n",
       "    <tr>\n",
       "      <th>8277</th>\n",
       "      <td>GBRVF</td>\n",
       "      <td>4477850130</td>\n",
       "      <td>0</td>\n",
       "      <td>7</td>\n",
       "      <td>234</td>\n",
       "      <td>15</td>\n",
       "    </tr>\n",
       "    <tr>\n",
       "      <th>8278</th>\n",
       "      <td>GBRVF</td>\n",
       "      <td>4477850131</td>\n",
       "      <td>0</td>\n",
       "      <td>7</td>\n",
       "      <td>234</td>\n",
       "      <td>15</td>\n",
       "    </tr>\n",
       "    <tr>\n",
       "      <th>8279</th>\n",
       "      <td>GBRVF</td>\n",
       "      <td>4477850133</td>\n",
       "      <td>0</td>\n",
       "      <td>7</td>\n",
       "      <td>234</td>\n",
       "      <td>15</td>\n",
       "    </tr>\n",
       "    <tr>\n",
       "      <th>8280</th>\n",
       "      <td>GBRVF</td>\n",
       "      <td>4477850134</td>\n",
       "      <td>0</td>\n",
       "      <td>7</td>\n",
       "      <td>234</td>\n",
       "      <td>15</td>\n",
       "    </tr>\n",
       "    <tr>\n",
       "      <th>8281</th>\n",
       "      <td>GBRVF</td>\n",
       "      <td>4477850136</td>\n",
       "      <td>0</td>\n",
       "      <td>7</td>\n",
       "      <td>234</td>\n",
       "      <td>15</td>\n",
       "    </tr>\n",
       "    <tr>\n",
       "      <th>8282</th>\n",
       "      <td>GBRVF</td>\n",
       "      <td>4477850137</td>\n",
       "      <td>0</td>\n",
       "      <td>7</td>\n",
       "      <td>234</td>\n",
       "      <td>15</td>\n",
       "    </tr>\n",
       "    <tr>\n",
       "      <th>8283</th>\n",
       "      <td>GBRVF</td>\n",
       "      <td>4477850138</td>\n",
       "      <td>0</td>\n",
       "      <td>7</td>\n",
       "      <td>234</td>\n",
       "      <td>15</td>\n",
       "    </tr>\n",
       "    <tr>\n",
       "      <th>8284</th>\n",
       "      <td>GBRVF</td>\n",
       "      <td>4477850139</td>\n",
       "      <td>0</td>\n",
       "      <td>7</td>\n",
       "      <td>234</td>\n",
       "      <td>15</td>\n",
       "    </tr>\n",
       "    <tr>\n",
       "      <th>8285</th>\n",
       "      <td>GBRVF</td>\n",
       "      <td>4477850140</td>\n",
       "      <td>0</td>\n",
       "      <td>7</td>\n",
       "      <td>234</td>\n",
       "      <td>15</td>\n",
       "    </tr>\n",
       "    <tr>\n",
       "      <th>8286</th>\n",
       "      <td>GBRVF</td>\n",
       "      <td>4477850141</td>\n",
       "      <td>0</td>\n",
       "      <td>7</td>\n",
       "      <td>234</td>\n",
       "      <td>15</td>\n",
       "    </tr>\n",
       "    <tr>\n",
       "      <th>8292</th>\n",
       "      <td>GBRVF</td>\n",
       "      <td>447785010000</td>\n",
       "      <td>0</td>\n",
       "      <td>149</td>\n",
       "      <td>234</td>\n",
       "      <td>15</td>\n",
       "    </tr>\n",
       "    <tr>\n",
       "      <th>8293</th>\n",
       "      <td>GBRVF</td>\n",
       "      <td>447785010000</td>\n",
       "      <td>0</td>\n",
       "      <td>7</td>\n",
       "      <td>234</td>\n",
       "      <td>15</td>\n",
       "    </tr>\n",
       "    <tr>\n",
       "      <th>8429</th>\n",
       "      <td>GBRVF</td>\n",
       "      <td>4477850100</td>\n",
       "      <td>0</td>\n",
       "      <td>149</td>\n",
       "      <td>234</td>\n",
       "      <td>15</td>\n",
       "    </tr>\n",
       "    <tr>\n",
       "      <th>10437</th>\n",
       "      <td>GBRVF</td>\n",
       "      <td>44778501000</td>\n",
       "      <td>0</td>\n",
       "      <td>1</td>\n",
       "      <td>234</td>\n",
       "      <td>15</td>\n",
       "    </tr>\n",
       "  </tbody>\n",
       "</table>\n",
       "</div>"
      ],
      "text/plain": [
       "      Operator        Prefix  Number/Range  SSN  MCC  MNC\n",
       "1658     GBRVF         44385             1    7  234   15\n",
       "1659     GBRVF         44385             1  149  234   15\n",
       "1660     GBRVF        447785             1    7  234   15\n",
       "1661     GBRVF        447785             1  149  234   15\n",
       "3430     GBRVF  447785019999             0    7  234   15\n",
       "4115     GBRVF    4477850100             0    7  234   15\n",
       "4116     GBRVF  447785019999             0  149  234   15\n",
       "4117     GBRVF    4477850132             0    7  234   15\n",
       "8268     GBRVF    4477850120             0    7  234   15\n",
       "8269     GBRVF    4477850121             0    7  234   15\n",
       "8270     GBRVF    4477850122             0    7  234   15\n",
       "8271     GBRVF    4477850123             0    7  234   15\n",
       "8272     GBRVF    4477850124             0    7  234   15\n",
       "8273     GBRVF    4477850125             0    7  234   15\n",
       "8274     GBRVF    4477850126             0    7  234   15\n",
       "8275     GBRVF    4477850127             0    7  234   15\n",
       "8276     GBRVF    4477850128             0    7  234   15\n",
       "8277     GBRVF    4477850130             0    7  234   15\n",
       "8278     GBRVF    4477850131             0    7  234   15\n",
       "8279     GBRVF    4477850133             0    7  234   15\n",
       "8280     GBRVF    4477850134             0    7  234   15\n",
       "8281     GBRVF    4477850136             0    7  234   15\n",
       "8282     GBRVF    4477850137             0    7  234   15\n",
       "8283     GBRVF    4477850138             0    7  234   15\n",
       "8284     GBRVF    4477850139             0    7  234   15\n",
       "8285     GBRVF    4477850140             0    7  234   15\n",
       "8286     GBRVF    4477850141             0    7  234   15\n",
       "8292     GBRVF  447785010000             0  149  234   15\n",
       "8293     GBRVF  447785010000             0    7  234   15\n",
       "8429     GBRVF    4477850100             0  149  234   15\n",
       "10437    GBRVF   44778501000             0    1  234   15"
      ]
     },
     "execution_count": 225,
     "metadata": {},
     "output_type": "execute_result"
    }
   ],
   "source": [
    "str(df_np[df_np.Operator == 'TURTK'].Prefix.unique().tolist())\n",
    "df_np[(df_np.Operator.str.startswith('GBRVF',na=False))] #.to_csv(join(downloads,'Prefix.csv')) # & (df_np.SSN==7)"
   ]
  },
  {
   "cell_type": "code",
   "execution_count": 215,
   "metadata": {},
   "outputs": [
    {
     "data": {
      "text/html": [
       "<div>\n",
       "<style scoped>\n",
       "    .dataframe tbody tr th:only-of-type {\n",
       "        vertical-align: middle;\n",
       "    }\n",
       "\n",
       "    .dataframe tbody tr th {\n",
       "        vertical-align: top;\n",
       "    }\n",
       "\n",
       "    .dataframe thead th {\n",
       "        text-align: right;\n",
       "    }\n",
       "</style>\n",
       "<table border=\"1\" class=\"dataframe\">\n",
       "  <thead>\n",
       "    <tr style=\"text-align: right;\">\n",
       "      <th></th>\n",
       "      <th>Operator</th>\n",
       "      <th>Prefix</th>\n",
       "      <th>Number/Range</th>\n",
       "      <th>SSN</th>\n",
       "      <th>MCC</th>\n",
       "      <th>MNC</th>\n",
       "    </tr>\n",
       "  </thead>\n",
       "  <tbody>\n",
       "    <tr>\n",
       "      <th>12787</th>\n",
       "      <td>PERN3</td>\n",
       "      <td>5195539</td>\n",
       "      <td>1</td>\n",
       "      <td>7</td>\n",
       "      <td>716</td>\n",
       "      <td>17</td>\n",
       "    </tr>\n",
       "    <tr>\n",
       "      <th>12789</th>\n",
       "      <td>PERN3</td>\n",
       "      <td>51955392201</td>\n",
       "      <td>0</td>\n",
       "      <td>7</td>\n",
       "      <td>716</td>\n",
       "      <td>17</td>\n",
       "    </tr>\n",
       "    <tr>\n",
       "      <th>12790</th>\n",
       "      <td>PERN3</td>\n",
       "      <td>51955392202</td>\n",
       "      <td>0</td>\n",
       "      <td>7</td>\n",
       "      <td>716</td>\n",
       "      <td>17</td>\n",
       "    </tr>\n",
       "    <tr>\n",
       "      <th>12794</th>\n",
       "      <td>PERN3</td>\n",
       "      <td>51955392203</td>\n",
       "      <td>0</td>\n",
       "      <td>149</td>\n",
       "      <td>716</td>\n",
       "      <td>17</td>\n",
       "    </tr>\n",
       "    <tr>\n",
       "      <th>12795</th>\n",
       "      <td>PERN3</td>\n",
       "      <td>51955392203</td>\n",
       "      <td>0</td>\n",
       "      <td>7</td>\n",
       "      <td>716</td>\n",
       "      <td>17</td>\n",
       "    </tr>\n",
       "    <tr>\n",
       "      <th>12796</th>\n",
       "      <td>PERN3</td>\n",
       "      <td>51955392204</td>\n",
       "      <td>0</td>\n",
       "      <td>7</td>\n",
       "      <td>716</td>\n",
       "      <td>17</td>\n",
       "    </tr>\n",
       "    <tr>\n",
       "      <th>12797</th>\n",
       "      <td>PERN3</td>\n",
       "      <td>51955392204</td>\n",
       "      <td>0</td>\n",
       "      <td>149</td>\n",
       "      <td>716</td>\n",
       "      <td>17</td>\n",
       "    </tr>\n",
       "    <tr>\n",
       "      <th>12798</th>\n",
       "      <td>PERN3</td>\n",
       "      <td>51955399136</td>\n",
       "      <td>0</td>\n",
       "      <td>149</td>\n",
       "      <td>716</td>\n",
       "      <td>17</td>\n",
       "    </tr>\n",
       "    <tr>\n",
       "      <th>12799</th>\n",
       "      <td>PERN3</td>\n",
       "      <td>51955399136</td>\n",
       "      <td>0</td>\n",
       "      <td>7</td>\n",
       "      <td>716</td>\n",
       "      <td>17</td>\n",
       "    </tr>\n",
       "    <tr>\n",
       "      <th>12800</th>\n",
       "      <td>PERN3</td>\n",
       "      <td>51955399165</td>\n",
       "      <td>0</td>\n",
       "      <td>7</td>\n",
       "      <td>716</td>\n",
       "      <td>17</td>\n",
       "    </tr>\n",
       "  </tbody>\n",
       "</table>\n",
       "</div>"
      ],
      "text/plain": [
       "      Operator       Prefix  Number/Range  SSN  MCC  MNC\n",
       "12787    PERN3      5195539             1    7  716   17\n",
       "12789    PERN3  51955392201             0    7  716   17\n",
       "12790    PERN3  51955392202             0    7  716   17\n",
       "12794    PERN3  51955392203             0  149  716   17\n",
       "12795    PERN3  51955392203             0    7  716   17\n",
       "12796    PERN3  51955392204             0    7  716   17\n",
       "12797    PERN3  51955392204             0  149  716   17\n",
       "12798    PERN3  51955399136             0  149  716   17\n",
       "12799    PERN3  51955399136             0    7  716   17\n",
       "12800    PERN3  51955399165             0    7  716   17"
      ]
     },
     "execution_count": 215,
     "metadata": {},
     "output_type": "execute_result"
    }
   ],
   "source": [
    "str(df_np[(df_np.Prefix.str.startswith('6683',na=False))].Prefix.unique().tolist())\n",
    "df_np[(df_np.Prefix.str.startswith('51955',na=False))]"
   ]
  },
  {
   "cell_type": "code",
   "execution_count": null,
   "metadata": {},
   "outputs": [],
   "source": [
    "df_dmi_diam_oper[(df_dmi_diam_oper['DMI Operator'].str.startswith('', na=False))\\\n",
    "                 & (df_dmi_diam_oper['Realm'].str.contains('405', na=False))]"
   ]
  },
  {
   "cell_type": "markdown",
   "metadata": {},
   "source": [
    "### Hex to Dec conversion"
   ]
  },
  {
   "cell_type": "code",
   "execution_count": 192,
   "metadata": {},
   "outputs": [
    {
     "name": "stdout",
     "output_type": "stream",
     "text": [
      "4558\n",
      "0x11ce\n",
      "103a3ee2\n",
      "0b11\n",
      "4590\n"
     ]
    }
   ],
   "source": [
    "# Hex to dec\n",
    "print(int('11CE',16))\n",
    "\n",
    "# Dec to hex\n",
    "print(hex(4558))\n",
    "print('%x' % 272252642)\n",
    "\n",
    "# Dec to bin\n",
    "print(bin(3))\n",
    "\n",
    "# Bin to dec\n",
    "print(int('01000111101110',2))"
   ]
  },
  {
   "cell_type": "code",
   "execution_count": 188,
   "metadata": {},
   "outputs": [
    {
     "data": {
      "text/plain": [
       "'0b10 - 0b111101 - 0b110'"
      ]
     },
     "execution_count": 188,
     "metadata": {},
     "output_type": "execute_result"
    }
   ],
   "source": [
    "f'{bin(2)} - {bin(61)} - {bin(6)}'\n",
    "#2.61.6"
   ]
  },
  {
   "cell_type": "code",
   "execution_count": 186,
   "metadata": {},
   "outputs": [
    {
     "name": "stdout",
     "output_type": "stream",
     "text": [
      "0b10101010100011\n",
      "5 - 84 - 3\n"
     ]
    }
   ],
   "source": [
    "print(bin(10915))\n",
    "a = '10101010100011'\n",
    "# = '00000011001101'\n",
    "print(int(a[-14:-11],2),'-',int(a[-11:-3],2),'-',int(a[-3:],2) )"
   ]
  },
  {
   "cell_type": "markdown",
   "metadata": {},
   "source": [
    "### Rename files"
   ]
  },
  {
   "cell_type": "code",
   "execution_count": null,
   "metadata": {},
   "outputs": [],
   "source": [
    "import os\n",
    "import re\n",
    "path = 'c:/Users/balob/Downloads/new1/'\n",
    "prefix = 'PYCON'\n",
    "topic = ''\n",
    "os.chdir(path)\n",
    "names = sorted(filter(os.path.isfile, os.listdir('.')), key=os.path.getmtime)\n",
    "for i,name in enumerate(names):\n",
    "    short_name = re.sub('[!#?«»,() \\+\\-؟]','',name[:-4:][:50])\n",
    "    if i < 10:\n",
    "        number = '0'+str(i)\n",
    "    else:\n",
    "        number = str(i)\n",
    "    new_name = '{}_{}_{}.mp4'.format(prefix,number,short_name)\n",
    "    print('{} -> {}'.format(name,new_name))\n",
    "    os.rename(name,new_name)"
   ]
  },
  {
   "cell_type": "markdown",
   "metadata": {},
   "source": [
    "### Чтение логов с удаленного сервера SFTP (stat_GrayLog.log)"
   ]
  },
  {
   "cell_type": "code",
   "execution_count": 217,
   "metadata": {},
   "outputs": [
    {
     "name": "stdout",
     "output_type": "stream",
     "text": [
      "0 2018-12-14 05:00:45,537 - ss7_stat - INFO - rep_ss7_sqlite_db_py2. End. Total elapsed time 0:00:44.009712\n",
      "8 2018-12-13 05:00:45,731 - ss7_stat - INFO - rep_ss7_sqlite_db_py2. End. Total elapsed time 0:00:43.732656\n",
      "16 2018-12-12 05:00:44,040 - ss7_stat - INFO - rep_ss7_sqlite_db_py2. End. Total elapsed time 0:00:42.703231\n",
      "24 2018-12-11 05:00:41,949 - ss7_stat - INFO - rep_ss7_sqlite_db_py2. End. Total elapsed time 0:00:39.759998\n",
      "32 2018-12-10 05:00:42,655 - ss7_stat - INFO - rep_ss7_sqlite_db_py2. End. Total elapsed time 0:00:40.982727\n",
      "40 2018-12-09 05:00:46,048 - ss7_stat - INFO - rep_ss7_sqlite_db_py2. End. Total elapsed time 0:00:42.357029\n",
      "48 2018-12-08 05:00:44,158 - ss7_stat - INFO - rep_ss7_sqlite_db_py2. End. Total elapsed time 0:00:42.308123\n"
     ]
    }
   ],
   "source": [
    "import paramiko\n",
    "print_lines = 50\n",
    "host = '172.19.11.191'\n",
    "user = 'pavel'\n",
    "secret = 'RzAZPjMjvujCPjU88bpevQp'\n",
    "file_path_name = '/home/tracer/LOG/stat_GrayLog.log'\n",
    "port = 22\n",
    "client = paramiko.SSHClient()\n",
    "client.set_missing_host_key_policy(paramiko.AutoAddPolicy())\n",
    "client.connect(hostname=host, username=user, password=secret, port=port)\n",
    "sftp_client = client.open_sftp()\n",
    "remote_file = sftp_client.open(file_path_name)\n",
    "try:\n",
    "    #for line in remote_file:\n",
    "    for i,line in enumerate(reversed(list(remote_file))):\n",
    "        if i < print_lines:\n",
    "            if 'Total' in line:\n",
    "                print(i,line,end='')\n",
    "            #print(i,line,end='')\n",
    "        else:\n",
    "            break\n",
    "finally:\n",
    "    remote_file.close()\n",
    "client.close()\n",
    "# (https://stackoverflow.com/questions/1596963/read-a-file-from-server-with-ssh-using-python)"
   ]
  },
  {
   "cell_type": "markdown",
   "metadata": {},
   "source": [
    "### Pricing counting"
   ]
  },
  {
   "cell_type": "code",
   "execution_count": 192,
   "metadata": {},
   "outputs": [
    {
     "name": "stdout",
     "output_type": "stream",
     "text": [
      "Price P4\n",
      "Price 1.2            : [1.8, 0.0, 0.3, 8.844]\n",
      "Price 1.2*1.5        : [2.7, 0.0, 0.45, 13.266]\n",
      "Price 1.2*1.5*1.15   : [3.105, 0.0, 0.5175, 15.2559]\n",
      "Price 1.2*1.5*1.30   : [3.51, 0.0, 0.585, 17.2458]\n",
      "Price 2              : [3.6, 0.0, 0.6, 17.688]\n",
      "\n",
      "Price Partner\n",
      "Price 1.5            : [2.25, 0.0, 0.375, 11.055]\n",
      "Price 1.5*1.15       : [2.5875, 0.0, 0.43125, 12.71325]\n",
      "Price 1.5*1.30       : [2.925, 0.0, 0.4875, 14.3715]\n",
      "Price 2              : [3.0, 0, 0.5, 14.74]\n"
     ]
    }
   ],
   "source": [
    "moc=1.5\n",
    "mtc=0\n",
    "text=0.25\n",
    "data=7.37\n",
    "\n",
    "tariff=[moc,mtc,text,data]\n",
    "\n",
    "print(\"Price P4\")\n",
    "for k,v in {'1.2':1.2,'1.2*1.5':1.2*1.5,'1.2*1.5*1.15':1.2*1.5*1.15,'1.2*1.5*1.30':1.2*1.5*1.30,'2':1.2*2}.items():\n",
    "    print(\"Price {:<15}:\".format(k),[round(i*v,6) for i in tariff])\n",
    "print(\"\\nPrice Partner\")\n",
    "for k,v in {'1.5':1.5,'1.5*1.15':1.5*1.15,'1.5*1.30':1.5*1.30,'2':2}.items():\n",
    "    print(\"Price {:<15}:\".format(k),[round(i*v,6) for i in tariff])"
   ]
  },
  {
   "cell_type": "markdown",
   "metadata": {},
   "source": [
    "## Testing"
   ]
  },
  {
   "cell_type": "code",
   "execution_count": null,
   "metadata": {},
   "outputs": [],
   "source": [
    "import mglearn\n",
    "from sklearn.model_selection import train_test_split\n",
    "import matplotlib.pyplot as plt\n",
    "from sklearn.linear_model import LogisticRegression\n",
    "from sklearn.svm import LinearSVC\n",
    "import numpy as np\n",
    "import pandas as pd\n",
    "from pandas import DataFrame,Series"
   ]
  },
  {
   "cell_type": "code",
   "execution_count": null,
   "metadata": {
    "scrolled": false
   },
   "outputs": [],
   "source": [
    "import requests\n",
    "from bs4 import BeautifulSoup\n",
    "resp = requests.get('http://www.cbr.ru/scripts/XML_daily.asp')\n",
    "soup = BeautifulSoup(resp.content,'xml')\n",
    "eur = soup.find(ID='R01239').Value.string\n",
    "print('Курс EUR на составляет: {} RUB'.format(eur))"
   ]
  },
  {
   "cell_type": "code",
   "execution_count": null,
   "metadata": {},
   "outputs": [],
   "source": [
    "import speech_recognition as sr\n",
    "r = sr.Recognizer()\n",
    "with sr.Microphone() as source:\n",
    "    print('Say:')\n",
    "    audio = r.listen(source)\n",
    "    try:\n",
    "        text = r.recognize_google(audio)\n",
    "        print(f'You said: {text}')\n",
    "    except sr.UnknownValueError:\n",
    "        print(\"Google Speech Recognition could not understand audio\")\n",
    "    except sr.RequestError as e:\n",
    "        print(\"Could not request results from Google Speech Recognition service; {0}\".format(e))\n",
    "    except:\n",
    "        print('Sorry, I cant recognize what you said.')"
   ]
  },
  {
   "cell_type": "code",
   "execution_count": null,
   "metadata": {},
   "outputs": [],
   "source": [
    "from gtts import gTTS \n",
    "import os\n",
    "from os.path import join\n",
    "downloads = 'C:/Users/balob/Downloads'\n",
    "mytext = 'Привет'\n",
    "language = 'en'\n",
    "language = 'ru'\n",
    "voice = gTTS(text=mytext, lang=language, slow=False) \n",
    "voice.save(join(downloads,'welcome.mp3')) \n",
    "os.system(join(downloads,'welcome.mp3'))"
   ]
  },
  {
   "cell_type": "code",
   "execution_count": null,
   "metadata": {},
   "outputs": [],
   "source": []
  },
  {
   "cell_type": "code",
   "execution_count": null,
   "metadata": {},
   "outputs": [],
   "source": []
  },
  {
   "cell_type": "code",
   "execution_count": 156,
   "metadata": {},
   "outputs": [
    {
     "name": "stdout",
     "output_type": "stream",
     "text": [
      "Vector: <1, 2, 3>\n",
      "Vector: <4, 5, 6>\n"
     ]
    }
   ],
   "source": [
    "tuple_vec = (1, 2, 3)\n",
    "list_vec = (4, 5, 6)\n",
    "\n",
    "def print_vector(x, y, z):\n",
    "    print(f'Vector: <{x}, {y}, {z}>')\n",
    "print_vector(*tuple_vec)\n",
    "print_vector(*list_vec)"
   ]
  },
  {
   "cell_type": "code",
   "execution_count": 169,
   "metadata": {},
   "outputs": [
    {
     "name": "stdout",
     "output_type": "stream",
     "text": [
      "Vector: <1, 2, 3>\n",
      "Vector: <z, y, x>\n"
     ]
    }
   ],
   "source": [
    "dict_vec = {'z':3, 'y':2, 'x':1}\n",
    "def print_vector(x, y, z):\n",
    "    print(f'Vector: <{x}, {y}, {z}>')\n",
    "print_vector(**dict_vec)\n",
    "print_vector(*dict_vec)"
   ]
  },
  {
   "cell_type": "code",
   "execution_count": 185,
   "metadata": {},
   "outputs": [
    {
     "name": "stdout",
     "output_type": "stream",
     "text": [
      "Функция foo1(). Явное указание 'return None'. Возвращает тип: <class 'NoneType'>\n",
      "Функция foo2(). Пустая инструкция return подразуменвает 'return None'. Возвращает тип: <class 'NoneType'>\n",
      "Функция foo3(). Пропущенная инструкция return подразуменвает 'return None'. Возвращает тип: <class 'NoneType'>\n"
     ]
    }
   ],
   "source": [
    "def foo1(value):\n",
    "    \"\"\"Явное указание 'return None'\"\"\"\n",
    "    if value:\n",
    "        return value\n",
    "    else:\n",
    "        return None\n",
    "def foo2(value):\n",
    "    \"\"\"Пустая инструкция return подразуменвает 'return None'\"\"\"\n",
    "    if value:\n",
    "        return value\n",
    "    else:\n",
    "        return\n",
    "def foo3(value):\n",
    "    \"\"\"Пропущенная инструкция return подразуменвает 'return None'\"\"\"\n",
    "    if value:\n",
    "        return value\n",
    "functions = [foo1, foo2, foo3]\n",
    "for function in functions:\n",
    "    print(f'Функция {function.__name__}(). {function.__doc__}. Возвращает тип: {type(function(0))}')"
   ]
  },
  {
   "cell_type": "code",
   "execution_count": 23,
   "metadata": {},
   "outputs": [
    {
     "name": "stdout",
     "output_type": "stream",
     "text": [
      "[7, 8, 9]\n",
      "[7, 8, 9]\n",
      "[7, 8, 9]\n",
      "[1, 2, 3, 4, 5]\n",
      "[1, 2, 3, 4, 5]\n"
     ]
    }
   ],
   "source": [
    "lst = [1, 2, 3, 4, 5]\n",
    "lst_link = lst\n",
    "lst_shallow_copy = lst[:]\n",
    "lst_hard_copy = lst.copy()\n",
    "lst[:] = [7, 8, 9]\n",
    "print(lst)\n",
    "print(lst_link)\n",
    "print(lst_link)\n",
    "print(lst_shallow_copy)\n",
    "print(lst_hard_copy)"
   ]
  },
  {
   "cell_type": "code",
   "execution_count": 3,
   "metadata": {},
   "outputs": [
    {
     "data": {
      "text/plain": [
       "[1, 2, 3, 4, 5]"
      ]
     },
     "execution_count": 3,
     "metadata": {},
     "output_type": "execute_result"
    }
   ],
   "source": [
    "lst = [1, 2, 3, 4, 5]\n",
    "b = lst[:]\n",
    "b"
   ]
  },
  {
   "cell_type": "code",
   "execution_count": 4,
   "metadata": {},
   "outputs": [
    {
     "data": {
      "text/plain": [
       "[1, 2, 3, 4, 5]"
      ]
     },
     "execution_count": 4,
     "metadata": {},
     "output_type": "execute_result"
    }
   ],
   "source": [
    "lst[0] = 99\n",
    "b"
   ]
  },
  {
   "cell_type": "code",
   "execution_count": 5,
   "metadata": {},
   "outputs": [
    {
     "data": {
      "text/plain": [
       "[99, 2, 3, 4, 5]"
      ]
     },
     "execution_count": 5,
     "metadata": {},
     "output_type": "execute_result"
    }
   ],
   "source": [
    "lst"
   ]
  },
  {
   "cell_type": "code",
   "execution_count": 6,
   "metadata": {},
   "outputs": [],
   "source": [
    "b[0] = 100"
   ]
  },
  {
   "cell_type": "code",
   "execution_count": 8,
   "metadata": {},
   "outputs": [
    {
     "data": {
      "text/plain": [
       "[100, 2, 3, 4, 5]"
      ]
     },
     "execution_count": 8,
     "metadata": {},
     "output_type": "execute_result"
    }
   ],
   "source": [
    "b"
   ]
  },
  {
   "cell_type": "code",
   "execution_count": 126,
   "metadata": {},
   "outputs": [],
   "source": [
    "%reset -f"
   ]
  }
 ],
 "metadata": {
  "kernelspec": {
   "display_name": "Python 3",
   "language": "python",
   "name": "python3"
  },
  "language_info": {
   "codemirror_mode": {
    "name": "ipython",
    "version": 3
   },
   "file_extension": ".py",
   "mimetype": "text/x-python",
   "name": "python",
   "nbconvert_exporter": "python",
   "pygments_lexer": "ipython3",
   "version": "3.6.3"
  }
 },
 "nbformat": 4,
 "nbformat_minor": 2
}
