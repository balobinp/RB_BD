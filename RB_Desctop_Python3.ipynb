{
 "cells": [
  {
   "cell_type": "code",
   "execution_count": null,
   "metadata": {},
   "outputs": [],
   "source": [
    "from IPython.display import HTML\n",
    "HTML('''<script>\n",
    "code_show=true; \n",
    "function code_toggle() {\n",
    " if (code_show){\n",
    " $('div.input').hide();\n",
    " } else {\n",
    " $('div.input').show();\n",
    " }\n",
    " code_show = !code_show\n",
    "} \n",
    "$( document ).ready(code_toggle);\n",
    "</script>\n",
    "<form action=\"javascript:code_toggle()\"><input type=\"submit\" value=\"Click here to toggle on/off the raw code.\"></form>''')"
   ]
  },
  {
   "cell_type": "markdown",
   "metadata": {},
   "source": [
    "# Libraries and functions"
   ]
  },
  {
   "cell_type": "code",
   "execution_count": 3,
   "metadata": {},
   "outputs": [],
   "source": [
    "import numpy as np\n",
    "import pandas as pd\n",
    "import pandasql as ps\n",
    "from pandas import Series, DataFrame\n",
    "import datetime as dt\n",
    "import matplotlib.pyplot as plt\n",
    "import matplotlib as mpl\n",
    "import sys\n",
    "import time\n",
    "import math\n",
    "from tqdm import tqdm\n",
    "from importlib import reload\n",
    "from os.path import join, normpath\n",
    "from bs4 import BeautifulSoup\n",
    "import os\n",
    "import roamability as rb\n",
    "import re\n",
    "\n",
    "downloads = 'C:/Users/balob/Downloads'"
   ]
  },
  {
   "cell_type": "markdown",
   "metadata": {},
   "source": [
    "#### To get the path"
   ]
  },
  {
   "cell_type": "code",
   "execution_count": 95,
   "metadata": {},
   "outputs": [
    {
     "name": "stdout",
     "output_type": "stream",
     "text": [
      "C:\\Users\\balob\\Documents\\GITLAB\\RB_BD\n"
     ]
    },
    {
     "data": {
      "text/plain": [
       "WindowsPath('C:/Users/balob/Documents/GITLAB/RB_BD')"
      ]
     },
     "execution_count": 95,
     "metadata": {},
     "output_type": "execute_result"
    }
   ],
   "source": [
    "from pathlib import Path\n",
    "path_dir = Path.cwd()\n",
    "print(path_dir)\n",
    "path_dir"
   ]
  },
  {
   "cell_type": "code",
   "execution_count": 3,
   "metadata": {},
   "outputs": [
    {
     "data": {
      "text/plain": [
       "'c:/Users/balob/Documents/GITLAB/NOC_Roamability_com/noc/noc'"
      ]
     },
     "execution_count": 3,
     "metadata": {},
     "output_type": "execute_result"
    }
   ],
   "source": [
    "pwd=!echo %cd%\n",
    "pwd=str(pwd)\n",
    "pwd=r\"c:\\Users\\balob\\Documents\\GITLAB\\NOC_Roamability_com\\noc\\noc\"\n",
    "pwd.replace('\\\\','/',100)"
   ]
  },
  {
   "cell_type": "code",
   "execution_count": 99,
   "metadata": {},
   "outputs": [],
   "source": [
    "%reset -f"
   ]
  },
  {
   "cell_type": "markdown",
   "metadata": {},
   "source": [
    "# Examples"
   ]
  },
  {
   "cell_type": "markdown",
   "metadata": {},
   "source": [
    "### Soap API OCS Portal"
   ]
  },
  {
   "cell_type": "code",
   "execution_count": 1,
   "metadata": {},
   "outputs": [
    {
     "name": "stdout",
     "output_type": "stream",
     "text": [
      "Choose connection (prod or lab):lab\n",
      "You are connected to Reseller: Justworks Mobile.    \n",
      "Available credit for the Reseller: 50 USD.\n",
      "\n",
      "The Reseller contains the following accounts:\n",
      " 0    Justworks Mobile test SIMs (accountID: 352598)\n"
     ]
    }
   ],
   "source": [
    "%reset -f\n",
    "from zeep import Client\n",
    "from zeep.wsse.username import UsernameToken\n",
    "\n",
    "connect = input(\"Choose connection (prod or lab):\")\n",
    "\n",
    "if connect == 'lab':\n",
    "    user = 'lab_api@roamability.com'\n",
    "    user = 'lab_ocs@justworksmobile.com'\n",
    "    password = '25D55AD283AA400AF464C76D713C07AD' #Lab\n",
    "    #api_link = 'https://172.20.39.7:8585/ocsapi/roamability/api/roamability.wsdl' #Lab\n",
    "    api_link = 'https://labocsapi.roamability.com:6443/ocsapi/roamability/api/roamability.wsdl'\n",
    "elif connect == 'prod':\n",
    "    user = 'prod_api@roamability.com'\n",
    "    password = '25D55AD283AA400AF464C76D713C07AD'\n",
    "    api_link = 'http://172.20.35.12:8585/ocsapi/roamability/api/roamability.wsdl'\n",
    "\n",
    "user_name_token = UsernameToken(user, password)\n",
    "user_name_token.use_digest = True\n",
    "client = Client(api_link, wsse=user_name_token)\n",
    "\n",
    "reseller = client.service.getResellerInfo()\n",
    "accounts = client.service.getAccounts()\n",
    "\n",
    "if reseller.result.code == '1':\n",
    "    print('You are connected to Reseller: {}.\\\n",
    "    \\nAvailable credit for the Reseller: {:.0f} USD.\\n'.\\\n",
    "    format(reseller.reseller.resellerName,reseller.reseller.availableCredit))\n",
    "else:\n",
    "    print('Error in getting Reseller info: {}'.format(reseller.result.description))\n",
    "\n",
    "if accounts.result.code == '1':\n",
    "    accounts_dict = {account.accountId:account.accountName for account in accounts.accounts.accounts}\n",
    "    print('The Reseller contains the following accounts:')\n",
    "    for i,[account_id,account_name] in enumerate(accounts_dict.items()):\n",
    "        print(' {:<5}{} (accountID: {})'.format(i,account_name,account_id))\n",
    "else:\n",
    "    print('Error in getting Account info: {}'.format(accounts.result.description))\n",
    "    \n",
    "# Subscriber in lab in STI account\n",
    "#subscriber_id = client.service.getSubscriberById('934311')\n",
    "#subscriber_iccid = client.service.getSubscriberByICCID('8997219121000031446')\n",
    "#subscriber_id"
   ]
  },
  {
   "cell_type": "markdown",
   "metadata": {},
   "source": [
    "### Send MSU"
   ]
  },
  {
   "cell_type": "code",
   "execution_count": 508,
   "metadata": {},
   "outputs": [
    {
     "name": "stdout",
     "output_type": "stream",
     "text": [
      "Greetings from Roamability!!! \n",
      "\n"
     ]
    }
   ],
   "source": [
    "from bs4 import BeautifulSoup\n",
    "import roamability as rb\n",
    "#reload(rb)\n",
    "\n",
    "switch_01_payload = '24027000001f0d00010000bfff0100000000000010554f212dbbad49a1caf2573e1a626139'\n",
    "switch_02_payload = '24027000001F0D00010000BFFF0100000000000040a740AD174703383798A7A6545BB36491'\n",
    "\n",
    "#515030190000000\n",
    "#1d46acf860780\n",
    "add_imsi_03 = '3C02700000370d00210000bfff0100000000000040939360c23f417f147557b6940c91ba8b7e54be1c8c950a6ed1235ea8e3d70e9c2d7c34876abd68ec'\n",
    "\n",
    "\n",
    "ogt = {'p4':'48790993070',\n",
    "       'partner':'97254120624',\n",
    "       'sure':'447797706411',\n",
    "       'tot':'66893773228',\n",
    "       'porto_seguro':'550549900000',\n",
    "       'rusec_rus':'79028710069',\n",
    "       'rusec_int':'417999880000024',\n",
    "       'multi_byte_sponsor':'85263347864',\n",
    "       'smart1':'639180009880',\n",
    "       'smart2':'639180009881',\n",
    "       'smart3':'639180009882',\n",
    "       'smart4':'639180009883',\n",
    "       'telzar':'972559900040',\n",
    "       'x2one':'972553316228',}\n",
    "\n",
    "rb.greetings_func()\n",
    "#rb.print_imsi_prof(ogt, imsi, msc, 'as_resp') #'as_mo'\n",
    "#soup = BeautifulSoup(rb.sri4sm(ogt, msisdn),'xml') #250359000007598 79028710043\n",
    "#soup = BeautifulSoup(rb.prn(ogt, dgt, imsi),'xml')\n",
    "#soup = BeautifulSoup(rb.sai(ogt, dgt, imsi, node),'xml') # 0 - vlr; 16 - mme\n",
    "#soup = BeautifulSoup(rb.sendSMS(ogt, imsi, msc, rb.get_info),'xml')\n",
    "#soup = BeautifulSoup(rb.cl(ogt, dgt, imsi, d_ssn=7),'xml')\n",
    "#soup"
   ]
  },
  {
   "cell_type": "code",
   "execution_count": 510,
   "metadata": {},
   "outputs": [
    {
     "name": "stdout",
     "output_type": "stream",
     "text": [
      "Greetings from Roamability!!! \n",
      "\n"
     ]
    },
    {
     "data": {
      "text/plain": [
       "<?xml version=\"1.0\" encoding=\"utf-8\"?>\n",
       "<response>\n",
       "<quintupletList>\n",
       "<sequence>\n",
       "<rand>b4dae2566b85fe29274470e9c1117e47</rand>\n",
       "<xres>9936f0d66274b189</xres>\n",
       "<ck>7d68a66310afa79a0581625e37b149c9</ck>\n",
       "<ik>2d90485ab98ec2fb95d0de90e0abbe0e</ik>\n",
       "<autn>50e9b31c28a910005977025a71c1a20c</autn>\n",
       "</sequence>\n",
       "</quintupletList>\n",
       "<result>0</result>\n",
       "<src_gt>97254120624</src_gt>\n",
       "</response>"
      ]
     },
     "execution_count": 510,
     "metadata": {},
     "output_type": "execute_result"
    }
   ],
   "source": [
    "rb.greetings_func()\n",
    "soup = BeautifulSoup(rb.sai(ogt['partner'], '972549620012610', '425019620012610', 0),'xml') # 0 - vlr; 16 - mme\n",
    "soup"
   ]
  },
  {
   "cell_type": "code",
   "execution_count": 465,
   "metadata": {},
   "outputs": [
    {
     "data": {
      "text/plain": [
       "<?xml version=\"1.0\" encoding=\"utf-8\"?>\n",
       "<response>\n",
       "<result>0</result>\n",
       "<imsi>425120000016219</imsi>\n",
       "<msc nat=\"1\" nbp=\"1\">972571209920</msc>\n",
       "<src_gt>972553316200</src_gt>\n",
       "</response>"
      ]
     },
     "execution_count": 465,
     "metadata": {},
     "output_type": "execute_result"
    }
   ],
   "source": [
    "import http\n",
    "import re\n",
    "from bs4 import BeautifulSoup\n",
    "import sys\n",
    "\n",
    "ss7_url = \"172.18.11.10\"\n",
    "ss7_path = \"/cgi-bin/ss7gw.fcgi\"\n",
    "\n",
    "def executeHTTP(request, url, path):\n",
    "    client = http.client.HTTPConnection(url)\n",
    "    client.request(\"POST\", path, request, {\"Content-Type\": \"text/xml\"})\n",
    "    resp = client.getresponse()\n",
    "    return resp.read()\n",
    "\n",
    "def sri4sm(ogt, msisdn, dgt):\n",
    "    req = \"\"\"<?xml version=\\\"1.0\\\"?>\n",
    "        <ss7gw request=\\\"SRI_SM\\\">\n",
    "        <d_ssn>6</d_ssn>\n",
    "        <o_ssn>8</o_ssn>\n",
    "        <sccp_np>1</sccp_np>\n",
    "        <o_gt>%s</o_gt>\n",
    "        <d_gt>%s</d_gt>\n",
    "        <msisdn>%s</msisdn>\n",
    "        <priority>1</priority>\n",
    "        <address>%s</address>\n",
    "        </ss7gw>\"\"\" % (ogt, dgt, msisdn, ogt)\n",
    "\n",
    "    resp = executeHTTP(req, ss7_url, ss7_path)\n",
    "    return resp\n",
    "soup = BeautifulSoup(sri4sm('972553316228', '972000015593', '972553316200'),'xml') #250359000007598 79028710043\n",
    "soup"
   ]
  },
  {
   "cell_type": "code",
   "execution_count": 24,
   "metadata": {},
   "outputs": [
    {
     "name": "stdout",
     "output_type": "stream",
     "text": [
      "[]\n",
      "[]\n",
      "This SIM card contains the following IMSIs:\n"
     ]
    }
   ],
   "source": [
    "s = '44077FF610027100000B0ABFFF0100000000000000 '\n",
    "#s = '00077FF63A02710000350ABFFF0100000000000000FFFFFFF00001070152F0100000008A567809437451000008495210693100505801082906601094005058'\n",
    "#s = '00077FF63A02710000350ABFFF0100000000000000FFFFFFF00001070152F0100000008A567809437451000008495210693100505801082906601094005058'\n",
    "s = s.upper()\n",
    "imsi_list = re.findall('(0\\d08)(\\d{16})', s)\n",
    "print(imsi_list)\n",
    "\n",
    "print(app_ver)\n",
    "mccmnc_extract = re.findall('FFFFFFF000\\d{6}(.{6})', s)\n",
    "\n",
    "print('This SIM card contains the following IMSIs:')\n",
    "for slot, imsi in imsi_list:\n",
    "    print(f\"Slot {slot[1]} {''.join([imsi[i] for i in [0, 3, 2, 5, 4, 7, 6, 9, 8, 11, 10, 13, 12, 15, 14]])}\")\n",
    "app_ver = re.findall('FFFFFFF000(\\d{6})', s)\n",
    "if app_ver:\n",
    "    print(f'Applet ver.: {int(app_ver[0][:2])}.{int(app_ver[0][2:4])}.{int(app_ver[0][4:6])}')\n",
    "if mccmnc_extract:\n",
    "    mccmnc = ''.join([mccmnc_extract[0][i] for i in [1, 0, 3, 5, 4]])\n",
    "    print(f'MCCMNC: {mccmnc}')"
   ]
  },
  {
   "cell_type": "markdown",
   "metadata": {},
   "source": [
    " ### Format output"
   ]
  },
  {
   "cell_type": "code",
   "execution_count": null,
   "metadata": {},
   "outputs": [],
   "source": [
    "import datetime as dt\n",
    "print( 'start: {} {} :end'.format('one', 'two') ) #start: one two :end\n",
    "print( 'start: {1} {0} :end'.format('one', 'two') ) #start: two one :end\n",
    "print( 'start: test {:10} :end'.format('test') ) #start: test test       :end\n",
    "print( 'start: test {:10} :end'.format(10) ) #start: test         10 :end\n",
    "print( 'start: test {:>10} :end'.format('test') ) #start: test       test :end\n",
    "print( 'start: test {:<10} :end'.format('test') ) #start: test test       :end\n",
    "print( 'start: test {:_<10} :end'.format('test') ) #start: test test______ :end\n",
    "print( 'start: test {:^10} :end'.format('test') ) #start: test    test    :end\n",
    "print( 'start: test {:.10} :end'.format('test1test2test3') ) #start: test test1test2 :end\n",
    "print( 'start: test {:_^10.5} :end'.format('test1test2test3') ) #start: test __test1___ :end\n",
    "print( 'start: test {:d} :end'.format(42) ) #start: test 42 :end\n",
    "print( 'start: test {:f} :end'.format(42) ) #start: test 42.000000 :end\n",
    "print( 'start: test {:06.2f} :end'.format(3.141592) ) #start: test 003.14 :end\n",
    "print( 'start: test {p[first]} {p[last]} :end'.format(p={'first': 'Jean-Luc', 'last': 'Picard'}) ) #start: test Jean-Luc Picard :end\n",
    "print( 'start: test {p[4]} {p[5]} :end'.format(p=[4, 8, 15, 16, 23, 42]) ) #start: test 23 42 :end\n",
    "print( 'start: test {:%Y-%m-%d %H:%M} :end'.format(dt.datetime(2001, 2, 3, 4, 5)) ) #start: test 2001-02-03 04:05 :end"
   ]
  },
  {
   "cell_type": "markdown",
   "metadata": {},
   "source": [
    "### Search in files by Tags"
   ]
  },
  {
   "cell_type": "code",
   "execution_count": 5,
   "metadata": {
    "scrolled": false
   },
   "outputs": [
    {
     "name": "stdout",
     "output_type": "stream",
     "text": [
      "****************************************************************************************************\n",
      "c:\\W_DATA_ROAM\\ДОКУМЕНТАЦИЯ\\NOC_HOW_IT_WORKS\\UsageSponsorReport.txt\n",
      "----------------------------------------------------------------------------------------------------\n",
      "#reports_bss_usage_mop\n",
      "#reports_tariffs_mop\n",
      "------------------------------\n",
      "Отчеты по Cost по Споносрам\n",
      "\n",
      "****************************************************************************************************\n",
      "c:\\W_DATA_ROAM\\ДОКУМЕНТАЦИЯ\\NOC_HOW_IT_WORKS\\BSS_SQL\\Report_BSS_Usage_per_Customer.txt\n",
      "----------------------------------------------------------------------------------------------------\n",
      "#reports_bss_usage_mop\n",
      "------------------------------\n",
      "Отчет по кастомеру, usage_type, month\n",
      "\n",
      "****************************************************************************************************\n",
      "c:\\W_DATA_ROAM\\ДОКУМЕНТАЦИЯ\\NOC_HOW_IT_WORKS\\BSS_SQL\\Report_BSS_Usage_per_PLMN.txt\n",
      "----------------------------------------------------------------------------------------------------\n",
      "#reports_bss_usage_mop\n",
      "------------------------------\n",
      "Отчет sum(TotalChardedUnits) group by  netowrk, usage_type, sponsor, month\n",
      "\n",
      "****************************************************************************************************\n",
      "c:\\W_DATA_ROAM\\ДОКУМЕНТАЦИЯ\\NOC_HOW_IT_WORKS\\BSS_SQL\\Report_BSS_Usage_per_Subscriber.txt\n",
      "----------------------------------------------------------------------------------------------------\n",
      "#reports_bss_usage_mop\n",
      "------------------------------\n",
      "Запрос по абоненту из BSS GPRS\n",
      "\n",
      "****************************************************************************************************\n",
      "c:\\W_DATA_ROAM\\МЕТОДИКИ\\M_REPORT_AUTO_INVOICE_REPORT_CHECK\\readme.txt\n",
      "----------------------------------------------------------------------------------------------------\n",
      "#reports_bss_usage_mop\n",
      "------------------------------\n",
      "Методика сравнения данных автоинвойса Splunk (Monthly auto invoice report) с данными BSS.\n",
      "Запросы для гененации Cost, Revenue по Mobile и Voice.\n",
      "\n",
      "****************************************************************************************************\n",
      "c:\\W_DATA_ROAM\\МЕТОДИКИ\\M_REPORT_MONTHLY_USAGE_P4_CHECKUP\\TEMPLATE.txt\n",
      "----------------------------------------------------------------------------------------------------\n",
      "#reports_bss_usage_mop\n",
      "------------------------------\n",
      "Отчет для проверки инвойсов P4.\n",
      "\n",
      "****************************************************************************************************\n",
      "c:\\W_DATA_ROAM\\МЕТОДИКИ\\M_REPORT_Partnet_Q_Usage\\readme.txt\n",
      "----------------------------------------------------------------------------------------------------\n",
      "#reports_bss_usage_mop\n",
      "#reports_tariffs_mop\n",
      "#reports_traffic_mop\n",
      "------------------------------\n",
      "Методика сравнения тарифов и потребленных сервисов с данными от Партнет с детализацией до месяца и TADIG.\n",
      "\n",
      "****************************************************************************************************\n",
      "c:\\W_DATA_ROAM\\МЕТОДИКИ\\_NOC_M_NEW_CONNECTION\\041_BSS_VoipReportBss\\_TEMPLATE.txt\n",
      "----------------------------------------------------------------------------------------------------\n",
      "#bss_mop\n",
      "#billing_principle_of_operation\n",
      "#reports_bss_usage_mop\n",
      "------------------------------\n",
      "Генерация VoIP отчета через GUI интерфейс для TL.\n",
      "Временное решение до автоматизации.\n",
      "\"till we will automate it into BSS , we will need to do it manually twice a month\n",
      "once at the 1st of each month (so cusotmers will be able to download the voip report and see full info)\n",
      "and once in the middle of the month.\"\n",
      "(Пт 04.01.2019 12:20, Roy Padina <roy@roamability.com>, Load VoIP Calls Data into BSS)\n",
      "\n"
     ]
    }
   ],
   "source": [
    "import roamability as rb\n",
    "reload(rb)\n",
    "\n",
    "# Где искать файлы .txt с тегами\n",
    "paths = ['c:/W_DATA_ROAM/ДОКУМЕНТАЦИЯ/NOC_HOW_IT_WORKS/',\n",
    "        'c:/W_DATA_ROAM/МЕТОДИКИ/',\n",
    "        'c:/W_DATA_ROAM/ПРОЕКТЫ/',\n",
    "        'c:/W_DATA_ROAM/ДОКУМЕНТАЦИЯ/NOC_KNOWN_ISSUES/',\n",
    "        'c:/W_DATA_ROAM/МЕТОДИКИ/_NOC_M_NEW_CONNECTION/',\n",
    "        'c:/W_DATA_ROAM/ALARMS/',\n",
    "        'c:/W_DATA_ROAM/ДОКУМЕНТАЦИЯ/PRICES',\n",
    "        ]\n",
    "\n",
    "# Если хотя бы один из тэгов присутствует. Нужно указать минимум один.\n",
    "any_tags  = ['#reports_bss_usage_mop']\n",
    "\n",
    "# Если все теги присутствуют. Нужно оставить лист пустым [] если нет обязательных тэгов.\n",
    "all_tags = []\n",
    "\n",
    "rb.find_files_by_tags(paths, all_tags, any_tags)"
   ]
  },
  {
   "cell_type": "markdown",
   "metadata": {},
   "source": [
    "### Search in ALARMS by folder names"
   ]
  },
  {
   "cell_type": "code",
   "execution_count": 4,
   "metadata": {},
   "outputs": [
    {
     "name": "stdout",
     "output_type": "stream",
     "text": [
      "c:\\W_DATA_ROAM\\ALARMS\\MOC_Partner_UKRKS_181113\n",
      "c:\\W_DATA_ROAM\\ALARMS\\MOC_Ukraine_UKRKS_#1959330_181014\n",
      "c:\\W_DATA_ROAM\\ALARMS\\PC_Ukraine_UKRKS\n",
      "c:\\W_DATA_ROAM\\ALARMS\\PC_Ukraine_UKRKS_data_speed_180630_#1709670\n"
     ]
    }
   ],
   "source": [
    "import os\n",
    "\n",
    "paths = ['c:/W_DATA_ROAM/ALARMS/',\n",
    "        ]\n",
    "\n",
    "for path in paths:\n",
    "    names = os.listdir(path)\n",
    "    [print(normpath(path + name)) for name in names if name.upper().find('UKRKS')!=-1]"
   ]
  },
  {
   "cell_type": "markdown",
   "metadata": {},
   "source": [
    "### Search in Allowed Lists and others"
   ]
  },
  {
   "cell_type": "code",
   "execution_count": 103,
   "metadata": {},
   "outputs": [],
   "source": [
    "downloads = 'C:/Users/balob/Downloads'\n",
    "dmi_allowed_list = 'DMI.dmi_allowed_list_export_Thu_Apr_18_2019.csv'\n",
    "dmi_netpfx = 'DMI.dmi_netpfx_export_Wed_Mar_20_2019.csv'\n",
    "bss_usage = 'bss_usage_2019_03.csv'\n",
    "\n",
    "#Like expression for Allowed List\n",
    "df_al=pd.read_csv(join(downloads, dmi_allowed_list))\n",
    "df_al['SPONSOR'] = df_al['Sponsor'].replace(to_replace={r'[Pp][Aa][rtner]?[\\s\\w-]*':'S1', r'[Pp]4[\\s\\w-]*':'S2'}, regex=True)\n",
    "df_al.rename({'PLMN code':'TADIG'}, axis=1, inplace=True)\n",
    "#df_al_lab=pd.read_csv('LAB_DMI.dmi_allowed_list_export_Wed_Oct_03_2018.csv')\n",
    "\n",
    "df_usage = pd.read_csv(join(downloads, bss_usage), sep=';')\n",
    "cols = ['REP_DATE','VPLMN','SPONSOR','MOC','MOC_SMS','DATA']\n",
    "df_usage = df_usage.pivot_table(values='COST', index=['REP_DATE', 'VPLMN', 'SPONSOR'], columns='USAGE_TYPE').reset_index()[cols]\n",
    "df_usage.rename({'VPLMN':'TADIG'}, axis=1, inplace=True)\n",
    "df_usage.columns.name=''\n",
    "\n",
    "df_al = pd.merge(df_al, df_usage, how='left', on=['SPONSOR','TADIG'])\n",
    "\n",
    "#df_dmi_diam_oper=pd.read_csv(join(download,''))\n",
    "df_np=pd.read_csv(join(downloads, dmi_netpfx))\n",
    "#df_did=pd.read_csv('HRR.hrr_did_export_Wed_Aug_08_2018.csv')\n",
    "#f_tap_ocs=pd.read_csv('tap_ocs_analysis_180817.csv')"
   ]
  },
  {
   "cell_type": "code",
   "execution_count": 104,
   "metadata": {},
   "outputs": [
    {
     "data": {
      "text/html": [
       "<div>\n",
       "<style scoped>\n",
       "    .dataframe tbody tr th:only-of-type {\n",
       "        vertical-align: middle;\n",
       "    }\n",
       "\n",
       "    .dataframe tbody tr th {\n",
       "        vertical-align: top;\n",
       "    }\n",
       "\n",
       "    .dataframe thead th {\n",
       "        text-align: right;\n",
       "    }\n",
       "</style>\n",
       "<table border=\"1\" class=\"dataframe\">\n",
       "  <thead>\n",
       "    <tr style=\"text-align: right;\">\n",
       "      <th></th>\n",
       "      <th>Sponsor</th>\n",
       "      <th>TADIG</th>\n",
       "      <th>REP_DATE</th>\n",
       "      <th>MOC</th>\n",
       "      <th>MOC_SMS</th>\n",
       "      <th>DATA</th>\n",
       "    </tr>\n",
       "  </thead>\n",
       "  <tbody>\n",
       "    <tr>\n",
       "      <th>2303</th>\n",
       "      <td>Partner_Combined</td>\n",
       "      <td>JPNDO</td>\n",
       "      <td>2019-03</td>\n",
       "      <td>NaN</td>\n",
       "      <td>1.615624</td>\n",
       "      <td>1039.265324</td>\n",
       "    </tr>\n",
       "    <tr>\n",
       "      <th>2381</th>\n",
       "      <td>Partner_Combined</td>\n",
       "      <td>JPNJP</td>\n",
       "      <td>2019-03</td>\n",
       "      <td>392.99876</td>\n",
       "      <td>25.349681</td>\n",
       "      <td>4841.904612</td>\n",
       "    </tr>\n",
       "  </tbody>\n",
       "</table>\n",
       "</div>"
      ],
      "text/plain": [
       "               Sponsor  TADIG REP_DATE        MOC    MOC_SMS         DATA\n",
       "2303  Partner_Combined  JPNDO  2019-03        NaN   1.615624  1039.265324\n",
       "2381  Partner_Combined  JPNJP  2019-03  392.99876  25.349681  4841.904612"
      ]
     },
     "execution_count": 104,
     "metadata": {},
     "output_type": "execute_result"
    }
   ],
   "source": [
    "sponsor = 'combined' # Use regular expressions if it's needed\n",
    "tadig = 'JPN'\n",
    "\n",
    "df_al.loc[(df_al['TADIG'].str.startswith(tadig, na=False)) &\n",
    "          (df_al['Sponsor'].str.contains(sponsor, na=False, regex=True, flags=re.I)),\n",
    "          ['Sponsor','TADIG','REP_DATE','MOC','MOC_SMS','DATA']].sort_values(by=['Sponsor','TADIG'])"
   ]
  },
  {
   "cell_type": "code",
   "execution_count": 271,
   "metadata": {},
   "outputs": [
    {
     "data": {
      "text/html": [
       "<div>\n",
       "<style scoped>\n",
       "    .dataframe tbody tr th:only-of-type {\n",
       "        vertical-align: middle;\n",
       "    }\n",
       "\n",
       "    .dataframe tbody tr th {\n",
       "        vertical-align: top;\n",
       "    }\n",
       "\n",
       "    .dataframe thead th {\n",
       "        text-align: right;\n",
       "    }\n",
       "</style>\n",
       "<table border=\"1\" class=\"dataframe\">\n",
       "  <thead>\n",
       "    <tr style=\"text-align: right;\">\n",
       "      <th></th>\n",
       "      <th>Operator</th>\n",
       "      <th>Prefix</th>\n",
       "      <th>Number/Range</th>\n",
       "      <th>SSN</th>\n",
       "      <th>MCC</th>\n",
       "      <th>MNC</th>\n",
       "    </tr>\n",
       "  </thead>\n",
       "  <tbody>\n",
       "    <tr>\n",
       "      <th>226</th>\n",
       "      <td>UKRUM</td>\n",
       "      <td>38050</td>\n",
       "      <td>1</td>\n",
       "      <td>7</td>\n",
       "      <td>255</td>\n",
       "      <td>1</td>\n",
       "    </tr>\n",
       "    <tr>\n",
       "      <th>227</th>\n",
       "      <td>UKRUM</td>\n",
       "      <td>38050</td>\n",
       "      <td>1</td>\n",
       "      <td>149</td>\n",
       "      <td>255</td>\n",
       "      <td>1</td>\n",
       "    </tr>\n",
       "    <tr>\n",
       "      <th>10163</th>\n",
       "      <td>UKRUM</td>\n",
       "      <td>38050000000</td>\n",
       "      <td>0</td>\n",
       "      <td>1</td>\n",
       "      <td>255</td>\n",
       "      <td>1</td>\n",
       "    </tr>\n",
       "  </tbody>\n",
       "</table>\n",
       "</div>"
      ],
      "text/plain": [
       "      Operator       Prefix  Number/Range  SSN  MCC  MNC\n",
       "226      UKRUM        38050             1    7  255    1\n",
       "227      UKRUM        38050             1  149  255    1\n",
       "10163    UKRUM  38050000000             0    1  255    1"
      ]
     },
     "execution_count": 271,
     "metadata": {},
     "output_type": "execute_result"
    }
   ],
   "source": [
    "df_np[(df_np.Operator.str.startswith('UKRUM',na=False))] #.to_csv(join(downloads,'Prefix.csv')) # & (df_np.SSN==7)"
   ]
  },
  {
   "cell_type": "code",
   "execution_count": 32,
   "metadata": {},
   "outputs": [
    {
     "data": {
      "text/html": [
       "<div>\n",
       "<style scoped>\n",
       "    .dataframe tbody tr th:only-of-type {\n",
       "        vertical-align: middle;\n",
       "    }\n",
       "\n",
       "    .dataframe tbody tr th {\n",
       "        vertical-align: top;\n",
       "    }\n",
       "\n",
       "    .dataframe thead th {\n",
       "        text-align: right;\n",
       "    }\n",
       "</style>\n",
       "<table border=\"1\" class=\"dataframe\">\n",
       "  <thead>\n",
       "    <tr style=\"text-align: right;\">\n",
       "      <th></th>\n",
       "      <th>Sponsor</th>\n",
       "      <th>TADIG</th>\n",
       "    </tr>\n",
       "  </thead>\n",
       "  <tbody>\n",
       "    <tr>\n",
       "      <th>1815</th>\n",
       "      <td>Partner_Clay_Com</td>\n",
       "      <td>CODVC</td>\n",
       "    </tr>\n",
       "    <tr>\n",
       "      <th>3323</th>\n",
       "      <td>Partner_Combined</td>\n",
       "      <td>CODVC</td>\n",
       "    </tr>\n",
       "    <tr>\n",
       "      <th>679</th>\n",
       "      <td>Partner_STI_Comb</td>\n",
       "      <td>CODVC</td>\n",
       "    </tr>\n",
       "  </tbody>\n",
       "</table>\n",
       "</div>"
      ],
      "text/plain": [
       "               Sponsor  TADIG\n",
       "1815  Partner_Clay_Com  CODVC\n",
       "3323  Partner_Combined  CODVC\n",
       "679   Partner_STI_Comb  CODVC"
      ]
     },
     "metadata": {},
     "output_type": "display_data"
    },
    {
     "data": {
      "text/html": [
       "<div>\n",
       "<style scoped>\n",
       "    .dataframe tbody tr th:only-of-type {\n",
       "        vertical-align: middle;\n",
       "    }\n",
       "\n",
       "    .dataframe tbody tr th {\n",
       "        vertical-align: top;\n",
       "    }\n",
       "\n",
       "    .dataframe thead th {\n",
       "        text-align: right;\n",
       "    }\n",
       "</style>\n",
       "<table border=\"1\" class=\"dataframe\">\n",
       "  <thead>\n",
       "    <tr style=\"text-align: right;\">\n",
       "      <th></th>\n",
       "      <th>Operator</th>\n",
       "      <th>Prefix</th>\n",
       "      <th>Number/Range</th>\n",
       "      <th>SSN</th>\n",
       "      <th>MCC</th>\n",
       "      <th>MNC</th>\n",
       "    </tr>\n",
       "  </thead>\n",
       "  <tbody>\n",
       "    <tr>\n",
       "      <th>840</th>\n",
       "      <td>CODVC</td>\n",
       "      <td>24381</td>\n",
       "      <td>1</td>\n",
       "      <td>7</td>\n",
       "      <td>630</td>\n",
       "      <td>1</td>\n",
       "    </tr>\n",
       "    <tr>\n",
       "      <th>841</th>\n",
       "      <td>CODVC</td>\n",
       "      <td>24381</td>\n",
       "      <td>1</td>\n",
       "      <td>149</td>\n",
       "      <td>630</td>\n",
       "      <td>1</td>\n",
       "    </tr>\n",
       "    <tr>\n",
       "      <th>5140</th>\n",
       "      <td>CODVC</td>\n",
       "      <td>2438181959</td>\n",
       "      <td>0</td>\n",
       "      <td>7</td>\n",
       "      <td>630</td>\n",
       "      <td>1</td>\n",
       "    </tr>\n",
       "    <tr>\n",
       "      <th>8866</th>\n",
       "      <td>CODVC</td>\n",
       "      <td>2438181999</td>\n",
       "      <td>0</td>\n",
       "      <td>149</td>\n",
       "      <td>630</td>\n",
       "      <td>1</td>\n",
       "    </tr>\n",
       "    <tr>\n",
       "      <th>9740</th>\n",
       "      <td>CODVC</td>\n",
       "      <td>24381819990</td>\n",
       "      <td>0</td>\n",
       "      <td>1</td>\n",
       "      <td>630</td>\n",
       "      <td>1</td>\n",
       "    </tr>\n",
       "  </tbody>\n",
       "</table>\n",
       "</div>"
      ],
      "text/plain": [
       "     Operator       Prefix  Number/Range  SSN  MCC  MNC\n",
       "840     CODVC        24381             1    7  630    1\n",
       "841     CODVC        24381             1  149  630    1\n",
       "5140    CODVC   2438181959             0    7  630    1\n",
       "8866    CODVC   2438181999             0  149  630    1\n",
       "9740    CODVC  24381819990             0    1  630    1"
      ]
     },
     "metadata": {},
     "output_type": "display_data"
    }
   ],
   "source": [
    "plmn = 'CODVC'\n",
    "df1 = df_al.loc[(df_al['TADIG'].str.startswith(plmn, na=False)) &\n",
    "          (df_al['Sponsor'].str.contains('', na=False)), ['Sponsor','TADIG']].sort_values(by=['Sponsor','TADIG'])\n",
    "df2 = df_np[(df_np.Operator.str.startswith(plmn,na=False))] #.to_csv(join(downloads,'Prefix.csv')) # & (df_np.SSN==7)\n",
    "display(df1)\n",
    "display(df2)"
   ]
  },
  {
   "cell_type": "code",
   "execution_count": 442,
   "metadata": {},
   "outputs": [
    {
     "data": {
      "text/html": [
       "<div>\n",
       "<style scoped>\n",
       "    .dataframe tbody tr th:only-of-type {\n",
       "        vertical-align: middle;\n",
       "    }\n",
       "\n",
       "    .dataframe tbody tr th {\n",
       "        vertical-align: top;\n",
       "    }\n",
       "\n",
       "    .dataframe thead th {\n",
       "        text-align: right;\n",
       "    }\n",
       "</style>\n",
       "<table border=\"1\" class=\"dataframe\">\n",
       "  <thead>\n",
       "    <tr style=\"text-align: right;\">\n",
       "      <th></th>\n",
       "      <th>Operator</th>\n",
       "      <th>Prefix</th>\n",
       "      <th>Number/Range</th>\n",
       "      <th>SSN</th>\n",
       "      <th>MCC</th>\n",
       "      <th>MNC</th>\n",
       "    </tr>\n",
       "  </thead>\n",
       "  <tbody>\n",
       "    <tr>\n",
       "      <th>2642</th>\n",
       "      <td>INDBO</td>\n",
       "      <td>919822</td>\n",
       "      <td>1</td>\n",
       "      <td>7</td>\n",
       "      <td>404</td>\n",
       "      <td>22</td>\n",
       "    </tr>\n",
       "    <tr>\n",
       "      <th>2643</th>\n",
       "      <td>INDBO</td>\n",
       "      <td>919822</td>\n",
       "      <td>1</td>\n",
       "      <td>149</td>\n",
       "      <td>404</td>\n",
       "      <td>22</td>\n",
       "    </tr>\n",
       "  </tbody>\n",
       "</table>\n",
       "</div>"
      ],
      "text/plain": [
       "     Operator  Prefix  Number/Range  SSN  MCC  MNC\n",
       "2642    INDBO  919822             1    7  404   22\n",
       "2643    INDBO  919822             1  149  404   22"
      ]
     },
     "execution_count": 442,
     "metadata": {},
     "output_type": "execute_result"
    }
   ],
   "source": [
    "str(df_np[(df_np.Prefix.str.startswith('6683',na=False))].Prefix.unique().tolist())\n",
    "df_np[(df_np.Prefix.str.startswith('919822',na=False))]"
   ]
  },
  {
   "cell_type": "markdown",
   "metadata": {},
   "source": [
    "### Hex to Dec conversion"
   ]
  },
  {
   "cell_type": "code",
   "execution_count": null,
   "metadata": {},
   "outputs": [],
   "source": []
  },
  {
   "cell_type": "code",
   "execution_count": 130,
   "metadata": {},
   "outputs": [
    {
     "name": "stdout",
     "output_type": "stream",
     "text": [
      "Hex to dec\n",
      "4466\n",
      "Dec to hex\n",
      "0X7AA\n",
      "7AA\n",
      "Dec to bin\n",
      "11110101010\n",
      "Bin to dec\n",
      "10\n",
      "Hex to bin\n",
      "1000101110010\n",
      "0b1010101111000001001000111110111111111111\n"
     ]
    },
    {
     "data": {
      "text/plain": [
       "'0000000010101011'"
      ]
     },
     "execution_count": 130,
     "metadata": {},
     "output_type": "execute_result"
    }
   ],
   "source": [
    "hex_str = '1172'\n",
    "dec_str = '2505'\n",
    "dec_int = 1962\n",
    "bin_str = '1010'\n",
    "\n",
    "# Hex to dec\n",
    "print('Hex to dec')\n",
    "print(int(hex_str,16))\n",
    "\n",
    "# Dec to hex\n",
    "print('Dec to hex')\n",
    "print(hex(dec_int).upper())\n",
    "print('%x'.upper() % dec_int)\n",
    "\n",
    "# Dec to bin\n",
    "print('Dec to bin')\n",
    "print(bin(dec_int)[2:].zfill(8))\n",
    "\n",
    "# Bin to dec\n",
    "print('Bin to dec')\n",
    "print(int(bin_str,2))\n",
    "\n",
    "# Hex to bin\n",
    "print('Hex to bin')\n",
    "print(bin(int(hex_str, 16))[2:].zfill(8))\n",
    "print(bin(0xABC123EFFF))\n",
    "f'{0xAB:0>16b}'"
   ]
  },
  {
   "cell_type": "code",
   "execution_count": 188,
   "metadata": {},
   "outputs": [
    {
     "data": {
      "text/plain": [
       "'0b10 - 0b111101 - 0b110'"
      ]
     },
     "execution_count": 188,
     "metadata": {},
     "output_type": "execute_result"
    }
   ],
   "source": [
    "f'{bin(2)} - {bin(61)} - {bin(6)}'\n",
    "#2.61.6"
   ]
  },
  {
   "cell_type": "code",
   "execution_count": 186,
   "metadata": {},
   "outputs": [
    {
     "name": "stdout",
     "output_type": "stream",
     "text": [
      "0b10101010100011\n",
      "5 - 84 - 3\n"
     ]
    }
   ],
   "source": [
    "print(bin(10915))\n",
    "a = '10101010100011'\n",
    "# = '00000011001101'\n",
    "print(int(a[-14:-11],2),'-',int(a[-11:-3],2),'-',int(a[-3:],2) )"
   ]
  },
  {
   "cell_type": "markdown",
   "metadata": {},
   "source": [
    "### Rename files"
   ]
  },
  {
   "cell_type": "code",
   "execution_count": null,
   "metadata": {},
   "outputs": [],
   "source": [
    "import os\n",
    "import re\n",
    "path = 'c:/Users/balob/Downloads/new1/'\n",
    "prefix = 'PYCON'\n",
    "topic = ''\n",
    "os.chdir(path)\n",
    "names = sorted(filter(os.path.isfile, os.listdir('.')), key=os.path.getmtime)\n",
    "for i,name in enumerate(names):\n",
    "    short_name = re.sub('[!#?«»,() \\+\\-؟]','',name[:-4:][:50])\n",
    "    if i < 10:\n",
    "        number = '0'+str(i)\n",
    "    else:\n",
    "        number = str(i)\n",
    "    new_name = '{}_{}_{}.mp4'.format(prefix,number,short_name)\n",
    "    print('{} -> {}'.format(name,new_name))\n",
    "    os.rename(name,new_name)"
   ]
  },
  {
   "cell_type": "markdown",
   "metadata": {},
   "source": [
    "### Чтение логов с удаленного сервера SFTP (stat_GrayLog.log)"
   ]
  },
  {
   "cell_type": "code",
   "execution_count": 86,
   "metadata": {},
   "outputs": [
    {
     "name": "stdout",
     "output_type": "stream",
     "text": [
      "0 2019-01-24 05:00:45,431 - ss7_stat - INFO - rep_ss7_sqlite_db_py2. End. Total elapsed time 0:00:43.978321\n",
      "8 2019-01-23 05:00:47,552 - ss7_stat - INFO - rep_ss7_sqlite_db_py2. End. Total elapsed time 0:00:45.941926\n",
      "16 2019-01-22 05:00:49,749 - ss7_stat - INFO - rep_ss7_sqlite_db_py2. End. Total elapsed time 0:00:45.060281\n",
      "24 2019-01-21 05:00:49,224 - ss7_stat - INFO - rep_ss7_sqlite_db_py2. End. Total elapsed time 0:00:44.623832\n",
      "32 2019-01-20 05:00:47,066 - ss7_stat - INFO - rep_ss7_sqlite_db_py2. End. Total elapsed time 0:00:45.239989\n",
      "40 2019-01-19 05:00:45,864 - ss7_stat - INFO - rep_ss7_sqlite_db_py2. End. Total elapsed time 0:00:43.761820\n",
      "48 2019-01-18 05:00:46,195 - ss7_stat - INFO - rep_ss7_sqlite_db_py2. End. Total elapsed time 0:00:43.864928\n"
     ]
    }
   ],
   "source": [
    "import paramiko\n",
    "print_lines = 50\n",
    "host = '172.19.11.191'\n",
    "user = 'pavel'\n",
    "secret = 'RzAZPjMjvujCPjU88bpevQp'\n",
    "file_path_name = '/home/tracer/LOG/stat_GrayLog.log'\n",
    "port = 22\n",
    "client = paramiko.SSHClient()\n",
    "client.set_missing_host_key_policy(paramiko.AutoAddPolicy())\n",
    "client.connect(hostname=host, username=user, password=secret, port=port)\n",
    "sftp_client = client.open_sftp()\n",
    "remote_file = sftp_client.open(file_path_name)\n",
    "try:\n",
    "    #for line in remote_file:\n",
    "    for i,line in enumerate(reversed(list(remote_file))):\n",
    "        if i < print_lines:\n",
    "            if 'Total' in line:\n",
    "                print(i,line,end='')\n",
    "            #print(i,line,end='')\n",
    "        else:\n",
    "            break\n",
    "finally:\n",
    "    remote_file.close()\n",
    "client.close()\n",
    "# (https://stackoverflow.com/questions/1596963/read-a-file-from-server-with-ssh-using-python)"
   ]
  },
  {
   "cell_type": "markdown",
   "metadata": {},
   "source": [
    "### Pricing counting"
   ]
  },
  {
   "cell_type": "code",
   "execution_count": 192,
   "metadata": {},
   "outputs": [
    {
     "name": "stdout",
     "output_type": "stream",
     "text": [
      "Price P4\n",
      "Price 1.2            : [1.8, 0.0, 0.3, 8.844]\n",
      "Price 1.2*1.5        : [2.7, 0.0, 0.45, 13.266]\n",
      "Price 1.2*1.5*1.15   : [3.105, 0.0, 0.5175, 15.2559]\n",
      "Price 1.2*1.5*1.30   : [3.51, 0.0, 0.585, 17.2458]\n",
      "Price 2              : [3.6, 0.0, 0.6, 17.688]\n",
      "\n",
      "Price Partner\n",
      "Price 1.5            : [2.25, 0.0, 0.375, 11.055]\n",
      "Price 1.5*1.15       : [2.5875, 0.0, 0.43125, 12.71325]\n",
      "Price 1.5*1.30       : [2.925, 0.0, 0.4875, 14.3715]\n",
      "Price 2              : [3.0, 0, 0.5, 14.74]\n"
     ]
    }
   ],
   "source": [
    "moc=1.5\n",
    "mtc=0\n",
    "text=0.25\n",
    "data=7.37\n",
    "\n",
    "tariff=[moc,mtc,text,data]\n",
    "\n",
    "print(\"Price P4\")\n",
    "for k,v in {'1.2':1.2,'1.2*1.5':1.2*1.5,'1.2*1.5*1.15':1.2*1.5*1.15,'1.2*1.5*1.30':1.2*1.5*1.30,'2':1.2*2}.items():\n",
    "    print(\"Price {:<15}:\".format(k),[round(i*v,6) for i in tariff])\n",
    "print(\"\\nPrice Partner\")\n",
    "for k,v in {'1.5':1.5,'1.5*1.15':1.5*1.15,'1.5*1.30':1.5*1.30,'2':2}.items():\n",
    "    print(\"Price {:<15}:\".format(k),[round(i*v,6) for i in tariff])"
   ]
  },
  {
   "cell_type": "markdown",
   "metadata": {},
   "source": [
    "## Testing"
   ]
  },
  {
   "cell_type": "code",
   "execution_count": null,
   "metadata": {},
   "outputs": [],
   "source": [
    "import requests\n",
    "#payload = {'key1':'value1','key2':'value2'}\n",
    "#r = requests.get('http://192.168.1.44:80/climate;sensor=1&readattempt=10&temperature=nan&humidity=nan')\n",
    "r = requests.get('http://192.168.1.44:80/climate;sensor=1&readattempt=10&temperature=10.0&humidity=10.0')\n",
    "#r = requests.get('http://192.168.1.53:80/connected;IpAddr=192.168.1.63')\n",
    "print('Status: ',r.status_code,'\\n',r.text)\n",
    "r.close()"
   ]
  },
  {
   "cell_type": "code",
   "execution_count": null,
   "metadata": {},
   "outputs": [],
   "source": []
  },
  {
   "cell_type": "code",
   "execution_count": null,
   "metadata": {},
   "outputs": [],
   "source": []
  },
  {
   "cell_type": "code",
   "execution_count": null,
   "metadata": {},
   "outputs": [],
   "source": []
  },
  {
   "cell_type": "code",
   "execution_count": 467,
   "metadata": {},
   "outputs": [
    {
     "name": "stdout",
     "output_type": "stream",
     "text": [
      "PDU SQN: 2\n"
     ]
    }
   ],
   "source": [
    "import smpplib\n",
    "client = None\n",
    "parts, encoding_flag, msg_type_flag = smpplib.gsm.make_parts(u'Hello world!')\n",
    "client = smpplib.client.Client('176.10.126.173', 2770)\n",
    "client.connect()\n",
    "client.bind_transceiver(system_id='test', password='test')\n",
    "for part in parts:\n",
    "    pdu = client.send_message(\n",
    "        source_addr_ton=smpplib.consts.SMPP_TON_INTL,\n",
    "        #source_addr_npi=smpplib.consts.SMPP_NPI_ISDN,\n",
    "        # Make sure it is a byte string, not unicode:\n",
    "        source_addr='447781518790',\n",
    "        dest_addr_ton=smpplib.consts.SMPP_TON_INTL,\n",
    "        #dest_addr_npi=smpplib.consts.SMPP_NPI_ISDN,\n",
    "        # Make sure thease two params are byte strings, not unicode:\n",
    "        destination_addr='447781518791',\n",
    "        short_message=part,\n",
    "        data_coding=encoding_flag,\n",
    "        esm_class=msg_type_flag,\n",
    "        registered_delivery=True,)\n",
    "    print(f'PDU SQN: {pdu.sequence}')\n",
    "client.unbind()\n",
    "client.unbind()\n",
    "client.disconnect()"
   ]
  },
  {
   "cell_type": "code",
   "execution_count": 464,
   "metadata": {},
   "outputs": [
    {
     "name": "stderr",
     "output_type": "stream",
     "text": [
      "WARNING:smpplib.client:<smpplib.client.Client object at 0x0000024175481748> is disconnecting in the bound state\n"
     ]
    }
   ],
   "source": [
    "client.disconnect()"
   ]
  },
  {
   "cell_type": "code",
   "execution_count": 453,
   "metadata": {},
   "outputs": [
    {
     "ename": "ConnectionError",
     "evalue": "Connection refused",
     "output_type": "error",
     "traceback": [
      "\u001b[1;31m---------------------------------------------------------------------------\u001b[0m",
      "\u001b[1;31mtimeout\u001b[0m                                   Traceback (most recent call last)",
      "\u001b[1;32m~\\Miniconda3\\lib\\site-packages\\smpplib\\client.py\u001b[0m in \u001b[0;36mconnect\u001b[1;34m(self)\u001b[0m\n\u001b[0;32m    108\u001b[0m                 \u001b[0mself\u001b[0m\u001b[1;33m.\u001b[0m\u001b[0m_socket\u001b[0m \u001b[1;33m=\u001b[0m \u001b[0msocket\u001b[0m\u001b[1;33m.\u001b[0m\u001b[0msocket\u001b[0m\u001b[1;33m(\u001b[0m\u001b[0msocket\u001b[0m\u001b[1;33m.\u001b[0m\u001b[0mAF_INET\u001b[0m\u001b[1;33m,\u001b[0m \u001b[0msocket\u001b[0m\u001b[1;33m.\u001b[0m\u001b[0mSOCK_STREAM\u001b[0m\u001b[1;33m)\u001b[0m\u001b[1;33m\u001b[0m\u001b[0m\n\u001b[1;32m--> 109\u001b[1;33m             \u001b[0mself\u001b[0m\u001b[1;33m.\u001b[0m\u001b[0m_socket\u001b[0m\u001b[1;33m.\u001b[0m\u001b[0mconnect\u001b[0m\u001b[1;33m(\u001b[0m\u001b[1;33m(\u001b[0m\u001b[0mself\u001b[0m\u001b[1;33m.\u001b[0m\u001b[0mhost\u001b[0m\u001b[1;33m,\u001b[0m \u001b[0mself\u001b[0m\u001b[1;33m.\u001b[0m\u001b[0mport\u001b[0m\u001b[1;33m)\u001b[0m\u001b[1;33m)\u001b[0m\u001b[1;33m\u001b[0m\u001b[0m\n\u001b[0m\u001b[0;32m    110\u001b[0m             \u001b[0mself\u001b[0m\u001b[1;33m.\u001b[0m\u001b[0mstate\u001b[0m \u001b[1;33m=\u001b[0m \u001b[0mconsts\u001b[0m\u001b[1;33m.\u001b[0m\u001b[0mSMPP_CLIENT_STATE_OPEN\u001b[0m\u001b[1;33m\u001b[0m\u001b[0m\n",
      "\u001b[1;31mtimeout\u001b[0m: timed out",
      "\nDuring handling of the above exception, another exception occurred:\n",
      "\u001b[1;31mConnectionError\u001b[0m                           Traceback (most recent call last)",
      "\u001b[1;32m<ipython-input-453-391da069f4c6>\u001b[0m in \u001b[0;36m<module>\u001b[1;34m()\u001b[0m\n\u001b[0;32m      3\u001b[0m \u001b[0mparts\u001b[0m\u001b[1;33m,\u001b[0m \u001b[0mencoding_flag\u001b[0m\u001b[1;33m,\u001b[0m \u001b[0mmsg_type_flag\u001b[0m \u001b[1;33m=\u001b[0m \u001b[0msmpplib\u001b[0m\u001b[1;33m.\u001b[0m\u001b[0mgsm\u001b[0m\u001b[1;33m.\u001b[0m\u001b[0mmake_parts\u001b[0m\u001b[1;33m(\u001b[0m\u001b[1;34mu'Hello world!'\u001b[0m\u001b[1;33m)\u001b[0m\u001b[1;33m\u001b[0m\u001b[0m\n\u001b[0;32m      4\u001b[0m \u001b[0mclient\u001b[0m \u001b[1;33m=\u001b[0m \u001b[0msmpplib\u001b[0m\u001b[1;33m.\u001b[0m\u001b[0mclient\u001b[0m\u001b[1;33m.\u001b[0m\u001b[0mClient\u001b[0m\u001b[1;33m(\u001b[0m\u001b[1;34m'88.81.151.245'\u001b[0m\u001b[1;33m,\u001b[0m \u001b[1;36m9000\u001b[0m\u001b[1;33m)\u001b[0m\u001b[1;33m\u001b[0m\u001b[0m\n\u001b[1;32m----> 5\u001b[1;33m \u001b[0mclient\u001b[0m\u001b[1;33m.\u001b[0m\u001b[0mconnect\u001b[0m\u001b[1;33m(\u001b[0m\u001b[1;33m)\u001b[0m\u001b[1;33m\u001b[0m\u001b[0m\n\u001b[0m\u001b[0;32m      6\u001b[0m \u001b[0mclient\u001b[0m\u001b[1;33m.\u001b[0m\u001b[0mbind_transceiver\u001b[0m\u001b[1;33m(\u001b[0m\u001b[0msystem_id\u001b[0m\u001b[1;33m=\u001b[0m\u001b[1;34m'Roamabil'\u001b[0m\u001b[1;33m,\u001b[0m \u001b[0mpassword\u001b[0m\u001b[1;33m=\u001b[0m\u001b[1;34m'g45Jv32m'\u001b[0m\u001b[1;33m)\u001b[0m\u001b[1;33m\u001b[0m\u001b[0m\n\u001b[0;32m      7\u001b[0m \u001b[1;32mfor\u001b[0m \u001b[0mpart\u001b[0m \u001b[1;32min\u001b[0m \u001b[0mparts\u001b[0m\u001b[1;33m:\u001b[0m\u001b[1;33m\u001b[0m\u001b[0m\n",
      "\u001b[1;32m~\\Miniconda3\\lib\\site-packages\\smpplib\\client.py\u001b[0m in \u001b[0;36mconnect\u001b[1;34m(self)\u001b[0m\n\u001b[0;32m    110\u001b[0m             \u001b[0mself\u001b[0m\u001b[1;33m.\u001b[0m\u001b[0mstate\u001b[0m \u001b[1;33m=\u001b[0m \u001b[0mconsts\u001b[0m\u001b[1;33m.\u001b[0m\u001b[0mSMPP_CLIENT_STATE_OPEN\u001b[0m\u001b[1;33m\u001b[0m\u001b[0m\n\u001b[0;32m    111\u001b[0m         \u001b[1;32mexcept\u001b[0m \u001b[0msocket\u001b[0m\u001b[1;33m.\u001b[0m\u001b[0merror\u001b[0m\u001b[1;33m:\u001b[0m\u001b[1;33m\u001b[0m\u001b[0m\n\u001b[1;32m--> 112\u001b[1;33m             \u001b[1;32mraise\u001b[0m \u001b[0mexceptions\u001b[0m\u001b[1;33m.\u001b[0m\u001b[0mConnectionError\u001b[0m\u001b[1;33m(\u001b[0m\u001b[1;34m\"Connection refused\"\u001b[0m\u001b[1;33m)\u001b[0m\u001b[1;33m\u001b[0m\u001b[0m\n\u001b[0m\u001b[0;32m    113\u001b[0m \u001b[1;33m\u001b[0m\u001b[0m\n\u001b[0;32m    114\u001b[0m     \u001b[1;32mdef\u001b[0m \u001b[0mdisconnect\u001b[0m\u001b[1;33m(\u001b[0m\u001b[0mself\u001b[0m\u001b[1;33m)\u001b[0m\u001b[1;33m:\u001b[0m\u001b[1;33m\u001b[0m\u001b[0m\n",
      "\u001b[1;31mConnectionError\u001b[0m: Connection refused"
     ]
    }
   ],
   "source": [
    "import smpplib\n",
    "client = None\n",
    "parts, encoding_flag, msg_type_flag = smpplib.gsm.make_parts(u'Hello world!')\n",
    "client = smpplib.client.Client('88.81.151.245', 9000)\n",
    "client.connect()\n",
    "client.bind_transceiver(system_id='Roamabil', password='g45Jv32m')\n",
    "for part in parts:\n",
    "    pdu = client.send_message(\n",
    "        source_addr_ton=smpplib.consts.SMPP_TON_INTL,\n",
    "        #source_addr_npi=smpplib.consts.SMPP_NPI_ISDN,\n",
    "        # Make sure it is a byte string, not unicode:\n",
    "        source_addr='447781518791',\n",
    "        dest_addr_ton=smpplib.consts.SMPP_TON_INTL,\n",
    "        #dest_addr_npi=smpplib.consts.SMPP_NPI_ISDN,\n",
    "        # Make sure thease two params are byte strings, not unicode:\n",
    "        destination_addr='79219832572',\n",
    "        short_message=part,\n",
    "        data_coding=encoding_flag,\n",
    "        esm_class=msg_type_flag,\n",
    "        registered_delivery=True,)\n",
    "    print(f'PDU SQN: {pdu.sequence}')\n",
    "client.unbind()\n",
    "client.unbind()\n",
    "client.disconnect()"
   ]
  },
  {
   "cell_type": "code",
   "execution_count": null,
   "metadata": {},
   "outputs": [],
   "source": []
  },
  {
   "cell_type": "code",
   "execution_count": null,
   "metadata": {},
   "outputs": [],
   "source": []
  },
  {
   "cell_type": "code",
   "execution_count": 97,
   "metadata": {},
   "outputs": [
    {
     "name": "stdout",
     "output_type": "stream",
     "text": [
      "Status:  404 \n",
      " {\"message\": \"The requested URL was not found on the server. If you entered the URL manually please check your spelling and try again.\"}\n",
      " \n",
      " <Response [404]>\n"
     ]
    }
   ],
   "source": [
    "import requests\n",
    "url_get = 'http://192.168.1.53:80/connected;sensor=1&ip=192.168.1.63'\n",
    "#url_get = 'http://192.168.1.53:80/connected;sensor=3&ip=192.168.1.64'\n",
    "#url_get = 'http://192.168.1.53:80/climate;sensor=1&readattempt=10&temperature=24.0&humidity=35.0'\n",
    "#url_get = 'http://192.168.1.53:80/climate;sensor=1&readattempt=10&temperature=nan&humidity=35.0'\n",
    "#url_get = 'http://192.168.1.53:80/motion;sensor=3'\n",
    "url_get = 'http://192.168.1.53:80/test'\n",
    "\n",
    "r = requests.get(url_get)\n",
    "print('Status: ', r.status_code,'\\n', r.text, '\\n', r)"
   ]
  },
  {
   "cell_type": "code",
   "execution_count": 92,
   "metadata": {},
   "outputs": [
    {
     "data": {
      "text/plain": [
       "'{\"Status\": \"OK\"}'"
      ]
     },
     "execution_count": 92,
     "metadata": {},
     "output_type": "execute_result"
    }
   ],
   "source": [
    "r.text.strip()"
   ]
  },
  {
   "cell_type": "code",
   "execution_count": 22,
   "metadata": {},
   "outputs": [
    {
     "data": {
      "text/plain": [
       "4.07022594048"
      ]
     },
     "execution_count": 22,
     "metadata": {},
     "output_type": "execute_result"
    }
   ],
   "source": [
    "chargedUnits = 266240\n",
    "charge = 0.72618\n",
    "SdrRate = 1.42314\n",
    "\n",
    "charge * SdrRate * 1024 * 1024 / chargedUnits"
   ]
  },
  {
   "cell_type": "code",
   "execution_count": null,
   "metadata": {},
   "outputs": [],
   "source": []
  },
  {
   "cell_type": "code",
   "execution_count": null,
   "metadata": {},
   "outputs": [],
   "source": []
  },
  {
   "cell_type": "code",
   "execution_count": null,
   "metadata": {},
   "outputs": [],
   "source": [
    "import unittest\n",
    "class TestCalc(unittest.TestCase):\n",
    "    def test_add(self):\n",
    "        self.assertEqual(add(10, 5), 15)\n",
    "        self.assertEqual(add(-1, 1), 0)\n",
    "        self.assertEqual(add(-1, -1), -2)\n",
    "\n",
    "suite = unittest.TestLoader().loadTestsFromTestCase(TestCalc)\n",
    "runner = unittest.TextTestRunner(verbosity=2)\n",
    "runner.run(suite)"
   ]
  },
  {
   "cell_type": "code",
   "execution_count": null,
   "metadata": {},
   "outputs": [],
   "source": []
  },
  {
   "cell_type": "code",
   "execution_count": null,
   "metadata": {},
   "outputs": [],
   "source": []
  },
  {
   "cell_type": "code",
   "execution_count": 100,
   "metadata": {},
   "outputs": [
    {
     "name": "stdout",
     "output_type": "stream",
     "text": [
      "Begin\n"
     ]
    }
   ],
   "source": [
    "import contextlib\n",
    "with contextlib.suppress(FileNotFoundError):\n",
    "    os.remove('somefile.tmp')"
   ]
  },
  {
   "cell_type": "code",
   "execution_count": 99,
   "metadata": {},
   "outputs": [
    {
     "ename": "FileNotFoundError",
     "evalue": "[WinError 2] Не удается найти указанный файл: 'somefile.tmp'",
     "output_type": "error",
     "traceback": [
      "\u001b[1;31m---------------------------------------------------------------------------\u001b[0m",
      "\u001b[1;31mFileNotFoundError\u001b[0m                         Traceback (most recent call last)",
      "\u001b[1;32m<ipython-input-99-02724e047c30>\u001b[0m in \u001b[0;36m<module>\u001b[1;34m()\u001b[0m\n\u001b[1;32m----> 1\u001b[1;33m \u001b[0mos\u001b[0m\u001b[1;33m.\u001b[0m\u001b[0mremove\u001b[0m\u001b[1;33m(\u001b[0m\u001b[1;34m'somefile.tmp'\u001b[0m\u001b[1;33m)\u001b[0m\u001b[1;33m\u001b[0m\u001b[0m\n\u001b[0m",
      "\u001b[1;31mFileNotFoundError\u001b[0m: [WinError 2] Не удается найти указанный файл: 'somefile.tmp'"
     ]
    }
   ],
   "source": [
    "os.remove('somefile.tmp')"
   ]
  },
  {
   "cell_type": "code",
   "execution_count": 101,
   "metadata": {},
   "outputs": [
    {
     "name": "stdout",
     "output_type": "stream",
     "text": [
      "Begin\n",
      "FileNotFoundError\n"
     ]
    }
   ],
   "source": [
    "try:\n",
    "    print('Begin')\n",
    "    os.remove('somefile.tmp')\n",
    "    print('End')\n",
    "except FileNotFoundError:\n",
    "    print('FileNotFoundError')\n",
    "    pass"
   ]
  },
  {
   "cell_type": "code",
   "execution_count": null,
   "metadata": {},
   "outputs": [],
   "source": []
  },
  {
   "cell_type": "code",
   "execution_count": null,
   "metadata": {},
   "outputs": [],
   "source": []
  },
  {
   "cell_type": "code",
   "execution_count": null,
   "metadata": {},
   "outputs": [],
   "source": []
  },
  {
   "cell_type": "code",
   "execution_count": 208,
   "metadata": {},
   "outputs": [],
   "source": [
    "%reset -f"
   ]
  }
 ],
 "metadata": {
  "kernelspec": {
   "display_name": "Python 3",
   "language": "python",
   "name": "python3"
  },
  "language_info": {
   "codemirror_mode": {
    "name": "ipython",
    "version": 3
   },
   "file_extension": ".py",
   "mimetype": "text/x-python",
   "name": "python",
   "nbconvert_exporter": "python",
   "pygments_lexer": "ipython3",
   "version": "3.6.3"
  }
 },
 "nbformat": 4,
 "nbformat_minor": 2
}
