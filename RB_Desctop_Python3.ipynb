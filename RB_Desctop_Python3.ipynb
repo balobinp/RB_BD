{
 "cells": [
  {
   "cell_type": "code",
   "execution_count": 1438,
   "metadata": {},
   "outputs": [
    {
     "data": {
      "text/html": [
       "<script>\n",
       "code_show=true; \n",
       "function code_toggle() {\n",
       " if (code_show){\n",
       " $('div.input').hide();\n",
       " } else {\n",
       " $('div.input').show();\n",
       " }\n",
       " code_show = !code_show\n",
       "} \n",
       "$( document ).ready(code_toggle);\n",
       "</script>\n",
       "<form action=\"javascript:code_toggle()\"><input type=\"submit\" value=\"Click here to toggle on/off the raw code.\"></form>"
      ],
      "text/plain": [
       "<IPython.core.display.HTML object>"
      ]
     },
     "execution_count": 1438,
     "metadata": {},
     "output_type": "execute_result"
    }
   ],
   "source": [
    "from IPython.display import HTML\n",
    "HTML('''<script>\n",
    "code_show=true; \n",
    "function code_toggle() {\n",
    " if (code_show){\n",
    " $('div.input').hide();\n",
    " } else {\n",
    " $('div.input').show();\n",
    " }\n",
    " code_show = !code_show\n",
    "} \n",
    "$( document ).ready(code_toggle);\n",
    "</script>\n",
    "<form action=\"javascript:code_toggle()\"><input type=\"submit\" value=\"Click here to toggle on/off the raw code.\"></form>''')"
   ]
  },
  {
   "cell_type": "markdown",
   "metadata": {},
   "source": [
    "# Libraries and functions"
   ]
  },
  {
   "cell_type": "code",
   "execution_count": 1,
   "metadata": {},
   "outputs": [],
   "source": [
    "import numpy as np\n",
    "import pandas as pd\n",
    "import pandasql as ps\n",
    "from pandas import Series, DataFrame\n",
    "import datetime as dt\n",
    "import matplotlib.pyplot as plt\n",
    "import matplotlib as mpl\n",
    "import sys\n",
    "import time\n",
    "import math\n",
    "from os.path import join, normpath\n",
    "\n",
    "downloads = 'C:/Users/balob/Downloads'"
   ]
  },
  {
   "cell_type": "code",
   "execution_count": 2,
   "metadata": {},
   "outputs": [
    {
     "name": "stdout",
     "output_type": "stream",
     "text": [
      "C:\\Users\\balob\\Downloads\\test (24).csv\n"
     ]
    }
   ],
   "source": [
    "file_path = normpath(join(downloads,'test (24).csv'))\n",
    "print(normpath(file_path))"
   ]
  },
  {
   "cell_type": "markdown",
   "metadata": {},
   "source": [
    "#### To get the path"
   ]
  },
  {
   "cell_type": "code",
   "execution_count": 2,
   "metadata": {},
   "outputs": [
    {
     "data": {
      "text/plain": [
       "WindowsPath('C:/Users/balob/Documents/GITLAB/RB_BD')"
      ]
     },
     "execution_count": 2,
     "metadata": {},
     "output_type": "execute_result"
    }
   ],
   "source": [
    "from pathlib import Path\n",
    "Path.cwd()"
   ]
  },
  {
   "cell_type": "code",
   "execution_count": 336,
   "metadata": {},
   "outputs": [],
   "source": [
    "%reset -f"
   ]
  },
  {
   "cell_type": "markdown",
   "metadata": {},
   "source": [
    "# Examples"
   ]
  },
  {
   "cell_type": "markdown",
   "metadata": {},
   "source": [
    "### Fetch data from MS SQL DB"
   ]
  },
  {
   "cell_type": "code",
   "execution_count": 1439,
   "metadata": {},
   "outputs": [],
   "source": [
    "#Из базы данных OCS выгружаем TADIG\n",
    "\n",
    "import pandas as pd\n",
    "import pyodbc \n",
    "#Connect to OCSDBREP1 (BSS)\n",
    "cnxn = pyodbc.connect('DRIVER={SQL Server};SERVER=172.18.11.82;DATABASE=10028;UID=BSS;PWD=iKQVm40AZAmyRaw72LeY')\n",
    "\n",
    "sql_srt=\\\n",
    "'''\n",
    "SELECT DISTINCT mcc.mcc,c.country_name FROM RDB_NETWORK_IMSI_PREFIXES mcc\n",
    "LEFT JOIN RDB_NETWORKS net\n",
    "ON mcc.NETWORK_ID=net.NETWORK_ID\n",
    "LEFT JOIN RDB_COUNTRIES c\n",
    "ON c.country_id=net.country_id\n",
    "'''\n",
    "\n",
    "df_tadig = pd.read_sql_query(sql_srt, cnxn)\n",
    "#df_tadig['TADIG_CODE_ID']=df_tadig['TADIG_CODE_ID'].astype('int')\n",
    "#df_tadig['NETWORK_ID']=df_tadig['NETWORK_ID'].astype('int')\n",
    "cnxn.close()"
   ]
  },
  {
   "cell_type": "markdown",
   "metadata": {},
   "source": [
    "### Fetch data from Maria DB"
   ]
  },
  {
   "cell_type": "code",
   "execution_count": null,
   "metadata": {},
   "outputs": [],
   "source": [
    "import mysql.connector #pip install mysql-connector-python-rf\n",
    "import pandas as pd\n",
    "\n",
    "cnxn = mysql.connector.connect(user='noc', password='WcQUzkXiXwoxnFfGnRxb',host='172.18.11.40',database='BSS')\n",
    "\n",
    "sql_srt=\\\n",
    "'''\n",
    "SELECT\n",
    "VisitedNetworkTadig\n",
    ",CostTariffId\n",
    ",MIN((Cost*1024*1024)/TotalChargedUnits) AS Price_min\n",
    ",AVG((Cost*1024*1024)/TotalChargedUnits) AS Price_avg\n",
    ",STDDEV_SAMP((Cost*1024*1024)/TotalChargedUnits) AS Price_std\n",
    ",MAX((Cost*1024*1024)/TotalChargedUnits) AS Price_max\n",
    "FROM TAP.GPRS_CALL\n",
    "WHERE\n",
    "TreatedTimestampUtc > 20180810000000\n",
    "AND VisitedNetworkTadig = 'BHSBH'\n",
    "GROUP BY VisitedNetworkTadig,CostTariffId\n",
    "'''\n",
    "\n",
    "df_mariadb = pd.read_sql_query(sql_srt, cnxn)\n",
    "\n",
    "cnxn.close()\n",
    "df_mariadb.head()"
   ]
  },
  {
   "cell_type": "markdown",
   "metadata": {},
   "source": [
    "### Soap API OCS Portal"
   ]
  },
  {
   "cell_type": "code",
   "execution_count": 132,
   "metadata": {},
   "outputs": [
    {
     "name": "stdout",
     "output_type": "stream",
     "text": [
      "You are connected to Reseller: Dialoq - Genesisclub RT.    \n",
      "Available credit for the Reseller: 38 USD.\n",
      "\n",
      "The Reseller contains the following accounts:\n",
      " 0    Genesisclub Test sim cards (accountID: 352475)\n",
      " 1    Genesisclub Partner Soft test (accountID: 352642)\n",
      " 2    Genesisclub P4 Soft test (accountID: 352643)\n"
     ]
    }
   ],
   "source": [
    "#%reset -f\n",
    "from zeep import Client\n",
    "from zeep.wsse.username import UsernameToken\n",
    "\n",
    "connect = 'prod' #'prod' or 'lab'\n",
    "\n",
    "if connect == 'lab':\n",
    "    user = 'lab_api@roamability.com'\n",
    "    password = '25D55AD283AA400AF464C76D713C07AD' #Lab\n",
    "    #api_link = 'https://172.20.39.7:8585/ocsapi/roamability/api/roamability.wsdl' #Lab\n",
    "    api_link = 'https://labocsapi.roamability.com:6443/ocsapi/roamability/api/roamability.wsdl'\n",
    "elif connect == 'prod':\n",
    "    user = 'prod_api@roamability.com'\n",
    "    password = '25D55AD283AA400AF464C76D713C07AD'\n",
    "    api_link = 'http://172.20.35.12:8585/ocsapi/roamability/api/roamability.wsdl'\n",
    "\n",
    "user_name_token = UsernameToken(user, password)\n",
    "user_name_token.use_digest = True\n",
    "client = Client(api_link, wsse=user_name_token)\n",
    "\n",
    "reseller = client.service.getResellerInfo()\n",
    "accounts = client.service.getAccounts()\n",
    "\n",
    "if reseller.result.code == '1':\n",
    "    print('You are connected to Reseller: {}.\\\n",
    "    \\nAvailable credit for the Reseller: {:.0f} USD.\\n'.\\\n",
    "    format(reseller.reseller.resellerName,reseller.reseller.availableCredit))\n",
    "else:\n",
    "    print('Error in getting Reseller info: {}'.format(reseller.result.description))\n",
    "\n",
    "if accounts.result.code == '1':\n",
    "    accounts_dict = {account.accountId:account.accountName for account in accounts.accounts.accounts}\n",
    "    print('The Reseller contains the following accounts:')\n",
    "    for i,[account_id,account_name] in enumerate(accounts_dict.items()):\n",
    "        print(' {:<5}{} (accountID: {})'.format(i,account_name,account_id))\n",
    "else:\n",
    "    print('Error in getting Account info: {}'.format(accounts.result.description))"
   ]
  },
  {
   "cell_type": "markdown",
   "metadata": {},
   "source": [
    "### Testing DMI Steering API"
   ]
  },
  {
   "cell_type": "code",
   "execution_count": 760,
   "metadata": {},
   "outputs": [
    {
     "data": {
      "text/html": [
       "<div>\n",
       "<style scoped>\n",
       "    .dataframe tbody tr th:only-of-type {\n",
       "        vertical-align: middle;\n",
       "    }\n",
       "\n",
       "    .dataframe tbody tr th {\n",
       "        vertical-align: top;\n",
       "    }\n",
       "\n",
       "    .dataframe thead th {\n",
       "        text-align: right;\n",
       "    }\n",
       "</style>\n",
       "<table border=\"1\" class=\"dataframe\">\n",
       "  <thead>\n",
       "    <tr style=\"text-align: right;\">\n",
       "      <th></th>\n",
       "      <th>Rank</th>\n",
       "      <th>MCC</th>\n",
       "      <th>MNC</th>\n",
       "      <th>Operator_name</th>\n",
       "      <th>4G_Support</th>\n",
       "      <th>Discounted</th>\n",
       "      <th>Cost</th>\n",
       "    </tr>\n",
       "  </thead>\n",
       "  <tbody>\n",
       "    <tr>\n",
       "      <th>0</th>\n",
       "      <td>1</td>\n",
       "      <td>262</td>\n",
       "      <td>02</td>\n",
       "      <td>Vodafone GmbH</td>\n",
       "      <td>Yes</td>\n",
       "      <td>Discounted</td>\n",
       "      <td>0.0042</td>\n",
       "    </tr>\n",
       "    <tr>\n",
       "      <th>1</th>\n",
       "      <td>2</td>\n",
       "      <td>262</td>\n",
       "      <td>03</td>\n",
       "      <td>E Plus Mobilfunk GmbH</td>\n",
       "      <td>No</td>\n",
       "      <td>Discounted</td>\n",
       "      <td>0.013</td>\n",
       "    </tr>\n",
       "    <tr>\n",
       "      <th>2</th>\n",
       "      <td>3</td>\n",
       "      <td>262</td>\n",
       "      <td>07</td>\n",
       "      <td>O2 Germany</td>\n",
       "      <td>No</td>\n",
       "      <td>Discounted</td>\n",
       "      <td>0.013</td>\n",
       "    </tr>\n",
       "  </tbody>\n",
       "</table>\n",
       "</div>"
      ],
      "text/plain": [
       "  Rank  MCC MNC          Operator_name 4G_Support  Discounted    Cost\n",
       "0    1  262  02          Vodafone GmbH        Yes  Discounted  0.0042\n",
       "1    2  262  03  E Plus Mobilfunk GmbH         No  Discounted   0.013\n",
       "2    3  262  07             O2 Germany         No  Discounted   0.013"
      ]
     },
     "execution_count": 760,
     "metadata": {},
     "output_type": "execute_result"
    }
   ],
   "source": [
    "import requests\n",
    "from pandas import DataFrame\n",
    "from bs4 import BeautifulSoup\n",
    "url = 'http://roamdb.roamability.com/SteeringAPI/Test'\n",
    "payload = {'SponsorIMSI':'425019613990511',\n",
    "           'RealIMSI':'425019613990511',\n",
    "           'Mcc':'262',\n",
    "           'SessionID':'1234567'}\n",
    "response = requests.post(url,payload)\n",
    "soup = BeautifulSoup(response.text, 'xml')\n",
    "net_list = []\n",
    "for net in soup.find_all('Network'):\n",
    "    net_list.append([net.Rank.text,net.Mcc.text,net.Mnc.text,net.Name.text,net.Support4G.text,net.Discounted.text,net.Cost.text])\n",
    "DataFrame(net_list,columns=['Rank','MCC','MNC','Operator_name','4G_Support','Discounted','Cost'])"
   ]
  },
  {
   "cell_type": "markdown",
   "metadata": {},
   "source": [
    " ### Format output"
   ]
  },
  {
   "cell_type": "code",
   "execution_count": null,
   "metadata": {},
   "outputs": [],
   "source": [
    "import datetime as dt\n",
    "print( 'start: {} {} :end'.format('one', 'two') ) #start: one two :end\n",
    "print( 'start: {1} {0} :end'.format('one', 'two') ) #start: two one :end\n",
    "print( 'start: test {:10} :end'.format('test') ) #start: test test       :end\n",
    "print( 'start: test {:10} :end'.format(10) ) #start: test         10 :end\n",
    "print( 'start: test {:>10} :end'.format('test') ) #start: test       test :end\n",
    "print( 'start: test {:<10} :end'.format('test') ) #start: test test       :end\n",
    "print( 'start: test {:_<10} :end'.format('test') ) #start: test test______ :end\n",
    "print( 'start: test {:^10} :end'.format('test') ) #start: test    test    :end\n",
    "print( 'start: test {:.10} :end'.format('test1test2test3') ) #start: test test1test2 :end\n",
    "print( 'start: test {:_^10.5} :end'.format('test1test2test3') ) #start: test __test1___ :end\n",
    "print( 'start: test {:d} :end'.format(42) ) #start: test 42 :end\n",
    "print( 'start: test {:f} :end'.format(42) ) #start: test 42.000000 :end\n",
    "print( 'start: test {:06.2f} :end'.format(3.141592) ) #start: test 003.14 :end\n",
    "print( 'start: test {p[first]} {p[last]} :end'.format(p={'first': 'Jean-Luc', 'last': 'Picard'}) ) #start: test Jean-Luc Picard :end\n",
    "print( 'start: test {p[4]} {p[5]} :end'.format(p=[4, 8, 15, 16, 23, 42]) ) #start: test 23 42 :end\n",
    "print( 'start: test {:%Y-%m-%d %H:%M} :end'.format(dt.datetime(2001, 2, 3, 4, 5)) ) #start: test 2001-02-03 04:05 :end"
   ]
  },
  {
   "cell_type": "markdown",
   "metadata": {},
   "source": [
    "### DataFrame examples"
   ]
  },
  {
   "cell_type": "code",
   "execution_count": null,
   "metadata": {},
   "outputs": [],
   "source": [
    "#DataFrame\n",
    "df=DataFrame(np.arange(200,212).reshape((3,4)) ,columns=list('abcd'),index=pd.date_range(start='1/1/2000 00:00:00',periods=3,freq='1H'))\n",
    "df=DataFrame(np.arange(200,212).reshape((3,4)) ,columns=list('abcd'))\n",
    "df=DataFrame(np.arange(200,212).reshape((3,4)) ,columns=list('abcd'),index=['Utah','Ohio','Texas'])"
   ]
  },
  {
   "cell_type": "markdown",
   "metadata": {},
   "source": [
    "### Read csv example"
   ]
  },
  {
   "cell_type": "code",
   "execution_count": null,
   "metadata": {},
   "outputs": [],
   "source": [
    "#Read CSV\n",
    "df_tadig = pd.read_csv('TADIG.csv',sep=';',header=None,dtype={'MCC':object,'MNC':object},\n",
    "                   names=['TADIG','MCC','MNC'],skiprows=0)"
   ]
  },
  {
   "cell_type": "markdown",
   "metadata": {},
   "source": [
    "### Groupby examples"
   ]
  },
  {
   "cell_type": "code",
   "execution_count": 1443,
   "metadata": {},
   "outputs": [
    {
     "data": {
      "text/plain": [
       "()"
      ]
     },
     "execution_count": 1443,
     "metadata": {},
     "output_type": "execute_result"
    }
   ],
   "source": [
    "#Вариант №1\n",
    "#Группировка с применением различных типов агрегации к колонкам groupby().agg\n",
    "from pandas import Series, DataFrame\n",
    "import numpy as np\n",
    "import pandas as pd\n",
    "df=DataFrame({'data1':np.random.randint(0,10,size=20),'data2':np.random.randint(0,10,size=20),\n",
    "              'key1':list('abcd'*5),'key2':list('fghi'*5)},index=([list('klmno'*4),list('pq'*10)]))\n",
    "df.index.names=['ind1','ind2']\n",
    "df.columns.names=['col_info']\n",
    "df.groupby(['key1']).agg({'data1': np.mean, 'data2': np.size}) #Агрегация по одной колонке (вариант 1 задания группировки)\n",
    "df.groupby(df['key1']).agg({'data1': np.mean, 'data2': np.size}) #Агрегация по одной колонке (вариант 2 задания группировки)\n",
    "df.groupby(df['key1']).agg({'data1': [np.min,np.mean,np.max,np.size], 'data2': [np.min,np.mean,np.max,np.size]}) #Агрегация для каждого поля несколько функций\n",
    "df.groupby(df['key1']).agg({'data1': [('f_min',np.min),('f_max',np.max)],'data2': [('f_min',np.min),('f_max',np.max)]}) #Агрегация для каждого поля несколько функций с переименованием\n",
    "df.groupby(['key1','key2']).agg({'data1': np.mean, 'data2': np.size}) #Агрегация по нескольким колонкам\n",
    "df.groupby(level=0).agg({'data1': np.mean, 'data2': np.size}) #Агрегация по одному индексу (вариант 1 указания индекса)\n",
    "df.groupby(level='ind1').agg({'data1': np.mean, 'data2': np.size}) #Агрегация по одному индексу (вариант 2 указания индекса)\n",
    "df.groupby(level=[0,1]).agg({'data1': np.mean, 'data2': np.size}) #Агрегация по нескольким индексам\n",
    "df[['data1','data2']].groupby(level=[0,1]).agg(['min','max']) #Агрегация для каждого поля несколько функций\n",
    "df[['data1','data2']].groupby(level=[0,1]).agg([('fmin','min'),('fmax','max')]) #Агрегация для каждого поля несколько функций с переименованием\n",
    "()"
   ]
  },
  {
   "cell_type": "code",
   "execution_count": 1442,
   "metadata": {},
   "outputs": [
    {
     "data": {
      "text/plain": [
       "()"
      ]
     },
     "execution_count": 1442,
     "metadata": {},
     "output_type": "execute_result"
    }
   ],
   "source": [
    "#Вариант №3\n",
    "#Группировка .groupby + агрегирующая функция\n",
    "from pandas import Series, DataFrame\n",
    "import numpy as np\n",
    "import pandas as pd\n",
    "df=DataFrame({'data1':np.random.randint(0,10,size=20),'data2':np.random.randint(0,10,size=20),\n",
    "              'key1':list('abcd'*5),'key2':list('fghi'*5)},index=([list('klmno'*4),list('pq'*10)]))\n",
    "df.index.names=['ind1','ind2']\n",
    "df.columns.names=['col_info']\n",
    "\n",
    "# The Best Practice\n",
    "df.groupby(['key1'],as_index=False)['data1'].max()\n",
    "df.groupby(level=0)['data1'].max().reset_index()\n",
    "\n",
    "df['data1'].groupby(df['key1']).mean() #Агрегация одного поля по одному ключу\n",
    "df.groupby(df['key1']).mean() #Агрегация всех полей по одному ключу\n",
    "df[['data1','data2']].groupby(df['key1']).mean() #Агрегация нескольких полей по одному ключу\n",
    "df[['data1','data2']].groupby([df['key1'],df['key2']]).mean() #Агрегация нескольких полей по нескольким ключам\n",
    "df[['data1','data2']].groupby(level=0).mean() #Агрегация по одному индексу (вариант 1 указания индекса)\n",
    "df[['data1','data2']].groupby(level='ind1').mean() #Агрегация по одному индексу (вариант 2 указания индекса)\n",
    "df[['data1','data2']].groupby(level=[0,1]).mean() #Агрегация по нескольким индексам\n",
    "df[['data1','data2']].groupby(level=0,axis=1).mean() #Агрегация с группировкой по столбцам\n",
    "#или\n",
    "grouped=df['data1'].groupby(df['key1'])\n",
    "grouped.mean()\n",
    "#или\n",
    "df.groupby(df['key1'])['data1'].mean()\n",
    "#Чтобы добавить префикс к названию строки/столбца\n",
    "#df['data1'].groupby(df['key1']).mean().add_prefix('mean_')\n",
    "#df[['data1','data2']].groupby(level=0,axis=1).mean()\n",
    "df['data1_mean']=df.groupby('key1')['data1'].transform(np.max)\n",
    "()"
   ]
  },
  {
   "cell_type": "markdown",
   "metadata": {},
   "source": [
    "### Search in Allowed Lists and others"
   ]
  },
  {
   "cell_type": "code",
   "execution_count": 2,
   "metadata": {},
   "outputs": [],
   "source": [
    "#Like expression for Allowed List\n",
    "df_al=pd.read_csv(join(downloads,'DMI.dmi_allowed_list_export_Fri_Nov_09_2018.csv'))\n",
    "#df_al_lab=pd.read_csv('LAB_DMI.dmi_allowed_list_export_Wed_Oct_03_2018.csv')\n",
    "\n",
    "#df_dmi_diam_oper=pd.read_csv(join(download,''))\n",
    "df_np=pd.read_csv(join(downloads,'DMI.dmi_netpfx_export_Tue_Oct_30_2018.csv'))\n",
    "#df_did=pd.read_csv('HRR.hrr_did_export_Wed_Aug_08_2018.csv')\n",
    "#f_tap_ocs=pd.read_csv('tap_ocs_analysis_180817.csv')"
   ]
  },
  {
   "cell_type": "code",
   "execution_count": 3,
   "metadata": {},
   "outputs": [
    {
     "data": {
      "text/html": [
       "<div>\n",
       "<style scoped>\n",
       "    .dataframe tbody tr th:only-of-type {\n",
       "        vertical-align: middle;\n",
       "    }\n",
       "\n",
       "    .dataframe tbody tr th {\n",
       "        vertical-align: top;\n",
       "    }\n",
       "\n",
       "    .dataframe thead th {\n",
       "        text-align: right;\n",
       "    }\n",
       "</style>\n",
       "<table border=\"1\" class=\"dataframe\">\n",
       "  <thead>\n",
       "    <tr style=\"text-align: right;\">\n",
       "      <th></th>\n",
       "      <th>Sponsor</th>\n",
       "      <th>PLMN code</th>\n",
       "      <th>MO</th>\n",
       "      <th>MT</th>\n",
       "      <th>SMS</th>\n",
       "      <th>Data</th>\n",
       "      <th>MO.1</th>\n",
       "      <th>sec</th>\n",
       "      <th>Data.1</th>\n",
       "      <th>kb</th>\n",
       "    </tr>\n",
       "  </thead>\n",
       "  <tbody>\n",
       "    <tr>\n",
       "      <th>2301</th>\n",
       "      <td>Partner_Combined</td>\n",
       "      <td>KORKF</td>\n",
       "      <td>1</td>\n",
       "      <td>1</td>\n",
       "      <td>1</td>\n",
       "      <td>1</td>\n",
       "      <td>1</td>\n",
       "      <td>1</td>\n",
       "      <td>NaN</td>\n",
       "      <td>NaN</td>\n",
       "    </tr>\n",
       "    <tr>\n",
       "      <th>2302</th>\n",
       "      <td>Partner_Combined</td>\n",
       "      <td>KORSK</td>\n",
       "      <td>1</td>\n",
       "      <td>1</td>\n",
       "      <td>1</td>\n",
       "      <td>1</td>\n",
       "      <td>1</td>\n",
       "      <td>1</td>\n",
       "      <td>NaN</td>\n",
       "      <td>NaN</td>\n",
       "    </tr>\n",
       "  </tbody>\n",
       "</table>\n",
       "</div>"
      ],
      "text/plain": [
       "               Sponsor PLMN code  MO  MT  SMS  Data  MO.1  sec  Data.1   kb\n",
       "2301  Partner_Combined     KORKF   1   1    1     1     1    1     NaN  NaN\n",
       "2302  Partner_Combined     KORSK   1   1    1     1     1    1     NaN  NaN"
      ]
     },
     "execution_count": 3,
     "metadata": {},
     "output_type": "execute_result"
    }
   ],
   "source": [
    "#df_al[(df_al['PLMN code'].str.startswith('MKDCC', na=False)) & (df_al['Sponsor']=='')]\n",
    "df_al[(df_al['PLMN code'].str.startswith('KOR', na=False)) & (df_al['Sponsor'].str.contains('ombine', na=False))]"
   ]
  },
  {
   "cell_type": "code",
   "execution_count": 7,
   "metadata": {},
   "outputs": [
    {
     "data": {
      "text/html": [
       "<div>\n",
       "<style scoped>\n",
       "    .dataframe tbody tr th:only-of-type {\n",
       "        vertical-align: middle;\n",
       "    }\n",
       "\n",
       "    .dataframe tbody tr th {\n",
       "        vertical-align: top;\n",
       "    }\n",
       "\n",
       "    .dataframe thead th {\n",
       "        text-align: right;\n",
       "    }\n",
       "</style>\n",
       "<table border=\"1\" class=\"dataframe\">\n",
       "  <thead>\n",
       "    <tr style=\"text-align: right;\">\n",
       "      <th></th>\n",
       "      <th>Operator</th>\n",
       "      <th>Prefix</th>\n",
       "      <th>Number/Range</th>\n",
       "      <th>SSN</th>\n",
       "      <th>MCC</th>\n",
       "      <th>MNC</th>\n",
       "    </tr>\n",
       "  </thead>\n",
       "  <tbody>\n",
       "    <tr>\n",
       "      <th>2617</th>\n",
       "      <td>GTMCM</td>\n",
       "      <td>57300669008</td>\n",
       "      <td>1</td>\n",
       "      <td>7</td>\n",
       "      <td>704</td>\n",
       "      <td>2</td>\n",
       "    </tr>\n",
       "    <tr>\n",
       "      <th>2619</th>\n",
       "      <td>GTMCM</td>\n",
       "      <td>573006690090</td>\n",
       "      <td>0</td>\n",
       "      <td>7</td>\n",
       "      <td>704</td>\n",
       "      <td>2</td>\n",
       "    </tr>\n",
       "    <tr>\n",
       "      <th>2622</th>\n",
       "      <td>GTMCM</td>\n",
       "      <td>573006690091</td>\n",
       "      <td>0</td>\n",
       "      <td>7</td>\n",
       "      <td>704</td>\n",
       "      <td>2</td>\n",
       "    </tr>\n",
       "    <tr>\n",
       "      <th>9658</th>\n",
       "      <td>GTMCM</td>\n",
       "      <td>50252</td>\n",
       "      <td>1</td>\n",
       "      <td>7</td>\n",
       "      <td>704</td>\n",
       "      <td>2</td>\n",
       "    </tr>\n",
       "  </tbody>\n",
       "</table>\n",
       "</div>"
      ],
      "text/plain": [
       "     Operator        Prefix  Number/Range  SSN  MCC  MNC\n",
       "2617    GTMCM   57300669008             1    7  704    2\n",
       "2619    GTMCM  573006690090             0    7  704    2\n",
       "2622    GTMCM  573006690091             0    7  704    2\n",
       "9658    GTMCM         50252             1    7  704    2"
      ]
     },
     "execution_count": 7,
     "metadata": {},
     "output_type": "execute_result"
    }
   ],
   "source": [
    "str(df_np[df_np.Operator == ''].Prefix.unique().tolist())\n",
    "df_np[(df_np.Operator.str.startswith('GTMCM',na=False))&(df_np.SSN==7)]"
   ]
  },
  {
   "cell_type": "code",
   "execution_count": 997,
   "metadata": {},
   "outputs": [
    {
     "data": {
      "text/html": [
       "<div>\n",
       "<style scoped>\n",
       "    .dataframe tbody tr th:only-of-type {\n",
       "        vertical-align: middle;\n",
       "    }\n",
       "\n",
       "    .dataframe tbody tr th {\n",
       "        vertical-align: top;\n",
       "    }\n",
       "\n",
       "    .dataframe thead th {\n",
       "        text-align: right;\n",
       "    }\n",
       "</style>\n",
       "<table border=\"1\" class=\"dataframe\">\n",
       "  <thead>\n",
       "    <tr style=\"text-align: right;\">\n",
       "      <th></th>\n",
       "      <th>Operator</th>\n",
       "      <th>Prefix</th>\n",
       "      <th>Number/Range</th>\n",
       "      <th>SSN</th>\n",
       "      <th>MCC</th>\n",
       "      <th>MNC</th>\n",
       "    </tr>\n",
       "  </thead>\n",
       "  <tbody>\n",
       "    <tr>\n",
       "      <th>8330</th>\n",
       "      <td>DEUD1</td>\n",
       "      <td>4917505200</td>\n",
       "      <td>0</td>\n",
       "      <td>7</td>\n",
       "      <td>262</td>\n",
       "      <td>1</td>\n",
       "    </tr>\n",
       "  </tbody>\n",
       "</table>\n",
       "</div>"
      ],
      "text/plain": [
       "     Operator      Prefix  Number/Range  SSN  MCC  MNC\n",
       "8330    DEUD1  4917505200             0    7  262    1"
      ]
     },
     "execution_count": 997,
     "metadata": {},
     "output_type": "execute_result"
    }
   ],
   "source": [
    "df_np[(df_np.Prefix.str.startswith('49175052',na=False))]"
   ]
  },
  {
   "cell_type": "code",
   "execution_count": 1144,
   "metadata": {},
   "outputs": [
    {
     "data": {
      "text/html": [
       "<div>\n",
       "<style scoped>\n",
       "    .dataframe tbody tr th:only-of-type {\n",
       "        vertical-align: middle;\n",
       "    }\n",
       "\n",
       "    .dataframe tbody tr th {\n",
       "        vertical-align: top;\n",
       "    }\n",
       "\n",
       "    .dataframe thead th {\n",
       "        text-align: right;\n",
       "    }\n",
       "</style>\n",
       "<table border=\"1\" class=\"dataframe\">\n",
       "  <thead>\n",
       "    <tr style=\"text-align: right;\">\n",
       "      <th></th>\n",
       "      <th>DMI Operator</th>\n",
       "      <th>Realm</th>\n",
       "      <th>Supp-Feat</th>\n",
       "      <th>APN QCI</th>\n",
       "      <th>QOS Priority</th>\n",
       "    </tr>\n",
       "  </thead>\n",
       "  <tbody>\n",
       "  </tbody>\n",
       "</table>\n",
       "</div>"
      ],
      "text/plain": [
       "Empty DataFrame\n",
       "Columns: [DMI Operator, Realm, Supp-Feat, APN QCI, QOS Priority]\n",
       "Index: []"
      ]
     },
     "execution_count": 1144,
     "metadata": {},
     "output_type": "execute_result"
    }
   ],
   "source": [
    "df_dmi_diam_oper[(df_dmi_diam_oper['DMI Operator'].str.startswith('', na=False))\\\n",
    "                 & (df_dmi_diam_oper['Realm'].str.contains('405', na=False))]"
   ]
  },
  {
   "cell_type": "markdown",
   "metadata": {},
   "source": [
    "### Search in ALARMS by folder names"
   ]
  },
  {
   "cell_type": "code",
   "execution_count": 30,
   "metadata": {},
   "outputs": [
    {
     "data": {
      "text/plain": [
       "['c:/W_DATA_ROAM/ДОКУМЕНТАЦИЯ/PRICES/Partner_BELTB_DOMCL_GIBGT_LUXTG_MOZVT.msg']"
      ]
     },
     "execution_count": 30,
     "metadata": {},
     "output_type": "execute_result"
    }
   ],
   "source": [
    "import os\n",
    "path = 'c:/W_DATA_ROAM/ALARMS/'\n",
    "path = 'c:/W_DATA_ROAM/ДОКУМЕНТАЦИЯ/PRICES/'\n",
    "#path = c:\\W_DATA_ROAM\\ДОКУМЕНТАЦИЯ\\NOC_HOW_IT_WORKS\\\n",
    "#path = 'c:/W_DATA_ROAM/ПРОЕКТЫ/'\n",
    "names = os.listdir(path)\n",
    "[path + name for name in names if name.find('DOMCL')!=-1]"
   ]
  },
  {
   "cell_type": "markdown",
   "metadata": {},
   "source": [
    "### Search in files by Tags"
   ]
  },
  {
   "cell_type": "code",
   "execution_count": 4,
   "metadata": {},
   "outputs": [
    {
     "name": "stdout",
     "output_type": "stream",
     "text": [
      "****************************************************************************************************\n",
      "c:\\W_DATA_ROAM\\ДОКУМЕНТАЦИЯ\\NOC_HOW_IT_WORKS\\Customer_Usage_Report_real_time_data.txt\n",
      "----------------------------------------------------------------------------------------------------\n",
      "#reports_ocs_usage_mop\n",
      "------------------------------\n",
      "Отчет по usage из OCS.\n",
      "Отчет согласован Roy для случая, если потребуется отправить отчет кастомерам.\n",
      "В обычных ситуациях репорты кастомерам не отправлять.\n",
      "https://owncloud.roamability.com/ Sql Quries -> OCS\n",
      "Customer Usage Report (real-time data).sql\n",
      "\n",
      "****************************************************************************************************\n",
      "c:\\W_DATA_ROAM\\ДОКУМЕНТАЦИЯ\\NOC_HOW_IT_WORKS\\Report_VOIP_Compare_providers.txt\n",
      "----------------------------------------------------------------------------------------------------\n",
      "#reports_tariffs_mop\n",
      "------------------------------\n",
      "Отчет для сравнения VOIP прайсов IDT и Voxbeam по трафиковой модели.\n",
      "\n",
      "****************************************************************************************************\n",
      "c:\\W_DATA_ROAM\\ДОКУМЕНТАЦИЯ\\NOC_HOW_IT_WORKS\\SS7_stat_report_MSU_count.txt\n",
      "----------------------------------------------------------------------------------------------------\n",
      "#reports_traffic_mop\n",
      "------------------------------\n",
      "Отчет по кол-ву сообщений на направление с визуализацией на Python\n",
      "\n",
      "****************************************************************************************************\n",
      "c:\\W_DATA_ROAM\\ДОКУМЕНТАЦИЯ\\NOC_HOW_IT_WORKS\\REPORT_OCS_Portal_UI_Reports\\_TEMPLATE.txt\n",
      "----------------------------------------------------------------------------------------------------\n",
      "#reports_ocs_usage_mop\n",
      "------------------------------\n",
      "Отчеты для OCS Portal UI\n",
      "https://roamability.teamwork.com/index.cfm#tasks/11353639\n",
      "\n",
      "****************************************************************************************************\n",
      "c:\\W_DATA_ROAM\\МЕТОДИКИ\\M_REPORT_Partnet_Q_Usage\\readme.txt\n",
      "----------------------------------------------------------------------------------------------------\n",
      "#reports_bss_usage_mop\n",
      "#reports_tariffs_mop\n",
      "#reports_traffic_mop\n",
      "------------------------------\n",
      "Методика сравнения тарифов и потребленных сервисов с данными от Партнет с детализацией до месяца и TADIG.\n",
      "\n",
      "****************************************************************************************************\n",
      "c:\\W_DATA_ROAM\\МЕТОДИКИ\\M_REPORT_VOIP_Price_Comparison\\readme.txt\n",
      "----------------------------------------------------------------------------------------------------\n",
      "#reports_tariffs_mop\n",
      "------------------------------\n",
      "Отчет для сравнения VOIP прайсов существующих с новыми для оценки выгодности тарифов.\n",
      "\n"
     ]
    }
   ],
   "source": [
    "import os\n",
    "from os.path import isfile, isdir, join, normpath\n",
    "from tqdm import tqdm\n",
    "\n",
    "paths = ['c:/W_DATA_ROAM/ДОКУМЕНТАЦИЯ/NOC_HOW_IT_WORKS/',\n",
    "        'c:/W_DATA_ROAM/МЕТОДИКИ/',\n",
    "        'c:/W_DATA_ROAM/ПРОЕКТЫ/',\n",
    "        'c:/W_DATA_ROAM/ДОКУМЕНТАЦИЯ/NOC_KNOWN_ISSUES/',\n",
    "         'c:/W_DATA_ROAM/ДОКУМЕНТАЦИЯ/NOC_M_NEW_CONNECTION/',\n",
    "        'c:/W_DATA_ROAM/ALARMS/']\n",
    "\n",
    "# Если хотя бы один из тэгов присутствует. Нужно указать хотя бы один.\n",
    "any_tags  = ['#reports_ocs_usage_mop','#reports_traffic_mop','#reports_tariffs_mop']\n",
    "# Если все теги присутствуют. Можно указать [] если нет обязательных тэгов.\n",
    "all_tags = []\n",
    "\n",
    "def find_txt_files_and_folders(path_name):\n",
    "    file_names_all = os.listdir(path_name)\n",
    "    files = [file for file in file_names_all if isfile(join(path_name, file)) if file.find('.txt')!=-1]\n",
    "    folders = [folder for folder in file_names_all if isdir(join(path, folder))]\n",
    "    return files,folders\n",
    "\n",
    "def search_tags_in_file(path_name,files_list):\n",
    "    for file in files_list:\n",
    "        with open(join(path_name, file)) as inf:\n",
    "            # Преобразовать файл в список. В качествер разделителя пробел. read читает весь файл.\n",
    "            words_in_file = inf.read().lower().split()\n",
    "        if any(item in words_in_file for item in any_tags):\n",
    "            if len(all_tags) > 0 and all(item in words_in_file for item in all_tags):\n",
    "                print_description_from_file(path_name,file)\n",
    "            elif len(all_tags) == 0:               \n",
    "                print_description_from_file(path_name,file)\n",
    "    return None\n",
    "\n",
    "def print_description_from_file(path_name,file_name):\n",
    "    print(100*'*')\n",
    "    print(normpath(join(path_name, file_name)))\n",
    "    print(100*'-')\n",
    "    with open(join(path_name, file_name)) as inf:\n",
    "        # Построчно читаем файл\n",
    "        # Процедура неотимальна, т.к. будет прочитан весь файл до конца\n",
    "        for line in inf:\n",
    "            line.strip()\n",
    "            if '<DESCRIPTION>' in line:\n",
    "                for line in inf:\n",
    "                    line.strip()\n",
    "                    if '</DESCRIPTION>' in line:\n",
    "                        print('')\n",
    "                        break\n",
    "                    else:\n",
    "                        print(line,end='')\n",
    "            elif '<TAGS>' in line:\n",
    "                for line in inf:\n",
    "                    line.strip()\n",
    "                    if '</TAGS>' in line:\n",
    "                        print(30*'-')\n",
    "                        break\n",
    "                    else:\n",
    "                        print(line,end='')\n",
    "    return None\n",
    "\n",
    "for path in paths:\n",
    "    files,folders = find_txt_files_and_folders(path)\n",
    "    search_tags_in_file(path,files)\n",
    "\n",
    "    for folder in folders:\n",
    "        folder_path = join(path, folder)\n",
    "        files,_ = find_txt_files_and_folders(folder_path)\n",
    "        search_tags_in_file(folder_path,files)"
   ]
  },
  {
   "cell_type": "markdown",
   "metadata": {},
   "source": [
    "### Hex to Dec conversion"
   ]
  },
  {
   "cell_type": "code",
   "execution_count": 15,
   "metadata": {},
   "outputs": [
    {
     "data": {
      "text/plain": [
       "'0b1111111110011000'"
      ]
     },
     "execution_count": 15,
     "metadata": {},
     "output_type": "execute_result"
    }
   ],
   "source": [
    "int('f91e',16)\n",
    "hex(11025)\n",
    "int('2911',16)\n",
    "int('11111111111111111111111111111111',2)\n",
    "bin(65432)"
   ]
  },
  {
   "cell_type": "code",
   "execution_count": 72,
   "metadata": {},
   "outputs": [
    {
     "name": "stdout",
     "output_type": "stream",
     "text": [
      "0b1000001101001\n",
      "2 - 13 - 1\n"
     ]
    }
   ],
   "source": [
    "print(bin(4201))\n",
    "a = '01000001101001'\n",
    "# = '00000011001101'\n",
    "print(int(a[-14:-11],2),'-',int(a[-11:-3],2),'-',int(a[-3:],2) )"
   ]
  },
  {
   "cell_type": "markdown",
   "metadata": {},
   "source": [
    "### Rename files"
   ]
  },
  {
   "cell_type": "code",
   "execution_count": 41,
   "metadata": {},
   "outputs": [
    {
     "name": "stdout",
     "output_type": "stream",
     "text": [
      "Core Development Panel  Юрий Селиванов, Андрей Светлов и Christian Heimes.mp4 -> PYCON_00_CoreDevelopmentPanelЮрийСеливановАндрейСве.mp4\n",
      "Lightning Talks на PYCON RUSSIA 2018.mp4 -> PYCON_01_LightningTalksнаPYCONRUSSIA2018.mp4\n",
      "Александр Кошелев, Яндекс «Буферизация записи в базу».mp4 -> PYCON_02_АлександрКошелевЯндексБуферизациязаписивба.mp4\n",
      "Kate Heddleston, Shift «Technical Debt in Python».mp4 -> PYCON_03_KateHeddlestonShiftTechnicalDebtinPython.mp4\n",
      "Юрий Селиванов, EdgeDB, Asyncio «Asyncio сегодня и завтра».mp4 -> PYCON_04_ЮрийСеливановEdgeDBAsyncioAsyncioсегодняи.mp4\n",
      "Ling Zhang, Aiden.ai «NLP to Discover Rich Insights from Massive Noisy Text».mp4 -> PYCON_05_LingZhangAiden.aiNLPtoDiscoverRichInsight.mp4\n",
      "Алексей Кузьмин, ДомКлик «Асинхронность изнутри».mp4 -> PYCON_06_АлексейКузьминДомКликАсинхронностьизнутри.mp4\n",
      "Christian Heimes, Red Hat «SSLError, now what؟».mp4 -> PYCON_07_ChristianHeimesRedHatSSLErrornowwhat.mp4\n",
      "Дмитрий Ходаков, Авито  «Tornado vs Aiohttp».mp4 -> PYCON_08_ДмитрийХодаковАвитоTornadovsAiohttp.mp4\n",
      "Антон Патрушев, Spherical «Как перестать заботиться об окружении и начать жить».mp4 -> PYCON_09_АнтонПатрушевSphericalКакперестатьзаботитьс.mp4\n",
      "Андрей Светлов, Python Core Developer «Aiohttp от автора».mp4 -> PYCON_10_АндрейСветловPythonCoreDeveloperAiohttpот.mp4\n",
      "Stephan Jaensch, Yelp «Type annotations with large(r) codebases».mp4 -> PYCON_11_StephanJaenschYelpTypeannotationswithlarge.mp4\n",
      "Андрей Солдатенко, Toptal  «Спортивное программирование на Python».mp4 -> PYCON_12_АндрейСолдатенкоToptalСпортивноепрограммиро.mp4\n",
      "Михаил Коробов, ScrapingHub «Машинное обучение для извлечения данных из веба».mp4 -> PYCON_13_МихаилКоробовScrapingHubМашинноеобучениедля.mp4\n",
      "Вадим Пуштаев, Mail.Ru «Юнит-тесты в проектах Поиска mail.ru».mp4 -> PYCON_14_ВадимПуштаевMail.RuЮниттестывпроектахПоис.mp4\n",
      "Donald Whyte, Engineers Gate «High Performance Data Processing in Python».mp4 -> PYCON_15_DonaldWhyteEngineersGateHighPerformanceDat.mp4\n",
      "Андрей Власовских, JetBrains  «7 советов по редактированию кода в PyCharm».mp4 -> PYCON_16_АндрейВласовскихJetBrains7советовпоредакт.mp4\n",
      "Melanie Warrick, Google  «Reinforcement».mp4 -> PYCON_17_MelanieWarrickGoogleReinforcement.mp4\n",
      "Конференция PyCon Russia 2018.mp4 -> PYCON_18_КонференцияPyConRussia2018.mp4\n",
      "Евгений Слезко, Marilyn  «Переход на SOA в существующем Python-проекте. Тяжеловато или ничего؟».mp4 -> PYCON_19_ЕвгенийСлезкоMarilynПереходнаSOAвсуществ.mp4\n",
      "Максим Мазаев, ЦИАН  «Как поддерживать согласованность API в микросервисной архитектуре».mp4 -> PYCON_20_МаксимМазаевЦИАНКакподдерживатьсогласованн.mp4\n",
      "Елена Никитина, Система  «Сделано на коленке  как из парсера получился полноценный проект».mp4 -> PYCON_21_ЕленаНикитинаСистемаСделанонаколенкекак.mp4\n",
      "Денис Катаев, Tinkoff.ru  «SQLAlchemy  Python vs Raw SQL».mp4 -> PYCON_22_ДенисКатаевTinkoff.ruSQLAlchemyPythonvsR.mp4\n",
      "Alejandro Saucedo, Eigen Technologies  «Industrial Data Pipelines with Python and Airflow».mp4 -> PYCON_23_AlejandroSaucedoEigenTechnologiesIndustrial.mp4\n",
      "Сергей Карпович, Вадим Березкин, mos.ru  «Как сделать удобную для пользователей поисковую систему».mp4 -> PYCON_24_СергейКарповичВадимБерезкинmos.ruКаксдел.mp4\n",
      "Марина Камалова, Яндекс  «Архитектура чат-бота».mp4 -> PYCON_25_МаринаКамаловаЯндексАрхитектурачатбота.mp4\n",
      "Виталий Давыдов, POTEHA DEVELOPERS «Serverless + Python на примере AWS Lambda».mp4 -> PYCON_26_ВиталийДавыдовPOTEHADEVELOPERSServerlessP.mp4\n"
     ]
    }
   ],
   "source": [
    "import os\n",
    "import re\n",
    "path = 'c:/Users/balob/Downloads/new1/'\n",
    "prefix = 'PYCON'\n",
    "topic = ''\n",
    "os.chdir(path)\n",
    "names = sorted(filter(os.path.isfile, os.listdir('.')), key=os.path.getmtime)\n",
    "for i,name in enumerate(names):\n",
    "    short_name = re.sub('[!#?«»,() \\+\\-؟]','',name[:-4:][:50])\n",
    "    if i < 10:\n",
    "        number = '0'+str(i)\n",
    "    else:\n",
    "        number = str(i)\n",
    "    new_name = '{}_{}_{}.mp4'.format(prefix,number,short_name)\n",
    "    print('{} -> {}'.format(name,new_name))\n",
    "    os.rename(name,new_name)"
   ]
  },
  {
   "cell_type": "markdown",
   "metadata": {},
   "source": [
    "### Чтение логов с удаленного сервера SFTP (stat_GrayLog.log)"
   ]
  },
  {
   "cell_type": "code",
   "execution_count": null,
   "metadata": {},
   "outputs": [],
   "source": [
    "import paramiko\n",
    "print_lines = 10\n",
    "host = '172.19.11.191'\n",
    "user = 'pavel'\n",
    "secret = 'RzAZPjMjvujCPjU88bpevQp'\n",
    "file_path_name = '/home/tracer/LOG/stat_GrayLog.log'\n",
    "port = 22\n",
    "client = paramiko.SSHClient()\n",
    "client.set_missing_host_key_policy(paramiko.AutoAddPolicy())\n",
    "client.connect(hostname=host, username=user, password=secret, port=port)\n",
    "sftp_client = client.open_sftp()\n",
    "remote_file = sftp_client.open(file_path_name)\n",
    "try:\n",
    "    #for line in remote_file:\n",
    "    for i,line in enumerate(reversed(list(remote_file))):\n",
    "        if i < print_lines:\n",
    "            print(i,line,end='')\n",
    "        else:\n",
    "            break\n",
    "finally:\n",
    "    remote_file.close()\n",
    "client.close()\n",
    "# (https://stackoverflow.com/questions/1596963/read-a-file-from-server-with-ssh-using-python)"
   ]
  },
  {
   "cell_type": "markdown",
   "metadata": {},
   "source": [
    "### Pricing counting"
   ]
  },
  {
   "cell_type": "code",
   "execution_count": 361,
   "metadata": {},
   "outputs": [
    {
     "name": "stdout",
     "output_type": "stream",
     "text": [
      "Price P4\n",
      "Price 1.2            : [0.1728, 0.0, 0.228, 0.08073]\n",
      "Price 1.2*1.5        : [0.2592, 0.0, 0.342, 0.121095]\n",
      "Price 1.2*1.5*1.15   : [0.29808, 0.0, 0.3933, 0.139259]\n",
      "Price 1.2*1.5*1.30   : [0.33696, 0.0, 0.4446, 0.157423]\n",
      "Price 2              : [0.3456, 0.0, 0.456, 0.16146]\n",
      "\n",
      "Price Partner\n",
      "Price 1.5            : [0.216, 0.0, 0.285, 0.100912]\n",
      "Price 1.5*1.15       : [0.2484, 0.0, 0.32775, 0.116049]\n",
      "Price 1.5*1.30       : [0.2808, 0.0, 0.3705, 0.131186]\n",
      "Price 2              : [0.288, 0, 0.38, 0.13455]\n"
     ]
    }
   ],
   "source": [
    "moc=0.144\n",
    "mtc=0\n",
    "text=0.19\n",
    "data=0.0672749999999999\n",
    "\n",
    "tariff=[moc,mtc,text,data]\n",
    "\n",
    "print(\"Price P4\")\n",
    "for k,v in {'1.2':1.2,'1.2*1.5':1.2*1.5,'1.2*1.5*1.15':1.2*1.5*1.15,'1.2*1.5*1.30':1.2*1.5*1.30,'2':1.2*2}.items():\n",
    "    print(\"Price {:<15}:\".format(k),[round(i*v,6) for i in tariff])\n",
    "print(\"\\nPrice Partner\")\n",
    "for k,v in {'1.5':1.5,'1.5*1.15':1.5*1.15,'1.5*1.30':1.5*1.30,'2':2}.items():\n",
    "    print(\"Price {:<15}:\".format(k),[round(i*v,6) for i in tariff])"
   ]
  },
  {
   "cell_type": "markdown",
   "metadata": {},
   "source": [
    "## Testing"
   ]
  },
  {
   "cell_type": "code",
   "execution_count": 573,
   "metadata": {},
   "outputs": [],
   "source": [
    "import mglearn\n",
    "from sklearn.model_selection import train_test_split\n",
    "import matplotlib.pyplot as plt\n",
    "from sklearn.linear_model import LogisticRegression\n",
    "from sklearn.svm import LinearSVC\n",
    "import numpy as np\n",
    "import pandas as pd\n",
    "from pandas import DataFrame,Series"
   ]
  },
  {
   "cell_type": "code",
   "execution_count": 644,
   "metadata": {
    "scrolled": false
   },
   "outputs": [
    {
     "name": "stdout",
     "output_type": "stream",
     "text": [
      "Курс EUR на составляет: 75,6711 RUB\n"
     ]
    }
   ],
   "source": [
    "import requests\n",
    "from bs4 import BeautifulSoup\n",
    "resp = requests.get('http://www.cbr.ru/scripts/XML_daily.asp')\n",
    "soup = BeautifulSoup(resp.content,'xml')\n",
    "eur = soup.find(ID='R01239').Value.string\n",
    "print('Курс EUR на составляет: {} RUB'.format(eur))"
   ]
  },
  {
   "cell_type": "code",
   "execution_count": 78,
   "metadata": {},
   "outputs": [
    {
     "name": "stdout",
     "output_type": "stream",
     "text": [
      "0b11111010000\n",
      "250 - 0\n",
      "0b0 0b11001 0b0\n"
     ]
    },
    {
     "data": {
      "text/plain": [
       "1615"
      ]
     },
     "execution_count": 78,
     "metadata": {},
     "output_type": "execute_result"
    }
   ],
   "source": [
    "int('f91e',16)\n",
    "hex(11025)\n",
    "int('2911',16)\n",
    "int('11111111111111111111111111111111',2)\n",
    "\n",
    "print(bin(2000))\n",
    "print(int('11111010',2),'-',int('0',2))\n",
    "print(bin(0),bin(25),bin(0))\n",
    "int('11001001111',2)"
   ]
  },
  {
   "cell_type": "code",
   "execution_count": 172,
   "metadata": {},
   "outputs": [],
   "source": [
    "import requests\n",
    "from pandas import DataFrame\n",
    "from bs4 import BeautifulSoup\n",
    "url = 'http://roamdb.roamability.com/SteeringAPI/Test'\n",
    "payload = {'SponsorIMSI':'425019613990511',\n",
    "           'RealIMSI':'425019613990511',\n",
    "           'Mcc':'262',\n",
    "           'SessionID':'1234567'}\n",
    "response = requests.post(url,payload)\n",
    "soup = BeautifulSoup(response.text, 'xml')\n",
    "net_list = []\n",
    "for net in soup.find_all('Network'):\n",
    "    net_list.append([net.Rank.text,net.Mcc.text,net.Mnc.text,net.Name.text,net.Support4G.text,net.Discounted.text,net.Cost.text])\n",
    "df = DataFrame(net_list,columns=['Rank','MCC','MNC','Operator_name','4G_Support','Discounted','Cost'])\n",
    "df.to_html(join(downloads,'home.html'))"
   ]
  },
  {
   "cell_type": "code",
   "execution_count": 27,
   "metadata": {},
   "outputs": [],
   "source": [
    "DataFrame({'name':['Alarm Description','NOC Procedures'],'link':['l1','l2']}).to_html(join(downloads,'docs.html'),index=False)"
   ]
  },
  {
   "cell_type": "code",
   "execution_count": 697,
   "metadata": {},
   "outputs": [],
   "source": [
    "%reset -f"
   ]
  }
 ],
 "metadata": {
  "kernelspec": {
   "display_name": "Python 3",
   "language": "python",
   "name": "python3"
  },
  "language_info": {
   "codemirror_mode": {
    "name": "ipython",
    "version": 3
   },
   "file_extension": ".py",
   "mimetype": "text/x-python",
   "name": "python",
   "nbconvert_exporter": "python",
   "pygments_lexer": "ipython3",
   "version": "3.6.3"
  }
 },
 "nbformat": 4,
 "nbformat_minor": 2
}
