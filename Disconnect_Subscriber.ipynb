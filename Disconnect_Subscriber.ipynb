{
 "cells": [
  {
   "cell_type": "markdown",
   "metadata": {},
   "source": [
    "# Disconnect subscribers in OCS and DMI by Soap API request"
   ]
  },
  {
   "cell_type": "code",
   "execution_count": 1,
   "metadata": {},
   "outputs": [
    {
     "data": {
      "text/html": [
       "<script>\n",
       "code_show=true; \n",
       "function code_toggle() {\n",
       " if (code_show){\n",
       " $('div.input').hide();\n",
       " } else {\n",
       " $('div.input').show();\n",
       " }\n",
       " code_show = !code_show\n",
       "} \n",
       "$( document ).ready(code_toggle);\n",
       "</script>\n",
       "<form action=\"javascript:code_toggle()\"><input type=\"submit\" value=\"Click here to toggle on/off the raw code.\"></form>"
      ],
      "text/plain": [
       "<IPython.core.display.HTML object>"
      ]
     },
     "execution_count": 1,
     "metadata": {},
     "output_type": "execute_result"
    }
   ],
   "source": [
    "from IPython.display import HTML\n",
    "HTML('''<script>\n",
    "code_show=true; \n",
    "function code_toggle() {\n",
    " if (code_show){\n",
    " $('div.input').hide();\n",
    " } else {\n",
    " $('div.input').show();\n",
    " }\n",
    " code_show = !code_show\n",
    "} \n",
    "$( document ).ready(code_toggle);\n",
    "</script>\n",
    "<form action=\"javascript:code_toggle()\"><input type=\"submit\" value=\"Click here to toggle on/off the raw code.\"></form>''')"
   ]
  },
  {
   "cell_type": "markdown",
   "metadata": {},
   "source": [
    "## Step 1. Import libraries"
   ]
  },
  {
   "cell_type": "code",
   "execution_count": 10,
   "metadata": {
    "scrolled": true
   },
   "outputs": [
    {
     "name": "stderr",
     "output_type": "stream",
     "text": [
      "2018-09-19 17:57:35,124 - disconnect_subs - INFO - Step 1. Import libraries. Start.\n",
      "2018-09-19 17:57:35,125 - disconnect_subs - INFO - Libraries imported successfully.\n",
      "2018-09-19 17:57:35,127 - disconnect_subs - INFO - Programm version: 0.1.4\n",
      "2018-09-19 17:57:35,128 - disconnect_subs - DEBUG - Dirrectory: C:\\Users\\balob\\Documents\\GITLAB\\NOC_Procedures\n",
      "2018-09-19 17:57:35,130 - disconnect_subs - INFO - Step 1. End.\n"
     ]
    }
   ],
   "source": [
    "#python3\n",
    "#Author: pavel@roamability.com\n",
    "\n",
    "import numpy as np\n",
    "import pandas as pd\n",
    "from pandas import DataFrame,Series\n",
    "from zeep import Client\n",
    "from zeep.wsse.username import UsernameToken\n",
    "import time\n",
    "from datetime import datetime\n",
    "import logging\n",
    "from importlib import reload\n",
    "from pathlib import Path\n",
    "import pandas as pd\n",
    "import pyodbc\n",
    "from importlib import reload\n",
    "from sys import exit\n",
    "reload(logging)\n",
    "\n",
    "reload(logging)\n",
    "logger = logging.getLogger('disconnect_subs')\n",
    "logger.setLevel(logging.DEBUG)\n",
    "ch = logging.StreamHandler()\n",
    "ch.setLevel(logging.DEBUG)\n",
    "formatter = logging.Formatter('%(asctime)s - %(name)s - %(levelname)s - %(message)s')\n",
    "ch.setFormatter(formatter)\n",
    "logger.addHandler(ch)\n",
    "\n",
    "noc_procedures_log_file = './LOG/noc_procedures.log'\n",
    "\n",
    "fh = logging.FileHandler(noc_procedures_log_file)\n",
    "fh.setLevel(logging.DEBUG)\n",
    "fh.setFormatter(formatter)\n",
    "logger.addHandler(fh)\n",
    "\n",
    "version = '0.1.4'\n",
    "\n",
    "logger.info('Step 1. Import libraries. Start.')\n",
    "\n",
    "#Check csv file separator\n",
    "def check_csv_file_separator(file_name):\n",
    "    with open(file_name) as inf:\n",
    "        s1=inf.readline()\n",
    "    if s1.find(';')>0:\n",
    "        csv_sep = ';'\n",
    "    elif s1.find(',')>0:\n",
    "        csv_sep = ','\n",
    "    else:\n",
    "        logger.error('Wrong {} file format'.format(file_name))\n",
    "    return csv_sep\n",
    "\n",
    "logger.info('Libraries imported successfully.')\n",
    "logger.info('Programm version: {}'.format(version))\n",
    "logger.debug('Dirrectory: {}'.format(Path.cwd()))\n",
    "logger.info('Step 1. End.')"
   ]
  },
  {
   "cell_type": "markdown",
   "metadata": {},
   "source": [
    "## Step 2. Precautions before the beginning\n",
    "##### 1. In the cell below set the connect variable as 'prod' or 'lab' depending of where to connect.<br>\n",
    "Apply apropriate reseller to username prod_api@roamability.com in OCS Portal.\n",
    "##### 2. Create a csv file with subscriber_id and imsi without headings. For example:\n",
    "718755;724540540346789<br>\n",
    "730932;724540540425234<br>\n",
    "\n",
    "An example of SQL to generate the file:<br>\n",
    "USE [10028];<br>\n",
    "GO<br>\n",
    "SELECT s.subscriber_id,si.imsi<br>\n",
    "FROM SUBSCRIBERS s<br>\n",
    "LEFT JOIN SUBSCRIBER_IMSIS si<br>\n",
    "ON s.subscriber_id=si.subscriber_id<br>\n",
    "LEFT JOIN SUBSCRIBER_STATUS ss<br>\n",
    "ON s.subscriber_id=ss.subscriber_id<br>\n",
    "WHERE s.account_id=352363 --AccountID<br>\n",
    "AND ss.end_date IS NULL<br>\n",
    "AND ss.STATUS = 'Active'<br>\n",
    "\n",
    "##### 3. Name the file as 'IMSI_list_to_disconnect.csv' and put it in ./DATA folder inthe same dirrectory with this Jupyter notebook."
   ]
  },
  {
   "cell_type": "markdown",
   "metadata": {},
   "source": [
    "## Step 3. Pre-Check\n",
    "#### Choose connection either prod or lab"
   ]
  },
  {
   "cell_type": "code",
   "execution_count": 11,
   "metadata": {
    "scrolled": true
   },
   "outputs": [
    {
     "name": "stderr",
     "output_type": "stream",
     "text": [
      "2018-09-19 17:57:41,226 - disconnect_subs - INFO - Step 3. Pre-Check. Start.\n"
     ]
    },
    {
     "name": "stdout",
     "output_type": "stream",
     "text": [
      "Choose connection (prod or lab):lab\n"
     ]
    },
    {
     "name": "stderr",
     "output_type": "stream",
     "text": [
      "2018-09-19 17:57:44,151 - disconnect_subs - INFO - Your current connection is: lab\n",
      "2018-09-19 17:57:44,152 - disconnect_subs - DEBUG - Creating connection to OCS by Soap API\n",
      "2018-09-19 17:57:44,613 - disconnect_subs - DEBUG - Getting Reselle and Account info from OCS by Soap API\n",
      "2018-09-19 17:57:45,012 - disconnect_subs - DEBUG - Getting Reselle and Account info from OCS by Soap API done\n",
      "2018-09-19 17:57:45,017 - disconnect_subs - DEBUG - Start reading file.\\DATA\\IMSI_list_to_disconnect.csv\n",
      "2018-09-19 17:57:45,035 - disconnect_subs - DEBUG - End reading file.\\DATA\\IMSI_list_to_disconnect.csv\n",
      "2018-09-19 17:57:45,040 - disconnect_subs - DEBUG - Checking subscribers in OCS by Soap API\n"
     ]
    },
    {
     "name": "stdout",
     "output_type": "stream",
     "text": [
      "You are connected to Reseller: SecureGroup RT.    \n",
      "Available credit for the Reseller: -0 USD.\n",
      "\n",
      "The Reseller contains the following accounts:\n",
      " 0    Secure Groip Sim-cards (accountID: 352363)\n"
     ]
    },
    {
     "name": "stderr",
     "output_type": "stream",
     "text": [
      "2018-09-19 17:57:46,812 - disconnect_subs - DEBUG - Checking subscribers in OCS by Soap API done\n",
      "2018-09-19 17:57:46,828 - disconnect_subs - INFO - Step 3. End.\n"
     ]
    },
    {
     "name": "stdout",
     "output_type": "stream",
     "text": [
      "\n",
      "Given list of IMSIs contains:\n",
      "In account 'Secure Groip Sim-cards' 12 subscriber(s) in status 'Active'\n",
      "Total subscribers: 12\n"
     ]
    }
   ],
   "source": [
    "logger.info('Step 3. Pre-Check. Start.')\n",
    "\n",
    "connect=input(\"Choose connection (prod or lab):\")\n",
    "if connect in ['lab','prod']:\n",
    "    logger.info('Your current connection is: {}'.format(connect))\n",
    "else:\n",
    "    logger.error('You have put the wrong connection: {}'.format(connect))\n",
    "    exit('You have put the wrong connection: {}'.format(connect))\n",
    "    \n",
    "imsi_file = '.\\DATA\\IMSI_list_to_disconnect.csv'\n",
    "\n",
    "if connect == 'lab':\n",
    "    user = 'lab_api@roamability.com'\n",
    "    password = 'E10ADC3949BA59ABBE56E057F20F883E' #Lab\n",
    "    api_link = 'http://172.20.39.7:8585/ocsapi/roamability/api/roamability.wsdl' #Lab\n",
    "elif connect == 'prod':\n",
    "    user = 'prod_api@roamability.com'\n",
    "    password = '25D55AD283AA400AF464C76D713C07AD'\n",
    "    api_link = 'http://172.20.35.12:8585/ocsapi/roamability/api/roamability.wsdl'\n",
    "\n",
    "user_name_token = UsernameToken(user, password)\n",
    "user_name_token.use_digest = True\n",
    "logger.debug('Creating connection to OCS by Soap API')\n",
    "client = Client(api_link, wsse=user_name_token)\n",
    "\n",
    "logger.debug('Getting Reselle and Account info from OCS by Soap API')\n",
    "reseller = client.service.getResellerInfo()\n",
    "accounts = client.service.getAccounts()\n",
    "\n",
    "if reseller.result.code == '1':\n",
    "    print('You are connected to Reseller: {}.\\\n",
    "    \\nAvailable credit for the Reseller: {:.0f} USD.\\n'.\\\n",
    "    format(reseller.reseller.resellerName,reseller.reseller.availableCredit))\n",
    "else:\n",
    "    logger.error('Error in getting Reseller info: {}'.format(reseller.result.description))\n",
    "\n",
    "if accounts.result.code == '1':\n",
    "    accounts_dict = {account.accountId:account.accountName for account in accounts.accounts.accounts}\n",
    "    print('The Reseller contains the following accounts:')\n",
    "    for i,[account_id,account_name] in enumerate(accounts_dict.items()):\n",
    "        print(' {:<5}{} (accountID: {})'.format(i,account_name,account_id))\n",
    "else:\n",
    "    logger.error('Error in getting Account info: {}'.format(accounts.result.description))\n",
    "\n",
    "logger.debug('Getting Reselle and Account info from OCS by Soap API done')\n",
    "logger.debug('Start reading file' + imsi_file)\n",
    "\n",
    "csv_sep = check_csv_file_separator(imsi_file)\n",
    "\n",
    "try:\n",
    "    df_imsi = pd.read_csv(imsi_file,sep=';',\\\n",
    "                      names=('subscriber_id','imsi','status','accountId','accountName','new_status','rep_time'))\n",
    "except:\n",
    "    logger.error('The file {} was not found or contains errors.'.format(imsi_file))\n",
    "logger.debug('End reading file' + imsi_file)\n",
    "\n",
    "if df_imsi[['subscriber_id','imsi']].isnull().values.any():\n",
    "    logger.error('The file {} has wrong format'.format(imsi_file))\n",
    "    exit('The file {} has wrong format'.format(imsi_file))\n",
    "logger.debug('Checking subscribers in OCS by Soap API')\n",
    "\n",
    "for i in df_imsi['subscriber_id']:\n",
    "    subscriber = client.service.getSubscriberById(i)\n",
    "    if subscriber.result.code == '1':\n",
    "        df_imsi.loc[df_imsi['subscriber_id']==i,['status','accountId','accountName']]=\\\n",
    "        [subscriber.subscriber.status,subscriber.subscriber.accountId,accounts_dict[subscriber.subscriber.accountId]]\n",
    "    else:\n",
    "        df_imsi.loc[df_imsi['subscriber_id']==i,['status']]=subscriber.result.description\n",
    "df_imsi['accountName'].fillna('Unk',inplace=True)\n",
    "logger.debug('Checking subscribers in OCS by Soap API done')\n",
    "\n",
    "df1=df_imsi['subscriber_id'].groupby([df_imsi['status'],df_imsi['accountName']]).count()\n",
    "print('\\nGiven list of IMSIs contains:')\n",
    "total_sibscribers = 0\n",
    "for i_st,i_ac,v in zip(df1.index.get_level_values('status'),df1.index.get_level_values('accountName'),df1.values):\n",
    "    print('In account \\'{}\\' {} subscriber(s) in status \\'{}\\''.format(i_ac,v,i_st))\n",
    "    total_sibscribers += v\n",
    "print('Total subscribers: {}'.format(total_sibscribers))\n",
    "try:\n",
    "    df_imsi['accountId'] = df_imsi['accountId'].astype('int64')\n",
    "except:\n",
    "    logger.error('The DataFrame has objects in accountId.')\n",
    "logger.info('Step 3. End.')"
   ]
  },
  {
   "cell_type": "markdown",
   "metadata": {},
   "source": [
    "## Step 4. Installation\n",
    "Run this step **ONLY** if all previous steps completed with success.<br>"
   ]
  },
  {
   "cell_type": "code",
   "execution_count": 12,
   "metadata": {
    "scrolled": true
   },
   "outputs": [
    {
     "name": "stderr",
     "output_type": "stream",
     "text": [
      "2018-09-19 17:57:58,105 - disconnect_subs - INFO - Step 4. Installation. Start.\n"
     ]
    },
    {
     "name": "stdout",
     "output_type": "stream",
     "text": [
      "You are going to disconnest the subscribers in lab. Type Y to continue:Y\n",
      "10    Subscribers processed elapsed time 0:00:03.861717\n"
     ]
    },
    {
     "name": "stderr",
     "output_type": "stream",
     "text": [
      "2018-09-19 17:58:02,237 - disconnect_subs - INFO - All done. 12 subscribers processed.\n",
      "Total elapsed time 0:00:04.131993\n",
      "2018-09-19 17:58:02,238 - disconnect_subs - INFO - Log file .\\LOG\\Log_Disconnect_sub_20180919175802.csv saved with success.\n"
     ]
    },
    {
     "name": "stdout",
     "output_type": "stream",
     "text": [
      "The first 5 rows of the log list:\n"
     ]
    },
    {
     "data": {
      "text/html": [
       "<div>\n",
       "<style scoped>\n",
       "    .dataframe tbody tr th:only-of-type {\n",
       "        vertical-align: middle;\n",
       "    }\n",
       "\n",
       "    .dataframe tbody tr th {\n",
       "        vertical-align: top;\n",
       "    }\n",
       "\n",
       "    .dataframe thead th {\n",
       "        text-align: right;\n",
       "    }\n",
       "</style>\n",
       "<table border=\"1\" class=\"dataframe\">\n",
       "  <thead>\n",
       "    <tr style=\"text-align: right;\">\n",
       "      <th></th>\n",
       "      <th>subscriber_id</th>\n",
       "      <th>imsi</th>\n",
       "      <th>status</th>\n",
       "      <th>accountId</th>\n",
       "      <th>accountName</th>\n",
       "      <th>new_status</th>\n",
       "      <th>rep_time</th>\n",
       "    </tr>\n",
       "  </thead>\n",
       "  <tbody>\n",
       "    <tr>\n",
       "      <th>0</th>\n",
       "      <td>209418</td>\n",
       "      <td>425019613000620</td>\n",
       "      <td>Active</td>\n",
       "      <td>352363</td>\n",
       "      <td>Secure Groip Sim-cards</td>\n",
       "      <td>Active</td>\n",
       "      <td>2018-09-19 17:58:00.673695</td>\n",
       "    </tr>\n",
       "    <tr>\n",
       "      <th>1</th>\n",
       "      <td>209420</td>\n",
       "      <td>425019613000622</td>\n",
       "      <td>Active</td>\n",
       "      <td>352363</td>\n",
       "      <td>Secure Groip Sim-cards</td>\n",
       "      <td>Active</td>\n",
       "      <td>2018-09-19 17:58:00.813358</td>\n",
       "    </tr>\n",
       "    <tr>\n",
       "      <th>2</th>\n",
       "      <td>209422</td>\n",
       "      <td>425019613000624</td>\n",
       "      <td>Active</td>\n",
       "      <td>352363</td>\n",
       "      <td>Secure Groip Sim-cards</td>\n",
       "      <td>Active</td>\n",
       "      <td>2018-09-19 17:58:00.995859</td>\n",
       "    </tr>\n",
       "    <tr>\n",
       "      <th>3</th>\n",
       "      <td>209424</td>\n",
       "      <td>425019613000626</td>\n",
       "      <td>Active</td>\n",
       "      <td>352363</td>\n",
       "      <td>Secure Groip Sim-cards</td>\n",
       "      <td>Active</td>\n",
       "      <td>2018-09-19 17:58:01.129515</td>\n",
       "    </tr>\n",
       "    <tr>\n",
       "      <th>4</th>\n",
       "      <td>209426</td>\n",
       "      <td>425019613000628</td>\n",
       "      <td>Active</td>\n",
       "      <td>352363</td>\n",
       "      <td>Secure Groip Sim-cards</td>\n",
       "      <td>Active</td>\n",
       "      <td>2018-09-19 17:58:01.270130</td>\n",
       "    </tr>\n",
       "  </tbody>\n",
       "</table>\n",
       "</div>"
      ],
      "text/plain": [
       "   subscriber_id             imsi  status  accountId             accountName  \\\n",
       "0         209418  425019613000620  Active     352363  Secure Groip Sim-cards   \n",
       "1         209420  425019613000622  Active     352363  Secure Groip Sim-cards   \n",
       "2         209422  425019613000624  Active     352363  Secure Groip Sim-cards   \n",
       "3         209424  425019613000626  Active     352363  Secure Groip Sim-cards   \n",
       "4         209426  425019613000628  Active     352363  Secure Groip Sim-cards   \n",
       "\n",
       "  new_status                    rep_time  \n",
       "0     Active  2018-09-19 17:58:00.673695  \n",
       "1     Active  2018-09-19 17:58:00.813358  \n",
       "2     Active  2018-09-19 17:58:00.995859  \n",
       "3     Active  2018-09-19 17:58:01.129515  \n",
       "4     Active  2018-09-19 17:58:01.270130  "
      ]
     },
     "metadata": {},
     "output_type": "display_data"
    },
    {
     "name": "stderr",
     "output_type": "stream",
     "text": [
      "2018-09-19 17:58:02,261 - disconnect_subs - INFO - Step 4. End.\n"
     ]
    }
   ],
   "source": [
    "start_time = datetime.now()\n",
    "logger.info('Step 4. Installation. Start.')\n",
    "\n",
    "modify_agreement=input('You are going to disconnest the subscribers in {}. Type Y to continue:'.format(connect))\n",
    "if modify_agreement != 'Y':\n",
    "    logger.info('Stop executing Step 4.')\n",
    "    exit('Stop executing Step 4.')\n",
    "\n",
    "for j,subscriber_id in enumerate(df_imsi[df_imsi['status']=='Active']['subscriber_id']):\n",
    "    \n",
    "    try:\n",
    "        disc_subscriber = client.service.disconnectSubscriber(subscriber_id)\n",
    "        #disc_subscriber = client.service.getSubscriberById(subscriber_id)\n",
    "    except:\n",
    "        logger.error('The procedure ended with an unknown error on the row: {}'.format(j))\n",
    "        log_file_name = '.\\LOG\\Log_Disconnect_sub_' + datetime.now().strftime(\"%Y%m%d%H%M%S\") + '_error.csv'\n",
    "        df_msisdn.to_csv(log_file_name,index=False)\n",
    "        logger.info('Log file {} saved with success.'.format(log_file_name))\n",
    "        exit('Stop executing Step 4 with error.')\n",
    "    if disc_subscriber.result.code == '1':\n",
    "        df_imsi.loc[df_imsi['subscriber_id']==subscriber_id,['new_status','rep_time']]=\\\n",
    "        [disc_subscriber.subscriber.status,datetime.now()]\n",
    "    else:\n",
    "        df_imsi.loc[df_imsi['subscriber_id']==subscriber_id,['new_status','rep_time']]=\\\n",
    "        [disc_subscriber.result.description,datetime.now()]\n",
    "    if ((j+1) % 10) == 0:\n",
    "        print('{:<5} Subscribers processed elapsed time {}'.format(j+1,datetime.now() - start_time))\n",
    "    if ((j+1) % 100) == 0:\n",
    "        print('Sleep for 10 sec.')\n",
    "        time.sleep(10)\n",
    "logger.info('All done. {} subscribers processed.\\nTotal elapsed time {}'.format(j+1,datetime.now() - start_time))\n",
    "log_file_name = '.\\LOG\\Log_Disconnect_sub_' + datetime.now().strftime(\"%Y%m%d%H%M%S\") + '.csv'\n",
    "logger.info('Log file {} saved with success.'.format(log_file_name))\n",
    "df_imsi.to_csv(log_file_name,index=False)\n",
    "print('The first 5 rows of the log list:')\n",
    "display(df_imsi.head())\n",
    "logger.info('Step 4. End.')\n",
    "%reset -f"
   ]
  }
 ],
 "metadata": {
  "kernelspec": {
   "display_name": "Python 3",
   "language": "python",
   "name": "python3"
  },
  "language_info": {
   "codemirror_mode": {
    "name": "ipython",
    "version": 3
   },
   "file_extension": ".py",
   "mimetype": "text/x-python",
   "name": "python",
   "nbconvert_exporter": "python",
   "pygments_lexer": "ipython3",
   "version": "3.6.3"
  }
 },
 "nbformat": 4,
 "nbformat_minor": 2
}
