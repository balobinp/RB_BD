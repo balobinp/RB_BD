{
 "cells": [
  {
   "cell_type": "markdown",
   "metadata": {},
   "source": [
    "### Переименование файлов"
   ]
  },
  {
   "cell_type": "code",
   "execution_count": null,
   "metadata": {},
   "outputs": [],
   "source": [
    "import os\n",
    "import re\n",
    "path = r'c:\\Users\\balobin.p\\Downloads\\VideoYouTube'\n",
    "prefix = 'Jenk'\n",
    "os.chdir(path)\n",
    "names = sorted(filter(os.path.isfile, os.listdir('.')), key=os.path.getmtime)\n",
    "max_len = max(map(len, names))+3\n",
    "for i, name in enumerate(names):\n",
    "    short_name = re.sub('[!#?姣,() \\+\\-?|¦«–&\\[\\]\"“;\\'.؟»”]','',name[0:-4:][0:53])\n",
    "    i += 1\n",
    "    if i < 10:\n",
    "        number = '00' + str(i)\n",
    "    elif i > 9 and i <= 99:\n",
    "        number = '0' + str(i)\n",
    "    else:\n",
    "        number = str(i)\n",
    "    new_name = '{}_{}_{}.mp4'.format(prefix, number,short_name)\n",
    "    print('{:85} -> {}'.format(name,new_name))\n",
    "    os.rename(name,new_name)"
   ]
  }
 ],
 "metadata": {
  "kernelspec": {
   "display_name": "Python 3",
   "language": "python",
   "name": "python3"
  },
  "language_info": {
   "codemirror_mode": {
    "name": "ipython",
    "version": 3
   },
   "file_extension": ".py",
   "mimetype": "text/x-python",
   "name": "python",
   "nbconvert_exporter": "python",
   "pygments_lexer": "ipython3",
   "version": "3.6.9"
  }
 },
 "nbformat": 4,
 "nbformat_minor": 2
}
