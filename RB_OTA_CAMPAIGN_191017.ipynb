{
 "cells": [
  {
   "cell_type": "markdown",
   "metadata": {},
   "source": [
    "### OTA campaign to send MCCMAP list 250:02"
   ]
  },
  {
   "cell_type": "code",
   "execution_count": 1,
   "metadata": {},
   "outputs": [],
   "source": [
    "import http.client\n",
    "import xml.etree.ElementTree as ET\n",
    "from os.path import join\n",
    "import pandas as pd\n",
    "\n",
    "def executeHTTP(request, url, path):\n",
    "    client = http.client.HTTPConnection(url)\n",
    "    client.request(\"POST\", path, request, {\"Content-Type\": \"text/xml\"})\n",
    "    resp = client.getresponse()\n",
    "    return resp.read()\n",
    "\n",
    "def sri4sm(ogt, msisdn):\n",
    "    req = \"\"\"<?xml version=\\\"1.0\\\"?>\n",
    "        <ss7gw request=\\\"SRI_SM\\\">\n",
    "        <d_ssn>6</d_ssn>\n",
    "        <o_ssn>8</o_ssn>\n",
    "        <o_gt>%s</o_gt>\n",
    "        <d_gt>%s</d_gt>\n",
    "        <msisdn>%s</msisdn>\n",
    "        <priority>1</priority>\n",
    "        <address>%s</address>\n",
    "        </ss7gw>\"\"\" % (ogt, msisdn, msisdn, ogt)\n",
    "\n",
    "    resp = executeHTTP(req, ss7_url, ss7_path)\n",
    "    \n",
    "    tree = ET.fromstring(resp)\n",
    "    \n",
    "    srifsm_dict = {'msisdn': msisdn,\n",
    "                    'cgpa': ogt,\n",
    "                    'result': '',\n",
    "                    'imsi': '',\n",
    "                    'msc': '',\n",
    "                    'b_cgpa': '',\n",
    "                    'error': '',\n",
    "                    'content': resp}\n",
    "\n",
    "    for child in tree.iter():\n",
    "        if child.tag == 'result':\n",
    "            srifsm_dict['result'] = child.text\n",
    "        if child.tag == 'imsi':\n",
    "            srifsm_dict['imsi'] = child.text\n",
    "        if child.tag == 'msc':\n",
    "            srifsm_dict['msc'] = child.text\n",
    "        if child.tag == 'src_gt':\n",
    "            srifsm_dict['b_cgpa'] = child.text\n",
    "        if child.tag == 'error':\n",
    "            srifsm_dict['error'] = child.text\n",
    "\n",
    "    return srifsm_dict\n",
    "\n",
    "def sendSMS(ogt, imsi, msc, payload):\n",
    "    req = \"\"\"<ss7gw request=\\\"MTSMS_OTA\\\">\n",
    "        <d_ssn>8</d_ssn>\n",
    "        <o_ssn>8</o_ssn>\n",
    "        <o_gt>%s</o_gt>\n",
    "        <d_gt>%s</d_gt>\n",
    "        <imsi>%s</imsi>\n",
    "        <password>123</password>\n",
    "        <sc_number>%s</sc_number>\n",
    "        <key_id>1</key_id>\n",
    "        <command>1</command>\n",
    "        <corr_id>1</corr_id>\n",
    "        <seed>1122</seed>\n",
    "        <msisdn>972559300036</msisdn>\n",
    "        <message>%s</message>\n",
    "        <sms_imsi>%s</sms_imsi>\n",
    "        <map>3</map>\n",
    "        </ss7gw>\"\"\" % (ogt, msc, imsi, ogt, payload, imsi)\n",
    "    resp = executeHTTP(req, ss7_url, ss7_path)\n",
    "    \n",
    "    tree = ET.fromstring(resp)\n",
    "    \n",
    "    mtfsm_dict = {'result': '',\n",
    "                 'b_cgpa': '',\n",
    "                 'error': '',\n",
    "                 'mccmnc': '',\n",
    "                 'content': resp}\n",
    "\n",
    "    for child in tree:\n",
    "        if child.tag == 'error':\n",
    "            mtfsm_dict['error'] = child.text\n",
    "        if child.tag == 'result':\n",
    "            mtfsm_dict['result'] = child.text\n",
    "        if child.tag == 'src_gt':\n",
    "            mtfsm_dict['b_cgpa'] = child.text\n",
    "    \n",
    "    return mtfsm_dict\n",
    "\n",
    "def sendOTA(ogt, msisdn, payload):\n",
    "    srifsm_dict = sri4sm(ogt, msisdn)\n",
    "\n",
    "    if srifsm_dict['result'] == '0' and srifsm_dict['msc'] != cgpa:\n",
    "        mtfsm_dict = sendSMS(ogt, srifsm_dict['imsi'], srifsm_dict['msc'], payload)\n",
    "        return [srifsm_dict, mtfsm_dict]\n",
    "    elif srifsm_dict['msc'] == cgpa:\n",
    "        mtfsm_dict = {'result':'1','error':'Abroad'}\n",
    "        return [srifsm_dict, mtfsm_dict]\n",
    "    else:\n",
    "        return [srifsm_dict]\n",
    "\n",
    "def sendOTAcompaign(ogt, msisdn, mccmap_payload):\n",
    "    resp = sendOTA(ogt, msisdn, mccmap_payload)\n",
    "\n",
    "    if resp[0]['result'] == '0':\n",
    "        mt_res = 'OK' if resp[1]['result'] == '0' else resp[1]['error']\n",
    "        print(f\"cgpa:{resp[0]['cgpa']};msisdn:{resp[0]['msisdn']};imsi:{resp[0]['imsi']};msc:{resp[0]['msc']};{mt_res}\")\n",
    "    else:\n",
    "        print(f\"cgpa:{resp[0]['cgpa']};msisdn:{resp[0]['msisdn']};{resp[0]['error']}\")"
   ]
  },
  {
   "cell_type": "markdown",
   "metadata": {},
   "source": [
    "USE [10028];\n",
    "GO\n",
    "\n",
    "\n",
    "SELECT\n",
    "spn.PHONE_NUMBER\n",
    "FROM SUBSCRIBERS s\n",
    "INNER JOIN SUBSCRIBER_PHONE_NUMBERS spn ON s.subscriber_id = spn.subscriber_id\n",
    "INNER JOIN ACCOUNTS a ON s.account_id = a.account_id\n",
    "INNER JOIN SUBSCRIBER_STATUS ss ON s.SUBSCRIBER_ID = ss.SUBSCRIBER_ID\n",
    "WHERE a.ACCOUNT_NAME = 'X2One test SIM-cards'\n",
    "AND ss.END_DATE IS NULL\n",
    "AND ss.status = 'Active'"
   ]
  },
  {
   "cell_type": "code",
   "execution_count": 2,
   "metadata": {},
   "outputs": [
    {
     "data": {
      "text/plain": [
       "[972000003077, 972000017640, 972000017650, 972000017725, 972000017741]"
      ]
     },
     "execution_count": 2,
     "metadata": {},
     "output_type": "execute_result"
    }
   ],
   "source": [
    "ss7_url = \"172.18.11.10\"\n",
    "ss7_path = \"/cgi-bin/ss7gw.fcgi\"\n",
    "\n",
    "downloads = 'C:/Users/balob/Downloads'\n",
    "msisdn_file = 'x2one_msisdn.csv'\n",
    "\n",
    "mccmap_payload = \"02700000270d00010000bfff0100000000000090dd53b30d1865a9c565c08aaa934e1e64ebb7816a808ecf42\" # 250:02\n",
    "cgpa = '972553316228'\n",
    "\n",
    "df_msisdn = pd.read_csv(join(downloads, msisdn_file), header=None)\n",
    "msisdn_list = df_msisdn[0][50:].to_list()\n",
    "msisdn_list[:5]"
   ]
  },
  {
   "cell_type": "code",
   "execution_count": 3,
   "metadata": {},
   "outputs": [
    {
     "data": {
      "text/plain": [
       "[972000017634]"
      ]
     },
     "execution_count": 3,
     "metadata": {},
     "output_type": "execute_result"
    }
   ],
   "source": [
    "msisdn_list= [972000017634]\n",
    "msisdn_list"
   ]
  },
  {
   "cell_type": "code",
   "execution_count": 4,
   "metadata": {},
   "outputs": [
    {
     "name": "stdout",
     "output_type": "stream",
     "text": [
      "cgpa:972553316228;msisdn:972000017634;imsi:425120000012028;msc:972571209820;OK\n"
     ]
    }
   ],
   "source": [
    "for msisdn in msisdn_list:\n",
    "    sendOTAcompaign(cgpa, msisdn, mccmap_payload)"
   ]
  }
 ],
 "metadata": {
  "kernelspec": {
   "display_name": "Python 3",
   "language": "python",
   "name": "python3"
  },
  "language_info": {
   "codemirror_mode": {
    "name": "ipython",
    "version": 3
   },
   "file_extension": ".py",
   "mimetype": "text/x-python",
   "name": "python",
   "nbconvert_exporter": "python",
   "pygments_lexer": "ipython3",
   "version": "3.6.3"
  }
 },
 "nbformat": 4,
 "nbformat_minor": 2
}
